{
 "cells": [
  {
   "cell_type": "markdown",
   "metadata": {},
   "source": [
    "# Common Features in Predictive Models for Graft Failure in Kidney Transplant\n",
    "\n",
    "The analysis of common features is based on the article of Kaboré et al. [[1](#references)].\n",
    "Their list is based on a systematic review of 39 papers."
   ]
  },
  {
   "cell_type": "markdown",
   "metadata": {},
   "source": [
    "## Results\n",
    "![image](../img/predictors-figure-2.png \"Commonly used Predictors\")\n",
    "\n",
    "They differentiate between predictors related to the recipient, the transplantation (surgery) and donor information.\n",
    "In this visualization the authors do not indicate the timeframe of the features.\n",
    "Their paper elaborates that some factors are taken before or during the transplant, like information on the recipient, whereas other such as eGFR/creatinine are measured in the week after the transplant.\n",
    "While this could be an indicator for the graft function, we decided to only include data before the transplantation into our models.\n",
    "\n",
    "For further consideration, I transformed the figure into a table and added information on time of measurement and availability in MSDW.\n",
    "\n",
    "| Group | Name | Number of mentions | Time relative to transplantation | Available in MSDW |\n",
    "|-------|------|--------------------|----------------------------------|-------------------|\n",
    "| Recipient | Age | 29 | - | + |\n",
    "| Recipient | Gender | 16 | - | + |\n",
    "| Recipient | Race | 13 | - | + |\n",
    "| Recipient | Diabetes | 13 | - | + |\n",
    "| Recipient | Smoking Status | 6 | - | + |\n",
    "| Recipient | History of Angina | 3 | - | + |\n",
    "| Recipient | Charlson Comorbidity Index | 4 | - | ? |\n",
    "| Recipient | Duration of dialysis | 9 | - | ? |\n",
    "| Recipient | Hypertension history | 9 | - | + |\n",
    "| Recipient | BMI or Height/Weight | 14 | - | + |\n",
    "| Recipient | Number of previous transplant | 5 | - | + |\n",
    "| Recipient | Proteinurea | 5 | + | + |\n",
    "| Recipient | Davies index | 2 | - | ? |\n",
    "| Recipient | Time on waiting list | 4 | - | ? |\n",
    "| Recipient | Creatinine / eGFR | 12 | + | + |\n",
    "| Recipient | Serum albumin | 5 | ? | + |\n",
    "| Recipient | Primary source of Payment | 5 | - | ? |\n",
    "| Recipient | Cardiovascular disease | 11 | - | + |\n",
    "| Recipient | Wright-Khan index | 2 | - | ? |\n",
    "| Recipient | Cause of ESRD | 10 | - | ? |\n",
    "| Recipient | Pre-transplant dialysis (yes/no) | 8 | - | + |\n",
    "| Transplantation | Previous transplant | 3 | -  | + |\n",
    "| Transplantation | Hepatitis C antibodies | 3 | - | + |\n",
    "| Transplantation | Peak panel-reactive antibody | 6 | - | ? |\n",
    "| Transplantation | Acute rejection | 7 | + | + |\n",
    "| Transplantation | HLA-DR mismatch | 15 | - | ? |\n",
    "| Transplantation | Immunosuppresseur regimen | 5 | - | + |\n",
    "| Transplantation | Graft cold schemia time | 7 | - | ? |\n",
    "| Transplantation | Year of transplantation | 6 | - | + (but effort) |\n",
    "| Transplantation | Delayed graft function | 6 | + | + |\n",
    "| Transplantation | CMV serology | 3 | - | ?/+ |\n",
    "| Transplantation | Acute tubular necrosis | 3 | + | + |\n",
    "| Donor | Gender | 8 | - | ? | ? |\n",
    "| Donor | BMI or Height/Weight | 7 | - | ? | ? |\n",
    "| Donor | Serum creatinine | 4 | - | ? | ? |\n",
    "| Donor | Age | 16 | -  | ? | ? |\n",
    "| Donor | History of Hypertension | 5 | - | ? | ? |\n",
    "| Donor | Cause of death | 9 | - | ? | ? |\n",
    "| Donor | Type | 8 | - | ? | ? |\n",
    "| Donor | Race | 11 | - | ? | ? |"
   ]
  },
  {
   "cell_type": "markdown",
   "metadata": {},
   "source": [
    "## Feature Hunting\n",
    "\n",
    "As we want accurate models, we will build on the aforementioned list of common features and find as many as possible in MSDW.\n",
    "We will also give an estimate how reproducible the features are in other patient cohorts."
   ]
  },
  {
   "cell_type": "code",
   "execution_count": null,
   "metadata": {
    "scrolled": false
   },
   "outputs": [],
   "source": [
    "%run 00_load_cohort.ipynb"
   ]
  },
  {
   "cell_type": "markdown",
   "metadata": {},
   "source": [
    "### Recipient Features\n",
    "\n",
    "| Name | Source in MSDW | Ease of Reproducibility | \n",
    "|------|----------------|-------------------------|\n",
    "| Age | `age_in_days` | +++ |\n",
    "| Gender | `gender` | +++ |\n",
    "| Race | `race` | ++ |\n",
    "| Diabetes | from condition store with ICD-9 and ICD-10 | ++ |\n",
    "| Smoking Status | from metadata | - |\n",
    "| History of Angina | self-derived ICD-9 and ICD-10 codes | ++ |\n",
    "| Charlson Comorbidity Index | *not found* | --- |\n",
    "| Duration of dialysis | self-derived ICD-9 and ICD-10, transformed into length (proxy) | + |\n",
    "| Hypertension history | from condition store with ICD-9 and ICD-10 | ++ |\n",
    "| BMI or Height/Weight | both possible, but lots of miscodings | + |\n",
    "| Number of previous transplant | possible with precondition method (via CPT-4 code definition of cohort) | ++ |\n",
    "| Proteinuria | self-derived ICD-9 and ICD-10 codes; however, the authors only report it as predictor after tx | ++ |\n",
    "| Davies index | *not found* | --- |\n",
    "| Time on waiting list | n/a | --- |\n",
    "| Creatinine / eGFR | available from EPIC Lab; however, the authors only report it as predictor after tx | +++ |\n",
    "| Serum albumin | available from EPIC Lab;  | +++|\n",
    "| Primary source of Payment | *not ingested* | - |\n",
    "| Cardiovascular disease | *underspecified* but could be made available with list of codes | ? |\n",
    "| Wright-Khan index | *not found* | --- |\n",
    "| Cause of ESRD | n/a; however length, could be made available via ICD-9 / ICD-10 codes| --- (++) |\n",
    "| Pre-transplant dialysis (yes/no) | see `Duration of dialysis` | +++ |\n",
    "\n",
    "Some phenotypes will be derived from Elixhauser comorbidities as per [[2](#references)]."
   ]
  },
  {
   "cell_type": "code",
   "execution_count": null,
   "metadata": {
    "scrolled": true
   },
   "outputs": [],
   "source": [
    "patient_data = cohort.merge_patient_data()"
   ]
  },
  {
   "cell_type": "code",
   "execution_count": null,
   "metadata": {},
   "outputs": [],
   "source": [
    "# Diabetes\n",
    "from fiber.condition import Diagnosis\n",
    "from fiber.storage.yaml import get_condition\n",
    "\n",
    "diabetes_complicated = get_condition(\n",
    "    condition_class=Diagnosis,\n",
    "    name='diabetes complicated', \n",
    "    coding_schemes=['ICD-9', 'ICD-10'])\n",
    "\n",
    "diabetes_complicated_df = cohort.has_precondition(\n",
    "    name='diabetes complicated',\n",
    "    condition=diabetes_complicated\n",
    ")\n",
    "\n",
    "diabetes_uncomplicated = get_condition(\n",
    "    condition_class=Diagnosis,\n",
    "    name='diabetes uncomplicated', \n",
    "    coding_schemes=['ICD-9', 'ICD-10'])\n",
    "\n",
    "diabetes_uncomplicated_df = cohort.has_precondition(\n",
    "    name='diabetes uncomplicated',\n",
    "    condition=diabetes_uncomplicated\n",
    ")"
   ]
  },
  {
   "cell_type": "code",
   "execution_count": null,
   "metadata": {
    "scrolled": true
   },
   "outputs": [],
   "source": [
    "# Smoking Status\n",
    "import math\n",
    "from fiber.condition import TobaccoUse\n",
    "\n",
    "tobacco_use_df = cohort.values_for(\n",
    "    target=TobaccoUse(),\n",
    "    before=cohort.condition,\n",
    ")[[\n",
    "    'medical_record_number', 'age_in_days', 'time_delta_in_days', 'value'\n",
    "]].sort_values([\n",
    "    'medical_record_number', 'age_in_days', 'time_delta_in_days'\n",
    "], ascending=False)\n",
    "\n",
    "smoking_status_df = cohort.aggregate_values_in(\n",
    "    time_windows=[[-math.inf, 0]],\n",
    "    df=tobacco_use_df,\n",
    "    aggregation_functions={'value': lambda x: x.iloc[0]},\n",
    "    name='smoking status'\n",
    ")"
   ]
  },
  {
   "cell_type": "code",
   "execution_count": null,
   "metadata": {},
   "outputs": [],
   "source": [
    "# History of Angina\n",
    "\n",
    "# Diagnosis('I20%', 'ICD-10').patients_per('description', 'context_diagnosis_code')\n",
    "# Diagnosis(['413.%', '411.1'], 'ICD-9').patients_per('description', 'context_diagnosis_code')\n",
    "\n",
    "angina_df = cohort.has_precondition(\n",
    "    name='angina pectoris',\n",
    "    condition=Diagnosis('I20%', 'ICD-10') | Diagnosis(['413.%', '411.1'], 'ICD-9')\n",
    ")"
   ]
  },
  {
   "cell_type": "markdown",
   "metadata": {},
   "source": [
    "# Duration of dialysis\n",
    "\n",
    "This proves to be more difficult. We suggest the following steps.\n",
    "\n",
    "* Identify relevant Procedure and Diagnosis codes (here may not include all codes!)\n",
    "* Define length as one of the following proxies:\n",
    "  * number of days with occurrence\n",
    "  * days between first and last day of dialysis, probably equivalent to days from first day until tx\n",
    "  * find periods of dialysis (might be interrupted due to recovery)"
   ]
  },
  {
   "cell_type": "code",
   "execution_count": null,
   "metadata": {},
   "outputs": [],
   "source": [
    "from fiber.condition import Procedure\n",
    "# Procedure(\n",
    "#     description='%dialysis%', \n",
    "#     code='%', \n",
    "#     context='ICD-9'\n",
    "# ).patients_per('context_procedure_code', 'procedure_description')\n",
    "\n",
    "# Diagnosis(\n",
    "#     description='%dialysis%', \n",
    "#     code='%', \n",
    "#     context='ICD-%'\n",
    "# ).patients_per('context_diagnosis_code', 'description', 'diagnosis_type').head(10)"
   ]
  },
  {
   "cell_type": "markdown",
   "metadata": {},
   "source": [
    "With the codes tested, we decided to assume the length of dialysis as the number of days between earliest occurrence of one of the codes and the transplant."
   ]
  },
  {
   "cell_type": "code",
   "execution_count": null,
   "metadata": {},
   "outputs": [],
   "source": [
    "dialysis_proc_df = cohort.values_for(\n",
    "    target=Procedure('39.95', 'ICD-9'),\n",
    "    before=cohort.condition,\n",
    ")\n",
    "\n",
    "dialysis_procedure_data = cohort.aggregate_values_in(\n",
    "    time_windows=[[-math.inf, 0]],\n",
    "    df=dialysis_proc_df,\n",
    "    aggregation_functions={'time_delta_in_days': lambda x: abs(x.min())},\n",
    "    name='dialysis procedure'\n",
    ").rename(columns={\n",
    "    'time_delta_in_days_dialysis_procedure_from_inf_days_before_to_0_days_after': 'length_of_dialysis'\n",
    "})\n",
    "\n",
    "dialysis_diag_df = cohort.values_for(\n",
    "    target=Diagnosis('V45.11', 'ICD-9') | Diagnosis('Z99.2', 'ICD-10'),\n",
    "    before=cohort.condition,\n",
    ")\n",
    "\n",
    "dialysis_diagnosis_data = cohort.aggregate_values_in(\n",
    "    time_windows=[[-math.inf, 0]],\n",
    "    df=dialysis_diag_df,\n",
    "    aggregation_functions={'time_delta_in_days': lambda x: abs(x.min())},\n",
    "    name='dialysis diagnosis'\n",
    ").rename(columns={\n",
    "    'time_delta_in_days_dialysis_diagnosis_from_inf_days_before_to_0_days_after': 'length_of_dialysis'\n",
    "})\n",
    "\n",
    "dialysis_df = dialysis_procedure_data.append(dialysis_diagnosis_data).groupby(\n",
    "    ['medical_record_number', 'age_in_days']\n",
    ").max().reset_index()"
   ]
  },
  {
   "cell_type": "code",
   "execution_count": null,
   "metadata": {},
   "outputs": [],
   "source": [
    "# Hypertension\n",
    "hypertension_complicated = get_condition(\n",
    "    condition_class=Diagnosis,\n",
    "    name='hypertension complicated', \n",
    "    coding_schemes=['ICD-9', 'ICD-10']\n",
    ")\n",
    "\n",
    "hypertension_complicated_df = cohort.has_precondition(\n",
    "    name='hypertension complicated',\n",
    "    condition=hypertension_complicated\n",
    ")\n",
    "\n",
    "hypertension_uncomplicated = get_condition(\n",
    "    condition_class=Diagnosis,\n",
    "    name='hypertension uncomplicated', \n",
    "    coding_schemes=['ICD-9', 'ICD-10']\n",
    ")\n",
    "\n",
    "hypertension_uncomplicated_df = cohort.has_precondition(\n",
    "    name='hypertension uncomplicated',\n",
    "    condition=hypertension_uncomplicated\n",
    ")"
   ]
  },
  {
   "cell_type": "code",
   "execution_count": null,
   "metadata": {
    "scrolled": false
   },
   "outputs": [],
   "source": [
    "# BMI / Height/Weight\n",
    "\n",
    "from fiber.condition import Height, Weight\n",
    "\n",
    "height_values = cohort.values_for(\n",
    "    target=Height(),\n",
    "    before=cohort.condition,\n",
    ")[[\n",
    "    'medical_record_number', 'age_in_days', 'time_delta_in_days', 'numeric_value'\n",
    "]].sort_values([\n",
    "    'medical_record_number', 'age_in_days', 'time_delta_in_days', 'numeric_value'\n",
    "], ascending=False)\n",
    "\n",
    "# account for miscodings\n",
    "height_values = height_values[height_values.numeric_value > 10]\n",
    "\n",
    "height_measurements = cohort.aggregate_values_in(\n",
    "    time_windows=[[-math.inf, 0]],\n",
    "    df=height_values,\n",
    "    aggregation_functions={'numeric_value': lambda x: x.iloc[0]},\n",
    "    name='height'\n",
    ").rename(columns={\n",
    "    'numeric_value_height_from_inf_days_before_to_0_days_after': 'height'\n",
    "})\n",
    "\n",
    "weight_values = cohort.values_for(\n",
    "    target=Weight(),\n",
    "    before=cohort.condition,\n",
    ")[[\n",
    "    'medical_record_number', 'age_in_days', 'time_delta_in_days', 'numeric_value'\n",
    "]].sort_values([\n",
    "    'medical_record_number', 'age_in_days', 'time_delta_in_days', 'numeric_value'\n",
    "], ascending=False)\n",
    "\n",
    "# account for miscodings\n",
    "weight_values[weight_values.numeric_value > 10]\n",
    "\n",
    "weight_measurements = cohort.aggregate_values_in(\n",
    "    time_windows=[[-math.inf, 0]],\n",
    "    df=weight_values,\n",
    "    aggregation_functions={'numeric_value': lambda x: x.iloc[0]},\n",
    "    name='weight'\n",
    ").rename(columns={\n",
    "    'numeric_value_weight_from_inf_days_before_to_0_days_after': 'weight'\n",
    "})\n",
    "\n",
    "bmi_df = height_measurements[height_measurements.height > 0].merge(weight_measurements)\n",
    "\n",
    "\n",
    "bmi_df['bmi'] = bmi_df.weight / ((bmi_df.height / 100) ** 2)\n",
    "del bmi_df['height']\n",
    "del bmi_df['weight']\n",
    "\n",
    "# account for miscodings\n",
    "bmi_df = bmi_df[bmi_df.bmi < 50]\n",
    "\n",
    "height_df = cohort.aggregate_values_in(\n",
    "    time_windows=[[-math.inf, 0]],\n",
    "    df=height_values,\n",
    "    aggregation_functions={'numeric_value': 'mean'},\n",
    "    name='height'\n",
    ").rename(columns={\n",
    "    'numeric_value_height_from_inf_days_before_to_0_days_after': 'height'\n",
    "})\n",
    "\n",
    "weight_df = cohort.aggregate_values_in(\n",
    "    time_windows=[[-math.inf, 0]],\n",
    "    df=weight_values,\n",
    "    aggregation_functions={'numeric_value': 'mean'},\n",
    "    name='weight'\n",
    ").rename(columns={\n",
    "    'numeric_value_weight_from_inf_days_before_to_0_days_after': 'weight'\n",
    "})"
   ]
  },
  {
   "cell_type": "code",
   "execution_count": null,
   "metadata": {
    "scrolled": false
   },
   "outputs": [],
   "source": [
    "# Previous transplant\n",
    "previous_transplant_df = cohort.has_precondition(\n",
    "    name='previous transplant', \n",
    "    condition=cohort.condition, \n",
    "    time_windows=[[-math.inf, -1]]\n",
    ")"
   ]
  },
  {
   "cell_type": "code",
   "execution_count": null,
   "metadata": {},
   "outputs": [],
   "source": [
    "# Proteinuria\n",
    "# Diagnosis('R80%', 'ICD-10').patients_per('description', 'context_diagnosis_code', 'diagnosis_type')\n",
    "# Diagnosis(code=['791.0', '593.6'], context='ICD-9').patients_per('description', 'context_diagnosis_code', 'diagnosis_type')\n",
    "\n",
    "proteinuria_cond = Diagnosis('R80%', 'ICD-10') | Diagnosis(code=['791.0', '593.6'], context='ICD-9')\n",
    "\n",
    "proteinuria_df = cohort.has_precondition(\n",
    "    name='proteinuria',\n",
    "    condition=proteinuria_cond, \n",
    "    time_windows=[[-math.inf, 0]]\n",
    ")"
   ]
  },
  {
   "cell_type": "code",
   "execution_count": null,
   "metadata": {},
   "outputs": [],
   "source": [
    "# Lab values\n",
    "# LabValue('CREATININE-SERUM').patients_per('test_name')\n",
    "# LabValue('%ALBUMIN%').patients_per('test_name')"
   ]
  },
  {
   "cell_type": "code",
   "execution_count": null,
   "metadata": {
    "scrolled": true
   },
   "outputs": [],
   "source": [
    "# End-stage renal disease\n",
    "renal_disease_df = cohort.values_for(\n",
    "    target=Diagnosis('585.6', 'ICD-9') | Diagnosis('N18.6', 'ICD-10'),\n",
    "    before=cohort.condition,\n",
    ")\n",
    "\n",
    "renal_disease_data = cohort.aggregate_values_in(\n",
    "    time_windows=[[-math.inf, 0]],\n",
    "    df=renal_disease_df,\n",
    "    aggregation_functions={'time_delta_in_days': lambda x: abs(x.min())},\n",
    "    name='esrd diagnosis'\n",
    ").rename(columns={\n",
    "    'time_delta_in_days_esrd_diagnosis_from_inf_days_before_to_0_days_after': 'length_of_esrd'\n",
    "})"
   ]
  },
  {
   "cell_type": "markdown",
   "metadata": {},
   "source": [
    "## Transplantation Features\n",
    "\n",
    "| Name | Source in MSDW | Ease of Reproducibility |\n",
    "|------|----------------|-------------------------|\n",
    "| Previous transplant | `see above` | ++  |\n",
    "| Hepatitis C antibodies | self-derived ICD-9 and ICD-10 codes | ++ |\n",
    "| Peak panel-reactive antibody | ? | --- |\n",
    "| Acute rejection | `out of scope` | |\n",
    "| HLA-DR mismatch | no donor information, so best effort # of hla tests ... | -- |\n",
    "| Immunosuppresseur regimen | IMHO should be generalized into Drugs, but they are also somehow not so nice | -- |\n",
    "| Graft cold schemia time | not available | |\n",
    "| Year of transplantation | can be engineered (ethics?) | + |\n",
    "| Delayed graft function | `out of scope` | |\n",
    "| CMV serology | taking the disease as proof for serology; self-derived list of ICD-9 and ICD-10 codes | ++ |\n",
    "| Acute tubular necrosis | self-derived list of ICD-9 and ICD-10 codes | ++ |"
   ]
  },
  {
   "cell_type": "code",
   "execution_count": null,
   "metadata": {
    "scrolled": false
   },
   "outputs": [],
   "source": [
    "# Hepatitis C Antibodies\n",
    "# EPIC Lab does not contain many antibody lab tests. Also the procedures do not contain information on outcome of antibody panel.\n",
    "# LabValue('%Hepatitis%').patients_per(LabValue.description_column)\n",
    "# Procedure(description='%Hepatitis C%antibody%').patients_per(Procedure.description_column, Procedure.code_column, Procedure.category_column)\n",
    "# However, from: https://www.icd10data.com/ICD10CM/Index/H/Hepatitis, we can take diagnoses.\n",
    "\n",
    "hepatitis_c_icd_10_cond = Diagnosis(['B17.1%', 'B19.2%', 'B18.2', 'Z22.52'], 'ICD-10')\n",
    "hepatitis_c_icd_9_cond = Diagnosis(['070.54', '070.70', '070.51', '070.44', '070.71', 'V02.62', '070.41', '070.7'], 'ICD-9')\n",
    "\n",
    "hepatitis_c_df = cohort.has_precondition(\n",
    "    name='hepatitis c',\n",
    "    condition=hepatitis_c_icd_10_cond | hepatitis_c_icd_9_cond\n",
    ")"
   ]
  },
  {
   "cell_type": "code",
   "execution_count": null,
   "metadata": {},
   "outputs": [],
   "source": [
    "# (peak) panel-reactive antibodies\n",
    "\n",
    "# Procedure(description='%reactive%').patients_per('procedure_description')\n",
    "\n",
    "# LabValue(name='%panel%').patients_per('test_name')"
   ]
  },
  {
   "cell_type": "code",
   "execution_count": null,
   "metadata": {
    "scrolled": false
   },
   "outputs": [],
   "source": [
    "# HLA DR test\n",
    "# LabValue('HLA%').patients_per('test_name')\n",
    "# LabValue('HLA-DR%').patients_per('test_name')\n",
    "\n",
    "hla_df = cohort.values_for(\n",
    "    target=LabValue('HLA-DR%'),\n",
    "    before=cohort.condition\n",
    ")"
   ]
  },
  {
   "cell_type": "code",
   "execution_count": null,
   "metadata": {
    "scrolled": true
   },
   "outputs": [],
   "source": [
    "# Immunosuppresseur regimen\n",
    "from fiber.condition import Drug\n",
    "\n",
    "drug_occ_df = cohort.pivot_all_for(\n",
    "    condition=Drug(),\n",
    "    pivot_table_kwargs={\n",
    "        'columns': ['code'],\n",
    "        'aggfunc': {'code': ['count']},\n",
    "    },\n",
    "    threshold=0,\n",
    "    window=[-365, -1]\n",
    ")\n",
    "\n",
    "drugs_df = cohort.merge_patient_data(drug_occ_df)\n",
    "\n",
    "# however a lot of null values or low incidence. Or unusable codes ...\n",
    "drugs_df.columns"
   ]
  },
  {
   "cell_type": "code",
   "execution_count": null,
   "metadata": {},
   "outputs": [],
   "source": [
    "# graft cold ischemia time\n",
    "# Diagnosis(description='%ischemia%').patients_per('description')"
   ]
  },
  {
   "cell_type": "code",
   "execution_count": null,
   "metadata": {
    "scrolled": true
   },
   "outputs": [],
   "source": [
    "# living / deceased donor\n",
    "# Procedure(description='%nephrectomy%', code='%', context='CPT-4', mrns=cohort.mrns(), data_columns=['context_name', 'context_procedure_code', 'procedure_description', 'medical_record_number']).get_data(included_mrns=cohort.mrns()).groupby(['context_name', 'context_procedure_code', 'procedure_description']).count()"
   ]
  },
  {
   "cell_type": "code",
   "execution_count": null,
   "metadata": {
    "scrolled": true
   },
   "outputs": [],
   "source": [
    "# year of tranplant\n",
    "\n",
    "patient_data_incl_years = patient_data.copy()\n",
    "\n",
    "months = ['January', 'February', 'March', 'April', 'May', 'June', 'July', 'August', 'September', 'October', 'November', 'December']\n",
    "\n",
    "patient_data_incl_years['year_of_transplant'] = (\n",
    "    patient_data_incl_years.date_of_birth.astype(str).str[0:4].astype(int) \n",
    "    + patient_data_incl_years.age_in_days / 365 \n",
    "    + (patient_data_incl_years.month_of_birth.astype(\"category\", categories=months).cat.codes + 1) / 12\n",
    ")"
   ]
  },
  {
   "cell_type": "code",
   "execution_count": null,
   "metadata": {},
   "outputs": [],
   "source": [
    "# CMV serology (here before, in paper probably after 1 year or so)\n",
    "cmv_cond = Diagnosis(code='078.5', context='ICD-9') | Diagnosis(code=['B25%'], context='ICD-10')\n",
    "cmv_df = cohort.has_precondition(\n",
    "    name='cmv',\n",
    "    condition=cmv_cond\n",
    ")"
   ]
  },
  {
   "cell_type": "code",
   "execution_count": null,
   "metadata": {
    "scrolled": false
   },
   "outputs": [],
   "source": [
    "# Acute tubular necrosis (here before, in paper probably after 1 year or so)\n",
    "atn_cond = Diagnosis(code='078.5', context='ICD-9') | Diagnosis(code='N17.0', context='ICD-10')\n",
    "atn_df = cohort.has_precondition(\n",
    "    name='acute tubular necrosis',\n",
    "    condition=atn_cond\n",
    ")"
   ]
  },
  {
   "cell_type": "markdown",
   "metadata": {},
   "source": [
    "## Donor Information\n",
    "\n",
    "We cannot extract any donor information."
   ]
  },
  {
   "cell_type": "code",
   "execution_count": null,
   "metadata": {},
   "outputs": [],
   "source": [
    "df = cohort.has_onset(\n",
    "    'infection',\n",
    "    Diagnosis('T86.13', 'ICD-10'),\n",
    "    time_windows=[[0, 365]]\n",
    ")"
   ]
  },
  {
   "cell_type": "code",
   "execution_count": null,
   "metadata": {},
   "outputs": [],
   "source": [
    "df.infection_onset_from_0_days_after_to_365_days_after.sum()"
   ]
  },
  {
   "cell_type": "markdown",
   "metadata": {},
   "source": [
    "# Other reported predictors for infection and rejection\n",
    "\n",
    "- dialysis modality\n",
    "- [[3]](#references)\n",
    "    - systemic lupus erythematosus\n",
    "    - cancer\n",
    "    - (previous renal transplant)\n",
    "    - history of anti-rejection therapy\n",
    "    - basal serum albumin concentration < 3.5 mg/dl\n",
    "    - dyslipidemia\n",
    "    - (end-stage renal disease of unknown etiology)\n",
    "    - (# haplotyde matches)\n",
    "    \n",
    "- [[4]](#references)\n",
    "    - vaccinations"
   ]
  },
  {
   "cell_type": "code",
   "execution_count": null,
   "metadata": {
    "scrolled": true
   },
   "outputs": [],
   "source": [
    "# Vaccinations\n",
    "vacc_proc_df = cohort.pivot_all_for(\n",
    "    condition=Procedure(description='%vaccin%', data_columns=['medical_record_number', 'age_in_days', 'procedure_description']),\n",
    "    pivot_table_kwargs={\n",
    "        'columns': ['description'],\n",
    "        'aggfunc': {'description': ['count']},\n",
    "    },\n",
    "    threshold=0,\n",
    "    window=[-math.inf, -1]\n",
    ")\n",
    "\n",
    "vacc_proc_df = cohort.merge_patient_data(vacc_proc_df)\n",
    "\n",
    "vacc_material_df = cohort.pivot_all_for(\n",
    "    condition=Material(description='%vaccin%', data_columns=['medical_record_number', 'age_in_days', Material.description_column]),\n",
    "    pivot_table_kwargs={\n",
    "        'columns': ['description'],\n",
    "        'aggfunc': {'description': ['count']},\n",
    "    },\n",
    "    threshold=0,\n",
    "    window=[-math.inf, -1]\n",
    ")\n",
    "\n",
    "vacc_material_df = cohort.merge_patient_data(vacc_material_df)"
   ]
  },
  {
   "cell_type": "markdown",
   "metadata": {},
   "source": [
    "# References\n",
    "\n",
    "1. Rémi Kaboré, Maria C. Haller, Jérôme Harambat, Georg Heinze, Karen Leffondré, Risk prediction models for graft failure in kidney transplantation: a systematic review, Nephrology Dialysis Transplantation, Volume 32, Issue suppl_2, 1 April 2017, Pages ii68–ii76, https://doi.org/10.1093/ndt/gfw405\n",
    "\n",
    "2. Quan, Hude, et al. \"Coding algorithms for defining comorbidities in ICD-9-CM and ICD-10 administrative data.\" Medical care (2005): 1130-1139.\n",
    "\n",
    "3. Valdez-Ortiz, R., Sifuentes-Osornio, J., Morales-Buenrostro, L. E., Ayala-Palma, H., Dehesa-López, E., Alberú, J., & Correa-Rotter, R. (2011). Risk factors for infections requiring hospitalization in renal transplant recipients: a cohort study. International Journal of Infectious Diseases, 15(3), e188-e196.\n",
    "\n",
    "4. Karuthu, S., & Blumberg, E. A. (2012). Common infections in kidney transplant recipients. Clinical Journal of the American Society of Nephrology, 7(12), 2058-2070."
   ]
  }
 ],
 "metadata": {
  "kernelspec": {
   "display_name": "Python 3",
   "language": "python",
   "name": "python3"
  },
  "language_info": {
   "codemirror_mode": {
    "name": "ipython",
    "version": 3
   },
   "file_extension": ".py",
   "mimetype": "text/x-python",
   "name": "python",
   "nbconvert_exporter": "python",
   "pygments_lexer": "ipython3",
   "version": "3.6.9"
  }
 },
 "nbformat": 4,
 "nbformat_minor": 2
}
