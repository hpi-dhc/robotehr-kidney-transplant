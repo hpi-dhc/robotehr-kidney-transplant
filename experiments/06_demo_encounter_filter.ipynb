{
 "cells": [
  {
   "cell_type": "code",
   "execution_count": null,
   "metadata": {
    "scrolled": true
   },
   "outputs": [],
   "source": [
    "%load_ext autoreload\n",
    "%autoreload 2"
   ]
  },
  {
   "cell_type": "code",
   "execution_count": null,
   "metadata": {},
   "outputs": [],
   "source": [
    "import pandas as pd\n",
    "import seaborn as sns\n",
    "\n",
    "from fiber import Cohort\n",
    "from fiber.condition import Encounter, MRNs\n",
    "from fiberutils.cohort_utils import *"
   ]
  },
  {
   "cell_type": "code",
   "execution_count": null,
   "metadata": {},
   "outputs": [],
   "source": [
    "pd.set_option('max_colwidth', 200)"
   ]
  },
  {
   "cell_type": "code",
   "execution_count": null,
   "metadata": {},
   "outputs": [],
   "source": [
    "occurrences = pd.read_csv('/home/martet02/cohort.csv')\n",
    "cohort_kidney_transplants = Cohort(MRNs(occurrences))"
   ]
  },
  {
   "cell_type": "code",
   "execution_count": null,
   "metadata": {},
   "outputs": [],
   "source": [
    "time_windows = []\n",
    "\n",
    "for i in range(-361, -1, 30):\n",
    "    time_windows.append([i, i + 30])\n",
    "        \n",
    "for i in range(1, 361, 30):\n",
    "    time_windows.append([i, i + 30])"
   ]
  },
  {
   "cell_type": "markdown",
   "metadata": {},
   "source": [
    "# How many Encounters before and after tx?"
   ]
  },
  {
   "cell_type": "code",
   "execution_count": null,
   "metadata": {
    "scrolled": false
   },
   "outputs": [],
   "source": [
    "cohort_condition_occurrence_heatmap(\n",
    "    cohort=cohort_kidney_transplants, \n",
    "    condition=Encounter(),\n",
    "    time_windows=time_windows, \n",
    "    max_condition_occurrences=10, \n",
    "    should_annotate_figure=True\n",
    ")['figure']"
   ]
  },
  {
   "cell_type": "markdown",
   "metadata": {},
   "source": [
    "# Cohort Encounter Occurrence Filter\n",
    "\n",
    "Say, we have inspected the number of encounters with the previous method.\n",
    "Now we decided to keep only the patients in our cohort that had at least one encounter in the last month before tx (`31d before to 1d before`); in our case this are .93 of the patients in the current cohort.\n",
    "\n",
    "Therefore, we will deploy an encounter filter with at least 1 occurrence."
   ]
  },
  {
   "cell_type": "code",
   "execution_count": null,
   "metadata": {
    "scrolled": true
   },
   "outputs": [],
   "source": [
    "cohort_condition_occurrence_filter(\n",
    "    cohort=cohort_kidney_transplants, \n",
    "    condition=Encounter(),\n",
    "    time_interval=[-31, -1], \n",
    "    encounter_lower_limit=1\n",
    ")"
   ]
  }
 ],
 "metadata": {
  "kernelspec": {
   "display_name": "Python 3",
   "language": "python",
   "name": "python3"
  },
  "language_info": {
   "codemirror_mode": {
    "name": "ipython",
    "version": 3
   },
   "file_extension": ".py",
   "mimetype": "text/x-python",
   "name": "python",
   "nbconvert_exporter": "python",
   "pygments_lexer": "ipython3",
   "version": "3.6.9"
  }
 },
 "nbformat": 4,
 "nbformat_minor": 2
}
