{
 "cells": [
  {
   "cell_type": "code",
   "execution_count": null,
   "metadata": {
    "scrolled": true
   },
   "outputs": [],
   "source": [
    "%run ../00_default_options.ipynb"
   ]
  },
  {
   "cell_type": "code",
   "execution_count": null,
   "metadata": {},
   "outputs": [],
   "source": [
    "import pickle\n",
    "\n",
    "import matplotlib.pyplot as plt\n",
    "from robotehr.evaluation.interpretation import calculate_shap_values, shap_plot"
   ]
  },
  {
   "cell_type": "code",
   "execution_count": null,
   "metadata": {},
   "outputs": [],
   "source": [
    "plt.rcParams['text.usetex'] = False\n",
    "plt.rcParams['text.latex.preamble'] = ''\n",
    "plt.rcParams['font.family'] = ['sans-serif']\n",
    "plt.rcParams['font.sans-serif'] = ['DejaVu Sans', 'Bitstream Vera Sans', 'Computer Modern Sans Serif', 'Lucida Grande', 'Verdana', 'Geneva', 'Lucid', 'Arial', 'Helvetica', 'Avant Garde', 'sans-serif']\n",
    "plt.rcParams['font.size'] = 10"
   ]
  },
  {
   "cell_type": "markdown",
   "metadata": {},
   "source": [
    "## UTI"
   ]
  },
  {
   "cell_type": "code",
   "execution_count": null,
   "metadata": {
    "scrolled": true
   },
   "outputs": [],
   "source": [
    "result = calculate_shap_values(20)"
   ]
  },
  {
   "cell_type": "code",
   "execution_count": null,
   "metadata": {},
   "outputs": [],
   "source": [
    "columns = {\n",
    "    'any__Procedure__CPT-4__71020': 'Radiologic chest examination',\n",
    "    'any__Encounter__Preadmit Testing': 'Preadmit Testing',\n",
    "    'min__labvalue__rbc_blood_cell_from_31_days_before_to_1_days_before': 'Red blood cell count (30d, min)',\n",
    "    'any__Diagnosis__EPIC__TRANSPLANT ORGAN OFFER': 'Transplant organ offer',\n",
    "    'any__Diagnosis__ICD-10__N18.6': 'End-stage renal disease',\n",
    "    'gender_Female': 'Female gender',\n",
    "    'min__labvalue__ventricular_rate_from_31_days_before_to_1_days_before': 'Ventricular rate (30d, min)',\n",
    "    'any__Diagnosis__ICD-10__R06.02': 'Shortness of breath',\n",
    "    'min__labvalue__protein_total-bld_from_31_days_before_to_1_days_before': 'Total protein (blood, 30d, min)',\n",
    "    'any__Procedure__Cardiac Cath Performed__LV Angiography': 'Left heart ventricular angiopathy',\n",
    "}"
   ]
  },
  {
   "cell_type": "code",
   "execution_count": null,
   "metadata": {},
   "outputs": [],
   "source": [
    "X_test = result['X_test'].rename(columns=columns)\n",
    "shap_plot(\n",
    "    shap_values=result['shap_values'],\n",
    "    X_test=X_test,\n",
    "    max_display=10,\n",
    "    show=False\n",
    ")\n",
    "pickle.dump(result, open('/home/martet02/shap-uti.pickle', 'wb'))"
   ]
  },
  {
   "cell_type": "code",
   "execution_count": null,
   "metadata": {},
   "outputs": [],
   "source": [
    "! python /home/martet02/kidney-transplant-data/scripts/shap-values.py uti"
   ]
  },
  {
   "cell_type": "markdown",
   "metadata": {},
   "source": [
    "# CMV"
   ]
  },
  {
   "cell_type": "code",
   "execution_count": null,
   "metadata": {},
   "outputs": [],
   "source": [
    "result = calculate_shap_values(17)"
   ]
  },
  {
   "cell_type": "code",
   "execution_count": null,
   "metadata": {},
   "outputs": [],
   "source": [
    "columns = {\n",
    "    'any__Diagnosis__ICD-10__N18.4': 'Chronic kidney disease (ICD-10)',\n",
    "    'any__Diagnosis__ICD-10__D63.1': 'Anemia in CKD',\n",
    "    'any__Diagnosis__ICD-9__R69': 'Unspecified illness',\n",
    "    'any__Diagnosis__ICD-10__N18.6': 'End-stage renal disease',\n",
    "    'any__Diagnosis__IMO__113043': 'Heart murmur',\n",
    "    'min__labvalue__eosinophil_#_from_31_days_before_to_1_days_before': 'Eosinophil \\# (30d, min)',\n",
    "    'any__Diagnosis__APRDRG MDC__011': 'Kidney \\& urin tract diseases',\n",
    "    'any__Diagnosis__ICD-10__I10': 'Essential hypertension',\n",
    "    'any__Diagnosis__ICD-9__278.00': 'Obesity',\n",
    "    'any__Diagnosis__ICD-9__585.9': 'Chronic kidney disease (ICD-9)'\n",
    "}"
   ]
  },
  {
   "cell_type": "code",
   "execution_count": null,
   "metadata": {},
   "outputs": [],
   "source": [
    "X_test = result['X_test'].rename(columns=columns)\n",
    "shap_plot(\n",
    "    shap_values=result['shap_values'],\n",
    "    X_test=X_test,\n",
    "    max_display=10,\n",
    "    show=False\n",
    ")\n",
    "pickle.dump(result, open('/home/martet02/shap-cmv.pickle', 'wb'))"
   ]
  },
  {
   "cell_type": "code",
   "execution_count": null,
   "metadata": {},
   "outputs": [],
   "source": [
    "! python /home/martet02/kidney-transplant-data/scripts/shap-values.py cmv"
   ]
  },
  {
   "cell_type": "markdown",
   "metadata": {},
   "source": [
    "# OVI"
   ]
  },
  {
   "cell_type": "code",
   "execution_count": null,
   "metadata": {},
   "outputs": [],
   "source": [
    "result = calculate_shap_values(19)"
   ]
  },
  {
   "cell_type": "code",
   "execution_count": null,
   "metadata": {},
   "outputs": [],
   "source": [
    "columns = {\n",
    "    'any__Diagnosis__ICD-9__070.54': 'Chronic hepatitis C',\n",
    "    'max__labvalue__monocyte_%_from_31_days_before_to_1_days_before': 'Monocyte \\% (30d, max)',\n",
    "    'max__labvalue__ast_(sgot)_from_331_days_before_to_301_days_before': 'Aspartate aminotransferase (330-300d, max)',\n",
    "    'max__weight__weight_from_31_days_before_to_1_days_before': 'Weight (30d, max)',\n",
    "    'any__Diagnosis__EPIC__TRANSPLANT ORGAN OFFER': 'Transplant organ offer',\n",
    "    'min__labvalue__monocyte_#_from_31_days_before_to_1_days_before': 'Monocyte \\# (30d, min)',\n",
    "    'min__labvalue__bilirubin_direct_from_211_days_before_to_181_days_before': 'Bilirubin, direct (211-180d, min)',\n",
    "    'max__labvalue__ast_(sgot)_from_271_days_before_to_241_days_before': 'Aspartate aminotransferase (270-240d, max)',\n",
    "    'min__labvalue__aptt_from_181_days_before_to_151_days_before': 'Activated partial thromboplastin time (180-150d, min)',\n",
    "    'max__vitalsign__ibex__pain_score_from_91_days_before_to_61_days_before': 'Pain Score (90-60d, max)'\n",
    "    \n",
    "}"
   ]
  },
  {
   "cell_type": "code",
   "execution_count": null,
   "metadata": {},
   "outputs": [],
   "source": [
    "X_test = result['X_test'].rename(columns=columns)\n",
    "shap_plot(\n",
    "    shap_values=result['shap_values'],\n",
    "    X_test=X_test,\n",
    "    max_display=10,\n",
    "    show=False\n",
    ")\n",
    "pickle.dump(result, open('/home/martet02/shap-ovi.pickle', 'wb'))"
   ]
  },
  {
   "cell_type": "code",
   "execution_count": null,
   "metadata": {},
   "outputs": [],
   "source": [
    "! python /home/martet02/kidney-transplant-data/scripts/shap-values.py ovi"
   ]
  },
  {
   "cell_type": "markdown",
   "metadata": {},
   "source": [
    "# LIME"
   ]
  },
  {
   "cell_type": "code",
   "execution_count": null,
   "metadata": {},
   "outputs": [],
   "source": [
    "from robotehr.evaluation.interpretation import calculate_lime_values, plot_lime_values"
   ]
  },
  {
   "cell_type": "markdown",
   "metadata": {},
   "source": [
    "## UTI"
   ]
  },
  {
   "cell_type": "code",
   "execution_count": null,
   "metadata": {
    "scrolled": false
   },
   "outputs": [],
   "source": [
    "explanations = calculate_lime_values(20, num_features=17)"
   ]
  },
  {
   "cell_type": "code",
   "execution_count": null,
   "metadata": {},
   "outputs": [],
   "source": [
    "with open('/home/martet02/lime-uti.pickle', 'wb') as f:\n",
    "    pickle.dump(explanations, f)"
   ]
  },
  {
   "cell_type": "code",
   "execution_count": null,
   "metadata": {},
   "outputs": [],
   "source": [
    "with open('/home/martet02/lime-uti.pickle', 'rb') as f:\n",
    "    explanations = pickle.load(f)"
   ]
  },
  {
   "cell_type": "code",
   "execution_count": null,
   "metadata": {
    "scrolled": true
   },
   "outputs": [],
   "source": [
    "friendly_names = {\n",
    "    'any__Diagnosis__ICD-10__R06.02': 'Shortness of breath (ICD)',\n",
    "    'any__Procedure__MUSE ID__93005': 'Tracing ECG (MUSE)',\n",
    "    'max__labvalue__qt_from_31_days_before_to_1_days_before': 'QT Interval (30d, max)',\n",
    "    'max__labvalue__mean_corp._hgb_conc._from_241_days_before_to_211_days_before': 'Mean HGB concentration (240d, max)',\n",
    "    'max__labvalue__chloride-bld_from_31_days_before_to_1_days_before': 'Chloride (30d, max)',\n",
    "    'gender_Female': 'Female gender',\n",
    "    'any__Procedure__EPIC__7510': 'Tracing ECG (EPIC)',\n",
    "    'any__Encounter__Preadmit Testing': 'Preadmit Testing',\n",
    "    'any__Diagnosis__IMO__10026': 'Shortness of breath (IMO)',\n",
    "    'max__labvalue__monocyte_#_from_241_days_before_to_211_days_before': 'Monocyte \\# (240d, max)',\n",
    "    'min__labvalue__hemoglobin_from_31_days_before_to_1_days_before': 'Hemoglobin (30d, min)',\n",
    "    'min__labvalue__aptt_from_151_days_before_to_121_days_before': 'aPTT (150d, min)',\n",
    "    'min__labvalue__egfr_african_am_from_31_days_before_to_1_days_before': 'eGFR (30d, min)',\n",
    "    'min__labvalue__rbc_blood_cell_from_31_days_before_to_1_days_before': 'Red blood cell count (30d, min)',\n",
    "    'min__labvalue__chloride-bld_from_91_days_before_to_61_days_before': 'Chloride (90d, min)',\n",
    "    'min__labvalue__chloride-bld_from_31_days_before_to_1_days_before': 'Chloride (30d, min)',\n",
    "    'min__labvalue__hemoglobin_from_181_days_before_to_151_days_before': 'Hemoglobin (180d, min)',\n",
    "}\n",
    "\n",
    "fig, ax = plt.subplots(nrows=1, ncols=1, figsize=[9,6])\n",
    "plt.tight_layout()\n",
    "\n",
    "plot_lime_values(\n",
    "    explanations,\n",
    "    friendly_names=friendly_names, \n",
    "    ax=ax, \n",
    "    fig=fig, \n",
    "    filename='/home/martet02/figures/lime-uti.pdf'\n",
    ")"
   ]
  },
  {
   "cell_type": "markdown",
   "metadata": {},
   "source": [
    "## CMV"
   ]
  },
  {
   "cell_type": "code",
   "execution_count": null,
   "metadata": {},
   "outputs": [],
   "source": [
    "explanations = calculate_lime_values(17, num_features=17)"
   ]
  },
  {
   "cell_type": "code",
   "execution_count": null,
   "metadata": {},
   "outputs": [],
   "source": [
    "with open('/home/martet02/lime-cmv.pickle', 'wb') as f:\n",
    "    pickle.dump(explanations, f)"
   ]
  },
  {
   "cell_type": "code",
   "execution_count": null,
   "metadata": {},
   "outputs": [],
   "source": [
    "with open('/home/martet02/lime-cmv.pickle', 'rb') as f:\n",
    "    explanations = pickle.load(f)"
   ]
  },
  {
   "cell_type": "code",
   "execution_count": null,
   "metadata": {},
   "outputs": [],
   "source": [
    "friendly_names = {\n",
    "     'any__Diagnosis__EPIC__ESTABLISHED PATIENT / CHRONIC PROBLEM': 'Chronic problem',\n",
    "     'any__Diagnosis__ICD-10__N18.4': 'Chronic kidney disease',\n",
    "     'any__Diagnosis__IMO__113043': 'Heart murmur',\n",
    "     'any__Diagnosis__EPIC__REFILL REQUEST': 'Refill request',\n",
    "     'any__Diagnosis__ICD-10__I10': 'Essential hypertension',\n",
    "     'any__Diagnosis__ICD-10__N18.6': 'End-stage renal disease',\n",
    "     'any__Diagnosis__ICD-10__Z94.0': 'Kidney transplant status',\n",
    "     'any__Diagnosis__EPIC__NEW PATIENT OFFICE VISIT': 'New patient office visit',\n",
    "     'any__Diagnosis__ICD-9__272.4': 'Unspecified hyperlipidemia',\n",
    "     'max__labvalue__albumin,_bld_from_301_days_before_to_271_days_before': 'Albumin (300d, max)',\n",
    "     'any__Diagnosis__ICD-9__R69': 'Unspecified illness',\n",
    "     'min__weight__weight_from_61_days_before_to_31_days_before': 'Weight (60d, min)',\n",
    "     'min__labvalue__chloride-bld_from_121_days_before_to_91_days_before': 'Chloride (120d, min)',\n",
    "     'min__labvalue__mean_corp._volume_from_91_days_before_to_61_days_before': 'Mean corp. volume (90d, min)',\n",
    "     'max__labvalue__platelet_from_31_days_before_to_1_days_before': 'Platelet (30d, max)',\n",
    "     'min__labvalue__white_blood_cell_from_151_days_before_to_121_days_before': 'White blood cell (150d)',\n",
    "     'min__labvalue__carbon_dioxide-bld_from_271_days_before_to_241_days_before': 'Carbon dioxide (blood, 270d)',\n",
    "}\n",
    "\n",
    "fig, ax = plt.subplots(nrows=1, ncols=1, figsize=[9,6])\n",
    "plt.tight_layout()\n",
    "\n",
    "plot_lime_values(\n",
    "    explanations,\n",
    "    friendly_names=friendly_names, \n",
    "    ax=ax, \n",
    "    fig=fig, \n",
    "    filename='/home/martet02/figures/lime-cmv.pdf'\n",
    ")"
   ]
  },
  {
   "cell_type": "markdown",
   "metadata": {},
   "source": [
    "## OVI"
   ]
  },
  {
   "cell_type": "code",
   "execution_count": null,
   "metadata": {
    "scrolled": true
   },
   "outputs": [],
   "source": [
    "explanations = calculate_lime_values(19, num_features=17)"
   ]
  },
  {
   "cell_type": "code",
   "execution_count": null,
   "metadata": {},
   "outputs": [],
   "source": [
    "with open('/home/martet02/lime-ovi.pickle', 'wb') as f:\n",
    "    pickle.dump(explanations, f)"
   ]
  },
  {
   "cell_type": "code",
   "execution_count": null,
   "metadata": {},
   "outputs": [],
   "source": [
    "with open('/home/martet02/lime-ovi.pickle', 'rb') as f:\n",
    "    explanations = pickle.load(f)"
   ]
  },
  {
   "cell_type": "code",
   "execution_count": null,
   "metadata": {},
   "outputs": [],
   "source": [
    "friendly_names = {\n",
    "    'any__Diagnosis__ICD-9__070.54': 'Chronic Hepatitis C', \n",
    "    'max__labvalue__monocyte_%_from_31_days_before_to_1_days_before': 'Monocyte \\% (30d, max)', \n",
    "    'min__labvalue__monocyte_#_from_31_days_before_to_1_days_before': 'Monocyte \\# (30d, min)',\n",
    "    'min__labvalue__basophil_#_from_31_days_before_to_1_days_before': 'Basophil \\# (30d, min)',\n",
    "    'max__labvalue__platelet_from_31_days_before_to_1_days_before': 'Platelet (30d, max)',\n",
    "    'max__labvalue__basophil_#_from_31_days_before_to_1_days_before': 'Basophil \\# (30d, max)', \n",
    "    'any__Diagnosis__EPIC__TRANSPLANT ORGAN OFFER': 'Transplant offer', \n",
    "    'min__labvalue__egfr_african_am_from_31_days_before_to_1_days_before': 'eGFR (30d, min)', \n",
    "    'max__labvalue__basophil_%_from_31_days_before_to_1_days_before': 'Basophil \\% (30d, max)', \n",
    "    'max__weight__weight_from_31_days_before_to_1_days_before': 'Weight (30d, max)', \n",
    "    'max__labvalue__creatinine-serum_from_31_days_before_to_1_days_before': 'Serum creatinine (30d, max)', \n",
    "    'max__labvalue__protein_total-bld_from_181_days_before_to_151_days_before': 'Total protein (180d, max)', \n",
    "    'min__weight__weight_from_31_days_before_to_1_days_before': 'Weight (30d, min)', \n",
    "    'any__Diagnosis__EPIC__FINAL X-MATCH': 'Final cross-match', \n",
    "    'min__labvalue__magnesium-bld_from_121_days_before_to_91_days_before': 'Magnesium (120d, min)', \n",
    "    'min__labvalue__ast_(sgot)_from_181_days_before_to_151_days_before': 'AST (SGOT) (180d, min)', \n",
    "    'any__Diagnosis__ICD-9__I10': 'Hypertension'\n",
    "}\n",
    "\n",
    "fig, ax = plt.subplots(nrows=1, ncols=1, figsize=[9,6])\n",
    "plt.tight_layout()\n",
    "\n",
    "plot_lime_values(\n",
    "    explanations,\n",
    "    friendly_names=friendly_names, \n",
    "    ax=ax, \n",
    "    fig=fig, \n",
    "    filename='/home/martet02/figures/lime-ovi.pdf'\n",
    ")"
   ]
  }
 ],
 "metadata": {
  "kernelspec": {
   "display_name": "Python 3",
   "language": "python",
   "name": "python3"
  },
  "language_info": {
   "codemirror_mode": {
    "name": "ipython",
    "version": 3
   },
   "file_extension": ".py",
   "mimetype": "text/x-python",
   "name": "python",
   "nbconvert_exporter": "python",
   "pygments_lexer": "ipython3",
   "version": "3.6.9"
  }
 },
 "nbformat": 4,
 "nbformat_minor": 2
}
