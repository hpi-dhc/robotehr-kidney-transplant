{
 "cells": [
  {
   "cell_type": "code",
   "execution_count": null,
   "metadata": {
    "scrolled": true
   },
   "outputs": [],
   "source": [
    "%run 00_default_options.ipynb"
   ]
  },
  {
   "cell_type": "code",
   "execution_count": null,
   "metadata": {},
   "outputs": [],
   "source": [
    "import matplotlib.pyplot as plt\n",
    "import seaborn as sns\n",
    "import morpher.config\n",
    "from sklearn.model_selection import train_test_split\n",
    "from sklearn.calibration import calibration_curve, CalibratedClassifierCV\n",
    "\n",
    "from robotehr.evaluation.interpretation import global_explanation\n",
    "from robotehr.api.predictor import save_predictor, get_predictor_details\n",
    "from robotehr.api.training import get_training_configuration\n",
    "from robotehr.pipelines.supporters.preprocessing import DataLoader\n",
    "from robotehr.pipelines.supporters.restoration import restore_model\n",
    "from robotehr.evaluation.plots import calibration_plot\n",
    "from robotehr.evaluation.risk_groups import make_risk_groups, plot_risk_groups\n",
    "from robotehr.models.predictor import Predictor\n",
    "from robotehr.utils import FriendlyNamesConverter"
   ]
  },
  {
   "cell_type": "markdown",
   "metadata": {},
   "source": [
    "## UTI"
   ]
  },
  {
   "cell_type": "code",
   "execution_count": null,
   "metadata": {},
   "outputs": [],
   "source": [
    "predictor_uti = Predictor.load(id=20)\n",
    "predictor_ovi = Predictor.load(id=19)\n",
    "predictor_cmv = Predictor.load(id=17)"
   ]
  },
  {
   "cell_type": "code",
   "execution_count": null,
   "metadata": {
    "scrolled": false
   },
   "outputs": [],
   "source": [
    "calibration_plot(predictor_uti, 'UTI')"
   ]
  },
  {
   "cell_type": "code",
   "execution_count": null,
   "metadata": {},
   "outputs": [],
   "source": [
    "calibration_plot(predictor_ovi, 'OVI')"
   ]
  },
  {
   "cell_type": "code",
   "execution_count": null,
   "metadata": {},
   "outputs": [],
   "source": [
    "fig, ax = plt.subplots(figsize=[8,6])\n",
    "plt.yticks(rotation=0, fontsize=14)\n",
    "plt.xticks(rotation=0, fontsize=14)\n",
    "ax.xaxis.label.set_size(18)\n",
    "ax.yaxis.label.set_size(18)\n",
    "plt.rc('legend', fontsize=12)\n",
    "calibration_plot(predictor_ovi, 'CMV', ax=ax, title=\"\")\n",
    "fig.savefig('/home/martet02/calibration_plot_ovi.pdf')\n",
    "fig.savefig('/home/martet02/calibration_plot_ovi.png')"
   ]
  },
  {
   "cell_type": "code",
   "execution_count": null,
   "metadata": {},
   "outputs": [],
   "source": [
    "fig.savefig('/home/martet02/calibration_plot_cmv.pdf')\n",
    "fig.savefig('/home/martet02/calibration_plot_cmv.png')"
   ]
  },
  {
   "cell_type": "code",
   "execution_count": null,
   "metadata": {},
   "outputs": [],
   "source": [
    "regexes = [\n",
    "    'any__Diagnosis__',\n",
    "    'any__Procedure__', \n",
    "    'any__Drug__', \n",
    "    'any__Material__', \n",
    "    'any__Encounter__', \n",
    "    'any__AlcoholUse__', \n",
    "    'any__DrugUse__', \n",
    "    'any__TobaccoUse__',\n",
    "    'min__height__', \n",
    "    'min__weight__', \n",
    "    'min__vitalsign__', \n",
    "    'min__measurement__', \n",
    "    'min__labvalue__', \n",
    "    'max__height__', \n",
    "    'max__weight__', \n",
    "    'max__vitalsign__', \n",
    "    'max__measurement__', \n",
    "    'max__labvalue__'\n",
    "]\n",
    "\n",
    "agg_func_regex = \"\"\n",
    "for r in regexes:\n",
    "    agg_func_regex += r + \"|\"\n",
    "agg_func_regex = agg_func_regex[:-1]\n",
    "\n",
    "def prepare_data_function(data, target):\n",
    "    import morpher\n",
    "    from morpher.jobs import Impute, Scale\n",
    "    from sklearn.preprocessing import OneHotEncoder\n",
    "    from enum import Enum\n",
    "    \n",
    "    # remove unused features\n",
    "    del data['medical_record_number']\n",
    "    del data['mother_account_number']\n",
    "    del data['date_of_birth']\n",
    "    del data['month_of_birth']\n",
    "    del data['patient_ethnic_group']\n",
    "    del data['religion']\n",
    "    del data['address_zip']\n",
    "    del data['deceased_indicator']\n",
    "    del data['marital_status_code']\n",
    "    \n",
    "    class RaceType(str, Enum):\n",
    "        AFRICAN = 'African'\n",
    "        AMERICAN_BLACK = 'Black or African-American'\n",
    "        AMERICAN_NATIVE = 'Native American'\n",
    "        ASIAN = 'Asian'\n",
    "        ASIAN_PACIFIC = 'Asian Pacific'\n",
    "        ASIAN_INDIAN = 'Asian Indian'\n",
    "        ASIAN_CHINESE = 'Asian Chinese'\n",
    "        HISPANIC = 'Hispanic or Latino'\n",
    "        OTHER = 'Other'\n",
    "        WHITE = 'White'\n",
    "    \n",
    "    RACE_MAPPING = {\n",
    "        RaceType.AFRICAN: [\n",
    "            'Cape Verdian',\n",
    "            'Congolese',\n",
    "            'Eritrean',\n",
    "            'Ethiopian',\n",
    "            'Gabonian',\n",
    "            'Ghanaian',\n",
    "            'Guinean',\n",
    "            'Ivory Coastian',\n",
    "            'Kenyan',\n",
    "            'Liberian',\n",
    "            'Madagascar',\n",
    "            'Malian',\n",
    "            'Nigerian',\n",
    "            'Other: East African',\n",
    "            'Other: North African',\n",
    "            'Other: South African',\n",
    "            'Other: West African',\n",
    "            'Senegalese',\n",
    "            'Sierra Leonean',\n",
    "            'Somalian',\n",
    "            'Sudanese',\n",
    "            'Tanzanian',\n",
    "            'Togolese',\n",
    "            'Ugandan',\n",
    "            'Zimbabwean'\n",
    "        ],\n",
    "        RaceType.AMERICAN_BLACK: [\n",
    "            'African American (Black)',\n",
    "            'African-American',\n",
    "            'Black Or African-American',\n",
    "            'Black or African - American',\n",
    "        ],\n",
    "        RaceType.AMERICAN_NATIVE: [\n",
    "            'American (Indian/Alaskan)',\n",
    "            'Native American'\n",
    "        ],\n",
    "        RaceType.ASIAN: [\n",
    "            'Asian',\n",
    "            'Bangladeshi',\n",
    "            'Bhutanese',\n",
    "            'Burmese',\n",
    "            'Cambodian',\n",
    "            'Hmong',\n",
    "            'Indonesian',\n",
    "            'Japanese',\n",
    "            'Korean',\n",
    "            'Laotian',\n",
    "            'Malaysian',\n",
    "            'Maldivian',\n",
    "            'Nepalese',\n",
    "            'Okinawan',\n",
    "            'Pakistani',\n",
    "            'Singaporean',\n",
    "            'Taiwanese',\n",
    "            'Thai',\n",
    "            'Vietnamese',\n",
    "            'Yapese'\n",
    "        ],\n",
    "        RaceType.ASIAN_PACIFIC: [\n",
    "            'Asian (Pacific Islander)',\n",
    "            'Carolinian',\n",
    "            'Chamorro',\n",
    "            'Chuukese',\n",
    "            'Fijian',\n",
    "            'Filipino',\n",
    "            'Guamanian',\n",
    "            'Guamanian Or Chamorro',\n",
    "            'Guamanian or Chamorro',\n",
    "            'Iwo Jiman',\n",
    "            'Kiribati',\n",
    "            'Kosraean',\n",
    "            'Mariana Islander',\n",
    "            'Marshallese',\n",
    "            'Melanesian',\n",
    "            'Micronesian',\n",
    "            'Native Hawaiian',\n",
    "            'New Hebrides',\n",
    "            'Other Pacific Islander',\n",
    "            'Pacific Islander',\n",
    "            'Palauan',\n",
    "            'Pohnpeian',\n",
    "            'Polynesian',\n",
    "            'Saipanese',\n",
    "            'Samoan',\n",
    "            'Papua New Guinean',\n",
    "            'Tahitian',\n",
    "            'Tokelauan',\n",
    "            'Tongan'\n",
    "        ],\n",
    "        RaceType.ASIAN_INDIAN: [\n",
    "            'Asian Indian',\n",
    "            'Sri Lankan',\n",
    "            'Sri lankan',\n",
    "            'West Indian'\n",
    "        ],\n",
    "        RaceType.ASIAN_CHINESE: [\n",
    "            'Chinese',\n",
    "        ],\n",
    "        RaceType.HISPANIC: [\n",
    "            'Barbadian',\n",
    "            'Dominica Islander',\n",
    "            'Grenadian',\n",
    "            'Haitian',\n",
    "            'Hispanic/Latino',\n",
    "            'Jamaican',\n",
    "            'St Vincentian',\n",
    "            'Trinidadian'\n",
    "        ],\n",
    "        RaceType.OTHER: [\n",
    "            '',\n",
    "            'Aa',\n",
    "            'Ab',\n",
    "            'Af',\n",
    "            'Ag',\n",
    "            'Ak',\n",
    "            'Al',\n",
    "            'Ap',\n",
    "            'Ar',\n",
    "            'Av',\n",
    "            'Ay',\n",
    "            'B',\n",
    "            'B1',\n",
    "            'B2',\n",
    "            'B3',\n",
    "            'B4',\n",
    "            'B5',\n",
    "            'B6',\n",
    "            'B7',\n",
    "            'B8',\n",
    "            'B9',\n",
    "            'Ba',\n",
    "            'Bb',\n",
    "            'Bc',\n",
    "            'Bd',\n",
    "            'Be',\n",
    "            'Bf',\n",
    "            'Bg',\n",
    "            'Bh',\n",
    "            'Bj',\n",
    "            'Bk',\n",
    "            'Bm',\n",
    "            'Bn',\n",
    "            'Bo',\n",
    "            'Bp',\n",
    "            'Bq',\n",
    "            'Br',\n",
    "            'Bs',\n",
    "            'Bt',\n",
    "            'Bu',\n",
    "            'Bv',\n",
    "            'Bw',\n",
    "            'Bx',\n",
    "            'By',\n",
    "            'Bz',\n",
    "            'I',\n",
    "            'MSDW_NOT APPLICABLE',\n",
    "            'MSDW_OTHER',\n",
    "            'MSDW_UNKNOWN',\n",
    "            'NOT AVAILABLE',\n",
    "            'Non Hispanic',\n",
    "            'O',\n",
    "            'Other',\n",
    "            'Pk',\n",
    "            'Pl',\n",
    "            'Pm',\n",
    "            'Po',\n",
    "            'Ps',\n",
    "            'Pv',\n",
    "            'U',\n",
    "            'Unk',\n",
    "            'Unknown',\n",
    "            'W'\n",
    "        ],\n",
    "        RaceType.WHITE: [\n",
    "            'Caucasian (White)',\n",
    "            'White'\n",
    "        ]\n",
    "    }\n",
    "    \n",
    "    # value mapping\n",
    "    data['race'] = (\n",
    "        data.race.map({\n",
    "            label: cat for cat, labels in RACE_MAPPING.items()\n",
    "            for label in labels\n",
    "        }).astype(pd.api.types.CategoricalDtype(RaceType))\n",
    "    )\n",
    "    \n",
    "    # pre-encoding nan handling\n",
    "    for column in ['gender', 'race']:\n",
    "        enc = OneHotEncoder(sparse=False)\n",
    "        transformed_data = enc.fit_transform(data[[column]])\n",
    "        transformed_columns = pd.DataFrame(\n",
    "            data=transformed_data, \n",
    "            columns=[f'{column}_{c}' for c in enc.categories_[0]]\n",
    "        )\n",
    "        data = data.join(transformed_columns)\n",
    "        del data[column]\n",
    "        \n",
    "    label_encoded_data = data.copy()\n",
    "    \n",
    "    label_encoded_data[label_encoded_data.columns[label_encoded_data.columns.str.contains('any')]] = label_encoded_data[label_encoded_data.columns[label_encoded_data.columns.str.contains('any')]].fillna(False)\n",
    "    \n",
    "    # scaled_data, _ = Scale().execute(data=label_encoded_data, target=target)\n",
    "    # imputed_data, _ = Impute().execute(data=scaled_data, imputation_method=morpher.config.imputers.DEFAULT)\n",
    "    \n",
    "    return label_encoded_data\n",
    "\n",
    "data_loader = DataLoader(agg_func_regex, prepare_data_function)"
   ]
  },
  {
   "cell_type": "code",
   "execution_count": null,
   "metadata": {
    "scrolled": false
   },
   "outputs": [],
   "source": [
    "df = make_risk_groups(predictor, data_loader)"
   ]
  },
  {
   "cell_type": "code",
   "execution_count": null,
   "metadata": {},
   "outputs": [],
   "source": [
    "features = ['max__height__height_from_361_days_before_to_331_days_before', 'gender_Female',]"
   ]
  },
  {
   "cell_type": "code",
   "execution_count": null,
   "metadata": {
    "scrolled": true
   },
   "outputs": [],
   "source": [
    "plot_risk_groups(df, features)"
   ]
  },
  {
   "cell_type": "markdown",
   "metadata": {},
   "source": [
    "# CMV"
   ]
  },
  {
   "cell_type": "code",
   "execution_count": null,
   "metadata": {},
   "outputs": [],
   "source": [
    "tc = get_training_configuration(\n",
    "    pipeline_id=231,\n",
    "    response_type=\"object\",\n",
    "    config={\n",
    "        'threshold_numeric': 0.05,\n",
    "        'window_start_numeric': -361,\n",
    "        'target': 'cytomegaloviral_disease_onset_from_0_days_after_to_365_days_after'\n",
    "        }\n",
    ")"
   ]
  },
  {
   "cell_type": "code",
   "execution_count": null,
   "metadata": {
    "scrolled": true
   },
   "outputs": [],
   "source": [
    "restored_model = restore_model(tc, morpher.config.algorithms.GBDT, morpher.config.samplers.RANDOM)"
   ]
  },
  {
   "cell_type": "code",
   "execution_count": null,
   "metadata": {},
   "outputs": [],
   "source": [
    "predictor = save_predictor(restored_model, tc, 'cmv, baseline 4 rfe + numeric focus, 0d GBDT', '1.0', response_type=\"object\")"
   ]
  },
  {
   "cell_type": "code",
   "execution_count": null,
   "metadata": {},
   "outputs": [],
   "source": [
    "predictor = Predictor.load(id=17)"
   ]
  },
  {
   "cell_type": "code",
   "execution_count": null,
   "metadata": {
    "scrolled": false
   },
   "outputs": [],
   "source": [
    "calibration_plot(predictor, 'LR')"
   ]
  },
  {
   "cell_type": "code",
   "execution_count": null,
   "metadata": {
    "scrolled": true
   },
   "outputs": [],
   "source": [
    "df = make_risk_groups(predictor, data_loader)"
   ]
  },
  {
   "cell_type": "code",
   "execution_count": null,
   "metadata": {
    "scrolled": true
   },
   "outputs": [],
   "source": [
    "explanations = global_explanation(predictor, num_features=30, explainers=[morpher.config.explainers.FEAT_CONTRIB])"
   ]
  },
  {
   "cell_type": "code",
   "execution_count": null,
   "metadata": {},
   "outputs": [],
   "source": [
    "interesting_features = list(explanations[morpher.config.explainers.FEAT_CONTRIB])[:15]"
   ]
  },
  {
   "cell_type": "code",
   "execution_count": null,
   "metadata": {
    "scrolled": false
   },
   "outputs": [],
   "source": [
    "plot_risk_groups(df, interesting_features)"
   ]
  },
  {
   "cell_type": "markdown",
   "metadata": {},
   "source": [
    "# other"
   ]
  },
  {
   "cell_type": "code",
   "execution_count": null,
   "metadata": {},
   "outputs": [],
   "source": [
    "tc = get_training_configuration(\n",
    "    pipeline_id=196,\n",
    "    response_type=\"object\",\n",
    "    config={\n",
    "        'threshold_numeric': 0.05,\n",
    "        'window_start_numeric': -331,\n",
    "        'target': 'other_viral_infection_onset_from_0_days_after_to_365_days_after'\n",
    "        }\n",
    ")"
   ]
  },
  {
   "cell_type": "code",
   "execution_count": null,
   "metadata": {
    "scrolled": true
   },
   "outputs": [],
   "source": [
    "restored_model = restore_model(tc, morpher.config.algorithms.LR, morpher.config.samplers.SMOTE)"
   ]
  },
  {
   "cell_type": "code",
   "execution_count": null,
   "metadata": {},
   "outputs": [],
   "source": [
    "predictor = save_predictor(restored_model, tc, 'other viral infections, baseline 4 numeric LR, 0d', '1.0', response_type=\"object\")"
   ]
  },
  {
   "cell_type": "code",
   "execution_count": null,
   "metadata": {},
   "outputs": [],
   "source": [
    "predictor.id"
   ]
  },
  {
   "cell_type": "code",
   "execution_count": null,
   "metadata": {},
   "outputs": [],
   "source": [
    "predictor = get_predictor_details(predictor_id=16, response_type=\"object\")"
   ]
  },
  {
   "cell_type": "code",
   "execution_count": null,
   "metadata": {},
   "outputs": [],
   "source": [
    "calibration_plot(predictor, 'LR')"
   ]
  },
  {
   "cell_type": "code",
   "execution_count": null,
   "metadata": {},
   "outputs": [],
   "source": [
    "df = make_risk_groups(predictor, data_loader)"
   ]
  },
  {
   "cell_type": "code",
   "execution_count": null,
   "metadata": {},
   "outputs": [],
   "source": [
    "explanations = global_explanation(predictor, num_features=30, explainers=[morpher.config.explainers.FEAT_CONTRIB])"
   ]
  },
  {
   "cell_type": "code",
   "execution_count": null,
   "metadata": {},
   "outputs": [],
   "source": [
    "interesting_features = list(explanations[morpher.config.explainers.FEAT_CONTRIB])[:15]"
   ]
  },
  {
   "cell_type": "code",
   "execution_count": null,
   "metadata": {},
   "outputs": [],
   "source": [
    "plot_risk_groups(df, interesting_features)"
   ]
  }
 ],
 "metadata": {
  "kernelspec": {
   "display_name": "Python 3",
   "language": "python",
   "name": "python3"
  },
  "language_info": {
   "codemirror_mode": {
    "name": "ipython",
    "version": 3
   },
   "file_extension": ".py",
   "mimetype": "text/x-python",
   "name": "python",
   "nbconvert_exporter": "python",
   "pygments_lexer": "ipython3",
   "version": "3.6.10"
  }
 },
 "nbformat": 4,
 "nbformat_minor": 2
}
