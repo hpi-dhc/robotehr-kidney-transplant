{
 "cells": [
  {
   "cell_type": "code",
   "execution_count": 1,
   "metadata": {},
   "outputs": [],
   "source": [
    "%run ../00_default_options.ipynb"
   ]
  },
  {
   "cell_type": "code",
   "execution_count": 4,
   "metadata": {},
   "outputs": [],
   "source": [
    "import matplotlib.pyplot as plt\n",
    "from robotehr.evaluation.pipeline import plot_multiple_pipeline_comparison"
   ]
  },
  {
   "cell_type": "markdown",
   "metadata": {},
   "source": [
    "# UTI"
   ]
  },
  {
   "cell_type": "code",
   "execution_count": 124,
   "metadata": {
    "collapsed": true
   },
   "outputs": [
    {
     "data": {
      "text/plain": [
       "[337,\n",
       " 338,\n",
       " 339,\n",
       " 340,\n",
       " 341,\n",
       " 342,\n",
       " 343,\n",
       " 344,\n",
       " 345,\n",
       " 346,\n",
       " 347,\n",
       " 348,\n",
       " 349,\n",
       " 350,\n",
       " 351,\n",
       " 352,\n",
       " 353,\n",
       " 354]"
      ]
     },
     "execution_count": 124,
     "metadata": {},
     "output_type": "execute_result"
    }
   ],
   "source": [
    "pipeline_ids_uti = [\n",
    " {'comment': 'NEW baseline-4 uti post-tx - 1 to 365d', 'id': 337},\n",
    " {'comment': 'NEW baseline-4 uti post-tx - 2 to 365d', 'id': 338},\n",
    " {'comment': 'NEW baseline-4 uti post-tx - 4 to 365d', 'id': 339},\n",
    " {'comment': 'NEW baseline-4 uti post-tx - 8 to 365d', 'id': 340},\n",
    " {'comment': 'NEW baseline-4 uti post-tx - 12 to 365d', 'id': 341},\n",
    " {'comment': 'NEW baseline-4 uti post-tx - 15 to 365d', 'id': 342},\n",
    " {'comment': 'NEW baseline-4 uti post-tx - 19 to 365d', 'id': 343},\n",
    " {'comment': 'NEW baseline-4 uti post-tx - 22 to 365d', 'id': 344},\n",
    " {'comment': 'NEW baseline-4 uti post-tx - 26 to 365d', 'id': 345},\n",
    " {'comment': 'NEW baseline-4 uti post-tx - 30 to 365d', 'id': 346},\n",
    " {'comment': 'NEW baseline-4 uti post-tx - 38 to 365d', 'id': 347},\n",
    " {'comment': 'NEW baseline-4 uti post-tx - 46 to 365d', 'id': 348},\n",
    " {'comment': 'NEW baseline-4 uti post-tx - 51 to 365d', 'id': 349},\n",
    " {'comment': 'NEW baseline-4 uti post-tx - 56 to 365d', 'id': 350},\n",
    " {'comment': 'NEW baseline-4 uti post-tx - 60 to 365d', 'id': 351},\n",
    " {'comment': 'NEW baseline-4 uti post-tx - 71 to 365d', 'id': 352},\n",
    " {'comment': 'NEW baseline-4 uti post-tx - 81 to 365d', 'id': 353},\n",
    " {'comment': 'NEW baseline-4 uti post-tx - 91 to 365d', 'id': 354},\n",
    "]\n",
    "\n",
    "[p['id'] for p in pipeline_ids_uti]"
   ]
  },
  {
   "cell_type": "code",
   "execution_count": 135,
   "metadata": {},
   "outputs": [
    {
     "data": {
      "image/png": "[encoded data removed]",
      "text/plain": [
       "<Figure size 432x432 with 1 Axes>"
      ]
     },
     "metadata": {
      "needs_background": "light"
     },
     "output_type": "display_data"
    }
   ],
   "source": [
    "plt.rcParams['text.usetex'] = True \n",
    "plt.rcParams['text.latex.preamble'] = [r'\\usepackage[cm]{sfmath}']\n",
    "plt.rcParams['font.family'] = 'sans-serif'\n",
    "plt.rcParams['font.sans-serif'] = 'cm'\n",
    "plt.rcParams['font.size'] = 14\n",
    "\n",
    "fig, ax = plt.subplots(nrows=1, ncols=1, figsize=[6,6])\n",
    "fig.tight_layout(pad=3.0)\n",
    "\n",
    "pipeline_ids = [\n",
    "    246, \n",
    "    337, \n",
    "    338, \n",
    "    # 339, \n",
    "    340, \n",
    "    341, \n",
    "    342, \n",
    "    343, \n",
    "    # 344, \n",
    "    345, \n",
    "    346, \n",
    "    347, \n",
    "    348, \n",
    "    349, \n",
    "    350, \n",
    "    351, \n",
    "    352, \n",
    "    353,\n",
    "    # 354\n",
    "]\n",
    "ax = plot_multiple_pipeline_comparison(pipeline_ids, 'auc_roc_mean', data_points_per_pipeline=30, plot_type=\"box\")\n",
    "ax.set_xlabel('Prediction on day x after transplant', fontsize=18)\n",
    "ax.set_ylabel('AUROC Score', fontsize=18)\n",
    "\n",
    "fig.savefig(\"/home/martet02/figures/post-tx-data-uti.pdf\", bbox_inches='tight')"
   ]
  },
  {
   "cell_type": "markdown",
   "metadata": {},
   "source": [
    "# CMV"
   ]
  },
  {
   "cell_type": "code",
   "execution_count": 117,
   "metadata": {},
   "outputs": [],
   "source": [
    "pipeline_id_cmv = [\n",
    " {'comment': 'NEW baseline-4 cmv post-tx (numeric focus) - 1 to 365d',\n",
    "  'id': 356},\n",
    " {'comment': 'NEW baseline-4 cmv post-tx (numeric focus) - 2 to 365d',\n",
    "  'id': 357},\n",
    " {'comment': 'NEW baseline-4 cmv post-tx (numeric focus) - 4 to 365d',\n",
    "  'id': 358},\n",
    " {'comment': 'NEW baseline-4 cmv post-tx (numeric focus) - 8 to 365d',\n",
    "  'id': 359},\n",
    " {'comment': 'NEW baseline-4 cmv post-tx (numeric focus) - 12 to 365d',\n",
    "  'id': 360},\n",
    " {'comment': 'NEW baseline-4 cmv post-tx (numeric focus) - 15 to 365d',\n",
    "  'id': 361},\n",
    " {'comment': 'NEW baseline-4 cmv post-tx (numeric focus) - 19 to 365d',\n",
    "  'id': 362},\n",
    " {'comment': 'NEW baseline-4 cmv post-tx (numeric focus) - 22 to 365d',\n",
    "  'id': 363},\n",
    " {'comment': 'NEW baseline-4 cmv post-tx (numeric focus) - 26 to 365d',\n",
    "  'id': 364},\n",
    " {'comment': 'NEW baseline-4 cmv post-tx (numeric focus) - 30 to 365d',\n",
    "  'id': 365},\n",
    " {'comment': 'NEW baseline-4 cmv post-tx (numeric focus) - 38 to 365d',\n",
    "  'id': 366},\n",
    " {'comment': 'NEW baseline-4 cmv post-tx (numeric focus) - 46 to 365d',\n",
    "  'id': 367},\n",
    " {'comment': 'NEW baseline-4 cmv post-tx (numeric focus) - 51 to 365d',\n",
    "  'id': 368},\n",
    " {'comment': 'NEW baseline-4 cmv post-tx (numeric focus) - 56 to 365d',\n",
    "  'id': 369},\n",
    " {'comment': 'NEW baseline-4 cmv post-tx (numeric focus) - 60 to 365d',\n",
    "  'id': 370},\n",
    " {'comment': 'NEW baseline-4 cmv post-tx (numeric focus) - 71 to 365d',\n",
    "  'id': 371},\n",
    " {'comment': 'NEW baseline-4 cmv post-tx (numeric focus) - 81 to 365d',\n",
    "  'id': 372},\n",
    " {'comment': 'NEW baseline-4 cmv post-tx (numeric focus) - 91 to 365d',\n",
    "  'id': 373}\n",
    "]\n",
    "\n",
    "[p['id'] for p in pipeline_id_cmv]"
   ]
  },
  {
   "cell_type": "code",
   "execution_count": 134,
   "metadata": {},
   "outputs": [
    {
     "data": {
      "image/png": "[encoded data removed]",
      "text/plain": [
       "<Figure size 432x432 with 1 Axes>"
      ]
     },
     "metadata": {
      "needs_background": "light"
     },
     "output_type": "display_data"
    }
   ],
   "source": [
    "plt.rcParams['text.usetex'] = True \n",
    "plt.rcParams['text.latex.preamble'] = [r'\\usepackage[cm]{sfmath}']\n",
    "plt.rcParams['font.family'] = 'sans-serif'\n",
    "plt.rcParams['font.sans-serif'] = 'cm'\n",
    "plt.rcParams['font.size'] = 14\n",
    "\n",
    "fig, ax = plt.subplots(nrows=1, ncols=1, figsize=[6,6])\n",
    "fig.tight_layout(pad=3.0)\n",
    "\n",
    "pipeline_ids = [\n",
    "231,\n",
    "356,\n",
    " 357,\n",
    " #358,\n",
    " 359,\n",
    " 360,\n",
    " 361,\n",
    " 362,\n",
    " #363,\n",
    " 364,\n",
    " 365,\n",
    " 366,\n",
    " 367,\n",
    " 368,\n",
    " 369,\n",
    " 370,\n",
    " 371,\n",
    " 372,\n",
    " #373\n",
    "]\n",
    "\n",
    "ax = plot_multiple_pipeline_comparison(pipeline_ids, 'auc_roc_mean', data_points_per_pipeline=30, plot_type=\"box\")\n",
    "ax.set_xlabel('Prediction on day x after transplant', fontsize=18)\n",
    "ax.set_ylabel('AUROC Score', fontsize=18)\n",
    "\n",
    "fig.savefig(\"/home/martet02/figures/post-tx-data-cmv.pdf\", bbox_inches='tight')"
   ]
  },
  {
   "cell_type": "markdown",
   "metadata": {},
   "source": [
    "# OVI"
   ]
  },
  {
   "cell_type": "code",
   "execution_count": 120,
   "metadata": {
    "collapsed": true
   },
   "outputs": [
    {
     "data": {
      "text/plain": [
       "[374,\n",
       " 375,\n",
       " 376,\n",
       " 377,\n",
       " 378,\n",
       " 379,\n",
       " 380,\n",
       " 381,\n",
       " 382,\n",
       " 383,\n",
       " 384,\n",
       " 385,\n",
       " 386,\n",
       " 387,\n",
       " 388,\n",
       " 389,\n",
       " 390,\n",
       " 391]"
      ]
     },
     "execution_count": 120,
     "metadata": {},
     "output_type": "execute_result"
    }
   ],
   "source": [
    "pipeline_id_ovi = [\n",
    " {'comment': 'baseline-4 ovi post-tx (numeric focus) - 1 to 365d', 'id': 374},\n",
    " {'comment': 'baseline-4 ovi post-tx (numeric focus) - 2 to 365d', 'id': 375},\n",
    " {'comment': 'baseline-4 ovi post-tx (numeric focus) - 4 to 365d', 'id': 376},\n",
    " {'comment': 'baseline-4 ovi post-tx (numeric focus) - 8 to 365d', 'id': 377},\n",
    " {'comment': 'baseline-4 ovi post-tx (numeric focus) - 12 to 365d', 'id': 378},\n",
    " {'comment': 'baseline-4 ovi post-tx (numeric focus) - 15 to 365d', 'id': 379},\n",
    " {'comment': 'baseline-4 ovi post-tx (numeric focus) - 19 to 365d', 'id': 380},\n",
    " {'comment': 'baseline-4 ovi post-tx (numeric focus) - 22 to 365d', 'id': 381},\n",
    " {'comment': 'baseline-4 ovi post-tx (numeric focus) - 26 to 365d', 'id': 382},\n",
    " {'comment': 'baseline-4 ovi post-tx (numeric focus) - 30 to 365d', 'id': 383},\n",
    " {'comment': 'baseline-4 ovi post-tx (numeric focus) - 38 to 365d', 'id': 384},\n",
    " {'comment': 'baseline-4 ovi post-tx (numeric focus) - 46 to 365d', 'id': 385},\n",
    " {'comment': 'baseline-4 ovi post-tx (numeric focus) - 51 to 365d', 'id': 386},\n",
    " {'comment': 'baseline-4 ovi post-tx (numeric focus) - 56 to 365d', 'id': 387},\n",
    " {'comment': 'baseline-4 ovi post-tx (numeric focus) - 60 to 365d', 'id': 388},\n",
    " {'comment': 'baseline-4 ovi post-tx (numeric focus) - 71 to 365d', 'id': 389},\n",
    " {'comment': 'baseline-4 ovi post-tx (numeric focus) - 81 to 365d', 'id': 390},\n",
    " {'comment': 'baseline-4 ovi post-tx (numeric focus) - 91 to 365d', 'id': 391}\n",
    "]\n",
    "\n",
    "[p['id'] for p in pipeline_id_ovi]"
   ]
  },
  {
   "cell_type": "code",
   "execution_count": 133,
   "metadata": {},
   "outputs": [
    {
     "data": {
      "image/png": "[encoded data removed]",
      "text/plain": [
       "<Figure size 432x432 with 1 Axes>"
      ]
     },
     "metadata": {
      "needs_background": "light"
     },
     "output_type": "display_data"
    }
   ],
   "source": [
    "plt.rcParams['text.usetex'] = True \n",
    "plt.rcParams['text.latex.preamble'] = [r'\\usepackage[cm]{sfmath}']\n",
    "plt.rcParams['font.family'] = 'sans-serif'\n",
    "plt.rcParams['font.sans-serif'] = 'cm'\n",
    "plt.rcParams['font.size'] = 14\n",
    "\n",
    "fig, ax = plt.subplots(nrows=1, ncols=1, figsize=[6,6])\n",
    "fig.tight_layout(pad=3.0)\n",
    "\n",
    "pipeline_ids = [\n",
    " 196,\n",
    " 374,\n",
    " 375,\n",
    " #376,\n",
    " 377,\n",
    " 378,\n",
    " 379,\n",
    " 380,\n",
    " #381,\n",
    " 382,\n",
    " 383,\n",
    " 384,\n",
    " 385,\n",
    " 386,\n",
    " 387,\n",
    " 388,\n",
    " 389,\n",
    " 390,\n",
    " #391\n",
    "]\n",
    "\n",
    "ax = plot_multiple_pipeline_comparison(pipeline_ids, 'auc_roc_mean', data_points_per_pipeline=30, plot_type=\"box\")\n",
    "ax.set_xlabel('Prediction on day x after transplant', fontsize=18)\n",
    "ax.set_ylabel('AUROC Score', fontsize=18)\n",
    "\n",
    "fig.savefig(\"/home/martet02/figures/post-tx-data-ovi.pdf\", bbox_inches='tight')"
   ]
  },
  {
   "cell_type": "markdown",
   "metadata": {},
   "source": [
    "# Combined"
   ]
  },
  {
   "cell_type": "code",
   "execution_count": 44,
   "metadata": {},
   "outputs": [],
   "source": [
    "plt.rcParams['text.usetex'] = False\n",
    "plt.rcParams['text.latex.preamble'] = ''\n",
    "plt.rcParams['font.family'] = ['sans-serif']\n",
    "plt.rcParams['font.sans-serif'] = ['DejaVu Sans', 'Bitstream Vera Sans', 'Computer Modern Sans Serif', 'Lucida Grande', 'Verdana', 'Geneva', 'Lucid', 'Arial', 'Helvetica', 'Avant Garde', 'sans-serif']\n",
    "plt.rcParams['font.size'] = 10"
   ]
  },
  {
   "cell_type": "code",
   "execution_count": 132,
   "metadata": {
    "scrolled": true
   },
   "outputs": [
    {
     "data": {
      "image/png": "[encoded data removed]",
      "text/plain": [
       "<Figure size 864x288 with 3 Axes>"
      ]
     },
     "metadata": {
      "needs_background": "light"
     },
     "output_type": "display_data"
    }
   ],
   "source": [
    "plt.rcParams['text.usetex'] = True \n",
    "plt.rcParams['text.latex.preamble'] = [r'\\usepackage[cm]{sfmath}']\n",
    "plt.rcParams['font.family'] = 'sans-serif'\n",
    "plt.rcParams['font.sans-serif'] = 'cm'\n",
    "plt.rcParams['font.size'] = 12\n",
    "\n",
    "fig, ax = plt.subplots(nrows=1, ncols=3, figsize=[12,4])\n",
    "fig.tight_layout(pad=3.0)\n",
    "\n",
    "# UTI\n",
    "pipeline_ids = [\n",
    "    246, \n",
    "    337, \n",
    "    338, \n",
    "    # 339, \n",
    "    340, \n",
    "    341, \n",
    "    342, \n",
    "    343, \n",
    "    # 344, \n",
    "    345, \n",
    "    346, \n",
    "    347, \n",
    "    348, \n",
    "    349, \n",
    "    350, \n",
    "    351, \n",
    "    352, \n",
    "    353,\n",
    "    # 354\n",
    "]\n",
    "plot_multiple_pipeline_comparison(pipeline_ids, 'auc_roc_mean', data_points_per_pipeline=30, plot_type=\"box\", ax=ax[0])\n",
    "\n",
    "# CMV\n",
    "pipeline_ids = [\n",
    "231,\n",
    "356,\n",
    " 357,\n",
    " #358,\n",
    " 359,\n",
    " 360,\n",
    " 361,\n",
    " 362,\n",
    " #363,\n",
    " 364,\n",
    " 365,\n",
    " 366,\n",
    " 367,\n",
    " 368,\n",
    " 369,\n",
    " 370,\n",
    " 371,\n",
    " 372,\n",
    " #373\n",
    "]\n",
    "plot_multiple_pipeline_comparison(pipeline_ids, 'auc_roc_mean', data_points_per_pipeline=30, plot_type=\"box\", ax=ax[1])\n",
    "\n",
    "# OVI\n",
    "pipeline_ids = [\n",
    " 196,\n",
    " 374,\n",
    " 375,\n",
    " #376,\n",
    " 377,\n",
    " 378,\n",
    " 379,\n",
    " 380,\n",
    " #381,\n",
    " 382,\n",
    " 383,\n",
    " 384,\n",
    " 385,\n",
    " 386,\n",
    " 387,\n",
    " 388,\n",
    " 389,\n",
    " 390,\n",
    " #391\n",
    "]\n",
    "plot_multiple_pipeline_comparison(pipeline_ids, 'auc_roc_mean', data_points_per_pipeline=30, plot_type=\"box\", ax=ax[2])\n",
    "\n",
    "ax[0].set_title('Urinary Tract Infection')\n",
    "ax[1].set_title('Cytomegalovirus Disease')\n",
    "ax[2].set_title('Other Viral Infection')\n",
    "ax[0].set_xlabel('Prediction on day x post tx')\n",
    "ax[1].set_xlabel('Prediction on day x post tx')\n",
    "ax[2].set_xlabel('Prediction on day x post tx')\n",
    "ax[0].set_ylabel('AUROC Score')\n",
    "ax[1].set_ylabel('')\n",
    "ax[2].set_ylabel('')\n",
    "\n",
    "fig.savefig(\"/home/martet02/figures/post-tx-data.pdf\")"
   ]
  }
 ],
 "metadata": {
  "kernelspec": {
   "display_name": "Python 3",
   "language": "python",
   "name": "python3"
  },
  "language_info": {
   "codemirror_mode": {
    "name": "ipython",
    "version": 3
   },
   "file_extension": ".py",
   "mimetype": "text/x-python",
   "name": "python",
   "nbconvert_exporter": "python",
   "pygments_lexer": "ipython3",
   "version": "3.6.10"
  }
 },
 "nbformat": 4,
 "nbformat_minor": 2
}
