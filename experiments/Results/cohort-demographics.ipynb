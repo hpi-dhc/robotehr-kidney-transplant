{
 "cells": [
  {
   "cell_type": "code",
   "execution_count": 1,
   "metadata": {},
   "outputs": [],
   "source": [
    "%run ../00_default_options.ipynb"
   ]
  },
  {
   "cell_type": "code",
   "execution_count": 19,
   "metadata": {},
   "outputs": [],
   "source": [
    "import matplotlib.pyplot as plt\n",
    "from robotehr.models.cohort import Cohort\n",
    "import seaborn as sns"
   ]
  },
  {
   "cell_type": "code",
   "execution_count": 78,
   "metadata": {},
   "outputs": [],
   "source": [
    "from fiber.condition import Patient\n",
    "\n",
    "def bars(series, ax, rotate_labels_by=None, **kwargs):\n",
    "    sns.countplot(series, ax=ax, **kwargs)\n",
    "    if rotate_labels_by:\n",
    "        plt.setp(ax.get_xticklabels(), rotation=rotate_labels_by)\n",
    "        \n",
    "def hist(series, ax, rotate_labels_by=None, **kwargs):\n",
    "    sns.distplot(series, ax=ax, **kwargs)\n",
    "    if rotate_labels_by:\n",
    "        plt.setp(ax.get_xticklabels(), rotation=rotate_labels_by)"
   ]
  },
  {
   "cell_type": "code",
   "execution_count": 11,
   "metadata": {},
   "outputs": [],
   "source": [
    "cohort = Cohort.load(id=1).get_fiber()"
   ]
  },
  {
   "cell_type": "code",
   "execution_count": 84,
   "metadata": {},
   "outputs": [
    {
     "name": "stdout",
     "output_type": "stream",
     "text": [
      "Fetching data for Patient (...)\n"
     ]
    }
   ],
   "source": [
    " \"\"\"\n",
    "Generates basic cohort demographics for patients' age and\n",
    "gender distribution, including plots.\n",
    "\"\"\"\n",
    "condition_events = cohort.occurrences\n",
    "s_age = condition_events[\n",
    "    condition_events.age_in_days < 50000\n",
    "].groupby(\n",
    "    'medical_record_number'\n",
    ").age_in_days.mean().apply(lambda x: x / 365).rename('Age in years')\n",
    "\n",
    "patients_df = cohort.get(Patient(map_values=True))"
   ]
  },
  {
   "cell_type": "code",
   "execution_count": 219,
   "metadata": {},
   "outputs": [],
   "source": [
    "plt.rcParams['text.usetex'] = True \n",
    "plt.rcParams['text.latex.preamble'] = [r'\\usepackage[cm]{sfmath}']\n",
    "plt.rcParams['font.family'] = 'sans-serif'\n",
    "plt.rcParams['font.sans-serif'] = 'cm'\n",
    "plt.rcParams['font.size'] = 14"
   ]
  },
  {
   "cell_type": "code",
   "execution_count": 220,
   "metadata": {},
   "outputs": [
    {
     "data": {
      "image/png": "[encoded data removed]",
      "text/plain": [
       "<Figure size 576x288 with 2 Axes>"
      ]
     },
     "metadata": {
      "needs_background": "light"
     },
     "output_type": "display_data"
    }
   ],
   "source": [
    "fig, ax = plt.subplots(1,2, figsize=[8,4])\n",
    "fig.tight_layout(pad=3.0)\n",
    "\n",
    "hist(s_age, ax=ax[0], norm_hist=False, kde=False)\n",
    "\n",
    "ax[0].set_ylabel(\"\\# of Patients\", fontsize=14)\n",
    "ax[0].set_xlabel('Age in years', fontsize=14)\n",
    "ax[0].set_title('Age at time of transplant')\n",
    "\n",
    "\n",
    "patients_df = patients_df[patients_df.gender != 'NOT AVAILABLE']\n",
    "bars(patients_df.gender, ax=ax[1])\n",
    "ax[1].set_xlabel('')\n",
    "ax[1].set_ylabel('')\n",
    "ax[1].set_title('Gender')\n",
    "\n",
    "fig.savefig('/home/martet02/cohort-demographics-1.pdf', bbox_inches='tight')"
   ]
  },
  {
   "cell_type": "code",
   "execution_count": 60,
   "metadata": {},
   "outputs": [],
   "source": [
    "import numpy as np"
   ]
  },
  {
   "cell_type": "code",
   "execution_count": 109,
   "metadata": {},
   "outputs": [
    {
     "data": {
      "image/png": "[encoded data removed]",
      "text/plain": [
       "<Figure size 432x288 with 1 Axes>"
      ]
     },
     "metadata": {
      "needs_background": "light"
     },
     "output_type": "display_data"
    }
   ],
   "source": [
    "fig, ax = plt.subplots(1,1, figsize=[6,4])\n",
    "\n",
    "bars(\n",
    "    patients_df.race.str.replace('RaceType.', ''),\n",
    "    rotate_labels_by=90,\n",
    "    ax=ax,\n",
    ")\n",
    "ax.set_title('Ethnicity')\n",
    "ax.set_xlabel('')\n",
    "ax.set_ylabel('\\# Patients', fontsize=14)\n",
    "\n",
    "fig.savefig('/home/martet02/cohort-demographics-2.pdf', bbox_inches='tight')"
   ]
  },
  {
   "cell_type": "code",
   "execution_count": 128,
   "metadata": {},
   "outputs": [],
   "source": [
    "from fiber.condition import Diagnosis\n",
    "from fiberutils.condition_utils import _fetch_data"
   ]
  },
  {
   "cell_type": "code",
   "execution_count": 142,
   "metadata": {},
   "outputs": [
    {
     "name": "stdout",
     "output_type": "stream",
     "text": [
      "Fetching data for <fiber.condition.mrns.MRNs object at 0x7fddb37ad9b0>\n",
      "Fetching data for Diagnosis (...)\n",
      "Fetching data for <fiber.condition.mrns.MRNs object at 0x7fddb37ad9b0>\n",
      "Fetching data for Diagnosis (...)\n",
      "Fetching data for <fiber.condition.mrns.MRNs object at 0x7fddb37ad9b0>\n",
      "Fetching data for Diagnosis (...)\n"
     ]
    }
   ],
   "source": [
    "cmv_cond = Diagnosis(code='078.5', context='ICD-9') | Diagnosis(code=['B25%'], context='ICD-10')\n",
    "cmv_longitudinality = _fetch_data(\n",
    "    cohort=cohort, \n",
    "    condition=cmv_cond,\n",
    "    lower_limit=-361,\n",
    "    upper_limit=365\n",
    ")\n",
    "\n",
    "uti_cond = Diagnosis(code='599.0', context='ICD-9') | Diagnosis(code=['N39.0'], context='ICD-10')\n",
    "uti_longitudinality = _fetch_data(\n",
    "    cohort=cohort, \n",
    "    condition=uti_cond,\n",
    "    lower_limit=-361,\n",
    "    upper_limit=365\n",
    ")\n",
    "\n",
    "ovi_cond = Diagnosis(\n",
    "    code=[\n",
    "        'B33.%',   # other\n",
    "        'B34.%',   # unspecified\n",
    "        'B27.90',  # Infectious mononucleosis, unspecified without complication (EBV)\n",
    "        'B97.89',  # Other viral agents as the cause of diseases classified elsewhere, BK virus\n",
    "        'B15.%',   # HAV\n",
    "        'B16.%',   # HBV\n",
    "        'B17.%',   # other acute viral hepatitis (including HCV)\n",
    "        'B18.%',   # chronic hepatitis\n",
    "        'B19.%',   # unspecified chronic hepatitis\n",
    "        'B20',     # HIV\n",
    "        'B02.%',   # Varicella Zoster \n",
    "    ], \n",
    "    context='ICD-10'\n",
    ") | Diagnosis(\n",
    "    code=[\n",
    "        '070.%',\n",
    "        '071.%',\n",
    "        '072.%',\n",
    "        '073.%',\n",
    "        '074.%',\n",
    "        '075.%',\n",
    "        '076.%',\n",
    "        '077.%',\n",
    "        '078.%',\n",
    "        '079.%',\n",
    "        '042',     # HIV\n",
    "        '053.%',   # Varicella Zoster\n",
    "    ],\n",
    "    context='ICD-9'\n",
    ")\n",
    "ovi_longitudinality = _fetch_data(\n",
    "    cohort=cohort, \n",
    "    condition=ovi_cond,\n",
    "    lower_limit=-361,\n",
    "    upper_limit=365\n",
    ")"
   ]
  },
  {
   "cell_type": "code",
   "execution_count": 145,
   "metadata": {},
   "outputs": [],
   "source": [
    "def transform(x):\n",
    "    a = min(x.time_delta_in_days)\n",
    "    if a != 0:\n",
    "        return a"
   ]
  },
  {
   "cell_type": "code",
   "execution_count": 170,
   "metadata": {},
   "outputs": [
    {
     "data": {
      "text/plain": [
       "(364.0,)"
      ]
     },
     "execution_count": 170,
     "metadata": {},
     "output_type": "execute_result"
    }
   ],
   "source": [
    "uti_longitudinality.time_delta_in_days.max(),"
   ]
  },
  {
   "cell_type": "code",
   "execution_count": 172,
   "metadata": {},
   "outputs": [
    {
     "data": {
      "image/png": "[encoded data removed]",
      "text/plain": [
       "<Figure size 288x288 with 1 Axes>"
      ]
     },
     "metadata": {
      "needs_background": "light"
     },
     "output_type": "display_data"
    },
    {
     "data": {
      "image/png": "[encoded data removed]",
      "text/plain": [
       "<Figure size 288x288 with 1 Axes>"
      ]
     },
     "metadata": {
      "needs_background": "light"
     },
     "output_type": "display_data"
    },
    {
     "data": {
      "image/png": "[encoded data removed]",
      "text/plain": [
       "<Figure size 288x288 with 1 Axes>"
      ]
     },
     "metadata": {
      "needs_background": "light"
     },
     "output_type": "display_data"
    }
   ],
   "source": [
    "fig, ax = plt.subplots(1,1, figsize=[4,4])\n",
    "\n",
    "hist(uti_longitudinality.time_delta_in_days, ax=ax, norm_hist=False, kde=False, bins=200)\n",
    "ax.set_xlabel('Time in days relative to transplant', fontsize=14)\n",
    "ax.set_ylabel('\\# Diagnosis', fontsize=14)\n",
    "ax.set_xlim([-365,365])\n",
    "fig.savefig('/home/martet02/longitudinality-analysis-uti.pdf', bbox_inches='tight')\n",
    "\n",
    "\n",
    "fig, ax = plt.subplots(1,1, figsize=[4,4])\n",
    "\n",
    "hist(cmv_longitudinality.time_delta_in_days, ax=ax, norm_hist=False, kde=False, bins=200)\n",
    "ax.set_xlabel('Time in days relative to transplant', fontsize=14)\n",
    "ax.set_ylabel('\\# Diagnosis', fontsize=14)\n",
    "ax.set_xlim([-365,365])\n",
    "fig.savefig('/home/martet02/longitudinality-analysis-cmv.pdf', bbox_inches='tight')\n",
    "\n",
    "\n",
    "fig, ax = plt.subplots(1,1, figsize=[4,4])\n",
    "\n",
    "hist(ovi_longitudinality.time_delta_in_days, ax=ax, norm_hist=False, kde=False, bins=200)\n",
    "ax.set_xlabel('Time in days relative to transplant', fontsize=14)\n",
    "ax.set_ylabel('\\# Diagnosis', fontsize=14)\n",
    "ax.set_xlim([-365,365])\n",
    "fig.savefig('/home/martet02/longitudinality-analysis-ovi.pdf', bbox_inches='tight')"
   ]
  },
  {
   "cell_type": "code",
   "execution_count": 173,
   "metadata": {},
   "outputs": [],
   "source": [
    "import pandas as pd"
   ]
  },
  {
   "cell_type": "code",
   "execution_count": 217,
   "metadata": {
    "scrolled": true
   },
   "outputs": [
    {
     "data": {
      "text/plain": [
       "<matplotlib.axes._subplots.AxesSubplot at 0x7fddd55ebdd8>"
      ]
     },
     "execution_count": 217,
     "metadata": {},
     "output_type": "execute_result"
    },
    {
     "data": {
      "image/png": "[encoded data removed]",
      "text/plain": [
       "<Figure size 288x288 with 1 Axes>"
      ]
     },
     "metadata": {
      "needs_background": "light"
     },
     "output_type": "display_data"
    }
   ],
   "source": [
    "fig, ax = plt.subplots(1,1, figsize=[4,4])\n",
    "\n",
    "df = pd.DataFrame([\n",
    "    *[{'infection': 'UTI', '': 'before tx'} for x in range(74)],\n",
    "    *[{'infection': 'UTI', '': 'after tx'} for x in range(703)],\n",
    "    *[{'infection': 'CMV', '': 'before tx'} for x in range(10)],\n",
    "    *[{'infection': 'CMV', '': 'after tx'} for x in range(133)],\n",
    "    *[{'infection': 'OVI', '': 'before tx'} for x in range(294)],\n",
    "    *[{'infection': 'OVI', '': 'after tx'} for x in range(582)],\n",
    "])\n",
    "\n",
    "sns.countplot(x=\"infection\", hue=\"\", data=df, ax=ax)\n",
    "ax.set_ylabel('\\# Patients')\n",
    "ax.set_xlabel('Infection')"
   ]
  }
 ],
 "metadata": {
  "kernelspec": {
   "display_name": "Python 3",
   "language": "python",
   "name": "python3"
  },
  "language_info": {
   "codemirror_mode": {
    "name": "ipython",
    "version": 3
   },
   "file_extension": ".py",
   "mimetype": "text/x-python",
   "name": "python",
   "nbconvert_exporter": "python",
   "pygments_lexer": "ipython3",
   "version": "3.6.9"
  }
 },
 "nbformat": 4,
 "nbformat_minor": 2
}
