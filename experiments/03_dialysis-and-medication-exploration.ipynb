{
 "cells": [
  {
   "cell_type": "code",
   "execution_count": null,
   "metadata": {
    "scrolled": true
   },
   "outputs": [],
   "source": [
    "%run 00_default_options.ipynb"
   ]
  },
  {
   "cell_type": "markdown",
   "metadata": {},
   "source": [
    "# Dialysis modality\n",
    "\n",
    "This proves to be more difficult. We suggest the following steps.\n",
    "\n",
    "* Identify relevant Procedure and Diagnosis codes"
   ]
  },
  {
   "cell_type": "code",
   "execution_count": null,
   "metadata": {
    "scrolled": true
   },
   "outputs": [],
   "source": [
    "from fiber.condition import Procedure\n",
    "Procedure(\n",
    "    description='%dialysis%', \n",
    "    code='%', \n",
    "    context='ICD-%'\n",
    ").patients_per('context_procedure_code', 'procedure_description', 'context_name')"
   ]
  },
  {
   "cell_type": "code",
   "execution_count": null,
   "metadata": {},
   "outputs": [],
   "source": [
    "from fiber.condition import Procedure\n",
    "Procedure(\n",
    "    description='%dialysis%', \n",
    "    code='%', \n",
    "    context='CPT-4'\n",
    ").patients_per('context_procedure_code', 'procedure_description', 'context_name')"
   ]
  },
  {
   "cell_type": "code",
   "execution_count": null,
   "metadata": {},
   "outputs": [],
   "source": [
    "from fiber.condition import Diagnosis\n",
    "Diagnosis(\n",
    "    description='%dialysis%', \n",
    "    code='%', \n",
    "    context='ICD-%'\n",
    ").patients_per('context_diagnosis_code', 'description', 'diagnosis_type').head(10)"
   ]
  },
  {
   "cell_type": "code",
   "execution_count": null,
   "metadata": {
    "scrolled": false
   },
   "outputs": [],
   "source": [
    "dialysis_proc_cond = Procedure('39.95', 'ICD-9')\n",
    "dialysis_diag_cond = Diagnosis('V45.11', 'ICD-9') | Diagnosis('Z99.2', 'ICD-10')"
   ]
  },
  {
   "cell_type": "code",
   "execution_count": null,
   "metadata": {},
   "outputs": [],
   "source": [
    "from fiberutils.condition_utils import *\n",
    "\n",
    "result = condition_occurrence_distribution(\n",
    "    cohort, dialysis_proc_cond, time_windows=[[-365, 0]]\n",
    ")"
   ]
  },
  {
   "cell_type": "code",
   "execution_count": null,
   "metadata": {},
   "outputs": [],
   "source": [
    "result['code_counts']['figures']['-365 to 0 days']"
   ]
  },
  {
   "cell_type": "code",
   "execution_count": null,
   "metadata": {
    "scrolled": false
   },
   "outputs": [],
   "source": [
    "number_condition_occurrences_per_patient(cohort, dialysis_diag_cond)['figure']"
   ]
  },
  {
   "cell_type": "code",
   "execution_count": null,
   "metadata": {},
   "outputs": [],
   "source": [
    "number_condition_occurrences_per_patient(cohort, dialysis_proc_cond)['figure']"
   ]
  },
  {
   "cell_type": "code",
   "execution_count": null,
   "metadata": {
    "scrolled": false
   },
   "outputs": [],
   "source": [
    "plot_condition_first_occurrence_on_day_hist(cohort, dialysis_diag_cond, -365, -1)['figure'], \\\n",
    "plot_condition_first_occurrence_on_day_hist(cohort, dialysis_proc_cond, -365, -1)['figure']"
   ]
  },
  {
   "cell_type": "code",
   "execution_count": null,
   "metadata": {
    "scrolled": false
   },
   "outputs": [],
   "source": [
    "plot_condition_last_occurrence_on_day_hist(cohort, dialysis_diag_cond, -365, -1)['figure'], \\\n",
    "plot_condition_last_occurrence_on_day_hist(cohort, dialysis_proc_cond, -365, -1)['figure']"
   ]
  }
 ],
 "metadata": {
  "kernelspec": {
   "display_name": "Python 3",
   "language": "python",
   "name": "python3"
  },
  "language_info": {
   "codemirror_mode": {
    "name": "ipython",
    "version": 3
   },
   "file_extension": ".py",
   "mimetype": "text/x-python",
   "name": "python",
   "nbconvert_exporter": "python",
   "pygments_lexer": "ipython3",
   "version": "3.6.9"
  }
 },
 "nbformat": 4,
 "nbformat_minor": 2
}
