{
 "cells": [
  {
   "cell_type": "code",
   "execution_count": 1,
   "metadata": {},
   "outputs": [],
   "source": [
    "%run ../00_default_options.ipynb"
   ]
  },
  {
   "cell_type": "code",
   "execution_count": 2,
   "metadata": {},
   "outputs": [
    {
     "name": "stderr",
     "output_type": "stream",
     "text": [
      "[2020-06-09 06:02:05,825] INFO in __init__: RobotEHR API\n"
     ]
    }
   ],
   "source": [
    "from robotehr.api.training import get_training_results\n",
    "from robotehr.pipelines import training\n",
    "from robotehr.models.cohort import Cohort, OnsetDataFrame\n",
    "from robotehr.models.data import FeaturePipeline\n",
    "from robotehr.pipelines.supporters.preprocessing import DataLoader"
   ]
  },
  {
   "cell_type": "code",
   "execution_count": 3,
   "metadata": {},
   "outputs": [],
   "source": [
    "cohort = Cohort.load(id=1)"
   ]
  },
  {
   "cell_type": "code",
   "execution_count": 4,
   "metadata": {},
   "outputs": [],
   "source": [
    "onset_dataframe = OnsetDataFrame.load(id=15)"
   ]
  },
  {
   "cell_type": "code",
   "execution_count": 5,
   "metadata": {},
   "outputs": [],
   "source": [
    "feature_pipeline = FeaturePipeline.load(id=21)"
   ]
  },
  {
   "cell_type": "code",
   "execution_count": 6,
   "metadata": {},
   "outputs": [
    {
     "name": "stderr",
     "output_type": "stream",
     "text": [
      "Using TensorFlow backend.\n"
     ]
    }
   ],
   "source": [
    "import morpher.config\n",
    "from morpher.jobs import *"
   ]
  },
  {
   "cell_type": "code",
   "execution_count": 13,
   "metadata": {},
   "outputs": [],
   "source": [
    "regexes = [\n",
    "    'any__Diagnosis__',\n",
    "    'any__Procedure__', \n",
    "    'any__Drug__', \n",
    "    'any__Material__', \n",
    "    'any__Encounter__', \n",
    "    'any__AlcoholUse__', \n",
    "    'any__DrugUse__', \n",
    "    'any__TobaccoUse__',\n",
    "    'min__height__', \n",
    "    'min__weight__', \n",
    "    'min__vitalsign__', \n",
    "    'min__measurement__', \n",
    "    'min__labvalue__', \n",
    "    'max__height__', \n",
    "    'max__weight__', \n",
    "    'max__vitalsign__', \n",
    "    'max__measurement__', \n",
    "    'max__labvalue__'\n",
    "]\n",
    "\n",
    "column_selector = \"\"\n",
    "for r in regexes:\n",
    "    column_selector += r + \"|\"\n",
    "column_selector = column_selector[:-1]"
   ]
  },
  {
   "cell_type": "code",
   "execution_count": 14,
   "metadata": {},
   "outputs": [],
   "source": [
    "class CustomDataLoader(DataLoader):\n",
    "    def transform(self, X, y):\n",
    "        from sklearn.preprocessing import OneHotEncoder\n",
    "        from enum import Enum\n",
    "\n",
    "        # remove unused features\n",
    "        del X['medical_record_number']\n",
    "        del X['mother_account_number']\n",
    "        del X['date_of_birth']\n",
    "        del X['month_of_birth']\n",
    "        del X['patient_ethnic_group']\n",
    "        del X['religion']\n",
    "        del X['address_zip']\n",
    "        del X['deceased_indicator']\n",
    "        del X['marital_status_code']\n",
    "\n",
    "        class RaceType(str, Enum):\n",
    "            AFRICAN = 'African'\n",
    "            AMERICAN_BLACK = 'Black or African-American'\n",
    "            AMERICAN_NATIVE = 'Native American'\n",
    "            ASIAN = 'Asian'\n",
    "            ASIAN_PACIFIC = 'Asian Pacific'\n",
    "            ASIAN_INDIAN = 'Asian Indian'\n",
    "            ASIAN_CHINESE = 'Asian Chinese'\n",
    "            HISPANIC = 'Hispanic or Latino'\n",
    "            OTHER = 'Other'\n",
    "            WHITE = 'White'\n",
    "\n",
    "        RACE_MAPPING = {\n",
    "            RaceType.AFRICAN: [\n",
    "                'Cape Verdian',\n",
    "                'Congolese',\n",
    "                'Eritrean',\n",
    "                'Ethiopian',\n",
    "                'Gabonian',\n",
    "                'Ghanaian',\n",
    "                'Guinean',\n",
    "                'Ivory Coastian',\n",
    "                'Kenyan',\n",
    "                'Liberian',\n",
    "                'Madagascar',\n",
    "                'Malian',\n",
    "                'Nigerian',\n",
    "                'Other: East African',\n",
    "                'Other: North African',\n",
    "                'Other: South African',\n",
    "                'Other: West African',\n",
    "                'Senegalese',\n",
    "                'Sierra Leonean',\n",
    "                'Somalian',\n",
    "                'Sudanese',\n",
    "                'Tanzanian',\n",
    "                'Togolese',\n",
    "                'Ugandan',\n",
    "                'Zimbabwean'\n",
    "            ],\n",
    "            RaceType.AMERICAN_BLACK: [\n",
    "                'African American (Black)',\n",
    "                'African-American',\n",
    "                'Black Or African-American',\n",
    "                'Black or African - American',\n",
    "            ],\n",
    "            RaceType.AMERICAN_NATIVE: [\n",
    "                'American (Indian/Alaskan)',\n",
    "                'Native American'\n",
    "            ],\n",
    "            RaceType.ASIAN: [\n",
    "                'Asian',\n",
    "                'Bangladeshi',\n",
    "                'Bhutanese',\n",
    "                'Burmese',\n",
    "                'Cambodian',\n",
    "                'Hmong',\n",
    "                'Indonesian',\n",
    "                'Japanese',\n",
    "                'Korean',\n",
    "                'Laotian',\n",
    "                'Malaysian',\n",
    "                'Maldivian',\n",
    "                'Nepalese',\n",
    "                'Okinawan',\n",
    "                'Pakistani',\n",
    "                'Singaporean',\n",
    "                'Taiwanese',\n",
    "                'Thai',\n",
    "                'Vietnamese',\n",
    "                'Yapese'\n",
    "            ],\n",
    "            RaceType.ASIAN_PACIFIC: [\n",
    "                'Asian (Pacific Islander)',\n",
    "                'Carolinian',\n",
    "                'Chamorro',\n",
    "                'Chuukese',\n",
    "                'Fijian',\n",
    "                'Filipino',\n",
    "                'Guamanian',\n",
    "                'Guamanian Or Chamorro',\n",
    "                'Guamanian or Chamorro',\n",
    "                'Iwo Jiman',\n",
    "                'Kiribati',\n",
    "                'Kosraean',\n",
    "                'Mariana Islander',\n",
    "                'Marshallese',\n",
    "                'Melanesian',\n",
    "                'Micronesian',\n",
    "                'Native Hawaiian',\n",
    "                'New Hebrides',\n",
    "                'Other Pacific Islander',\n",
    "                'Pacific Islander',\n",
    "                'Palauan',\n",
    "                'Pohnpeian',\n",
    "                'Polynesian',\n",
    "                'Saipanese',\n",
    "                'Samoan',\n",
    "                'Papua New Guinean',\n",
    "                'Tahitian',\n",
    "                'Tokelauan',\n",
    "                'Tongan'\n",
    "            ],\n",
    "            RaceType.ASIAN_INDIAN: [\n",
    "                'Asian Indian',\n",
    "                'Sri Lankan',\n",
    "                'Sri lankan',\n",
    "                'West Indian'\n",
    "            ],\n",
    "            RaceType.ASIAN_CHINESE: [\n",
    "                'Chinese',\n",
    "            ],\n",
    "            RaceType.HISPANIC: [\n",
    "                'Barbadian',\n",
    "                'Dominica Islander',\n",
    "                'Grenadian',\n",
    "                'Haitian',\n",
    "                'Hispanic/Latino',\n",
    "                'Jamaican',\n",
    "                'St Vincentian',\n",
    "                'Trinidadian'\n",
    "            ],\n",
    "            RaceType.OTHER: [\n",
    "                '',\n",
    "                'Aa',\n",
    "                'Ab',\n",
    "                'Af',\n",
    "                'Ag',\n",
    "                'Ak',\n",
    "                'Al',\n",
    "                'Ap',\n",
    "                'Ar',\n",
    "                'Av',\n",
    "                'Ay',\n",
    "                'B',\n",
    "                'B1',\n",
    "                'B2',\n",
    "                'B3',\n",
    "                'B4',\n",
    "                'B5',\n",
    "                'B6',\n",
    "                'B7',\n",
    "                'B8',\n",
    "                'B9',\n",
    "                'Ba',\n",
    "                'Bb',\n",
    "                'Bc',\n",
    "                'Bd',\n",
    "                'Be',\n",
    "                'Bf',\n",
    "                'Bg',\n",
    "                'Bh',\n",
    "                'Bj',\n",
    "                'Bk',\n",
    "                'Bm',\n",
    "                'Bn',\n",
    "                'Bo',\n",
    "                'Bp',\n",
    "                'Bq',\n",
    "                'Br',\n",
    "                'Bs',\n",
    "                'Bt',\n",
    "                'Bu',\n",
    "                'Bv',\n",
    "                'Bw',\n",
    "                'Bx',\n",
    "                'By',\n",
    "                'Bz',\n",
    "                'I',\n",
    "                'MSDW_NOT APPLICABLE',\n",
    "                'MSDW_OTHER',\n",
    "                'MSDW_UNKNOWN',\n",
    "                'NOT AVAILABLE',\n",
    "                'Non Hispanic',\n",
    "                'O',\n",
    "                'Other',\n",
    "                'Pk',\n",
    "                'Pl',\n",
    "                'Pm',\n",
    "                'Po',\n",
    "                'Ps',\n",
    "                'Pv',\n",
    "                'U',\n",
    "                'Unk',\n",
    "                'Unknown',\n",
    "                'W'\n",
    "            ],\n",
    "            RaceType.WHITE: [\n",
    "                'Caucasian (White)',\n",
    "                'White'\n",
    "            ]\n",
    "        }\n",
    "\n",
    "        # value mapping\n",
    "        X['race'] = (\n",
    "            X.race.map({\n",
    "                label: cat for cat, labels in RACE_MAPPING.items()\n",
    "                for label in labels\n",
    "            }).astype(pd.api.types.CategoricalDtype(RaceType))\n",
    "        )\n",
    "\n",
    "        # pre-encoding nan handling\n",
    "        for column in ['gender', 'race']:\n",
    "            enc = OneHotEncoder(sparse=False)\n",
    "            transformed_data = enc.fit_transform(X[[column]])\n",
    "            transformed_columns = pd.DataFrame(\n",
    "                data=transformed_data, \n",
    "                columns=[f'{column}_{c}' for c in enc.categories_[0]]\n",
    "            )\n",
    "            X = X.join(transformed_columns)\n",
    "            del X[column]\n",
    "        X[X.columns[X.columns.str.contains('any')]] = X[X.columns[X.columns.str.contains('any')]].fillna(False)\n",
    "        return X, y\n",
    "        \n",
    "    def transform_training_data(self, X_train, y_train):\n",
    "        from sklearn.preprocessing import StandardScaler\n",
    "        scaler = StandardScaler()\n",
    "        self.objects['scaler'] = scaler\n",
    "        X_train_scaled = scaler.fit_transform(X_train)\n",
    "        \n",
    "        from sklearn.impute import SimpleImputer\n",
    "        imputer = SimpleImputer()\n",
    "        self.objects['imputer'] = imputer\n",
    "        X_train_imputed = imputer.fit_transform(X_train_scaled)\n",
    "        \n",
    "        X_train = pd.DataFrame(\n",
    "            data=X_train_imputed, \n",
    "            columns=X_train.columns,\n",
    "            index=X_train.index\n",
    "        )\n",
    "        return X_train, y_train\n",
    "    \n",
    "    def transform_test_data(self, X_test, y_test):\n",
    "        scaler = self.objects['scaler']\n",
    "        imputer = self.objects['imputer']\n",
    "        X_test_scaled = scaler.transform(X_test)\n",
    "        X_test_imputed = imputer.fit_transform(X_test_scaled)\n",
    "        \n",
    "        X_test = pd.DataFrame(\n",
    "            data=X_test_imputed, \n",
    "            columns=X_test.columns,\n",
    "            index=X_test.index\n",
    "        )\n",
    "        return X_test, y_test\n",
    "        \n",
    "\n",
    "data_loader = CustomDataLoader(column_selector=column_selector)"
   ]
  },
  {
   "cell_type": "code",
   "execution_count": 16,
   "metadata": {},
   "outputs": [],
   "source": [
    "from itertools import product"
   ]
  },
  {
   "cell_type": "code",
   "execution_count": 17,
   "metadata": {},
   "outputs": [],
   "source": [
    "thresholds_numeric = [(x / 100) for x in range(5, 100, 5)]\n",
    "observation_windows_numeric = [[x, -1] for x in range(-361, -1, 30)]\n",
    "thresholds_occurring = [(x / 100) for x in range(5, 100, 5)]\n",
    "observation_windows_occurring = [[x, -1] for x in range(-361, -1, 30)]"
   ]
  },
  {
   "cell_type": "code",
   "execution_count": 18,
   "metadata": {},
   "outputs": [],
   "source": [
    "iterator = product(\n",
    "    thresholds_numeric,\n",
    "    observation_windows_numeric,\n",
    "    thresholds_occurring,\n",
    "    observation_windows_occurring\n",
    ")\n",
    "\n",
    "configs = [x for x in iterator if x[0] == x[2] and x[1] == x[3]]\n",
    "targets = ['cytomegaloviral_disease_onset_from_0_days_after_to_365_days_after']\n",
    "algorithms = [morpher.config.algorithms.GBDT, morpher.config.algorithms.RF, morpher.config.algorithms.DT, morpher.config.algorithms.LR]\n",
    "samplers = [morpher.config.samplers.RANDOM, morpher.config.samplers.URANDOM, morpher.config.samplers.BORDERLINE, morpher.config.samplers.SMOTE, morpher.config.samplers.NOSAMPLER]"
   ]
  },
  {
   "cell_type": "code",
   "execution_count": null,
   "metadata": {
    "scrolled": true
   },
   "outputs": [
    {
     "name": "stderr",
     "output_type": "stream",
     "text": [
      "Columns (11,18,19,20,24,35,64,83,90,92,94,96,97,106,114,117,120,125,126,133,136,140,141,142,143,144,150,178,235,244,248,288,311,317,320,325,326,330,334,341,353,359,360,361,365,402,421,425,430,434,436,439,446) have mixed types. Specify dtype option on import or set low_memory=False.\n"
     ]
    },
    {
     "name": "stdout",
     "output_type": "stream",
     "text": [
      "Fetching data for <fiber.condition.mrns.MRNs object at 0x7f1c221f70f0>\n",
      "Fetching data for Patient (...)\n"
     ]
    },
    {
     "name": "stderr",
     "output_type": "stream",
     "text": [
      "Data with input dtype bool, float64 were all converted to float64 by StandardScaler.\n",
      "Data with input dtype bool, float64 were all converted to float64 by StandardScaler.\n",
      "Data with input dtype bool, float64 were all converted to float64 by StandardScaler.\n"
     ]
    },
    {
     "name": "stdout",
     "output_type": "stream",
     "text": [
      "*** Training of model 'GradientBoostingClassifier' started.\n",
      "*** Training of classifier ready. Time elapsed: 2.131ms\n",
      "\n"
     ]
    },
    {
     "name": "stderr",
     "output_type": "stream",
     "text": [
      "F-score is ill-defined and being set to 0.0 due to no predicted samples.\n",
      "Precision is ill-defined and being set to 0.0 due to no predicted samples.\n",
      "invalid value encountered in long_scalars\n",
      "Data with input dtype bool, float64 were all converted to float64 by StandardScaler.\n",
      "Data with input dtype bool, float64 were all converted to float64 by StandardScaler.\n",
      "Data with input dtype bool, float64 were all converted to float64 by StandardScaler.\n"
     ]
    },
    {
     "name": "stdout",
     "output_type": "stream",
     "text": [
      "*** Training of model 'GradientBoostingClassifier' started.\n",
      "*** Training of classifier ready. Time elapsed: 594.42ms\n",
      "\n"
     ]
    },
    {
     "name": "stderr",
     "output_type": "stream",
     "text": [
      "F-score is ill-defined and being set to 0.0 due to no predicted samples.\n",
      "Precision is ill-defined and being set to 0.0 due to no predicted samples.\n",
      "invalid value encountered in long_scalars\n",
      "Data with input dtype bool, float64 were all converted to float64 by StandardScaler.\n",
      "Data with input dtype bool, float64 were all converted to float64 by StandardScaler.\n",
      "Data with input dtype bool, float64 were all converted to float64 by StandardScaler.\n"
     ]
    },
    {
     "name": "stdout",
     "output_type": "stream",
     "text": [
      "*** Training of model 'GradientBoostingClassifier' started.\n",
      "*** Training of classifier ready. Time elapsed: 139.248ms\n",
      "\n"
     ]
    },
    {
     "name": "stderr",
     "output_type": "stream",
     "text": [
      "F-score is ill-defined and being set to 0.0 due to no predicted samples.\n",
      "Precision is ill-defined and being set to 0.0 due to no predicted samples.\n",
      "invalid value encountered in long_scalars\n",
      "Data with input dtype bool, float64 were all converted to float64 by StandardScaler.\n",
      "Data with input dtype bool, float64 were all converted to float64 by StandardScaler.\n",
      "Data with input dtype bool, float64 were all converted to float64 by StandardScaler.\n"
     ]
    },
    {
     "name": "stdout",
     "output_type": "stream",
     "text": [
      "*** Training of model 'GradientBoostingClassifier' started.\n",
      "*** Training of classifier ready. Time elapsed: 610.793ms\n",
      "\n"
     ]
    },
    {
     "name": "stderr",
     "output_type": "stream",
     "text": [
      "F-score is ill-defined and being set to 0.0 due to no predicted samples.\n",
      "Precision is ill-defined and being set to 0.0 due to no predicted samples.\n",
      "invalid value encountered in long_scalars\n",
      "Data with input dtype bool, float64 were all converted to float64 by StandardScaler.\n",
      "Data with input dtype bool, float64 were all converted to float64 by StandardScaler.\n",
      "Data with input dtype bool, float64 were all converted to float64 by StandardScaler.\n"
     ]
    },
    {
     "name": "stdout",
     "output_type": "stream",
     "text": [
      "*** Training of model 'GradientBoostingClassifier' started.\n",
      "*** Training of classifier ready. Time elapsed: 301.134ms\n",
      "\n"
     ]
    },
    {
     "name": "stderr",
     "output_type": "stream",
     "text": [
      "Data with input dtype bool, float64 were all converted to float64 by StandardScaler.\n",
      "Data with input dtype bool, float64 were all converted to float64 by StandardScaler.\n",
      "Data with input dtype bool, float64 were all converted to float64 by StandardScaler.\n"
     ]
    },
    {
     "name": "stdout",
     "output_type": "stream",
     "text": [
      "*** Training of model 'GradientBoostingClassifier' started.\n",
      "*** Training of classifier ready. Time elapsed: 525.075ms\n",
      "\n"
     ]
    },
    {
     "name": "stderr",
     "output_type": "stream",
     "text": [
      "Data with input dtype bool, float64 were all converted to float64 by StandardScaler.\n",
      "Data with input dtype bool, float64 were all converted to float64 by StandardScaler.\n",
      "Data with input dtype bool, float64 were all converted to float64 by StandardScaler.\n"
     ]
    },
    {
     "name": "stdout",
     "output_type": "stream",
     "text": [
      "*** Training of model 'GradientBoostingClassifier' started.\n",
      "*** Training of classifier ready. Time elapsed: 700.622ms\n",
      "\n"
     ]
    },
    {
     "name": "stderr",
     "output_type": "stream",
     "text": [
      "Data with input dtype bool, float64 were all converted to float64 by StandardScaler.\n",
      "Data with input dtype bool, float64 were all converted to float64 by StandardScaler.\n",
      "Data with input dtype bool, float64 were all converted to float64 by StandardScaler.\n"
     ]
    },
    {
     "name": "stdout",
     "output_type": "stream",
     "text": [
      "*** Training of model 'GradientBoostingClassifier' started.\n",
      "*** Training of classifier ready. Time elapsed: 450.475ms\n",
      "\n"
     ]
    },
    {
     "name": "stderr",
     "output_type": "stream",
     "text": [
      "Data with input dtype bool, float64 were all converted to float64 by StandardScaler.\n",
      "Data with input dtype bool, float64 were all converted to float64 by StandardScaler.\n",
      "Data with input dtype bool, float64 were all converted to float64 by StandardScaler.\n"
     ]
    },
    {
     "name": "stdout",
     "output_type": "stream",
     "text": [
      "*** Training of model 'GradientBoostingClassifier' started.\n",
      "*** Training of classifier ready. Time elapsed: 543.563ms\n",
      "\n"
     ]
    },
    {
     "name": "stderr",
     "output_type": "stream",
     "text": [
      "Data with input dtype bool, float64 were all converted to float64 by StandardScaler.\n",
      "Data with input dtype bool, float64 were all converted to float64 by StandardScaler.\n",
      "Data with input dtype bool, float64 were all converted to float64 by StandardScaler.\n"
     ]
    },
    {
     "name": "stdout",
     "output_type": "stream",
     "text": [
      "*** Training of model 'GradientBoostingClassifier' started.\n",
      "*** Training of classifier ready. Time elapsed: 582.471ms\n",
      "\n"
     ]
    },
    {
     "name": "stderr",
     "output_type": "stream",
     "text": [
      "Data with input dtype bool, float64 were all converted to float64 by StandardScaler.\n",
      "Data with input dtype bool, float64 were all converted to float64 by StandardScaler.\n",
      "Data with input dtype bool, float64 were all converted to float64 by StandardScaler.\n"
     ]
    },
    {
     "name": "stdout",
     "output_type": "stream",
     "text": [
      "*** Training of model 'GradientBoostingClassifier' started.\n",
      "*** Training of classifier ready. Time elapsed: 556.684ms\n",
      "\n"
     ]
    },
    {
     "name": "stderr",
     "output_type": "stream",
     "text": [
      "Data with input dtype bool, float64 were all converted to float64 by StandardScaler.\n",
      "Data with input dtype bool, float64 were all converted to float64 by StandardScaler.\n",
      "Data with input dtype bool, float64 were all converted to float64 by StandardScaler.\n"
     ]
    },
    {
     "name": "stdout",
     "output_type": "stream",
     "text": [
      "*** Training of model 'GradientBoostingClassifier' started.\n",
      "*** Training of classifier ready. Time elapsed: 105.884ms\n",
      "\n"
     ]
    },
    {
     "name": "stderr",
     "output_type": "stream",
     "text": [
      "Data with input dtype bool, float64 were all converted to float64 by StandardScaler.\n",
      "Data with input dtype bool, float64 were all converted to float64 by StandardScaler.\n",
      "Data with input dtype bool, float64 were all converted to float64 by StandardScaler.\n"
     ]
    },
    {
     "name": "stdout",
     "output_type": "stream",
     "text": [
      "*** Training of model 'GradientBoostingClassifier' started.\n",
      "*** Training of classifier ready. Time elapsed: 876.355ms\n",
      "\n"
     ]
    },
    {
     "name": "stderr",
     "output_type": "stream",
     "text": [
      "Data with input dtype bool, float64 were all converted to float64 by StandardScaler.\n",
      "Data with input dtype bool, float64 were all converted to float64 by StandardScaler.\n",
      "Data with input dtype bool, float64 were all converted to float64 by StandardScaler.\n"
     ]
    },
    {
     "name": "stdout",
     "output_type": "stream",
     "text": [
      "*** Training of model 'GradientBoostingClassifier' started.\n",
      "*** Training of classifier ready. Time elapsed: 626.86ms\n",
      "\n"
     ]
    },
    {
     "name": "stderr",
     "output_type": "stream",
     "text": [
      "Data with input dtype bool, float64 were all converted to float64 by StandardScaler.\n",
      "Data with input dtype bool, float64 were all converted to float64 by StandardScaler.\n",
      "Data with input dtype bool, float64 were all converted to float64 by StandardScaler.\n"
     ]
    },
    {
     "name": "stdout",
     "output_type": "stream",
     "text": [
      "*** Training of model 'GradientBoostingClassifier' started.\n",
      "*** Training of classifier ready. Time elapsed: 183.67ms\n",
      "\n"
     ]
    },
    {
     "name": "stderr",
     "output_type": "stream",
     "text": [
      "Data with input dtype bool, float64 were all converted to float64 by StandardScaler.\n",
      "Data with input dtype bool, float64 were all converted to float64 by StandardScaler.\n",
      "Data with input dtype bool, float64 were all converted to float64 by StandardScaler.\n"
     ]
    },
    {
     "name": "stdout",
     "output_type": "stream",
     "text": [
      "*** Training of model 'GradientBoostingClassifier' started.\n",
      "*** Training of classifier ready. Time elapsed: 388.408ms\n",
      "\n"
     ]
    },
    {
     "name": "stderr",
     "output_type": "stream",
     "text": [
      "Data with input dtype bool, float64 were all converted to float64 by StandardScaler.\n",
      "Data with input dtype bool, float64 were all converted to float64 by StandardScaler.\n",
      "Data with input dtype bool, float64 were all converted to float64 by StandardScaler.\n"
     ]
    },
    {
     "name": "stdout",
     "output_type": "stream",
     "text": [
      "*** Training of model 'GradientBoostingClassifier' started.\n",
      "*** Training of classifier ready. Time elapsed: 1.105ms\n",
      "\n"
     ]
    },
    {
     "name": "stderr",
     "output_type": "stream",
     "text": [
      "Data with input dtype bool, float64 were all converted to float64 by StandardScaler.\n",
      "Data with input dtype bool, float64 were all converted to float64 by StandardScaler.\n",
      "Data with input dtype bool, float64 were all converted to float64 by StandardScaler.\n"
     ]
    },
    {
     "name": "stdout",
     "output_type": "stream",
     "text": [
      "*** Training of model 'GradientBoostingClassifier' started.\n",
      "*** Training of classifier ready. Time elapsed: 253.85ms\n",
      "\n"
     ]
    },
    {
     "name": "stderr",
     "output_type": "stream",
     "text": [
      "Data with input dtype bool, float64 were all converted to float64 by StandardScaler.\n",
      "Data with input dtype bool, float64 were all converted to float64 by StandardScaler.\n",
      "Data with input dtype bool, float64 were all converted to float64 by StandardScaler.\n"
     ]
    },
    {
     "name": "stdout",
     "output_type": "stream",
     "text": [
      "*** Training of model 'GradientBoostingClassifier' started.\n",
      "*** Training of classifier ready. Time elapsed: 270.348ms\n",
      "\n"
     ]
    },
    {
     "name": "stderr",
     "output_type": "stream",
     "text": [
      "Data with input dtype bool, float64 were all converted to float64 by StandardScaler.\n",
      "Data with input dtype bool, float64 were all converted to float64 by StandardScaler.\n",
      "Data with input dtype bool, float64 were all converted to float64 by StandardScaler.\n"
     ]
    },
    {
     "name": "stdout",
     "output_type": "stream",
     "text": [
      "*** Training of model 'GradientBoostingClassifier' started.\n",
      "*** Training of classifier ready. Time elapsed: 367.752ms\n",
      "\n"
     ]
    },
    {
     "name": "stderr",
     "output_type": "stream",
     "text": [
      "Data with input dtype bool, float64 were all converted to float64 by StandardScaler.\n",
      "Data with input dtype bool, float64 were all converted to float64 by StandardScaler.\n",
      "Data with input dtype bool, float64 were all converted to float64 by StandardScaler.\n"
     ]
    },
    {
     "name": "stdout",
     "output_type": "stream",
     "text": [
      "*** Training of model 'GradientBoostingClassifier' started.\n",
      "*** Training of classifier ready. Time elapsed: 191.153ms\n",
      "\n"
     ]
    },
    {
     "name": "stderr",
     "output_type": "stream",
     "text": [
      "Data with input dtype bool, float64 were all converted to float64 by StandardScaler.\n",
      "Data with input dtype bool, float64 were all converted to float64 by StandardScaler.\n",
      "Data with input dtype bool, float64 were all converted to float64 by StandardScaler.\n"
     ]
    },
    {
     "name": "stdout",
     "output_type": "stream",
     "text": [
      "*** Training of model 'GradientBoostingClassifier' started.\n",
      "*** Training of classifier ready. Time elapsed: 501.81ms\n",
      "\n"
     ]
    },
    {
     "name": "stderr",
     "output_type": "stream",
     "text": [
      "Data with input dtype bool, float64 were all converted to float64 by StandardScaler.\n",
      "Data with input dtype bool, float64 were all converted to float64 by StandardScaler.\n",
      "Data with input dtype bool, float64 were all converted to float64 by StandardScaler.\n"
     ]
    },
    {
     "name": "stdout",
     "output_type": "stream",
     "text": [
      "*** Training of model 'GradientBoostingClassifier' started.\n",
      "*** Training of classifier ready. Time elapsed: 748.486ms\n",
      "\n"
     ]
    },
    {
     "name": "stderr",
     "output_type": "stream",
     "text": [
      "Data with input dtype bool, float64 were all converted to float64 by StandardScaler.\n",
      "Data with input dtype bool, float64 were all converted to float64 by StandardScaler.\n",
      "Data with input dtype bool, float64 were all converted to float64 by StandardScaler.\n"
     ]
    },
    {
     "name": "stdout",
     "output_type": "stream",
     "text": [
      "*** Training of model 'GradientBoostingClassifier' started.\n",
      "*** Training of classifier ready. Time elapsed: 193.735ms\n",
      "\n"
     ]
    },
    {
     "name": "stderr",
     "output_type": "stream",
     "text": [
      "Data with input dtype bool, float64 were all converted to float64 by StandardScaler.\n",
      "Data with input dtype bool, float64 were all converted to float64 by StandardScaler.\n",
      "Data with input dtype bool, float64 were all converted to float64 by StandardScaler.\n"
     ]
    },
    {
     "name": "stdout",
     "output_type": "stream",
     "text": [
      "*** Training of model 'GradientBoostingClassifier' started.\n",
      "*** Training of classifier ready. Time elapsed: 613.536ms\n",
      "\n"
     ]
    },
    {
     "name": "stderr",
     "output_type": "stream",
     "text": [
      "Data with input dtype bool, float64 were all converted to float64 by StandardScaler.\n",
      "Data with input dtype bool, float64 were all converted to float64 by StandardScaler.\n",
      "Data with input dtype bool, float64 were all converted to float64 by StandardScaler.\n"
     ]
    },
    {
     "name": "stdout",
     "output_type": "stream",
     "text": [
      "*** Training of model 'RandomForestClassifier' started.\n",
      "*** Training of classifier ready. Time elapsed: 188.43ms\n",
      "\n"
     ]
    },
    {
     "name": "stderr",
     "output_type": "stream",
     "text": [
      "F-score is ill-defined and being set to 0.0 due to no predicted samples.\n",
      "Precision is ill-defined and being set to 0.0 due to no predicted samples.\n",
      "invalid value encountered in long_scalars\n",
      "Data with input dtype bool, float64 were all converted to float64 by StandardScaler.\n",
      "Data with input dtype bool, float64 were all converted to float64 by StandardScaler.\n",
      "Data with input dtype bool, float64 were all converted to float64 by StandardScaler.\n"
     ]
    },
    {
     "name": "stdout",
     "output_type": "stream",
     "text": [
      "*** Training of model 'RandomForestClassifier' started.\n",
      "*** Training of classifier ready. Time elapsed: 473.257ms\n",
      "\n"
     ]
    },
    {
     "name": "stderr",
     "output_type": "stream",
     "text": [
      "F-score is ill-defined and being set to 0.0 due to no predicted samples.\n",
      "Precision is ill-defined and being set to 0.0 due to no predicted samples.\n",
      "invalid value encountered in long_scalars\n",
      "Data with input dtype bool, float64 were all converted to float64 by StandardScaler.\n",
      "Data with input dtype bool, float64 were all converted to float64 by StandardScaler.\n",
      "Data with input dtype bool, float64 were all converted to float64 by StandardScaler.\n"
     ]
    },
    {
     "name": "stdout",
     "output_type": "stream",
     "text": [
      "*** Training of model 'RandomForestClassifier' started.\n",
      "*** Training of classifier ready. Time elapsed: 886.675ms\n",
      "\n"
     ]
    },
    {
     "name": "stderr",
     "output_type": "stream",
     "text": [
      "F-score is ill-defined and being set to 0.0 due to no predicted samples.\n",
      "Precision is ill-defined and being set to 0.0 due to no predicted samples.\n",
      "invalid value encountered in long_scalars\n",
      "Data with input dtype bool, float64 were all converted to float64 by StandardScaler.\n",
      "Data with input dtype bool, float64 were all converted to float64 by StandardScaler.\n",
      "Data with input dtype bool, float64 were all converted to float64 by StandardScaler.\n"
     ]
    },
    {
     "name": "stdout",
     "output_type": "stream",
     "text": [
      "*** Training of model 'RandomForestClassifier' started.\n",
      "*** Training of classifier ready. Time elapsed: 775.211ms\n",
      "\n"
     ]
    },
    {
     "name": "stderr",
     "output_type": "stream",
     "text": [
      "F-score is ill-defined and being set to 0.0 due to no predicted samples.\n",
      "Precision is ill-defined and being set to 0.0 due to no predicted samples.\n",
      "invalid value encountered in long_scalars\n",
      "Data with input dtype bool, float64 were all converted to float64 by StandardScaler.\n",
      "Data with input dtype bool, float64 were all converted to float64 by StandardScaler.\n",
      "Data with input dtype bool, float64 were all converted to float64 by StandardScaler.\n"
     ]
    },
    {
     "name": "stdout",
     "output_type": "stream",
     "text": [
      "*** Training of model 'RandomForestClassifier' started.\n",
      "*** Training of classifier ready. Time elapsed: 342.278ms\n",
      "\n"
     ]
    },
    {
     "name": "stderr",
     "output_type": "stream",
     "text": [
      "F-score is ill-defined and being set to 0.0 due to no predicted samples.\n",
      "Precision is ill-defined and being set to 0.0 due to no predicted samples.\n",
      "invalid value encountered in long_scalars\n",
      "Data with input dtype bool, float64 were all converted to float64 by StandardScaler.\n",
      "Data with input dtype bool, float64 were all converted to float64 by StandardScaler.\n",
      "Data with input dtype bool, float64 were all converted to float64 by StandardScaler.\n"
     ]
    },
    {
     "name": "stdout",
     "output_type": "stream",
     "text": [
      "*** Training of model 'RandomForestClassifier' started.\n",
      "*** Training of classifier ready. Time elapsed: 515.777ms\n",
      "\n"
     ]
    },
    {
     "name": "stderr",
     "output_type": "stream",
     "text": [
      "Data with input dtype bool, float64 were all converted to float64 by StandardScaler.\n",
      "Data with input dtype bool, float64 were all converted to float64 by StandardScaler.\n",
      "Data with input dtype bool, float64 were all converted to float64 by StandardScaler.\n"
     ]
    },
    {
     "name": "stdout",
     "output_type": "stream",
     "text": [
      "*** Training of model 'RandomForestClassifier' started.\n",
      "*** Training of classifier ready. Time elapsed: 507.008ms\n",
      "\n"
     ]
    },
    {
     "name": "stderr",
     "output_type": "stream",
     "text": [
      "Data with input dtype bool, float64 were all converted to float64 by StandardScaler.\n",
      "Data with input dtype bool, float64 were all converted to float64 by StandardScaler.\n",
      "Data with input dtype bool, float64 were all converted to float64 by StandardScaler.\n"
     ]
    },
    {
     "name": "stdout",
     "output_type": "stream",
     "text": [
      "*** Training of model 'RandomForestClassifier' started.\n",
      "*** Training of classifier ready. Time elapsed: 524.834ms\n",
      "\n"
     ]
    },
    {
     "name": "stderr",
     "output_type": "stream",
     "text": [
      "Data with input dtype bool, float64 were all converted to float64 by StandardScaler.\n",
      "Data with input dtype bool, float64 were all converted to float64 by StandardScaler.\n",
      "Data with input dtype bool, float64 were all converted to float64 by StandardScaler.\n"
     ]
    },
    {
     "name": "stdout",
     "output_type": "stream",
     "text": [
      "*** Training of model 'RandomForestClassifier' started.\n",
      "*** Training of classifier ready. Time elapsed: 523.885ms\n",
      "\n"
     ]
    },
    {
     "name": "stderr",
     "output_type": "stream",
     "text": [
      "Data with input dtype bool, float64 were all converted to float64 by StandardScaler.\n",
      "Data with input dtype bool, float64 were all converted to float64 by StandardScaler.\n",
      "Data with input dtype bool, float64 were all converted to float64 by StandardScaler.\n"
     ]
    },
    {
     "name": "stdout",
     "output_type": "stream",
     "text": [
      "*** Training of model 'RandomForestClassifier' started.\n",
      "*** Training of classifier ready. Time elapsed: 538.407ms\n",
      "\n"
     ]
    },
    {
     "name": "stderr",
     "output_type": "stream",
     "text": [
      "Data with input dtype bool, float64 were all converted to float64 by StandardScaler.\n",
      "Data with input dtype bool, float64 were all converted to float64 by StandardScaler.\n",
      "Data with input dtype bool, float64 were all converted to float64 by StandardScaler.\n"
     ]
    },
    {
     "name": "stdout",
     "output_type": "stream",
     "text": [
      "*** Training of model 'RandomForestClassifier' started.\n",
      "*** Training of classifier ready. Time elapsed: 310.381ms\n",
      "\n"
     ]
    },
    {
     "name": "stderr",
     "output_type": "stream",
     "text": [
      "Data with input dtype bool, float64 were all converted to float64 by StandardScaler.\n",
      "Data with input dtype bool, float64 were all converted to float64 by StandardScaler.\n",
      "Data with input dtype bool, float64 were all converted to float64 by StandardScaler.\n"
     ]
    },
    {
     "name": "stdout",
     "output_type": "stream",
     "text": [
      "*** Training of model 'RandomForestClassifier' started.\n",
      "*** Training of classifier ready. Time elapsed: 105.336ms\n",
      "\n"
     ]
    },
    {
     "name": "stderr",
     "output_type": "stream",
     "text": [
      "Data with input dtype bool, float64 were all converted to float64 by StandardScaler.\n",
      "Data with input dtype bool, float64 were all converted to float64 by StandardScaler.\n",
      "Data with input dtype bool, float64 were all converted to float64 by StandardScaler.\n"
     ]
    },
    {
     "name": "stdout",
     "output_type": "stream",
     "text": [
      "*** Training of model 'RandomForestClassifier' started.\n",
      "*** Training of classifier ready. Time elapsed: 226.686ms\n",
      "\n"
     ]
    },
    {
     "name": "stderr",
     "output_type": "stream",
     "text": [
      "Data with input dtype bool, float64 were all converted to float64 by StandardScaler.\n",
      "Data with input dtype bool, float64 were all converted to float64 by StandardScaler.\n",
      "Data with input dtype bool, float64 were all converted to float64 by StandardScaler.\n"
     ]
    },
    {
     "name": "stdout",
     "output_type": "stream",
     "text": [
      "*** Training of model 'RandomForestClassifier' started.\n",
      "*** Training of classifier ready. Time elapsed: 67.957ms\n",
      "\n"
     ]
    },
    {
     "name": "stderr",
     "output_type": "stream",
     "text": [
      "Data with input dtype bool, float64 were all converted to float64 by StandardScaler.\n",
      "Data with input dtype bool, float64 were all converted to float64 by StandardScaler.\n",
      "Data with input dtype bool, float64 were all converted to float64 by StandardScaler.\n"
     ]
    },
    {
     "name": "stdout",
     "output_type": "stream",
     "text": [
      "*** Training of model 'RandomForestClassifier' started.\n",
      "*** Training of classifier ready. Time elapsed: 180.027ms\n",
      "\n"
     ]
    },
    {
     "name": "stderr",
     "output_type": "stream",
     "text": [
      "Data with input dtype bool, float64 were all converted to float64 by StandardScaler.\n",
      "Data with input dtype bool, float64 were all converted to float64 by StandardScaler.\n",
      "Data with input dtype bool, float64 were all converted to float64 by StandardScaler.\n"
     ]
    },
    {
     "name": "stdout",
     "output_type": "stream",
     "text": [
      "*** Training of model 'RandomForestClassifier' started.\n",
      "*** Training of classifier ready. Time elapsed: 168.433ms\n",
      "\n"
     ]
    },
    {
     "name": "stderr",
     "output_type": "stream",
     "text": [
      "Data with input dtype bool, float64 were all converted to float64 by StandardScaler.\n",
      "Data with input dtype bool, float64 were all converted to float64 by StandardScaler.\n",
      "Data with input dtype bool, float64 were all converted to float64 by StandardScaler.\n"
     ]
    },
    {
     "name": "stdout",
     "output_type": "stream",
     "text": [
      "*** Training of model 'RandomForestClassifier' started.\n",
      "*** Training of classifier ready. Time elapsed: 850.435ms\n",
      "\n"
     ]
    },
    {
     "name": "stderr",
     "output_type": "stream",
     "text": [
      "Data with input dtype bool, float64 were all converted to float64 by StandardScaler.\n",
      "Data with input dtype bool, float64 were all converted to float64 by StandardScaler.\n",
      "Data with input dtype bool, float64 were all converted to float64 by StandardScaler.\n"
     ]
    },
    {
     "name": "stdout",
     "output_type": "stream",
     "text": [
      "*** Training of model 'RandomForestClassifier' started.\n",
      "*** Training of classifier ready. Time elapsed: 585.478ms\n",
      "\n"
     ]
    },
    {
     "name": "stderr",
     "output_type": "stream",
     "text": [
      "Data with input dtype bool, float64 were all converted to float64 by StandardScaler.\n",
      "Data with input dtype bool, float64 were all converted to float64 by StandardScaler.\n",
      "Data with input dtype bool, float64 were all converted to float64 by StandardScaler.\n"
     ]
    },
    {
     "name": "stdout",
     "output_type": "stream",
     "text": [
      "*** Training of model 'RandomForestClassifier' started.\n",
      "*** Training of classifier ready. Time elapsed: 593.094ms\n",
      "\n"
     ]
    },
    {
     "name": "stderr",
     "output_type": "stream",
     "text": [
      "Data with input dtype bool, float64 were all converted to float64 by StandardScaler.\n",
      "Data with input dtype bool, float64 were all converted to float64 by StandardScaler.\n",
      "Data with input dtype bool, float64 were all converted to float64 by StandardScaler.\n"
     ]
    },
    {
     "name": "stdout",
     "output_type": "stream",
     "text": [
      "*** Training of model 'RandomForestClassifier' started.\n",
      "*** Training of classifier ready. Time elapsed: 918.648ms\n",
      "\n"
     ]
    },
    {
     "name": "stderr",
     "output_type": "stream",
     "text": [
      "Data with input dtype bool, float64 were all converted to float64 by StandardScaler.\n",
      "Data with input dtype bool, float64 were all converted to float64 by StandardScaler.\n",
      "Data with input dtype bool, float64 were all converted to float64 by StandardScaler.\n"
     ]
    },
    {
     "name": "stdout",
     "output_type": "stream",
     "text": [
      "*** Training of model 'RandomForestClassifier' started.\n",
      "*** Training of classifier ready. Time elapsed: 707.23ms\n",
      "\n"
     ]
    },
    {
     "name": "stderr",
     "output_type": "stream",
     "text": [
      "F-score is ill-defined and being set to 0.0 due to no predicted samples.\n",
      "Precision is ill-defined and being set to 0.0 due to no predicted samples.\n",
      "invalid value encountered in long_scalars\n",
      "Data with input dtype bool, float64 were all converted to float64 by StandardScaler.\n",
      "Data with input dtype bool, float64 were all converted to float64 by StandardScaler.\n",
      "Data with input dtype bool, float64 were all converted to float64 by StandardScaler.\n"
     ]
    },
    {
     "name": "stdout",
     "output_type": "stream",
     "text": [
      "*** Training of model 'RandomForestClassifier' started.\n",
      "*** Training of classifier ready. Time elapsed: 603.989ms\n",
      "\n"
     ]
    },
    {
     "name": "stderr",
     "output_type": "stream",
     "text": [
      "F-score is ill-defined and being set to 0.0 due to no predicted samples.\n",
      "Precision is ill-defined and being set to 0.0 due to no predicted samples.\n",
      "invalid value encountered in long_scalars\n",
      "Data with input dtype bool, float64 were all converted to float64 by StandardScaler.\n",
      "Data with input dtype bool, float64 were all converted to float64 by StandardScaler.\n",
      "Data with input dtype bool, float64 were all converted to float64 by StandardScaler.\n"
     ]
    },
    {
     "name": "stdout",
     "output_type": "stream",
     "text": [
      "*** Training of model 'RandomForestClassifier' started.\n",
      "*** Training of classifier ready. Time elapsed: 618.016ms\n",
      "\n"
     ]
    },
    {
     "name": "stderr",
     "output_type": "stream",
     "text": [
      "F-score is ill-defined and being set to 0.0 due to no predicted samples.\n",
      "Precision is ill-defined and being set to 0.0 due to no predicted samples.\n",
      "invalid value encountered in long_scalars\n",
      "Data with input dtype bool, float64 were all converted to float64 by StandardScaler.\n",
      "Data with input dtype bool, float64 were all converted to float64 by StandardScaler.\n",
      "Data with input dtype bool, float64 were all converted to float64 by StandardScaler.\n"
     ]
    },
    {
     "name": "stdout",
     "output_type": "stream",
     "text": [
      "*** Training of model 'RandomForestClassifier' started.\n",
      "*** Training of classifier ready. Time elapsed: 609.365ms\n",
      "\n"
     ]
    },
    {
     "name": "stderr",
     "output_type": "stream",
     "text": [
      "F-score is ill-defined and being set to 0.0 due to no predicted samples.\n",
      "Precision is ill-defined and being set to 0.0 due to no predicted samples.\n",
      "invalid value encountered in long_scalars\n",
      "Data with input dtype bool, float64 were all converted to float64 by StandardScaler.\n",
      "Data with input dtype bool, float64 were all converted to float64 by StandardScaler.\n",
      "Data with input dtype bool, float64 were all converted to float64 by StandardScaler.\n"
     ]
    },
    {
     "name": "stdout",
     "output_type": "stream",
     "text": [
      "*** Training of model 'RandomForestClassifier' started.\n",
      "*** Training of classifier ready. Time elapsed: 631.307ms\n",
      "\n"
     ]
    },
    {
     "name": "stderr",
     "output_type": "stream",
     "text": [
      "F-score is ill-defined and being set to 0.0 due to no predicted samples.\n",
      "Precision is ill-defined and being set to 0.0 due to no predicted samples.\n",
      "invalid value encountered in long_scalars\n",
      "Data with input dtype bool, float64 were all converted to float64 by StandardScaler.\n",
      "Data with input dtype bool, float64 were all converted to float64 by StandardScaler.\n",
      "Data with input dtype bool, float64 were all converted to float64 by StandardScaler.\n"
     ]
    },
    {
     "name": "stdout",
     "output_type": "stream",
     "text": [
      "*** Training of model 'DecisionTreeClassifier' started.\n",
      "*** Training of classifier ready. Time elapsed: 833.385ms\n",
      "\n"
     ]
    },
    {
     "name": "stderr",
     "output_type": "stream",
     "text": [
      "Data with input dtype bool, float64 were all converted to float64 by StandardScaler.\n",
      "Data with input dtype bool, float64 were all converted to float64 by StandardScaler.\n",
      "Data with input dtype bool, float64 were all converted to float64 by StandardScaler.\n"
     ]
    },
    {
     "name": "stdout",
     "output_type": "stream",
     "text": [
      "*** Training of model 'DecisionTreeClassifier' started.\n",
      "*** Training of classifier ready. Time elapsed: 876.799ms\n",
      "\n"
     ]
    },
    {
     "name": "stderr",
     "output_type": "stream",
     "text": [
      "Data with input dtype bool, float64 were all converted to float64 by StandardScaler.\n",
      "Data with input dtype bool, float64 were all converted to float64 by StandardScaler.\n",
      "Data with input dtype bool, float64 were all converted to float64 by StandardScaler.\n"
     ]
    },
    {
     "name": "stdout",
     "output_type": "stream",
     "text": [
      "*** Training of model 'DecisionTreeClassifier' started.\n",
      "*** Training of classifier ready. Time elapsed: 818.721ms\n",
      "\n"
     ]
    },
    {
     "name": "stderr",
     "output_type": "stream",
     "text": [
      "Data with input dtype bool, float64 were all converted to float64 by StandardScaler.\n",
      "Data with input dtype bool, float64 were all converted to float64 by StandardScaler.\n",
      "Data with input dtype bool, float64 were all converted to float64 by StandardScaler.\n"
     ]
    },
    {
     "name": "stdout",
     "output_type": "stream",
     "text": [
      "*** Training of model 'DecisionTreeClassifier' started.\n",
      "*** Training of classifier ready. Time elapsed: 851.577ms\n",
      "\n"
     ]
    },
    {
     "name": "stderr",
     "output_type": "stream",
     "text": [
      "Data with input dtype bool, float64 were all converted to float64 by StandardScaler.\n",
      "Data with input dtype bool, float64 were all converted to float64 by StandardScaler.\n",
      "Data with input dtype bool, float64 were all converted to float64 by StandardScaler.\n"
     ]
    },
    {
     "name": "stdout",
     "output_type": "stream",
     "text": [
      "*** Training of model 'DecisionTreeClassifier' started.\n",
      "*** Training of classifier ready. Time elapsed: 899.787ms\n",
      "\n"
     ]
    },
    {
     "name": "stderr",
     "output_type": "stream",
     "text": [
      "Data with input dtype bool, float64 were all converted to float64 by StandardScaler.\n",
      "Data with input dtype bool, float64 were all converted to float64 by StandardScaler.\n",
      "Data with input dtype bool, float64 were all converted to float64 by StandardScaler.\n"
     ]
    },
    {
     "name": "stdout",
     "output_type": "stream",
     "text": [
      "*** Training of model 'DecisionTreeClassifier' started.\n",
      "*** Training of classifier ready. Time elapsed: 41.926ms\n",
      "\n"
     ]
    },
    {
     "name": "stderr",
     "output_type": "stream",
     "text": [
      "Data with input dtype bool, float64 were all converted to float64 by StandardScaler.\n",
      "Data with input dtype bool, float64 were all converted to float64 by StandardScaler.\n",
      "Data with input dtype bool, float64 were all converted to float64 by StandardScaler.\n"
     ]
    },
    {
     "name": "stdout",
     "output_type": "stream",
     "text": [
      "*** Training of model 'DecisionTreeClassifier' started.\n",
      "*** Training of classifier ready. Time elapsed: 41.999ms\n",
      "\n"
     ]
    },
    {
     "name": "stderr",
     "output_type": "stream",
     "text": [
      "Data with input dtype bool, float64 were all converted to float64 by StandardScaler.\n",
      "Data with input dtype bool, float64 were all converted to float64 by StandardScaler.\n",
      "Data with input dtype bool, float64 were all converted to float64 by StandardScaler.\n"
     ]
    },
    {
     "name": "stdout",
     "output_type": "stream",
     "text": [
      "*** Training of model 'DecisionTreeClassifier' started.\n",
      "*** Training of classifier ready. Time elapsed: 41.028ms\n",
      "\n"
     ]
    },
    {
     "name": "stderr",
     "output_type": "stream",
     "text": [
      "Data with input dtype bool, float64 were all converted to float64 by StandardScaler.\n",
      "Data with input dtype bool, float64 were all converted to float64 by StandardScaler.\n",
      "Data with input dtype bool, float64 were all converted to float64 by StandardScaler.\n"
     ]
    },
    {
     "name": "stdout",
     "output_type": "stream",
     "text": [
      "*** Training of model 'DecisionTreeClassifier' started.\n",
      "*** Training of classifier ready. Time elapsed: 44.579ms\n",
      "\n"
     ]
    },
    {
     "name": "stderr",
     "output_type": "stream",
     "text": [
      "Data with input dtype bool, float64 were all converted to float64 by StandardScaler.\n",
      "Data with input dtype bool, float64 were all converted to float64 by StandardScaler.\n",
      "Data with input dtype bool, float64 were all converted to float64 by StandardScaler.\n"
     ]
    },
    {
     "name": "stdout",
     "output_type": "stream",
     "text": [
      "*** Training of model 'DecisionTreeClassifier' started.\n",
      "*** Training of classifier ready. Time elapsed: 85.033ms\n",
      "\n"
     ]
    },
    {
     "name": "stderr",
     "output_type": "stream",
     "text": [
      "Data with input dtype bool, float64 were all converted to float64 by StandardScaler.\n",
      "Data with input dtype bool, float64 were all converted to float64 by StandardScaler.\n",
      "Data with input dtype bool, float64 were all converted to float64 by StandardScaler.\n"
     ]
    },
    {
     "name": "stdout",
     "output_type": "stream",
     "text": [
      "*** Training of model 'DecisionTreeClassifier' started.\n",
      "*** Training of classifier ready. Time elapsed: 748.645ms\n",
      "\n"
     ]
    },
    {
     "name": "stderr",
     "output_type": "stream",
     "text": [
      "Data with input dtype bool, float64 were all converted to float64 by StandardScaler.\n",
      "Data with input dtype bool, float64 were all converted to float64 by StandardScaler.\n",
      "Data with input dtype bool, float64 were all converted to float64 by StandardScaler.\n"
     ]
    },
    {
     "name": "stdout",
     "output_type": "stream",
     "text": [
      "*** Training of model 'DecisionTreeClassifier' started.\n",
      "*** Training of classifier ready. Time elapsed: 44.426ms\n",
      "\n"
     ]
    },
    {
     "name": "stderr",
     "output_type": "stream",
     "text": [
      "Data with input dtype bool, float64 were all converted to float64 by StandardScaler.\n",
      "Data with input dtype bool, float64 were all converted to float64 by StandardScaler.\n",
      "Data with input dtype bool, float64 were all converted to float64 by StandardScaler.\n"
     ]
    },
    {
     "name": "stdout",
     "output_type": "stream",
     "text": [
      "*** Training of model 'DecisionTreeClassifier' started.\n",
      "*** Training of classifier ready. Time elapsed: 177.746ms\n",
      "\n"
     ]
    },
    {
     "name": "stderr",
     "output_type": "stream",
     "text": [
      "Data with input dtype bool, float64 were all converted to float64 by StandardScaler.\n",
      "Data with input dtype bool, float64 were all converted to float64 by StandardScaler.\n",
      "Data with input dtype bool, float64 were all converted to float64 by StandardScaler.\n"
     ]
    },
    {
     "name": "stdout",
     "output_type": "stream",
     "text": [
      "*** Training of model 'DecisionTreeClassifier' started.\n",
      "*** Training of classifier ready. Time elapsed: 479.074ms\n",
      "\n"
     ]
    },
    {
     "name": "stderr",
     "output_type": "stream",
     "text": [
      "Data with input dtype bool, float64 were all converted to float64 by StandardScaler.\n",
      "Data with input dtype bool, float64 were all converted to float64 by StandardScaler.\n",
      "Data with input dtype bool, float64 were all converted to float64 by StandardScaler.\n"
     ]
    },
    {
     "name": "stdout",
     "output_type": "stream",
     "text": [
      "*** Training of model 'DecisionTreeClassifier' started.\n",
      "*** Training of classifier ready. Time elapsed: 880.602ms\n",
      "\n"
     ]
    },
    {
     "name": "stderr",
     "output_type": "stream",
     "text": [
      "Data with input dtype bool, float64 were all converted to float64 by StandardScaler.\n",
      "Data with input dtype bool, float64 were all converted to float64 by StandardScaler.\n",
      "Data with input dtype bool, float64 were all converted to float64 by StandardScaler.\n"
     ]
    },
    {
     "name": "stdout",
     "output_type": "stream",
     "text": [
      "*** Training of model 'DecisionTreeClassifier' started.\n",
      "*** Training of classifier ready. Time elapsed: 848.193ms\n",
      "\n"
     ]
    },
    {
     "name": "stderr",
     "output_type": "stream",
     "text": [
      "Data with input dtype bool, float64 were all converted to float64 by StandardScaler.\n",
      "Data with input dtype bool, float64 were all converted to float64 by StandardScaler.\n",
      "Data with input dtype bool, float64 were all converted to float64 by StandardScaler.\n"
     ]
    },
    {
     "name": "stdout",
     "output_type": "stream",
     "text": [
      "*** Training of model 'DecisionTreeClassifier' started.\n",
      "*** Training of classifier ready. Time elapsed: 65.478ms\n",
      "\n"
     ]
    },
    {
     "name": "stderr",
     "output_type": "stream",
     "text": [
      "Data with input dtype bool, float64 were all converted to float64 by StandardScaler.\n",
      "Data with input dtype bool, float64 were all converted to float64 by StandardScaler.\n",
      "Data with input dtype bool, float64 were all converted to float64 by StandardScaler.\n"
     ]
    },
    {
     "name": "stdout",
     "output_type": "stream",
     "text": [
      "*** Training of model 'DecisionTreeClassifier' started.\n",
      "*** Training of classifier ready. Time elapsed: 110.577ms\n",
      "\n"
     ]
    },
    {
     "name": "stderr",
     "output_type": "stream",
     "text": [
      "Data with input dtype bool, float64 were all converted to float64 by StandardScaler.\n",
      "Data with input dtype bool, float64 were all converted to float64 by StandardScaler.\n",
      "Data with input dtype bool, float64 were all converted to float64 by StandardScaler.\n"
     ]
    },
    {
     "name": "stdout",
     "output_type": "stream",
     "text": [
      "*** Training of model 'DecisionTreeClassifier' started.\n",
      "*** Training of classifier ready. Time elapsed: 772.404ms\n",
      "\n"
     ]
    },
    {
     "name": "stderr",
     "output_type": "stream",
     "text": [
      "Data with input dtype bool, float64 were all converted to float64 by StandardScaler.\n",
      "Data with input dtype bool, float64 were all converted to float64 by StandardScaler.\n",
      "Data with input dtype bool, float64 were all converted to float64 by StandardScaler.\n"
     ]
    },
    {
     "name": "stdout",
     "output_type": "stream",
     "text": [
      "*** Training of model 'DecisionTreeClassifier' started.\n",
      "*** Training of classifier ready. Time elapsed: 140.546ms\n",
      "\n"
     ]
    },
    {
     "name": "stderr",
     "output_type": "stream",
     "text": [
      "Data with input dtype bool, float64 were all converted to float64 by StandardScaler.\n",
      "Data with input dtype bool, float64 were all converted to float64 by StandardScaler.\n",
      "Data with input dtype bool, float64 were all converted to float64 by StandardScaler.\n"
     ]
    },
    {
     "name": "stdout",
     "output_type": "stream",
     "text": [
      "*** Training of model 'DecisionTreeClassifier' started.\n",
      "*** Training of classifier ready. Time elapsed: 381.097ms\n",
      "\n"
     ]
    },
    {
     "name": "stderr",
     "output_type": "stream",
     "text": [
      "Data with input dtype bool, float64 were all converted to float64 by StandardScaler.\n",
      "Data with input dtype bool, float64 were all converted to float64 by StandardScaler.\n",
      "Data with input dtype bool, float64 were all converted to float64 by StandardScaler.\n"
     ]
    },
    {
     "name": "stdout",
     "output_type": "stream",
     "text": [
      "*** Training of model 'DecisionTreeClassifier' started.\n",
      "*** Training of classifier ready. Time elapsed: 294.48ms\n",
      "\n"
     ]
    },
    {
     "name": "stderr",
     "output_type": "stream",
     "text": [
      "Data with input dtype bool, float64 were all converted to float64 by StandardScaler.\n",
      "Data with input dtype bool, float64 were all converted to float64 by StandardScaler.\n",
      "Data with input dtype bool, float64 were all converted to float64 by StandardScaler.\n"
     ]
    },
    {
     "name": "stdout",
     "output_type": "stream",
     "text": [
      "*** Training of model 'DecisionTreeClassifier' started.\n",
      "*** Training of classifier ready. Time elapsed: 869.444ms\n",
      "\n"
     ]
    },
    {
     "name": "stderr",
     "output_type": "stream",
     "text": [
      "Data with input dtype bool, float64 were all converted to float64 by StandardScaler.\n",
      "Data with input dtype bool, float64 were all converted to float64 by StandardScaler.\n",
      "Data with input dtype bool, float64 were all converted to float64 by StandardScaler.\n"
     ]
    },
    {
     "name": "stdout",
     "output_type": "stream",
     "text": [
      "*** Training of model 'DecisionTreeClassifier' started.\n",
      "*** Training of classifier ready. Time elapsed: 69.666ms\n",
      "\n"
     ]
    },
    {
     "name": "stderr",
     "output_type": "stream",
     "text": [
      "Data with input dtype bool, float64 were all converted to float64 by StandardScaler.\n",
      "Data with input dtype bool, float64 were all converted to float64 by StandardScaler.\n",
      "Data with input dtype bool, float64 were all converted to float64 by StandardScaler.\n"
     ]
    },
    {
     "name": "stdout",
     "output_type": "stream",
     "text": [
      "*** Training of model 'DecisionTreeClassifier' started.\n",
      "*** Training of classifier ready. Time elapsed: 915.189ms\n",
      "\n"
     ]
    },
    {
     "name": "stderr",
     "output_type": "stream",
     "text": [
      "Data with input dtype bool, float64 were all converted to float64 by StandardScaler.\n",
      "Data with input dtype bool, float64 were all converted to float64 by StandardScaler.\n",
      "Data with input dtype bool, float64 were all converted to float64 by StandardScaler.\n"
     ]
    },
    {
     "name": "stdout",
     "output_type": "stream",
     "text": [
      "*** Training of model 'LogisticRegression' started.\n",
      "*** Training of classifier ready. Time elapsed: 997.804ms\n",
      "\n"
     ]
    },
    {
     "name": "stderr",
     "output_type": "stream",
     "text": [
      "Data with input dtype bool, float64 were all converted to float64 by StandardScaler.\n",
      "Data with input dtype bool, float64 were all converted to float64 by StandardScaler.\n",
      "Data with input dtype bool, float64 were all converted to float64 by StandardScaler.\n"
     ]
    },
    {
     "name": "stdout",
     "output_type": "stream",
     "text": [
      "*** Training of model 'LogisticRegression' started.\n",
      "*** Training of classifier ready. Time elapsed: 572.233ms\n",
      "\n"
     ]
    },
    {
     "name": "stderr",
     "output_type": "stream",
     "text": [
      "overflow encountered in exp\n",
      "F-score is ill-defined and being set to 0.0 due to no predicted samples.\n",
      "Precision is ill-defined and being set to 0.0 due to no predicted samples.\n",
      "invalid value encountered in long_scalars\n",
      "Data with input dtype bool, float64 were all converted to float64 by StandardScaler.\n",
      "Data with input dtype bool, float64 were all converted to float64 by StandardScaler.\n",
      "Data with input dtype bool, float64 were all converted to float64 by StandardScaler.\n"
     ]
    },
    {
     "name": "stdout",
     "output_type": "stream",
     "text": [
      "*** Training of model 'LogisticRegression' started.\n",
      "*** Training of classifier ready. Time elapsed: 738.88ms\n",
      "\n"
     ]
    },
    {
     "name": "stderr",
     "output_type": "stream",
     "text": [
      "Data with input dtype bool, float64 were all converted to float64 by StandardScaler.\n",
      "Data with input dtype bool, float64 were all converted to float64 by StandardScaler.\n",
      "Data with input dtype bool, float64 were all converted to float64 by StandardScaler.\n"
     ]
    },
    {
     "name": "stdout",
     "output_type": "stream",
     "text": [
      "*** Training of model 'LogisticRegression' started.\n",
      "*** Training of classifier ready. Time elapsed: 718.642ms\n",
      "\n"
     ]
    },
    {
     "name": "stderr",
     "output_type": "stream",
     "text": [
      "Data with input dtype bool, float64 were all converted to float64 by StandardScaler.\n",
      "Data with input dtype bool, float64 were all converted to float64 by StandardScaler.\n",
      "Data with input dtype bool, float64 were all converted to float64 by StandardScaler.\n"
     ]
    },
    {
     "name": "stdout",
     "output_type": "stream",
     "text": [
      "*** Training of model 'LogisticRegression' started.\n",
      "*** Training of classifier ready. Time elapsed: 634.101ms\n",
      "\n"
     ]
    },
    {
     "name": "stderr",
     "output_type": "stream",
     "text": [
      "Data with input dtype bool, float64 were all converted to float64 by StandardScaler.\n",
      "Data with input dtype bool, float64 were all converted to float64 by StandardScaler.\n",
      "Data with input dtype bool, float64 were all converted to float64 by StandardScaler.\n"
     ]
    },
    {
     "name": "stdout",
     "output_type": "stream",
     "text": [
      "*** Training of model 'LogisticRegression' started.\n",
      "*** Training of classifier ready. Time elapsed: 203.404ms\n",
      "\n"
     ]
    },
    {
     "name": "stderr",
     "output_type": "stream",
     "text": [
      "Data with input dtype bool, float64 were all converted to float64 by StandardScaler.\n",
      "Data with input dtype bool, float64 were all converted to float64 by StandardScaler.\n",
      "Data with input dtype bool, float64 were all converted to float64 by StandardScaler.\n"
     ]
    },
    {
     "name": "stdout",
     "output_type": "stream",
     "text": [
      "*** Training of model 'LogisticRegression' started.\n",
      "*** Training of classifier ready. Time elapsed: 701.398ms\n",
      "\n"
     ]
    },
    {
     "name": "stderr",
     "output_type": "stream",
     "text": [
      "Data with input dtype bool, float64 were all converted to float64 by StandardScaler.\n",
      "Data with input dtype bool, float64 were all converted to float64 by StandardScaler.\n",
      "Data with input dtype bool, float64 were all converted to float64 by StandardScaler.\n"
     ]
    },
    {
     "name": "stdout",
     "output_type": "stream",
     "text": [
      "*** Training of model 'LogisticRegression' started.\n",
      "*** Training of classifier ready. Time elapsed: 484.128ms\n",
      "\n"
     ]
    },
    {
     "name": "stderr",
     "output_type": "stream",
     "text": [
      "Data with input dtype bool, float64 were all converted to float64 by StandardScaler.\n",
      "Data with input dtype bool, float64 were all converted to float64 by StandardScaler.\n",
      "Data with input dtype bool, float64 were all converted to float64 by StandardScaler.\n"
     ]
    },
    {
     "name": "stdout",
     "output_type": "stream",
     "text": [
      "*** Training of model 'LogisticRegression' started.\n",
      "*** Training of classifier ready. Time elapsed: 775.602ms\n",
      "\n"
     ]
    },
    {
     "name": "stderr",
     "output_type": "stream",
     "text": [
      "Data with input dtype bool, float64 were all converted to float64 by StandardScaler.\n",
      "Data with input dtype bool, float64 were all converted to float64 by StandardScaler.\n",
      "Data with input dtype bool, float64 were all converted to float64 by StandardScaler.\n"
     ]
    },
    {
     "name": "stdout",
     "output_type": "stream",
     "text": [
      "*** Training of model 'LogisticRegression' started.\n",
      "*** Training of classifier ready. Time elapsed: 869.396ms\n",
      "\n"
     ]
    },
    {
     "name": "stderr",
     "output_type": "stream",
     "text": [
      "Data with input dtype bool, float64 were all converted to float64 by StandardScaler.\n",
      "Data with input dtype bool, float64 were all converted to float64 by StandardScaler.\n",
      "Data with input dtype bool, float64 were all converted to float64 by StandardScaler.\n"
     ]
    },
    {
     "name": "stdout",
     "output_type": "stream",
     "text": [
      "*** Training of model 'LogisticRegression' started.\n",
      "*** Training of classifier ready. Time elapsed: 766.772ms\n",
      "\n"
     ]
    },
    {
     "name": "stderr",
     "output_type": "stream",
     "text": [
      "Data with input dtype bool, float64 were all converted to float64 by StandardScaler.\n",
      "Data with input dtype bool, float64 were all converted to float64 by StandardScaler.\n",
      "Data with input dtype bool, float64 were all converted to float64 by StandardScaler.\n"
     ]
    },
    {
     "name": "stdout",
     "output_type": "stream",
     "text": [
      "*** Training of model 'LogisticRegression' started.\n",
      "*** Training of classifier ready. Time elapsed: 350.562ms\n",
      "\n"
     ]
    },
    {
     "name": "stderr",
     "output_type": "stream",
     "text": [
      "overflow encountered in exp\n",
      "Data with input dtype bool, float64 were all converted to float64 by StandardScaler.\n",
      "Data with input dtype bool, float64 were all converted to float64 by StandardScaler.\n",
      "Data with input dtype bool, float64 were all converted to float64 by StandardScaler.\n"
     ]
    },
    {
     "name": "stdout",
     "output_type": "stream",
     "text": [
      "*** Training of model 'LogisticRegression' started.\n",
      "*** Training of classifier ready. Time elapsed: 744.46ms\n",
      "\n"
     ]
    },
    {
     "name": "stderr",
     "output_type": "stream",
     "text": [
      "Data with input dtype bool, float64 were all converted to float64 by StandardScaler.\n",
      "Data with input dtype bool, float64 were all converted to float64 by StandardScaler.\n",
      "Data with input dtype bool, float64 were all converted to float64 by StandardScaler.\n"
     ]
    },
    {
     "name": "stdout",
     "output_type": "stream",
     "text": [
      "*** Training of model 'LogisticRegression' started.\n",
      "*** Training of classifier ready. Time elapsed: 525.916ms\n",
      "\n"
     ]
    },
    {
     "name": "stderr",
     "output_type": "stream",
     "text": [
      "Data with input dtype bool, float64 were all converted to float64 by StandardScaler.\n",
      "Data with input dtype bool, float64 were all converted to float64 by StandardScaler.\n",
      "Data with input dtype bool, float64 were all converted to float64 by StandardScaler.\n"
     ]
    },
    {
     "name": "stdout",
     "output_type": "stream",
     "text": [
      "*** Training of model 'LogisticRegression' started.\n",
      "*** Training of classifier ready. Time elapsed: 730.288ms\n",
      "\n"
     ]
    },
    {
     "name": "stderr",
     "output_type": "stream",
     "text": [
      "Data with input dtype bool, float64 were all converted to float64 by StandardScaler.\n",
      "Data with input dtype bool, float64 were all converted to float64 by StandardScaler.\n",
      "Data with input dtype bool, float64 were all converted to float64 by StandardScaler.\n"
     ]
    },
    {
     "name": "stdout",
     "output_type": "stream",
     "text": [
      "*** Training of model 'LogisticRegression' started.\n",
      "*** Training of classifier ready. Time elapsed: 558.806ms\n",
      "\n"
     ]
    },
    {
     "name": "stderr",
     "output_type": "stream",
     "text": [
      "Data with input dtype bool, float64 were all converted to float64 by StandardScaler.\n",
      "Data with input dtype bool, float64 were all converted to float64 by StandardScaler.\n",
      "Data with input dtype bool, float64 were all converted to float64 by StandardScaler.\n"
     ]
    },
    {
     "name": "stdout",
     "output_type": "stream",
     "text": [
      "*** Training of model 'LogisticRegression' started.\n",
      "*** Training of classifier ready. Time elapsed: 951.186ms\n",
      "\n"
     ]
    },
    {
     "name": "stderr",
     "output_type": "stream",
     "text": [
      "overflow encountered in exp\n",
      "Data with input dtype bool, float64 were all converted to float64 by StandardScaler.\n",
      "Data with input dtype bool, float64 were all converted to float64 by StandardScaler.\n",
      "Data with input dtype bool, float64 were all converted to float64 by StandardScaler.\n"
     ]
    },
    {
     "name": "stdout",
     "output_type": "stream",
     "text": [
      "*** Training of model 'LogisticRegression' started.\n",
      "*** Training of classifier ready. Time elapsed: 700.894ms\n",
      "\n"
     ]
    },
    {
     "name": "stderr",
     "output_type": "stream",
     "text": [
      "Data with input dtype bool, float64 were all converted to float64 by StandardScaler.\n",
      "Data with input dtype bool, float64 were all converted to float64 by StandardScaler.\n",
      "Data with input dtype bool, float64 were all converted to float64 by StandardScaler.\n"
     ]
    },
    {
     "name": "stdout",
     "output_type": "stream",
     "text": [
      "*** Training of model 'LogisticRegression' started.\n",
      "*** Training of classifier ready. Time elapsed: 168.005ms\n",
      "\n"
     ]
    },
    {
     "name": "stderr",
     "output_type": "stream",
     "text": [
      "Data with input dtype bool, float64 were all converted to float64 by StandardScaler.\n",
      "Data with input dtype bool, float64 were all converted to float64 by StandardScaler.\n",
      "Data with input dtype bool, float64 were all converted to float64 by StandardScaler.\n"
     ]
    },
    {
     "name": "stdout",
     "output_type": "stream",
     "text": [
      "*** Training of model 'LogisticRegression' started.\n",
      "*** Training of classifier ready. Time elapsed: 964.157ms\n",
      "\n"
     ]
    },
    {
     "name": "stderr",
     "output_type": "stream",
     "text": [
      "Data with input dtype bool, float64 were all converted to float64 by StandardScaler.\n",
      "Data with input dtype bool, float64 were all converted to float64 by StandardScaler.\n",
      "Data with input dtype bool, float64 were all converted to float64 by StandardScaler.\n"
     ]
    },
    {
     "name": "stdout",
     "output_type": "stream",
     "text": [
      "*** Training of model 'LogisticRegression' started.\n",
      "*** Training of classifier ready. Time elapsed: 96.843ms\n",
      "\n"
     ]
    },
    {
     "name": "stderr",
     "output_type": "stream",
     "text": [
      "Data with input dtype bool, float64 were all converted to float64 by StandardScaler.\n",
      "Data with input dtype bool, float64 were all converted to float64 by StandardScaler.\n",
      "Data with input dtype bool, float64 were all converted to float64 by StandardScaler.\n"
     ]
    },
    {
     "name": "stdout",
     "output_type": "stream",
     "text": [
      "*** Training of model 'LogisticRegression' started.\n",
      "*** Training of classifier ready. Time elapsed: 78.373ms\n",
      "\n"
     ]
    },
    {
     "name": "stderr",
     "output_type": "stream",
     "text": [
      "overflow encountered in exp\n",
      "F-score is ill-defined and being set to 0.0 due to no predicted samples.\n",
      "Precision is ill-defined and being set to 0.0 due to no predicted samples.\n",
      "invalid value encountered in long_scalars\n",
      "Data with input dtype bool, float64 were all converted to float64 by StandardScaler.\n",
      "Data with input dtype bool, float64 were all converted to float64 by StandardScaler.\n",
      "Data with input dtype bool, float64 were all converted to float64 by StandardScaler.\n"
     ]
    },
    {
     "name": "stdout",
     "output_type": "stream",
     "text": [
      "*** Training of model 'LogisticRegression' started.\n",
      "*** Training of classifier ready. Time elapsed: 807.186ms\n",
      "\n"
     ]
    },
    {
     "name": "stderr",
     "output_type": "stream",
     "text": [
      "Data with input dtype bool, float64 were all converted to float64 by StandardScaler.\n",
      "Data with input dtype bool, float64 were all converted to float64 by StandardScaler.\n",
      "Data with input dtype bool, float64 were all converted to float64 by StandardScaler.\n"
     ]
    },
    {
     "name": "stdout",
     "output_type": "stream",
     "text": [
      "*** Training of model 'LogisticRegression' started.\n",
      "*** Training of classifier ready. Time elapsed: 466.873ms\n",
      "\n"
     ]
    },
    {
     "name": "stderr",
     "output_type": "stream",
     "text": [
      "Data with input dtype bool, float64 were all converted to float64 by StandardScaler.\n",
      "Data with input dtype bool, float64 were all converted to float64 by StandardScaler.\n",
      "Data with input dtype bool, float64 were all converted to float64 by StandardScaler.\n"
     ]
    },
    {
     "name": "stdout",
     "output_type": "stream",
     "text": [
      "*** Training of model 'LogisticRegression' started.\n",
      "*** Training of classifier ready. Time elapsed: 984.964ms\n",
      "\n"
     ]
    },
    {
     "name": "stderr",
     "output_type": "stream",
     "text": [
      "Columns (11,18,19,20,24,27,35,64,83,90,92,94,95,96,98,105,112,113,115,118,122,123,130,133,137,138,139,140,141,147,168,169,175,232,241,245,246,285,308,313,314,316,321,325,329,336,348,354,355,356,360,376,391,396,414,418,423,427,429,432,439) have mixed types. Specify dtype option on import or set low_memory=False.\n"
     ]
    },
    {
     "name": "stdout",
     "output_type": "stream",
     "text": [
      "Fetching data for <fiber.condition.mrns.MRNs object at 0x7f1c221f7048>\n",
      "Fetching data for Patient (...)\n"
     ]
    },
    {
     "name": "stderr",
     "output_type": "stream",
     "text": [
      "Data with input dtype bool, float64 were all converted to float64 by StandardScaler.\n",
      "Data with input dtype bool, float64 were all converted to float64 by StandardScaler.\n",
      "Data with input dtype bool, float64 were all converted to float64 by StandardScaler.\n"
     ]
    },
    {
     "name": "stdout",
     "output_type": "stream",
     "text": [
      "*** Training of model 'GradientBoostingClassifier' started.\n",
      "*** Training of classifier ready. Time elapsed: 827.658ms\n",
      "\n"
     ]
    },
    {
     "name": "stderr",
     "output_type": "stream",
     "text": [
      "F-score is ill-defined and being set to 0.0 due to no predicted samples.\n",
      "Precision is ill-defined and being set to 0.0 due to no predicted samples.\n",
      "invalid value encountered in long_scalars\n",
      "Data with input dtype bool, float64 were all converted to float64 by StandardScaler.\n",
      "Data with input dtype bool, float64 were all converted to float64 by StandardScaler.\n",
      "Data with input dtype bool, float64 were all converted to float64 by StandardScaler.\n"
     ]
    },
    {
     "name": "stdout",
     "output_type": "stream",
     "text": [
      "*** Training of model 'GradientBoostingClassifier' started.\n",
      "*** Training of classifier ready. Time elapsed: 902.693ms\n",
      "\n"
     ]
    },
    {
     "name": "stderr",
     "output_type": "stream",
     "text": [
      "F-score is ill-defined and being set to 0.0 due to no predicted samples.\n",
      "Precision is ill-defined and being set to 0.0 due to no predicted samples.\n",
      "invalid value encountered in long_scalars\n",
      "Data with input dtype bool, float64 were all converted to float64 by StandardScaler.\n",
      "Data with input dtype bool, float64 were all converted to float64 by StandardScaler.\n",
      "Data with input dtype bool, float64 were all converted to float64 by StandardScaler.\n"
     ]
    },
    {
     "name": "stdout",
     "output_type": "stream",
     "text": [
      "*** Training of model 'GradientBoostingClassifier' started.\n",
      "*** Training of classifier ready. Time elapsed: 835.385ms\n",
      "\n"
     ]
    },
    {
     "name": "stderr",
     "output_type": "stream",
     "text": [
      "F-score is ill-defined and being set to 0.0 due to no predicted samples.\n",
      "Precision is ill-defined and being set to 0.0 due to no predicted samples.\n",
      "invalid value encountered in long_scalars\n",
      "Data with input dtype bool, float64 were all converted to float64 by StandardScaler.\n",
      "Data with input dtype bool, float64 were all converted to float64 by StandardScaler.\n",
      "Data with input dtype bool, float64 were all converted to float64 by StandardScaler.\n"
     ]
    },
    {
     "name": "stdout",
     "output_type": "stream",
     "text": [
      "*** Training of model 'GradientBoostingClassifier' started.\n",
      "*** Training of classifier ready. Time elapsed: 550.116ms\n",
      "\n"
     ]
    },
    {
     "name": "stderr",
     "output_type": "stream",
     "text": [
      "F-score is ill-defined and being set to 0.0 due to no predicted samples.\n",
      "Precision is ill-defined and being set to 0.0 due to no predicted samples.\n",
      "invalid value encountered in long_scalars\n",
      "Data with input dtype bool, float64 were all converted to float64 by StandardScaler.\n",
      "Data with input dtype bool, float64 were all converted to float64 by StandardScaler.\n",
      "Data with input dtype bool, float64 were all converted to float64 by StandardScaler.\n"
     ]
    },
    {
     "name": "stdout",
     "output_type": "stream",
     "text": [
      "*** Training of model 'GradientBoostingClassifier' started.\n",
      "*** Training of classifier ready. Time elapsed: 461.781ms\n",
      "\n"
     ]
    },
    {
     "name": "stderr",
     "output_type": "stream",
     "text": [
      "F-score is ill-defined and being set to 0.0 due to no predicted samples.\n",
      "Precision is ill-defined and being set to 0.0 due to no predicted samples.\n",
      "invalid value encountered in long_scalars\n",
      "Data with input dtype bool, float64 were all converted to float64 by StandardScaler.\n",
      "Data with input dtype bool, float64 were all converted to float64 by StandardScaler.\n",
      "Data with input dtype bool, float64 were all converted to float64 by StandardScaler.\n"
     ]
    },
    {
     "name": "stdout",
     "output_type": "stream",
     "text": [
      "*** Training of model 'GradientBoostingClassifier' started.\n",
      "*** Training of classifier ready. Time elapsed: 921.865ms\n",
      "\n"
     ]
    },
    {
     "name": "stderr",
     "output_type": "stream",
     "text": [
      "Data with input dtype bool, float64 were all converted to float64 by StandardScaler.\n",
      "Data with input dtype bool, float64 were all converted to float64 by StandardScaler.\n",
      "Data with input dtype bool, float64 were all converted to float64 by StandardScaler.\n"
     ]
    },
    {
     "name": "stdout",
     "output_type": "stream",
     "text": [
      "*** Training of model 'GradientBoostingClassifier' started.\n",
      "*** Training of classifier ready. Time elapsed: 808.692ms\n",
      "\n"
     ]
    },
    {
     "name": "stderr",
     "output_type": "stream",
     "text": [
      "Data with input dtype bool, float64 were all converted to float64 by StandardScaler.\n",
      "Data with input dtype bool, float64 were all converted to float64 by StandardScaler.\n",
      "Data with input dtype bool, float64 were all converted to float64 by StandardScaler.\n"
     ]
    },
    {
     "name": "stdout",
     "output_type": "stream",
     "text": [
      "*** Training of model 'GradientBoostingClassifier' started.\n",
      "*** Training of classifier ready. Time elapsed: 461.163ms\n",
      "\n"
     ]
    },
    {
     "name": "stderr",
     "output_type": "stream",
     "text": [
      "Data with input dtype bool, float64 were all converted to float64 by StandardScaler.\n",
      "Data with input dtype bool, float64 were all converted to float64 by StandardScaler.\n",
      "Data with input dtype bool, float64 were all converted to float64 by StandardScaler.\n"
     ]
    },
    {
     "name": "stdout",
     "output_type": "stream",
     "text": [
      "*** Training of model 'GradientBoostingClassifier' started.\n",
      "*** Training of classifier ready. Time elapsed: 66.073ms\n",
      "\n"
     ]
    },
    {
     "name": "stderr",
     "output_type": "stream",
     "text": [
      "Data with input dtype bool, float64 were all converted to float64 by StandardScaler.\n",
      "Data with input dtype bool, float64 were all converted to float64 by StandardScaler.\n",
      "Data with input dtype bool, float64 were all converted to float64 by StandardScaler.\n"
     ]
    },
    {
     "name": "stdout",
     "output_type": "stream",
     "text": [
      "*** Training of model 'GradientBoostingClassifier' started.\n",
      "*** Training of classifier ready. Time elapsed: 609.172ms\n",
      "\n"
     ]
    },
    {
     "name": "stderr",
     "output_type": "stream",
     "text": [
      "Data with input dtype bool, float64 were all converted to float64 by StandardScaler.\n",
      "Data with input dtype bool, float64 were all converted to float64 by StandardScaler.\n",
      "Data with input dtype bool, float64 were all converted to float64 by StandardScaler.\n"
     ]
    },
    {
     "name": "stdout",
     "output_type": "stream",
     "text": [
      "*** Training of model 'GradientBoostingClassifier' started.\n",
      "*** Training of classifier ready. Time elapsed: 621.275ms\n",
      "\n"
     ]
    },
    {
     "name": "stderr",
     "output_type": "stream",
     "text": [
      "Data with input dtype bool, float64 were all converted to float64 by StandardScaler.\n",
      "Data with input dtype bool, float64 were all converted to float64 by StandardScaler.\n",
      "Data with input dtype bool, float64 were all converted to float64 by StandardScaler.\n"
     ]
    },
    {
     "name": "stdout",
     "output_type": "stream",
     "text": [
      "*** Training of model 'GradientBoostingClassifier' started.\n",
      "*** Training of classifier ready. Time elapsed: 606.816ms\n",
      "\n"
     ]
    },
    {
     "name": "stderr",
     "output_type": "stream",
     "text": [
      "Data with input dtype bool, float64 were all converted to float64 by StandardScaler.\n",
      "Data with input dtype bool, float64 were all converted to float64 by StandardScaler.\n",
      "Data with input dtype bool, float64 were all converted to float64 by StandardScaler.\n"
     ]
    },
    {
     "name": "stdout",
     "output_type": "stream",
     "text": [
      "*** Training of model 'GradientBoostingClassifier' started.\n",
      "*** Training of classifier ready. Time elapsed: 43.134ms\n",
      "\n"
     ]
    },
    {
     "name": "stderr",
     "output_type": "stream",
     "text": [
      "Data with input dtype bool, float64 were all converted to float64 by StandardScaler.\n",
      "Data with input dtype bool, float64 were all converted to float64 by StandardScaler.\n",
      "Data with input dtype bool, float64 were all converted to float64 by StandardScaler.\n"
     ]
    },
    {
     "name": "stdout",
     "output_type": "stream",
     "text": [
      "*** Training of model 'GradientBoostingClassifier' started.\n",
      "*** Training of classifier ready. Time elapsed: 671.763ms\n",
      "\n"
     ]
    },
    {
     "name": "stderr",
     "output_type": "stream",
     "text": [
      "Data with input dtype bool, float64 were all converted to float64 by StandardScaler.\n",
      "Data with input dtype bool, float64 were all converted to float64 by StandardScaler.\n",
      "Data with input dtype bool, float64 were all converted to float64 by StandardScaler.\n"
     ]
    },
    {
     "name": "stdout",
     "output_type": "stream",
     "text": [
      "*** Training of model 'GradientBoostingClassifier' started.\n",
      "*** Training of classifier ready. Time elapsed: 147.037ms\n",
      "\n"
     ]
    },
    {
     "name": "stderr",
     "output_type": "stream",
     "text": [
      "Data with input dtype bool, float64 were all converted to float64 by StandardScaler.\n",
      "Data with input dtype bool, float64 were all converted to float64 by StandardScaler.\n",
      "Data with input dtype bool, float64 were all converted to float64 by StandardScaler.\n"
     ]
    },
    {
     "name": "stdout",
     "output_type": "stream",
     "text": [
      "*** Training of model 'GradientBoostingClassifier' started.\n",
      "*** Training of classifier ready. Time elapsed: 580.3ms\n",
      "\n"
     ]
    },
    {
     "name": "stderr",
     "output_type": "stream",
     "text": [
      "Data with input dtype bool, float64 were all converted to float64 by StandardScaler.\n",
      "Data with input dtype bool, float64 were all converted to float64 by StandardScaler.\n",
      "Data with input dtype bool, float64 were all converted to float64 by StandardScaler.\n"
     ]
    },
    {
     "name": "stdout",
     "output_type": "stream",
     "text": [
      "*** Training of model 'GradientBoostingClassifier' started.\n",
      "*** Training of classifier ready. Time elapsed: 705.524ms\n",
      "\n"
     ]
    },
    {
     "name": "stderr",
     "output_type": "stream",
     "text": [
      "Data with input dtype bool, float64 were all converted to float64 by StandardScaler.\n",
      "Data with input dtype bool, float64 were all converted to float64 by StandardScaler.\n",
      "Data with input dtype bool, float64 were all converted to float64 by StandardScaler.\n"
     ]
    },
    {
     "name": "stdout",
     "output_type": "stream",
     "text": [
      "*** Training of model 'GradientBoostingClassifier' started.\n",
      "*** Training of classifier ready. Time elapsed: 472.187ms\n",
      "\n"
     ]
    },
    {
     "name": "stderr",
     "output_type": "stream",
     "text": [
      "Data with input dtype bool, float64 were all converted to float64 by StandardScaler.\n",
      "Data with input dtype bool, float64 were all converted to float64 by StandardScaler.\n",
      "Data with input dtype bool, float64 were all converted to float64 by StandardScaler.\n"
     ]
    },
    {
     "name": "stdout",
     "output_type": "stream",
     "text": [
      "*** Training of model 'GradientBoostingClassifier' started.\n",
      "*** Training of classifier ready. Time elapsed: 720.122ms\n",
      "\n"
     ]
    },
    {
     "name": "stderr",
     "output_type": "stream",
     "text": [
      "Data with input dtype bool, float64 were all converted to float64 by StandardScaler.\n",
      "Data with input dtype bool, float64 were all converted to float64 by StandardScaler.\n",
      "Data with input dtype bool, float64 were all converted to float64 by StandardScaler.\n"
     ]
    },
    {
     "name": "stdout",
     "output_type": "stream",
     "text": [
      "*** Training of model 'GradientBoostingClassifier' started.\n",
      "*** Training of classifier ready. Time elapsed: 929.459ms\n",
      "\n"
     ]
    },
    {
     "name": "stderr",
     "output_type": "stream",
     "text": [
      "Data with input dtype bool, float64 were all converted to float64 by StandardScaler.\n",
      "Data with input dtype bool, float64 were all converted to float64 by StandardScaler.\n",
      "Data with input dtype bool, float64 were all converted to float64 by StandardScaler.\n"
     ]
    },
    {
     "name": "stdout",
     "output_type": "stream",
     "text": [
      "*** Training of model 'GradientBoostingClassifier' started.\n",
      "*** Training of classifier ready. Time elapsed: 586.624ms\n",
      "\n"
     ]
    },
    {
     "name": "stderr",
     "output_type": "stream",
     "text": [
      "Data with input dtype bool, float64 were all converted to float64 by StandardScaler.\n",
      "Data with input dtype bool, float64 were all converted to float64 by StandardScaler.\n",
      "Data with input dtype bool, float64 were all converted to float64 by StandardScaler.\n"
     ]
    },
    {
     "name": "stdout",
     "output_type": "stream",
     "text": [
      "*** Training of model 'GradientBoostingClassifier' started.\n",
      "*** Training of classifier ready. Time elapsed: 555.776ms\n",
      "\n"
     ]
    },
    {
     "name": "stderr",
     "output_type": "stream",
     "text": [
      "Data with input dtype bool, float64 were all converted to float64 by StandardScaler.\n",
      "Data with input dtype bool, float64 were all converted to float64 by StandardScaler.\n",
      "Data with input dtype bool, float64 were all converted to float64 by StandardScaler.\n"
     ]
    },
    {
     "name": "stdout",
     "output_type": "stream",
     "text": [
      "*** Training of model 'GradientBoostingClassifier' started.\n",
      "*** Training of classifier ready. Time elapsed: 731.18ms\n",
      "\n"
     ]
    },
    {
     "name": "stderr",
     "output_type": "stream",
     "text": [
      "Data with input dtype bool, float64 were all converted to float64 by StandardScaler.\n",
      "Data with input dtype bool, float64 were all converted to float64 by StandardScaler.\n",
      "Data with input dtype bool, float64 were all converted to float64 by StandardScaler.\n"
     ]
    },
    {
     "name": "stdout",
     "output_type": "stream",
     "text": [
      "*** Training of model 'GradientBoostingClassifier' started.\n",
      "*** Training of classifier ready. Time elapsed: 607.102ms\n",
      "\n"
     ]
    },
    {
     "name": "stderr",
     "output_type": "stream",
     "text": [
      "Data with input dtype bool, float64 were all converted to float64 by StandardScaler.\n",
      "Data with input dtype bool, float64 were all converted to float64 by StandardScaler.\n",
      "Data with input dtype bool, float64 were all converted to float64 by StandardScaler.\n"
     ]
    },
    {
     "name": "stdout",
     "output_type": "stream",
     "text": [
      "*** Training of model 'GradientBoostingClassifier' started.\n",
      "*** Training of classifier ready. Time elapsed: 590.74ms\n",
      "\n"
     ]
    },
    {
     "name": "stderr",
     "output_type": "stream",
     "text": [
      "Data with input dtype bool, float64 were all converted to float64 by StandardScaler.\n",
      "Data with input dtype bool, float64 were all converted to float64 by StandardScaler.\n",
      "Data with input dtype bool, float64 were all converted to float64 by StandardScaler.\n"
     ]
    },
    {
     "name": "stdout",
     "output_type": "stream",
     "text": [
      "*** Training of model 'RandomForestClassifier' started.\n",
      "*** Training of classifier ready. Time elapsed: 512.774ms\n",
      "\n"
     ]
    },
    {
     "name": "stderr",
     "output_type": "stream",
     "text": [
      "F-score is ill-defined and being set to 0.0 due to no predicted samples.\n",
      "Precision is ill-defined and being set to 0.0 due to no predicted samples.\n",
      "invalid value encountered in long_scalars\n",
      "Data with input dtype bool, float64 were all converted to float64 by StandardScaler.\n",
      "Data with input dtype bool, float64 were all converted to float64 by StandardScaler.\n",
      "Data with input dtype bool, float64 were all converted to float64 by StandardScaler.\n"
     ]
    },
    {
     "name": "stdout",
     "output_type": "stream",
     "text": [
      "*** Training of model 'RandomForestClassifier' started.\n",
      "*** Training of classifier ready. Time elapsed: 804.062ms\n",
      "\n"
     ]
    },
    {
     "name": "stderr",
     "output_type": "stream",
     "text": [
      "F-score is ill-defined and being set to 0.0 due to no predicted samples.\n",
      "Precision is ill-defined and being set to 0.0 due to no predicted samples.\n",
      "invalid value encountered in long_scalars\n",
      "Data with input dtype bool, float64 were all converted to float64 by StandardScaler.\n",
      "Data with input dtype bool, float64 were all converted to float64 by StandardScaler.\n",
      "Data with input dtype bool, float64 were all converted to float64 by StandardScaler.\n"
     ]
    },
    {
     "name": "stdout",
     "output_type": "stream",
     "text": [
      "*** Training of model 'RandomForestClassifier' started.\n",
      "*** Training of classifier ready. Time elapsed: 519.353ms\n",
      "\n"
     ]
    },
    {
     "name": "stderr",
     "output_type": "stream",
     "text": [
      "F-score is ill-defined and being set to 0.0 due to no predicted samples.\n",
      "Precision is ill-defined and being set to 0.0 due to no predicted samples.\n",
      "invalid value encountered in long_scalars\n",
      "Data with input dtype bool, float64 were all converted to float64 by StandardScaler.\n",
      "Data with input dtype bool, float64 were all converted to float64 by StandardScaler.\n",
      "Data with input dtype bool, float64 were all converted to float64 by StandardScaler.\n"
     ]
    },
    {
     "name": "stdout",
     "output_type": "stream",
     "text": [
      "*** Training of model 'RandomForestClassifier' started.\n",
      "*** Training of classifier ready. Time elapsed: 69.221ms\n",
      "\n"
     ]
    },
    {
     "name": "stderr",
     "output_type": "stream",
     "text": [
      "F-score is ill-defined and being set to 0.0 due to no predicted samples.\n",
      "Precision is ill-defined and being set to 0.0 due to no predicted samples.\n",
      "invalid value encountered in long_scalars\n",
      "Data with input dtype bool, float64 were all converted to float64 by StandardScaler.\n",
      "Data with input dtype bool, float64 were all converted to float64 by StandardScaler.\n",
      "Data with input dtype bool, float64 were all converted to float64 by StandardScaler.\n"
     ]
    },
    {
     "name": "stdout",
     "output_type": "stream",
     "text": [
      "*** Training of model 'RandomForestClassifier' started.\n",
      "*** Training of classifier ready. Time elapsed: 941.955ms\n",
      "\n"
     ]
    },
    {
     "name": "stderr",
     "output_type": "stream",
     "text": [
      "F-score is ill-defined and being set to 0.0 due to no predicted samples.\n",
      "Precision is ill-defined and being set to 0.0 due to no predicted samples.\n",
      "invalid value encountered in long_scalars\n",
      "Data with input dtype bool, float64 were all converted to float64 by StandardScaler.\n",
      "Data with input dtype bool, float64 were all converted to float64 by StandardScaler.\n",
      "Data with input dtype bool, float64 were all converted to float64 by StandardScaler.\n"
     ]
    },
    {
     "name": "stdout",
     "output_type": "stream",
     "text": [
      "*** Training of model 'RandomForestClassifier' started.\n",
      "*** Training of classifier ready. Time elapsed: 44.489ms\n",
      "\n"
     ]
    },
    {
     "name": "stderr",
     "output_type": "stream",
     "text": [
      "Data with input dtype bool, float64 were all converted to float64 by StandardScaler.\n",
      "Data with input dtype bool, float64 were all converted to float64 by StandardScaler.\n",
      "Data with input dtype bool, float64 were all converted to float64 by StandardScaler.\n"
     ]
    },
    {
     "name": "stdout",
     "output_type": "stream",
     "text": [
      "*** Training of model 'RandomForestClassifier' started.\n",
      "*** Training of classifier ready. Time elapsed: 502.805ms\n",
      "\n"
     ]
    },
    {
     "name": "stderr",
     "output_type": "stream",
     "text": [
      "Data with input dtype bool, float64 were all converted to float64 by StandardScaler.\n",
      "Data with input dtype bool, float64 were all converted to float64 by StandardScaler.\n",
      "Data with input dtype bool, float64 were all converted to float64 by StandardScaler.\n"
     ]
    },
    {
     "name": "stdout",
     "output_type": "stream",
     "text": [
      "*** Training of model 'RandomForestClassifier' started.\n",
      "*** Training of classifier ready. Time elapsed: 645.142ms\n",
      "\n"
     ]
    },
    {
     "name": "stderr",
     "output_type": "stream",
     "text": [
      "Data with input dtype bool, float64 were all converted to float64 by StandardScaler.\n",
      "Data with input dtype bool, float64 were all converted to float64 by StandardScaler.\n",
      "Data with input dtype bool, float64 were all converted to float64 by StandardScaler.\n"
     ]
    },
    {
     "name": "stdout",
     "output_type": "stream",
     "text": [
      "*** Training of model 'RandomForestClassifier' started.\n",
      "*** Training of classifier ready. Time elapsed: 670.64ms\n",
      "\n"
     ]
    },
    {
     "name": "stderr",
     "output_type": "stream",
     "text": [
      "Data with input dtype bool, float64 were all converted to float64 by StandardScaler.\n",
      "Data with input dtype bool, float64 were all converted to float64 by StandardScaler.\n",
      "Data with input dtype bool, float64 were all converted to float64 by StandardScaler.\n"
     ]
    },
    {
     "name": "stdout",
     "output_type": "stream",
     "text": [
      "*** Training of model 'RandomForestClassifier' started.\n",
      "*** Training of classifier ready. Time elapsed: 605.626ms\n",
      "\n"
     ]
    },
    {
     "name": "stderr",
     "output_type": "stream",
     "text": [
      "Data with input dtype bool, float64 were all converted to float64 by StandardScaler.\n",
      "Data with input dtype bool, float64 were all converted to float64 by StandardScaler.\n",
      "Data with input dtype bool, float64 were all converted to float64 by StandardScaler.\n"
     ]
    },
    {
     "name": "stdout",
     "output_type": "stream",
     "text": [
      "*** Training of model 'RandomForestClassifier' started.\n",
      "*** Training of classifier ready. Time elapsed: 73.075ms\n",
      "\n"
     ]
    },
    {
     "name": "stderr",
     "output_type": "stream",
     "text": [
      "Data with input dtype bool, float64 were all converted to float64 by StandardScaler.\n",
      "Data with input dtype bool, float64 were all converted to float64 by StandardScaler.\n",
      "Data with input dtype bool, float64 were all converted to float64 by StandardScaler.\n"
     ]
    },
    {
     "name": "stdout",
     "output_type": "stream",
     "text": [
      "*** Training of model 'RandomForestClassifier' started.\n",
      "*** Training of classifier ready. Time elapsed: 884.586ms\n",
      "\n"
     ]
    },
    {
     "name": "stderr",
     "output_type": "stream",
     "text": [
      "F-score is ill-defined and being set to 0.0 due to no predicted samples.\n",
      "Precision is ill-defined and being set to 0.0 due to no predicted samples.\n",
      "invalid value encountered in long_scalars\n",
      "Data with input dtype bool, float64 were all converted to float64 by StandardScaler.\n",
      "Data with input dtype bool, float64 were all converted to float64 by StandardScaler.\n",
      "Data with input dtype bool, float64 were all converted to float64 by StandardScaler.\n"
     ]
    },
    {
     "name": "stdout",
     "output_type": "stream",
     "text": [
      "*** Training of model 'RandomForestClassifier' started.\n",
      "*** Training of classifier ready. Time elapsed: 432.821ms\n",
      "\n"
     ]
    },
    {
     "name": "stderr",
     "output_type": "stream",
     "text": [
      "Data with input dtype bool, float64 were all converted to float64 by StandardScaler.\n",
      "Data with input dtype bool, float64 were all converted to float64 by StandardScaler.\n",
      "Data with input dtype bool, float64 were all converted to float64 by StandardScaler.\n"
     ]
    },
    {
     "name": "stdout",
     "output_type": "stream",
     "text": [
      "*** Training of model 'RandomForestClassifier' started.\n",
      "*** Training of classifier ready. Time elapsed: 695.502ms\n",
      "\n"
     ]
    },
    {
     "name": "stderr",
     "output_type": "stream",
     "text": [
      "Data with input dtype bool, float64 were all converted to float64 by StandardScaler.\n",
      "Data with input dtype bool, float64 were all converted to float64 by StandardScaler.\n",
      "Data with input dtype bool, float64 were all converted to float64 by StandardScaler.\n"
     ]
    },
    {
     "name": "stdout",
     "output_type": "stream",
     "text": [
      "*** Training of model 'RandomForestClassifier' started.\n",
      "*** Training of classifier ready. Time elapsed: 893.642ms\n",
      "\n"
     ]
    },
    {
     "name": "stderr",
     "output_type": "stream",
     "text": [
      "Data with input dtype bool, float64 were all converted to float64 by StandardScaler.\n",
      "Data with input dtype bool, float64 were all converted to float64 by StandardScaler.\n",
      "Data with input dtype bool, float64 were all converted to float64 by StandardScaler.\n"
     ]
    },
    {
     "name": "stdout",
     "output_type": "stream",
     "text": [
      "*** Training of model 'RandomForestClassifier' started.\n",
      "*** Training of classifier ready. Time elapsed: 679.608ms\n",
      "\n"
     ]
    },
    {
     "name": "stderr",
     "output_type": "stream",
     "text": [
      "Data with input dtype bool, float64 were all converted to float64 by StandardScaler.\n",
      "Data with input dtype bool, float64 were all converted to float64 by StandardScaler.\n",
      "Data with input dtype bool, float64 were all converted to float64 by StandardScaler.\n"
     ]
    },
    {
     "name": "stdout",
     "output_type": "stream",
     "text": [
      "*** Training of model 'RandomForestClassifier' started.\n",
      "*** Training of classifier ready. Time elapsed: 564.575ms\n",
      "\n"
     ]
    },
    {
     "name": "stderr",
     "output_type": "stream",
     "text": [
      "Data with input dtype bool, float64 were all converted to float64 by StandardScaler.\n",
      "Data with input dtype bool, float64 were all converted to float64 by StandardScaler.\n",
      "Data with input dtype bool, float64 were all converted to float64 by StandardScaler.\n"
     ]
    },
    {
     "name": "stdout",
     "output_type": "stream",
     "text": [
      "*** Training of model 'RandomForestClassifier' started.\n",
      "*** Training of classifier ready. Time elapsed: 392.582ms\n",
      "\n"
     ]
    },
    {
     "name": "stderr",
     "output_type": "stream",
     "text": [
      "Data with input dtype bool, float64 were all converted to float64 by StandardScaler.\n",
      "Data with input dtype bool, float64 were all converted to float64 by StandardScaler.\n",
      "Data with input dtype bool, float64 were all converted to float64 by StandardScaler.\n"
     ]
    },
    {
     "name": "stdout",
     "output_type": "stream",
     "text": [
      "*** Training of model 'RandomForestClassifier' started.\n",
      "*** Training of classifier ready. Time elapsed: 677.957ms\n",
      "\n"
     ]
    },
    {
     "name": "stderr",
     "output_type": "stream",
     "text": [
      "Data with input dtype bool, float64 were all converted to float64 by StandardScaler.\n",
      "Data with input dtype bool, float64 were all converted to float64 by StandardScaler.\n",
      "Data with input dtype bool, float64 were all converted to float64 by StandardScaler.\n"
     ]
    },
    {
     "name": "stdout",
     "output_type": "stream",
     "text": [
      "*** Training of model 'RandomForestClassifier' started.\n",
      "*** Training of classifier ready. Time elapsed: 872.914ms\n",
      "\n"
     ]
    },
    {
     "name": "stderr",
     "output_type": "stream",
     "text": [
      "Data with input dtype bool, float64 were all converted to float64 by StandardScaler.\n",
      "Data with input dtype bool, float64 were all converted to float64 by StandardScaler.\n",
      "Data with input dtype bool, float64 were all converted to float64 by StandardScaler.\n"
     ]
    },
    {
     "name": "stdout",
     "output_type": "stream",
     "text": [
      "*** Training of model 'RandomForestClassifier' started.\n",
      "*** Training of classifier ready. Time elapsed: 19.415ms\n",
      "\n"
     ]
    },
    {
     "name": "stderr",
     "output_type": "stream",
     "text": [
      "F-score is ill-defined and being set to 0.0 due to no predicted samples.\n",
      "Precision is ill-defined and being set to 0.0 due to no predicted samples.\n",
      "invalid value encountered in long_scalars\n",
      "Data with input dtype bool, float64 were all converted to float64 by StandardScaler.\n",
      "Data with input dtype bool, float64 were all converted to float64 by StandardScaler.\n",
      "Data with input dtype bool, float64 were all converted to float64 by StandardScaler.\n"
     ]
    },
    {
     "name": "stdout",
     "output_type": "stream",
     "text": [
      "*** Training of model 'RandomForestClassifier' started.\n",
      "*** Training of classifier ready. Time elapsed: 532.861ms\n",
      "\n"
     ]
    },
    {
     "name": "stderr",
     "output_type": "stream",
     "text": [
      "F-score is ill-defined and being set to 0.0 due to no predicted samples.\n",
      "Precision is ill-defined and being set to 0.0 due to no predicted samples.\n",
      "invalid value encountered in long_scalars\n",
      "Data with input dtype bool, float64 were all converted to float64 by StandardScaler.\n",
      "Data with input dtype bool, float64 were all converted to float64 by StandardScaler.\n",
      "Data with input dtype bool, float64 were all converted to float64 by StandardScaler.\n"
     ]
    },
    {
     "name": "stdout",
     "output_type": "stream",
     "text": [
      "*** Training of model 'RandomForestClassifier' started.\n",
      "*** Training of classifier ready. Time elapsed: 455.23ms\n",
      "\n"
     ]
    },
    {
     "name": "stderr",
     "output_type": "stream",
     "text": [
      "F-score is ill-defined and being set to 0.0 due to no predicted samples.\n",
      "Precision is ill-defined and being set to 0.0 due to no predicted samples.\n",
      "invalid value encountered in long_scalars\n",
      "Data with input dtype bool, float64 were all converted to float64 by StandardScaler.\n",
      "Data with input dtype bool, float64 were all converted to float64 by StandardScaler.\n",
      "Data with input dtype bool, float64 were all converted to float64 by StandardScaler.\n"
     ]
    },
    {
     "name": "stdout",
     "output_type": "stream",
     "text": [
      "*** Training of model 'RandomForestClassifier' started.\n",
      "*** Training of classifier ready. Time elapsed: 919.025ms\n",
      "\n"
     ]
    },
    {
     "name": "stderr",
     "output_type": "stream",
     "text": [
      "F-score is ill-defined and being set to 0.0 due to no predicted samples.\n",
      "Precision is ill-defined and being set to 0.0 due to no predicted samples.\n",
      "invalid value encountered in long_scalars\n",
      "Data with input dtype bool, float64 were all converted to float64 by StandardScaler.\n",
      "Data with input dtype bool, float64 were all converted to float64 by StandardScaler.\n",
      "Data with input dtype bool, float64 were all converted to float64 by StandardScaler.\n"
     ]
    },
    {
     "name": "stdout",
     "output_type": "stream",
     "text": [
      "*** Training of model 'RandomForestClassifier' started.\n",
      "*** Training of classifier ready. Time elapsed: 296.144ms\n",
      "\n"
     ]
    },
    {
     "name": "stderr",
     "output_type": "stream",
     "text": [
      "F-score is ill-defined and being set to 0.0 due to no predicted samples.\n",
      "Precision is ill-defined and being set to 0.0 due to no predicted samples.\n",
      "invalid value encountered in long_scalars\n",
      "Data with input dtype bool, float64 were all converted to float64 by StandardScaler.\n",
      "Data with input dtype bool, float64 were all converted to float64 by StandardScaler.\n",
      "Data with input dtype bool, float64 were all converted to float64 by StandardScaler.\n"
     ]
    },
    {
     "name": "stdout",
     "output_type": "stream",
     "text": [
      "*** Training of model 'DecisionTreeClassifier' started.\n",
      "*** Training of classifier ready. Time elapsed: 577.299ms\n",
      "\n"
     ]
    },
    {
     "name": "stderr",
     "output_type": "stream",
     "text": [
      "Data with input dtype bool, float64 were all converted to float64 by StandardScaler.\n",
      "Data with input dtype bool, float64 were all converted to float64 by StandardScaler.\n",
      "Data with input dtype bool, float64 were all converted to float64 by StandardScaler.\n"
     ]
    },
    {
     "name": "stdout",
     "output_type": "stream",
     "text": [
      "*** Training of model 'DecisionTreeClassifier' started.\n",
      "*** Training of classifier ready. Time elapsed: 498.914ms\n",
      "\n"
     ]
    },
    {
     "name": "stderr",
     "output_type": "stream",
     "text": [
      "Data with input dtype bool, float64 were all converted to float64 by StandardScaler.\n",
      "Data with input dtype bool, float64 were all converted to float64 by StandardScaler.\n",
      "Data with input dtype bool, float64 were all converted to float64 by StandardScaler.\n"
     ]
    },
    {
     "name": "stdout",
     "output_type": "stream",
     "text": [
      "*** Training of model 'DecisionTreeClassifier' started.\n",
      "*** Training of classifier ready. Time elapsed: 997.742ms\n",
      "\n"
     ]
    },
    {
     "name": "stderr",
     "output_type": "stream",
     "text": [
      "Data with input dtype bool, float64 were all converted to float64 by StandardScaler.\n",
      "Data with input dtype bool, float64 were all converted to float64 by StandardScaler.\n",
      "Data with input dtype bool, float64 were all converted to float64 by StandardScaler.\n"
     ]
    },
    {
     "name": "stdout",
     "output_type": "stream",
     "text": [
      "*** Training of model 'DecisionTreeClassifier' started.\n",
      "*** Training of classifier ready. Time elapsed: 840.098ms\n",
      "\n"
     ]
    },
    {
     "name": "stderr",
     "output_type": "stream",
     "text": [
      "Data with input dtype bool, float64 were all converted to float64 by StandardScaler.\n",
      "Data with input dtype bool, float64 were all converted to float64 by StandardScaler.\n",
      "Data with input dtype bool, float64 were all converted to float64 by StandardScaler.\n"
     ]
    },
    {
     "name": "stdout",
     "output_type": "stream",
     "text": [
      "*** Training of model 'DecisionTreeClassifier' started.\n",
      "*** Training of classifier ready. Time elapsed: 531.644ms\n",
      "\n"
     ]
    },
    {
     "name": "stderr",
     "output_type": "stream",
     "text": [
      "Data with input dtype bool, float64 were all converted to float64 by StandardScaler.\n",
      "Data with input dtype bool, float64 were all converted to float64 by StandardScaler.\n",
      "Data with input dtype bool, float64 were all converted to float64 by StandardScaler.\n"
     ]
    },
    {
     "name": "stdout",
     "output_type": "stream",
     "text": [
      "*** Training of model 'DecisionTreeClassifier' started.\n",
      "*** Training of classifier ready. Time elapsed: 86.098ms\n",
      "\n"
     ]
    },
    {
     "name": "stderr",
     "output_type": "stream",
     "text": [
      "Data with input dtype bool, float64 were all converted to float64 by StandardScaler.\n",
      "Data with input dtype bool, float64 were all converted to float64 by StandardScaler.\n",
      "Data with input dtype bool, float64 were all converted to float64 by StandardScaler.\n"
     ]
    },
    {
     "name": "stdout",
     "output_type": "stream",
     "text": [
      "*** Training of model 'DecisionTreeClassifier' started.\n",
      "*** Training of classifier ready. Time elapsed: 89.972ms\n",
      "\n"
     ]
    },
    {
     "name": "stderr",
     "output_type": "stream",
     "text": [
      "Data with input dtype bool, float64 were all converted to float64 by StandardScaler.\n",
      "Data with input dtype bool, float64 were all converted to float64 by StandardScaler.\n",
      "Data with input dtype bool, float64 were all converted to float64 by StandardScaler.\n"
     ]
    },
    {
     "name": "stdout",
     "output_type": "stream",
     "text": [
      "*** Training of model 'DecisionTreeClassifier' started.\n",
      "*** Training of classifier ready. Time elapsed: 40.588ms\n",
      "\n"
     ]
    },
    {
     "name": "stderr",
     "output_type": "stream",
     "text": [
      "Data with input dtype bool, float64 were all converted to float64 by StandardScaler.\n",
      "Data with input dtype bool, float64 were all converted to float64 by StandardScaler.\n",
      "Data with input dtype bool, float64 were all converted to float64 by StandardScaler.\n"
     ]
    },
    {
     "name": "stdout",
     "output_type": "stream",
     "text": [
      "*** Training of model 'DecisionTreeClassifier' started.\n",
      "*** Training of classifier ready. Time elapsed: 43.16ms\n",
      "\n"
     ]
    },
    {
     "name": "stderr",
     "output_type": "stream",
     "text": [
      "Data with input dtype bool, float64 were all converted to float64 by StandardScaler.\n",
      "Data with input dtype bool, float64 were all converted to float64 by StandardScaler.\n",
      "Data with input dtype bool, float64 were all converted to float64 by StandardScaler.\n"
     ]
    },
    {
     "name": "stdout",
     "output_type": "stream",
     "text": [
      "*** Training of model 'DecisionTreeClassifier' started.\n",
      "*** Training of classifier ready. Time elapsed: 40.253ms\n",
      "\n"
     ]
    },
    {
     "name": "stderr",
     "output_type": "stream",
     "text": [
      "Data with input dtype bool, float64 were all converted to float64 by StandardScaler.\n",
      "Data with input dtype bool, float64 were all converted to float64 by StandardScaler.\n",
      "Data with input dtype bool, float64 were all converted to float64 by StandardScaler.\n"
     ]
    },
    {
     "name": "stdout",
     "output_type": "stream",
     "text": [
      "*** Training of model 'DecisionTreeClassifier' started.\n",
      "*** Training of classifier ready. Time elapsed: 944.076ms\n",
      "\n"
     ]
    },
    {
     "name": "stderr",
     "output_type": "stream",
     "text": [
      "Data with input dtype bool, float64 were all converted to float64 by StandardScaler.\n",
      "Data with input dtype bool, float64 were all converted to float64 by StandardScaler.\n",
      "Data with input dtype bool, float64 were all converted to float64 by StandardScaler.\n"
     ]
    },
    {
     "name": "stdout",
     "output_type": "stream",
     "text": [
      "*** Training of model 'DecisionTreeClassifier' started.\n",
      "*** Training of classifier ready. Time elapsed: 113.709ms\n",
      "\n"
     ]
    },
    {
     "name": "stderr",
     "output_type": "stream",
     "text": [
      "Data with input dtype bool, float64 were all converted to float64 by StandardScaler.\n",
      "Data with input dtype bool, float64 were all converted to float64 by StandardScaler.\n",
      "Data with input dtype bool, float64 were all converted to float64 by StandardScaler.\n"
     ]
    },
    {
     "name": "stdout",
     "output_type": "stream",
     "text": [
      "*** Training of model 'DecisionTreeClassifier' started.\n",
      "*** Training of classifier ready. Time elapsed: 41.173ms\n",
      "\n"
     ]
    },
    {
     "name": "stderr",
     "output_type": "stream",
     "text": [
      "Data with input dtype bool, float64 were all converted to float64 by StandardScaler.\n",
      "Data with input dtype bool, float64 were all converted to float64 by StandardScaler.\n",
      "Data with input dtype bool, float64 were all converted to float64 by StandardScaler.\n"
     ]
    },
    {
     "name": "stdout",
     "output_type": "stream",
     "text": [
      "*** Training of model 'DecisionTreeClassifier' started.\n",
      "*** Training of classifier ready. Time elapsed: 142.326ms\n",
      "\n"
     ]
    },
    {
     "name": "stderr",
     "output_type": "stream",
     "text": [
      "Data with input dtype bool, float64 were all converted to float64 by StandardScaler.\n",
      "Data with input dtype bool, float64 were all converted to float64 by StandardScaler.\n",
      "Data with input dtype bool, float64 were all converted to float64 by StandardScaler.\n"
     ]
    },
    {
     "name": "stdout",
     "output_type": "stream",
     "text": [
      "*** Training of model 'DecisionTreeClassifier' started.\n",
      "*** Training of classifier ready. Time elapsed: 212.311ms\n",
      "\n"
     ]
    },
    {
     "name": "stderr",
     "output_type": "stream",
     "text": [
      "Data with input dtype bool, float64 were all converted to float64 by StandardScaler.\n",
      "Data with input dtype bool, float64 were all converted to float64 by StandardScaler.\n",
      "Data with input dtype bool, float64 were all converted to float64 by StandardScaler.\n"
     ]
    },
    {
     "name": "stdout",
     "output_type": "stream",
     "text": [
      "*** Training of model 'DecisionTreeClassifier' started.\n",
      "*** Training of classifier ready. Time elapsed: 5.127ms\n",
      "\n"
     ]
    },
    {
     "name": "stderr",
     "output_type": "stream",
     "text": [
      "Data with input dtype bool, float64 were all converted to float64 by StandardScaler.\n",
      "Data with input dtype bool, float64 were all converted to float64 by StandardScaler.\n",
      "Data with input dtype bool, float64 were all converted to float64 by StandardScaler.\n"
     ]
    },
    {
     "name": "stdout",
     "output_type": "stream",
     "text": [
      "*** Training of model 'DecisionTreeClassifier' started.\n",
      "*** Training of classifier ready. Time elapsed: 916.857ms\n",
      "\n"
     ]
    },
    {
     "name": "stderr",
     "output_type": "stream",
     "text": [
      "Data with input dtype bool, float64 were all converted to float64 by StandardScaler.\n",
      "Data with input dtype bool, float64 were all converted to float64 by StandardScaler.\n",
      "Data with input dtype bool, float64 were all converted to float64 by StandardScaler.\n"
     ]
    },
    {
     "name": "stdout",
     "output_type": "stream",
     "text": [
      "*** Training of model 'DecisionTreeClassifier' started.\n",
      "*** Training of classifier ready. Time elapsed: 862.106ms\n",
      "\n"
     ]
    },
    {
     "name": "stderr",
     "output_type": "stream",
     "text": [
      "Data with input dtype bool, float64 were all converted to float64 by StandardScaler.\n",
      "Data with input dtype bool, float64 were all converted to float64 by StandardScaler.\n",
      "Data with input dtype bool, float64 were all converted to float64 by StandardScaler.\n"
     ]
    },
    {
     "name": "stdout",
     "output_type": "stream",
     "text": [
      "*** Training of model 'DecisionTreeClassifier' started.\n",
      "*** Training of classifier ready. Time elapsed: 985.944ms\n",
      "\n"
     ]
    },
    {
     "name": "stderr",
     "output_type": "stream",
     "text": [
      "Data with input dtype bool, float64 were all converted to float64 by StandardScaler.\n",
      "Data with input dtype bool, float64 were all converted to float64 by StandardScaler.\n",
      "Data with input dtype bool, float64 were all converted to float64 by StandardScaler.\n"
     ]
    },
    {
     "name": "stdout",
     "output_type": "stream",
     "text": [
      "*** Training of model 'DecisionTreeClassifier' started.\n",
      "*** Training of classifier ready. Time elapsed: 38.248ms\n",
      "\n"
     ]
    },
    {
     "name": "stderr",
     "output_type": "stream",
     "text": [
      "Data with input dtype bool, float64 were all converted to float64 by StandardScaler.\n",
      "Data with input dtype bool, float64 were all converted to float64 by StandardScaler.\n",
      "Data with input dtype bool, float64 were all converted to float64 by StandardScaler.\n"
     ]
    },
    {
     "name": "stdout",
     "output_type": "stream",
     "text": [
      "*** Training of model 'DecisionTreeClassifier' started.\n",
      "*** Training of classifier ready. Time elapsed: 530.607ms\n",
      "\n"
     ]
    },
    {
     "name": "stderr",
     "output_type": "stream",
     "text": [
      "Data with input dtype bool, float64 were all converted to float64 by StandardScaler.\n",
      "Data with input dtype bool, float64 were all converted to float64 by StandardScaler.\n",
      "Data with input dtype bool, float64 were all converted to float64 by StandardScaler.\n"
     ]
    },
    {
     "name": "stdout",
     "output_type": "stream",
     "text": [
      "*** Training of model 'DecisionTreeClassifier' started.\n",
      "*** Training of classifier ready. Time elapsed: 264.519ms\n",
      "\n"
     ]
    },
    {
     "name": "stderr",
     "output_type": "stream",
     "text": [
      "Data with input dtype bool, float64 were all converted to float64 by StandardScaler.\n",
      "Data with input dtype bool, float64 were all converted to float64 by StandardScaler.\n",
      "Data with input dtype bool, float64 were all converted to float64 by StandardScaler.\n"
     ]
    },
    {
     "name": "stdout",
     "output_type": "stream",
     "text": [
      "*** Training of model 'DecisionTreeClassifier' started.\n",
      "*** Training of classifier ready. Time elapsed: 527.723ms\n",
      "\n"
     ]
    },
    {
     "name": "stderr",
     "output_type": "stream",
     "text": [
      "Data with input dtype bool, float64 were all converted to float64 by StandardScaler.\n",
      "Data with input dtype bool, float64 were all converted to float64 by StandardScaler.\n",
      "Data with input dtype bool, float64 were all converted to float64 by StandardScaler.\n"
     ]
    },
    {
     "name": "stdout",
     "output_type": "stream",
     "text": [
      "*** Training of model 'DecisionTreeClassifier' started.\n",
      "*** Training of classifier ready. Time elapsed: 407.916ms\n",
      "\n"
     ]
    },
    {
     "name": "stderr",
     "output_type": "stream",
     "text": [
      "Data with input dtype bool, float64 were all converted to float64 by StandardScaler.\n",
      "Data with input dtype bool, float64 were all converted to float64 by StandardScaler.\n",
      "Data with input dtype bool, float64 were all converted to float64 by StandardScaler.\n"
     ]
    },
    {
     "name": "stdout",
     "output_type": "stream",
     "text": [
      "*** Training of model 'DecisionTreeClassifier' started.\n",
      "*** Training of classifier ready. Time elapsed: 274.844ms\n",
      "\n"
     ]
    },
    {
     "name": "stderr",
     "output_type": "stream",
     "text": [
      "Data with input dtype bool, float64 were all converted to float64 by StandardScaler.\n",
      "Data with input dtype bool, float64 were all converted to float64 by StandardScaler.\n",
      "Data with input dtype bool, float64 were all converted to float64 by StandardScaler.\n"
     ]
    },
    {
     "name": "stdout",
     "output_type": "stream",
     "text": [
      "*** Training of model 'LogisticRegression' started.\n",
      "*** Training of classifier ready. Time elapsed: 206.305ms\n",
      "\n"
     ]
    },
    {
     "name": "stderr",
     "output_type": "stream",
     "text": [
      "Data with input dtype bool, float64 were all converted to float64 by StandardScaler.\n",
      "Data with input dtype bool, float64 were all converted to float64 by StandardScaler.\n",
      "Data with input dtype bool, float64 were all converted to float64 by StandardScaler.\n"
     ]
    },
    {
     "name": "stdout",
     "output_type": "stream",
     "text": [
      "*** Training of model 'LogisticRegression' started.\n",
      "*** Training of classifier ready. Time elapsed: 302.275ms\n",
      "\n"
     ]
    },
    {
     "name": "stderr",
     "output_type": "stream",
     "text": [
      "overflow encountered in exp\n",
      "Data with input dtype bool, float64 were all converted to float64 by StandardScaler.\n",
      "Data with input dtype bool, float64 were all converted to float64 by StandardScaler.\n",
      "Data with input dtype bool, float64 were all converted to float64 by StandardScaler.\n"
     ]
    },
    {
     "name": "stdout",
     "output_type": "stream",
     "text": [
      "*** Training of model 'LogisticRegression' started.\n",
      "*** Training of classifier ready. Time elapsed: 770.666ms\n",
      "\n"
     ]
    },
    {
     "name": "stderr",
     "output_type": "stream",
     "text": [
      "Data with input dtype bool, float64 were all converted to float64 by StandardScaler.\n",
      "Data with input dtype bool, float64 were all converted to float64 by StandardScaler.\n",
      "Data with input dtype bool, float64 were all converted to float64 by StandardScaler.\n"
     ]
    },
    {
     "name": "stdout",
     "output_type": "stream",
     "text": [
      "*** Training of model 'LogisticRegression' started.\n",
      "*** Training of classifier ready. Time elapsed: 956.574ms\n",
      "\n"
     ]
    },
    {
     "name": "stderr",
     "output_type": "stream",
     "text": [
      "Data with input dtype bool, float64 were all converted to float64 by StandardScaler.\n",
      "Data with input dtype bool, float64 were all converted to float64 by StandardScaler.\n",
      "Data with input dtype bool, float64 were all converted to float64 by StandardScaler.\n"
     ]
    },
    {
     "name": "stdout",
     "output_type": "stream",
     "text": [
      "*** Training of model 'LogisticRegression' started.\n",
      "*** Training of classifier ready. Time elapsed: 934.104ms\n",
      "\n"
     ]
    },
    {
     "name": "stderr",
     "output_type": "stream",
     "text": [
      "Data with input dtype bool, float64 were all converted to float64 by StandardScaler.\n",
      "Data with input dtype bool, float64 were all converted to float64 by StandardScaler.\n",
      "Data with input dtype bool, float64 were all converted to float64 by StandardScaler.\n"
     ]
    },
    {
     "name": "stdout",
     "output_type": "stream",
     "text": [
      "*** Training of model 'LogisticRegression' started.\n",
      "*** Training of classifier ready. Time elapsed: 986.803ms\n",
      "\n"
     ]
    },
    {
     "name": "stderr",
     "output_type": "stream",
     "text": [
      "Data with input dtype bool, float64 were all converted to float64 by StandardScaler.\n",
      "Data with input dtype bool, float64 were all converted to float64 by StandardScaler.\n",
      "Data with input dtype bool, float64 were all converted to float64 by StandardScaler.\n"
     ]
    },
    {
     "name": "stdout",
     "output_type": "stream",
     "text": [
      "*** Training of model 'LogisticRegression' started.\n",
      "*** Training of classifier ready. Time elapsed: 726.574ms\n",
      "\n"
     ]
    },
    {
     "name": "stderr",
     "output_type": "stream",
     "text": [
      "Data with input dtype bool, float64 were all converted to float64 by StandardScaler.\n",
      "Data with input dtype bool, float64 were all converted to float64 by StandardScaler.\n",
      "Data with input dtype bool, float64 were all converted to float64 by StandardScaler.\n"
     ]
    },
    {
     "name": "stdout",
     "output_type": "stream",
     "text": [
      "*** Training of model 'LogisticRegression' started.\n",
      "*** Training of classifier ready. Time elapsed: 538.834ms\n",
      "\n"
     ]
    },
    {
     "name": "stderr",
     "output_type": "stream",
     "text": [
      "Data with input dtype bool, float64 were all converted to float64 by StandardScaler.\n",
      "Data with input dtype bool, float64 were all converted to float64 by StandardScaler.\n",
      "Data with input dtype bool, float64 were all converted to float64 by StandardScaler.\n"
     ]
    },
    {
     "name": "stdout",
     "output_type": "stream",
     "text": [
      "*** Training of model 'LogisticRegression' started.\n",
      "*** Training of classifier ready. Time elapsed: 331.43ms\n",
      "\n"
     ]
    },
    {
     "name": "stderr",
     "output_type": "stream",
     "text": [
      "Data with input dtype bool, float64 were all converted to float64 by StandardScaler.\n",
      "Data with input dtype bool, float64 were all converted to float64 by StandardScaler.\n",
      "Data with input dtype bool, float64 were all converted to float64 by StandardScaler.\n"
     ]
    },
    {
     "name": "stdout",
     "output_type": "stream",
     "text": [
      "*** Training of model 'LogisticRegression' started.\n",
      "*** Training of classifier ready. Time elapsed: 219.322ms\n",
      "\n"
     ]
    },
    {
     "name": "stderr",
     "output_type": "stream",
     "text": [
      "Data with input dtype bool, float64 were all converted to float64 by StandardScaler.\n",
      "Data with input dtype bool, float64 were all converted to float64 by StandardScaler.\n",
      "Data with input dtype bool, float64 were all converted to float64 by StandardScaler.\n"
     ]
    },
    {
     "name": "stdout",
     "output_type": "stream",
     "text": [
      "*** Training of model 'LogisticRegression' started.\n",
      "*** Training of classifier ready. Time elapsed: 721.824ms\n",
      "\n"
     ]
    },
    {
     "name": "stderr",
     "output_type": "stream",
     "text": [
      "Data with input dtype bool, float64 were all converted to float64 by StandardScaler.\n",
      "Data with input dtype bool, float64 were all converted to float64 by StandardScaler.\n",
      "Data with input dtype bool, float64 were all converted to float64 by StandardScaler.\n"
     ]
    },
    {
     "name": "stdout",
     "output_type": "stream",
     "text": [
      "*** Training of model 'LogisticRegression' started.\n",
      "*** Training of classifier ready. Time elapsed: 683.069ms\n",
      "\n"
     ]
    },
    {
     "name": "stderr",
     "output_type": "stream",
     "text": [
      "overflow encountered in exp\n",
      "Data with input dtype bool, float64 were all converted to float64 by StandardScaler.\n",
      "Data with input dtype bool, float64 were all converted to float64 by StandardScaler.\n",
      "Data with input dtype bool, float64 were all converted to float64 by StandardScaler.\n"
     ]
    },
    {
     "name": "stdout",
     "output_type": "stream",
     "text": [
      "*** Training of model 'LogisticRegression' started.\n",
      "*** Training of classifier ready. Time elapsed: 502.025ms\n",
      "\n"
     ]
    },
    {
     "name": "stderr",
     "output_type": "stream",
     "text": [
      "Data with input dtype bool, float64 were all converted to float64 by StandardScaler.\n",
      "Data with input dtype bool, float64 were all converted to float64 by StandardScaler.\n",
      "Data with input dtype bool, float64 were all converted to float64 by StandardScaler.\n"
     ]
    },
    {
     "name": "stdout",
     "output_type": "stream",
     "text": [
      "*** Training of model 'LogisticRegression' started.\n",
      "*** Training of classifier ready. Time elapsed: 841.602ms\n",
      "\n"
     ]
    },
    {
     "name": "stderr",
     "output_type": "stream",
     "text": [
      "Data with input dtype bool, float64 were all converted to float64 by StandardScaler.\n",
      "Data with input dtype bool, float64 were all converted to float64 by StandardScaler.\n",
      "Data with input dtype bool, float64 were all converted to float64 by StandardScaler.\n"
     ]
    },
    {
     "name": "stdout",
     "output_type": "stream",
     "text": [
      "*** Training of model 'LogisticRegression' started.\n",
      "*** Training of classifier ready. Time elapsed: 756.241ms\n",
      "\n"
     ]
    },
    {
     "name": "stderr",
     "output_type": "stream",
     "text": [
      "Data with input dtype bool, float64 were all converted to float64 by StandardScaler.\n",
      "Data with input dtype bool, float64 were all converted to float64 by StandardScaler.\n",
      "Data with input dtype bool, float64 were all converted to float64 by StandardScaler.\n"
     ]
    },
    {
     "name": "stdout",
     "output_type": "stream",
     "text": [
      "*** Training of model 'LogisticRegression' started.\n",
      "*** Training of classifier ready. Time elapsed: 332.564ms\n",
      "\n"
     ]
    },
    {
     "name": "stderr",
     "output_type": "stream",
     "text": [
      "Data with input dtype bool, float64 were all converted to float64 by StandardScaler.\n",
      "Data with input dtype bool, float64 were all converted to float64 by StandardScaler.\n",
      "Data with input dtype bool, float64 were all converted to float64 by StandardScaler.\n"
     ]
    },
    {
     "name": "stdout",
     "output_type": "stream",
     "text": [
      "*** Training of model 'LogisticRegression' started.\n",
      "*** Training of classifier ready. Time elapsed: 146.047ms\n",
      "\n"
     ]
    },
    {
     "name": "stderr",
     "output_type": "stream",
     "text": [
      "overflow encountered in exp\n",
      "Data with input dtype bool, float64 were all converted to float64 by StandardScaler.\n",
      "Data with input dtype bool, float64 were all converted to float64 by StandardScaler.\n",
      "Data with input dtype bool, float64 were all converted to float64 by StandardScaler.\n"
     ]
    },
    {
     "name": "stdout",
     "output_type": "stream",
     "text": [
      "*** Training of model 'LogisticRegression' started.\n",
      "*** Training of classifier ready. Time elapsed: 514.421ms\n",
      "\n"
     ]
    },
    {
     "name": "stderr",
     "output_type": "stream",
     "text": [
      "Data with input dtype bool, float64 were all converted to float64 by StandardScaler.\n",
      "Data with input dtype bool, float64 were all converted to float64 by StandardScaler.\n",
      "Data with input dtype bool, float64 were all converted to float64 by StandardScaler.\n"
     ]
    },
    {
     "name": "stdout",
     "output_type": "stream",
     "text": [
      "*** Training of model 'LogisticRegression' started.\n",
      "*** Training of classifier ready. Time elapsed: 337.486ms\n",
      "\n"
     ]
    },
    {
     "name": "stderr",
     "output_type": "stream",
     "text": [
      "Data with input dtype bool, float64 were all converted to float64 by StandardScaler.\n",
      "Data with input dtype bool, float64 were all converted to float64 by StandardScaler.\n",
      "Data with input dtype bool, float64 were all converted to float64 by StandardScaler.\n"
     ]
    },
    {
     "name": "stdout",
     "output_type": "stream",
     "text": [
      "*** Training of model 'LogisticRegression' started.\n",
      "*** Training of classifier ready. Time elapsed: 483.813ms\n",
      "\n"
     ]
    },
    {
     "name": "stderr",
     "output_type": "stream",
     "text": [
      "Data with input dtype bool, float64 were all converted to float64 by StandardScaler.\n",
      "Data with input dtype bool, float64 were all converted to float64 by StandardScaler.\n",
      "Data with input dtype bool, float64 were all converted to float64 by StandardScaler.\n"
     ]
    },
    {
     "name": "stdout",
     "output_type": "stream",
     "text": [
      "*** Training of model 'LogisticRegression' started.\n",
      "*** Training of classifier ready. Time elapsed: 739.913ms\n",
      "\n"
     ]
    },
    {
     "name": "stderr",
     "output_type": "stream",
     "text": [
      "Data with input dtype bool, float64 were all converted to float64 by StandardScaler.\n",
      "Data with input dtype bool, float64 were all converted to float64 by StandardScaler.\n",
      "Data with input dtype bool, float64 were all converted to float64 by StandardScaler.\n"
     ]
    },
    {
     "name": "stdout",
     "output_type": "stream",
     "text": [
      "*** Training of model 'LogisticRegression' started.\n",
      "*** Training of classifier ready. Time elapsed: 18.381ms\n",
      "\n"
     ]
    },
    {
     "name": "stderr",
     "output_type": "stream",
     "text": [
      "overflow encountered in exp\n",
      "Data with input dtype bool, float64 were all converted to float64 by StandardScaler.\n",
      "Data with input dtype bool, float64 were all converted to float64 by StandardScaler.\n",
      "Data with input dtype bool, float64 were all converted to float64 by StandardScaler.\n"
     ]
    },
    {
     "name": "stdout",
     "output_type": "stream",
     "text": [
      "*** Training of model 'LogisticRegression' started.\n",
      "*** Training of classifier ready. Time elapsed: 731.652ms\n",
      "\n"
     ]
    },
    {
     "name": "stderr",
     "output_type": "stream",
     "text": [
      "Data with input dtype bool, float64 were all converted to float64 by StandardScaler.\n",
      "Data with input dtype bool, float64 were all converted to float64 by StandardScaler.\n",
      "Data with input dtype bool, float64 were all converted to float64 by StandardScaler.\n"
     ]
    },
    {
     "name": "stdout",
     "output_type": "stream",
     "text": [
      "*** Training of model 'LogisticRegression' started.\n",
      "*** Training of classifier ready. Time elapsed: 771.763ms\n",
      "\n"
     ]
    },
    {
     "name": "stderr",
     "output_type": "stream",
     "text": [
      "Data with input dtype bool, float64 were all converted to float64 by StandardScaler.\n",
      "Data with input dtype bool, float64 were all converted to float64 by StandardScaler.\n",
      "Data with input dtype bool, float64 were all converted to float64 by StandardScaler.\n"
     ]
    },
    {
     "name": "stdout",
     "output_type": "stream",
     "text": [
      "*** Training of model 'LogisticRegression' started.\n",
      "*** Training of classifier ready. Time elapsed: 621.639ms\n",
      "\n"
     ]
    },
    {
     "name": "stderr",
     "output_type": "stream",
     "text": [
      "Columns (10,17,18,19,23,26,30,34,63,82,89,91,93,94,95,96,103,110,111,112,115,118,119,120,127,130,134,135,136,137,143,163,164,170,226,234,238,239,277,303,304,305,308,310,314,318,325,337,343,344,345,349,365,380,385,406,411,415,417,420,427) have mixed types. Specify dtype option on import or set low_memory=False.\n"
     ]
    },
    {
     "name": "stdout",
     "output_type": "stream",
     "text": [
      "Fetching data for <fiber.condition.mrns.MRNs object at 0x7f1c22a5e908>\n",
      "Fetching data for Patient (...)\n"
     ]
    },
    {
     "name": "stderr",
     "output_type": "stream",
     "text": [
      "Data with input dtype bool, float64 were all converted to float64 by StandardScaler.\n",
      "Data with input dtype bool, float64 were all converted to float64 by StandardScaler.\n",
      "Data with input dtype bool, float64 were all converted to float64 by StandardScaler.\n"
     ]
    },
    {
     "name": "stdout",
     "output_type": "stream",
     "text": [
      "*** Training of model 'GradientBoostingClassifier' started.\n",
      "*** Training of classifier ready. Time elapsed: 530.37ms\n",
      "\n"
     ]
    },
    {
     "name": "stderr",
     "output_type": "stream",
     "text": [
      "F-score is ill-defined and being set to 0.0 due to no predicted samples.\n",
      "Precision is ill-defined and being set to 0.0 due to no predicted samples.\n",
      "invalid value encountered in long_scalars\n",
      "Data with input dtype bool, float64 were all converted to float64 by StandardScaler.\n",
      "Data with input dtype bool, float64 were all converted to float64 by StandardScaler.\n",
      "Data with input dtype bool, float64 were all converted to float64 by StandardScaler.\n"
     ]
    },
    {
     "name": "stdout",
     "output_type": "stream",
     "text": [
      "*** Training of model 'GradientBoostingClassifier' started.\n",
      "*** Training of classifier ready. Time elapsed: 349.049ms\n",
      "\n"
     ]
    },
    {
     "name": "stderr",
     "output_type": "stream",
     "text": [
      "F-score is ill-defined and being set to 0.0 due to no predicted samples.\n",
      "Precision is ill-defined and being set to 0.0 due to no predicted samples.\n",
      "invalid value encountered in long_scalars\n",
      "Data with input dtype bool, float64 were all converted to float64 by StandardScaler.\n",
      "Data with input dtype bool, float64 were all converted to float64 by StandardScaler.\n",
      "Data with input dtype bool, float64 were all converted to float64 by StandardScaler.\n"
     ]
    },
    {
     "name": "stdout",
     "output_type": "stream",
     "text": [
      "*** Training of model 'GradientBoostingClassifier' started.\n",
      "*** Training of classifier ready. Time elapsed: 802.806ms\n",
      "\n"
     ]
    },
    {
     "name": "stderr",
     "output_type": "stream",
     "text": [
      "F-score is ill-defined and being set to 0.0 due to no predicted samples.\n",
      "Precision is ill-defined and being set to 0.0 due to no predicted samples.\n",
      "invalid value encountered in long_scalars\n",
      "Data with input dtype bool, float64 were all converted to float64 by StandardScaler.\n",
      "Data with input dtype bool, float64 were all converted to float64 by StandardScaler.\n",
      "Data with input dtype bool, float64 were all converted to float64 by StandardScaler.\n"
     ]
    },
    {
     "name": "stdout",
     "output_type": "stream",
     "text": [
      "*** Training of model 'GradientBoostingClassifier' started.\n",
      "*** Training of classifier ready. Time elapsed: 177.068ms\n",
      "\n"
     ]
    },
    {
     "name": "stderr",
     "output_type": "stream",
     "text": [
      "F-score is ill-defined and being set to 0.0 due to no predicted samples.\n",
      "Precision is ill-defined and being set to 0.0 due to no predicted samples.\n",
      "invalid value encountered in long_scalars\n",
      "Data with input dtype bool, float64 were all converted to float64 by StandardScaler.\n",
      "Data with input dtype bool, float64 were all converted to float64 by StandardScaler.\n",
      "Data with input dtype bool, float64 were all converted to float64 by StandardScaler.\n"
     ]
    },
    {
     "name": "stdout",
     "output_type": "stream",
     "text": [
      "*** Training of model 'GradientBoostingClassifier' started.\n",
      "*** Training of classifier ready. Time elapsed: 782.624ms\n",
      "\n"
     ]
    },
    {
     "name": "stderr",
     "output_type": "stream",
     "text": [
      "F-score is ill-defined and being set to 0.0 due to no predicted samples.\n",
      "Precision is ill-defined and being set to 0.0 due to no predicted samples.\n",
      "invalid value encountered in long_scalars\n",
      "Data with input dtype bool, float64 were all converted to float64 by StandardScaler.\n",
      "Data with input dtype bool, float64 were all converted to float64 by StandardScaler.\n",
      "Data with input dtype bool, float64 were all converted to float64 by StandardScaler.\n"
     ]
    },
    {
     "name": "stdout",
     "output_type": "stream",
     "text": [
      "*** Training of model 'GradientBoostingClassifier' started.\n",
      "*** Training of classifier ready. Time elapsed: 111.066ms\n",
      "\n"
     ]
    },
    {
     "name": "stderr",
     "output_type": "stream",
     "text": [
      "Data with input dtype bool, float64 were all converted to float64 by StandardScaler.\n",
      "Data with input dtype bool, float64 were all converted to float64 by StandardScaler.\n",
      "Data with input dtype bool, float64 were all converted to float64 by StandardScaler.\n"
     ]
    },
    {
     "name": "stdout",
     "output_type": "stream",
     "text": [
      "*** Training of model 'GradientBoostingClassifier' started.\n",
      "*** Training of classifier ready. Time elapsed: 546.498ms\n",
      "\n"
     ]
    },
    {
     "name": "stderr",
     "output_type": "stream",
     "text": [
      "Data with input dtype bool, float64 were all converted to float64 by StandardScaler.\n",
      "Data with input dtype bool, float64 were all converted to float64 by StandardScaler.\n",
      "Data with input dtype bool, float64 were all converted to float64 by StandardScaler.\n"
     ]
    },
    {
     "name": "stdout",
     "output_type": "stream",
     "text": [
      "*** Training of model 'GradientBoostingClassifier' started.\n",
      "*** Training of classifier ready. Time elapsed: 381.875ms\n",
      "\n"
     ]
    },
    {
     "name": "stderr",
     "output_type": "stream",
     "text": [
      "Data with input dtype bool, float64 were all converted to float64 by StandardScaler.\n",
      "Data with input dtype bool, float64 were all converted to float64 by StandardScaler.\n",
      "Data with input dtype bool, float64 were all converted to float64 by StandardScaler.\n"
     ]
    },
    {
     "name": "stdout",
     "output_type": "stream",
     "text": [
      "*** Training of model 'GradientBoostingClassifier' started.\n",
      "*** Training of classifier ready. Time elapsed: 880.796ms\n",
      "\n"
     ]
    },
    {
     "name": "stderr",
     "output_type": "stream",
     "text": [
      "Data with input dtype bool, float64 were all converted to float64 by StandardScaler.\n",
      "Data with input dtype bool, float64 were all converted to float64 by StandardScaler.\n",
      "Data with input dtype bool, float64 were all converted to float64 by StandardScaler.\n"
     ]
    },
    {
     "name": "stdout",
     "output_type": "stream",
     "text": [
      "*** Training of model 'GradientBoostingClassifier' started.\n",
      "*** Training of classifier ready. Time elapsed: 60.819ms\n",
      "\n"
     ]
    },
    {
     "name": "stderr",
     "output_type": "stream",
     "text": [
      "Data with input dtype bool, float64 were all converted to float64 by StandardScaler.\n",
      "Data with input dtype bool, float64 were all converted to float64 by StandardScaler.\n",
      "Data with input dtype bool, float64 were all converted to float64 by StandardScaler.\n"
     ]
    },
    {
     "name": "stdout",
     "output_type": "stream",
     "text": [
      "*** Training of model 'GradientBoostingClassifier' started.\n",
      "*** Training of classifier ready. Time elapsed: 519.386ms\n",
      "\n"
     ]
    },
    {
     "name": "stderr",
     "output_type": "stream",
     "text": [
      "Data with input dtype bool, float64 were all converted to float64 by StandardScaler.\n",
      "Data with input dtype bool, float64 were all converted to float64 by StandardScaler.\n",
      "Data with input dtype bool, float64 were all converted to float64 by StandardScaler.\n"
     ]
    },
    {
     "name": "stdout",
     "output_type": "stream",
     "text": [
      "*** Training of model 'GradientBoostingClassifier' started.\n"
     ]
    }
   ],
   "source": [
    "pipeline = training.execute(\n",
    "    comment='NEW baseline-4 CMV no RFE',\n",
    "    version='100.4.0',\n",
    "    cohort=cohort,\n",
    "    onset_dataframe=onset_dataframe,\n",
    "    feature_pipeline=feature_pipeline,\n",
    "    data_loader=data_loader,\n",
    "    observation_iterator=configs,\n",
    "    targets=targets,\n",
    "    algorithms=algorithms,\n",
    "    samplers=samplers,\n",
    "    feature_type_occurring=\"occurring\",\n",
    "    feature_type_numeric=\"numeric_binned\",\n",
    "    bin_size=30,\n",
    "    rfe__run=False,\n",
    "    rfe__step_size=50\n",
    ")"
   ]
  },
  {
   "cell_type": "code",
   "execution_count": null,
   "metadata": {
    "scrolled": true
   },
   "outputs": [],
   "source": [
    "pipeline.id"
   ]
  }
 ],
 "metadata": {
  "kernelspec": {
   "display_name": "Python 3",
   "language": "python",
   "name": "python3"
  },
  "language_info": {
   "codemirror_mode": {
    "name": "ipython",
    "version": 3
   },
   "file_extension": ".py",
   "mimetype": "text/x-python",
   "name": "python",
   "nbconvert_exporter": "python",
   "pygments_lexer": "ipython3",
   "version": "3.6.9"
  }
 },
 "nbformat": 4,
 "nbformat_minor": 2
}
