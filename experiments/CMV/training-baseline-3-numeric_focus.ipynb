{
 "cells": [
  {
   "cell_type": "code",
   "execution_count": 1,
   "metadata": {
    "scrolled": true
   },
   "outputs": [],
   "source": [
    "%run ../00_default_options.ipynb"
   ]
  },
  {
   "cell_type": "code",
   "execution_count": 2,
   "metadata": {},
   "outputs": [],
   "source": [
    "from robotehr.pipelines import training\n",
    "from robotehr.models.cohort import Cohort, OnsetDataFrame\n",
    "from robotehr.models.data import FeaturePipeline\n",
    "from robotehr.pipelines.supporters.preprocessing import DataLoader"
   ]
  },
  {
   "cell_type": "code",
   "execution_count": 3,
   "metadata": {},
   "outputs": [],
   "source": [
    "cohort = Cohort.load(id=1)"
   ]
  },
  {
   "cell_type": "code",
   "execution_count": 4,
   "metadata": {},
   "outputs": [],
   "source": [
    "onset_dataframe = OnsetDataFrame.load(id=15)"
   ]
  },
  {
   "cell_type": "code",
   "execution_count": 5,
   "metadata": {},
   "outputs": [],
   "source": [
    "feature_pipeline = FeaturePipeline.load(id=20)"
   ]
  },
  {
   "cell_type": "code",
   "execution_count": 6,
   "metadata": {},
   "outputs": [
    {
     "name": "stderr",
     "output_type": "stream",
     "text": [
      "Using TensorFlow backend.\n"
     ]
    }
   ],
   "source": [
    "import morpher\n",
    "from morpher.jobs import *"
   ]
  },
  {
   "cell_type": "code",
   "execution_count": 7,
   "metadata": {},
   "outputs": [],
   "source": [
    "regexes = [\n",
    "    'any__Diagnosis__', \n",
    "    #'any__Procedure__', \n",
    "    #'any__Drug__', \n",
    "    #'any__Material__', \n",
    "    #'any__Encounter__', \n",
    "    #'any__AlcoholUse__', \n",
    "    #'any__DrugUse__', \n",
    "    #'any__TobaccoUse__',\n",
    "    'min__Height__', \n",
    "    'min__Weight__', \n",
    "    'min__VitalSign__', \n",
    "    #'min__Measurement__', \n",
    "    'min__LabValue__', \n",
    "    'max__Height__', \n",
    "    'max__Weight__', \n",
    "    'max__VitalSign__', \n",
    "    #'max__Measurement__', \n",
    "    'max__LabValue__'\n",
    "]\n",
    "\n",
    "column_selector = \"\"\n",
    "for r in regexes:\n",
    "    column_selector += r + \"|\"\n",
    "column_selector = column_selector[:-1]"
   ]
  },
  {
   "cell_type": "code",
   "execution_count": 12,
   "metadata": {},
   "outputs": [],
   "source": [
    "class CustomDataLoader(DataLoader):\n",
    "    def transform(self, X, y):\n",
    "        from sklearn.preprocessing import OneHotEncoder\n",
    "        from enum import Enum\n",
    "\n",
    "        # remove unused features\n",
    "        del X['medical_record_number']\n",
    "        del X['mother_account_number']\n",
    "        del X['date_of_birth']\n",
    "        del X['month_of_birth']\n",
    "        del X['patient_ethnic_group']\n",
    "        del X['religion']\n",
    "        del X['address_zip']\n",
    "        del X['deceased_indicator']\n",
    "        del X['marital_status_code']\n",
    "\n",
    "        class RaceType(str, Enum):\n",
    "            AFRICAN = 'African'\n",
    "            AMERICAN_BLACK = 'Black or African-American'\n",
    "            AMERICAN_NATIVE = 'Native American'\n",
    "            ASIAN = 'Asian'\n",
    "            ASIAN_PACIFIC = 'Asian Pacific'\n",
    "            ASIAN_INDIAN = 'Asian Indian'\n",
    "            ASIAN_CHINESE = 'Asian Chinese'\n",
    "            HISPANIC = 'Hispanic or Latino'\n",
    "            OTHER = 'Other'\n",
    "            WHITE = 'White'\n",
    "\n",
    "        RACE_MAPPING = {\n",
    "            RaceType.AFRICAN: [\n",
    "                'Cape Verdian',\n",
    "                'Congolese',\n",
    "                'Eritrean',\n",
    "                'Ethiopian',\n",
    "                'Gabonian',\n",
    "                'Ghanaian',\n",
    "                'Guinean',\n",
    "                'Ivory Coastian',\n",
    "                'Kenyan',\n",
    "                'Liberian',\n",
    "                'Madagascar',\n",
    "                'Malian',\n",
    "                'Nigerian',\n",
    "                'Other: East African',\n",
    "                'Other: North African',\n",
    "                'Other: South African',\n",
    "                'Other: West African',\n",
    "                'Senegalese',\n",
    "                'Sierra Leonean',\n",
    "                'Somalian',\n",
    "                'Sudanese',\n",
    "                'Tanzanian',\n",
    "                'Togolese',\n",
    "                'Ugandan',\n",
    "                'Zimbabwean'\n",
    "            ],\n",
    "            RaceType.AMERICAN_BLACK: [\n",
    "                'African American (Black)',\n",
    "                'African-American',\n",
    "                'Black Or African-American',\n",
    "                'Black or African - American',\n",
    "            ],\n",
    "            RaceType.AMERICAN_NATIVE: [\n",
    "                'American (Indian/Alaskan)',\n",
    "                'Native American'\n",
    "            ],\n",
    "            RaceType.ASIAN: [\n",
    "                'Asian',\n",
    "                'Bangladeshi',\n",
    "                'Bhutanese',\n",
    "                'Burmese',\n",
    "                'Cambodian',\n",
    "                'Hmong',\n",
    "                'Indonesian',\n",
    "                'Japanese',\n",
    "                'Korean',\n",
    "                'Laotian',\n",
    "                'Malaysian',\n",
    "                'Maldivian',\n",
    "                'Nepalese',\n",
    "                'Okinawan',\n",
    "                'Pakistani',\n",
    "                'Singaporean',\n",
    "                'Taiwanese',\n",
    "                'Thai',\n",
    "                'Vietnamese',\n",
    "                'Yapese'\n",
    "            ],\n",
    "            RaceType.ASIAN_PACIFIC: [\n",
    "                'Asian (Pacific Islander)',\n",
    "                'Carolinian',\n",
    "                'Chamorro',\n",
    "                'Chuukese',\n",
    "                'Fijian',\n",
    "                'Filipino',\n",
    "                'Guamanian',\n",
    "                'Guamanian Or Chamorro',\n",
    "                'Guamanian or Chamorro',\n",
    "                'Iwo Jiman',\n",
    "                'Kiribati',\n",
    "                'Kosraean',\n",
    "                'Mariana Islander',\n",
    "                'Marshallese',\n",
    "                'Melanesian',\n",
    "                'Micronesian',\n",
    "                'Native Hawaiian',\n",
    "                'New Hebrides',\n",
    "                'Other Pacific Islander',\n",
    "                'Pacific Islander',\n",
    "                'Palauan',\n",
    "                'Pohnpeian',\n",
    "                'Polynesian',\n",
    "                'Saipanese',\n",
    "                'Samoan',\n",
    "                'Papua New Guinean',\n",
    "                'Tahitian',\n",
    "                'Tokelauan',\n",
    "                'Tongan'\n",
    "            ],\n",
    "            RaceType.ASIAN_INDIAN: [\n",
    "                'Asian Indian',\n",
    "                'Sri Lankan',\n",
    "                'Sri lankan',\n",
    "                'West Indian'\n",
    "            ],\n",
    "            RaceType.ASIAN_CHINESE: [\n",
    "                'Chinese',\n",
    "            ],\n",
    "            RaceType.HISPANIC: [\n",
    "                'Barbadian',\n",
    "                'Dominica Islander',\n",
    "                'Grenadian',\n",
    "                'Haitian',\n",
    "                'Hispanic/Latino',\n",
    "                'Jamaican',\n",
    "                'St Vincentian',\n",
    "                'Trinidadian'\n",
    "            ],\n",
    "            RaceType.OTHER: [\n",
    "                '',\n",
    "                'Aa',\n",
    "                'Ab',\n",
    "                'Af',\n",
    "                'Ag',\n",
    "                'Ak',\n",
    "                'Al',\n",
    "                'Ap',\n",
    "                'Ar',\n",
    "                'Av',\n",
    "                'Ay',\n",
    "                'B',\n",
    "                'B1',\n",
    "                'B2',\n",
    "                'B3',\n",
    "                'B4',\n",
    "                'B5',\n",
    "                'B6',\n",
    "                'B7',\n",
    "                'B8',\n",
    "                'B9',\n",
    "                'Ba',\n",
    "                'Bb',\n",
    "                'Bc',\n",
    "                'Bd',\n",
    "                'Be',\n",
    "                'Bf',\n",
    "                'Bg',\n",
    "                'Bh',\n",
    "                'Bj',\n",
    "                'Bk',\n",
    "                'Bm',\n",
    "                'Bn',\n",
    "                'Bo',\n",
    "                'Bp',\n",
    "                'Bq',\n",
    "                'Br',\n",
    "                'Bs',\n",
    "                'Bt',\n",
    "                'Bu',\n",
    "                'Bv',\n",
    "                'Bw',\n",
    "                'Bx',\n",
    "                'By',\n",
    "                'Bz',\n",
    "                'I',\n",
    "                'MSDW_NOT APPLICABLE',\n",
    "                'MSDW_OTHER',\n",
    "                'MSDW_UNKNOWN',\n",
    "                'NOT AVAILABLE',\n",
    "                'Non Hispanic',\n",
    "                'O',\n",
    "                'Other',\n",
    "                'Pk',\n",
    "                'Pl',\n",
    "                'Pm',\n",
    "                'Po',\n",
    "                'Ps',\n",
    "                'Pv',\n",
    "                'U',\n",
    "                'Unk',\n",
    "                'Unknown',\n",
    "                'W'\n",
    "            ],\n",
    "            RaceType.WHITE: [\n",
    "                'Caucasian (White)',\n",
    "                'White'\n",
    "            ]\n",
    "        }\n",
    "\n",
    "        # value mapping\n",
    "        X['race'] = (\n",
    "            X.race.map({\n",
    "                label: cat for cat, labels in RACE_MAPPING.items()\n",
    "                for label in labels\n",
    "            }).astype(pd.api.types.CategoricalDtype(RaceType))\n",
    "        )\n",
    "\n",
    "        # pre-encoding nan handling\n",
    "        for column in ['gender', 'race']:\n",
    "            enc = OneHotEncoder(sparse=False)\n",
    "            transformed_data = enc.fit_transform(X[[column]])\n",
    "            transformed_columns = pd.DataFrame(\n",
    "                data=transformed_data, \n",
    "                columns=[f'{column}_{c}' for c in enc.categories_[0]]\n",
    "            )\n",
    "            X = X.join(transformed_columns)\n",
    "            del X[column]\n",
    "        X[X.columns[X.columns.str.contains('any')]] = X[X.columns[X.columns.str.contains('any')]].fillna(False)\n",
    "        return X, y\n",
    "        \n",
    "    def transform_training_data(self, X_train, y_train):\n",
    "        from sklearn.preprocessing import StandardScaler\n",
    "        scaler = StandardScaler()\n",
    "        self.objects['scaler'] = scaler\n",
    "        X_train_scaled = scaler.fit_transform(X_train)\n",
    "        \n",
    "        from sklearn.impute import SimpleImputer\n",
    "        imputer = SimpleImputer()\n",
    "        self.objects['imputer'] = imputer\n",
    "        X_train_imputed = imputer.fit_transform(X_train_scaled)\n",
    "        \n",
    "        X_train = pd.DataFrame(\n",
    "            data=X_train_imputed, \n",
    "            columns=X_train.columns,\n",
    "            index=X_train.index\n",
    "        )\n",
    "        return X_train, y_train\n",
    "    \n",
    "    def transform_test_data(self, X_test, y_test):\n",
    "        scaler = self.objects['scaler']\n",
    "        imputer = self.objects['imputer']\n",
    "        X_test_scaled = scaler.transform(X_test)\n",
    "        X_test_imputed = imputer.fit_transform(X_test_scaled)\n",
    "        \n",
    "        X_test = pd.DataFrame(\n",
    "            data=X_test_imputed, \n",
    "            columns=X_test.columns,\n",
    "            index=X_test.index\n",
    "        )\n",
    "        return X_test, y_test\n",
    "        \n",
    "\n",
    "data_loader = CustomDataLoader(column_selector=column_selector)"
   ]
  },
  {
   "cell_type": "code",
   "execution_count": 8,
   "metadata": {},
   "outputs": [],
   "source": [
    "from itertools import product"
   ]
  },
  {
   "cell_type": "code",
   "execution_count": 9,
   "metadata": {},
   "outputs": [],
   "source": [
    "thresholds_numeric = [(x / 100) for x in range(5, 100, 5)]\n",
    "observation_windows_numeric = [[x, -1] for x in range(-361, -1, 30)]\n",
    "thresholds_occurring = [(x / 100) for x in range(5, 10, 5)]\n",
    "observation_windows_occurring = [[x, -1] for x in range(-361, -331, 30)]"
   ]
  },
  {
   "cell_type": "code",
   "execution_count": 10,
   "metadata": {},
   "outputs": [],
   "source": [
    "iterator = product(\n",
    "    thresholds_numeric,\n",
    "    observation_windows_numeric,\n",
    "    thresholds_occurring,\n",
    "    observation_windows_occurring\n",
    ")\n",
    "\n",
    "configs = [x for x in iterator]\n",
    "targets = ['cytomegaloviral_disease_onset_from_0_days_after_to_365_days_after']\n",
    "algorithms = [morpher.config.algorithms.GBDT, morpher.config.algorithms.RF, morpher.config.algorithms.DT, morpher.config.algorithms.LR]\n",
    "samplers = samplers = [morpher.config.samplers.RANDOM, morpher.config.samplers.URANDOM, morpher.config.samplers.SMOTE, morpher.config.samplers.NOSAMPLER]"
   ]
  },
  {
   "cell_type": "code",
   "execution_count": null,
   "metadata": {
    "scrolled": false
   },
   "outputs": [
    {
     "name": "stderr",
     "output_type": "stream",
     "text": [
      "Columns (11,18,19,20,24,35,64,83,90,92,94,96,97,106,114,117,120,125,126,133,136,140,141,142,143,144,150,178,235,244,248,288,311,317,320,325,326,330,334,341,353,359,360,361,365,402,421,425,430,434,436,439,446) have mixed types. Specify dtype option on import or set low_memory=False.\n"
     ]
    },
    {
     "name": "stdout",
     "output_type": "stream",
     "text": [
      "Fetching data for <fiber.condition.mrns.MRNs object at 0x7f6e3562a240>\n",
      "Fetching data for Patient (...)\n"
     ]
    },
    {
     "data": {
      "application/vnd.jupyter.widget-view+json": {
       "model_id": "f21f8f31c33946e8858ca0077a086ca6",
       "version_major": 2,
       "version_minor": 0
      },
      "text/plain": [
       "HBox(children=(IntProgress(value=1, bar_style='info', max=1), HTML(value='')))"
      ]
     },
     "metadata": {},
     "output_type": "display_data"
    },
    {
     "name": "stdout",
     "output_type": "stream",
     "text": [
      "\n"
     ]
    },
    {
     "name": "stderr",
     "output_type": "stream",
     "text": [
      "Data with input dtype bool, float64 were all converted to float64 by StandardScaler.\n",
      "Data with input dtype bool, float64 were all converted to float64 by StandardScaler.\n",
      "Data with input dtype bool, float64 were all converted to float64 by StandardScaler.\n"
     ]
    },
    {
     "name": "stdout",
     "output_type": "stream",
     "text": [
      "*** Training of model 'GradientBoostingClassifier' started.\n",
      "*** Training of classifier ready. Time elapsed: 609.796ms\n",
      "\n",
      "*** Training of model 'GradientBoostingClassifier' started.\n",
      "*** Training of classifier ready. Time elapsed: 326.494ms\n",
      "\n",
      "*** Training of model 'GradientBoostingClassifier' started.\n",
      "*** Training of classifier ready. Time elapsed: 185.743ms\n",
      "\n",
      "*** Training of model 'GradientBoostingClassifier' started.\n",
      "*** Training of classifier ready. Time elapsed: 878.553ms\n",
      "\n",
      "*** Training of model 'GradientBoostingClassifier' started.\n",
      "*** Training of classifier ready. Time elapsed: 670.028ms\n",
      "\n",
      "*** Training of model 'GradientBoostingClassifier' started.\n",
      "*** Training of classifier ready. Time elapsed: 428.209ms\n",
      "\n",
      "*** Training of model 'GradientBoostingClassifier' started.\n",
      "*** Training of classifier ready. Time elapsed: 799.104ms\n",
      "\n"
     ]
    },
    {
     "name": "stderr",
     "output_type": "stream",
     "text": [
      "Data with input dtype bool, float64 were all converted to float64 by StandardScaler.\n",
      "Data with input dtype bool, float64 were all converted to float64 by StandardScaler.\n",
      "Data with input dtype bool, float64 were all converted to float64 by StandardScaler.\n"
     ]
    },
    {
     "name": "stdout",
     "output_type": "stream",
     "text": [
      "*** Training of model 'GradientBoostingClassifier' started.\n",
      "*** Training of classifier ready. Time elapsed: 637.348ms\n",
      "\n",
      "*** Training of model 'GradientBoostingClassifier' started.\n",
      "*** Training of classifier ready. Time elapsed: 255.995ms\n",
      "\n",
      "*** Training of model 'GradientBoostingClassifier' started.\n",
      "*** Training of classifier ready. Time elapsed: 57.126ms\n",
      "\n",
      "*** Training of model 'GradientBoostingClassifier' started.\n",
      "*** Training of classifier ready. Time elapsed: 796.455ms\n",
      "\n",
      "*** Training of model 'GradientBoostingClassifier' started.\n",
      "*** Training of classifier ready. Time elapsed: 543.951ms\n",
      "\n",
      "*** Training of model 'GradientBoostingClassifier' started.\n",
      "*** Training of classifier ready. Time elapsed: 385.507ms\n",
      "\n",
      "*** Training of model 'GradientBoostingClassifier' started.\n",
      "*** Training of classifier ready. Time elapsed: 778.907ms\n",
      "\n"
     ]
    },
    {
     "name": "stderr",
     "output_type": "stream",
     "text": [
      "F-score is ill-defined and being set to 0.0 due to no predicted samples.\n",
      "Precision is ill-defined and being set to 0.0 due to no predicted samples.\n",
      "invalid value encountered in long_scalars\n",
      "Data with input dtype bool, float64 were all converted to float64 by StandardScaler.\n",
      "Data with input dtype bool, float64 were all converted to float64 by StandardScaler.\n",
      "Data with input dtype bool, float64 were all converted to float64 by StandardScaler.\n"
     ]
    },
    {
     "name": "stdout",
     "output_type": "stream",
     "text": [
      "*** Training of model 'GradientBoostingClassifier' started.\n",
      "*** Training of classifier ready. Time elapsed: 538.831ms\n",
      "\n",
      "*** Training of model 'GradientBoostingClassifier' started.\n",
      "*** Training of classifier ready. Time elapsed: 387.386ms\n",
      "\n",
      "*** Training of model 'GradientBoostingClassifier' started.\n",
      "*** Training of classifier ready. Time elapsed: 126.403ms\n",
      "\n",
      "*** Training of model 'GradientBoostingClassifier' started.\n",
      "*** Training of classifier ready. Time elapsed: 943.915ms\n",
      "\n",
      "*** Training of model 'GradientBoostingClassifier' started.\n",
      "*** Training of classifier ready. Time elapsed: 656.569ms\n",
      "\n",
      "*** Training of model 'GradientBoostingClassifier' started.\n",
      "*** Training of classifier ready. Time elapsed: 515.195ms\n",
      "\n",
      "*** Training of model 'GradientBoostingClassifier' started.\n",
      "*** Training of classifier ready. Time elapsed: 887.745ms\n",
      "\n"
     ]
    },
    {
     "name": "stderr",
     "output_type": "stream",
     "text": [
      "Data with input dtype bool, float64 were all converted to float64 by StandardScaler.\n",
      "Data with input dtype bool, float64 were all converted to float64 by StandardScaler.\n",
      "Data with input dtype bool, float64 were all converted to float64 by StandardScaler.\n"
     ]
    },
    {
     "name": "stdout",
     "output_type": "stream",
     "text": [
      "*** Training of model 'GradientBoostingClassifier' started.\n",
      "*** Training of classifier ready. Time elapsed: 757.703ms\n",
      "\n",
      "*** Training of model 'GradientBoostingClassifier' started.\n",
      "*** Training of classifier ready. Time elapsed: 430.929ms\n",
      "\n",
      "*** Training of model 'GradientBoostingClassifier' started.\n",
      "*** Training of classifier ready. Time elapsed: 217.102ms\n",
      "\n",
      "*** Training of model 'GradientBoostingClassifier' started.\n",
      "*** Training of classifier ready. Time elapsed: 890.876ms\n",
      "\n",
      "*** Training of model 'GradientBoostingClassifier' started.\n",
      "*** Training of classifier ready. Time elapsed: 636.359ms\n",
      "\n",
      "*** Training of model 'GradientBoostingClassifier' started.\n",
      "*** Training of classifier ready. Time elapsed: 451.535ms\n",
      "\n",
      "*** Training of model 'GradientBoostingClassifier' started.\n",
      "*** Training of classifier ready. Time elapsed: 579.553ms\n",
      "\n"
     ]
    },
    {
     "name": "stderr",
     "output_type": "stream",
     "text": [
      "F-score is ill-defined and being set to 0.0 due to no predicted samples.\n",
      "Precision is ill-defined and being set to 0.0 due to no predicted samples.\n",
      "invalid value encountered in long_scalars\n",
      "Data with input dtype bool, float64 were all converted to float64 by StandardScaler.\n",
      "Data with input dtype bool, float64 were all converted to float64 by StandardScaler.\n",
      "Data with input dtype bool, float64 were all converted to float64 by StandardScaler.\n"
     ]
    },
    {
     "name": "stdout",
     "output_type": "stream",
     "text": [
      "*** Training of model 'GradientBoostingClassifier' started.\n",
      "*** Training of classifier ready. Time elapsed: 556.854ms\n",
      "\n",
      "*** Training of model 'GradientBoostingClassifier' started.\n",
      "*** Training of classifier ready. Time elapsed: 242.229ms\n",
      "\n",
      "*** Training of model 'GradientBoostingClassifier' started.\n",
      "*** Training of classifier ready. Time elapsed: 84.896ms\n",
      "\n",
      "*** Training of model 'GradientBoostingClassifier' started.\n",
      "*** Training of classifier ready. Time elapsed: 846.031ms\n",
      "\n",
      "*** Training of model 'GradientBoostingClassifier' started.\n",
      "*** Training of classifier ready. Time elapsed: 709.755ms\n",
      "\n",
      "*** Training of model 'GradientBoostingClassifier' started.\n",
      "*** Training of classifier ready. Time elapsed: 462.862ms\n",
      "\n",
      "*** Training of model 'GradientBoostingClassifier' started.\n",
      "*** Training of classifier ready. Time elapsed: 697.214ms\n",
      "\n"
     ]
    },
    {
     "name": "stderr",
     "output_type": "stream",
     "text": [
      "Data with input dtype bool, float64 were all converted to float64 by StandardScaler.\n",
      "Data with input dtype bool, float64 were all converted to float64 by StandardScaler.\n",
      "Data with input dtype bool, float64 were all converted to float64 by StandardScaler.\n"
     ]
    },
    {
     "name": "stdout",
     "output_type": "stream",
     "text": [
      "*** Training of model 'GradientBoostingClassifier' started.\n",
      "*** Training of classifier ready. Time elapsed: 469.548ms\n",
      "\n",
      "*** Training of model 'GradientBoostingClassifier' started.\n",
      "*** Training of classifier ready. Time elapsed: 428.191ms\n",
      "\n",
      "*** Training of model 'GradientBoostingClassifier' started.\n",
      "*** Training of classifier ready. Time elapsed: 165.273ms\n",
      "\n",
      "*** Training of model 'GradientBoostingClassifier' started.\n",
      "*** Training of classifier ready. Time elapsed: 953.028ms\n",
      "\n",
      "*** Training of model 'GradientBoostingClassifier' started.\n",
      "*** Training of classifier ready. Time elapsed: 729.876ms\n",
      "\n",
      "*** Training of model 'GradientBoostingClassifier' started.\n",
      "*** Training of classifier ready. Time elapsed: 422.306ms\n",
      "\n",
      "*** Training of model 'GradientBoostingClassifier' started.\n",
      "*** Training of classifier ready. Time elapsed: 328.907ms\n",
      "\n"
     ]
    },
    {
     "name": "stderr",
     "output_type": "stream",
     "text": [
      "Data with input dtype bool, float64 were all converted to float64 by StandardScaler.\n",
      "Data with input dtype bool, float64 were all converted to float64 by StandardScaler.\n",
      "Data with input dtype bool, float64 were all converted to float64 by StandardScaler.\n"
     ]
    },
    {
     "name": "stdout",
     "output_type": "stream",
     "text": [
      "*** Training of model 'GradientBoostingClassifier' started.\n",
      "*** Training of classifier ready. Time elapsed: 530.492ms\n",
      "\n",
      "*** Training of model 'GradientBoostingClassifier' started.\n",
      "*** Training of classifier ready. Time elapsed: 314.832ms\n",
      "\n",
      "*** Training of model 'GradientBoostingClassifier' started.\n",
      "*** Training of classifier ready. Time elapsed: 129.985ms\n",
      "\n",
      "*** Training of model 'GradientBoostingClassifier' started.\n",
      "*** Training of classifier ready. Time elapsed: 887.225ms\n",
      "\n",
      "*** Training of model 'GradientBoostingClassifier' started.\n",
      "*** Training of classifier ready. Time elapsed: 580.921ms\n",
      "\n",
      "*** Training of model 'GradientBoostingClassifier' started.\n",
      "*** Training of classifier ready. Time elapsed: 436.334ms\n",
      "\n",
      "*** Training of model 'GradientBoostingClassifier' started.\n",
      "*** Training of classifier ready. Time elapsed: 341.015ms\n",
      "\n"
     ]
    },
    {
     "name": "stderr",
     "output_type": "stream",
     "text": [
      "Data with input dtype bool, float64 were all converted to float64 by StandardScaler.\n",
      "Data with input dtype bool, float64 were all converted to float64 by StandardScaler.\n",
      "Data with input dtype bool, float64 were all converted to float64 by StandardScaler.\n"
     ]
    },
    {
     "name": "stdout",
     "output_type": "stream",
     "text": [
      "*** Training of model 'GradientBoostingClassifier' started.\n",
      "*** Training of classifier ready. Time elapsed: 588.157ms\n",
      "\n",
      "*** Training of model 'GradientBoostingClassifier' started.\n",
      "*** Training of classifier ready. Time elapsed: 371.717ms\n",
      "\n",
      "*** Training of model 'GradientBoostingClassifier' started.\n",
      "*** Training of classifier ready. Time elapsed: 215.148ms\n",
      "\n",
      "*** Training of model 'GradientBoostingClassifier' started.\n",
      "*** Training of classifier ready. Time elapsed: 929.116ms\n",
      "\n",
      "*** Training of model 'GradientBoostingClassifier' started.\n",
      "*** Training of classifier ready. Time elapsed: 696.11ms\n",
      "\n",
      "*** Training of model 'GradientBoostingClassifier' started.\n",
      "*** Training of classifier ready. Time elapsed: 444.983ms\n",
      "\n",
      "*** Training of model 'GradientBoostingClassifier' started.\n",
      "*** Training of classifier ready. Time elapsed: 333.193ms\n",
      "\n"
     ]
    },
    {
     "name": "stderr",
     "output_type": "stream",
     "text": [
      "Data with input dtype bool, float64 were all converted to float64 by StandardScaler.\n",
      "Data with input dtype bool, float64 were all converted to float64 by StandardScaler.\n",
      "Data with input dtype bool, float64 were all converted to float64 by StandardScaler.\n"
     ]
    },
    {
     "name": "stdout",
     "output_type": "stream",
     "text": [
      "*** Training of model 'GradientBoostingClassifier' started.\n",
      "*** Training of classifier ready. Time elapsed: 613.963ms\n",
      "\n",
      "*** Training of model 'GradientBoostingClassifier' started.\n",
      "*** Training of classifier ready. Time elapsed: 312.012ms\n",
      "\n",
      "*** Training of model 'GradientBoostingClassifier' started.\n",
      "*** Training of classifier ready. Time elapsed: 174.017ms\n",
      "\n",
      "*** Training of model 'GradientBoostingClassifier' started.\n",
      "*** Training of classifier ready. Time elapsed: 891.948ms\n",
      "\n",
      "*** Training of model 'GradientBoostingClassifier' started.\n",
      "*** Training of classifier ready. Time elapsed: 670.286ms\n",
      "\n",
      "*** Training of model 'GradientBoostingClassifier' started.\n",
      "*** Training of classifier ready. Time elapsed: 505.942ms\n",
      "\n",
      "*** Training of model 'GradientBoostingClassifier' started.\n",
      "*** Training of classifier ready. Time elapsed: 350.27ms\n",
      "\n"
     ]
    },
    {
     "name": "stderr",
     "output_type": "stream",
     "text": [
      "Data with input dtype bool, float64 were all converted to float64 by StandardScaler.\n",
      "Data with input dtype bool, float64 were all converted to float64 by StandardScaler.\n",
      "Data with input dtype bool, float64 were all converted to float64 by StandardScaler.\n"
     ]
    },
    {
     "name": "stdout",
     "output_type": "stream",
     "text": [
      "*** Training of model 'GradientBoostingClassifier' started.\n",
      "*** Training of classifier ready. Time elapsed: 586.738ms\n",
      "\n",
      "*** Training of model 'GradientBoostingClassifier' started.\n",
      "*** Training of classifier ready. Time elapsed: 401.629ms\n",
      "\n",
      "*** Training of model 'GradientBoostingClassifier' started.\n",
      "*** Training of classifier ready. Time elapsed: 119.77ms\n",
      "\n",
      "*** Training of model 'GradientBoostingClassifier' started.\n",
      "*** Training of classifier ready. Time elapsed: 901.023ms\n",
      "\n",
      "*** Training of model 'GradientBoostingClassifier' started.\n",
      "*** Training of classifier ready. Time elapsed: 687.201ms\n",
      "\n",
      "*** Training of model 'GradientBoostingClassifier' started.\n",
      "*** Training of classifier ready. Time elapsed: 439.618ms\n",
      "\n",
      "*** Training of model 'GradientBoostingClassifier' started.\n",
      "*** Training of classifier ready. Time elapsed: 353.359ms\n",
      "\n"
     ]
    },
    {
     "name": "stderr",
     "output_type": "stream",
     "text": [
      "Data with input dtype bool, float64 were all converted to float64 by StandardScaler.\n",
      "Data with input dtype bool, float64 were all converted to float64 by StandardScaler.\n",
      "Data with input dtype bool, float64 were all converted to float64 by StandardScaler.\n"
     ]
    },
    {
     "name": "stdout",
     "output_type": "stream",
     "text": [
      "*** Training of model 'GradientBoostingClassifier' started.\n",
      "*** Training of classifier ready. Time elapsed: 752.175ms\n",
      "\n",
      "*** Training of model 'GradientBoostingClassifier' started.\n",
      "*** Training of classifier ready. Time elapsed: 498.56ms\n",
      "\n",
      "*** Training of model 'GradientBoostingClassifier' started.\n",
      "*** Training of classifier ready. Time elapsed: 355.826ms\n",
      "\n",
      "*** Training of model 'GradientBoostingClassifier' started.\n",
      "*** Training of classifier ready. Time elapsed: 28.895ms\n",
      "\n",
      "*** Training of model 'GradientBoostingClassifier' started.\n",
      "*** Training of classifier ready. Time elapsed: 779.981ms\n",
      "\n",
      "*** Training of model 'GradientBoostingClassifier' started.\n",
      "*** Training of classifier ready. Time elapsed: 491.726ms\n",
      "\n",
      "*** Training of model 'GradientBoostingClassifier' started.\n",
      "*** Training of classifier ready. Time elapsed: 506.428ms\n",
      "\n"
     ]
    },
    {
     "name": "stderr",
     "output_type": "stream",
     "text": [
      "Data with input dtype bool, float64 were all converted to float64 by StandardScaler.\n",
      "Data with input dtype bool, float64 were all converted to float64 by StandardScaler.\n",
      "Data with input dtype bool, float64 were all converted to float64 by StandardScaler.\n"
     ]
    },
    {
     "name": "stdout",
     "output_type": "stream",
     "text": [
      "*** Training of model 'GradientBoostingClassifier' started.\n",
      "*** Training of classifier ready. Time elapsed: 766.468ms\n",
      "\n",
      "*** Training of model 'GradientBoostingClassifier' started.\n",
      "*** Training of classifier ready. Time elapsed: 500.435ms\n",
      "\n",
      "*** Training of model 'GradientBoostingClassifier' started.\n",
      "*** Training of classifier ready. Time elapsed: 245.302ms\n",
      "\n",
      "*** Training of model 'GradientBoostingClassifier' started.\n",
      "*** Training of classifier ready. Time elapsed: 946.728ms\n",
      "\n",
      "*** Training of model 'GradientBoostingClassifier' started.\n",
      "*** Training of classifier ready. Time elapsed: 732.357ms\n",
      "\n",
      "*** Training of model 'GradientBoostingClassifier' started.\n",
      "*** Training of classifier ready. Time elapsed: 485.915ms\n",
      "\n",
      "*** Training of model 'GradientBoostingClassifier' started.\n",
      "*** Training of classifier ready. Time elapsed: 323.126ms\n",
      "\n"
     ]
    },
    {
     "name": "stderr",
     "output_type": "stream",
     "text": [
      "Data with input dtype bool, float64 were all converted to float64 by StandardScaler.\n",
      "Data with input dtype bool, float64 were all converted to float64 by StandardScaler.\n",
      "Data with input dtype bool, float64 were all converted to float64 by StandardScaler.\n"
     ]
    },
    {
     "name": "stdout",
     "output_type": "stream",
     "text": [
      "*** Training of model 'GradientBoostingClassifier' started.\n",
      "*** Training of classifier ready. Time elapsed: 731.021ms\n",
      "\n",
      "*** Training of model 'GradientBoostingClassifier' started.\n",
      "*** Training of classifier ready. Time elapsed: 558.0ms\n",
      "\n",
      "*** Training of model 'GradientBoostingClassifier' started.\n",
      "*** Training of classifier ready. Time elapsed: 246.406ms\n",
      "\n",
      "*** Training of model 'GradientBoostingClassifier' started.\n",
      "*** Training of classifier ready. Time elapsed: 20.73ms\n",
      "\n",
      "*** Training of model 'GradientBoostingClassifier' started.\n",
      "*** Training of classifier ready. Time elapsed: 787.106ms\n",
      "\n",
      "*** Training of model 'GradientBoostingClassifier' started.\n",
      "*** Training of classifier ready. Time elapsed: 521.929ms\n",
      "\n",
      "*** Training of model 'GradientBoostingClassifier' started.\n",
      "*** Training of classifier ready. Time elapsed: 441.674ms\n",
      "\n"
     ]
    },
    {
     "name": "stderr",
     "output_type": "stream",
     "text": [
      "Data with input dtype bool, float64 were all converted to float64 by StandardScaler.\n",
      "Data with input dtype bool, float64 were all converted to float64 by StandardScaler.\n",
      "Data with input dtype bool, float64 were all converted to float64 by StandardScaler.\n"
     ]
    },
    {
     "name": "stdout",
     "output_type": "stream",
     "text": [
      "*** Training of model 'GradientBoostingClassifier' started.\n",
      "*** Training of classifier ready. Time elapsed: 860.06ms\n",
      "\n",
      "*** Training of model 'GradientBoostingClassifier' started.\n",
      "*** Training of classifier ready. Time elapsed: 575.25ms\n",
      "\n",
      "*** Training of model 'GradientBoostingClassifier' started.\n",
      "*** Training of classifier ready. Time elapsed: 386.94ms\n",
      "\n",
      "*** Training of model 'GradientBoostingClassifier' started.\n",
      "*** Training of classifier ready. Time elapsed: 121.196ms\n",
      "\n",
      "*** Training of model 'GradientBoostingClassifier' started.\n",
      "*** Training of classifier ready. Time elapsed: 861.353ms\n",
      "\n",
      "*** Training of model 'GradientBoostingClassifier' started.\n",
      "*** Training of classifier ready. Time elapsed: 528.049ms\n",
      "\n",
      "*** Training of model 'GradientBoostingClassifier' started.\n",
      "*** Training of classifier ready. Time elapsed: 483.296ms\n",
      "\n"
     ]
    },
    {
     "name": "stderr",
     "output_type": "stream",
     "text": [
      "Data with input dtype bool, float64 were all converted to float64 by StandardScaler.\n",
      "Data with input dtype bool, float64 were all converted to float64 by StandardScaler.\n",
      "Data with input dtype bool, float64 were all converted to float64 by StandardScaler.\n"
     ]
    },
    {
     "name": "stdout",
     "output_type": "stream",
     "text": [
      "*** Training of model 'GradientBoostingClassifier' started.\n",
      "*** Training of classifier ready. Time elapsed: 851.297ms\n",
      "\n",
      "*** Training of model 'GradientBoostingClassifier' started.\n",
      "*** Training of classifier ready. Time elapsed: 555.847ms\n",
      "\n",
      "*** Training of model 'GradientBoostingClassifier' started.\n",
      "*** Training of classifier ready. Time elapsed: 280.454ms\n",
      "\n",
      "*** Training of model 'GradientBoostingClassifier' started.\n",
      "*** Training of classifier ready. Time elapsed: 8.906ms\n",
      "\n",
      "*** Training of model 'GradientBoostingClassifier' started.\n",
      "*** Training of classifier ready. Time elapsed: 782.115ms\n",
      "\n",
      "*** Training of model 'GradientBoostingClassifier' started.\n",
      "*** Training of classifier ready. Time elapsed: 559.138ms\n",
      "\n",
      "*** Training of model 'GradientBoostingClassifier' started.\n",
      "*** Training of classifier ready. Time elapsed: 617.572ms\n",
      "\n"
     ]
    },
    {
     "name": "stderr",
     "output_type": "stream",
     "text": [
      "Data with input dtype bool, float64 were all converted to float64 by StandardScaler.\n",
      "Data with input dtype bool, float64 were all converted to float64 by StandardScaler.\n",
      "Data with input dtype bool, float64 were all converted to float64 by StandardScaler.\n"
     ]
    },
    {
     "name": "stdout",
     "output_type": "stream",
     "text": [
      "*** Training of model 'GradientBoostingClassifier' started.\n",
      "*** Training of classifier ready. Time elapsed: 809.89ms\n",
      "\n",
      "*** Training of model 'GradientBoostingClassifier' started.\n",
      "*** Training of classifier ready. Time elapsed: 535.777ms\n",
      "\n",
      "*** Training of model 'GradientBoostingClassifier' started.\n",
      "*** Training of classifier ready. Time elapsed: 297.251ms\n",
      "\n",
      "*** Training of model 'GradientBoostingClassifier' started.\n",
      "*** Training of classifier ready. Time elapsed: 34.255ms\n",
      "\n",
      "*** Training of model 'GradientBoostingClassifier' started.\n",
      "*** Training of classifier ready. Time elapsed: 815.112ms\n",
      "\n",
      "*** Training of model 'GradientBoostingClassifier' started.\n",
      "*** Training of classifier ready. Time elapsed: 617.377ms\n",
      "\n",
      "*** Training of model 'GradientBoostingClassifier' started.\n",
      "*** Training of classifier ready. Time elapsed: 611.304ms\n",
      "\n"
     ]
    },
    {
     "name": "stderr",
     "output_type": "stream",
     "text": [
      "Data with input dtype bool, float64 were all converted to float64 by StandardScaler.\n",
      "Data with input dtype bool, float64 were all converted to float64 by StandardScaler.\n",
      "Data with input dtype bool, float64 were all converted to float64 by StandardScaler.\n"
     ]
    },
    {
     "name": "stdout",
     "output_type": "stream",
     "text": [
      "*** Training of model 'GradientBoostingClassifier' started.\n",
      "*** Training of classifier ready. Time elapsed: 760.922ms\n",
      "\n",
      "*** Training of model 'GradientBoostingClassifier' started.\n",
      "*** Training of classifier ready. Time elapsed: 505.587ms\n",
      "\n",
      "*** Training of model 'GradientBoostingClassifier' started.\n",
      "*** Training of classifier ready. Time elapsed: 102.129ms\n",
      "\n",
      "*** Training of model 'GradientBoostingClassifier' started.\n",
      "*** Training of classifier ready. Time elapsed: 949.468ms\n",
      "\n",
      "*** Training of model 'GradientBoostingClassifier' started.\n",
      "*** Training of classifier ready. Time elapsed: 730.84ms\n",
      "\n",
      "*** Training of model 'GradientBoostingClassifier' started.\n",
      "*** Training of classifier ready. Time elapsed: 489.828ms\n",
      "\n",
      "*** Training of model 'GradientBoostingClassifier' started.\n",
      "*** Training of classifier ready. Time elapsed: 454.135ms\n",
      "\n"
     ]
    },
    {
     "name": "stderr",
     "output_type": "stream",
     "text": [
      "Data with input dtype bool, float64 were all converted to float64 by StandardScaler.\n",
      "Data with input dtype bool, float64 were all converted to float64 by StandardScaler.\n",
      "Data with input dtype bool, float64 were all converted to float64 by StandardScaler.\n"
     ]
    },
    {
     "name": "stdout",
     "output_type": "stream",
     "text": [
      "*** Training of model 'GradientBoostingClassifier' started.\n",
      "*** Training of classifier ready. Time elapsed: 773.941ms\n",
      "\n",
      "*** Training of model 'GradientBoostingClassifier' started.\n",
      "*** Training of classifier ready. Time elapsed: 558.964ms\n",
      "\n",
      "*** Training of model 'GradientBoostingClassifier' started.\n",
      "*** Training of classifier ready. Time elapsed: 252.666ms\n",
      "\n",
      "*** Training of model 'GradientBoostingClassifier' started.\n",
      "*** Training of classifier ready. Time elapsed: 104.953ms\n",
      "\n",
      "*** Training of model 'GradientBoostingClassifier' started.\n",
      "*** Training of classifier ready. Time elapsed: 812.936ms\n",
      "\n",
      "*** Training of model 'GradientBoostingClassifier' started.\n",
      "*** Training of classifier ready. Time elapsed: 487.273ms\n",
      "\n",
      "*** Training of model 'GradientBoostingClassifier' started.\n",
      "*** Training of classifier ready. Time elapsed: 590.313ms\n",
      "\n"
     ]
    },
    {
     "name": "stderr",
     "output_type": "stream",
     "text": [
      "Data with input dtype bool, float64 were all converted to float64 by StandardScaler.\n",
      "Data with input dtype bool, float64 were all converted to float64 by StandardScaler.\n",
      "Data with input dtype bool, float64 were all converted to float64 by StandardScaler.\n"
     ]
    },
    {
     "name": "stdout",
     "output_type": "stream",
     "text": [
      "*** Training of model 'GradientBoostingClassifier' started.\n",
      "*** Training of classifier ready. Time elapsed: 763.619ms\n",
      "\n",
      "*** Training of model 'GradientBoostingClassifier' started.\n",
      "*** Training of classifier ready. Time elapsed: 522.069ms\n",
      "\n",
      "*** Training of model 'GradientBoostingClassifier' started.\n",
      "*** Training of classifier ready. Time elapsed: 268.026ms\n",
      "\n",
      "*** Training of model 'GradientBoostingClassifier' started.\n",
      "*** Training of classifier ready. Time elapsed: 57.12ms\n",
      "\n",
      "*** Training of model 'GradientBoostingClassifier' started.\n",
      "*** Training of classifier ready. Time elapsed: 784.248ms\n",
      "\n",
      "*** Training of model 'GradientBoostingClassifier' started.\n",
      "*** Training of classifier ready. Time elapsed: 594.96ms\n",
      "\n",
      "*** Training of model 'GradientBoostingClassifier' started.\n",
      "*** Training of classifier ready. Time elapsed: 541.543ms\n",
      "\n"
     ]
    },
    {
     "name": "stderr",
     "output_type": "stream",
     "text": [
      "Data with input dtype bool, float64 were all converted to float64 by StandardScaler.\n",
      "Data with input dtype bool, float64 were all converted to float64 by StandardScaler.\n",
      "Data with input dtype bool, float64 were all converted to float64 by StandardScaler.\n"
     ]
    },
    {
     "name": "stdout",
     "output_type": "stream",
     "text": [
      "*** Training of model 'GradientBoostingClassifier' started.\n",
      "*** Training of classifier ready. Time elapsed: 836.295ms\n",
      "\n",
      "*** Training of model 'GradientBoostingClassifier' started.\n",
      "*** Training of classifier ready. Time elapsed: 510.209ms\n",
      "\n",
      "*** Training of model 'GradientBoostingClassifier' started.\n",
      "*** Training of classifier ready. Time elapsed: 308.434ms\n",
      "\n",
      "*** Training of model 'GradientBoostingClassifier' started.\n",
      "*** Training of classifier ready. Time elapsed: 7.709ms\n",
      "\n",
      "*** Training of model 'GradientBoostingClassifier' started.\n",
      "*** Training of classifier ready. Time elapsed: 755.855ms\n",
      "\n",
      "*** Training of model 'GradientBoostingClassifier' started.\n",
      "*** Training of classifier ready. Time elapsed: 493.377ms\n",
      "\n",
      "*** Training of model 'GradientBoostingClassifier' started.\n",
      "*** Training of classifier ready. Time elapsed: 515.259ms\n",
      "\n"
     ]
    },
    {
     "name": "stderr",
     "output_type": "stream",
     "text": [
      "Data with input dtype bool, float64 were all converted to float64 by StandardScaler.\n",
      "Data with input dtype bool, float64 were all converted to float64 by StandardScaler.\n",
      "Data with input dtype bool, float64 were all converted to float64 by StandardScaler.\n"
     ]
    },
    {
     "name": "stdout",
     "output_type": "stream",
     "text": [
      "*** Training of model 'RandomForestClassifier' started.\n",
      "*** Training of classifier ready. Time elapsed: 406.901ms\n",
      "\n",
      "*** Training of model 'RandomForestClassifier' started.\n",
      "*** Training of classifier ready. Time elapsed: 447.347ms\n",
      "\n",
      "*** Training of model 'RandomForestClassifier' started.\n",
      "*** Training of classifier ready. Time elapsed: 403.538ms\n",
      "\n",
      "*** Training of model 'RandomForestClassifier' started.\n",
      "*** Training of classifier ready. Time elapsed: 356.757ms\n",
      "\n",
      "*** Training of model 'RandomForestClassifier' started.\n",
      "*** Training of classifier ready. Time elapsed: 410.627ms\n",
      "\n",
      "*** Training of model 'RandomForestClassifier' started.\n",
      "*** Training of classifier ready. Time elapsed: 346.22ms\n",
      "\n",
      "*** Training of model 'RandomForestClassifier' started.\n",
      "*** Training of classifier ready. Time elapsed: 446.964ms\n",
      "\n"
     ]
    },
    {
     "name": "stderr",
     "output_type": "stream",
     "text": [
      "F-score is ill-defined and being set to 0.0 due to no predicted samples.\n",
      "Precision is ill-defined and being set to 0.0 due to no predicted samples.\n",
      "invalid value encountered in long_scalars\n",
      "Data with input dtype bool, float64 were all converted to float64 by StandardScaler.\n",
      "Data with input dtype bool, float64 were all converted to float64 by StandardScaler.\n",
      "Data with input dtype bool, float64 were all converted to float64 by StandardScaler.\n"
     ]
    },
    {
     "name": "stdout",
     "output_type": "stream",
     "text": [
      "*** Training of model 'RandomForestClassifier' started.\n",
      "*** Training of classifier ready. Time elapsed: 459.456ms\n",
      "\n",
      "*** Training of model 'RandomForestClassifier' started.\n",
      "*** Training of classifier ready. Time elapsed: 409.456ms\n",
      "\n",
      "*** Training of model 'RandomForestClassifier' started.\n",
      "*** Training of classifier ready. Time elapsed: 419.429ms\n",
      "\n",
      "*** Training of model 'RandomForestClassifier' started.\n",
      "*** Training of classifier ready. Time elapsed: 385.69ms\n",
      "\n",
      "*** Training of model 'RandomForestClassifier' started.\n",
      "*** Training of classifier ready. Time elapsed: 380.696ms\n",
      "\n",
      "*** Training of model 'RandomForestClassifier' started.\n",
      "*** Training of classifier ready. Time elapsed: 344.55ms\n",
      "\n",
      "*** Training of model 'RandomForestClassifier' started.\n",
      "*** Training of classifier ready. Time elapsed: 427.143ms\n",
      "\n"
     ]
    },
    {
     "name": "stderr",
     "output_type": "stream",
     "text": [
      "F-score is ill-defined and being set to 0.0 due to no predicted samples.\n",
      "Precision is ill-defined and being set to 0.0 due to no predicted samples.\n",
      "invalid value encountered in long_scalars\n",
      "Data with input dtype bool, float64 were all converted to float64 by StandardScaler.\n",
      "Data with input dtype bool, float64 were all converted to float64 by StandardScaler.\n",
      "Data with input dtype bool, float64 were all converted to float64 by StandardScaler.\n"
     ]
    },
    {
     "name": "stdout",
     "output_type": "stream",
     "text": [
      "*** Training of model 'RandomForestClassifier' started.\n",
      "*** Training of classifier ready. Time elapsed: 387.918ms\n",
      "\n",
      "*** Training of model 'RandomForestClassifier' started.\n",
      "*** Training of classifier ready. Time elapsed: 408.191ms\n",
      "\n",
      "*** Training of model 'RandomForestClassifier' started.\n",
      "*** Training of classifier ready. Time elapsed: 403.029ms\n",
      "\n",
      "*** Training of model 'RandomForestClassifier' started.\n",
      "*** Training of classifier ready. Time elapsed: 419.072ms\n",
      "\n",
      "*** Training of model 'RandomForestClassifier' started.\n",
      "*** Training of classifier ready. Time elapsed: 432.555ms\n",
      "\n",
      "*** Training of model 'RandomForestClassifier' started.\n",
      "*** Training of classifier ready. Time elapsed: 370.706ms\n",
      "\n",
      "*** Training of model 'RandomForestClassifier' started.\n",
      "*** Training of classifier ready. Time elapsed: 527.855ms\n",
      "\n"
     ]
    },
    {
     "name": "stderr",
     "output_type": "stream",
     "text": [
      "F-score is ill-defined and being set to 0.0 due to no predicted samples.\n",
      "Precision is ill-defined and being set to 0.0 due to no predicted samples.\n",
      "invalid value encountered in long_scalars\n",
      "Data with input dtype bool, float64 were all converted to float64 by StandardScaler.\n",
      "Data with input dtype bool, float64 were all converted to float64 by StandardScaler.\n",
      "Data with input dtype bool, float64 were all converted to float64 by StandardScaler.\n"
     ]
    },
    {
     "name": "stdout",
     "output_type": "stream",
     "text": [
      "*** Training of model 'RandomForestClassifier' started.\n",
      "*** Training of classifier ready. Time elapsed: 424.308ms\n",
      "\n",
      "*** Training of model 'RandomForestClassifier' started.\n",
      "*** Training of classifier ready. Time elapsed: 421.015ms\n",
      "\n",
      "*** Training of model 'RandomForestClassifier' started.\n",
      "*** Training of classifier ready. Time elapsed: 416.367ms\n",
      "\n",
      "*** Training of model 'RandomForestClassifier' started.\n",
      "*** Training of classifier ready. Time elapsed: 369.147ms\n",
      "\n",
      "*** Training of model 'RandomForestClassifier' started.\n",
      "*** Training of classifier ready. Time elapsed: 385.716ms\n",
      "\n",
      "*** Training of model 'RandomForestClassifier' started.\n",
      "*** Training of classifier ready. Time elapsed: 356.361ms\n",
      "\n",
      "*** Training of model 'RandomForestClassifier' started.\n",
      "*** Training of classifier ready. Time elapsed: 609.087ms\n",
      "\n"
     ]
    },
    {
     "name": "stderr",
     "output_type": "stream",
     "text": [
      "F-score is ill-defined and being set to 0.0 due to no predicted samples.\n",
      "Precision is ill-defined and being set to 0.0 due to no predicted samples.\n",
      "invalid value encountered in long_scalars\n",
      "Data with input dtype bool, float64 were all converted to float64 by StandardScaler.\n",
      "Data with input dtype bool, float64 were all converted to float64 by StandardScaler.\n",
      "Data with input dtype bool, float64 were all converted to float64 by StandardScaler.\n"
     ]
    },
    {
     "name": "stdout",
     "output_type": "stream",
     "text": [
      "*** Training of model 'RandomForestClassifier' started.\n",
      "*** Training of classifier ready. Time elapsed: 464.59ms\n",
      "\n",
      "*** Training of model 'RandomForestClassifier' started.\n",
      "*** Training of classifier ready. Time elapsed: 498.063ms\n",
      "\n",
      "*** Training of model 'RandomForestClassifier' started.\n",
      "*** Training of classifier ready. Time elapsed: 457.572ms\n",
      "\n",
      "*** Training of model 'RandomForestClassifier' started.\n",
      "*** Training of classifier ready. Time elapsed: 429.268ms\n",
      "\n",
      "*** Training of model 'RandomForestClassifier' started.\n",
      "*** Training of classifier ready. Time elapsed: 447.001ms\n",
      "\n",
      "*** Training of model 'RandomForestClassifier' started.\n",
      "*** Training of classifier ready. Time elapsed: 355.559ms\n",
      "\n",
      "*** Training of model 'RandomForestClassifier' started.\n",
      "*** Training of classifier ready. Time elapsed: 639.757ms\n",
      "\n"
     ]
    },
    {
     "name": "stderr",
     "output_type": "stream",
     "text": [
      "F-score is ill-defined and being set to 0.0 due to no predicted samples.\n",
      "Precision is ill-defined and being set to 0.0 due to no predicted samples.\n",
      "invalid value encountered in long_scalars\n",
      "Data with input dtype bool, float64 were all converted to float64 by StandardScaler.\n",
      "Data with input dtype bool, float64 were all converted to float64 by StandardScaler.\n",
      "Data with input dtype bool, float64 were all converted to float64 by StandardScaler.\n"
     ]
    },
    {
     "name": "stdout",
     "output_type": "stream",
     "text": [
      "*** Training of model 'RandomForestClassifier' started.\n",
      "*** Training of classifier ready. Time elapsed: 440.607ms\n",
      "\n",
      "*** Training of model 'RandomForestClassifier' started.\n",
      "*** Training of classifier ready. Time elapsed: 420.614ms\n",
      "\n",
      "*** Training of model 'RandomForestClassifier' started.\n",
      "*** Training of classifier ready. Time elapsed: 472.204ms\n",
      "\n",
      "*** Training of model 'RandomForestClassifier' started.\n",
      "*** Training of classifier ready. Time elapsed: 430.329ms\n",
      "\n",
      "*** Training of model 'RandomForestClassifier' started.\n",
      "*** Training of classifier ready. Time elapsed: 458.657ms\n",
      "\n",
      "*** Training of model 'RandomForestClassifier' started.\n",
      "*** Training of classifier ready. Time elapsed: 398.801ms\n",
      "\n",
      "*** Training of model 'RandomForestClassifier' started.\n",
      "*** Training of classifier ready. Time elapsed: 354.429ms\n",
      "\n"
     ]
    },
    {
     "name": "stderr",
     "output_type": "stream",
     "text": [
      "Data with input dtype bool, float64 were all converted to float64 by StandardScaler.\n",
      "Data with input dtype bool, float64 were all converted to float64 by StandardScaler.\n",
      "Data with input dtype bool, float64 were all converted to float64 by StandardScaler.\n"
     ]
    },
    {
     "name": "stdout",
     "output_type": "stream",
     "text": [
      "*** Training of model 'RandomForestClassifier' started.\n",
      "*** Training of classifier ready. Time elapsed: 467.199ms\n",
      "\n",
      "*** Training of model 'RandomForestClassifier' started.\n",
      "*** Training of classifier ready. Time elapsed: 485.831ms\n",
      "\n",
      "*** Training of model 'RandomForestClassifier' started.\n",
      "*** Training of classifier ready. Time elapsed: 475.186ms\n",
      "\n",
      "*** Training of model 'RandomForestClassifier' started.\n",
      "*** Training of classifier ready. Time elapsed: 433.334ms\n",
      "\n",
      "*** Training of model 'RandomForestClassifier' started.\n",
      "*** Training of classifier ready. Time elapsed: 430.589ms\n",
      "\n",
      "*** Training of model 'RandomForestClassifier' started.\n",
      "*** Training of classifier ready. Time elapsed: 390.272ms\n",
      "\n",
      "*** Training of model 'RandomForestClassifier' started.\n",
      "*** Training of classifier ready. Time elapsed: 365.388ms\n",
      "\n"
     ]
    },
    {
     "name": "stderr",
     "output_type": "stream",
     "text": [
      "Data with input dtype bool, float64 were all converted to float64 by StandardScaler.\n",
      "Data with input dtype bool, float64 were all converted to float64 by StandardScaler.\n",
      "Data with input dtype bool, float64 were all converted to float64 by StandardScaler.\n"
     ]
    },
    {
     "name": "stdout",
     "output_type": "stream",
     "text": [
      "*** Training of model 'RandomForestClassifier' started.\n",
      "*** Training of classifier ready. Time elapsed: 509.494ms\n",
      "\n",
      "*** Training of model 'RandomForestClassifier' started.\n",
      "*** Training of classifier ready. Time elapsed: 476.436ms\n",
      "\n",
      "*** Training of model 'RandomForestClassifier' started.\n",
      "*** Training of classifier ready. Time elapsed: 463.204ms\n",
      "\n",
      "*** Training of model 'RandomForestClassifier' started.\n",
      "*** Training of classifier ready. Time elapsed: 420.838ms\n",
      "\n",
      "*** Training of model 'RandomForestClassifier' started.\n",
      "*** Training of classifier ready. Time elapsed: 453.41ms\n",
      "\n",
      "*** Training of model 'RandomForestClassifier' started.\n",
      "*** Training of classifier ready. Time elapsed: 421.278ms\n",
      "\n",
      "*** Training of model 'RandomForestClassifier' started.\n",
      "*** Training of classifier ready. Time elapsed: 373.003ms\n",
      "\n"
     ]
    },
    {
     "name": "stderr",
     "output_type": "stream",
     "text": [
      "Data with input dtype bool, float64 were all converted to float64 by StandardScaler.\n",
      "Data with input dtype bool, float64 were all converted to float64 by StandardScaler.\n",
      "Data with input dtype bool, float64 were all converted to float64 by StandardScaler.\n"
     ]
    },
    {
     "name": "stdout",
     "output_type": "stream",
     "text": [
      "*** Training of model 'RandomForestClassifier' started.\n",
      "*** Training of classifier ready. Time elapsed: 535.849ms\n",
      "\n",
      "*** Training of model 'RandomForestClassifier' started.\n",
      "*** Training of classifier ready. Time elapsed: 491.064ms\n",
      "\n",
      "*** Training of model 'RandomForestClassifier' started.\n",
      "*** Training of classifier ready. Time elapsed: 463.702ms\n",
      "\n",
      "*** Training of model 'RandomForestClassifier' started.\n",
      "*** Training of classifier ready. Time elapsed: 412.575ms\n",
      "\n",
      "*** Training of model 'RandomForestClassifier' started.\n",
      "*** Training of classifier ready. Time elapsed: 438.46ms\n",
      "\n",
      "*** Training of model 'RandomForestClassifier' started.\n",
      "*** Training of classifier ready. Time elapsed: 391.547ms\n",
      "\n",
      "*** Training of model 'RandomForestClassifier' started.\n",
      "*** Training of classifier ready. Time elapsed: 365.793ms\n",
      "\n"
     ]
    },
    {
     "name": "stderr",
     "output_type": "stream",
     "text": [
      "Data with input dtype bool, float64 were all converted to float64 by StandardScaler.\n",
      "Data with input dtype bool, float64 were all converted to float64 by StandardScaler.\n",
      "Data with input dtype bool, float64 were all converted to float64 by StandardScaler.\n"
     ]
    },
    {
     "name": "stdout",
     "output_type": "stream",
     "text": [
      "*** Training of model 'RandomForestClassifier' started.\n",
      "*** Training of classifier ready. Time elapsed: 454.873ms\n",
      "\n",
      "*** Training of model 'RandomForestClassifier' started.\n",
      "*** Training of classifier ready. Time elapsed: 479.578ms\n",
      "\n",
      "*** Training of model 'RandomForestClassifier' started.\n",
      "*** Training of classifier ready. Time elapsed: 480.551ms\n",
      "\n",
      "*** Training of model 'RandomForestClassifier' started.\n",
      "*** Training of classifier ready. Time elapsed: 413.181ms\n",
      "\n",
      "*** Training of model 'RandomForestClassifier' started.\n",
      "*** Training of classifier ready. Time elapsed: 444.088ms\n",
      "\n",
      "*** Training of model 'RandomForestClassifier' started.\n",
      "*** Training of classifier ready. Time elapsed: 443.792ms\n",
      "\n",
      "*** Training of model 'RandomForestClassifier' started.\n",
      "*** Training of classifier ready. Time elapsed: 379.696ms\n",
      "\n"
     ]
    },
    {
     "name": "stderr",
     "output_type": "stream",
     "text": [
      "Data with input dtype bool, float64 were all converted to float64 by StandardScaler.\n",
      "Data with input dtype bool, float64 were all converted to float64 by StandardScaler.\n",
      "Data with input dtype bool, float64 were all converted to float64 by StandardScaler.\n"
     ]
    },
    {
     "name": "stdout",
     "output_type": "stream",
     "text": [
      "*** Training of model 'RandomForestClassifier' started.\n",
      "*** Training of classifier ready. Time elapsed: 465.16ms\n",
      "\n",
      "*** Training of model 'RandomForestClassifier' started.\n",
      "*** Training of classifier ready. Time elapsed: 446.968ms\n",
      "\n",
      "*** Training of model 'RandomForestClassifier' started.\n",
      "*** Training of classifier ready. Time elapsed: 449.169ms\n",
      "\n",
      "*** Training of model 'RandomForestClassifier' started.\n",
      "*** Training of classifier ready. Time elapsed: 411.786ms\n",
      "\n",
      "*** Training of model 'RandomForestClassifier' started.\n",
      "*** Training of classifier ready. Time elapsed: 414.479ms\n",
      "\n",
      "*** Training of model 'RandomForestClassifier' started.\n",
      "*** Training of classifier ready. Time elapsed: 397.372ms\n",
      "\n",
      "*** Training of model 'RandomForestClassifier' started.\n",
      "*** Training of classifier ready. Time elapsed: 869.437ms\n",
      "\n"
     ]
    },
    {
     "name": "stderr",
     "output_type": "stream",
     "text": [
      "Data with input dtype bool, float64 were all converted to float64 by StandardScaler.\n",
      "Data with input dtype bool, float64 were all converted to float64 by StandardScaler.\n",
      "Data with input dtype bool, float64 were all converted to float64 by StandardScaler.\n"
     ]
    },
    {
     "name": "stdout",
     "output_type": "stream",
     "text": [
      "*** Training of model 'RandomForestClassifier' started.\n",
      "*** Training of classifier ready. Time elapsed: 409.786ms\n",
      "\n",
      "*** Training of model 'RandomForestClassifier' started.\n",
      "*** Training of classifier ready. Time elapsed: 442.859ms\n",
      "\n",
      "*** Training of model 'RandomForestClassifier' started.\n",
      "*** Training of classifier ready. Time elapsed: 471.627ms\n",
      "\n",
      "*** Training of model 'RandomForestClassifier' started.\n",
      "*** Training of classifier ready. Time elapsed: 380.107ms\n",
      "\n",
      "*** Training of model 'RandomForestClassifier' started.\n",
      "*** Training of classifier ready. Time elapsed: 432.619ms\n",
      "\n",
      "*** Training of model 'RandomForestClassifier' started.\n",
      "*** Training of classifier ready. Time elapsed: 364.219ms\n",
      "\n",
      "*** Training of model 'RandomForestClassifier' started.\n",
      "*** Training of classifier ready. Time elapsed: 931.821ms\n",
      "\n"
     ]
    },
    {
     "name": "stderr",
     "output_type": "stream",
     "text": [
      "Data with input dtype bool, float64 were all converted to float64 by StandardScaler.\n",
      "Data with input dtype bool, float64 were all converted to float64 by StandardScaler.\n",
      "Data with input dtype bool, float64 were all converted to float64 by StandardScaler.\n"
     ]
    },
    {
     "name": "stdout",
     "output_type": "stream",
     "text": [
      "*** Training of model 'RandomForestClassifier' started.\n",
      "*** Training of classifier ready. Time elapsed: 467.196ms\n",
      "\n",
      "*** Training of model 'RandomForestClassifier' started.\n",
      "*** Training of classifier ready. Time elapsed: 495.175ms\n",
      "\n",
      "*** Training of model 'RandomForestClassifier' started.\n",
      "*** Training of classifier ready. Time elapsed: 495.213ms\n",
      "\n",
      "*** Training of model 'RandomForestClassifier' started.\n",
      "*** Training of classifier ready. Time elapsed: 449.051ms\n",
      "\n",
      "*** Training of model 'RandomForestClassifier' started.\n",
      "*** Training of classifier ready. Time elapsed: 420.318ms\n",
      "\n",
      "*** Training of model 'RandomForestClassifier' started.\n",
      "*** Training of classifier ready. Time elapsed: 407.09ms\n",
      "\n",
      "*** Training of model 'RandomForestClassifier' started.\n",
      "*** Training of classifier ready. Time elapsed: 941.322ms\n",
      "\n"
     ]
    },
    {
     "name": "stderr",
     "output_type": "stream",
     "text": [
      "Data with input dtype bool, float64 were all converted to float64 by StandardScaler.\n",
      "Data with input dtype bool, float64 were all converted to float64 by StandardScaler.\n",
      "Data with input dtype bool, float64 were all converted to float64 by StandardScaler.\n"
     ]
    },
    {
     "name": "stdout",
     "output_type": "stream",
     "text": [
      "*** Training of model 'RandomForestClassifier' started.\n",
      "*** Training of classifier ready. Time elapsed: 432.077ms\n",
      "\n",
      "*** Training of model 'RandomForestClassifier' started.\n",
      "*** Training of classifier ready. Time elapsed: 416.665ms\n",
      "\n",
      "*** Training of model 'RandomForestClassifier' started.\n",
      "*** Training of classifier ready. Time elapsed: 423.635ms\n",
      "\n",
      "*** Training of model 'RandomForestClassifier' started.\n",
      "*** Training of classifier ready. Time elapsed: 373.462ms\n",
      "\n",
      "*** Training of model 'RandomForestClassifier' started.\n",
      "*** Training of classifier ready. Time elapsed: 416.299ms\n",
      "\n",
      "*** Training of model 'RandomForestClassifier' started.\n",
      "*** Training of classifier ready. Time elapsed: 360.805ms\n",
      "\n",
      "*** Training of model 'RandomForestClassifier' started.\n",
      "*** Training of classifier ready. Time elapsed: 814.473ms\n",
      "\n"
     ]
    },
    {
     "name": "stderr",
     "output_type": "stream",
     "text": [
      "Data with input dtype bool, float64 were all converted to float64 by StandardScaler.\n",
      "Data with input dtype bool, float64 were all converted to float64 by StandardScaler.\n",
      "Data with input dtype bool, float64 were all converted to float64 by StandardScaler.\n"
     ]
    },
    {
     "name": "stdout",
     "output_type": "stream",
     "text": [
      "*** Training of model 'RandomForestClassifier' started.\n",
      "*** Training of classifier ready. Time elapsed: 456.487ms\n",
      "\n",
      "*** Training of model 'RandomForestClassifier' started.\n",
      "*** Training of classifier ready. Time elapsed: 454.535ms\n",
      "\n",
      "*** Training of model 'RandomForestClassifier' started.\n",
      "*** Training of classifier ready. Time elapsed: 467.38ms\n",
      "\n",
      "*** Training of model 'RandomForestClassifier' started.\n",
      "*** Training of classifier ready. Time elapsed: 431.59ms\n",
      "\n",
      "*** Training of model 'RandomForestClassifier' started.\n",
      "*** Training of classifier ready. Time elapsed: 446.327ms\n",
      "\n",
      "*** Training of model 'RandomForestClassifier' started.\n",
      "*** Training of classifier ready. Time elapsed: 425.315ms\n",
      "\n",
      "*** Training of model 'RandomForestClassifier' started.\n",
      "*** Training of classifier ready. Time elapsed: 919.943ms\n",
      "\n"
     ]
    },
    {
     "name": "stderr",
     "output_type": "stream",
     "text": [
      "Data with input dtype bool, float64 were all converted to float64 by StandardScaler.\n",
      "Data with input dtype bool, float64 were all converted to float64 by StandardScaler.\n",
      "Data with input dtype bool, float64 were all converted to float64 by StandardScaler.\n"
     ]
    },
    {
     "name": "stdout",
     "output_type": "stream",
     "text": [
      "*** Training of model 'RandomForestClassifier' started.\n",
      "*** Training of classifier ready. Time elapsed: 420.308ms\n",
      "\n",
      "*** Training of model 'RandomForestClassifier' started.\n",
      "*** Training of classifier ready. Time elapsed: 423.48ms\n",
      "\n",
      "*** Training of model 'RandomForestClassifier' started.\n",
      "*** Training of classifier ready. Time elapsed: 472.697ms\n",
      "\n",
      "*** Training of model 'RandomForestClassifier' started.\n",
      "*** Training of classifier ready. Time elapsed: 388.98ms\n",
      "\n",
      "*** Training of model 'RandomForestClassifier' started.\n",
      "*** Training of classifier ready. Time elapsed: 430.657ms\n",
      "\n",
      "*** Training of model 'RandomForestClassifier' started.\n",
      "*** Training of classifier ready. Time elapsed: 385.803ms\n",
      "\n",
      "*** Training of model 'RandomForestClassifier' started.\n",
      "*** Training of classifier ready. Time elapsed: 394.752ms\n",
      "\n"
     ]
    },
    {
     "name": "stderr",
     "output_type": "stream",
     "text": [
      "F-score is ill-defined and being set to 0.0 due to no predicted samples.\n",
      "Precision is ill-defined and being set to 0.0 due to no predicted samples.\n",
      "invalid value encountered in long_scalars\n",
      "Data with input dtype bool, float64 were all converted to float64 by StandardScaler.\n",
      "Data with input dtype bool, float64 were all converted to float64 by StandardScaler.\n",
      "Data with input dtype bool, float64 were all converted to float64 by StandardScaler.\n"
     ]
    },
    {
     "name": "stdout",
     "output_type": "stream",
     "text": [
      "*** Training of model 'RandomForestClassifier' started.\n",
      "*** Training of classifier ready. Time elapsed: 456.928ms\n",
      "\n",
      "*** Training of model 'RandomForestClassifier' started.\n",
      "*** Training of classifier ready. Time elapsed: 498.237ms\n",
      "\n",
      "*** Training of model 'RandomForestClassifier' started.\n",
      "*** Training of classifier ready. Time elapsed: 474.512ms\n",
      "\n",
      "*** Training of model 'RandomForestClassifier' started.\n",
      "*** Training of classifier ready. Time elapsed: 436.183ms\n",
      "\n",
      "*** Training of model 'RandomForestClassifier' started.\n",
      "*** Training of classifier ready. Time elapsed: 413.498ms\n",
      "\n",
      "*** Training of model 'RandomForestClassifier' started.\n",
      "*** Training of classifier ready. Time elapsed: 415.012ms\n",
      "\n",
      "*** Training of model 'RandomForestClassifier' started.\n",
      "*** Training of classifier ready. Time elapsed: 405.736ms\n",
      "\n"
     ]
    },
    {
     "name": "stderr",
     "output_type": "stream",
     "text": [
      "F-score is ill-defined and being set to 0.0 due to no predicted samples.\n",
      "Precision is ill-defined and being set to 0.0 due to no predicted samples.\n",
      "invalid value encountered in long_scalars\n",
      "Data with input dtype bool, float64 were all converted to float64 by StandardScaler.\n",
      "Data with input dtype bool, float64 were all converted to float64 by StandardScaler.\n",
      "Data with input dtype bool, float64 were all converted to float64 by StandardScaler.\n"
     ]
    },
    {
     "name": "stdout",
     "output_type": "stream",
     "text": [
      "*** Training of model 'RandomForestClassifier' started.\n",
      "*** Training of classifier ready. Time elapsed: 473.63ms\n",
      "\n",
      "*** Training of model 'RandomForestClassifier' started.\n",
      "*** Training of classifier ready. Time elapsed: 480.315ms\n",
      "\n",
      "*** Training of model 'RandomForestClassifier' started.\n",
      "*** Training of classifier ready. Time elapsed: 480.117ms\n",
      "\n",
      "*** Training of model 'RandomForestClassifier' started.\n",
      "*** Training of classifier ready. Time elapsed: 475.513ms\n",
      "\n",
      "*** Training of model 'RandomForestClassifier' started.\n",
      "*** Training of classifier ready. Time elapsed: 483.956ms\n",
      "\n",
      "*** Training of model 'RandomForestClassifier' started.\n",
      "*** Training of classifier ready. Time elapsed: 432.628ms\n",
      "\n",
      "*** Training of model 'RandomForestClassifier' started.\n",
      "*** Training of classifier ready. Time elapsed: 435.598ms\n",
      "\n"
     ]
    },
    {
     "name": "stderr",
     "output_type": "stream",
     "text": [
      "F-score is ill-defined and being set to 0.0 due to no predicted samples.\n",
      "Precision is ill-defined and being set to 0.0 due to no predicted samples.\n",
      "invalid value encountered in long_scalars\n",
      "Data with input dtype bool, float64 were all converted to float64 by StandardScaler.\n",
      "Data with input dtype bool, float64 were all converted to float64 by StandardScaler.\n",
      "Data with input dtype bool, float64 were all converted to float64 by StandardScaler.\n"
     ]
    },
    {
     "name": "stdout",
     "output_type": "stream",
     "text": [
      "*** Training of model 'RandomForestClassifier' started.\n",
      "*** Training of classifier ready. Time elapsed: 468.258ms\n",
      "\n",
      "*** Training of model 'RandomForestClassifier' started.\n",
      "*** Training of classifier ready. Time elapsed: 477.544ms\n",
      "\n",
      "*** Training of model 'RandomForestClassifier' started.\n",
      "*** Training of classifier ready. Time elapsed: 516.268ms\n",
      "\n",
      "*** Training of model 'RandomForestClassifier' started.\n",
      "*** Training of classifier ready. Time elapsed: 450.076ms\n",
      "\n",
      "*** Training of model 'RandomForestClassifier' started.\n",
      "*** Training of classifier ready. Time elapsed: 499.053ms\n",
      "\n",
      "*** Training of model 'RandomForestClassifier' started.\n",
      "*** Training of classifier ready. Time elapsed: 437.666ms\n",
      "\n",
      "*** Training of model 'RandomForestClassifier' started.\n",
      "*** Training of classifier ready. Time elapsed: 468.364ms\n",
      "\n"
     ]
    },
    {
     "name": "stderr",
     "output_type": "stream",
     "text": [
      "F-score is ill-defined and being set to 0.0 due to no predicted samples.\n",
      "Precision is ill-defined and being set to 0.0 due to no predicted samples.\n",
      "invalid value encountered in long_scalars\n",
      "Data with input dtype bool, float64 were all converted to float64 by StandardScaler.\n",
      "Data with input dtype bool, float64 were all converted to float64 by StandardScaler.\n",
      "Data with input dtype bool, float64 were all converted to float64 by StandardScaler.\n"
     ]
    },
    {
     "name": "stdout",
     "output_type": "stream",
     "text": [
      "*** Training of model 'RandomForestClassifier' started.\n",
      "*** Training of classifier ready. Time elapsed: 490.849ms\n",
      "\n",
      "*** Training of model 'RandomForestClassifier' started.\n",
      "*** Training of classifier ready. Time elapsed: 650.326ms\n",
      "\n",
      "*** Training of model 'RandomForestClassifier' started.\n",
      "*** Training of classifier ready. Time elapsed: 504.708ms\n",
      "\n",
      "*** Training of model 'RandomForestClassifier' started.\n",
      "*** Training of classifier ready. Time elapsed: 502.219ms\n",
      "\n",
      "*** Training of model 'RandomForestClassifier' started.\n",
      "*** Training of classifier ready. Time elapsed: 507.502ms\n",
      "\n",
      "*** Training of model 'RandomForestClassifier' started.\n",
      "*** Training of classifier ready. Time elapsed: 533.135ms\n",
      "\n",
      "*** Training of model 'RandomForestClassifier' started.\n",
      "*** Training of classifier ready. Time elapsed: 447.425ms\n",
      "\n"
     ]
    },
    {
     "name": "stderr",
     "output_type": "stream",
     "text": [
      "F-score is ill-defined and being set to 0.0 due to no predicted samples.\n",
      "Precision is ill-defined and being set to 0.0 due to no predicted samples.\n",
      "invalid value encountered in long_scalars\n",
      "Data with input dtype bool, float64 were all converted to float64 by StandardScaler.\n",
      "Data with input dtype bool, float64 were all converted to float64 by StandardScaler.\n",
      "Data with input dtype bool, float64 were all converted to float64 by StandardScaler.\n"
     ]
    },
    {
     "name": "stdout",
     "output_type": "stream",
     "text": [
      "*** Training of model 'DecisionTreeClassifier' started.\n",
      "*** Training of classifier ready. Time elapsed: 70.307ms\n",
      "\n",
      "*** Training of model 'DecisionTreeClassifier' started.\n",
      "*** Training of classifier ready. Time elapsed: 62.293ms\n",
      "\n",
      "*** Training of model 'DecisionTreeClassifier' started.\n",
      "*** Training of classifier ready. Time elapsed: 55.339ms\n",
      "\n",
      "*** Training of model 'DecisionTreeClassifier' started.\n",
      "*** Training of classifier ready. Time elapsed: 49.26ms\n",
      "\n",
      "*** Training of model 'DecisionTreeClassifier' started.\n",
      "*** Training of classifier ready. Time elapsed: 41.326ms\n",
      "\n",
      "*** Training of model 'DecisionTreeClassifier' started.\n",
      "*** Training of classifier ready. Time elapsed: 36.311ms\n",
      "\n",
      "*** Training of model 'DecisionTreeClassifier' started.\n",
      "*** Training of classifier ready. Time elapsed: 61.861ms\n",
      "\n"
     ]
    },
    {
     "name": "stderr",
     "output_type": "stream",
     "text": [
      "Data with input dtype bool, float64 were all converted to float64 by StandardScaler.\n",
      "Data with input dtype bool, float64 were all converted to float64 by StandardScaler.\n",
      "Data with input dtype bool, float64 were all converted to float64 by StandardScaler.\n"
     ]
    },
    {
     "name": "stdout",
     "output_type": "stream",
     "text": [
      "*** Training of model 'DecisionTreeClassifier' started.\n",
      "*** Training of classifier ready. Time elapsed: 74.338ms\n",
      "\n",
      "*** Training of model 'DecisionTreeClassifier' started.\n",
      "*** Training of classifier ready. Time elapsed: 61.447ms\n",
      "\n",
      "*** Training of model 'DecisionTreeClassifier' started.\n",
      "*** Training of classifier ready. Time elapsed: 55.395ms\n",
      "\n",
      "*** Training of model 'DecisionTreeClassifier' started.\n",
      "*** Training of classifier ready. Time elapsed: 48.656ms\n",
      "\n",
      "*** Training of model 'DecisionTreeClassifier' started.\n",
      "*** Training of classifier ready. Time elapsed: 49.275ms\n",
      "\n",
      "*** Training of model 'DecisionTreeClassifier' started.\n",
      "*** Training of classifier ready. Time elapsed: 65.806ms\n",
      "\n",
      "*** Training of model 'DecisionTreeClassifier' started.\n",
      "*** Training of classifier ready. Time elapsed: 127.512ms\n",
      "\n"
     ]
    },
    {
     "name": "stderr",
     "output_type": "stream",
     "text": [
      "Data with input dtype bool, float64 were all converted to float64 by StandardScaler.\n",
      "Data with input dtype bool, float64 were all converted to float64 by StandardScaler.\n",
      "Data with input dtype bool, float64 were all converted to float64 by StandardScaler.\n"
     ]
    },
    {
     "name": "stdout",
     "output_type": "stream",
     "text": [
      "*** Training of model 'DecisionTreeClassifier' started.\n",
      "*** Training of classifier ready. Time elapsed: 70.553ms\n",
      "\n",
      "*** Training of model 'DecisionTreeClassifier' started.\n",
      "*** Training of classifier ready. Time elapsed: 64.698ms\n",
      "\n",
      "*** Training of model 'DecisionTreeClassifier' started.\n",
      "*** Training of classifier ready. Time elapsed: 55.907ms\n",
      "\n",
      "*** Training of model 'DecisionTreeClassifier' started.\n",
      "*** Training of classifier ready. Time elapsed: 49.848ms\n",
      "\n",
      "*** Training of model 'DecisionTreeClassifier' started.\n",
      "*** Training of classifier ready. Time elapsed: 51.846ms\n",
      "\n",
      "*** Training of model 'DecisionTreeClassifier' started.\n",
      "*** Training of classifier ready. Time elapsed: 66.572ms\n",
      "\n",
      "*** Training of model 'DecisionTreeClassifier' started.\n",
      "*** Training of classifier ready. Time elapsed: 133.391ms\n",
      "\n"
     ]
    },
    {
     "name": "stderr",
     "output_type": "stream",
     "text": [
      "Data with input dtype bool, float64 were all converted to float64 by StandardScaler.\n",
      "Data with input dtype bool, float64 were all converted to float64 by StandardScaler.\n",
      "Data with input dtype bool, float64 were all converted to float64 by StandardScaler.\n"
     ]
    },
    {
     "name": "stdout",
     "output_type": "stream",
     "text": [
      "*** Training of model 'DecisionTreeClassifier' started.\n",
      "*** Training of classifier ready. Time elapsed: 69.8ms\n",
      "\n",
      "*** Training of model 'DecisionTreeClassifier' started.\n",
      "*** Training of classifier ready. Time elapsed: 60.304ms\n",
      "\n",
      "*** Training of model 'DecisionTreeClassifier' started.\n",
      "*** Training of classifier ready. Time elapsed: 55.101ms\n",
      "\n",
      "*** Training of model 'DecisionTreeClassifier' started.\n",
      "*** Training of classifier ready. Time elapsed: 47.573ms\n",
      "\n",
      "*** Training of model 'DecisionTreeClassifier' started.\n",
      "*** Training of classifier ready. Time elapsed: 40.623ms\n",
      "\n",
      "*** Training of model 'DecisionTreeClassifier' started.\n",
      "*** Training of classifier ready. Time elapsed: 34.371ms\n",
      "\n",
      "*** Training of model 'DecisionTreeClassifier' started.\n",
      "*** Training of classifier ready. Time elapsed: 61.684ms\n",
      "\n"
     ]
    },
    {
     "name": "stderr",
     "output_type": "stream",
     "text": [
      "Data with input dtype bool, float64 were all converted to float64 by StandardScaler.\n",
      "Data with input dtype bool, float64 were all converted to float64 by StandardScaler.\n",
      "Data with input dtype bool, float64 were all converted to float64 by StandardScaler.\n"
     ]
    },
    {
     "name": "stdout",
     "output_type": "stream",
     "text": [
      "*** Training of model 'DecisionTreeClassifier' started.\n",
      "*** Training of classifier ready. Time elapsed: 73.492ms\n",
      "\n",
      "*** Training of model 'DecisionTreeClassifier' started.\n",
      "*** Training of classifier ready. Time elapsed: 65.677ms\n",
      "\n",
      "*** Training of model 'DecisionTreeClassifier' started.\n",
      "*** Training of classifier ready. Time elapsed: 58.199ms\n",
      "\n",
      "*** Training of model 'DecisionTreeClassifier' started.\n",
      "*** Training of classifier ready. Time elapsed: 50.964ms\n",
      "\n",
      "*** Training of model 'DecisionTreeClassifier' started.\n",
      "*** Training of classifier ready. Time elapsed: 43.548ms\n",
      "\n",
      "*** Training of model 'DecisionTreeClassifier' started.\n",
      "*** Training of classifier ready. Time elapsed: 38.285ms\n",
      "\n",
      "*** Training of model 'DecisionTreeClassifier' started.\n",
      "*** Training of classifier ready. Time elapsed: 65.334ms\n",
      "\n"
     ]
    },
    {
     "name": "stderr",
     "output_type": "stream",
     "text": [
      "Data with input dtype bool, float64 were all converted to float64 by StandardScaler.\n",
      "Data with input dtype bool, float64 were all converted to float64 by StandardScaler.\n",
      "Data with input dtype bool, float64 were all converted to float64 by StandardScaler.\n"
     ]
    },
    {
     "name": "stdout",
     "output_type": "stream",
     "text": [
      "*** Training of model 'DecisionTreeClassifier' started.\n",
      "*** Training of classifier ready. Time elapsed: 69.662ms\n",
      "\n",
      "*** Training of model 'DecisionTreeClassifier' started.\n",
      "*** Training of classifier ready. Time elapsed: 60.713ms\n",
      "\n",
      "*** Training of model 'DecisionTreeClassifier' started.\n",
      "*** Training of classifier ready. Time elapsed: 53.771ms\n",
      "\n",
      "*** Training of model 'DecisionTreeClassifier' started.\n",
      "*** Training of classifier ready. Time elapsed: 47.633ms\n",
      "\n",
      "*** Training of model 'DecisionTreeClassifier' started.\n",
      "*** Training of classifier ready. Time elapsed: 41.176ms\n",
      "\n",
      "*** Training of model 'DecisionTreeClassifier' started.\n",
      "*** Training of classifier ready. Time elapsed: 35.139ms\n",
      "\n",
      "*** Training of model 'DecisionTreeClassifier' started.\n",
      "*** Training of classifier ready. Time elapsed: 6.484ms\n",
      "\n"
     ]
    },
    {
     "name": "stderr",
     "output_type": "stream",
     "text": [
      "Data with input dtype bool, float64 were all converted to float64 by StandardScaler.\n",
      "Data with input dtype bool, float64 were all converted to float64 by StandardScaler.\n",
      "Data with input dtype bool, float64 were all converted to float64 by StandardScaler.\n"
     ]
    },
    {
     "name": "stdout",
     "output_type": "stream",
     "text": [
      "*** Training of model 'DecisionTreeClassifier' started.\n",
      "*** Training of classifier ready. Time elapsed: 71.026ms\n",
      "\n",
      "*** Training of model 'DecisionTreeClassifier' started.\n",
      "*** Training of classifier ready. Time elapsed: 62.429ms\n",
      "\n",
      "*** Training of model 'DecisionTreeClassifier' started.\n",
      "*** Training of classifier ready. Time elapsed: 53.802ms\n",
      "\n",
      "*** Training of model 'DecisionTreeClassifier' started.\n",
      "*** Training of classifier ready. Time elapsed: 48.047ms\n",
      "\n",
      "*** Training of model 'DecisionTreeClassifier' started.\n",
      "*** Training of classifier ready. Time elapsed: 41.86ms\n",
      "\n",
      "*** Training of model 'DecisionTreeClassifier' started.\n",
      "*** Training of classifier ready. Time elapsed: 35.619ms\n",
      "\n",
      "*** Training of model 'DecisionTreeClassifier' started.\n",
      "*** Training of classifier ready. Time elapsed: 6.022ms\n",
      "\n"
     ]
    },
    {
     "name": "stderr",
     "output_type": "stream",
     "text": [
      "Data with input dtype bool, float64 were all converted to float64 by StandardScaler.\n",
      "Data with input dtype bool, float64 were all converted to float64 by StandardScaler.\n",
      "Data with input dtype bool, float64 were all converted to float64 by StandardScaler.\n"
     ]
    },
    {
     "name": "stdout",
     "output_type": "stream",
     "text": [
      "*** Training of model 'DecisionTreeClassifier' started.\n",
      "*** Training of classifier ready. Time elapsed: 70.596ms\n",
      "\n",
      "*** Training of model 'DecisionTreeClassifier' started.\n",
      "*** Training of classifier ready. Time elapsed: 62.304ms\n",
      "\n",
      "*** Training of model 'DecisionTreeClassifier' started.\n",
      "*** Training of classifier ready. Time elapsed: 57.661ms\n",
      "\n",
      "*** Training of model 'DecisionTreeClassifier' started.\n",
      "*** Training of classifier ready. Time elapsed: 50.422ms\n",
      "\n",
      "*** Training of model 'DecisionTreeClassifier' started.\n",
      "*** Training of classifier ready. Time elapsed: 42.633ms\n",
      "\n",
      "*** Training of model 'DecisionTreeClassifier' started.\n",
      "*** Training of classifier ready. Time elapsed: 35.31ms\n",
      "\n",
      "*** Training of model 'DecisionTreeClassifier' started.\n",
      "*** Training of classifier ready. Time elapsed: 6.402ms\n",
      "\n"
     ]
    },
    {
     "name": "stderr",
     "output_type": "stream",
     "text": [
      "Data with input dtype bool, float64 were all converted to float64 by StandardScaler.\n",
      "Data with input dtype bool, float64 were all converted to float64 by StandardScaler.\n",
      "Data with input dtype bool, float64 were all converted to float64 by StandardScaler.\n"
     ]
    },
    {
     "name": "stdout",
     "output_type": "stream",
     "text": [
      "*** Training of model 'DecisionTreeClassifier' started.\n",
      "*** Training of classifier ready. Time elapsed: 70.058ms\n",
      "\n",
      "*** Training of model 'DecisionTreeClassifier' started.\n",
      "*** Training of classifier ready. Time elapsed: 60.126ms\n",
      "\n",
      "*** Training of model 'DecisionTreeClassifier' started.\n",
      "*** Training of classifier ready. Time elapsed: 54.717ms\n",
      "\n",
      "*** Training of model 'DecisionTreeClassifier' started.\n",
      "*** Training of classifier ready. Time elapsed: 46.888ms\n",
      "\n",
      "*** Training of model 'DecisionTreeClassifier' started.\n",
      "*** Training of classifier ready. Time elapsed: 41.001ms\n",
      "\n",
      "*** Training of model 'DecisionTreeClassifier' started.\n",
      "*** Training of classifier ready. Time elapsed: 34.928ms\n",
      "\n",
      "*** Training of model 'DecisionTreeClassifier' started.\n",
      "*** Training of classifier ready. Time elapsed: 6.39ms\n",
      "\n"
     ]
    },
    {
     "name": "stderr",
     "output_type": "stream",
     "text": [
      "Data with input dtype bool, float64 were all converted to float64 by StandardScaler.\n",
      "Data with input dtype bool, float64 were all converted to float64 by StandardScaler.\n",
      "Data with input dtype bool, float64 were all converted to float64 by StandardScaler.\n"
     ]
    },
    {
     "name": "stdout",
     "output_type": "stream",
     "text": [
      "*** Training of model 'DecisionTreeClassifier' started.\n",
      "*** Training of classifier ready. Time elapsed: 75.245ms\n",
      "\n",
      "*** Training of model 'DecisionTreeClassifier' started.\n",
      "*** Training of classifier ready. Time elapsed: 64.203ms\n",
      "\n",
      "*** Training of model 'DecisionTreeClassifier' started.\n",
      "*** Training of classifier ready. Time elapsed: 58.021ms\n",
      "\n",
      "*** Training of model 'DecisionTreeClassifier' started.\n",
      "*** Training of classifier ready. Time elapsed: 50.861ms\n",
      "\n",
      "*** Training of model 'DecisionTreeClassifier' started.\n",
      "*** Training of classifier ready. Time elapsed: 44.881ms\n",
      "\n",
      "*** Training of model 'DecisionTreeClassifier' started.\n",
      "*** Training of classifier ready. Time elapsed: 36.679ms\n",
      "\n",
      "*** Training of model 'DecisionTreeClassifier' started.\n",
      "*** Training of classifier ready. Time elapsed: 6.525ms\n",
      "\n"
     ]
    },
    {
     "name": "stderr",
     "output_type": "stream",
     "text": [
      "Data with input dtype bool, float64 were all converted to float64 by StandardScaler.\n",
      "Data with input dtype bool, float64 were all converted to float64 by StandardScaler.\n",
      "Data with input dtype bool, float64 were all converted to float64 by StandardScaler.\n"
     ]
    },
    {
     "name": "stdout",
     "output_type": "stream",
     "text": [
      "*** Training of model 'DecisionTreeClassifier' started.\n",
      "*** Training of classifier ready. Time elapsed: 73.072ms\n",
      "\n",
      "*** Training of model 'DecisionTreeClassifier' started.\n",
      "*** Training of classifier ready. Time elapsed: 61.884ms\n",
      "\n",
      "*** Training of model 'DecisionTreeClassifier' started.\n",
      "*** Training of classifier ready. Time elapsed: 54.485ms\n",
      "\n",
      "*** Training of model 'DecisionTreeClassifier' started.\n",
      "*** Training of classifier ready. Time elapsed: 48.282ms\n",
      "\n",
      "*** Training of model 'DecisionTreeClassifier' started.\n",
      "*** Training of classifier ready. Time elapsed: 41.582ms\n",
      "\n",
      "*** Training of model 'DecisionTreeClassifier' started.\n",
      "*** Training of classifier ready. Time elapsed: 35.055ms\n",
      "\n",
      "*** Training of model 'DecisionTreeClassifier' started.\n",
      "*** Training of classifier ready. Time elapsed: 98.385ms\n",
      "\n"
     ]
    },
    {
     "name": "stderr",
     "output_type": "stream",
     "text": [
      "Data with input dtype bool, float64 were all converted to float64 by StandardScaler.\n",
      "Data with input dtype bool, float64 were all converted to float64 by StandardScaler.\n",
      "Data with input dtype bool, float64 were all converted to float64 by StandardScaler.\n"
     ]
    },
    {
     "name": "stdout",
     "output_type": "stream",
     "text": [
      "*** Training of model 'DecisionTreeClassifier' started.\n",
      "*** Training of classifier ready. Time elapsed: 74.062ms\n",
      "\n",
      "*** Training of model 'DecisionTreeClassifier' started.\n",
      "*** Training of classifier ready. Time elapsed: 65.058ms\n",
      "\n",
      "*** Training of model 'DecisionTreeClassifier' started.\n",
      "*** Training of classifier ready. Time elapsed: 56.893ms\n",
      "\n",
      "*** Training of model 'DecisionTreeClassifier' started.\n",
      "*** Training of classifier ready. Time elapsed: 53.79ms\n",
      "\n",
      "*** Training of model 'DecisionTreeClassifier' started.\n",
      "*** Training of classifier ready. Time elapsed: 42.322ms\n",
      "\n",
      "*** Training of model 'DecisionTreeClassifier' started.\n",
      "*** Training of classifier ready. Time elapsed: 37.534ms\n",
      "\n",
      "*** Training of model 'DecisionTreeClassifier' started.\n",
      "*** Training of classifier ready. Time elapsed: 101.75ms\n",
      "\n"
     ]
    },
    {
     "name": "stderr",
     "output_type": "stream",
     "text": [
      "Data with input dtype bool, float64 were all converted to float64 by StandardScaler.\n",
      "Data with input dtype bool, float64 were all converted to float64 by StandardScaler.\n",
      "Data with input dtype bool, float64 were all converted to float64 by StandardScaler.\n"
     ]
    },
    {
     "name": "stdout",
     "output_type": "stream",
     "text": [
      "*** Training of model 'DecisionTreeClassifier' started.\n",
      "*** Training of classifier ready. Time elapsed: 75.912ms\n",
      "\n",
      "*** Training of model 'DecisionTreeClassifier' started.\n",
      "*** Training of classifier ready. Time elapsed: 66.12ms\n",
      "\n",
      "*** Training of model 'DecisionTreeClassifier' started.\n",
      "*** Training of classifier ready. Time elapsed: 57.183ms\n",
      "\n",
      "*** Training of model 'DecisionTreeClassifier' started.\n",
      "*** Training of classifier ready. Time elapsed: 52.073ms\n",
      "\n",
      "*** Training of model 'DecisionTreeClassifier' started.\n",
      "*** Training of classifier ready. Time elapsed: 43.093ms\n",
      "\n",
      "*** Training of model 'DecisionTreeClassifier' started.\n",
      "*** Training of classifier ready. Time elapsed: 36.989ms\n",
      "\n",
      "*** Training of model 'DecisionTreeClassifier' started.\n",
      "*** Training of classifier ready. Time elapsed: 106.747ms\n",
      "\n"
     ]
    },
    {
     "name": "stderr",
     "output_type": "stream",
     "text": [
      "Data with input dtype bool, float64 were all converted to float64 by StandardScaler.\n",
      "Data with input dtype bool, float64 were all converted to float64 by StandardScaler.\n",
      "Data with input dtype bool, float64 were all converted to float64 by StandardScaler.\n"
     ]
    },
    {
     "name": "stdout",
     "output_type": "stream",
     "text": [
      "*** Training of model 'DecisionTreeClassifier' started.\n",
      "*** Training of classifier ready. Time elapsed: 70.605ms\n",
      "\n",
      "*** Training of model 'DecisionTreeClassifier' started.\n",
      "*** Training of classifier ready. Time elapsed: 60.735ms\n",
      "\n",
      "*** Training of model 'DecisionTreeClassifier' started.\n",
      "*** Training of classifier ready. Time elapsed: 54.029ms\n",
      "\n",
      "*** Training of model 'DecisionTreeClassifier' started.\n",
      "*** Training of classifier ready. Time elapsed: 47.32ms\n",
      "\n",
      "*** Training of model 'DecisionTreeClassifier' started.\n",
      "*** Training of classifier ready. Time elapsed: 40.153ms\n",
      "\n",
      "*** Training of model 'DecisionTreeClassifier' started.\n",
      "*** Training of classifier ready. Time elapsed: 35.551ms\n",
      "\n",
      "*** Training of model 'DecisionTreeClassifier' started.\n",
      "*** Training of classifier ready. Time elapsed: 100.614ms\n",
      "\n"
     ]
    },
    {
     "name": "stderr",
     "output_type": "stream",
     "text": [
      "Data with input dtype bool, float64 were all converted to float64 by StandardScaler.\n",
      "Data with input dtype bool, float64 were all converted to float64 by StandardScaler.\n",
      "Data with input dtype bool, float64 were all converted to float64 by StandardScaler.\n"
     ]
    },
    {
     "name": "stdout",
     "output_type": "stream",
     "text": [
      "*** Training of model 'DecisionTreeClassifier' started.\n",
      "*** Training of classifier ready. Time elapsed: 73.156ms\n",
      "\n",
      "*** Training of model 'DecisionTreeClassifier' started.\n",
      "*** Training of classifier ready. Time elapsed: 64.542ms\n",
      "\n",
      "*** Training of model 'DecisionTreeClassifier' started.\n",
      "*** Training of classifier ready. Time elapsed: 60.077ms\n",
      "\n",
      "*** Training of model 'DecisionTreeClassifier' started.\n",
      "*** Training of classifier ready. Time elapsed: 50.494ms\n",
      "\n",
      "*** Training of model 'DecisionTreeClassifier' started.\n",
      "*** Training of classifier ready. Time elapsed: 44.202ms\n",
      "\n",
      "*** Training of model 'DecisionTreeClassifier' started.\n",
      "*** Training of classifier ready. Time elapsed: 36.752ms\n",
      "\n",
      "*** Training of model 'DecisionTreeClassifier' started.\n",
      "*** Training of classifier ready. Time elapsed: 100.362ms\n",
      "\n"
     ]
    },
    {
     "name": "stderr",
     "output_type": "stream",
     "text": [
      "Data with input dtype bool, float64 were all converted to float64 by StandardScaler.\n",
      "Data with input dtype bool, float64 were all converted to float64 by StandardScaler.\n",
      "Data with input dtype bool, float64 were all converted to float64 by StandardScaler.\n"
     ]
    },
    {
     "name": "stdout",
     "output_type": "stream",
     "text": [
      "*** Training of model 'DecisionTreeClassifier' started.\n",
      "*** Training of classifier ready. Time elapsed: 70.408ms\n",
      "\n",
      "*** Training of model 'DecisionTreeClassifier' started.\n",
      "*** Training of classifier ready. Time elapsed: 62.244ms\n",
      "\n",
      "*** Training of model 'DecisionTreeClassifier' started.\n",
      "*** Training of classifier ready. Time elapsed: 55.653ms\n",
      "\n",
      "*** Training of model 'DecisionTreeClassifier' started.\n",
      "*** Training of classifier ready. Time elapsed: 48.649ms\n",
      "\n",
      "*** Training of model 'DecisionTreeClassifier' started.\n",
      "*** Training of classifier ready. Time elapsed: 40.194ms\n",
      "\n",
      "*** Training of model 'DecisionTreeClassifier' started.\n",
      "*** Training of classifier ready. Time elapsed: 34.764ms\n",
      "\n",
      "*** Training of model 'DecisionTreeClassifier' started.\n",
      "*** Training of classifier ready. Time elapsed: 35.365ms\n",
      "\n"
     ]
    },
    {
     "name": "stderr",
     "output_type": "stream",
     "text": [
      "Data with input dtype bool, float64 were all converted to float64 by StandardScaler.\n",
      "Data with input dtype bool, float64 were all converted to float64 by StandardScaler.\n",
      "Data with input dtype bool, float64 were all converted to float64 by StandardScaler.\n"
     ]
    },
    {
     "name": "stdout",
     "output_type": "stream",
     "text": [
      "*** Training of model 'DecisionTreeClassifier' started.\n",
      "*** Training of classifier ready. Time elapsed: 69.995ms\n",
      "\n",
      "*** Training of model 'DecisionTreeClassifier' started.\n",
      "*** Training of classifier ready. Time elapsed: 62.962ms\n",
      "\n",
      "*** Training of model 'DecisionTreeClassifier' started.\n",
      "*** Training of classifier ready. Time elapsed: 56.005ms\n",
      "\n",
      "*** Training of model 'DecisionTreeClassifier' started.\n",
      "*** Training of classifier ready. Time elapsed: 49.291ms\n",
      "\n",
      "*** Training of model 'DecisionTreeClassifier' started.\n",
      "*** Training of classifier ready. Time elapsed: 42.687ms\n",
      "\n",
      "*** Training of model 'DecisionTreeClassifier' started.\n",
      "*** Training of classifier ready. Time elapsed: 37.405ms\n",
      "\n",
      "*** Training of model 'DecisionTreeClassifier' started.\n",
      "*** Training of classifier ready. Time elapsed: 36.426ms\n",
      "\n"
     ]
    },
    {
     "name": "stderr",
     "output_type": "stream",
     "text": [
      "Data with input dtype bool, float64 were all converted to float64 by StandardScaler.\n",
      "Data with input dtype bool, float64 were all converted to float64 by StandardScaler.\n",
      "Data with input dtype bool, float64 were all converted to float64 by StandardScaler.\n"
     ]
    },
    {
     "name": "stdout",
     "output_type": "stream",
     "text": [
      "*** Training of model 'DecisionTreeClassifier' started.\n",
      "*** Training of classifier ready. Time elapsed: 74.19ms\n",
      "\n",
      "*** Training of model 'DecisionTreeClassifier' started.\n",
      "*** Training of classifier ready. Time elapsed: 65.435ms\n",
      "\n",
      "*** Training of model 'DecisionTreeClassifier' started.\n",
      "*** Training of classifier ready. Time elapsed: 58.582ms\n",
      "\n",
      "*** Training of model 'DecisionTreeClassifier' started.\n",
      "*** Training of classifier ready. Time elapsed: 53.938ms\n",
      "\n",
      "*** Training of model 'DecisionTreeClassifier' started.\n",
      "*** Training of classifier ready. Time elapsed: 44.156ms\n",
      "\n",
      "*** Training of model 'DecisionTreeClassifier' started.\n",
      "*** Training of classifier ready. Time elapsed: 37.914ms\n",
      "\n",
      "*** Training of model 'DecisionTreeClassifier' started.\n",
      "*** Training of classifier ready. Time elapsed: 37.912ms\n",
      "\n"
     ]
    },
    {
     "name": "stderr",
     "output_type": "stream",
     "text": [
      "Data with input dtype bool, float64 were all converted to float64 by StandardScaler.\n",
      "Data with input dtype bool, float64 were all converted to float64 by StandardScaler.\n",
      "Data with input dtype bool, float64 were all converted to float64 by StandardScaler.\n"
     ]
    },
    {
     "name": "stdout",
     "output_type": "stream",
     "text": [
      "*** Training of model 'DecisionTreeClassifier' started.\n",
      "*** Training of classifier ready. Time elapsed: 71.376ms\n",
      "\n",
      "*** Training of model 'DecisionTreeClassifier' started.\n",
      "*** Training of classifier ready. Time elapsed: 61.662ms\n",
      "\n",
      "*** Training of model 'DecisionTreeClassifier' started.\n",
      "*** Training of classifier ready. Time elapsed: 53.708ms\n",
      "\n",
      "*** Training of model 'DecisionTreeClassifier' started.\n",
      "*** Training of classifier ready. Time elapsed: 48.019ms\n",
      "\n",
      "*** Training of model 'DecisionTreeClassifier' started.\n",
      "*** Training of classifier ready. Time elapsed: 41.05ms\n",
      "\n",
      "*** Training of model 'DecisionTreeClassifier' started.\n",
      "*** Training of classifier ready. Time elapsed: 36.771ms\n",
      "\n",
      "*** Training of model 'DecisionTreeClassifier' started.\n",
      "*** Training of classifier ready. Time elapsed: 34.775ms\n",
      "\n"
     ]
    },
    {
     "name": "stderr",
     "output_type": "stream",
     "text": [
      "Data with input dtype bool, float64 were all converted to float64 by StandardScaler.\n",
      "Data with input dtype bool, float64 were all converted to float64 by StandardScaler.\n",
      "Data with input dtype bool, float64 were all converted to float64 by StandardScaler.\n"
     ]
    },
    {
     "name": "stdout",
     "output_type": "stream",
     "text": [
      "*** Training of model 'DecisionTreeClassifier' started.\n",
      "*** Training of classifier ready. Time elapsed: 72.677ms\n",
      "\n",
      "*** Training of model 'DecisionTreeClassifier' started.\n",
      "*** Training of classifier ready. Time elapsed: 64.237ms\n",
      "\n",
      "*** Training of model 'DecisionTreeClassifier' started.\n",
      "*** Training of classifier ready. Time elapsed: 57.848ms\n",
      "\n",
      "*** Training of model 'DecisionTreeClassifier' started.\n",
      "*** Training of classifier ready. Time elapsed: 50.547ms\n",
      "\n",
      "*** Training of model 'DecisionTreeClassifier' started.\n",
      "*** Training of classifier ready. Time elapsed: 43.618ms\n",
      "\n",
      "*** Training of model 'DecisionTreeClassifier' started.\n",
      "*** Training of classifier ready. Time elapsed: 36.995ms\n",
      "\n",
      "*** Training of model 'DecisionTreeClassifier' started.\n",
      "*** Training of classifier ready. Time elapsed: 36.566ms\n",
      "\n"
     ]
    },
    {
     "name": "stderr",
     "output_type": "stream",
     "text": [
      "Data with input dtype bool, float64 were all converted to float64 by StandardScaler.\n",
      "Data with input dtype bool, float64 were all converted to float64 by StandardScaler.\n",
      "Data with input dtype bool, float64 were all converted to float64 by StandardScaler.\n"
     ]
    },
    {
     "name": "stdout",
     "output_type": "stream",
     "text": [
      "*** Training of model 'LogisticRegression' started.\n",
      "*** Training of classifier ready. Time elapsed: 414.729ms\n",
      "\n",
      "*** Training of model 'LogisticRegression' started.\n",
      "*** Training of classifier ready. Time elapsed: 384.791ms\n",
      "\n",
      "*** Training of model 'LogisticRegression' started.\n",
      "*** Training of classifier ready. Time elapsed: 308.281ms\n",
      "\n",
      "*** Training of model 'LogisticRegression' started.\n",
      "*** Training of classifier ready. Time elapsed: 417.97ms\n",
      "\n",
      "*** Training of model 'LogisticRegression' started.\n",
      "*** Training of classifier ready. Time elapsed: 332.266ms\n",
      "\n",
      "*** Training of model 'LogisticRegression' started.\n",
      "*** Training of classifier ready. Time elapsed: 267.367ms\n",
      "\n",
      "*** Training of model 'LogisticRegression' started.\n",
      "*** Training of classifier ready. Time elapsed: 491.461ms\n",
      "\n"
     ]
    },
    {
     "name": "stderr",
     "output_type": "stream",
     "text": [
      "Data with input dtype bool, float64 were all converted to float64 by StandardScaler.\n",
      "Data with input dtype bool, float64 were all converted to float64 by StandardScaler.\n",
      "Data with input dtype bool, float64 were all converted to float64 by StandardScaler.\n"
     ]
    },
    {
     "name": "stdout",
     "output_type": "stream",
     "text": [
      "*** Training of model 'LogisticRegression' started.\n",
      "*** Training of classifier ready. Time elapsed: 471.72ms\n",
      "\n",
      "*** Training of model 'LogisticRegression' started.\n",
      "*** Training of classifier ready. Time elapsed: 427.322ms\n",
      "\n",
      "*** Training of model 'LogisticRegression' started.\n",
      "*** Training of classifier ready. Time elapsed: 243.683ms\n",
      "\n",
      "*** Training of model 'LogisticRegression' started.\n",
      "*** Training of classifier ready. Time elapsed: 155.133ms\n",
      "\n",
      "*** Training of model 'LogisticRegression' started.\n",
      "*** Training of classifier ready. Time elapsed: 146.231ms\n",
      "\n",
      "*** Training of model 'LogisticRegression' started.\n",
      "*** Training of classifier ready. Time elapsed: 149.711ms\n",
      "\n",
      "*** Training of model 'LogisticRegression' started.\n",
      "*** Training of classifier ready. Time elapsed: 201.72ms\n",
      "\n"
     ]
    },
    {
     "name": "stderr",
     "output_type": "stream",
     "text": [
      "Data with input dtype bool, float64 were all converted to float64 by StandardScaler.\n",
      "Data with input dtype bool, float64 were all converted to float64 by StandardScaler.\n",
      "Data with input dtype bool, float64 were all converted to float64 by StandardScaler.\n"
     ]
    },
    {
     "name": "stdout",
     "output_type": "stream",
     "text": [
      "*** Training of model 'LogisticRegression' started.\n",
      "*** Training of classifier ready. Time elapsed: 281.85ms\n",
      "\n",
      "*** Training of model 'LogisticRegression' started.\n",
      "*** Training of classifier ready. Time elapsed: 281.4ms\n",
      "\n",
      "*** Training of model 'LogisticRegression' started.\n",
      "*** Training of classifier ready. Time elapsed: 661.161ms\n",
      "\n",
      "*** Training of model 'LogisticRegression' started.\n",
      "*** Training of classifier ready. Time elapsed: 657.117ms\n",
      "\n",
      "*** Training of model 'LogisticRegression' started.\n",
      "*** Training of classifier ready. Time elapsed: 524.849ms\n",
      "\n",
      "*** Training of model 'LogisticRegression' started.\n",
      "*** Training of classifier ready. Time elapsed: 650.887ms\n",
      "\n",
      "*** Training of model 'LogisticRegression' started.\n",
      "*** Training of classifier ready. Time elapsed: 560.447ms\n",
      "\n"
     ]
    },
    {
     "name": "stderr",
     "output_type": "stream",
     "text": [
      "Data with input dtype bool, float64 were all converted to float64 by StandardScaler.\n",
      "Data with input dtype bool, float64 were all converted to float64 by StandardScaler.\n",
      "Data with input dtype bool, float64 were all converted to float64 by StandardScaler.\n"
     ]
    },
    {
     "name": "stdout",
     "output_type": "stream",
     "text": [
      "*** Training of model 'LogisticRegression' started.\n",
      "*** Training of classifier ready. Time elapsed: 152.913ms\n",
      "\n",
      "*** Training of model 'LogisticRegression' started.\n",
      "*** Training of classifier ready. Time elapsed: 148.317ms\n",
      "\n",
      "*** Training of model 'LogisticRegression' started.\n",
      "*** Training of classifier ready. Time elapsed: 176.583ms\n",
      "\n",
      "*** Training of model 'LogisticRegression' started.\n",
      "*** Training of classifier ready. Time elapsed: 192.38ms\n",
      "\n",
      "*** Training of model 'LogisticRegression' started.\n",
      "*** Training of classifier ready. Time elapsed: 298.068ms\n",
      "\n",
      "*** Training of model 'LogisticRegression' started.\n",
      "*** Training of classifier ready. Time elapsed: 557.853ms\n",
      "\n",
      "*** Training of model 'LogisticRegression' started.\n",
      "*** Training of classifier ready. Time elapsed: 934.291ms\n",
      "\n"
     ]
    },
    {
     "name": "stderr",
     "output_type": "stream",
     "text": [
      "Data with input dtype bool, float64 were all converted to float64 by StandardScaler.\n",
      "Data with input dtype bool, float64 were all converted to float64 by StandardScaler.\n",
      "Data with input dtype bool, float64 were all converted to float64 by StandardScaler.\n"
     ]
    },
    {
     "name": "stdout",
     "output_type": "stream",
     "text": [
      "*** Training of model 'LogisticRegression' started.\n",
      "*** Training of classifier ready. Time elapsed: 497.226ms\n",
      "\n",
      "*** Training of model 'LogisticRegression' started.\n",
      "*** Training of classifier ready. Time elapsed: 824.415ms\n",
      "\n",
      "*** Training of model 'LogisticRegression' started.\n",
      "*** Training of classifier ready. Time elapsed: 23.954ms\n",
      "\n",
      "*** Training of model 'LogisticRegression' started.\n",
      "*** Training of classifier ready. Time elapsed: 298.152ms\n",
      "\n",
      "*** Training of model 'LogisticRegression' started.\n",
      "*** Training of classifier ready. Time elapsed: 389.796ms\n",
      "\n",
      "*** Training of model 'LogisticRegression' started.\n",
      "*** Training of classifier ready. Time elapsed: 226.19ms\n",
      "\n",
      "*** Training of model 'LogisticRegression' started.\n",
      "*** Training of classifier ready. Time elapsed: 388.735ms\n",
      "\n"
     ]
    },
    {
     "name": "stderr",
     "output_type": "stream",
     "text": [
      "Data with input dtype bool, float64 were all converted to float64 by StandardScaler.\n",
      "Data with input dtype bool, float64 were all converted to float64 by StandardScaler.\n",
      "Data with input dtype bool, float64 were all converted to float64 by StandardScaler.\n"
     ]
    },
    {
     "name": "stdout",
     "output_type": "stream",
     "text": [
      "*** Training of model 'LogisticRegression' started.\n",
      "*** Training of classifier ready. Time elapsed: 453.258ms\n",
      "\n",
      "*** Training of model 'LogisticRegression' started.\n",
      "*** Training of classifier ready. Time elapsed: 378.814ms\n",
      "\n",
      "*** Training of model 'LogisticRegression' started.\n",
      "*** Training of classifier ready. Time elapsed: 391.347ms\n",
      "\n",
      "*** Training of model 'LogisticRegression' started.\n",
      "*** Training of classifier ready. Time elapsed: 297.74ms\n",
      "\n",
      "*** Training of model 'LogisticRegression' started.\n",
      "*** Training of classifier ready. Time elapsed: 154.863ms\n",
      "\n",
      "*** Training of model 'LogisticRegression' started.\n",
      "*** Training of classifier ready. Time elapsed: 309.721ms\n",
      "\n",
      "*** Training of model 'LogisticRegression' started.\n",
      "*** Training of classifier ready. Time elapsed: 262.651ms\n",
      "\n"
     ]
    },
    {
     "name": "stderr",
     "output_type": "stream",
     "text": [
      "Data with input dtype bool, float64 were all converted to float64 by StandardScaler.\n",
      "Data with input dtype bool, float64 were all converted to float64 by StandardScaler.\n",
      "Data with input dtype bool, float64 were all converted to float64 by StandardScaler.\n"
     ]
    },
    {
     "name": "stdout",
     "output_type": "stream",
     "text": [
      "*** Training of model 'LogisticRegression' started.\n",
      "*** Training of classifier ready. Time elapsed: 378.82ms\n",
      "\n",
      "*** Training of model 'LogisticRegression' started.\n",
      "*** Training of classifier ready. Time elapsed: 373.935ms\n",
      "\n",
      "*** Training of model 'LogisticRegression' started.\n",
      "*** Training of classifier ready. Time elapsed: 536.928ms\n",
      "\n",
      "*** Training of model 'LogisticRegression' started.\n",
      "*** Training of classifier ready. Time elapsed: 421.519ms\n",
      "\n",
      "*** Training of model 'LogisticRegression' started.\n",
      "*** Training of classifier ready. Time elapsed: 541.338ms\n",
      "\n",
      "*** Training of model 'LogisticRegression' started.\n",
      "*** Training of classifier ready. Time elapsed: 497.037ms\n",
      "\n",
      "*** Training of model 'LogisticRegression' started.\n",
      "*** Training of classifier ready. Time elapsed: 288.356ms\n",
      "\n"
     ]
    },
    {
     "name": "stderr",
     "output_type": "stream",
     "text": [
      "Data with input dtype bool, float64 were all converted to float64 by StandardScaler.\n",
      "Data with input dtype bool, float64 were all converted to float64 by StandardScaler.\n",
      "Data with input dtype bool, float64 were all converted to float64 by StandardScaler.\n"
     ]
    },
    {
     "name": "stdout",
     "output_type": "stream",
     "text": [
      "*** Training of model 'LogisticRegression' started.\n",
      "*** Training of classifier ready. Time elapsed: 198.601ms\n",
      "\n",
      "*** Training of model 'LogisticRegression' started.\n",
      "*** Training of classifier ready. Time elapsed: 181.695ms\n",
      "\n",
      "*** Training of model 'LogisticRegression' started.\n",
      "*** Training of classifier ready. Time elapsed: 251.956ms\n",
      "\n",
      "*** Training of model 'LogisticRegression' started.\n",
      "*** Training of classifier ready. Time elapsed: 176.886ms\n",
      "\n",
      "*** Training of model 'LogisticRegression' started.\n",
      "*** Training of classifier ready. Time elapsed: 148.923ms\n",
      "\n",
      "*** Training of model 'LogisticRegression' started.\n",
      "*** Training of classifier ready. Time elapsed: 141.413ms\n",
      "\n",
      "*** Training of model 'LogisticRegression' started.\n",
      "*** Training of classifier ready. Time elapsed: 40.681ms\n",
      "\n"
     ]
    },
    {
     "name": "stderr",
     "output_type": "stream",
     "text": [
      "Data with input dtype bool, float64 were all converted to float64 by StandardScaler.\n",
      "Data with input dtype bool, float64 were all converted to float64 by StandardScaler.\n",
      "Data with input dtype bool, float64 were all converted to float64 by StandardScaler.\n"
     ]
    },
    {
     "name": "stdout",
     "output_type": "stream",
     "text": [
      "*** Training of model 'LogisticRegression' started.\n",
      "*** Training of classifier ready. Time elapsed: 271.656ms\n",
      "\n",
      "*** Training of model 'LogisticRegression' started.\n",
      "*** Training of classifier ready. Time elapsed: 222.134ms\n",
      "\n",
      "*** Training of model 'LogisticRegression' started.\n",
      "*** Training of classifier ready. Time elapsed: 180.602ms\n",
      "\n",
      "*** Training of model 'LogisticRegression' started.\n",
      "*** Training of classifier ready. Time elapsed: 592.195ms\n",
      "\n",
      "*** Training of model 'LogisticRegression' started.\n",
      "*** Training of classifier ready. Time elapsed: 684.306ms\n",
      "\n",
      "*** Training of model 'LogisticRegression' started.\n",
      "*** Training of classifier ready. Time elapsed: 251.44ms\n",
      "\n",
      "*** Training of model 'LogisticRegression' started.\n",
      "*** Training of classifier ready. Time elapsed: 54.756ms\n",
      "\n"
     ]
    },
    {
     "name": "stderr",
     "output_type": "stream",
     "text": [
      "Data with input dtype bool, float64 were all converted to float64 by StandardScaler.\n",
      "Data with input dtype bool, float64 were all converted to float64 by StandardScaler.\n",
      "Data with input dtype bool, float64 were all converted to float64 by StandardScaler.\n"
     ]
    },
    {
     "name": "stdout",
     "output_type": "stream",
     "text": [
      "*** Training of model 'LogisticRegression' started.\n",
      "*** Training of classifier ready. Time elapsed: 407.122ms\n",
      "\n",
      "*** Training of model 'LogisticRegression' started.\n",
      "*** Training of classifier ready. Time elapsed: 340.944ms\n",
      "\n",
      "*** Training of model 'LogisticRegression' started.\n",
      "*** Training of classifier ready. Time elapsed: 558.482ms\n",
      "\n",
      "*** Training of model 'LogisticRegression' started.\n",
      "*** Training of classifier ready. Time elapsed: 457.462ms\n",
      "\n",
      "*** Training of model 'LogisticRegression' started.\n",
      "*** Training of classifier ready. Time elapsed: 375.884ms\n",
      "\n",
      "*** Training of model 'LogisticRegression' started.\n",
      "*** Training of classifier ready. Time elapsed: 396.373ms\n",
      "\n",
      "*** Training of model 'LogisticRegression' started.\n",
      "*** Training of classifier ready. Time elapsed: 92.433ms\n",
      "\n"
     ]
    },
    {
     "name": "stderr",
     "output_type": "stream",
     "text": [
      "Data with input dtype bool, float64 were all converted to float64 by StandardScaler.\n",
      "Data with input dtype bool, float64 were all converted to float64 by StandardScaler.\n",
      "Data with input dtype bool, float64 were all converted to float64 by StandardScaler.\n"
     ]
    },
    {
     "name": "stdout",
     "output_type": "stream",
     "text": [
      "*** Training of model 'LogisticRegression' started.\n",
      "*** Training of classifier ready. Time elapsed: 505.763ms\n",
      "\n",
      "*** Training of model 'LogisticRegression' started.\n",
      "*** Training of classifier ready. Time elapsed: 415.124ms\n",
      "\n",
      "*** Training of model 'LogisticRegression' started.\n",
      "*** Training of classifier ready. Time elapsed: 628.295ms\n",
      "\n",
      "*** Training of model 'LogisticRegression' started.\n",
      "*** Training of classifier ready. Time elapsed: 697.007ms\n",
      "\n",
      "*** Training of model 'LogisticRegression' started.\n",
      "*** Training of classifier ready. Time elapsed: 878.242ms\n",
      "\n",
      "*** Training of model 'LogisticRegression' started.\n",
      "*** Training of classifier ready. Time elapsed: 323.219ms\n",
      "\n",
      "*** Training of model 'LogisticRegression' started.\n",
      "*** Training of classifier ready. Time elapsed: 465.028ms\n",
      "\n"
     ]
    },
    {
     "name": "stderr",
     "output_type": "stream",
     "text": [
      "Data with input dtype bool, float64 were all converted to float64 by StandardScaler.\n",
      "Data with input dtype bool, float64 were all converted to float64 by StandardScaler.\n",
      "Data with input dtype bool, float64 were all converted to float64 by StandardScaler.\n"
     ]
    },
    {
     "name": "stdout",
     "output_type": "stream",
     "text": [
      "*** Training of model 'LogisticRegression' started.\n",
      "*** Training of classifier ready. Time elapsed: 351.507ms\n",
      "\n",
      "*** Training of model 'LogisticRegression' started.\n",
      "*** Training of classifier ready. Time elapsed: 579.764ms\n",
      "\n",
      "*** Training of model 'LogisticRegression' started.\n",
      "*** Training of classifier ready. Time elapsed: 237.068ms\n",
      "\n",
      "*** Training of model 'LogisticRegression' started.\n",
      "*** Training of classifier ready. Time elapsed: 214.311ms\n",
      "\n",
      "*** Training of model 'LogisticRegression' started.\n",
      "*** Training of classifier ready. Time elapsed: 163.757ms\n",
      "\n",
      "*** Training of model 'LogisticRegression' started.\n",
      "*** Training of classifier ready. Time elapsed: 252.835ms\n",
      "\n",
      "*** Training of model 'LogisticRegression' started.\n",
      "*** Training of classifier ready. Time elapsed: 228.318ms\n",
      "\n"
     ]
    },
    {
     "name": "stderr",
     "output_type": "stream",
     "text": [
      "Data with input dtype bool, float64 were all converted to float64 by StandardScaler.\n",
      "Data with input dtype bool, float64 were all converted to float64 by StandardScaler.\n",
      "Data with input dtype bool, float64 were all converted to float64 by StandardScaler.\n"
     ]
    },
    {
     "name": "stdout",
     "output_type": "stream",
     "text": [
      "*** Training of model 'LogisticRegression' started.\n",
      "*** Training of classifier ready. Time elapsed: 440.049ms\n",
      "\n",
      "*** Training of model 'LogisticRegression' started.\n",
      "*** Training of classifier ready. Time elapsed: 393.981ms\n",
      "\n",
      "*** Training of model 'LogisticRegression' started.\n",
      "*** Training of classifier ready. Time elapsed: 353.745ms\n",
      "\n",
      "*** Training of model 'LogisticRegression' started.\n",
      "*** Training of classifier ready. Time elapsed: 288.079ms\n",
      "\n",
      "*** Training of model 'LogisticRegression' started.\n",
      "*** Training of classifier ready. Time elapsed: 260.981ms\n",
      "\n",
      "*** Training of model 'LogisticRegression' started.\n",
      "*** Training of classifier ready. Time elapsed: 127.233ms\n",
      "\n",
      "*** Training of model 'LogisticRegression' started.\n",
      "*** Training of classifier ready. Time elapsed: 143.891ms\n",
      "\n"
     ]
    },
    {
     "name": "stderr",
     "output_type": "stream",
     "text": [
      "Data with input dtype bool, float64 were all converted to float64 by StandardScaler.\n",
      "Data with input dtype bool, float64 were all converted to float64 by StandardScaler.\n",
      "Data with input dtype bool, float64 were all converted to float64 by StandardScaler.\n"
     ]
    },
    {
     "name": "stdout",
     "output_type": "stream",
     "text": [
      "*** Training of model 'LogisticRegression' started.\n",
      "*** Training of classifier ready. Time elapsed: 290.534ms\n",
      "\n",
      "*** Training of model 'LogisticRegression' started.\n",
      "*** Training of classifier ready. Time elapsed: 217.878ms\n",
      "\n",
      "*** Training of model 'LogisticRegression' started.\n",
      "*** Training of classifier ready. Time elapsed: 166.359ms\n",
      "\n",
      "*** Training of model 'LogisticRegression' started.\n",
      "*** Training of classifier ready. Time elapsed: 176.281ms\n",
      "\n",
      "*** Training of model 'LogisticRegression' started.\n",
      "*** Training of classifier ready. Time elapsed: 181.06ms\n",
      "\n",
      "*** Training of model 'LogisticRegression' started.\n",
      "*** Training of classifier ready. Time elapsed: 157.559ms\n",
      "\n",
      "*** Training of model 'LogisticRegression' started.\n",
      "*** Training of classifier ready. Time elapsed: 510.917ms\n",
      "\n"
     ]
    },
    {
     "name": "stderr",
     "output_type": "stream",
     "text": [
      "Data with input dtype bool, float64 were all converted to float64 by StandardScaler.\n",
      "Data with input dtype bool, float64 were all converted to float64 by StandardScaler.\n",
      "Data with input dtype bool, float64 were all converted to float64 by StandardScaler.\n"
     ]
    },
    {
     "name": "stdout",
     "output_type": "stream",
     "text": [
      "*** Training of model 'LogisticRegression' started.\n",
      "*** Training of classifier ready. Time elapsed: 588.158ms\n",
      "\n",
      "*** Training of model 'LogisticRegression' started.\n",
      "*** Training of classifier ready. Time elapsed: 610.774ms\n",
      "\n",
      "*** Training of model 'LogisticRegression' started.\n",
      "*** Training of classifier ready. Time elapsed: 320.144ms\n",
      "\n",
      "*** Training of model 'LogisticRegression' started.\n",
      "*** Training of classifier ready. Time elapsed: 359.151ms\n",
      "\n",
      "*** Training of model 'LogisticRegression' started.\n",
      "*** Training of classifier ready. Time elapsed: 338.87ms\n",
      "\n",
      "*** Training of model 'LogisticRegression' started.\n",
      "*** Training of classifier ready. Time elapsed: 239.657ms\n",
      "\n",
      "*** Training of model 'LogisticRegression' started.\n",
      "*** Training of classifier ready. Time elapsed: 511.593ms\n",
      "\n"
     ]
    },
    {
     "name": "stderr",
     "output_type": "stream",
     "text": [
      "Data with input dtype bool, float64 were all converted to float64 by StandardScaler.\n",
      "Data with input dtype bool, float64 were all converted to float64 by StandardScaler.\n",
      "Data with input dtype bool, float64 were all converted to float64 by StandardScaler.\n"
     ]
    },
    {
     "name": "stdout",
     "output_type": "stream",
     "text": [
      "*** Training of model 'LogisticRegression' started.\n",
      "*** Training of classifier ready. Time elapsed: 247.207ms\n",
      "\n",
      "*** Training of model 'LogisticRegression' started.\n",
      "*** Training of classifier ready. Time elapsed: 705.887ms\n",
      "\n",
      "*** Training of model 'LogisticRegression' started.\n",
      "*** Training of classifier ready. Time elapsed: 789.36ms\n",
      "\n",
      "*** Training of model 'LogisticRegression' started.\n",
      "*** Training of classifier ready. Time elapsed: 229.989ms\n",
      "\n",
      "*** Training of model 'LogisticRegression' started.\n",
      "*** Training of classifier ready. Time elapsed: 454.71ms\n",
      "\n",
      "*** Training of model 'LogisticRegression' started.\n",
      "*** Training of classifier ready. Time elapsed: 438.6ms\n",
      "\n",
      "*** Training of model 'LogisticRegression' started.\n",
      "*** Training of classifier ready. Time elapsed: 514.548ms\n",
      "\n"
     ]
    },
    {
     "name": "stderr",
     "output_type": "stream",
     "text": [
      "Data with input dtype bool, float64 were all converted to float64 by StandardScaler.\n",
      "Data with input dtype bool, float64 were all converted to float64 by StandardScaler.\n",
      "Data with input dtype bool, float64 were all converted to float64 by StandardScaler.\n"
     ]
    },
    {
     "name": "stdout",
     "output_type": "stream",
     "text": [
      "*** Training of model 'LogisticRegression' started.\n",
      "*** Training of classifier ready. Time elapsed: 227.733ms\n",
      "\n",
      "*** Training of model 'LogisticRegression' started.\n",
      "*** Training of classifier ready. Time elapsed: 179.525ms\n",
      "\n",
      "*** Training of model 'LogisticRegression' started.\n",
      "*** Training of classifier ready. Time elapsed: 243.967ms\n",
      "\n",
      "*** Training of model 'LogisticRegression' started.\n",
      "*** Training of classifier ready. Time elapsed: 374.785ms\n",
      "\n",
      "*** Training of model 'LogisticRegression' started.\n",
      "*** Training of classifier ready. Time elapsed: 372.456ms\n",
      "\n",
      "*** Training of model 'LogisticRegression' started.\n",
      "*** Training of classifier ready. Time elapsed: 405.13ms\n",
      "\n",
      "*** Training of model 'LogisticRegression' started.\n",
      "*** Training of classifier ready. Time elapsed: 446.569ms\n",
      "\n"
     ]
    },
    {
     "name": "stderr",
     "output_type": "stream",
     "text": [
      "Data with input dtype bool, float64 were all converted to float64 by StandardScaler.\n",
      "Data with input dtype bool, float64 were all converted to float64 by StandardScaler.\n",
      "Data with input dtype bool, float64 were all converted to float64 by StandardScaler.\n"
     ]
    },
    {
     "name": "stdout",
     "output_type": "stream",
     "text": [
      "*** Training of model 'LogisticRegression' started.\n",
      "*** Training of classifier ready. Time elapsed: 384.762ms\n",
      "\n",
      "*** Training of model 'LogisticRegression' started.\n",
      "*** Training of classifier ready. Time elapsed: 391.502ms\n",
      "\n",
      "*** Training of model 'LogisticRegression' started.\n",
      "*** Training of classifier ready. Time elapsed: 365.581ms\n",
      "\n",
      "*** Training of model 'LogisticRegression' started.\n",
      "*** Training of classifier ready. Time elapsed: 183.302ms\n",
      "\n",
      "*** Training of model 'LogisticRegression' started.\n",
      "*** Training of classifier ready. Time elapsed: 145.1ms\n",
      "\n",
      "*** Training of model 'LogisticRegression' started.\n",
      "*** Training of classifier ready. Time elapsed: 158.63ms\n",
      "\n",
      "*** Training of model 'LogisticRegression' started.\n",
      "*** Training of classifier ready. Time elapsed: 165.591ms\n",
      "\n"
     ]
    },
    {
     "name": "stderr",
     "output_type": "stream",
     "text": [
      "Data with input dtype bool, float64 were all converted to float64 by StandardScaler.\n",
      "Data with input dtype bool, float64 were all converted to float64 by StandardScaler.\n",
      "Data with input dtype bool, float64 were all converted to float64 by StandardScaler.\n"
     ]
    },
    {
     "name": "stdout",
     "output_type": "stream",
     "text": [
      "*** Training of model 'LogisticRegression' started.\n",
      "*** Training of classifier ready. Time elapsed: 223.904ms\n",
      "\n",
      "*** Training of model 'LogisticRegression' started.\n",
      "*** Training of classifier ready. Time elapsed: 209.822ms\n",
      "\n",
      "*** Training of model 'LogisticRegression' started.\n",
      "*** Training of classifier ready. Time elapsed: 175.845ms\n",
      "\n",
      "*** Training of model 'LogisticRegression' started.\n",
      "*** Training of classifier ready. Time elapsed: 298.976ms\n",
      "\n",
      "*** Training of model 'LogisticRegression' started.\n",
      "*** Training of classifier ready. Time elapsed: 282.894ms\n",
      "\n",
      "*** Training of model 'LogisticRegression' started.\n",
      "*** Training of classifier ready. Time elapsed: 256.361ms\n",
      "\n",
      "*** Training of model 'LogisticRegression' started.\n",
      "*** Training of classifier ready. Time elapsed: 276.063ms\n",
      "\n"
     ]
    },
    {
     "name": "stderr",
     "output_type": "stream",
     "text": [
      "Data with input dtype bool, float64 were all converted to float64 by StandardScaler.\n",
      "Data with input dtype bool, float64 were all converted to float64 by StandardScaler.\n",
      "Data with input dtype bool, float64 were all converted to float64 by StandardScaler.\n"
     ]
    },
    {
     "name": "stdout",
     "output_type": "stream",
     "text": [
      "*** Training of model 'LogisticRegression' started.\n",
      "*** Training of classifier ready. Time elapsed: 192.764ms\n",
      "\n",
      "*** Training of model 'LogisticRegression' started.\n",
      "*** Training of classifier ready. Time elapsed: 197.409ms\n",
      "\n",
      "*** Training of model 'LogisticRegression' started.\n",
      "*** Training of classifier ready. Time elapsed: 175.961ms\n",
      "\n",
      "*** Training of model 'LogisticRegression' started.\n",
      "*** Training of classifier ready. Time elapsed: 143.554ms\n",
      "\n",
      "*** Training of model 'LogisticRegression' started.\n",
      "*** Training of classifier ready. Time elapsed: 121.917ms\n",
      "\n",
      "*** Training of model 'LogisticRegression' started.\n",
      "*** Training of classifier ready. Time elapsed: 116.494ms\n",
      "\n",
      "*** Training of model 'LogisticRegression' started.\n",
      "*** Training of classifier ready. Time elapsed: 108.565ms\n",
      "\n"
     ]
    },
    {
     "name": "stderr",
     "output_type": "stream",
     "text": [
      "Columns (11,18,19,20,24,35,64,83,90,92,94,96,97,106,114,117,120,125,126,133,136,140,141,142,143,144,150,178,235,244,248,288,311,317,320,325,326,330,334,341,353,359,360,361,365,402,421,425,430,434,436,439,446) have mixed types. Specify dtype option on import or set low_memory=False.\n"
     ]
    },
    {
     "name": "stdout",
     "output_type": "stream",
     "text": [
      "Fetching data for <fiber.condition.mrns.MRNs object at 0x7f6e3562acf8>\n",
      "Fetching data for Patient (...)\n"
     ]
    },
    {
     "name": "stderr",
     "output_type": "stream",
     "text": [
      "Data with input dtype bool, float64 were all converted to float64 by StandardScaler.\n",
      "Data with input dtype bool, float64 were all converted to float64 by StandardScaler.\n",
      "Data with input dtype bool, float64 were all converted to float64 by StandardScaler.\n"
     ]
    },
    {
     "name": "stdout",
     "output_type": "stream",
     "text": [
      "*** Training of model 'GradientBoostingClassifier' started.\n",
      "*** Training of classifier ready. Time elapsed: 37.105ms\n",
      "\n",
      "*** Training of model 'GradientBoostingClassifier' started.\n",
      "*** Training of classifier ready. Time elapsed: 685.385ms\n",
      "\n",
      "*** Training of model 'GradientBoostingClassifier' started.\n",
      "*** Training of classifier ready. Time elapsed: 330.75ms\n",
      "\n",
      "*** Training of model 'GradientBoostingClassifier' started.\n",
      "*** Training of classifier ready. Time elapsed: 129.721ms\n",
      "\n",
      "*** Training of model 'GradientBoostingClassifier' started.\n",
      "*** Training of classifier ready. Time elapsed: 833.472ms\n",
      "\n",
      "*** Training of model 'GradientBoostingClassifier' started.\n",
      "*** Training of classifier ready. Time elapsed: 591.302ms\n",
      "\n",
      "*** Training of model 'GradientBoostingClassifier' started.\n",
      "*** Training of classifier ready. Time elapsed: 82.511ms\n",
      "\n"
     ]
    },
    {
     "name": "stderr",
     "output_type": "stream",
     "text": [
      "Data with input dtype bool, float64 were all converted to float64 by StandardScaler.\n",
      "Data with input dtype bool, float64 were all converted to float64 by StandardScaler.\n",
      "Data with input dtype bool, float64 were all converted to float64 by StandardScaler.\n"
     ]
    },
    {
     "name": "stdout",
     "output_type": "stream",
     "text": [
      "*** Training of model 'GradientBoostingClassifier' started.\n",
      "*** Training of classifier ready. Time elapsed: 869.825ms\n",
      "\n",
      "*** Training of model 'GradientBoostingClassifier' started.\n",
      "*** Training of classifier ready. Time elapsed: 541.598ms\n",
      "\n",
      "*** Training of model 'GradientBoostingClassifier' started.\n",
      "*** Training of classifier ready. Time elapsed: 282.049ms\n",
      "\n",
      "*** Training of model 'GradientBoostingClassifier' started.\n",
      "*** Training of classifier ready. Time elapsed: 17.92ms\n",
      "\n",
      "*** Training of model 'GradientBoostingClassifier' started.\n",
      "*** Training of classifier ready. Time elapsed: 771.524ms\n",
      "\n",
      "*** Training of model 'GradientBoostingClassifier' started.\n",
      "*** Training of classifier ready. Time elapsed: 516.862ms\n",
      "\n",
      "*** Training of model 'GradientBoostingClassifier' started.\n",
      "*** Training of classifier ready. Time elapsed: 985.864ms\n",
      "\n"
     ]
    },
    {
     "name": "stderr",
     "output_type": "stream",
     "text": [
      "F-score is ill-defined and being set to 0.0 due to no predicted samples.\n",
      "Precision is ill-defined and being set to 0.0 due to no predicted samples.\n",
      "invalid value encountered in long_scalars\n",
      "Data with input dtype bool, float64 were all converted to float64 by StandardScaler.\n",
      "Data with input dtype bool, float64 were all converted to float64 by StandardScaler.\n",
      "Data with input dtype bool, float64 were all converted to float64 by StandardScaler.\n"
     ]
    },
    {
     "name": "stdout",
     "output_type": "stream",
     "text": [
      "*** Training of model 'GradientBoostingClassifier' started.\n",
      "*** Training of classifier ready. Time elapsed: 891.268ms\n",
      "\n",
      "*** Training of model 'GradientBoostingClassifier' started.\n",
      "*** Training of classifier ready. Time elapsed: 288.153ms\n",
      "\n",
      "*** Training of model 'GradientBoostingClassifier' started.\n",
      "*** Training of classifier ready. Time elapsed: 860.473ms\n",
      "\n",
      "*** Training of model 'GradientBoostingClassifier' started.\n",
      "*** Training of classifier ready. Time elapsed: 96.898ms\n",
      "\n",
      "*** Training of model 'GradientBoostingClassifier' started.\n",
      "*** Training of classifier ready. Time elapsed: 301.196ms\n",
      "\n",
      "*** Training of model 'GradientBoostingClassifier' started.\n",
      "*** Training of classifier ready. Time elapsed: 680.709ms\n",
      "\n",
      "*** Training of model 'GradientBoostingClassifier' started.\n",
      "*** Training of classifier ready. Time elapsed: 208.42ms\n",
      "\n"
     ]
    },
    {
     "name": "stderr",
     "output_type": "stream",
     "text": [
      "Data with input dtype bool, float64 were all converted to float64 by StandardScaler.\n",
      "Data with input dtype bool, float64 were all converted to float64 by StandardScaler.\n",
      "Data with input dtype bool, float64 were all converted to float64 by StandardScaler.\n"
     ]
    },
    {
     "name": "stdout",
     "output_type": "stream",
     "text": [
      "*** Training of model 'GradientBoostingClassifier' started.\n",
      "*** Training of classifier ready. Time elapsed: 572.771ms\n",
      "\n",
      "*** Training of model 'GradientBoostingClassifier' started.\n",
      "*** Training of classifier ready. Time elapsed: 34.523ms\n",
      "\n",
      "*** Training of model 'GradientBoostingClassifier' started.\n",
      "*** Training of classifier ready. Time elapsed: 565.048ms\n",
      "\n",
      "*** Training of model 'GradientBoostingClassifier' started.\n",
      "*** Training of classifier ready. Time elapsed: 766.74ms\n",
      "\n",
      "*** Training of model 'GradientBoostingClassifier' started.\n",
      "*** Training of classifier ready. Time elapsed: 891.02ms\n",
      "\n",
      "*** Training of model 'GradientBoostingClassifier' started.\n",
      "*** Training of classifier ready. Time elapsed: 137.189ms\n",
      "\n",
      "*** Training of model 'GradientBoostingClassifier' started.\n",
      "*** Training of classifier ready. Time elapsed: 362.624ms\n",
      "\n"
     ]
    },
    {
     "name": "stderr",
     "output_type": "stream",
     "text": [
      "F-score is ill-defined and being set to 0.0 due to no predicted samples.\n",
      "Precision is ill-defined and being set to 0.0 due to no predicted samples.\n",
      "invalid value encountered in long_scalars\n",
      "Data with input dtype bool, float64 were all converted to float64 by StandardScaler.\n",
      "Data with input dtype bool, float64 were all converted to float64 by StandardScaler.\n",
      "Data with input dtype bool, float64 were all converted to float64 by StandardScaler.\n"
     ]
    },
    {
     "name": "stdout",
     "output_type": "stream",
     "text": [
      "*** Training of model 'GradientBoostingClassifier' started.\n",
      "*** Training of classifier ready. Time elapsed: 614.056ms\n",
      "\n",
      "*** Training of model 'GradientBoostingClassifier' started.\n",
      "*** Training of classifier ready. Time elapsed: 906.859ms\n",
      "\n",
      "*** Training of model 'GradientBoostingClassifier' started.\n",
      "*** Training of classifier ready. Time elapsed: 205.067ms\n",
      "\n",
      "*** Training of model 'GradientBoostingClassifier' started.\n",
      "*** Training of classifier ready. Time elapsed: 354.91ms\n",
      "\n",
      "*** Training of model 'GradientBoostingClassifier' started.\n",
      "*** Training of classifier ready. Time elapsed: 316.77ms\n",
      "\n",
      "*** Training of model 'GradientBoostingClassifier' started.\n",
      "*** Training of classifier ready. Time elapsed: 150.206ms\n",
      "\n",
      "*** Training of model 'GradientBoostingClassifier' started.\n",
      "*** Training of classifier ready. Time elapsed: 581.777ms\n",
      "\n"
     ]
    },
    {
     "name": "stderr",
     "output_type": "stream",
     "text": [
      "Data with input dtype bool, float64 were all converted to float64 by StandardScaler.\n",
      "Data with input dtype bool, float64 were all converted to float64 by StandardScaler.\n",
      "Data with input dtype bool, float64 were all converted to float64 by StandardScaler.\n"
     ]
    },
    {
     "name": "stdout",
     "output_type": "stream",
     "text": [
      "*** Training of model 'GradientBoostingClassifier' started.\n",
      "*** Training of classifier ready. Time elapsed: 950.104ms\n",
      "\n",
      "*** Training of model 'GradientBoostingClassifier' started.\n",
      "*** Training of classifier ready. Time elapsed: 937.178ms\n",
      "\n",
      "*** Training of model 'GradientBoostingClassifier' started.\n",
      "*** Training of classifier ready. Time elapsed: 587.465ms\n",
      "\n",
      "*** Training of model 'GradientBoostingClassifier' started.\n",
      "*** Training of classifier ready. Time elapsed: 331.623ms\n",
      "\n",
      "*** Training of model 'GradientBoostingClassifier' started.\n",
      "*** Training of classifier ready. Time elapsed: 678.811ms\n",
      "\n",
      "*** Training of model 'GradientBoostingClassifier' started.\n",
      "*** Training of classifier ready. Time elapsed: 903.969ms\n",
      "\n",
      "*** Training of model 'GradientBoostingClassifier' started.\n",
      "*** Training of classifier ready. Time elapsed: 356.188ms\n",
      "\n"
     ]
    },
    {
     "name": "stderr",
     "output_type": "stream",
     "text": [
      "Data with input dtype bool, float64 were all converted to float64 by StandardScaler.\n",
      "Data with input dtype bool, float64 were all converted to float64 by StandardScaler.\n",
      "Data with input dtype bool, float64 were all converted to float64 by StandardScaler.\n"
     ]
    },
    {
     "name": "stdout",
     "output_type": "stream",
     "text": [
      "*** Training of model 'GradientBoostingClassifier' started.\n",
      "*** Training of classifier ready. Time elapsed: 294.156ms\n",
      "\n",
      "*** Training of model 'GradientBoostingClassifier' started.\n",
      "*** Training of classifier ready. Time elapsed: 728.953ms\n",
      "\n",
      "*** Training of model 'GradientBoostingClassifier' started.\n",
      "*** Training of classifier ready. Time elapsed: 476.004ms\n",
      "\n",
      "*** Training of model 'GradientBoostingClassifier' started.\n",
      "*** Training of classifier ready. Time elapsed: 440.613ms\n",
      "\n",
      "*** Training of model 'GradientBoostingClassifier' started.\n",
      "*** Training of classifier ready. Time elapsed: 884.838ms\n",
      "\n",
      "*** Training of model 'GradientBoostingClassifier' started.\n",
      "*** Training of classifier ready. Time elapsed: 581.538ms\n",
      "\n",
      "*** Training of model 'GradientBoostingClassifier' started.\n",
      "*** Training of classifier ready. Time elapsed: 348.736ms\n",
      "\n"
     ]
    },
    {
     "name": "stderr",
     "output_type": "stream",
     "text": [
      "Data with input dtype bool, float64 were all converted to float64 by StandardScaler.\n",
      "Data with input dtype bool, float64 were all converted to float64 by StandardScaler.\n",
      "Data with input dtype bool, float64 were all converted to float64 by StandardScaler.\n"
     ]
    },
    {
     "name": "stdout",
     "output_type": "stream",
     "text": [
      "*** Training of model 'GradientBoostingClassifier' started.\n",
      "*** Training of classifier ready. Time elapsed: 948.62ms\n",
      "\n",
      "*** Training of model 'GradientBoostingClassifier' started.\n",
      "*** Training of classifier ready. Time elapsed: 690.034ms\n",
      "\n",
      "*** Training of model 'GradientBoostingClassifier' started.\n",
      "*** Training of classifier ready. Time elapsed: 344.511ms\n",
      "\n",
      "*** Training of model 'GradientBoostingClassifier' started.\n",
      "*** Training of classifier ready. Time elapsed: 185.321ms\n",
      "\n",
      "*** Training of model 'GradientBoostingClassifier' started.\n",
      "*** Training of classifier ready. Time elapsed: 875.852ms\n",
      "\n",
      "*** Training of model 'GradientBoostingClassifier' started.\n",
      "*** Training of classifier ready. Time elapsed: 620.557ms\n",
      "\n",
      "*** Training of model 'GradientBoostingClassifier' started.\n",
      "*** Training of classifier ready. Time elapsed: 359.647ms\n",
      "\n"
     ]
    },
    {
     "name": "stderr",
     "output_type": "stream",
     "text": [
      "Data with input dtype bool, float64 were all converted to float64 by StandardScaler.\n",
      "Data with input dtype bool, float64 were all converted to float64 by StandardScaler.\n",
      "Data with input dtype bool, float64 were all converted to float64 by StandardScaler.\n"
     ]
    },
    {
     "name": "stdout",
     "output_type": "stream",
     "text": [
      "*** Training of model 'GradientBoostingClassifier' started.\n",
      "*** Training of classifier ready. Time elapsed: 29.528ms\n",
      "\n",
      "*** Training of model 'GradientBoostingClassifier' started.\n",
      "*** Training of classifier ready. Time elapsed: 742.761ms\n",
      "\n",
      "*** Training of model 'GradientBoostingClassifier' started.\n",
      "*** Training of classifier ready. Time elapsed: 405.744ms\n",
      "\n",
      "*** Training of model 'GradientBoostingClassifier' started.\n",
      "*** Training of classifier ready. Time elapsed: 577.891ms\n",
      "\n",
      "*** Training of model 'GradientBoostingClassifier' started.\n",
      "*** Training of classifier ready. Time elapsed: 302.295ms\n",
      "\n",
      "*** Training of model 'GradientBoostingClassifier' started.\n",
      "*** Training of classifier ready. Time elapsed: 549.741ms\n",
      "\n",
      "*** Training of model 'GradientBoostingClassifier' started.\n",
      "*** Training of classifier ready. Time elapsed: 769.307ms\n",
      "\n"
     ]
    },
    {
     "name": "stderr",
     "output_type": "stream",
     "text": [
      "Data with input dtype bool, float64 were all converted to float64 by StandardScaler.\n",
      "Data with input dtype bool, float64 were all converted to float64 by StandardScaler.\n",
      "Data with input dtype bool, float64 were all converted to float64 by StandardScaler.\n"
     ]
    },
    {
     "name": "stdout",
     "output_type": "stream",
     "text": [
      "*** Training of model 'GradientBoostingClassifier' started.\n",
      "*** Training of classifier ready. Time elapsed: 953.26ms\n",
      "\n",
      "*** Training of model 'GradientBoostingClassifier' started.\n",
      "*** Training of classifier ready. Time elapsed: 431.045ms\n",
      "\n",
      "*** Training of model 'GradientBoostingClassifier' started.\n",
      "*** Training of classifier ready. Time elapsed: 581.721ms\n",
      "\n",
      "*** Training of model 'GradientBoostingClassifier' started.\n",
      "*** Training of classifier ready. Time elapsed: 283.859ms\n",
      "\n",
      "*** Training of model 'GradientBoostingClassifier' started.\n",
      "*** Training of classifier ready. Time elapsed: 138.405ms\n",
      "\n",
      "*** Training of model 'GradientBoostingClassifier' started.\n",
      "*** Training of classifier ready. Time elapsed: 868.835ms\n",
      "\n",
      "*** Training of model 'GradientBoostingClassifier' started.\n",
      "*** Training of classifier ready. Time elapsed: 365.639ms\n",
      "\n"
     ]
    },
    {
     "name": "stderr",
     "output_type": "stream",
     "text": [
      "Data with input dtype bool, float64 were all converted to float64 by StandardScaler.\n",
      "Data with input dtype bool, float64 were all converted to float64 by StandardScaler.\n",
      "Data with input dtype bool, float64 were all converted to float64 by StandardScaler.\n"
     ]
    },
    {
     "name": "stdout",
     "output_type": "stream",
     "text": [
      "*** Training of model 'GradientBoostingClassifier' started.\n",
      "*** Training of classifier ready. Time elapsed: 249.322ms\n",
      "\n",
      "*** Training of model 'GradientBoostingClassifier' started.\n",
      "*** Training of classifier ready. Time elapsed: 411.755ms\n",
      "\n",
      "*** Training of model 'GradientBoostingClassifier' started.\n",
      "*** Training of classifier ready. Time elapsed: 840.486ms\n",
      "\n",
      "*** Training of model 'GradientBoostingClassifier' started.\n",
      "*** Training of classifier ready. Time elapsed: 404.689ms\n",
      "\n",
      "*** Training of model 'GradientBoostingClassifier' started.\n",
      "*** Training of classifier ready. Time elapsed: 262.369ms\n",
      "\n",
      "*** Training of model 'GradientBoostingClassifier' started.\n",
      "*** Training of classifier ready. Time elapsed: 677.371ms\n",
      "\n",
      "*** Training of model 'GradientBoostingClassifier' started.\n",
      "*** Training of classifier ready. Time elapsed: 616.034ms\n",
      "\n"
     ]
    },
    {
     "name": "stderr",
     "output_type": "stream",
     "text": [
      "Data with input dtype bool, float64 were all converted to float64 by StandardScaler.\n",
      "Data with input dtype bool, float64 were all converted to float64 by StandardScaler.\n",
      "Data with input dtype bool, float64 were all converted to float64 by StandardScaler.\n"
     ]
    },
    {
     "name": "stdout",
     "output_type": "stream",
     "text": [
      "*** Training of model 'GradientBoostingClassifier' started.\n",
      "*** Training of classifier ready. Time elapsed: 335.954ms\n",
      "\n",
      "*** Training of model 'GradientBoostingClassifier' started.\n",
      "*** Training of classifier ready. Time elapsed: 88.021ms\n",
      "\n",
      "*** Training of model 'GradientBoostingClassifier' started.\n",
      "*** Training of classifier ready. Time elapsed: 70.342ms\n",
      "\n",
      "*** Training of model 'GradientBoostingClassifier' started.\n",
      "*** Training of classifier ready. Time elapsed: 476.246ms\n",
      "\n",
      "*** Training of model 'GradientBoostingClassifier' started.\n",
      "*** Training of classifier ready. Time elapsed: 845.26ms\n",
      "\n",
      "*** Training of model 'GradientBoostingClassifier' started.\n",
      "*** Training of classifier ready. Time elapsed: 954.0ms\n",
      "\n",
      "*** Training of model 'GradientBoostingClassifier' started.\n",
      "*** Training of classifier ready. Time elapsed: 640.03ms\n",
      "\n"
     ]
    },
    {
     "name": "stderr",
     "output_type": "stream",
     "text": [
      "Data with input dtype bool, float64 were all converted to float64 by StandardScaler.\n",
      "Data with input dtype bool, float64 were all converted to float64 by StandardScaler.\n",
      "Data with input dtype bool, float64 were all converted to float64 by StandardScaler.\n"
     ]
    },
    {
     "name": "stdout",
     "output_type": "stream",
     "text": [
      "*** Training of model 'GradientBoostingClassifier' started.\n",
      "*** Training of classifier ready. Time elapsed: 926.029ms\n",
      "\n",
      "*** Training of model 'GradientBoostingClassifier' started.\n",
      "*** Training of classifier ready. Time elapsed: 680.999ms\n",
      "\n",
      "*** Training of model 'GradientBoostingClassifier' started.\n",
      "*** Training of classifier ready. Time elapsed: 379.328ms\n",
      "\n",
      "*** Training of model 'GradientBoostingClassifier' started.\n",
      "*** Training of classifier ready. Time elapsed: 124.348ms\n",
      "\n",
      "*** Training of model 'GradientBoostingClassifier' started.\n",
      "*** Training of classifier ready. Time elapsed: 876.273ms\n",
      "\n",
      "*** Training of model 'GradientBoostingClassifier' started.\n",
      "*** Training of classifier ready. Time elapsed: 578.502ms\n",
      "\n",
      "*** Training of model 'GradientBoostingClassifier' started.\n",
      "*** Training of classifier ready. Time elapsed: 729.177ms\n",
      "\n"
     ]
    },
    {
     "name": "stderr",
     "output_type": "stream",
     "text": [
      "Data with input dtype bool, float64 were all converted to float64 by StandardScaler.\n",
      "Data with input dtype bool, float64 were all converted to float64 by StandardScaler.\n",
      "Data with input dtype bool, float64 were all converted to float64 by StandardScaler.\n"
     ]
    },
    {
     "name": "stdout",
     "output_type": "stream",
     "text": [
      "*** Training of model 'GradientBoostingClassifier' started.\n",
      "*** Training of classifier ready. Time elapsed: 35.039ms\n",
      "\n",
      "*** Training of model 'GradientBoostingClassifier' started.\n",
      "*** Training of classifier ready. Time elapsed: 720.294ms\n",
      "\n",
      "*** Training of model 'GradientBoostingClassifier' started.\n",
      "*** Training of classifier ready. Time elapsed: 442.578ms\n",
      "\n",
      "*** Training of model 'GradientBoostingClassifier' started.\n",
      "*** Training of classifier ready. Time elapsed: 209.027ms\n",
      "\n",
      "*** Training of model 'GradientBoostingClassifier' started.\n",
      "*** Training of classifier ready. Time elapsed: 911.742ms\n",
      "\n",
      "*** Training of model 'GradientBoostingClassifier' started.\n",
      "*** Training of classifier ready. Time elapsed: 691.83ms\n",
      "\n",
      "*** Training of model 'GradientBoostingClassifier' started.\n",
      "*** Training of classifier ready. Time elapsed: 807.723ms\n",
      "\n"
     ]
    },
    {
     "name": "stderr",
     "output_type": "stream",
     "text": [
      "Data with input dtype bool, float64 were all converted to float64 by StandardScaler.\n",
      "Data with input dtype bool, float64 were all converted to float64 by StandardScaler.\n",
      "Data with input dtype bool, float64 were all converted to float64 by StandardScaler.\n"
     ]
    },
    {
     "name": "stdout",
     "output_type": "stream",
     "text": [
      "*** Training of model 'GradientBoostingClassifier' started.\n",
      "*** Training of classifier ready. Time elapsed: 856.758ms\n",
      "\n",
      "*** Training of model 'GradientBoostingClassifier' started.\n",
      "*** Training of classifier ready. Time elapsed: 712.746ms\n",
      "\n",
      "*** Training of model 'GradientBoostingClassifier' started.\n",
      "*** Training of classifier ready. Time elapsed: 347.472ms\n",
      "\n",
      "*** Training of model 'GradientBoostingClassifier' started.\n",
      "*** Training of classifier ready. Time elapsed: 85.131ms\n",
      "\n",
      "*** Training of model 'GradientBoostingClassifier' started.\n",
      "*** Training of classifier ready. Time elapsed: 814.743ms\n",
      "\n",
      "*** Training of model 'GradientBoostingClassifier' started.\n",
      "*** Training of classifier ready. Time elapsed: 627.648ms\n",
      "\n",
      "*** Training of model 'GradientBoostingClassifier' started.\n",
      "*** Training of classifier ready. Time elapsed: 871.015ms\n",
      "\n"
     ]
    },
    {
     "name": "stderr",
     "output_type": "stream",
     "text": [
      "Data with input dtype bool, float64 were all converted to float64 by StandardScaler.\n",
      "Data with input dtype bool, float64 were all converted to float64 by StandardScaler.\n",
      "Data with input dtype bool, float64 were all converted to float64 by StandardScaler.\n"
     ]
    },
    {
     "name": "stdout",
     "output_type": "stream",
     "text": [
      "*** Training of model 'GradientBoostingClassifier' started.\n",
      "*** Training of classifier ready. Time elapsed: 17.596ms\n",
      "\n",
      "*** Training of model 'GradientBoostingClassifier' started.\n",
      "*** Training of classifier ready. Time elapsed: 779.748ms\n",
      "\n",
      "*** Training of model 'GradientBoostingClassifier' started.\n",
      "*** Training of classifier ready. Time elapsed: 465.596ms\n",
      "\n",
      "*** Training of model 'GradientBoostingClassifier' started.\n",
      "*** Training of classifier ready. Time elapsed: 201.235ms\n",
      "\n",
      "*** Training of model 'GradientBoostingClassifier' started.\n",
      "*** Training of classifier ready. Time elapsed: 924.78ms\n",
      "\n",
      "*** Training of model 'GradientBoostingClassifier' started.\n",
      "*** Training of classifier ready. Time elapsed: 685.025ms\n",
      "\n",
      "*** Training of model 'GradientBoostingClassifier' started.\n",
      "*** Training of classifier ready. Time elapsed: 711.694ms\n",
      "\n"
     ]
    },
    {
     "name": "stderr",
     "output_type": "stream",
     "text": [
      "Data with input dtype bool, float64 were all converted to float64 by StandardScaler.\n",
      "Data with input dtype bool, float64 were all converted to float64 by StandardScaler.\n",
      "Data with input dtype bool, float64 were all converted to float64 by StandardScaler.\n"
     ]
    },
    {
     "name": "stdout",
     "output_type": "stream",
     "text": [
      "*** Training of model 'GradientBoostingClassifier' started.\n",
      "*** Training of classifier ready. Time elapsed: 930.728ms\n",
      "\n",
      "*** Training of model 'GradientBoostingClassifier' started.\n",
      "*** Training of classifier ready. Time elapsed: 671.796ms\n",
      "\n",
      "*** Training of model 'GradientBoostingClassifier' started.\n",
      "*** Training of classifier ready. Time elapsed: 367.854ms\n",
      "\n",
      "*** Training of model 'GradientBoostingClassifier' started.\n",
      "*** Training of classifier ready. Time elapsed: 118.28ms\n",
      "\n",
      "*** Training of model 'GradientBoostingClassifier' started.\n",
      "*** Training of classifier ready. Time elapsed: 846.175ms\n",
      "\n",
      "*** Training of model 'GradientBoostingClassifier' started.\n",
      "*** Training of classifier ready. Time elapsed: 611.767ms\n",
      "\n",
      "*** Training of model 'GradientBoostingClassifier' started.\n",
      "*** Training of classifier ready. Time elapsed: 565.308ms\n",
      "\n"
     ]
    },
    {
     "name": "stderr",
     "output_type": "stream",
     "text": [
      "Data with input dtype bool, float64 were all converted to float64 by StandardScaler.\n",
      "Data with input dtype bool, float64 were all converted to float64 by StandardScaler.\n",
      "Data with input dtype bool, float64 were all converted to float64 by StandardScaler.\n"
     ]
    },
    {
     "name": "stdout",
     "output_type": "stream",
     "text": [
      "*** Training of model 'GradientBoostingClassifier' started.\n",
      "*** Training of classifier ready. Time elapsed: 948.365ms\n",
      "\n",
      "*** Training of model 'GradientBoostingClassifier' started.\n",
      "*** Training of classifier ready. Time elapsed: 717.995ms\n",
      "\n",
      "*** Training of model 'GradientBoostingClassifier' started.\n",
      "*** Training of classifier ready. Time elapsed: 424.135ms\n",
      "\n",
      "*** Training of model 'GradientBoostingClassifier' started.\n",
      "*** Training of classifier ready. Time elapsed: 178.037ms\n",
      "\n",
      "*** Training of model 'GradientBoostingClassifier' started.\n",
      "*** Training of classifier ready. Time elapsed: 895.248ms\n",
      "\n",
      "*** Training of model 'GradientBoostingClassifier' started.\n",
      "*** Training of classifier ready. Time elapsed: 614.119ms\n",
      "\n",
      "*** Training of model 'GradientBoostingClassifier' started.\n",
      "*** Training of classifier ready. Time elapsed: 622.21ms\n",
      "\n"
     ]
    },
    {
     "name": "stderr",
     "output_type": "stream",
     "text": [
      "Data with input dtype bool, float64 were all converted to float64 by StandardScaler.\n",
      "Data with input dtype bool, float64 were all converted to float64 by StandardScaler.\n",
      "Data with input dtype bool, float64 were all converted to float64 by StandardScaler.\n"
     ]
    },
    {
     "name": "stdout",
     "output_type": "stream",
     "text": [
      "*** Training of model 'GradientBoostingClassifier' started.\n",
      "*** Training of classifier ready. Time elapsed: 995.592ms\n",
      "\n",
      "*** Training of model 'GradientBoostingClassifier' started.\n",
      "*** Training of classifier ready. Time elapsed: 650.641ms\n",
      "\n",
      "*** Training of model 'GradientBoostingClassifier' started.\n",
      "*** Training of classifier ready. Time elapsed: 438.26ms\n",
      "\n",
      "*** Training of model 'GradientBoostingClassifier' started.\n",
      "*** Training of classifier ready. Time elapsed: 92.725ms\n",
      "\n",
      "*** Training of model 'GradientBoostingClassifier' started.\n",
      "*** Training of classifier ready. Time elapsed: 845.384ms\n",
      "\n",
      "*** Training of model 'GradientBoostingClassifier' started.\n",
      "*** Training of classifier ready. Time elapsed: 549.693ms\n",
      "\n",
      "*** Training of model 'GradientBoostingClassifier' started.\n",
      "*** Training of classifier ready. Time elapsed: 519.649ms\n",
      "\n"
     ]
    },
    {
     "name": "stderr",
     "output_type": "stream",
     "text": [
      "Data with input dtype bool, float64 were all converted to float64 by StandardScaler.\n",
      "Data with input dtype bool, float64 were all converted to float64 by StandardScaler.\n",
      "Data with input dtype bool, float64 were all converted to float64 by StandardScaler.\n"
     ]
    },
    {
     "name": "stdout",
     "output_type": "stream",
     "text": [
      "*** Training of model 'GradientBoostingClassifier' started.\n",
      "*** Training of classifier ready. Time elapsed: 897.699ms\n",
      "\n",
      "*** Training of model 'GradientBoostingClassifier' started.\n",
      "*** Training of classifier ready. Time elapsed: 636.361ms\n",
      "\n",
      "*** Training of model 'GradientBoostingClassifier' started.\n",
      "*** Training of classifier ready. Time elapsed: 361.027ms\n",
      "\n",
      "*** Training of model 'GradientBoostingClassifier' started.\n",
      "*** Training of classifier ready. Time elapsed: 134.83ms\n",
      "\n",
      "*** Training of model 'GradientBoostingClassifier' started.\n",
      "*** Training of classifier ready. Time elapsed: 829.283ms\n",
      "\n",
      "*** Training of model 'GradientBoostingClassifier' started.\n",
      "*** Training of classifier ready. Time elapsed: 528.671ms\n",
      "\n",
      "*** Training of model 'GradientBoostingClassifier' started.\n",
      "*** Training of classifier ready. Time elapsed: 564.659ms\n",
      "\n"
     ]
    },
    {
     "name": "stderr",
     "output_type": "stream",
     "text": [
      "Data with input dtype bool, float64 were all converted to float64 by StandardScaler.\n",
      "Data with input dtype bool, float64 were all converted to float64 by StandardScaler.\n",
      "Data with input dtype bool, float64 were all converted to float64 by StandardScaler.\n"
     ]
    },
    {
     "name": "stdout",
     "output_type": "stream",
     "text": [
      "*** Training of model 'RandomForestClassifier' started.\n",
      "*** Training of classifier ready. Time elapsed: 491.014ms\n",
      "\n",
      "*** Training of model 'RandomForestClassifier' started.\n",
      "*** Training of classifier ready. Time elapsed: 508.626ms\n",
      "\n",
      "*** Training of model 'RandomForestClassifier' started.\n",
      "*** Training of classifier ready. Time elapsed: 490.492ms\n",
      "\n",
      "*** Training of model 'RandomForestClassifier' started.\n",
      "*** Training of classifier ready. Time elapsed: 431.428ms\n",
      "\n",
      "*** Training of model 'RandomForestClassifier' started.\n",
      "*** Training of classifier ready. Time elapsed: 455.331ms\n",
      "\n",
      "*** Training of model 'RandomForestClassifier' started.\n",
      "*** Training of classifier ready. Time elapsed: 420.627ms\n",
      "\n",
      "*** Training of model 'RandomForestClassifier' started.\n",
      "*** Training of classifier ready. Time elapsed: 535.407ms\n",
      "\n"
     ]
    },
    {
     "name": "stderr",
     "output_type": "stream",
     "text": [
      "F-score is ill-defined and being set to 0.0 due to no predicted samples.\n",
      "Precision is ill-defined and being set to 0.0 due to no predicted samples.\n",
      "invalid value encountered in long_scalars\n",
      "Data with input dtype bool, float64 were all converted to float64 by StandardScaler.\n",
      "Data with input dtype bool, float64 were all converted to float64 by StandardScaler.\n",
      "Data with input dtype bool, float64 were all converted to float64 by StandardScaler.\n"
     ]
    },
    {
     "name": "stdout",
     "output_type": "stream",
     "text": [
      "*** Training of model 'RandomForestClassifier' started.\n",
      "*** Training of classifier ready. Time elapsed: 511.698ms\n",
      "\n",
      "*** Training of model 'RandomForestClassifier' started.\n",
      "*** Training of classifier ready. Time elapsed: 508.142ms\n",
      "\n",
      "*** Training of model 'RandomForestClassifier' started.\n",
      "*** Training of classifier ready. Time elapsed: 514.912ms\n",
      "\n",
      "*** Training of model 'RandomForestClassifier' started.\n",
      "*** Training of classifier ready. Time elapsed: 466.324ms\n",
      "\n",
      "*** Training of model 'RandomForestClassifier' started.\n",
      "*** Training of classifier ready. Time elapsed: 491.869ms\n",
      "\n",
      "*** Training of model 'RandomForestClassifier' started.\n",
      "*** Training of classifier ready. Time elapsed: 436.799ms\n",
      "\n",
      "*** Training of model 'RandomForestClassifier' started.\n",
      "*** Training of classifier ready. Time elapsed: 562.287ms\n",
      "\n"
     ]
    },
    {
     "name": "stderr",
     "output_type": "stream",
     "text": [
      "F-score is ill-defined and being set to 0.0 due to no predicted samples.\n",
      "Precision is ill-defined and being set to 0.0 due to no predicted samples.\n",
      "invalid value encountered in long_scalars\n",
      "Data with input dtype bool, float64 were all converted to float64 by StandardScaler.\n",
      "Data with input dtype bool, float64 were all converted to float64 by StandardScaler.\n",
      "Data with input dtype bool, float64 were all converted to float64 by StandardScaler.\n"
     ]
    },
    {
     "name": "stdout",
     "output_type": "stream",
     "text": [
      "*** Training of model 'RandomForestClassifier' started.\n",
      "*** Training of classifier ready. Time elapsed: 533.214ms\n",
      "\n",
      "*** Training of model 'RandomForestClassifier' started.\n",
      "*** Training of classifier ready. Time elapsed: 507.649ms\n",
      "\n",
      "*** Training of model 'RandomForestClassifier' started.\n",
      "*** Training of classifier ready. Time elapsed: 131.749ms\n",
      "\n",
      "*** Training of model 'RandomForestClassifier' started.\n",
      "*** Training of classifier ready. Time elapsed: 287.051ms\n",
      "\n",
      "*** Training of model 'RandomForestClassifier' started.\n",
      "*** Training of classifier ready. Time elapsed: 733.074ms\n",
      "\n",
      "*** Training of model 'RandomForestClassifier' started.\n",
      "*** Training of classifier ready. Time elapsed: 703.384ms\n",
      "\n",
      "*** Training of model 'RandomForestClassifier' started.\n",
      "*** Training of classifier ready. Time elapsed: 668.803ms\n",
      "\n"
     ]
    },
    {
     "name": "stderr",
     "output_type": "stream",
     "text": [
      "F-score is ill-defined and being set to 0.0 due to no predicted samples.\n",
      "Precision is ill-defined and being set to 0.0 due to no predicted samples.\n",
      "invalid value encountered in long_scalars\n",
      "Data with input dtype bool, float64 were all converted to float64 by StandardScaler.\n",
      "Data with input dtype bool, float64 were all converted to float64 by StandardScaler.\n",
      "Data with input dtype bool, float64 were all converted to float64 by StandardScaler.\n"
     ]
    },
    {
     "name": "stdout",
     "output_type": "stream",
     "text": [
      "*** Training of model 'RandomForestClassifier' started.\n",
      "*** Training of classifier ready. Time elapsed: 496.819ms\n",
      "\n",
      "*** Training of model 'RandomForestClassifier' started.\n",
      "*** Training of classifier ready. Time elapsed: 250.199ms\n",
      "\n",
      "*** Training of model 'RandomForestClassifier' started.\n",
      "*** Training of classifier ready. Time elapsed: 651.299ms\n",
      "\n",
      "*** Training of model 'RandomForestClassifier' started.\n",
      "*** Training of classifier ready. Time elapsed: 701.435ms\n",
      "\n",
      "*** Training of model 'RandomForestClassifier' started.\n",
      "*** Training of classifier ready. Time elapsed: 908.586ms\n",
      "\n",
      "*** Training of model 'RandomForestClassifier' started.\n",
      "*** Training of classifier ready. Time elapsed: 463.464ms\n",
      "\n",
      "*** Training of model 'RandomForestClassifier' started.\n",
      "*** Training of classifier ready. Time elapsed: 642.279ms\n",
      "\n"
     ]
    },
    {
     "name": "stderr",
     "output_type": "stream",
     "text": [
      "F-score is ill-defined and being set to 0.0 due to no predicted samples.\n",
      "Precision is ill-defined and being set to 0.0 due to no predicted samples.\n",
      "invalid value encountered in long_scalars\n",
      "Data with input dtype bool, float64 were all converted to float64 by StandardScaler.\n",
      "Data with input dtype bool, float64 were all converted to float64 by StandardScaler.\n",
      "Data with input dtype bool, float64 were all converted to float64 by StandardScaler.\n"
     ]
    },
    {
     "name": "stdout",
     "output_type": "stream",
     "text": [
      "*** Training of model 'RandomForestClassifier' started.\n",
      "*** Training of classifier ready. Time elapsed: 517.047ms\n",
      "\n",
      "*** Training of model 'RandomForestClassifier' started.\n",
      "*** Training of classifier ready. Time elapsed: 538.06ms\n",
      "\n",
      "*** Training of model 'RandomForestClassifier' started.\n",
      "*** Training of classifier ready. Time elapsed: 512.984ms\n",
      "\n",
      "*** Training of model 'RandomForestClassifier' started.\n",
      "*** Training of classifier ready. Time elapsed: 578.882ms\n",
      "\n",
      "*** Training of model 'RandomForestClassifier' started.\n",
      "*** Training of classifier ready. Time elapsed: 579.945ms\n",
      "\n",
      "*** Training of model 'RandomForestClassifier' started.\n",
      "*** Training of classifier ready. Time elapsed: 194.643ms\n",
      "\n",
      "*** Training of model 'RandomForestClassifier' started.\n",
      "*** Training of classifier ready. Time elapsed: 864.832ms\n",
      "\n"
     ]
    },
    {
     "name": "stderr",
     "output_type": "stream",
     "text": [
      "F-score is ill-defined and being set to 0.0 due to no predicted samples.\n",
      "Precision is ill-defined and being set to 0.0 due to no predicted samples.\n",
      "invalid value encountered in long_scalars\n",
      "Data with input dtype bool, float64 were all converted to float64 by StandardScaler.\n",
      "Data with input dtype bool, float64 were all converted to float64 by StandardScaler.\n",
      "Data with input dtype bool, float64 were all converted to float64 by StandardScaler.\n"
     ]
    },
    {
     "name": "stdout",
     "output_type": "stream",
     "text": [
      "*** Training of model 'RandomForestClassifier' started.\n",
      "*** Training of classifier ready. Time elapsed: 603.359ms\n",
      "\n",
      "*** Training of model 'RandomForestClassifier' started.\n",
      "*** Training of classifier ready. Time elapsed: 340.875ms\n",
      "\n",
      "*** Training of model 'RandomForestClassifier' started.\n",
      "*** Training of classifier ready. Time elapsed: 366.078ms\n",
      "\n",
      "*** Training of model 'RandomForestClassifier' started.\n",
      "*** Training of classifier ready. Time elapsed: 334.561ms\n",
      "\n",
      "*** Training of model 'RandomForestClassifier' started.\n",
      "*** Training of classifier ready. Time elapsed: 552.491ms\n",
      "\n",
      "*** Training of model 'RandomForestClassifier' started.\n",
      "*** Training of classifier ready. Time elapsed: 550.163ms\n",
      "\n",
      "*** Training of model 'RandomForestClassifier' started.\n",
      "*** Training of classifier ready. Time elapsed: 845.334ms\n",
      "\n"
     ]
    },
    {
     "name": "stderr",
     "output_type": "stream",
     "text": [
      "Data with input dtype bool, float64 were all converted to float64 by StandardScaler.\n",
      "Data with input dtype bool, float64 were all converted to float64 by StandardScaler.\n",
      "Data with input dtype bool, float64 were all converted to float64 by StandardScaler.\n"
     ]
    },
    {
     "name": "stdout",
     "output_type": "stream",
     "text": [
      "*** Training of model 'RandomForestClassifier' started.\n",
      "*** Training of classifier ready. Time elapsed: 415.968ms\n",
      "\n",
      "*** Training of model 'RandomForestClassifier' started.\n",
      "*** Training of classifier ready. Time elapsed: 966.577ms\n",
      "\n",
      "*** Training of model 'RandomForestClassifier' started.\n",
      "*** Training of classifier ready. Time elapsed: 676.982ms\n",
      "\n",
      "*** Training of model 'RandomForestClassifier' started.\n",
      "*** Training of classifier ready. Time elapsed: 85.995ms\n",
      "\n",
      "*** Training of model 'RandomForestClassifier' started.\n",
      "*** Training of classifier ready. Time elapsed: 871.389ms\n",
      "\n",
      "*** Training of model 'RandomForestClassifier' started.\n",
      "*** Training of classifier ready. Time elapsed: 979.966ms\n",
      "\n",
      "*** Training of model 'RandomForestClassifier' started.\n",
      "*** Training of classifier ready. Time elapsed: 967.004ms\n",
      "\n"
     ]
    },
    {
     "name": "stderr",
     "output_type": "stream",
     "text": [
      "Data with input dtype bool, float64 were all converted to float64 by StandardScaler.\n",
      "Data with input dtype bool, float64 were all converted to float64 by StandardScaler.\n",
      "Data with input dtype bool, float64 were all converted to float64 by StandardScaler.\n"
     ]
    },
    {
     "name": "stdout",
     "output_type": "stream",
     "text": [
      "*** Training of model 'RandomForestClassifier' started.\n",
      "*** Training of classifier ready. Time elapsed: 253.821ms\n",
      "\n",
      "*** Training of model 'RandomForestClassifier' started.\n",
      "*** Training of classifier ready. Time elapsed: 194.585ms\n",
      "\n",
      "*** Training of model 'RandomForestClassifier' started.\n",
      "*** Training of classifier ready. Time elapsed: 857.419ms\n",
      "\n",
      "*** Training of model 'RandomForestClassifier' started.\n",
      "*** Training of classifier ready. Time elapsed: 350.013ms\n",
      "\n",
      "*** Training of model 'RandomForestClassifier' started.\n",
      "*** Training of classifier ready. Time elapsed: 418.347ms\n",
      "\n",
      "*** Training of model 'RandomForestClassifier' started.\n",
      "*** Training of classifier ready. Time elapsed: 470.831ms\n",
      "\n",
      "*** Training of model 'RandomForestClassifier' started.\n",
      "*** Training of classifier ready. Time elapsed: 203.025ms\n",
      "\n"
     ]
    },
    {
     "name": "stderr",
     "output_type": "stream",
     "text": [
      "Data with input dtype bool, float64 were all converted to float64 by StandardScaler.\n",
      "Data with input dtype bool, float64 were all converted to float64 by StandardScaler.\n",
      "Data with input dtype bool, float64 were all converted to float64 by StandardScaler.\n"
     ]
    },
    {
     "name": "stdout",
     "output_type": "stream",
     "text": [
      "*** Training of model 'RandomForestClassifier' started.\n",
      "*** Training of classifier ready. Time elapsed: 28.447ms\n",
      "\n",
      "*** Training of model 'RandomForestClassifier' started.\n",
      "*** Training of classifier ready. Time elapsed: 913.524ms\n",
      "\n",
      "*** Training of model 'RandomForestClassifier' started.\n",
      "*** Training of classifier ready. Time elapsed: 90.799ms\n",
      "\n",
      "*** Training of model 'RandomForestClassifier' started.\n",
      "*** Training of classifier ready. Time elapsed: 458.171ms\n",
      "\n",
      "*** Training of model 'RandomForestClassifier' started.\n",
      "*** Training of classifier ready. Time elapsed: 79.547ms\n",
      "\n",
      "*** Training of model 'RandomForestClassifier' started.\n",
      "*** Training of classifier ready. Time elapsed: 308.595ms\n",
      "\n",
      "*** Training of model 'RandomForestClassifier' started.\n",
      "*** Training of classifier ready. Time elapsed: 858.042ms\n",
      "\n"
     ]
    },
    {
     "name": "stderr",
     "output_type": "stream",
     "text": [
      "Data with input dtype bool, float64 were all converted to float64 by StandardScaler.\n",
      "Data with input dtype bool, float64 were all converted to float64 by StandardScaler.\n",
      "Data with input dtype bool, float64 were all converted to float64 by StandardScaler.\n"
     ]
    },
    {
     "name": "stdout",
     "output_type": "stream",
     "text": [
      "*** Training of model 'RandomForestClassifier' started.\n",
      "*** Training of classifier ready. Time elapsed: 71.396ms\n",
      "\n",
      "*** Training of model 'RandomForestClassifier' started.\n",
      "*** Training of classifier ready. Time elapsed: 499.396ms\n",
      "\n",
      "*** Training of model 'RandomForestClassifier' started.\n",
      "*** Training of classifier ready. Time elapsed: 14.211ms\n",
      "\n",
      "*** Training of model 'RandomForestClassifier' started.\n",
      "*** Training of classifier ready. Time elapsed: 311.156ms\n",
      "\n",
      "*** Training of model 'RandomForestClassifier' started.\n",
      "*** Training of classifier ready. Time elapsed: 147.159ms\n",
      "\n",
      "*** Training of model 'RandomForestClassifier' started.\n",
      "*** Training of classifier ready. Time elapsed: 934.567ms\n",
      "\n",
      "*** Training of model 'RandomForestClassifier' started.\n",
      "*** Training of classifier ready. Time elapsed: 770.324ms\n",
      "\n"
     ]
    },
    {
     "name": "stderr",
     "output_type": "stream",
     "text": [
      "Data with input dtype bool, float64 were all converted to float64 by StandardScaler.\n",
      "Data with input dtype bool, float64 were all converted to float64 by StandardScaler.\n",
      "Data with input dtype bool, float64 were all converted to float64 by StandardScaler.\n"
     ]
    },
    {
     "name": "stdout",
     "output_type": "stream",
     "text": [
      "*** Training of model 'RandomForestClassifier' started.\n",
      "*** Training of classifier ready. Time elapsed: 965.232ms\n",
      "\n",
      "*** Training of model 'RandomForestClassifier' started.\n",
      "*** Training of classifier ready. Time elapsed: 576.431ms\n",
      "\n",
      "*** Training of model 'RandomForestClassifier' started.\n",
      "*** Training of classifier ready. Time elapsed: 544.662ms\n",
      "\n",
      "*** Training of model 'RandomForestClassifier' started.\n",
      "*** Training of classifier ready. Time elapsed: 324.652ms\n",
      "\n",
      "*** Training of model 'RandomForestClassifier' started.\n",
      "*** Training of classifier ready. Time elapsed: 598.186ms\n",
      "\n",
      "*** Training of model 'RandomForestClassifier' started.\n",
      "*** Training of classifier ready. Time elapsed: 467.024ms\n",
      "\n",
      "*** Training of model 'RandomForestClassifier' started.\n",
      "*** Training of classifier ready. Time elapsed: 428.102ms\n",
      "\n"
     ]
    },
    {
     "name": "stderr",
     "output_type": "stream",
     "text": [
      "Data with input dtype bool, float64 were all converted to float64 by StandardScaler.\n",
      "Data with input dtype bool, float64 were all converted to float64 by StandardScaler.\n",
      "Data with input dtype bool, float64 were all converted to float64 by StandardScaler.\n"
     ]
    },
    {
     "name": "stdout",
     "output_type": "stream",
     "text": [
      "*** Training of model 'RandomForestClassifier' started.\n",
      "*** Training of classifier ready. Time elapsed: 527.957ms\n",
      "\n",
      "*** Training of model 'RandomForestClassifier' started.\n",
      "*** Training of classifier ready. Time elapsed: 576.234ms\n",
      "\n",
      "*** Training of model 'RandomForestClassifier' started.\n",
      "*** Training of classifier ready. Time elapsed: 589.383ms\n",
      "\n",
      "*** Training of model 'RandomForestClassifier' started.\n",
      "*** Training of classifier ready. Time elapsed: 663.071ms\n",
      "\n",
      "*** Training of model 'RandomForestClassifier' started.\n",
      "*** Training of classifier ready. Time elapsed: 505.193ms\n",
      "\n",
      "*** Training of model 'RandomForestClassifier' started.\n",
      "*** Training of classifier ready. Time elapsed: 140.752ms\n",
      "\n",
      "*** Training of model 'RandomForestClassifier' started.\n",
      "*** Training of classifier ready. Time elapsed: 503.361ms\n",
      "\n"
     ]
    },
    {
     "name": "stderr",
     "output_type": "stream",
     "text": [
      "Data with input dtype bool, float64 were all converted to float64 by StandardScaler.\n",
      "Data with input dtype bool, float64 were all converted to float64 by StandardScaler.\n",
      "Data with input dtype bool, float64 were all converted to float64 by StandardScaler.\n"
     ]
    },
    {
     "name": "stdout",
     "output_type": "stream",
     "text": [
      "*** Training of model 'RandomForestClassifier' started.\n",
      "*** Training of classifier ready. Time elapsed: 570.041ms\n",
      "\n",
      "*** Training of model 'RandomForestClassifier' started.\n",
      "*** Training of classifier ready. Time elapsed: 673.392ms\n",
      "\n",
      "*** Training of model 'RandomForestClassifier' started.\n",
      "*** Training of classifier ready. Time elapsed: 926.223ms\n",
      "\n",
      "*** Training of model 'RandomForestClassifier' started.\n",
      "*** Training of classifier ready. Time elapsed: 491.419ms\n",
      "\n",
      "*** Training of model 'RandomForestClassifier' started.\n",
      "*** Training of classifier ready. Time elapsed: 810.15ms\n",
      "\n",
      "*** Training of model 'RandomForestClassifier' started.\n",
      "*** Training of classifier ready. Time elapsed: 488.529ms\n",
      "\n",
      "*** Training of model 'RandomForestClassifier' started.\n",
      "*** Training of classifier ready. Time elapsed: 236.826ms\n",
      "\n"
     ]
    },
    {
     "name": "stderr",
     "output_type": "stream",
     "text": [
      "Data with input dtype bool, float64 were all converted to float64 by StandardScaler.\n",
      "Data with input dtype bool, float64 were all converted to float64 by StandardScaler.\n",
      "Data with input dtype bool, float64 were all converted to float64 by StandardScaler.\n"
     ]
    },
    {
     "name": "stdout",
     "output_type": "stream",
     "text": [
      "*** Training of model 'RandomForestClassifier' started.\n",
      "*** Training of classifier ready. Time elapsed: 933.974ms\n",
      "\n",
      "*** Training of model 'RandomForestClassifier' started.\n",
      "*** Training of classifier ready. Time elapsed: 559.525ms\n",
      "\n",
      "*** Training of model 'RandomForestClassifier' started.\n",
      "*** Training of classifier ready. Time elapsed: 951.724ms\n",
      "\n",
      "*** Training of model 'RandomForestClassifier' started.\n",
      "*** Training of classifier ready. Time elapsed: 59.804ms\n",
      "\n",
      "*** Training of model 'RandomForestClassifier' started.\n",
      "*** Training of classifier ready. Time elapsed: 567.07ms\n",
      "\n",
      "*** Training of model 'RandomForestClassifier' started.\n",
      "*** Training of classifier ready. Time elapsed: 635.166ms\n",
      "\n",
      "*** Training of model 'RandomForestClassifier' started.\n",
      "*** Training of classifier ready. Time elapsed: 478.112ms\n",
      "\n"
     ]
    },
    {
     "name": "stderr",
     "output_type": "stream",
     "text": [
      "Data with input dtype bool, float64 were all converted to float64 by StandardScaler.\n",
      "Data with input dtype bool, float64 were all converted to float64 by StandardScaler.\n",
      "Data with input dtype bool, float64 were all converted to float64 by StandardScaler.\n"
     ]
    },
    {
     "name": "stdout",
     "output_type": "stream",
     "text": [
      "*** Training of model 'RandomForestClassifier' started.\n",
      "*** Training of classifier ready. Time elapsed: 588.817ms\n",
      "\n",
      "*** Training of model 'RandomForestClassifier' started.\n",
      "*** Training of classifier ready. Time elapsed: 551.245ms\n",
      "\n",
      "*** Training of model 'RandomForestClassifier' started.\n",
      "*** Training of classifier ready. Time elapsed: 544.828ms\n",
      "\n",
      "*** Training of model 'RandomForestClassifier' started.\n",
      "*** Training of classifier ready. Time elapsed: 16.54ms\n",
      "\n",
      "*** Training of model 'RandomForestClassifier' started.\n",
      "*** Training of classifier ready. Time elapsed: 825.316ms\n",
      "\n",
      "*** Training of model 'RandomForestClassifier' started.\n",
      "*** Training of classifier ready. Time elapsed: 494.297ms\n",
      "\n",
      "*** Training of model 'RandomForestClassifier' started.\n",
      "*** Training of classifier ready. Time elapsed: 254.847ms\n",
      "\n"
     ]
    },
    {
     "name": "stderr",
     "output_type": "stream",
     "text": [
      "Data with input dtype bool, float64 were all converted to float64 by StandardScaler.\n",
      "Data with input dtype bool, float64 were all converted to float64 by StandardScaler.\n",
      "Data with input dtype bool, float64 were all converted to float64 by StandardScaler.\n"
     ]
    },
    {
     "name": "stdout",
     "output_type": "stream",
     "text": [
      "*** Training of model 'RandomForestClassifier' started.\n",
      "*** Training of classifier ready. Time elapsed: 537.548ms\n",
      "\n",
      "*** Training of model 'RandomForestClassifier' started.\n",
      "*** Training of classifier ready. Time elapsed: 546.16ms\n",
      "\n",
      "*** Training of model 'RandomForestClassifier' started.\n",
      "*** Training of classifier ready. Time elapsed: 605.268ms\n",
      "\n",
      "*** Training of model 'RandomForestClassifier' started.\n",
      "*** Training of classifier ready. Time elapsed: 690.536ms\n",
      "\n",
      "*** Training of model 'RandomForestClassifier' started.\n",
      "*** Training of classifier ready. Time elapsed: 543.055ms\n",
      "\n",
      "*** Training of model 'RandomForestClassifier' started.\n",
      "*** Training of classifier ready. Time elapsed: 485.499ms\n",
      "\n",
      "*** Training of model 'RandomForestClassifier' started.\n",
      "*** Training of classifier ready. Time elapsed: 511.908ms\n",
      "\n"
     ]
    },
    {
     "name": "stderr",
     "output_type": "stream",
     "text": [
      "F-score is ill-defined and being set to 0.0 due to no predicted samples.\n",
      "Precision is ill-defined and being set to 0.0 due to no predicted samples.\n",
      "invalid value encountered in long_scalars\n",
      "Data with input dtype bool, float64 were all converted to float64 by StandardScaler.\n",
      "Data with input dtype bool, float64 were all converted to float64 by StandardScaler.\n",
      "Data with input dtype bool, float64 were all converted to float64 by StandardScaler.\n"
     ]
    },
    {
     "name": "stdout",
     "output_type": "stream",
     "text": [
      "*** Training of model 'RandomForestClassifier' started.\n",
      "*** Training of classifier ready. Time elapsed: 991.552ms\n",
      "\n",
      "*** Training of model 'RandomForestClassifier' started.\n",
      "*** Training of classifier ready. Time elapsed: 724.164ms\n",
      "\n",
      "*** Training of model 'RandomForestClassifier' started.\n",
      "*** Training of classifier ready. Time elapsed: 575.876ms\n",
      "\n",
      "*** Training of model 'RandomForestClassifier' started.\n",
      "*** Training of classifier ready. Time elapsed: 543.824ms\n",
      "\n",
      "*** Training of model 'RandomForestClassifier' started.\n",
      "*** Training of classifier ready. Time elapsed: 696.891ms\n",
      "\n",
      "*** Training of model 'RandomForestClassifier' started.\n",
      "*** Training of classifier ready. Time elapsed: 184.794ms\n",
      "\n",
      "*** Training of model 'RandomForestClassifier' started.\n",
      "*** Training of classifier ready. Time elapsed: 27.639ms\n",
      "\n"
     ]
    },
    {
     "name": "stderr",
     "output_type": "stream",
     "text": [
      "F-score is ill-defined and being set to 0.0 due to no predicted samples.\n",
      "Precision is ill-defined and being set to 0.0 due to no predicted samples.\n",
      "invalid value encountered in long_scalars\n",
      "Data with input dtype bool, float64 were all converted to float64 by StandardScaler.\n",
      "Data with input dtype bool, float64 were all converted to float64 by StandardScaler.\n",
      "Data with input dtype bool, float64 were all converted to float64 by StandardScaler.\n"
     ]
    },
    {
     "name": "stdout",
     "output_type": "stream",
     "text": [
      "*** Training of model 'RandomForestClassifier' started.\n",
      "*** Training of classifier ready. Time elapsed: 568.623ms\n",
      "\n",
      "*** Training of model 'RandomForestClassifier' started.\n",
      "*** Training of classifier ready. Time elapsed: 527.985ms\n",
      "\n",
      "*** Training of model 'RandomForestClassifier' started.\n",
      "*** Training of classifier ready. Time elapsed: 127.819ms\n",
      "\n",
      "*** Training of model 'RandomForestClassifier' started.\n",
      "*** Training of classifier ready. Time elapsed: 885.57ms\n",
      "\n",
      "*** Training of model 'RandomForestClassifier' started.\n",
      "*** Training of classifier ready. Time elapsed: 202.832ms\n",
      "\n",
      "*** Training of model 'RandomForestClassifier' started.\n",
      "*** Training of classifier ready. Time elapsed: 429.118ms\n",
      "\n",
      "*** Training of model 'RandomForestClassifier' started.\n",
      "*** Training of classifier ready. Time elapsed: 258.335ms\n",
      "\n"
     ]
    },
    {
     "name": "stderr",
     "output_type": "stream",
     "text": [
      "F-score is ill-defined and being set to 0.0 due to no predicted samples.\n",
      "Precision is ill-defined and being set to 0.0 due to no predicted samples.\n",
      "invalid value encountered in long_scalars\n",
      "Data with input dtype bool, float64 were all converted to float64 by StandardScaler.\n",
      "Data with input dtype bool, float64 were all converted to float64 by StandardScaler.\n",
      "Data with input dtype bool, float64 were all converted to float64 by StandardScaler.\n"
     ]
    },
    {
     "name": "stdout",
     "output_type": "stream",
     "text": [
      "*** Training of model 'RandomForestClassifier' started.\n",
      "*** Training of classifier ready. Time elapsed: 10.58ms\n",
      "\n",
      "*** Training of model 'RandomForestClassifier' started.\n",
      "*** Training of classifier ready. Time elapsed: 694.317ms\n",
      "\n",
      "*** Training of model 'RandomForestClassifier' started.\n",
      "*** Training of classifier ready. Time elapsed: 674.491ms\n",
      "\n",
      "*** Training of model 'RandomForestClassifier' started.\n",
      "*** Training of classifier ready. Time elapsed: 473.887ms\n",
      "\n",
      "*** Training of model 'RandomForestClassifier' started.\n",
      "*** Training of classifier ready. Time elapsed: 455.038ms\n",
      "\n",
      "*** Training of model 'RandomForestClassifier' started.\n",
      "*** Training of classifier ready. Time elapsed: 884.101ms\n",
      "\n",
      "*** Training of model 'RandomForestClassifier' started.\n",
      "*** Training of classifier ready. Time elapsed: 944.131ms\n",
      "\n"
     ]
    },
    {
     "name": "stderr",
     "output_type": "stream",
     "text": [
      "F-score is ill-defined and being set to 0.0 due to no predicted samples.\n",
      "Precision is ill-defined and being set to 0.0 due to no predicted samples.\n",
      "invalid value encountered in long_scalars\n",
      "Data with input dtype bool, float64 were all converted to float64 by StandardScaler.\n",
      "Data with input dtype bool, float64 were all converted to float64 by StandardScaler.\n",
      "Data with input dtype bool, float64 were all converted to float64 by StandardScaler.\n"
     ]
    },
    {
     "name": "stdout",
     "output_type": "stream",
     "text": [
      "*** Training of model 'RandomForestClassifier' started.\n",
      "*** Training of classifier ready. Time elapsed: 97.845ms\n",
      "\n",
      "*** Training of model 'RandomForestClassifier' started.\n",
      "*** Training of classifier ready. Time elapsed: 117.278ms\n",
      "\n",
      "*** Training of model 'RandomForestClassifier' started.\n",
      "*** Training of classifier ready. Time elapsed: 126.113ms\n",
      "\n",
      "*** Training of model 'RandomForestClassifier' started.\n",
      "*** Training of classifier ready. Time elapsed: 430.196ms\n",
      "\n",
      "*** Training of model 'RandomForestClassifier' started.\n",
      "*** Training of classifier ready. Time elapsed: 700.72ms\n",
      "\n",
      "*** Training of model 'RandomForestClassifier' started.\n",
      "*** Training of classifier ready. Time elapsed: 493.481ms\n",
      "\n",
      "*** Training of model 'RandomForestClassifier' started.\n",
      "*** Training of classifier ready. Time elapsed: 987.321ms\n",
      "\n"
     ]
    },
    {
     "name": "stderr",
     "output_type": "stream",
     "text": [
      "F-score is ill-defined and being set to 0.0 due to no predicted samples.\n",
      "Precision is ill-defined and being set to 0.0 due to no predicted samples.\n",
      "invalid value encountered in long_scalars\n",
      "Data with input dtype bool, float64 were all converted to float64 by StandardScaler.\n",
      "Data with input dtype bool, float64 were all converted to float64 by StandardScaler.\n",
      "Data with input dtype bool, float64 were all converted to float64 by StandardScaler.\n"
     ]
    },
    {
     "name": "stdout",
     "output_type": "stream",
     "text": [
      "*** Training of model 'DecisionTreeClassifier' started.\n",
      "*** Training of classifier ready. Time elapsed: 70.76ms\n",
      "\n",
      "*** Training of model 'DecisionTreeClassifier' started.\n",
      "*** Training of classifier ready. Time elapsed: 61.394ms\n",
      "\n",
      "*** Training of model 'DecisionTreeClassifier' started.\n",
      "*** Training of classifier ready. Time elapsed: 56.381ms\n",
      "\n",
      "*** Training of model 'DecisionTreeClassifier' started.\n",
      "*** Training of classifier ready. Time elapsed: 51.744ms\n",
      "\n",
      "*** Training of model 'DecisionTreeClassifier' started.\n",
      "*** Training of classifier ready. Time elapsed: 42.265ms\n",
      "\n",
      "*** Training of model 'DecisionTreeClassifier' started.\n",
      "*** Training of classifier ready. Time elapsed: 35.735ms\n",
      "\n",
      "*** Training of model 'DecisionTreeClassifier' started.\n",
      "*** Training of classifier ready. Time elapsed: 63.191ms\n",
      "\n"
     ]
    },
    {
     "name": "stderr",
     "output_type": "stream",
     "text": [
      "Data with input dtype bool, float64 were all converted to float64 by StandardScaler.\n",
      "Data with input dtype bool, float64 were all converted to float64 by StandardScaler.\n",
      "Data with input dtype bool, float64 were all converted to float64 by StandardScaler.\n"
     ]
    },
    {
     "name": "stdout",
     "output_type": "stream",
     "text": [
      "*** Training of model 'DecisionTreeClassifier' started.\n",
      "*** Training of classifier ready. Time elapsed: 76.953ms\n",
      "\n",
      "*** Training of model 'DecisionTreeClassifier' started.\n",
      "*** Training of classifier ready. Time elapsed: 66.884ms\n",
      "\n",
      "*** Training of model 'DecisionTreeClassifier' started.\n",
      "*** Training of classifier ready. Time elapsed: 59.159ms\n",
      "\n",
      "*** Training of model 'DecisionTreeClassifier' started.\n",
      "*** Training of classifier ready. Time elapsed: 51.493ms\n",
      "\n",
      "*** Training of model 'DecisionTreeClassifier' started.\n",
      "*** Training of classifier ready. Time elapsed: 44.613ms\n",
      "\n",
      "*** Training of model 'DecisionTreeClassifier' started.\n",
      "*** Training of classifier ready. Time elapsed: 37.796ms\n",
      "\n",
      "*** Training of model 'DecisionTreeClassifier' started.\n",
      "*** Training of classifier ready. Time elapsed: 81.415ms\n",
      "\n"
     ]
    },
    {
     "name": "stderr",
     "output_type": "stream",
     "text": [
      "Data with input dtype bool, float64 were all converted to float64 by StandardScaler.\n",
      "Data with input dtype bool, float64 were all converted to float64 by StandardScaler.\n",
      "Data with input dtype bool, float64 were all converted to float64 by StandardScaler.\n"
     ]
    },
    {
     "name": "stdout",
     "output_type": "stream",
     "text": [
      "*** Training of model 'DecisionTreeClassifier' started.\n",
      "*** Training of classifier ready. Time elapsed: 117.966ms\n",
      "\n",
      "*** Training of model 'DecisionTreeClassifier' started.\n",
      "*** Training of classifier ready. Time elapsed: 136.013ms\n",
      "\n",
      "*** Training of model 'DecisionTreeClassifier' started.\n",
      "*** Training of classifier ready. Time elapsed: 113.787ms\n",
      "\n",
      "*** Training of model 'DecisionTreeClassifier' started.\n",
      "*** Training of classifier ready. Time elapsed: 98.392ms\n",
      "\n",
      "*** Training of model 'DecisionTreeClassifier' started.\n",
      "*** Training of classifier ready. Time elapsed: 87.053ms\n",
      "\n",
      "*** Training of model 'DecisionTreeClassifier' started.\n",
      "*** Training of classifier ready. Time elapsed: 69.158ms\n",
      "\n",
      "*** Training of model 'DecisionTreeClassifier' started.\n",
      "*** Training of classifier ready. Time elapsed: 134.339ms\n",
      "\n"
     ]
    },
    {
     "name": "stderr",
     "output_type": "stream",
     "text": [
      "Data with input dtype bool, float64 were all converted to float64 by StandardScaler.\n",
      "Data with input dtype bool, float64 were all converted to float64 by StandardScaler.\n",
      "Data with input dtype bool, float64 were all converted to float64 by StandardScaler.\n"
     ]
    },
    {
     "name": "stdout",
     "output_type": "stream",
     "text": [
      "*** Training of model 'DecisionTreeClassifier' started.\n",
      "*** Training of classifier ready. Time elapsed: 147.605ms\n",
      "\n",
      "*** Training of model 'DecisionTreeClassifier' started.\n",
      "*** Training of classifier ready. Time elapsed: 89.469ms\n",
      "\n",
      "*** Training of model 'DecisionTreeClassifier' started.\n",
      "*** Training of classifier ready. Time elapsed: 54.516ms\n",
      "\n",
      "*** Training of model 'DecisionTreeClassifier' started.\n",
      "*** Training of classifier ready. Time elapsed: 48.973ms\n",
      "\n",
      "*** Training of model 'DecisionTreeClassifier' started.\n",
      "*** Training of classifier ready. Time elapsed: 42.267ms\n",
      "\n",
      "*** Training of model 'DecisionTreeClassifier' started.\n",
      "*** Training of classifier ready. Time elapsed: 35.047ms\n",
      "\n",
      "*** Training of model 'DecisionTreeClassifier' started.\n",
      "*** Training of classifier ready. Time elapsed: 61.855ms\n",
      "\n"
     ]
    },
    {
     "name": "stderr",
     "output_type": "stream",
     "text": [
      "Data with input dtype bool, float64 were all converted to float64 by StandardScaler.\n",
      "Data with input dtype bool, float64 were all converted to float64 by StandardScaler.\n",
      "Data with input dtype bool, float64 were all converted to float64 by StandardScaler.\n"
     ]
    },
    {
     "name": "stdout",
     "output_type": "stream",
     "text": [
      "*** Training of model 'DecisionTreeClassifier' started.\n",
      "*** Training of classifier ready. Time elapsed: 72.029ms\n",
      "\n",
      "*** Training of model 'DecisionTreeClassifier' started.\n",
      "*** Training of classifier ready. Time elapsed: 61.702ms\n",
      "\n",
      "*** Training of model 'DecisionTreeClassifier' started.\n",
      "*** Training of classifier ready. Time elapsed: 53.721ms\n",
      "\n",
      "*** Training of model 'DecisionTreeClassifier' started.\n",
      "*** Training of classifier ready. Time elapsed: 48.205ms\n",
      "\n",
      "*** Training of model 'DecisionTreeClassifier' started.\n",
      "*** Training of classifier ready. Time elapsed: 40.923ms\n",
      "\n",
      "*** Training of model 'DecisionTreeClassifier' started.\n",
      "*** Training of classifier ready. Time elapsed: 36.226ms\n",
      "\n",
      "*** Training of model 'DecisionTreeClassifier' started.\n",
      "*** Training of classifier ready. Time elapsed: 64.847ms\n",
      "\n"
     ]
    },
    {
     "name": "stderr",
     "output_type": "stream",
     "text": [
      "Data with input dtype bool, float64 were all converted to float64 by StandardScaler.\n",
      "Data with input dtype bool, float64 were all converted to float64 by StandardScaler.\n",
      "Data with input dtype bool, float64 were all converted to float64 by StandardScaler.\n"
     ]
    },
    {
     "name": "stdout",
     "output_type": "stream",
     "text": [
      "*** Training of model 'DecisionTreeClassifier' started.\n",
      "*** Training of classifier ready. Time elapsed: 155.172ms\n",
      "\n",
      "*** Training of model 'DecisionTreeClassifier' started.\n",
      "*** Training of classifier ready. Time elapsed: 123.066ms\n",
      "\n",
      "*** Training of model 'DecisionTreeClassifier' started.\n",
      "*** Training of classifier ready. Time elapsed: 108.922ms\n",
      "\n",
      "*** Training of model 'DecisionTreeClassifier' started.\n",
      "*** Training of classifier ready. Time elapsed: 93.098ms\n",
      "\n",
      "*** Training of model 'DecisionTreeClassifier' started.\n",
      "*** Training of classifier ready. Time elapsed: 84.053ms\n",
      "\n",
      "*** Training of model 'DecisionTreeClassifier' started.\n",
      "*** Training of classifier ready. Time elapsed: 66.187ms\n",
      "\n",
      "*** Training of model 'DecisionTreeClassifier' started.\n",
      "*** Training of classifier ready. Time elapsed: 13.4ms\n",
      "\n"
     ]
    },
    {
     "name": "stderr",
     "output_type": "stream",
     "text": [
      "Data with input dtype bool, float64 were all converted to float64 by StandardScaler.\n",
      "Data with input dtype bool, float64 were all converted to float64 by StandardScaler.\n",
      "Data with input dtype bool, float64 were all converted to float64 by StandardScaler.\n"
     ]
    },
    {
     "name": "stdout",
     "output_type": "stream",
     "text": [
      "*** Training of model 'DecisionTreeClassifier' started.\n",
      "*** Training of classifier ready. Time elapsed: 142.863ms\n",
      "\n",
      "*** Training of model 'DecisionTreeClassifier' started.\n",
      "*** Training of classifier ready. Time elapsed: 132.764ms\n",
      "\n",
      "*** Training of model 'DecisionTreeClassifier' started.\n",
      "*** Training of classifier ready. Time elapsed: 87.947ms\n",
      "\n",
      "*** Training of model 'DecisionTreeClassifier' started.\n",
      "*** Training of classifier ready. Time elapsed: 49.952ms\n",
      "\n",
      "*** Training of model 'DecisionTreeClassifier' started.\n",
      "*** Training of classifier ready. Time elapsed: 43.112ms\n",
      "\n",
      "*** Training of model 'DecisionTreeClassifier' started.\n",
      "*** Training of classifier ready. Time elapsed: 38.609ms\n",
      "\n",
      "*** Training of model 'DecisionTreeClassifier' started.\n",
      "*** Training of classifier ready. Time elapsed: 6.776ms\n",
      "\n"
     ]
    },
    {
     "name": "stderr",
     "output_type": "stream",
     "text": [
      "Data with input dtype bool, float64 were all converted to float64 by StandardScaler.\n",
      "Data with input dtype bool, float64 were all converted to float64 by StandardScaler.\n",
      "Data with input dtype bool, float64 were all converted to float64 by StandardScaler.\n"
     ]
    },
    {
     "name": "stdout",
     "output_type": "stream",
     "text": [
      "*** Training of model 'DecisionTreeClassifier' started.\n",
      "*** Training of classifier ready. Time elapsed: 71.994ms\n",
      "\n",
      "*** Training of model 'DecisionTreeClassifier' started.\n",
      "*** Training of classifier ready. Time elapsed: 66.147ms\n",
      "\n",
      "*** Training of model 'DecisionTreeClassifier' started.\n",
      "*** Training of classifier ready. Time elapsed: 56.688ms\n",
      "\n",
      "*** Training of model 'DecisionTreeClassifier' started.\n",
      "*** Training of classifier ready. Time elapsed: 50.603ms\n",
      "\n",
      "*** Training of model 'DecisionTreeClassifier' started.\n",
      "*** Training of classifier ready. Time elapsed: 42.736ms\n",
      "\n",
      "*** Training of model 'DecisionTreeClassifier' started.\n",
      "*** Training of classifier ready. Time elapsed: 37.222ms\n",
      "\n",
      "*** Training of model 'DecisionTreeClassifier' started.\n",
      "*** Training of classifier ready. Time elapsed: 6.609ms\n",
      "\n"
     ]
    },
    {
     "name": "stderr",
     "output_type": "stream",
     "text": [
      "Data with input dtype bool, float64 were all converted to float64 by StandardScaler.\n",
      "Data with input dtype bool, float64 were all converted to float64 by StandardScaler.\n",
      "Data with input dtype bool, float64 were all converted to float64 by StandardScaler.\n"
     ]
    },
    {
     "name": "stdout",
     "output_type": "stream",
     "text": [
      "*** Training of model 'DecisionTreeClassifier' started.\n",
      "*** Training of classifier ready. Time elapsed: 72.889ms\n",
      "\n",
      "*** Training of model 'DecisionTreeClassifier' started.\n",
      "*** Training of classifier ready. Time elapsed: 62.629ms\n",
      "\n",
      "*** Training of model 'DecisionTreeClassifier' started.\n",
      "*** Training of classifier ready. Time elapsed: 54.478ms\n",
      "\n",
      "*** Training of model 'DecisionTreeClassifier' started.\n",
      "*** Training of classifier ready. Time elapsed: 89.399ms\n",
      "\n",
      "*** Training of model 'DecisionTreeClassifier' started.\n",
      "*** Training of classifier ready. Time elapsed: 86.515ms\n",
      "\n",
      "*** Training of model 'DecisionTreeClassifier' started.\n",
      "*** Training of classifier ready. Time elapsed: 72.838ms\n",
      "\n",
      "*** Training of model 'DecisionTreeClassifier' started.\n",
      "*** Training of classifier ready. Time elapsed: 13.427ms\n",
      "\n"
     ]
    },
    {
     "name": "stderr",
     "output_type": "stream",
     "text": [
      "Data with input dtype bool, float64 were all converted to float64 by StandardScaler.\n",
      "Data with input dtype bool, float64 were all converted to float64 by StandardScaler.\n",
      "Data with input dtype bool, float64 were all converted to float64 by StandardScaler.\n"
     ]
    },
    {
     "name": "stdout",
     "output_type": "stream",
     "text": [
      "*** Training of model 'DecisionTreeClassifier' started.\n",
      "*** Training of classifier ready. Time elapsed: 141.455ms\n",
      "\n",
      "*** Training of model 'DecisionTreeClassifier' started.\n",
      "*** Training of classifier ready. Time elapsed: 103.636ms\n",
      "\n",
      "*** Training of model 'DecisionTreeClassifier' started.\n",
      "*** Training of classifier ready. Time elapsed: 97.537ms\n",
      "\n",
      "*** Training of model 'DecisionTreeClassifier' started.\n",
      "*** Training of classifier ready. Time elapsed: 89.277ms\n",
      "\n",
      "*** Training of model 'DecisionTreeClassifier' started.\n",
      "*** Training of classifier ready. Time elapsed: 67.556ms\n",
      "\n",
      "*** Training of model 'DecisionTreeClassifier' started.\n",
      "*** Training of classifier ready. Time elapsed: 62.314ms\n",
      "\n",
      "*** Training of model 'DecisionTreeClassifier' started.\n",
      "*** Training of classifier ready. Time elapsed: 6.437ms\n",
      "\n"
     ]
    },
    {
     "name": "stderr",
     "output_type": "stream",
     "text": [
      "Data with input dtype bool, float64 were all converted to float64 by StandardScaler.\n",
      "Data with input dtype bool, float64 were all converted to float64 by StandardScaler.\n",
      "Data with input dtype bool, float64 were all converted to float64 by StandardScaler.\n"
     ]
    },
    {
     "name": "stdout",
     "output_type": "stream",
     "text": [
      "*** Training of model 'DecisionTreeClassifier' started.\n",
      "*** Training of classifier ready. Time elapsed: 137.457ms\n",
      "\n",
      "*** Training of model 'DecisionTreeClassifier' started.\n",
      "*** Training of classifier ready. Time elapsed: 113.232ms\n",
      "\n",
      "*** Training of model 'DecisionTreeClassifier' started.\n",
      "*** Training of classifier ready. Time elapsed: 99.181ms\n",
      "\n",
      "*** Training of model 'DecisionTreeClassifier' started.\n",
      "*** Training of classifier ready. Time elapsed: 87.743ms\n",
      "\n",
      "*** Training of model 'DecisionTreeClassifier' started.\n",
      "*** Training of classifier ready. Time elapsed: 61.118ms\n",
      "\n",
      "*** Training of model 'DecisionTreeClassifier' started.\n",
      "*** Training of classifier ready. Time elapsed: 36.753ms\n",
      "\n",
      "*** Training of model 'DecisionTreeClassifier' started.\n",
      "*** Training of classifier ready. Time elapsed: 98.069ms\n",
      "\n"
     ]
    },
    {
     "name": "stderr",
     "output_type": "stream",
     "text": [
      "Data with input dtype bool, float64 were all converted to float64 by StandardScaler.\n",
      "Data with input dtype bool, float64 were all converted to float64 by StandardScaler.\n",
      "Data with input dtype bool, float64 were all converted to float64 by StandardScaler.\n"
     ]
    },
    {
     "name": "stdout",
     "output_type": "stream",
     "text": [
      "*** Training of model 'DecisionTreeClassifier' started.\n",
      "*** Training of classifier ready. Time elapsed: 76.254ms\n",
      "\n",
      "*** Training of model 'DecisionTreeClassifier' started.\n",
      "*** Training of classifier ready. Time elapsed: 64.306ms\n",
      "\n",
      "*** Training of model 'DecisionTreeClassifier' started.\n",
      "*** Training of classifier ready. Time elapsed: 60.689ms\n",
      "\n",
      "*** Training of model 'DecisionTreeClassifier' started.\n",
      "*** Training of classifier ready. Time elapsed: 51.761ms\n",
      "\n",
      "*** Training of model 'DecisionTreeClassifier' started.\n",
      "*** Training of classifier ready. Time elapsed: 44.512ms\n",
      "\n",
      "*** Training of model 'DecisionTreeClassifier' started.\n",
      "*** Training of classifier ready. Time elapsed: 37.501ms\n",
      "\n",
      "*** Training of model 'DecisionTreeClassifier' started.\n",
      "*** Training of classifier ready. Time elapsed: 101.379ms\n",
      "\n"
     ]
    },
    {
     "name": "stderr",
     "output_type": "stream",
     "text": [
      "Data with input dtype bool, float64 were all converted to float64 by StandardScaler.\n",
      "Data with input dtype bool, float64 were all converted to float64 by StandardScaler.\n",
      "Data with input dtype bool, float64 were all converted to float64 by StandardScaler.\n"
     ]
    },
    {
     "name": "stdout",
     "output_type": "stream",
     "text": [
      "*** Training of model 'DecisionTreeClassifier' started.\n",
      "*** Training of classifier ready. Time elapsed: 76.372ms\n",
      "\n",
      "*** Training of model 'DecisionTreeClassifier' started.\n",
      "*** Training of classifier ready. Time elapsed: 64.267ms\n",
      "\n",
      "*** Training of model 'DecisionTreeClassifier' started.\n",
      "*** Training of classifier ready. Time elapsed: 59.978ms\n",
      "\n",
      "*** Training of model 'DecisionTreeClassifier' started.\n",
      "*** Training of classifier ready. Time elapsed: 56.102ms\n",
      "\n",
      "*** Training of model 'DecisionTreeClassifier' started.\n",
      "*** Training of classifier ready. Time elapsed: 49.261ms\n",
      "\n",
      "*** Training of model 'DecisionTreeClassifier' started.\n",
      "*** Training of classifier ready. Time elapsed: 71.012ms\n",
      "\n",
      "*** Training of model 'DecisionTreeClassifier' started.\n",
      "*** Training of classifier ready. Time elapsed: 135.965ms\n",
      "\n"
     ]
    },
    {
     "name": "stderr",
     "output_type": "stream",
     "text": [
      "Data with input dtype bool, float64 were all converted to float64 by StandardScaler.\n",
      "Data with input dtype bool, float64 were all converted to float64 by StandardScaler.\n",
      "Data with input dtype bool, float64 were all converted to float64 by StandardScaler.\n"
     ]
    },
    {
     "name": "stdout",
     "output_type": "stream",
     "text": [
      "*** Training of model 'DecisionTreeClassifier' started.\n",
      "*** Training of classifier ready. Time elapsed: 71.102ms\n",
      "\n",
      "*** Training of model 'DecisionTreeClassifier' started.\n",
      "*** Training of classifier ready. Time elapsed: 61.906ms\n",
      "\n",
      "*** Training of model 'DecisionTreeClassifier' started.\n",
      "*** Training of classifier ready. Time elapsed: 54.748ms\n",
      "\n",
      "*** Training of model 'DecisionTreeClassifier' started.\n",
      "*** Training of classifier ready. Time elapsed: 51.016ms\n",
      "\n",
      "*** Training of model 'DecisionTreeClassifier' started.\n",
      "*** Training of classifier ready. Time elapsed: 42.646ms\n",
      "\n",
      "*** Training of model 'DecisionTreeClassifier' started.\n",
      "*** Training of classifier ready. Time elapsed: 36.341ms\n",
      "\n",
      "*** Training of model 'DecisionTreeClassifier' started.\n",
      "*** Training of classifier ready. Time elapsed: 100.467ms\n",
      "\n"
     ]
    },
    {
     "name": "stderr",
     "output_type": "stream",
     "text": [
      "Data with input dtype bool, float64 were all converted to float64 by StandardScaler.\n",
      "Data with input dtype bool, float64 were all converted to float64 by StandardScaler.\n",
      "Data with input dtype bool, float64 were all converted to float64 by StandardScaler.\n"
     ]
    },
    {
     "name": "stdout",
     "output_type": "stream",
     "text": [
      "*** Training of model 'DecisionTreeClassifier' started.\n",
      "*** Training of classifier ready. Time elapsed: 132.591ms\n",
      "\n",
      "*** Training of model 'DecisionTreeClassifier' started.\n",
      "*** Training of classifier ready. Time elapsed: 107.859ms\n",
      "\n",
      "*** Training of model 'DecisionTreeClassifier' started.\n",
      "*** Training of classifier ready. Time elapsed: 99.091ms\n",
      "\n",
      "*** Training of model 'DecisionTreeClassifier' started.\n",
      "*** Training of classifier ready. Time elapsed: 91.507ms\n",
      "\n",
      "*** Training of model 'DecisionTreeClassifier' started.\n",
      "*** Training of classifier ready. Time elapsed: 73.406ms\n",
      "\n",
      "*** Training of model 'DecisionTreeClassifier' started.\n",
      "*** Training of classifier ready. Time elapsed: 62.473ms\n",
      "\n",
      "*** Training of model 'DecisionTreeClassifier' started.\n",
      "*** Training of classifier ready. Time elapsed: 202.736ms\n",
      "\n"
     ]
    },
    {
     "name": "stderr",
     "output_type": "stream",
     "text": [
      "Data with input dtype bool, float64 were all converted to float64 by StandardScaler.\n",
      "Data with input dtype bool, float64 were all converted to float64 by StandardScaler.\n",
      "Data with input dtype bool, float64 were all converted to float64 by StandardScaler.\n"
     ]
    },
    {
     "name": "stdout",
     "output_type": "stream",
     "text": [
      "*** Training of model 'DecisionTreeClassifier' started.\n",
      "*** Training of classifier ready. Time elapsed: 134.424ms\n",
      "\n",
      "*** Training of model 'DecisionTreeClassifier' started.\n",
      "*** Training of classifier ready. Time elapsed: 116.052ms\n",
      "\n",
      "*** Training of model 'DecisionTreeClassifier' started.\n",
      "*** Training of classifier ready. Time elapsed: 118.452ms\n",
      "\n",
      "*** Training of model 'DecisionTreeClassifier' started.\n",
      "*** Training of classifier ready. Time elapsed: 97.578ms\n",
      "\n",
      "*** Training of model 'DecisionTreeClassifier' started.\n",
      "*** Training of classifier ready. Time elapsed: 117.689ms\n",
      "\n",
      "*** Training of model 'DecisionTreeClassifier' started.\n",
      "*** Training of classifier ready. Time elapsed: 69.144ms\n",
      "\n",
      "*** Training of model 'DecisionTreeClassifier' started.\n",
      "*** Training of classifier ready. Time elapsed: 68.449ms\n",
      "\n"
     ]
    },
    {
     "name": "stderr",
     "output_type": "stream",
     "text": [
      "Data with input dtype bool, float64 were all converted to float64 by StandardScaler.\n",
      "Data with input dtype bool, float64 were all converted to float64 by StandardScaler.\n",
      "Data with input dtype bool, float64 were all converted to float64 by StandardScaler.\n"
     ]
    },
    {
     "name": "stdout",
     "output_type": "stream",
     "text": [
      "*** Training of model 'DecisionTreeClassifier' started.\n",
      "*** Training of classifier ready. Time elapsed: 74.09ms\n",
      "\n",
      "*** Training of model 'DecisionTreeClassifier' started.\n",
      "*** Training of classifier ready. Time elapsed: 65.42ms\n",
      "\n",
      "*** Training of model 'DecisionTreeClassifier' started.\n",
      "*** Training of classifier ready. Time elapsed: 59.601ms\n",
      "\n",
      "*** Training of model 'DecisionTreeClassifier' started.\n",
      "*** Training of classifier ready. Time elapsed: 52.229ms\n",
      "\n",
      "*** Training of model 'DecisionTreeClassifier' started.\n",
      "*** Training of classifier ready. Time elapsed: 45.835ms\n",
      "\n",
      "*** Training of model 'DecisionTreeClassifier' started.\n",
      "*** Training of classifier ready. Time elapsed: 38.413ms\n",
      "\n",
      "*** Training of model 'DecisionTreeClassifier' started.\n",
      "*** Training of classifier ready. Time elapsed: 38.036ms\n",
      "\n"
     ]
    },
    {
     "name": "stderr",
     "output_type": "stream",
     "text": [
      "Data with input dtype bool, float64 were all converted to float64 by StandardScaler.\n",
      "Data with input dtype bool, float64 were all converted to float64 by StandardScaler.\n",
      "Data with input dtype bool, float64 were all converted to float64 by StandardScaler.\n"
     ]
    },
    {
     "name": "stdout",
     "output_type": "stream",
     "text": [
      "*** Training of model 'DecisionTreeClassifier' started.\n",
      "*** Training of classifier ready. Time elapsed: 75.623ms\n",
      "\n",
      "*** Training of model 'DecisionTreeClassifier' started.\n",
      "*** Training of classifier ready. Time elapsed: 64.521ms\n",
      "\n",
      "*** Training of model 'DecisionTreeClassifier' started.\n",
      "*** Training of classifier ready. Time elapsed: 59.3ms\n",
      "\n",
      "*** Training of model 'DecisionTreeClassifier' started.\n",
      "*** Training of classifier ready. Time elapsed: 51.169ms\n",
      "\n",
      "*** Training of model 'DecisionTreeClassifier' started.\n",
      "*** Training of classifier ready. Time elapsed: 44.019ms\n",
      "\n",
      "*** Training of model 'DecisionTreeClassifier' started.\n",
      "*** Training of classifier ready. Time elapsed: 39.758ms\n",
      "\n",
      "*** Training of model 'DecisionTreeClassifier' started.\n",
      "*** Training of classifier ready. Time elapsed: 38.505ms\n",
      "\n"
     ]
    },
    {
     "name": "stderr",
     "output_type": "stream",
     "text": [
      "Data with input dtype bool, float64 were all converted to float64 by StandardScaler.\n",
      "Data with input dtype bool, float64 were all converted to float64 by StandardScaler.\n",
      "Data with input dtype bool, float64 were all converted to float64 by StandardScaler.\n"
     ]
    },
    {
     "name": "stdout",
     "output_type": "stream",
     "text": [
      "*** Training of model 'DecisionTreeClassifier' started.\n",
      "*** Training of classifier ready. Time elapsed: 73.562ms\n",
      "\n",
      "*** Training of model 'DecisionTreeClassifier' started.\n",
      "*** Training of classifier ready. Time elapsed: 61.934ms\n",
      "\n",
      "*** Training of model 'DecisionTreeClassifier' started.\n",
      "*** Training of classifier ready. Time elapsed: 56.256ms\n",
      "\n",
      "*** Training of model 'DecisionTreeClassifier' started.\n",
      "*** Training of classifier ready. Time elapsed: 50.087ms\n",
      "\n",
      "*** Training of model 'DecisionTreeClassifier' started.\n",
      "*** Training of classifier ready. Time elapsed: 41.801ms\n",
      "\n",
      "*** Training of model 'DecisionTreeClassifier' started.\n",
      "*** Training of classifier ready. Time elapsed: 35.883ms\n",
      "\n",
      "*** Training of model 'DecisionTreeClassifier' started.\n",
      "*** Training of classifier ready. Time elapsed: 35.388ms\n",
      "\n"
     ]
    },
    {
     "name": "stderr",
     "output_type": "stream",
     "text": [
      "Data with input dtype bool, float64 were all converted to float64 by StandardScaler.\n",
      "Data with input dtype bool, float64 were all converted to float64 by StandardScaler.\n",
      "Data with input dtype bool, float64 were all converted to float64 by StandardScaler.\n"
     ]
    },
    {
     "name": "stdout",
     "output_type": "stream",
     "text": [
      "*** Training of model 'DecisionTreeClassifier' started.\n",
      "*** Training of classifier ready. Time elapsed: 85.785ms\n",
      "\n",
      "*** Training of model 'DecisionTreeClassifier' started.\n",
      "*** Training of classifier ready. Time elapsed: 60.084ms\n",
      "\n",
      "*** Training of model 'DecisionTreeClassifier' started.\n",
      "*** Training of classifier ready. Time elapsed: 54.806ms\n",
      "\n",
      "*** Training of model 'DecisionTreeClassifier' started.\n",
      "*** Training of classifier ready. Time elapsed: 47.169ms\n",
      "\n",
      "*** Training of model 'DecisionTreeClassifier' started.\n",
      "*** Training of classifier ready. Time elapsed: 39.772ms\n",
      "\n",
      "*** Training of model 'DecisionTreeClassifier' started.\n",
      "*** Training of classifier ready. Time elapsed: 34.324ms\n",
      "\n",
      "*** Training of model 'DecisionTreeClassifier' started.\n",
      "*** Training of classifier ready. Time elapsed: 34.909ms\n",
      "\n"
     ]
    },
    {
     "name": "stderr",
     "output_type": "stream",
     "text": [
      "Data with input dtype bool, float64 were all converted to float64 by StandardScaler.\n",
      "Data with input dtype bool, float64 were all converted to float64 by StandardScaler.\n",
      "Data with input dtype bool, float64 were all converted to float64 by StandardScaler.\n"
     ]
    },
    {
     "name": "stdout",
     "output_type": "stream",
     "text": [
      "*** Training of model 'LogisticRegression' started.\n",
      "*** Training of classifier ready. Time elapsed: 597.339ms\n",
      "\n",
      "*** Training of model 'LogisticRegression' started.\n",
      "*** Training of classifier ready. Time elapsed: 857.153ms\n",
      "\n",
      "*** Training of model 'LogisticRegression' started.\n",
      "*** Training of classifier ready. Time elapsed: 335.271ms\n",
      "\n",
      "*** Training of model 'LogisticRegression' started.\n",
      "*** Training of classifier ready. Time elapsed: 655.682ms\n",
      "\n",
      "*** Training of model 'LogisticRegression' started.\n",
      "*** Training of classifier ready. Time elapsed: 513.759ms\n",
      "\n",
      "*** Training of model 'LogisticRegression' started.\n",
      "*** Training of classifier ready. Time elapsed: 419.154ms\n",
      "\n",
      "*** Training of model 'LogisticRegression' started.\n",
      "*** Training of classifier ready. Time elapsed: 40.273ms\n",
      "\n"
     ]
    },
    {
     "name": "stderr",
     "output_type": "stream",
     "text": [
      "Data with input dtype bool, float64 were all converted to float64 by StandardScaler.\n",
      "Data with input dtype bool, float64 were all converted to float64 by StandardScaler.\n",
      "Data with input dtype bool, float64 were all converted to float64 by StandardScaler.\n"
     ]
    },
    {
     "name": "stdout",
     "output_type": "stream",
     "text": [
      "*** Training of model 'LogisticRegression' started.\n",
      "*** Training of classifier ready. Time elapsed: 97.299ms\n",
      "\n",
      "*** Training of model 'LogisticRegression' started.\n",
      "*** Training of classifier ready. Time elapsed: 988.776ms\n",
      "\n",
      "*** Training of model 'LogisticRegression' started.\n",
      "*** Training of classifier ready. Time elapsed: 248.674ms\n",
      "\n",
      "*** Training of model 'LogisticRegression' started.\n",
      "*** Training of classifier ready. Time elapsed: 812.471ms\n",
      "\n",
      "*** Training of model 'LogisticRegression' started.\n",
      "*** Training of classifier ready. Time elapsed: 577.796ms\n",
      "\n",
      "*** Training of model 'LogisticRegression' started.\n",
      "*** Training of classifier ready. Time elapsed: 364.426ms\n",
      "\n",
      "*** Training of model 'LogisticRegression' started.\n",
      "*** Training of classifier ready. Time elapsed: 214.731ms\n",
      "\n"
     ]
    },
    {
     "name": "stderr",
     "output_type": "stream",
     "text": [
      "Data with input dtype bool, float64 were all converted to float64 by StandardScaler.\n",
      "Data with input dtype bool, float64 were all converted to float64 by StandardScaler.\n",
      "Data with input dtype bool, float64 were all converted to float64 by StandardScaler.\n"
     ]
    },
    {
     "name": "stdout",
     "output_type": "stream",
     "text": [
      "*** Training of model 'LogisticRegression' started.\n",
      "*** Training of classifier ready. Time elapsed: 724.611ms\n",
      "\n",
      "*** Training of model 'LogisticRegression' started.\n",
      "*** Training of classifier ready. Time elapsed: 780.912ms\n",
      "\n",
      "*** Training of model 'LogisticRegression' started.\n",
      "*** Training of classifier ready. Time elapsed: 548.907ms\n",
      "\n",
      "*** Training of model 'LogisticRegression' started.\n",
      "*** Training of classifier ready. Time elapsed: 574.235ms\n",
      "\n",
      "*** Training of model 'LogisticRegression' started.\n",
      "*** Training of classifier ready. Time elapsed: 37.556ms\n",
      "\n",
      "*** Training of model 'LogisticRegression' started.\n",
      "*** Training of classifier ready. Time elapsed: 817.886ms\n",
      "\n",
      "*** Training of model 'LogisticRegression' started.\n",
      "*** Training of classifier ready. Time elapsed: 943.85ms\n",
      "\n"
     ]
    },
    {
     "name": "stderr",
     "output_type": "stream",
     "text": [
      "Data with input dtype bool, float64 were all converted to float64 by StandardScaler.\n",
      "Data with input dtype bool, float64 were all converted to float64 by StandardScaler.\n",
      "Data with input dtype bool, float64 were all converted to float64 by StandardScaler.\n"
     ]
    },
    {
     "name": "stdout",
     "output_type": "stream",
     "text": [
      "*** Training of model 'LogisticRegression' started.\n",
      "*** Training of classifier ready. Time elapsed: 748.344ms\n",
      "\n",
      "*** Training of model 'LogisticRegression' started.\n",
      "*** Training of classifier ready. Time elapsed: 838.318ms\n",
      "\n",
      "*** Training of model 'LogisticRegression' started.\n",
      "*** Training of classifier ready. Time elapsed: 468.578ms\n",
      "\n",
      "*** Training of model 'LogisticRegression' started.\n",
      "*** Training of classifier ready. Time elapsed: 322.677ms\n",
      "\n",
      "*** Training of model 'LogisticRegression' started.\n",
      "*** Training of classifier ready. Time elapsed: 654.133ms\n",
      "\n",
      "*** Training of model 'LogisticRegression' started.\n",
      "*** Training of classifier ready. Time elapsed: 977.095ms\n",
      "\n",
      "*** Training of model 'LogisticRegression' started.\n",
      "*** Training of classifier ready. Time elapsed: 570.387ms\n",
      "\n"
     ]
    },
    {
     "name": "stderr",
     "output_type": "stream",
     "text": [
      "Data with input dtype bool, float64 were all converted to float64 by StandardScaler.\n",
      "Data with input dtype bool, float64 were all converted to float64 by StandardScaler.\n",
      "Data with input dtype bool, float64 were all converted to float64 by StandardScaler.\n"
     ]
    },
    {
     "name": "stdout",
     "output_type": "stream",
     "text": [
      "*** Training of model 'LogisticRegression' started.\n",
      "*** Training of classifier ready. Time elapsed: 784.915ms\n",
      "\n",
      "*** Training of model 'LogisticRegression' started.\n",
      "*** Training of classifier ready. Time elapsed: 62.202ms\n",
      "\n",
      "*** Training of model 'LogisticRegression' started.\n",
      "*** Training of classifier ready. Time elapsed: 972.294ms\n",
      "\n",
      "*** Training of model 'LogisticRegression' started.\n",
      "*** Training of classifier ready. Time elapsed: 664.824ms\n",
      "\n",
      "*** Training of model 'LogisticRegression' started.\n",
      "*** Training of classifier ready. Time elapsed: 467.485ms\n",
      "\n",
      "*** Training of model 'LogisticRegression' started.\n",
      "*** Training of classifier ready. Time elapsed: 74.456ms\n",
      "\n",
      "*** Training of model 'LogisticRegression' started.\n",
      "*** Training of classifier ready. Time elapsed: 331.6ms\n",
      "\n"
     ]
    },
    {
     "name": "stderr",
     "output_type": "stream",
     "text": [
      "Data with input dtype bool, float64 were all converted to float64 by StandardScaler.\n",
      "Data with input dtype bool, float64 were all converted to float64 by StandardScaler.\n",
      "Data with input dtype bool, float64 were all converted to float64 by StandardScaler.\n"
     ]
    },
    {
     "name": "stdout",
     "output_type": "stream",
     "text": [
      "*** Training of model 'LogisticRegression' started.\n",
      "*** Training of classifier ready. Time elapsed: 173.528ms\n",
      "\n",
      "*** Training of model 'LogisticRegression' started.\n",
      "*** Training of classifier ready. Time elapsed: 115.416ms\n",
      "\n",
      "*** Training of model 'LogisticRegression' started.\n",
      "*** Training of classifier ready. Time elapsed: 142.864ms\n",
      "\n",
      "*** Training of model 'LogisticRegression' started.\n",
      "*** Training of classifier ready. Time elapsed: 105.1ms\n",
      "\n",
      "*** Training of model 'LogisticRegression' started.\n",
      "*** Training of classifier ready. Time elapsed: 265.739ms\n",
      "\n",
      "*** Training of model 'LogisticRegression' started.\n",
      "*** Training of classifier ready. Time elapsed: 363.706ms\n",
      "\n",
      "*** Training of model 'LogisticRegression' started.\n",
      "*** Training of classifier ready. Time elapsed: 33.43ms\n",
      "\n"
     ]
    },
    {
     "name": "stderr",
     "output_type": "stream",
     "text": [
      "Data with input dtype bool, float64 were all converted to float64 by StandardScaler.\n",
      "Data with input dtype bool, float64 were all converted to float64 by StandardScaler.\n",
      "Data with input dtype bool, float64 were all converted to float64 by StandardScaler.\n"
     ]
    },
    {
     "name": "stdout",
     "output_type": "stream",
     "text": [
      "*** Training of model 'LogisticRegression' started.\n",
      "*** Training of classifier ready. Time elapsed: 352.839ms\n",
      "\n",
      "*** Training of model 'LogisticRegression' started.\n",
      "*** Training of classifier ready. Time elapsed: 583.715ms\n",
      "\n",
      "*** Training of model 'LogisticRegression' started.\n",
      "*** Training of classifier ready. Time elapsed: 801.995ms\n",
      "\n",
      "*** Training of model 'LogisticRegression' started.\n",
      "*** Training of classifier ready. Time elapsed: 149.481ms\n",
      "\n",
      "*** Training of model 'LogisticRegression' started.\n",
      "*** Training of classifier ready. Time elapsed: 191.937ms\n",
      "\n",
      "*** Training of model 'LogisticRegression' started.\n",
      "*** Training of classifier ready. Time elapsed: 700.649ms\n",
      "\n",
      "*** Training of model 'LogisticRegression' started.\n",
      "*** Training of classifier ready. Time elapsed: 248.096ms\n",
      "\n"
     ]
    },
    {
     "name": "stderr",
     "output_type": "stream",
     "text": [
      "Data with input dtype bool, float64 were all converted to float64 by StandardScaler.\n",
      "Data with input dtype bool, float64 were all converted to float64 by StandardScaler.\n",
      "Data with input dtype bool, float64 were all converted to float64 by StandardScaler.\n"
     ]
    },
    {
     "name": "stdout",
     "output_type": "stream",
     "text": [
      "*** Training of model 'LogisticRegression' started.\n",
      "*** Training of classifier ready. Time elapsed: 193.571ms\n",
      "\n",
      "*** Training of model 'LogisticRegression' started.\n",
      "*** Training of classifier ready. Time elapsed: 932.195ms\n",
      "\n",
      "*** Training of model 'LogisticRegression' started.\n",
      "*** Training of classifier ready. Time elapsed: 379.751ms\n",
      "\n",
      "*** Training of model 'LogisticRegression' started.\n",
      "*** Training of classifier ready. Time elapsed: 884.571ms\n",
      "\n",
      "*** Training of model 'LogisticRegression' started.\n",
      "*** Training of classifier ready. Time elapsed: 209.087ms\n",
      "\n",
      "*** Training of model 'LogisticRegression' started.\n",
      "*** Training of classifier ready. Time elapsed: 732.607ms\n",
      "\n",
      "*** Training of model 'LogisticRegression' started.\n",
      "*** Training of classifier ready. Time elapsed: 131.635ms\n",
      "\n"
     ]
    },
    {
     "name": "stderr",
     "output_type": "stream",
     "text": [
      "Data with input dtype bool, float64 were all converted to float64 by StandardScaler.\n",
      "Data with input dtype bool, float64 were all converted to float64 by StandardScaler.\n",
      "Data with input dtype bool, float64 were all converted to float64 by StandardScaler.\n"
     ]
    },
    {
     "name": "stdout",
     "output_type": "stream",
     "text": [
      "*** Training of model 'LogisticRegression' started.\n",
      "*** Training of classifier ready. Time elapsed: 755.879ms\n",
      "\n",
      "*** Training of model 'LogisticRegression' started.\n",
      "*** Training of classifier ready. Time elapsed: 303.156ms\n",
      "\n",
      "*** Training of model 'LogisticRegression' started.\n",
      "*** Training of classifier ready. Time elapsed: 254.688ms\n",
      "\n",
      "*** Training of model 'LogisticRegression' started.\n",
      "*** Training of classifier ready. Time elapsed: 779.541ms\n",
      "\n",
      "*** Training of model 'LogisticRegression' started.\n",
      "*** Training of classifier ready. Time elapsed: 939.532ms\n",
      "\n",
      "*** Training of model 'LogisticRegression' started.\n",
      "*** Training of classifier ready. Time elapsed: 111.875ms\n",
      "\n",
      "*** Training of model 'LogisticRegression' started.\n",
      "*** Training of classifier ready. Time elapsed: 131.366ms\n",
      "\n"
     ]
    },
    {
     "name": "stderr",
     "output_type": "stream",
     "text": [
      "Data with input dtype bool, float64 were all converted to float64 by StandardScaler.\n",
      "Data with input dtype bool, float64 were all converted to float64 by StandardScaler.\n",
      "Data with input dtype bool, float64 were all converted to float64 by StandardScaler.\n"
     ]
    },
    {
     "name": "stdout",
     "output_type": "stream",
     "text": [
      "*** Training of model 'LogisticRegression' started.\n",
      "*** Training of classifier ready. Time elapsed: 346.296ms\n",
      "\n",
      "*** Training of model 'LogisticRegression' started.\n",
      "*** Training of classifier ready. Time elapsed: 477.709ms\n",
      "\n",
      "*** Training of model 'LogisticRegression' started.\n",
      "*** Training of classifier ready. Time elapsed: 102.647ms\n",
      "\n",
      "*** Training of model 'LogisticRegression' started.\n",
      "*** Training of classifier ready. Time elapsed: 300.87ms\n",
      "\n",
      "*** Training of model 'LogisticRegression' started.\n",
      "*** Training of classifier ready. Time elapsed: 248.845ms\n",
      "\n",
      "*** Training of model 'LogisticRegression' started.\n",
      "*** Training of classifier ready. Time elapsed: 588.431ms\n",
      "\n",
      "*** Training of model 'LogisticRegression' started.\n",
      "*** Training of classifier ready. Time elapsed: 215.384ms\n",
      "\n"
     ]
    },
    {
     "name": "stderr",
     "output_type": "stream",
     "text": [
      "Data with input dtype bool, float64 were all converted to float64 by StandardScaler.\n",
      "Data with input dtype bool, float64 were all converted to float64 by StandardScaler.\n",
      "Data with input dtype bool, float64 were all converted to float64 by StandardScaler.\n"
     ]
    },
    {
     "name": "stdout",
     "output_type": "stream",
     "text": [
      "*** Training of model 'LogisticRegression' started.\n",
      "*** Training of classifier ready. Time elapsed: 537.032ms\n",
      "\n",
      "*** Training of model 'LogisticRegression' started.\n",
      "*** Training of classifier ready. Time elapsed: 230.589ms\n",
      "\n",
      "*** Training of model 'LogisticRegression' started.\n",
      "*** Training of classifier ready. Time elapsed: 56.684ms\n",
      "\n",
      "*** Training of model 'LogisticRegression' started.\n",
      "*** Training of classifier ready. Time elapsed: 49.228ms\n",
      "\n",
      "*** Training of model 'LogisticRegression' started.\n",
      "*** Training of classifier ready. Time elapsed: 772.604ms\n",
      "\n",
      "*** Training of model 'LogisticRegression' started.\n",
      "*** Training of classifier ready. Time elapsed: 380.154ms\n",
      "\n",
      "*** Training of model 'LogisticRegression' started.\n",
      "*** Training of classifier ready. Time elapsed: 103.44ms\n",
      "\n"
     ]
    },
    {
     "name": "stderr",
     "output_type": "stream",
     "text": [
      "Data with input dtype bool, float64 were all converted to float64 by StandardScaler.\n",
      "Data with input dtype bool, float64 were all converted to float64 by StandardScaler.\n",
      "Data with input dtype bool, float64 were all converted to float64 by StandardScaler.\n"
     ]
    },
    {
     "name": "stdout",
     "output_type": "stream",
     "text": [
      "*** Training of model 'LogisticRegression' started.\n",
      "*** Training of classifier ready. Time elapsed: 238.761ms\n",
      "\n",
      "*** Training of model 'LogisticRegression' started.\n",
      "*** Training of classifier ready. Time elapsed: 799.18ms\n",
      "\n",
      "*** Training of model 'LogisticRegression' started.\n",
      "*** Training of classifier ready. Time elapsed: 816.664ms\n",
      "\n",
      "*** Training of model 'LogisticRegression' started.\n",
      "*** Training of classifier ready. Time elapsed: 872.386ms\n",
      "\n",
      "*** Training of model 'LogisticRegression' started.\n",
      "*** Training of classifier ready. Time elapsed: 805.424ms\n",
      "\n",
      "*** Training of model 'LogisticRegression' started.\n",
      "*** Training of classifier ready. Time elapsed: 586.736ms\n",
      "\n",
      "*** Training of model 'LogisticRegression' started.\n",
      "*** Training of classifier ready. Time elapsed: 228.567ms\n",
      "\n"
     ]
    },
    {
     "name": "stderr",
     "output_type": "stream",
     "text": [
      "Data with input dtype bool, float64 were all converted to float64 by StandardScaler.\n",
      "Data with input dtype bool, float64 were all converted to float64 by StandardScaler.\n",
      "Data with input dtype bool, float64 were all converted to float64 by StandardScaler.\n"
     ]
    },
    {
     "name": "stdout",
     "output_type": "stream",
     "text": [
      "*** Training of model 'LogisticRegression' started.\n",
      "*** Training of classifier ready. Time elapsed: 456.125ms\n",
      "\n",
      "*** Training of model 'LogisticRegression' started.\n",
      "*** Training of classifier ready. Time elapsed: 745.359ms\n",
      "\n",
      "*** Training of model 'LogisticRegression' started.\n",
      "*** Training of classifier ready. Time elapsed: 813.362ms\n",
      "\n",
      "*** Training of model 'LogisticRegression' started.\n",
      "*** Training of classifier ready. Time elapsed: 414.775ms\n",
      "\n",
      "*** Training of model 'LogisticRegression' started.\n",
      "*** Training of classifier ready. Time elapsed: 11.456ms\n",
      "\n",
      "*** Training of model 'LogisticRegression' started.\n",
      "*** Training of classifier ready. Time elapsed: 37.31ms\n",
      "\n",
      "*** Training of model 'LogisticRegression' started.\n",
      "*** Training of classifier ready. Time elapsed: 997.004ms\n",
      "\n"
     ]
    },
    {
     "name": "stderr",
     "output_type": "stream",
     "text": [
      "Data with input dtype bool, float64 were all converted to float64 by StandardScaler.\n",
      "Data with input dtype bool, float64 were all converted to float64 by StandardScaler.\n",
      "Data with input dtype bool, float64 were all converted to float64 by StandardScaler.\n"
     ]
    },
    {
     "name": "stdout",
     "output_type": "stream",
     "text": [
      "*** Training of model 'LogisticRegression' started.\n",
      "*** Training of classifier ready. Time elapsed: 129.32ms\n",
      "\n",
      "*** Training of model 'LogisticRegression' started.\n",
      "*** Training of classifier ready. Time elapsed: 725.264ms\n",
      "\n",
      "*** Training of model 'LogisticRegression' started.\n",
      "*** Training of classifier ready. Time elapsed: 236.885ms\n",
      "\n",
      "*** Training of model 'LogisticRegression' started.\n",
      "*** Training of classifier ready. Time elapsed: 78.329ms\n",
      "\n",
      "*** Training of model 'LogisticRegression' started.\n",
      "*** Training of classifier ready. Time elapsed: 630.188ms\n",
      "\n",
      "*** Training of model 'LogisticRegression' started.\n",
      "*** Training of classifier ready. Time elapsed: 580.589ms\n",
      "\n",
      "*** Training of model 'LogisticRegression' started.\n",
      "*** Training of classifier ready. Time elapsed: 14.85ms\n",
      "\n"
     ]
    },
    {
     "name": "stderr",
     "output_type": "stream",
     "text": [
      "Data with input dtype bool, float64 were all converted to float64 by StandardScaler.\n",
      "Data with input dtype bool, float64 were all converted to float64 by StandardScaler.\n",
      "Data with input dtype bool, float64 were all converted to float64 by StandardScaler.\n"
     ]
    },
    {
     "name": "stdout",
     "output_type": "stream",
     "text": [
      "*** Training of model 'LogisticRegression' started.\n",
      "*** Training of classifier ready. Time elapsed: 989.657ms\n",
      "\n",
      "*** Training of model 'LogisticRegression' started.\n",
      "*** Training of classifier ready. Time elapsed: 860.793ms\n",
      "\n",
      "*** Training of model 'LogisticRegression' started.\n",
      "*** Training of classifier ready. Time elapsed: 848.01ms\n",
      "\n",
      "*** Training of model 'LogisticRegression' started.\n",
      "*** Training of classifier ready. Time elapsed: 656.986ms\n",
      "\n",
      "*** Training of model 'LogisticRegression' started.\n",
      "*** Training of classifier ready. Time elapsed: 765.675ms\n",
      "\n",
      "*** Training of model 'LogisticRegression' started.\n",
      "*** Training of classifier ready. Time elapsed: 912.701ms\n",
      "\n",
      "*** Training of model 'LogisticRegression' started.\n",
      "*** Training of classifier ready. Time elapsed: 813.587ms\n",
      "\n"
     ]
    },
    {
     "name": "stderr",
     "output_type": "stream",
     "text": [
      "Data with input dtype bool, float64 were all converted to float64 by StandardScaler.\n",
      "Data with input dtype bool, float64 were all converted to float64 by StandardScaler.\n",
      "Data with input dtype bool, float64 were all converted to float64 by StandardScaler.\n"
     ]
    },
    {
     "name": "stdout",
     "output_type": "stream",
     "text": [
      "*** Training of model 'LogisticRegression' started.\n",
      "*** Training of classifier ready. Time elapsed: 175.948ms\n",
      "\n",
      "*** Training of model 'LogisticRegression' started.\n",
      "*** Training of classifier ready. Time elapsed: 18.927ms\n",
      "\n",
      "*** Training of model 'LogisticRegression' started.\n",
      "*** Training of classifier ready. Time elapsed: 315.048ms\n",
      "\n",
      "*** Training of model 'LogisticRegression' started.\n",
      "*** Training of classifier ready. Time elapsed: 532.831ms\n",
      "\n",
      "*** Training of model 'LogisticRegression' started.\n",
      "*** Training of classifier ready. Time elapsed: 658.585ms\n",
      "\n",
      "*** Training of model 'LogisticRegression' started.\n",
      "*** Training of classifier ready. Time elapsed: 161.831ms\n",
      "\n",
      "*** Training of model 'LogisticRegression' started.\n",
      "*** Training of classifier ready. Time elapsed: 551.613ms\n",
      "\n"
     ]
    },
    {
     "name": "stderr",
     "output_type": "stream",
     "text": [
      "Data with input dtype bool, float64 were all converted to float64 by StandardScaler.\n",
      "Data with input dtype bool, float64 were all converted to float64 by StandardScaler.\n",
      "Data with input dtype bool, float64 were all converted to float64 by StandardScaler.\n"
     ]
    },
    {
     "name": "stdout",
     "output_type": "stream",
     "text": [
      "*** Training of model 'LogisticRegression' started.\n",
      "*** Training of classifier ready. Time elapsed: 396.912ms\n",
      "\n",
      "*** Training of model 'LogisticRegression' started.\n",
      "*** Training of classifier ready. Time elapsed: 360.446ms\n",
      "\n",
      "*** Training of model 'LogisticRegression' started.\n",
      "*** Training of classifier ready. Time elapsed: 979.033ms\n",
      "\n",
      "*** Training of model 'LogisticRegression' started.\n",
      "*** Training of classifier ready. Time elapsed: 955.688ms\n",
      "\n",
      "*** Training of model 'LogisticRegression' started.\n",
      "*** Training of classifier ready. Time elapsed: 253.161ms\n",
      "\n",
      "*** Training of model 'LogisticRegression' started.\n",
      "*** Training of classifier ready. Time elapsed: 169.961ms\n",
      "\n",
      "*** Training of model 'LogisticRegression' started.\n",
      "*** Training of classifier ready. Time elapsed: 446.775ms\n",
      "\n"
     ]
    },
    {
     "name": "stderr",
     "output_type": "stream",
     "text": [
      "Data with input dtype bool, float64 were all converted to float64 by StandardScaler.\n",
      "Data with input dtype bool, float64 were all converted to float64 by StandardScaler.\n",
      "Data with input dtype bool, float64 were all converted to float64 by StandardScaler.\n"
     ]
    },
    {
     "name": "stdout",
     "output_type": "stream",
     "text": [
      "*** Training of model 'LogisticRegression' started.\n",
      "*** Training of classifier ready. Time elapsed: 634.344ms\n",
      "\n",
      "*** Training of model 'LogisticRegression' started.\n",
      "*** Training of classifier ready. Time elapsed: 402.727ms\n",
      "\n",
      "*** Training of model 'LogisticRegression' started.\n",
      "*** Training of classifier ready. Time elapsed: 749.634ms\n",
      "\n",
      "*** Training of model 'LogisticRegression' started.\n",
      "*** Training of classifier ready. Time elapsed: 899.205ms\n",
      "\n",
      "*** Training of model 'LogisticRegression' started.\n",
      "*** Training of classifier ready. Time elapsed: 477.538ms\n",
      "\n",
      "*** Training of model 'LogisticRegression' started.\n",
      "*** Training of classifier ready. Time elapsed: 441.422ms\n",
      "\n",
      "*** Training of model 'LogisticRegression' started.\n",
      "*** Training of classifier ready. Time elapsed: 694.314ms\n",
      "\n"
     ]
    },
    {
     "name": "stderr",
     "output_type": "stream",
     "text": [
      "Data with input dtype bool, float64 were all converted to float64 by StandardScaler.\n",
      "Data with input dtype bool, float64 were all converted to float64 by StandardScaler.\n",
      "Data with input dtype bool, float64 were all converted to float64 by StandardScaler.\n"
     ]
    },
    {
     "name": "stdout",
     "output_type": "stream",
     "text": [
      "*** Training of model 'LogisticRegression' started.\n",
      "*** Training of classifier ready. Time elapsed: 265.31ms\n",
      "\n",
      "*** Training of model 'LogisticRegression' started.\n",
      "*** Training of classifier ready. Time elapsed: 96.892ms\n",
      "\n",
      "*** Training of model 'LogisticRegression' started.\n",
      "*** Training of classifier ready. Time elapsed: 844.702ms\n",
      "\n",
      "*** Training of model 'LogisticRegression' started.\n",
      "*** Training of classifier ready. Time elapsed: 27.988ms\n",
      "\n",
      "*** Training of model 'LogisticRegression' started.\n",
      "*** Training of classifier ready. Time elapsed: 266.73ms\n",
      "\n",
      "*** Training of model 'LogisticRegression' started.\n",
      "*** Training of classifier ready. Time elapsed: 828.13ms\n",
      "\n",
      "*** Training of model 'LogisticRegression' started.\n",
      "*** Training of classifier ready. Time elapsed: 202.294ms\n",
      "\n"
     ]
    },
    {
     "name": "stderr",
     "output_type": "stream",
     "text": [
      "Data with input dtype bool, float64 were all converted to float64 by StandardScaler.\n",
      "Data with input dtype bool, float64 were all converted to float64 by StandardScaler.\n",
      "Data with input dtype bool, float64 were all converted to float64 by StandardScaler.\n"
     ]
    },
    {
     "name": "stdout",
     "output_type": "stream",
     "text": [
      "*** Training of model 'LogisticRegression' started.\n",
      "*** Training of classifier ready. Time elapsed: 728.584ms\n",
      "\n",
      "*** Training of model 'LogisticRegression' started.\n",
      "*** Training of classifier ready. Time elapsed: 155.213ms\n",
      "\n",
      "*** Training of model 'LogisticRegression' started.\n",
      "*** Training of classifier ready. Time elapsed: 448.497ms\n",
      "\n",
      "*** Training of model 'LogisticRegression' started.\n",
      "*** Training of classifier ready. Time elapsed: 533.671ms\n",
      "\n",
      "*** Training of model 'LogisticRegression' started.\n",
      "*** Training of classifier ready. Time elapsed: 461.792ms\n",
      "\n",
      "*** Training of model 'LogisticRegression' started.\n",
      "*** Training of classifier ready. Time elapsed: 168.915ms\n",
      "\n",
      "*** Training of model 'LogisticRegression' started.\n",
      "*** Training of classifier ready. Time elapsed: 199.623ms\n",
      "\n"
     ]
    },
    {
     "name": "stderr",
     "output_type": "stream",
     "text": [
      "Columns (11,18,19,20,24,35,64,83,90,92,94,96,97,106,114,117,120,125,126,133,136,140,141,142,143,144,150,178,235,244,248,288,311,317,320,325,326,330,334,341,353,359,360,361,365,402,421,425,430,434,436,439,446) have mixed types. Specify dtype option on import or set low_memory=False.\n"
     ]
    },
    {
     "name": "stdout",
     "output_type": "stream",
     "text": [
      "Fetching data for <fiber.condition.mrns.MRNs object at 0x7f6e345d0278>\n",
      "Fetching data for Patient (...)\n"
     ]
    },
    {
     "name": "stderr",
     "output_type": "stream",
     "text": [
      "Data with input dtype bool, float64 were all converted to float64 by StandardScaler.\n",
      "Data with input dtype bool, float64 were all converted to float64 by StandardScaler.\n",
      "Data with input dtype bool, float64 were all converted to float64 by StandardScaler.\n"
     ]
    },
    {
     "name": "stdout",
     "output_type": "stream",
     "text": [
      "*** Training of model 'GradientBoostingClassifier' started.\n",
      "*** Training of classifier ready. Time elapsed: 875.617ms\n",
      "\n",
      "*** Training of model 'GradientBoostingClassifier' started.\n",
      "*** Training of classifier ready. Time elapsed: 749.426ms\n",
      "\n",
      "*** Training of model 'GradientBoostingClassifier' started.\n",
      "*** Training of classifier ready. Time elapsed: 343.809ms\n",
      "\n",
      "*** Training of model 'GradientBoostingClassifier' started.\n",
      "*** Training of classifier ready. Time elapsed: 208.321ms\n",
      "\n",
      "*** Training of model 'GradientBoostingClassifier' started.\n",
      "*** Training of classifier ready. Time elapsed: 872.462ms\n",
      "\n",
      "*** Training of model 'GradientBoostingClassifier' started.\n",
      "*** Training of classifier ready. Time elapsed: 576.319ms\n",
      "\n",
      "*** Training of model 'GradientBoostingClassifier' started.\n",
      "*** Training of classifier ready. Time elapsed: 244.059ms\n",
      "\n"
     ]
    },
    {
     "name": "stderr",
     "output_type": "stream",
     "text": [
      "Data with input dtype bool, float64 were all converted to float64 by StandardScaler.\n",
      "Data with input dtype bool, float64 were all converted to float64 by StandardScaler.\n",
      "Data with input dtype bool, float64 were all converted to float64 by StandardScaler.\n"
     ]
    },
    {
     "name": "stdout",
     "output_type": "stream",
     "text": [
      "*** Training of model 'GradientBoostingClassifier' started.\n",
      "*** Training of classifier ready. Time elapsed: 410.669ms\n",
      "\n",
      "*** Training of model 'GradientBoostingClassifier' started.\n",
      "*** Training of classifier ready. Time elapsed: 665.913ms\n",
      "\n",
      "*** Training of model 'GradientBoostingClassifier' started.\n",
      "*** Training of classifier ready. Time elapsed: 369.477ms\n",
      "\n",
      "*** Training of model 'GradientBoostingClassifier' started.\n",
      "*** Training of classifier ready. Time elapsed: 72.243ms\n",
      "\n",
      "*** Training of model 'GradientBoostingClassifier' started.\n",
      "*** Training of classifier ready. Time elapsed: 776.02ms\n",
      "\n",
      "*** Training of model 'GradientBoostingClassifier' started.\n",
      "*** Training of classifier ready. Time elapsed: 121.209ms\n",
      "\n",
      "*** Training of model 'GradientBoostingClassifier' started.\n",
      "*** Training of classifier ready. Time elapsed: 672.179ms\n",
      "\n"
     ]
    },
    {
     "name": "stderr",
     "output_type": "stream",
     "text": [
      "Data with input dtype bool, float64 were all converted to float64 by StandardScaler.\n",
      "Data with input dtype bool, float64 were all converted to float64 by StandardScaler.\n",
      "Data with input dtype bool, float64 were all converted to float64 by StandardScaler.\n"
     ]
    },
    {
     "name": "stdout",
     "output_type": "stream",
     "text": [
      "*** Training of model 'GradientBoostingClassifier' started.\n",
      "*** Training of classifier ready. Time elapsed: 65.917ms\n",
      "\n",
      "*** Training of model 'GradientBoostingClassifier' started.\n",
      "*** Training of classifier ready. Time elapsed: 862.048ms\n",
      "\n",
      "*** Training of model 'GradientBoostingClassifier' started.\n",
      "*** Training of classifier ready. Time elapsed: 625.661ms\n",
      "\n",
      "*** Training of model 'GradientBoostingClassifier' started.\n",
      "*** Training of classifier ready. Time elapsed: 459.879ms\n",
      "\n",
      "*** Training of model 'GradientBoostingClassifier' started.\n",
      "*** Training of classifier ready. Time elapsed: 776.427ms\n",
      "\n",
      "*** Training of model 'GradientBoostingClassifier' started.\n",
      "*** Training of classifier ready. Time elapsed: 974.558ms\n",
      "\n",
      "*** Training of model 'GradientBoostingClassifier' started.\n",
      "*** Training of classifier ready. Time elapsed: 368.723ms\n",
      "\n"
     ]
    },
    {
     "name": "stderr",
     "output_type": "stream",
     "text": [
      "Data with input dtype bool, float64 were all converted to float64 by StandardScaler.\n",
      "Data with input dtype bool, float64 were all converted to float64 by StandardScaler.\n",
      "Data with input dtype bool, float64 were all converted to float64 by StandardScaler.\n"
     ]
    },
    {
     "name": "stdout",
     "output_type": "stream",
     "text": [
      "*** Training of model 'GradientBoostingClassifier' started.\n",
      "*** Training of classifier ready. Time elapsed: 635.142ms\n",
      "\n",
      "*** Training of model 'GradientBoostingClassifier' started.\n",
      "*** Training of classifier ready. Time elapsed: 767.773ms\n",
      "\n",
      "*** Training of model 'GradientBoostingClassifier' started.\n",
      "*** Training of classifier ready. Time elapsed: 328.51ms\n",
      "\n",
      "*** Training of model 'GradientBoostingClassifier' started.\n",
      "*** Training of classifier ready. Time elapsed: 150.55ms\n",
      "\n",
      "*** Training of model 'GradientBoostingClassifier' started.\n",
      "*** Training of classifier ready. Time elapsed: 498.221ms\n",
      "\n",
      "*** Training of model 'GradientBoostingClassifier' started.\n",
      "*** Training of classifier ready. Time elapsed: 493.385ms\n",
      "\n",
      "*** Training of model 'GradientBoostingClassifier' started.\n",
      "*** Training of classifier ready. Time elapsed: 628.005ms\n",
      "\n"
     ]
    },
    {
     "name": "stderr",
     "output_type": "stream",
     "text": [
      "F-score is ill-defined and being set to 0.0 due to no predicted samples.\n",
      "Precision is ill-defined and being set to 0.0 due to no predicted samples.\n",
      "invalid value encountered in long_scalars\n",
      "Data with input dtype bool, float64 were all converted to float64 by StandardScaler.\n",
      "Data with input dtype bool, float64 were all converted to float64 by StandardScaler.\n",
      "Data with input dtype bool, float64 were all converted to float64 by StandardScaler.\n"
     ]
    },
    {
     "name": "stdout",
     "output_type": "stream",
     "text": [
      "*** Training of model 'GradientBoostingClassifier' started.\n",
      "*** Training of classifier ready. Time elapsed: 1.132ms\n",
      "\n",
      "*** Training of model 'GradientBoostingClassifier' started.\n",
      "*** Training of classifier ready. Time elapsed: 561.409ms\n",
      "\n",
      "*** Training of model 'GradientBoostingClassifier' started.\n",
      "*** Training of classifier ready. Time elapsed: 946.199ms\n",
      "\n",
      "*** Training of model 'GradientBoostingClassifier' started.\n",
      "*** Training of classifier ready. Time elapsed: 502.993ms\n",
      "\n",
      "*** Training of model 'GradientBoostingClassifier' started.\n",
      "*** Training of classifier ready. Time elapsed: 351.504ms\n",
      "\n",
      "*** Training of model 'GradientBoostingClassifier' started.\n",
      "*** Training of classifier ready. Time elapsed: 237.73ms\n",
      "\n",
      "*** Training of model 'GradientBoostingClassifier' started.\n",
      "*** Training of classifier ready. Time elapsed: 245.604ms\n",
      "\n"
     ]
    },
    {
     "name": "stderr",
     "output_type": "stream",
     "text": [
      "Data with input dtype bool, float64 were all converted to float64 by StandardScaler.\n",
      "Data with input dtype bool, float64 were all converted to float64 by StandardScaler.\n",
      "Data with input dtype bool, float64 were all converted to float64 by StandardScaler.\n"
     ]
    },
    {
     "name": "stdout",
     "output_type": "stream",
     "text": [
      "*** Training of model 'GradientBoostingClassifier' started.\n",
      "*** Training of classifier ready. Time elapsed: 3.33ms\n",
      "\n",
      "*** Training of model 'GradientBoostingClassifier' started.\n",
      "*** Training of classifier ready. Time elapsed: 663.433ms\n",
      "\n",
      "*** Training of model 'GradientBoostingClassifier' started.\n",
      "*** Training of classifier ready. Time elapsed: 212.769ms\n",
      "\n",
      "*** Training of model 'GradientBoostingClassifier' started.\n",
      "*** Training of classifier ready. Time elapsed: 264.683ms\n",
      "\n",
      "*** Training of model 'GradientBoostingClassifier' started.\n",
      "*** Training of classifier ready. Time elapsed: 729.433ms\n",
      "\n",
      "*** Training of model 'GradientBoostingClassifier' started.\n",
      "*** Training of classifier ready. Time elapsed: 504.971ms\n",
      "\n",
      "*** Training of model 'GradientBoostingClassifier' started.\n",
      "*** Training of classifier ready. Time elapsed: 361.088ms\n",
      "\n"
     ]
    },
    {
     "name": "stderr",
     "output_type": "stream",
     "text": [
      "Data with input dtype bool, float64 were all converted to float64 by StandardScaler.\n",
      "Data with input dtype bool, float64 were all converted to float64 by StandardScaler.\n",
      "Data with input dtype bool, float64 were all converted to float64 by StandardScaler.\n"
     ]
    },
    {
     "name": "stdout",
     "output_type": "stream",
     "text": [
      "*** Training of model 'GradientBoostingClassifier' started.\n",
      "*** Training of classifier ready. Time elapsed: 818.399ms\n",
      "\n",
      "*** Training of model 'GradientBoostingClassifier' started.\n",
      "*** Training of classifier ready. Time elapsed: 523.822ms\n",
      "\n",
      "*** Training of model 'GradientBoostingClassifier' started.\n",
      "*** Training of classifier ready. Time elapsed: 345.795ms\n",
      "\n",
      "*** Training of model 'GradientBoostingClassifier' started.\n",
      "*** Training of classifier ready. Time elapsed: 102.582ms\n",
      "\n",
      "*** Training of model 'GradientBoostingClassifier' started.\n",
      "*** Training of classifier ready. Time elapsed: 793.476ms\n",
      "\n",
      "*** Training of model 'GradientBoostingClassifier' started.\n",
      "*** Training of classifier ready. Time elapsed: 486.44ms\n",
      "\n",
      "*** Training of model 'GradientBoostingClassifier' started.\n",
      "*** Training of classifier ready. Time elapsed: 333.194ms\n",
      "\n"
     ]
    },
    {
     "name": "stderr",
     "output_type": "stream",
     "text": [
      "Data with input dtype bool, float64 were all converted to float64 by StandardScaler.\n",
      "Data with input dtype bool, float64 were all converted to float64 by StandardScaler.\n",
      "Data with input dtype bool, float64 were all converted to float64 by StandardScaler.\n"
     ]
    },
    {
     "name": "stdout",
     "output_type": "stream",
     "text": [
      "*** Training of model 'GradientBoostingClassifier' started.\n",
      "*** Training of classifier ready. Time elapsed: 881.012ms\n",
      "\n",
      "*** Training of model 'GradientBoostingClassifier' started.\n",
      "*** Training of classifier ready. Time elapsed: 608.043ms\n",
      "\n",
      "*** Training of model 'GradientBoostingClassifier' started.\n",
      "*** Training of classifier ready. Time elapsed: 284.16ms\n",
      "\n",
      "*** Training of model 'GradientBoostingClassifier' started.\n",
      "*** Training of classifier ready. Time elapsed: 112.983ms\n",
      "\n",
      "*** Training of model 'GradientBoostingClassifier' started.\n",
      "*** Training of classifier ready. Time elapsed: 860.636ms\n",
      "\n",
      "*** Training of model 'GradientBoostingClassifier' started.\n",
      "*** Training of classifier ready. Time elapsed: 584.268ms\n",
      "\n",
      "*** Training of model 'GradientBoostingClassifier' started.\n",
      "*** Training of classifier ready. Time elapsed: 363.056ms\n",
      "\n"
     ]
    },
    {
     "name": "stderr",
     "output_type": "stream",
     "text": [
      "Data with input dtype bool, float64 were all converted to float64 by StandardScaler.\n",
      "Data with input dtype bool, float64 were all converted to float64 by StandardScaler.\n",
      "Data with input dtype bool, float64 were all converted to float64 by StandardScaler.\n"
     ]
    },
    {
     "name": "stdout",
     "output_type": "stream",
     "text": [
      "*** Training of model 'GradientBoostingClassifier' started.\n",
      "*** Training of classifier ready. Time elapsed: 932.608ms\n",
      "\n",
      "*** Training of model 'GradientBoostingClassifier' started.\n",
      "*** Training of classifier ready. Time elapsed: 714.966ms\n",
      "\n",
      "*** Training of model 'GradientBoostingClassifier' started.\n",
      "*** Training of classifier ready. Time elapsed: 453.034ms\n",
      "\n",
      "*** Training of model 'GradientBoostingClassifier' started.\n",
      "*** Training of classifier ready. Time elapsed: 172.622ms\n",
      "\n",
      "*** Training of model 'GradientBoostingClassifier' started.\n",
      "*** Training of classifier ready. Time elapsed: 895.615ms\n",
      "\n",
      "*** Training of model 'GradientBoostingClassifier' started.\n",
      "*** Training of classifier ready. Time elapsed: 620.635ms\n",
      "\n",
      "*** Training of model 'GradientBoostingClassifier' started.\n",
      "*** Training of classifier ready. Time elapsed: 353.638ms\n",
      "\n"
     ]
    },
    {
     "name": "stderr",
     "output_type": "stream",
     "text": [
      "Data with input dtype bool, float64 were all converted to float64 by StandardScaler.\n",
      "Data with input dtype bool, float64 were all converted to float64 by StandardScaler.\n",
      "Data with input dtype bool, float64 were all converted to float64 by StandardScaler.\n"
     ]
    },
    {
     "name": "stdout",
     "output_type": "stream",
     "text": [
      "*** Training of model 'GradientBoostingClassifier' started.\n",
      "*** Training of classifier ready. Time elapsed: 467.353ms\n",
      "\n",
      "*** Training of model 'GradientBoostingClassifier' started.\n",
      "*** Training of classifier ready. Time elapsed: 795.211ms\n",
      "\n",
      "*** Training of model 'GradientBoostingClassifier' started.\n",
      "*** Training of classifier ready. Time elapsed: 246.587ms\n",
      "\n",
      "*** Training of model 'GradientBoostingClassifier' started.\n",
      "*** Training of classifier ready. Time elapsed: 201.998ms\n",
      "\n",
      "*** Training of model 'GradientBoostingClassifier' started.\n",
      "*** Training of classifier ready. Time elapsed: 329.049ms\n",
      "\n",
      "*** Training of model 'GradientBoostingClassifier' started.\n",
      "*** Training of classifier ready. Time elapsed: 885.914ms\n",
      "\n",
      "*** Training of model 'GradientBoostingClassifier' started.\n",
      "*** Training of classifier ready. Time elapsed: 340.945ms\n",
      "\n"
     ]
    },
    {
     "name": "stderr",
     "output_type": "stream",
     "text": [
      "Data with input dtype bool, float64 were all converted to float64 by StandardScaler.\n",
      "Data with input dtype bool, float64 were all converted to float64 by StandardScaler.\n",
      "Data with input dtype bool, float64 were all converted to float64 by StandardScaler.\n"
     ]
    },
    {
     "name": "stdout",
     "output_type": "stream",
     "text": [
      "*** Training of model 'GradientBoostingClassifier' started.\n",
      "*** Training of classifier ready. Time elapsed: 704.499ms\n",
      "\n",
      "*** Training of model 'GradientBoostingClassifier' started.\n",
      "*** Training of classifier ready. Time elapsed: 860.499ms\n",
      "\n",
      "*** Training of model 'GradientBoostingClassifier' started.\n",
      "*** Training of classifier ready. Time elapsed: 534.591ms\n",
      "\n",
      "*** Training of model 'GradientBoostingClassifier' started.\n",
      "*** Training of classifier ready. Time elapsed: 832.004ms\n",
      "\n",
      "*** Training of model 'GradientBoostingClassifier' started.\n",
      "*** Training of classifier ready. Time elapsed: 630.402ms\n",
      "\n",
      "*** Training of model 'GradientBoostingClassifier' started.\n",
      "*** Training of classifier ready. Time elapsed: 685.956ms\n",
      "\n",
      "*** Training of model 'GradientBoostingClassifier' started.\n",
      "*** Training of classifier ready. Time elapsed: 207.08ms\n",
      "\n"
     ]
    },
    {
     "name": "stderr",
     "output_type": "stream",
     "text": [
      "Data with input dtype bool, float64 were all converted to float64 by StandardScaler.\n",
      "Data with input dtype bool, float64 were all converted to float64 by StandardScaler.\n",
      "Data with input dtype bool, float64 were all converted to float64 by StandardScaler.\n"
     ]
    },
    {
     "name": "stdout",
     "output_type": "stream",
     "text": [
      "*** Training of model 'GradientBoostingClassifier' started.\n",
      "*** Training of classifier ready. Time elapsed: 967.122ms\n",
      "\n",
      "*** Training of model 'GradientBoostingClassifier' started.\n",
      "*** Training of classifier ready. Time elapsed: 652.837ms\n",
      "\n",
      "*** Training of model 'GradientBoostingClassifier' started.\n",
      "*** Training of classifier ready. Time elapsed: 386.874ms\n",
      "\n",
      "*** Training of model 'GradientBoostingClassifier' started.\n",
      "*** Training of classifier ready. Time elapsed: 197.85ms\n",
      "\n",
      "*** Training of model 'GradientBoostingClassifier' started.\n",
      "*** Training of classifier ready. Time elapsed: 792.345ms\n",
      "\n",
      "*** Training of model 'GradientBoostingClassifier' started.\n",
      "*** Training of classifier ready. Time elapsed: 563.57ms\n",
      "\n",
      "*** Training of model 'GradientBoostingClassifier' started.\n",
      "*** Training of classifier ready. Time elapsed: 673.588ms\n",
      "\n"
     ]
    },
    {
     "name": "stderr",
     "output_type": "stream",
     "text": [
      "Data with input dtype bool, float64 were all converted to float64 by StandardScaler.\n",
      "Data with input dtype bool, float64 were all converted to float64 by StandardScaler.\n",
      "Data with input dtype bool, float64 were all converted to float64 by StandardScaler.\n"
     ]
    },
    {
     "name": "stdout",
     "output_type": "stream",
     "text": [
      "*** Training of model 'GradientBoostingClassifier' started.\n",
      "*** Training of classifier ready. Time elapsed: 874.884ms\n",
      "\n",
      "*** Training of model 'GradientBoostingClassifier' started.\n",
      "*** Training of classifier ready. Time elapsed: 662.992ms\n",
      "\n",
      "*** Training of model 'GradientBoostingClassifier' started.\n",
      "*** Training of classifier ready. Time elapsed: 570.729ms\n",
      "\n",
      "*** Training of model 'GradientBoostingClassifier' started.\n",
      "*** Training of classifier ready. Time elapsed: 97.154ms\n",
      "\n",
      "*** Training of model 'GradientBoostingClassifier' started.\n",
      "*** Training of classifier ready. Time elapsed: 290.079ms\n",
      "\n",
      "*** Training of model 'GradientBoostingClassifier' started.\n",
      "*** Training of classifier ready. Time elapsed: 996.581ms\n",
      "\n",
      "*** Training of model 'GradientBoostingClassifier' started.\n",
      "*** Training of classifier ready. Time elapsed: 314.738ms\n",
      "\n"
     ]
    },
    {
     "name": "stderr",
     "output_type": "stream",
     "text": [
      "Data with input dtype bool, float64 were all converted to float64 by StandardScaler.\n",
      "Data with input dtype bool, float64 were all converted to float64 by StandardScaler.\n",
      "Data with input dtype bool, float64 were all converted to float64 by StandardScaler.\n"
     ]
    },
    {
     "name": "stdout",
     "output_type": "stream",
     "text": [
      "*** Training of model 'GradientBoostingClassifier' started.\n",
      "*** Training of classifier ready. Time elapsed: 957.389ms\n",
      "\n",
      "*** Training of model 'GradientBoostingClassifier' started.\n",
      "*** Training of classifier ready. Time elapsed: 389.678ms\n",
      "\n",
      "*** Training of model 'GradientBoostingClassifier' started.\n",
      "*** Training of classifier ready. Time elapsed: 469.628ms\n",
      "\n",
      "*** Training of model 'GradientBoostingClassifier' started.\n",
      "*** Training of classifier ready. Time elapsed: 932.88ms\n",
      "\n",
      "*** Training of model 'GradientBoostingClassifier' started.\n",
      "*** Training of classifier ready. Time elapsed: 552.202ms\n",
      "\n",
      "*** Training of model 'GradientBoostingClassifier' started.\n",
      "*** Training of classifier ready. Time elapsed: 105.542ms\n",
      "\n",
      "*** Training of model 'GradientBoostingClassifier' started.\n",
      "*** Training of classifier ready. Time elapsed: 735.288ms\n",
      "\n"
     ]
    },
    {
     "name": "stderr",
     "output_type": "stream",
     "text": [
      "Data with input dtype bool, float64 were all converted to float64 by StandardScaler.\n",
      "Data with input dtype bool, float64 were all converted to float64 by StandardScaler.\n",
      "Data with input dtype bool, float64 were all converted to float64 by StandardScaler.\n"
     ]
    },
    {
     "name": "stdout",
     "output_type": "stream",
     "text": [
      "*** Training of model 'GradientBoostingClassifier' started.\n",
      "*** Training of classifier ready. Time elapsed: 267.314ms\n",
      "\n",
      "*** Training of model 'GradientBoostingClassifier' started.\n",
      "*** Training of classifier ready. Time elapsed: 624.378ms\n",
      "\n",
      "*** Training of model 'GradientBoostingClassifier' started.\n",
      "*** Training of classifier ready. Time elapsed: 153.094ms\n",
      "\n",
      "*** Training of model 'GradientBoostingClassifier' started.\n",
      "*** Training of classifier ready. Time elapsed: 470.764ms\n",
      "\n",
      "*** Training of model 'GradientBoostingClassifier' started.\n",
      "*** Training of classifier ready. Time elapsed: 853.342ms\n",
      "\n",
      "*** Training of model 'GradientBoostingClassifier' started.\n",
      "*** Training of classifier ready. Time elapsed: 7.408ms\n",
      "\n",
      "*** Training of model 'GradientBoostingClassifier' started.\n",
      "*** Training of classifier ready. Time elapsed: 925.05ms\n",
      "\n"
     ]
    },
    {
     "name": "stderr",
     "output_type": "stream",
     "text": [
      "Data with input dtype bool, float64 were all converted to float64 by StandardScaler.\n",
      "Data with input dtype bool, float64 were all converted to float64 by StandardScaler.\n",
      "Data with input dtype bool, float64 were all converted to float64 by StandardScaler.\n"
     ]
    },
    {
     "name": "stdout",
     "output_type": "stream",
     "text": [
      "*** Training of model 'GradientBoostingClassifier' started.\n",
      "*** Training of classifier ready. Time elapsed: 337.245ms\n",
      "\n",
      "*** Training of model 'GradientBoostingClassifier' started.\n",
      "*** Training of classifier ready. Time elapsed: 802.046ms\n",
      "\n",
      "*** Training of model 'GradientBoostingClassifier' started.\n",
      "*** Training of classifier ready. Time elapsed: 385.908ms\n",
      "\n",
      "*** Training of model 'GradientBoostingClassifier' started.\n",
      "*** Training of classifier ready. Time elapsed: 435.667ms\n",
      "\n",
      "*** Training of model 'GradientBoostingClassifier' started.\n",
      "*** Training of classifier ready. Time elapsed: 682.654ms\n",
      "\n",
      "*** Training of model 'GradientBoostingClassifier' started.\n",
      "*** Training of classifier ready. Time elapsed: 569.724ms\n",
      "\n",
      "*** Training of model 'GradientBoostingClassifier' started.\n",
      "*** Training of classifier ready. Time elapsed: 166.313ms\n",
      "\n"
     ]
    },
    {
     "name": "stderr",
     "output_type": "stream",
     "text": [
      "Data with input dtype bool, float64 were all converted to float64 by StandardScaler.\n",
      "Data with input dtype bool, float64 were all converted to float64 by StandardScaler.\n",
      "Data with input dtype bool, float64 were all converted to float64 by StandardScaler.\n"
     ]
    },
    {
     "name": "stdout",
     "output_type": "stream",
     "text": [
      "*** Training of model 'GradientBoostingClassifier' started.\n",
      "*** Training of classifier ready. Time elapsed: 822.62ms\n",
      "\n",
      "*** Training of model 'GradientBoostingClassifier' started.\n",
      "*** Training of classifier ready. Time elapsed: 394.546ms\n",
      "\n",
      "*** Training of model 'GradientBoostingClassifier' started.\n",
      "*** Training of classifier ready. Time elapsed: 342.777ms\n",
      "\n",
      "*** Training of model 'GradientBoostingClassifier' started.\n",
      "*** Training of classifier ready. Time elapsed: 173.541ms\n",
      "\n",
      "*** Training of model 'GradientBoostingClassifier' started.\n",
      "*** Training of classifier ready. Time elapsed: 886.534ms\n",
      "\n",
      "*** Training of model 'GradientBoostingClassifier' started.\n",
      "*** Training of classifier ready. Time elapsed: 603.406ms\n",
      "\n",
      "*** Training of model 'GradientBoostingClassifier' started.\n",
      "*** Training of classifier ready. Time elapsed: 653.094ms\n",
      "\n"
     ]
    },
    {
     "name": "stderr",
     "output_type": "stream",
     "text": [
      "Data with input dtype bool, float64 were all converted to float64 by StandardScaler.\n",
      "Data with input dtype bool, float64 were all converted to float64 by StandardScaler.\n",
      "Data with input dtype bool, float64 were all converted to float64 by StandardScaler.\n"
     ]
    },
    {
     "name": "stdout",
     "output_type": "stream",
     "text": [
      "*** Training of model 'GradientBoostingClassifier' started.\n",
      "*** Training of classifier ready. Time elapsed: 901.298ms\n",
      "\n",
      "*** Training of model 'GradientBoostingClassifier' started.\n",
      "*** Training of classifier ready. Time elapsed: 679.577ms\n",
      "\n",
      "*** Training of model 'GradientBoostingClassifier' started.\n",
      "*** Training of classifier ready. Time elapsed: 341.225ms\n",
      "\n",
      "*** Training of model 'GradientBoostingClassifier' started.\n",
      "*** Training of classifier ready. Time elapsed: 134.577ms\n",
      "\n",
      "*** Training of model 'GradientBoostingClassifier' started.\n",
      "*** Training of classifier ready. Time elapsed: 865.361ms\n",
      "\n",
      "*** Training of model 'GradientBoostingClassifier' started.\n",
      "*** Training of classifier ready. Time elapsed: 566.13ms\n",
      "\n",
      "*** Training of model 'GradientBoostingClassifier' started.\n",
      "*** Training of classifier ready. Time elapsed: 558.009ms\n",
      "\n"
     ]
    },
    {
     "name": "stderr",
     "output_type": "stream",
     "text": [
      "Data with input dtype bool, float64 were all converted to float64 by StandardScaler.\n",
      "Data with input dtype bool, float64 were all converted to float64 by StandardScaler.\n",
      "Data with input dtype bool, float64 were all converted to float64 by StandardScaler.\n"
     ]
    },
    {
     "name": "stdout",
     "output_type": "stream",
     "text": [
      "*** Training of model 'GradientBoostingClassifier' started.\n",
      "*** Training of classifier ready. Time elapsed: 846.531ms\n",
      "\n",
      "*** Training of model 'GradientBoostingClassifier' started.\n",
      "*** Training of classifier ready. Time elapsed: 593.423ms\n",
      "\n",
      "*** Training of model 'GradientBoostingClassifier' started.\n",
      "*** Training of classifier ready. Time elapsed: 382.859ms\n",
      "\n",
      "*** Training of model 'GradientBoostingClassifier' started.\n",
      "*** Training of classifier ready. Time elapsed: 110.665ms\n",
      "\n",
      "*** Training of model 'GradientBoostingClassifier' started.\n",
      "*** Training of classifier ready. Time elapsed: 858.947ms\n",
      "\n",
      "*** Training of model 'GradientBoostingClassifier' started.\n",
      "*** Training of classifier ready. Time elapsed: 608.329ms\n",
      "\n",
      "*** Training of model 'GradientBoostingClassifier' started.\n",
      "*** Training of classifier ready. Time elapsed: 598.579ms\n",
      "\n"
     ]
    },
    {
     "name": "stderr",
     "output_type": "stream",
     "text": [
      "Data with input dtype bool, float64 were all converted to float64 by StandardScaler.\n",
      "Data with input dtype bool, float64 were all converted to float64 by StandardScaler.\n",
      "Data with input dtype bool, float64 were all converted to float64 by StandardScaler.\n"
     ]
    },
    {
     "name": "stdout",
     "output_type": "stream",
     "text": [
      "*** Training of model 'GradientBoostingClassifier' started.\n",
      "*** Training of classifier ready. Time elapsed: 886.154ms\n",
      "\n",
      "*** Training of model 'GradientBoostingClassifier' started.\n",
      "*** Training of classifier ready. Time elapsed: 609.744ms\n",
      "\n",
      "*** Training of model 'GradientBoostingClassifier' started.\n",
      "*** Training of classifier ready. Time elapsed: 288.364ms\n",
      "\n",
      "*** Training of model 'GradientBoostingClassifier' started.\n",
      "*** Training of classifier ready. Time elapsed: 83.644ms\n",
      "\n",
      "*** Training of model 'GradientBoostingClassifier' started.\n",
      "*** Training of classifier ready. Time elapsed: 794.285ms\n",
      "\n",
      "*** Training of model 'GradientBoostingClassifier' started.\n",
      "*** Training of classifier ready. Time elapsed: 567.82ms\n",
      "\n",
      "*** Training of model 'GradientBoostingClassifier' started.\n",
      "*** Training of classifier ready. Time elapsed: 598.864ms\n",
      "\n"
     ]
    },
    {
     "name": "stderr",
     "output_type": "stream",
     "text": [
      "Data with input dtype bool, float64 were all converted to float64 by StandardScaler.\n",
      "Data with input dtype bool, float64 were all converted to float64 by StandardScaler.\n",
      "Data with input dtype bool, float64 were all converted to float64 by StandardScaler.\n"
     ]
    },
    {
     "name": "stdout",
     "output_type": "stream",
     "text": [
      "*** Training of model 'RandomForestClassifier' started.\n",
      "*** Training of classifier ready. Time elapsed: 506.251ms\n",
      "\n",
      "*** Training of model 'RandomForestClassifier' started.\n",
      "*** Training of classifier ready. Time elapsed: 488.277ms\n",
      "\n",
      "*** Training of model 'RandomForestClassifier' started.\n",
      "*** Training of classifier ready. Time elapsed: 455.296ms\n",
      "\n",
      "*** Training of model 'RandomForestClassifier' started.\n",
      "*** Training of classifier ready. Time elapsed: 424.619ms\n",
      "\n",
      "*** Training of model 'RandomForestClassifier' started.\n",
      "*** Training of classifier ready. Time elapsed: 471.588ms\n",
      "\n",
      "*** Training of model 'RandomForestClassifier' started.\n",
      "*** Training of classifier ready. Time elapsed: 436.781ms\n",
      "\n",
      "*** Training of model 'RandomForestClassifier' started.\n",
      "*** Training of classifier ready. Time elapsed: 501.535ms\n",
      "\n"
     ]
    },
    {
     "name": "stderr",
     "output_type": "stream",
     "text": [
      "F-score is ill-defined and being set to 0.0 due to no predicted samples.\n",
      "Precision is ill-defined and being set to 0.0 due to no predicted samples.\n",
      "invalid value encountered in long_scalars\n",
      "Data with input dtype bool, float64 were all converted to float64 by StandardScaler.\n",
      "Data with input dtype bool, float64 were all converted to float64 by StandardScaler.\n",
      "Data with input dtype bool, float64 were all converted to float64 by StandardScaler.\n"
     ]
    },
    {
     "name": "stdout",
     "output_type": "stream",
     "text": [
      "*** Training of model 'RandomForestClassifier' started.\n",
      "*** Training of classifier ready. Time elapsed: 486.476ms\n",
      "\n",
      "*** Training of model 'RandomForestClassifier' started.\n",
      "*** Training of classifier ready. Time elapsed: 463.875ms\n",
      "\n",
      "*** Training of model 'RandomForestClassifier' started.\n",
      "*** Training of classifier ready. Time elapsed: 452.489ms\n",
      "\n",
      "*** Training of model 'RandomForestClassifier' started.\n",
      "*** Training of classifier ready. Time elapsed: 454.565ms\n",
      "\n",
      "*** Training of model 'RandomForestClassifier' started.\n",
      "*** Training of classifier ready. Time elapsed: 433.676ms\n",
      "\n",
      "*** Training of model 'RandomForestClassifier' started.\n",
      "*** Training of classifier ready. Time elapsed: 399.517ms\n",
      "\n",
      "*** Training of model 'RandomForestClassifier' started.\n",
      "*** Training of classifier ready. Time elapsed: 571.058ms\n",
      "\n"
     ]
    },
    {
     "name": "stderr",
     "output_type": "stream",
     "text": [
      "F-score is ill-defined and being set to 0.0 due to no predicted samples.\n",
      "Precision is ill-defined and being set to 0.0 due to no predicted samples.\n",
      "invalid value encountered in long_scalars\n",
      "Data with input dtype bool, float64 were all converted to float64 by StandardScaler.\n",
      "Data with input dtype bool, float64 were all converted to float64 by StandardScaler.\n",
      "Data with input dtype bool, float64 were all converted to float64 by StandardScaler.\n"
     ]
    },
    {
     "name": "stdout",
     "output_type": "stream",
     "text": [
      "*** Training of model 'RandomForestClassifier' started.\n",
      "*** Training of classifier ready. Time elapsed: 466.464ms\n",
      "\n",
      "*** Training of model 'RandomForestClassifier' started.\n",
      "*** Training of classifier ready. Time elapsed: 503.838ms\n",
      "\n",
      "*** Training of model 'RandomForestClassifier' started.\n",
      "*** Training of classifier ready. Time elapsed: 449.211ms\n",
      "\n",
      "*** Training of model 'RandomForestClassifier' started.\n",
      "*** Training of classifier ready. Time elapsed: 454.486ms\n",
      "\n",
      "*** Training of model 'RandomForestClassifier' started.\n",
      "*** Training of classifier ready. Time elapsed: 477.917ms\n",
      "\n",
      "*** Training of model 'RandomForestClassifier' started.\n",
      "*** Training of classifier ready. Time elapsed: 454.467ms\n",
      "\n",
      "*** Training of model 'RandomForestClassifier' started.\n",
      "*** Training of classifier ready. Time elapsed: 624.208ms\n",
      "\n"
     ]
    },
    {
     "name": "stderr",
     "output_type": "stream",
     "text": [
      "F-score is ill-defined and being set to 0.0 due to no predicted samples.\n",
      "Precision is ill-defined and being set to 0.0 due to no predicted samples.\n",
      "invalid value encountered in long_scalars\n",
      "Data with input dtype bool, float64 were all converted to float64 by StandardScaler.\n",
      "Data with input dtype bool, float64 were all converted to float64 by StandardScaler.\n",
      "Data with input dtype bool, float64 were all converted to float64 by StandardScaler.\n"
     ]
    },
    {
     "name": "stdout",
     "output_type": "stream",
     "text": [
      "*** Training of model 'RandomForestClassifier' started.\n",
      "*** Training of classifier ready. Time elapsed: 495.86ms\n",
      "\n",
      "*** Training of model 'RandomForestClassifier' started.\n",
      "*** Training of classifier ready. Time elapsed: 510.751ms\n",
      "\n",
      "*** Training of model 'RandomForestClassifier' started.\n",
      "*** Training of classifier ready. Time elapsed: 447.772ms\n",
      "\n",
      "*** Training of model 'RandomForestClassifier' started.\n",
      "*** Training of classifier ready. Time elapsed: 417.422ms\n",
      "\n",
      "*** Training of model 'RandomForestClassifier' started.\n",
      "*** Training of classifier ready. Time elapsed: 459.572ms\n",
      "\n",
      "*** Training of model 'RandomForestClassifier' started.\n",
      "*** Training of classifier ready. Time elapsed: 409.408ms\n",
      "\n",
      "*** Training of model 'RandomForestClassifier' started.\n",
      "*** Training of classifier ready. Time elapsed: 628.663ms\n",
      "\n"
     ]
    },
    {
     "name": "stderr",
     "output_type": "stream",
     "text": [
      "F-score is ill-defined and being set to 0.0 due to no predicted samples.\n",
      "Precision is ill-defined and being set to 0.0 due to no predicted samples.\n",
      "invalid value encountered in long_scalars\n",
      "Data with input dtype bool, float64 were all converted to float64 by StandardScaler.\n",
      "Data with input dtype bool, float64 were all converted to float64 by StandardScaler.\n",
      "Data with input dtype bool, float64 were all converted to float64 by StandardScaler.\n"
     ]
    },
    {
     "name": "stdout",
     "output_type": "stream",
     "text": [
      "*** Training of model 'RandomForestClassifier' started.\n",
      "*** Training of classifier ready. Time elapsed: 545.051ms\n",
      "\n",
      "*** Training of model 'RandomForestClassifier' started.\n",
      "*** Training of classifier ready. Time elapsed: 469.372ms\n",
      "\n",
      "*** Training of model 'RandomForestClassifier' started.\n",
      "*** Training of classifier ready. Time elapsed: 718.038ms\n",
      "\n",
      "*** Training of model 'RandomForestClassifier' started.\n",
      "*** Training of classifier ready. Time elapsed: 452.908ms\n",
      "\n",
      "*** Training of model 'RandomForestClassifier' started.\n",
      "*** Training of classifier ready. Time elapsed: 435.777ms\n",
      "\n",
      "*** Training of model 'RandomForestClassifier' started.\n",
      "*** Training of classifier ready. Time elapsed: 0.593ms\n",
      "\n",
      "*** Training of model 'RandomForestClassifier' started.\n",
      "*** Training of classifier ready. Time elapsed: 418.86ms\n",
      "\n"
     ]
    },
    {
     "name": "stderr",
     "output_type": "stream",
     "text": [
      "F-score is ill-defined and being set to 0.0 due to no predicted samples.\n",
      "Precision is ill-defined and being set to 0.0 due to no predicted samples.\n",
      "invalid value encountered in long_scalars\n",
      "Data with input dtype bool, float64 were all converted to float64 by StandardScaler.\n",
      "Data with input dtype bool, float64 were all converted to float64 by StandardScaler.\n",
      "Data with input dtype bool, float64 were all converted to float64 by StandardScaler.\n"
     ]
    },
    {
     "name": "stdout",
     "output_type": "stream",
     "text": [
      "*** Training of model 'RandomForestClassifier' started.\n",
      "*** Training of classifier ready. Time elapsed: 235.903ms\n",
      "\n",
      "*** Training of model 'RandomForestClassifier' started.\n",
      "*** Training of classifier ready. Time elapsed: 654.389ms\n",
      "\n",
      "*** Training of model 'RandomForestClassifier' started.\n",
      "*** Training of classifier ready. Time elapsed: 702.564ms\n",
      "\n",
      "*** Training of model 'RandomForestClassifier' started.\n",
      "*** Training of classifier ready. Time elapsed: 761.712ms\n",
      "\n",
      "*** Training of model 'RandomForestClassifier' started.\n",
      "*** Training of classifier ready. Time elapsed: 634.072ms\n",
      "\n",
      "*** Training of model 'RandomForestClassifier' started.\n",
      "*** Training of classifier ready. Time elapsed: 536.724ms\n",
      "\n",
      "*** Training of model 'RandomForestClassifier' started.\n",
      "*** Training of classifier ready. Time elapsed: 730.926ms\n",
      "\n"
     ]
    },
    {
     "name": "stderr",
     "output_type": "stream",
     "text": [
      "Data with input dtype bool, float64 were all converted to float64 by StandardScaler.\n",
      "Data with input dtype bool, float64 were all converted to float64 by StandardScaler.\n",
      "Data with input dtype bool, float64 were all converted to float64 by StandardScaler.\n"
     ]
    },
    {
     "name": "stdout",
     "output_type": "stream",
     "text": [
      "*** Training of model 'RandomForestClassifier' started.\n",
      "*** Training of classifier ready. Time elapsed: 43.066ms\n",
      "\n",
      "*** Training of model 'RandomForestClassifier' started.\n",
      "*** Training of classifier ready. Time elapsed: 679.863ms\n",
      "\n",
      "*** Training of model 'RandomForestClassifier' started.\n",
      "*** Training of classifier ready. Time elapsed: 169.47ms\n",
      "\n",
      "*** Training of model 'RandomForestClassifier' started.\n",
      "*** Training of classifier ready. Time elapsed: 316.912ms\n",
      "\n",
      "*** Training of model 'RandomForestClassifier' started.\n",
      "*** Training of classifier ready. Time elapsed: 35.533ms\n",
      "\n",
      "*** Training of model 'RandomForestClassifier' started.\n",
      "*** Training of classifier ready. Time elapsed: 965.338ms\n",
      "\n",
      "*** Training of model 'RandomForestClassifier' started.\n",
      "*** Training of classifier ready. Time elapsed: 726.592ms\n",
      "\n"
     ]
    },
    {
     "name": "stderr",
     "output_type": "stream",
     "text": [
      "Data with input dtype bool, float64 were all converted to float64 by StandardScaler.\n",
      "Data with input dtype bool, float64 were all converted to float64 by StandardScaler.\n",
      "Data with input dtype bool, float64 were all converted to float64 by StandardScaler.\n"
     ]
    },
    {
     "name": "stdout",
     "output_type": "stream",
     "text": [
      "*** Training of model 'RandomForestClassifier' started.\n",
      "*** Training of classifier ready. Time elapsed: 322.507ms\n",
      "\n",
      "*** Training of model 'RandomForestClassifier' started.\n",
      "*** Training of classifier ready. Time elapsed: 782.828ms\n",
      "\n",
      "*** Training of model 'RandomForestClassifier' started.\n",
      "*** Training of classifier ready. Time elapsed: 928.633ms\n",
      "\n",
      "*** Training of model 'RandomForestClassifier' started.\n",
      "*** Training of classifier ready. Time elapsed: 982.018ms\n",
      "\n",
      "*** Training of model 'RandomForestClassifier' started.\n",
      "*** Training of classifier ready. Time elapsed: 160.486ms\n",
      "\n",
      "*** Training of model 'RandomForestClassifier' started.\n",
      "*** Training of classifier ready. Time elapsed: 445.803ms\n",
      "\n",
      "*** Training of model 'RandomForestClassifier' started.\n",
      "*** Training of classifier ready. Time elapsed: 52.669ms\n",
      "\n"
     ]
    },
    {
     "name": "stderr",
     "output_type": "stream",
     "text": [
      "Data with input dtype bool, float64 were all converted to float64 by StandardScaler.\n",
      "Data with input dtype bool, float64 were all converted to float64 by StandardScaler.\n",
      "Data with input dtype bool, float64 were all converted to float64 by StandardScaler.\n"
     ]
    },
    {
     "name": "stdout",
     "output_type": "stream",
     "text": [
      "*** Training of model 'RandomForestClassifier' started.\n",
      "*** Training of classifier ready. Time elapsed: 281.997ms\n",
      "\n",
      "*** Training of model 'RandomForestClassifier' started.\n",
      "*** Training of classifier ready. Time elapsed: 237.901ms\n",
      "\n",
      "*** Training of model 'RandomForestClassifier' started.\n",
      "*** Training of classifier ready. Time elapsed: 521.802ms\n",
      "\n",
      "*** Training of model 'RandomForestClassifier' started.\n",
      "*** Training of classifier ready. Time elapsed: 466.915ms\n",
      "\n",
      "*** Training of model 'RandomForestClassifier' started.\n",
      "*** Training of classifier ready. Time elapsed: 992.025ms\n",
      "\n",
      "*** Training of model 'RandomForestClassifier' started.\n",
      "*** Training of classifier ready. Time elapsed: 845.984ms\n",
      "\n",
      "*** Training of model 'RandomForestClassifier' started.\n",
      "*** Training of classifier ready. Time elapsed: 274.725ms\n",
      "\n"
     ]
    },
    {
     "name": "stderr",
     "output_type": "stream",
     "text": [
      "Data with input dtype bool, float64 were all converted to float64 by StandardScaler.\n",
      "Data with input dtype bool, float64 were all converted to float64 by StandardScaler.\n",
      "Data with input dtype bool, float64 were all converted to float64 by StandardScaler.\n"
     ]
    },
    {
     "name": "stdout",
     "output_type": "stream",
     "text": [
      "*** Training of model 'RandomForestClassifier' started.\n",
      "*** Training of classifier ready. Time elapsed: 539.101ms\n",
      "\n",
      "*** Training of model 'RandomForestClassifier' started.\n",
      "*** Training of classifier ready. Time elapsed: 196.472ms\n",
      "\n",
      "*** Training of model 'RandomForestClassifier' started.\n",
      "*** Training of classifier ready. Time elapsed: 709.984ms\n",
      "\n",
      "*** Training of model 'RandomForestClassifier' started.\n",
      "*** Training of classifier ready. Time elapsed: 454.154ms\n",
      "\n",
      "*** Training of model 'RandomForestClassifier' started.\n",
      "*** Training of classifier ready. Time elapsed: 943.595ms\n",
      "\n",
      "*** Training of model 'RandomForestClassifier' started.\n",
      "*** Training of classifier ready. Time elapsed: 920.344ms\n",
      "\n",
      "*** Training of model 'RandomForestClassifier' started.\n",
      "*** Training of classifier ready. Time elapsed: 805.399ms\n",
      "\n"
     ]
    },
    {
     "name": "stderr",
     "output_type": "stream",
     "text": [
      "Data with input dtype bool, float64 were all converted to float64 by StandardScaler.\n",
      "Data with input dtype bool, float64 were all converted to float64 by StandardScaler.\n",
      "Data with input dtype bool, float64 were all converted to float64 by StandardScaler.\n"
     ]
    },
    {
     "name": "stdout",
     "output_type": "stream",
     "text": [
      "*** Training of model 'RandomForestClassifier' started.\n",
      "*** Training of classifier ready. Time elapsed: 403.478ms\n",
      "\n",
      "*** Training of model 'RandomForestClassifier' started.\n",
      "*** Training of classifier ready. Time elapsed: 886.077ms\n",
      "\n",
      "*** Training of model 'RandomForestClassifier' started.\n",
      "*** Training of classifier ready. Time elapsed: 947.178ms\n",
      "\n",
      "*** Training of model 'RandomForestClassifier' started.\n",
      "*** Training of classifier ready. Time elapsed: 56.334ms\n",
      "\n",
      "*** Training of model 'RandomForestClassifier' started.\n",
      "*** Training of classifier ready. Time elapsed: 863.51ms\n",
      "\n",
      "*** Training of model 'RandomForestClassifier' started.\n",
      "*** Training of classifier ready. Time elapsed: 88.48ms\n",
      "\n",
      "*** Training of model 'RandomForestClassifier' started.\n",
      "*** Training of classifier ready. Time elapsed: 530.87ms\n",
      "\n"
     ]
    },
    {
     "name": "stderr",
     "output_type": "stream",
     "text": [
      "Data with input dtype bool, float64 were all converted to float64 by StandardScaler.\n",
      "Data with input dtype bool, float64 were all converted to float64 by StandardScaler.\n",
      "Data with input dtype bool, float64 were all converted to float64 by StandardScaler.\n"
     ]
    },
    {
     "name": "stdout",
     "output_type": "stream",
     "text": [
      "*** Training of model 'RandomForestClassifier' started.\n",
      "*** Training of classifier ready. Time elapsed: 535.011ms\n",
      "\n",
      "*** Training of model 'RandomForestClassifier' started.\n",
      "*** Training of classifier ready. Time elapsed: 470.166ms\n",
      "\n",
      "*** Training of model 'RandomForestClassifier' started.\n",
      "*** Training of classifier ready. Time elapsed: 454.295ms\n",
      "\n",
      "*** Training of model 'RandomForestClassifier' started.\n",
      "*** Training of classifier ready. Time elapsed: 749.909ms\n",
      "\n",
      "*** Training of model 'RandomForestClassifier' started.\n",
      "*** Training of classifier ready. Time elapsed: 776.168ms\n",
      "\n",
      "*** Training of model 'RandomForestClassifier' started.\n",
      "*** Training of classifier ready. Time elapsed: 196.045ms\n",
      "\n",
      "*** Training of model 'RandomForestClassifier' started.\n",
      "*** Training of classifier ready. Time elapsed: 598.079ms\n",
      "\n"
     ]
    },
    {
     "name": "stderr",
     "output_type": "stream",
     "text": [
      "Data with input dtype bool, float64 were all converted to float64 by StandardScaler.\n",
      "Data with input dtype bool, float64 were all converted to float64 by StandardScaler.\n",
      "Data with input dtype bool, float64 were all converted to float64 by StandardScaler.\n"
     ]
    },
    {
     "name": "stdout",
     "output_type": "stream",
     "text": [
      "*** Training of model 'RandomForestClassifier' started.\n",
      "*** Training of classifier ready. Time elapsed: 958.526ms\n",
      "\n",
      "*** Training of model 'RandomForestClassifier' started.\n",
      "*** Training of classifier ready. Time elapsed: 862.115ms\n",
      "\n",
      "*** Training of model 'RandomForestClassifier' started.\n",
      "*** Training of classifier ready. Time elapsed: 537.368ms\n",
      "\n",
      "*** Training of model 'RandomForestClassifier' started.\n",
      "*** Training of classifier ready. Time elapsed: 435.894ms\n",
      "\n",
      "*** Training of model 'RandomForestClassifier' started.\n",
      "*** Training of classifier ready. Time elapsed: 679.538ms\n",
      "\n",
      "*** Training of model 'RandomForestClassifier' started.\n",
      "*** Training of classifier ready. Time elapsed: 932.631ms\n",
      "\n",
      "*** Training of model 'RandomForestClassifier' started.\n",
      "*** Training of classifier ready. Time elapsed: 352.41ms\n",
      "\n"
     ]
    },
    {
     "name": "stderr",
     "output_type": "stream",
     "text": [
      "Data with input dtype bool, float64 were all converted to float64 by StandardScaler.\n",
      "Data with input dtype bool, float64 were all converted to float64 by StandardScaler.\n",
      "Data with input dtype bool, float64 were all converted to float64 by StandardScaler.\n"
     ]
    },
    {
     "name": "stdout",
     "output_type": "stream",
     "text": [
      "*** Training of model 'RandomForestClassifier' started.\n",
      "*** Training of classifier ready. Time elapsed: 592.935ms\n",
      "\n",
      "*** Training of model 'RandomForestClassifier' started.\n",
      "*** Training of classifier ready. Time elapsed: 811.309ms\n",
      "\n",
      "*** Training of model 'RandomForestClassifier' started.\n",
      "*** Training of classifier ready. Time elapsed: 477.603ms\n",
      "\n",
      "*** Training of model 'RandomForestClassifier' started.\n",
      "*** Training of classifier ready. Time elapsed: 690.606ms\n",
      "\n",
      "*** Training of model 'RandomForestClassifier' started.\n",
      "*** Training of classifier ready. Time elapsed: 113.62ms\n",
      "\n",
      "*** Training of model 'RandomForestClassifier' started.\n",
      "*** Training of classifier ready. Time elapsed: 549.972ms\n",
      "\n",
      "*** Training of model 'RandomForestClassifier' started.\n",
      "*** Training of classifier ready. Time elapsed: 934.426ms\n",
      "\n"
     ]
    },
    {
     "name": "stderr",
     "output_type": "stream",
     "text": [
      "Data with input dtype bool, float64 were all converted to float64 by StandardScaler.\n",
      "Data with input dtype bool, float64 were all converted to float64 by StandardScaler.\n",
      "Data with input dtype bool, float64 were all converted to float64 by StandardScaler.\n"
     ]
    },
    {
     "name": "stdout",
     "output_type": "stream",
     "text": [
      "*** Training of model 'RandomForestClassifier' started.\n",
      "*** Training of classifier ready. Time elapsed: 17.354ms\n",
      "\n",
      "*** Training of model 'RandomForestClassifier' started.\n",
      "*** Training of classifier ready. Time elapsed: 121.57ms\n",
      "\n",
      "*** Training of model 'RandomForestClassifier' started.\n",
      "*** Training of classifier ready. Time elapsed: 941.006ms\n",
      "\n",
      "*** Training of model 'RandomForestClassifier' started.\n",
      "*** Training of classifier ready. Time elapsed: 518.738ms\n",
      "\n",
      "*** Training of model 'RandomForestClassifier' started.\n",
      "*** Training of classifier ready. Time elapsed: 847.945ms\n",
      "\n",
      "*** Training of model 'RandomForestClassifier' started.\n",
      "*** Training of classifier ready. Time elapsed: 77.419ms\n",
      "\n",
      "*** Training of model 'RandomForestClassifier' started.\n",
      "*** Training of classifier ready. Time elapsed: 208.513ms\n",
      "\n"
     ]
    },
    {
     "name": "stderr",
     "output_type": "stream",
     "text": [
      "Data with input dtype bool, float64 were all converted to float64 by StandardScaler.\n",
      "Data with input dtype bool, float64 were all converted to float64 by StandardScaler.\n",
      "Data with input dtype bool, float64 were all converted to float64 by StandardScaler.\n"
     ]
    },
    {
     "name": "stdout",
     "output_type": "stream",
     "text": [
      "*** Training of model 'RandomForestClassifier' started.\n",
      "*** Training of classifier ready. Time elapsed: 24.029ms\n",
      "\n",
      "*** Training of model 'RandomForestClassifier' started.\n",
      "*** Training of classifier ready. Time elapsed: 5.365ms\n",
      "\n",
      "*** Training of model 'RandomForestClassifier' started.\n",
      "*** Training of classifier ready. Time elapsed: 557.874ms\n",
      "\n",
      "*** Training of model 'RandomForestClassifier' started.\n",
      "*** Training of classifier ready. Time elapsed: 971.611ms\n",
      "\n",
      "*** Training of model 'RandomForestClassifier' started.\n",
      "*** Training of classifier ready. Time elapsed: 17.048ms\n",
      "\n",
      "*** Training of model 'RandomForestClassifier' started.\n",
      "*** Training of classifier ready. Time elapsed: 339.938ms\n",
      "\n",
      "*** Training of model 'RandomForestClassifier' started.\n",
      "*** Training of classifier ready. Time elapsed: 456.995ms\n",
      "\n"
     ]
    },
    {
     "name": "stderr",
     "output_type": "stream",
     "text": [
      "F-score is ill-defined and being set to 0.0 due to no predicted samples.\n",
      "Precision is ill-defined and being set to 0.0 due to no predicted samples.\n",
      "invalid value encountered in long_scalars\n",
      "Data with input dtype bool, float64 were all converted to float64 by StandardScaler.\n",
      "Data with input dtype bool, float64 were all converted to float64 by StandardScaler.\n",
      "Data with input dtype bool, float64 were all converted to float64 by StandardScaler.\n"
     ]
    },
    {
     "name": "stdout",
     "output_type": "stream",
     "text": [
      "*** Training of model 'RandomForestClassifier' started.\n",
      "*** Training of classifier ready. Time elapsed: 506.266ms\n",
      "\n",
      "*** Training of model 'RandomForestClassifier' started.\n",
      "*** Training of classifier ready. Time elapsed: 505.383ms\n",
      "\n",
      "*** Training of model 'RandomForestClassifier' started.\n",
      "*** Training of classifier ready. Time elapsed: 450.864ms\n",
      "\n",
      "*** Training of model 'RandomForestClassifier' started.\n",
      "*** Training of classifier ready. Time elapsed: 459.28ms\n",
      "\n",
      "*** Training of model 'RandomForestClassifier' started.\n",
      "*** Training of classifier ready. Time elapsed: 474.928ms\n",
      "\n",
      "*** Training of model 'RandomForestClassifier' started.\n",
      "*** Training of classifier ready. Time elapsed: 421.322ms\n",
      "\n",
      "*** Training of model 'RandomForestClassifier' started.\n",
      "*** Training of classifier ready. Time elapsed: 415.036ms\n",
      "\n"
     ]
    },
    {
     "name": "stderr",
     "output_type": "stream",
     "text": [
      "F-score is ill-defined and being set to 0.0 due to no predicted samples.\n",
      "Precision is ill-defined and being set to 0.0 due to no predicted samples.\n",
      "invalid value encountered in long_scalars\n",
      "Data with input dtype bool, float64 were all converted to float64 by StandardScaler.\n",
      "Data with input dtype bool, float64 were all converted to float64 by StandardScaler.\n",
      "Data with input dtype bool, float64 were all converted to float64 by StandardScaler.\n"
     ]
    },
    {
     "name": "stdout",
     "output_type": "stream",
     "text": [
      "*** Training of model 'RandomForestClassifier' started.\n",
      "*** Training of classifier ready. Time elapsed: 453.57ms\n",
      "\n",
      "*** Training of model 'RandomForestClassifier' started.\n",
      "*** Training of classifier ready. Time elapsed: 467.316ms\n",
      "\n",
      "*** Training of model 'RandomForestClassifier' started.\n",
      "*** Training of classifier ready. Time elapsed: 101.627ms\n",
      "\n",
      "*** Training of model 'RandomForestClassifier' started.\n",
      "*** Training of classifier ready. Time elapsed: 97.157ms\n",
      "\n",
      "*** Training of model 'RandomForestClassifier' started.\n",
      "*** Training of classifier ready. Time elapsed: 880.657ms\n",
      "\n",
      "*** Training of model 'RandomForestClassifier' started.\n",
      "*** Training of classifier ready. Time elapsed: 462.704ms\n",
      "\n",
      "*** Training of model 'RandomForestClassifier' started.\n",
      "*** Training of classifier ready. Time elapsed: 523.423ms\n",
      "\n"
     ]
    },
    {
     "name": "stderr",
     "output_type": "stream",
     "text": [
      "F-score is ill-defined and being set to 0.0 due to no predicted samples.\n",
      "Precision is ill-defined and being set to 0.0 due to no predicted samples.\n",
      "invalid value encountered in long_scalars\n",
      "Data with input dtype bool, float64 were all converted to float64 by StandardScaler.\n",
      "Data with input dtype bool, float64 were all converted to float64 by StandardScaler.\n",
      "Data with input dtype bool, float64 were all converted to float64 by StandardScaler.\n"
     ]
    },
    {
     "name": "stdout",
     "output_type": "stream",
     "text": [
      "*** Training of model 'RandomForestClassifier' started.\n",
      "*** Training of classifier ready. Time elapsed: 903.012ms\n",
      "\n",
      "*** Training of model 'RandomForestClassifier' started.\n",
      "*** Training of classifier ready. Time elapsed: 934.298ms\n",
      "\n",
      "*** Training of model 'RandomForestClassifier' started.\n",
      "*** Training of classifier ready. Time elapsed: 544.754ms\n",
      "\n",
      "*** Training of model 'RandomForestClassifier' started.\n",
      "*** Training of classifier ready. Time elapsed: 83.159ms\n",
      "\n",
      "*** Training of model 'RandomForestClassifier' started.\n",
      "*** Training of classifier ready. Time elapsed: 565.903ms\n",
      "\n",
      "*** Training of model 'RandomForestClassifier' started.\n",
      "*** Training of classifier ready. Time elapsed: 931.49ms\n",
      "\n",
      "*** Training of model 'RandomForestClassifier' started.\n",
      "*** Training of classifier ready. Time elapsed: 525.761ms\n",
      "\n"
     ]
    },
    {
     "name": "stderr",
     "output_type": "stream",
     "text": [
      "F-score is ill-defined and being set to 0.0 due to no predicted samples.\n",
      "Precision is ill-defined and being set to 0.0 due to no predicted samples.\n",
      "invalid value encountered in long_scalars\n",
      "Data with input dtype bool, float64 were all converted to float64 by StandardScaler.\n",
      "Data with input dtype bool, float64 were all converted to float64 by StandardScaler.\n",
      "Data with input dtype bool, float64 were all converted to float64 by StandardScaler.\n"
     ]
    },
    {
     "name": "stdout",
     "output_type": "stream",
     "text": [
      "*** Training of model 'RandomForestClassifier' started.\n",
      "*** Training of classifier ready. Time elapsed: 145.127ms\n",
      "\n",
      "*** Training of model 'RandomForestClassifier' started.\n",
      "*** Training of classifier ready. Time elapsed: 199.339ms\n",
      "\n",
      "*** Training of model 'RandomForestClassifier' started.\n",
      "*** Training of classifier ready. Time elapsed: 825.467ms\n",
      "\n",
      "*** Training of model 'RandomForestClassifier' started.\n",
      "*** Training of classifier ready. Time elapsed: 458.896ms\n",
      "\n",
      "*** Training of model 'RandomForestClassifier' started.\n",
      "*** Training of classifier ready. Time elapsed: 680.634ms\n",
      "\n",
      "*** Training of model 'RandomForestClassifier' started.\n",
      "*** Training of classifier ready. Time elapsed: 654.098ms\n",
      "\n",
      "*** Training of model 'RandomForestClassifier' started.\n",
      "*** Training of classifier ready. Time elapsed: 792.673ms\n",
      "\n"
     ]
    },
    {
     "name": "stderr",
     "output_type": "stream",
     "text": [
      "F-score is ill-defined and being set to 0.0 due to no predicted samples.\n",
      "Precision is ill-defined and being set to 0.0 due to no predicted samples.\n",
      "invalid value encountered in long_scalars\n",
      "Data with input dtype bool, float64 were all converted to float64 by StandardScaler.\n",
      "Data with input dtype bool, float64 were all converted to float64 by StandardScaler.\n",
      "Data with input dtype bool, float64 were all converted to float64 by StandardScaler.\n"
     ]
    },
    {
     "name": "stdout",
     "output_type": "stream",
     "text": [
      "*** Training of model 'DecisionTreeClassifier' started.\n",
      "*** Training of classifier ready. Time elapsed: 203.32ms\n",
      "\n",
      "*** Training of model 'DecisionTreeClassifier' started.\n",
      "*** Training of classifier ready. Time elapsed: 189.023ms\n",
      "\n",
      "*** Training of model 'DecisionTreeClassifier' started.\n",
      "*** Training of classifier ready. Time elapsed: 158.219ms\n",
      "\n",
      "*** Training of model 'DecisionTreeClassifier' started.\n",
      "*** Training of classifier ready. Time elapsed: 134.943ms\n",
      "\n",
      "*** Training of model 'DecisionTreeClassifier' started.\n",
      "*** Training of classifier ready. Time elapsed: 105.923ms\n",
      "\n",
      "*** Training of model 'DecisionTreeClassifier' started.\n",
      "*** Training of classifier ready. Time elapsed: 70.322ms\n",
      "\n",
      "*** Training of model 'DecisionTreeClassifier' started.\n",
      "*** Training of classifier ready. Time elapsed: 139.478ms\n",
      "\n"
     ]
    },
    {
     "name": "stderr",
     "output_type": "stream",
     "text": [
      "Data with input dtype bool, float64 were all converted to float64 by StandardScaler.\n",
      "Data with input dtype bool, float64 were all converted to float64 by StandardScaler.\n",
      "Data with input dtype bool, float64 were all converted to float64 by StandardScaler.\n"
     ]
    },
    {
     "name": "stdout",
     "output_type": "stream",
     "text": [
      "*** Training of model 'DecisionTreeClassifier' started.\n",
      "*** Training of classifier ready. Time elapsed: 142.851ms\n",
      "\n",
      "*** Training of model 'DecisionTreeClassifier' started.\n",
      "*** Training of classifier ready. Time elapsed: 130.892ms\n",
      "\n",
      "*** Training of model 'DecisionTreeClassifier' started.\n",
      "*** Training of classifier ready. Time elapsed: 109.814ms\n",
      "\n",
      "*** Training of model 'DecisionTreeClassifier' started.\n",
      "*** Training of classifier ready. Time elapsed: 91.575ms\n",
      "\n",
      "*** Training of model 'DecisionTreeClassifier' started.\n",
      "*** Training of classifier ready. Time elapsed: 110.729ms\n",
      "\n",
      "*** Training of model 'DecisionTreeClassifier' started.\n",
      "*** Training of classifier ready. Time elapsed: 96.013ms\n",
      "\n",
      "*** Training of model 'DecisionTreeClassifier' started.\n",
      "*** Training of classifier ready. Time elapsed: 195.535ms\n",
      "\n"
     ]
    },
    {
     "name": "stderr",
     "output_type": "stream",
     "text": [
      "Data with input dtype bool, float64 were all converted to float64 by StandardScaler.\n",
      "Data with input dtype bool, float64 were all converted to float64 by StandardScaler.\n",
      "Data with input dtype bool, float64 were all converted to float64 by StandardScaler.\n"
     ]
    },
    {
     "name": "stdout",
     "output_type": "stream",
     "text": [
      "*** Training of model 'DecisionTreeClassifier' started.\n",
      "*** Training of classifier ready. Time elapsed: 212.489ms\n",
      "\n",
      "*** Training of model 'DecisionTreeClassifier' started.\n",
      "*** Training of classifier ready. Time elapsed: 144.125ms\n",
      "\n",
      "*** Training of model 'DecisionTreeClassifier' started.\n",
      "*** Training of classifier ready. Time elapsed: 110.867ms\n",
      "\n",
      "*** Training of model 'DecisionTreeClassifier' started.\n",
      "*** Training of classifier ready. Time elapsed: 92.001ms\n",
      "\n",
      "*** Training of model 'DecisionTreeClassifier' started.\n",
      "*** Training of classifier ready. Time elapsed: 76.992ms\n",
      "\n",
      "*** Training of model 'DecisionTreeClassifier' started.\n",
      "*** Training of classifier ready. Time elapsed: 110.132ms\n",
      "\n",
      "*** Training of model 'DecisionTreeClassifier' started.\n",
      "*** Training of classifier ready. Time elapsed: 142.238ms\n",
      "\n"
     ]
    },
    {
     "name": "stderr",
     "output_type": "stream",
     "text": [
      "Data with input dtype bool, float64 were all converted to float64 by StandardScaler.\n",
      "Data with input dtype bool, float64 were all converted to float64 by StandardScaler.\n",
      "Data with input dtype bool, float64 were all converted to float64 by StandardScaler.\n"
     ]
    },
    {
     "name": "stdout",
     "output_type": "stream",
     "text": [
      "*** Training of model 'DecisionTreeClassifier' started.\n",
      "*** Training of classifier ready. Time elapsed: 210.936ms\n",
      "\n",
      "*** Training of model 'DecisionTreeClassifier' started.\n",
      "*** Training of classifier ready. Time elapsed: 171.55ms\n",
      "\n",
      "*** Training of model 'DecisionTreeClassifier' started.\n",
      "*** Training of classifier ready. Time elapsed: 156.474ms\n",
      "\n",
      "*** Training of model 'DecisionTreeClassifier' started.\n",
      "*** Training of classifier ready. Time elapsed: 139.135ms\n",
      "\n",
      "*** Training of model 'DecisionTreeClassifier' started.\n",
      "*** Training of classifier ready. Time elapsed: 127.017ms\n",
      "\n",
      "*** Training of model 'DecisionTreeClassifier' started.\n",
      "*** Training of classifier ready. Time elapsed: 63.485ms\n",
      "\n",
      "*** Training of model 'DecisionTreeClassifier' started.\n",
      "*** Training of classifier ready. Time elapsed: 132.362ms\n",
      "\n"
     ]
    },
    {
     "name": "stderr",
     "output_type": "stream",
     "text": [
      "Data with input dtype bool, float64 were all converted to float64 by StandardScaler.\n",
      "Data with input dtype bool, float64 were all converted to float64 by StandardScaler.\n",
      "Data with input dtype bool, float64 were all converted to float64 by StandardScaler.\n"
     ]
    },
    {
     "name": "stdout",
     "output_type": "stream",
     "text": [
      "*** Training of model 'DecisionTreeClassifier' started.\n",
      "*** Training of classifier ready. Time elapsed: 175.294ms\n",
      "\n",
      "*** Training of model 'DecisionTreeClassifier' started.\n",
      "*** Training of classifier ready. Time elapsed: 245.931ms\n",
      "\n",
      "*** Training of model 'DecisionTreeClassifier' started.\n",
      "*** Training of classifier ready. Time elapsed: 151.386ms\n",
      "\n",
      "*** Training of model 'DecisionTreeClassifier' started.\n",
      "*** Training of classifier ready. Time elapsed: 136.899ms\n",
      "\n",
      "*** Training of model 'DecisionTreeClassifier' started.\n",
      "*** Training of classifier ready. Time elapsed: 71.969ms\n",
      "\n",
      "*** Training of model 'DecisionTreeClassifier' started.\n",
      "*** Training of classifier ready. Time elapsed: 64.682ms\n",
      "\n",
      "*** Training of model 'DecisionTreeClassifier' started.\n",
      "*** Training of classifier ready. Time elapsed: 155.023ms\n",
      "\n"
     ]
    },
    {
     "name": "stderr",
     "output_type": "stream",
     "text": [
      "Data with input dtype bool, float64 were all converted to float64 by StandardScaler.\n",
      "Data with input dtype bool, float64 were all converted to float64 by StandardScaler.\n",
      "Data with input dtype bool, float64 were all converted to float64 by StandardScaler.\n"
     ]
    },
    {
     "name": "stdout",
     "output_type": "stream",
     "text": [
      "*** Training of model 'DecisionTreeClassifier' started.\n",
      "*** Training of classifier ready. Time elapsed: 134.428ms\n",
      "\n",
      "*** Training of model 'DecisionTreeClassifier' started.\n",
      "*** Training of classifier ready. Time elapsed: 124.826ms\n",
      "\n",
      "*** Training of model 'DecisionTreeClassifier' started.\n",
      "*** Training of classifier ready. Time elapsed: 110.233ms\n",
      "\n",
      "*** Training of model 'DecisionTreeClassifier' started.\n",
      "*** Training of classifier ready. Time elapsed: 92.035ms\n",
      "\n",
      "*** Training of model 'DecisionTreeClassifier' started.\n",
      "*** Training of classifier ready. Time elapsed: 121.176ms\n",
      "\n",
      "*** Training of model 'DecisionTreeClassifier' started.\n",
      "*** Training of classifier ready. Time elapsed: 69.963ms\n",
      "\n",
      "*** Training of model 'DecisionTreeClassifier' started.\n",
      "*** Training of classifier ready. Time elapsed: 32.307ms\n",
      "\n"
     ]
    },
    {
     "name": "stderr",
     "output_type": "stream",
     "text": [
      "Data with input dtype bool, float64 were all converted to float64 by StandardScaler.\n",
      "Data with input dtype bool, float64 were all converted to float64 by StandardScaler.\n",
      "Data with input dtype bool, float64 were all converted to float64 by StandardScaler.\n"
     ]
    },
    {
     "name": "stdout",
     "output_type": "stream",
     "text": [
      "*** Training of model 'DecisionTreeClassifier' started.\n",
      "*** Training of classifier ready. Time elapsed: 143.327ms\n",
      "\n",
      "*** Training of model 'DecisionTreeClassifier' started.\n",
      "*** Training of classifier ready. Time elapsed: 129.652ms\n",
      "\n",
      "*** Training of model 'DecisionTreeClassifier' started.\n",
      "*** Training of classifier ready. Time elapsed: 102.906ms\n",
      "\n",
      "*** Training of model 'DecisionTreeClassifier' started.\n",
      "*** Training of classifier ready. Time elapsed: 116.466ms\n",
      "\n",
      "*** Training of model 'DecisionTreeClassifier' started.\n",
      "*** Training of classifier ready. Time elapsed: 88.11ms\n",
      "\n",
      "*** Training of model 'DecisionTreeClassifier' started.\n",
      "*** Training of classifier ready. Time elapsed: 75.321ms\n",
      "\n",
      "*** Training of model 'DecisionTreeClassifier' started.\n",
      "*** Training of classifier ready. Time elapsed: 13.911ms\n",
      "\n"
     ]
    },
    {
     "name": "stderr",
     "output_type": "stream",
     "text": [
      "Data with input dtype bool, float64 were all converted to float64 by StandardScaler.\n",
      "Data with input dtype bool, float64 were all converted to float64 by StandardScaler.\n",
      "Data with input dtype bool, float64 were all converted to float64 by StandardScaler.\n"
     ]
    },
    {
     "name": "stdout",
     "output_type": "stream",
     "text": [
      "*** Training of model 'DecisionTreeClassifier' started.\n",
      "*** Training of classifier ready. Time elapsed: 146.305ms\n",
      "\n",
      "*** Training of model 'DecisionTreeClassifier' started.\n",
      "*** Training of classifier ready. Time elapsed: 124.869ms\n",
      "\n",
      "*** Training of model 'DecisionTreeClassifier' started.\n",
      "*** Training of classifier ready. Time elapsed: 106.531ms\n",
      "\n",
      "*** Training of model 'DecisionTreeClassifier' started.\n",
      "*** Training of classifier ready. Time elapsed: 97.633ms\n",
      "\n",
      "*** Training of model 'DecisionTreeClassifier' started.\n",
      "*** Training of classifier ready. Time elapsed: 77.397ms\n",
      "\n",
      "*** Training of model 'DecisionTreeClassifier' started.\n",
      "*** Training of classifier ready. Time elapsed: 70.945ms\n",
      "\n",
      "*** Training of model 'DecisionTreeClassifier' started.\n",
      "*** Training of classifier ready. Time elapsed: 14.006ms\n",
      "\n"
     ]
    },
    {
     "name": "stderr",
     "output_type": "stream",
     "text": [
      "Data with input dtype bool, float64 were all converted to float64 by StandardScaler.\n",
      "Data with input dtype bool, float64 were all converted to float64 by StandardScaler.\n",
      "Data with input dtype bool, float64 were all converted to float64 by StandardScaler.\n"
     ]
    },
    {
     "name": "stdout",
     "output_type": "stream",
     "text": [
      "*** Training of model 'DecisionTreeClassifier' started.\n",
      "*** Training of classifier ready. Time elapsed: 154.815ms\n",
      "\n",
      "*** Training of model 'DecisionTreeClassifier' started.\n",
      "*** Training of classifier ready. Time elapsed: 114.088ms\n",
      "\n",
      "*** Training of model 'DecisionTreeClassifier' started.\n",
      "*** Training of classifier ready. Time elapsed: 101.423ms\n",
      "\n",
      "*** Training of model 'DecisionTreeClassifier' started.\n",
      "*** Training of classifier ready. Time elapsed: 93.813ms\n",
      "\n",
      "*** Training of model 'DecisionTreeClassifier' started.\n",
      "*** Training of classifier ready. Time elapsed: 74.017ms\n",
      "\n",
      "*** Training of model 'DecisionTreeClassifier' started.\n",
      "*** Training of classifier ready. Time elapsed: 69.077ms\n",
      "\n",
      "*** Training of model 'DecisionTreeClassifier' started.\n",
      "*** Training of classifier ready. Time elapsed: 13.17ms\n",
      "\n"
     ]
    },
    {
     "name": "stderr",
     "output_type": "stream",
     "text": [
      "Data with input dtype bool, float64 were all converted to float64 by StandardScaler.\n",
      "Data with input dtype bool, float64 were all converted to float64 by StandardScaler.\n",
      "Data with input dtype bool, float64 were all converted to float64 by StandardScaler.\n"
     ]
    },
    {
     "name": "stdout",
     "output_type": "stream",
     "text": [
      "*** Training of model 'DecisionTreeClassifier' started.\n",
      "*** Training of classifier ready. Time elapsed: 126.279ms\n",
      "\n",
      "*** Training of model 'DecisionTreeClassifier' started.\n",
      "*** Training of classifier ready. Time elapsed: 116.837ms\n",
      "\n",
      "*** Training of model 'DecisionTreeClassifier' started.\n",
      "*** Training of classifier ready. Time elapsed: 96.111ms\n",
      "\n",
      "*** Training of model 'DecisionTreeClassifier' started.\n",
      "*** Training of classifier ready. Time elapsed: 92.511ms\n",
      "\n",
      "*** Training of model 'DecisionTreeClassifier' started.\n",
      "*** Training of classifier ready. Time elapsed: 72.832ms\n",
      "\n",
      "*** Training of model 'DecisionTreeClassifier' started.\n",
      "*** Training of classifier ready. Time elapsed: 69.596ms\n",
      "\n",
      "*** Training of model 'DecisionTreeClassifier' started.\n",
      "*** Training of classifier ready. Time elapsed: 8.072ms\n",
      "\n"
     ]
    },
    {
     "name": "stderr",
     "output_type": "stream",
     "text": [
      "Data with input dtype bool, float64 were all converted to float64 by StandardScaler.\n",
      "Data with input dtype bool, float64 were all converted to float64 by StandardScaler.\n",
      "Data with input dtype bool, float64 were all converted to float64 by StandardScaler.\n"
     ]
    },
    {
     "name": "stdout",
     "output_type": "stream",
     "text": [
      "*** Training of model 'DecisionTreeClassifier' started.\n",
      "*** Training of classifier ready. Time elapsed: 73.079ms\n",
      "\n",
      "*** Training of model 'DecisionTreeClassifier' started.\n",
      "*** Training of classifier ready. Time elapsed: 60.734ms\n",
      "\n",
      "*** Training of model 'DecisionTreeClassifier' started.\n",
      "*** Training of classifier ready. Time elapsed: 53.107ms\n",
      "\n",
      "*** Training of model 'DecisionTreeClassifier' started.\n",
      "*** Training of classifier ready. Time elapsed: 50.416ms\n",
      "\n",
      "*** Training of model 'DecisionTreeClassifier' started.\n",
      "*** Training of classifier ready. Time elapsed: 40.671ms\n",
      "\n",
      "*** Training of model 'DecisionTreeClassifier' started.\n",
      "*** Training of classifier ready. Time elapsed: 37.339ms\n",
      "\n",
      "*** Training of model 'DecisionTreeClassifier' started.\n",
      "*** Training of classifier ready. Time elapsed: 202.295ms\n",
      "\n"
     ]
    },
    {
     "name": "stderr",
     "output_type": "stream",
     "text": [
      "Data with input dtype bool, float64 were all converted to float64 by StandardScaler.\n",
      "Data with input dtype bool, float64 were all converted to float64 by StandardScaler.\n",
      "Data with input dtype bool, float64 were all converted to float64 by StandardScaler.\n"
     ]
    },
    {
     "name": "stdout",
     "output_type": "stream",
     "text": [
      "*** Training of model 'DecisionTreeClassifier' started.\n",
      "*** Training of classifier ready. Time elapsed: 158.099ms\n",
      "\n",
      "*** Training of model 'DecisionTreeClassifier' started.\n",
      "*** Training of classifier ready. Time elapsed: 147.516ms\n",
      "\n",
      "*** Training of model 'DecisionTreeClassifier' started.\n",
      "*** Training of classifier ready. Time elapsed: 107.895ms\n",
      "\n",
      "*** Training of model 'DecisionTreeClassifier' started.\n",
      "*** Training of classifier ready. Time elapsed: 105.502ms\n",
      "\n",
      "*** Training of model 'DecisionTreeClassifier' started.\n",
      "*** Training of classifier ready. Time elapsed: 85.815ms\n",
      "\n",
      "*** Training of model 'DecisionTreeClassifier' started.\n",
      "*** Training of classifier ready. Time elapsed: 80.728ms\n",
      "\n",
      "*** Training of model 'DecisionTreeClassifier' started.\n",
      "*** Training of classifier ready. Time elapsed: 218.048ms\n",
      "\n"
     ]
    },
    {
     "name": "stderr",
     "output_type": "stream",
     "text": [
      "Data with input dtype bool, float64 were all converted to float64 by StandardScaler.\n",
      "Data with input dtype bool, float64 were all converted to float64 by StandardScaler.\n",
      "Data with input dtype bool, float64 were all converted to float64 by StandardScaler.\n"
     ]
    },
    {
     "name": "stdout",
     "output_type": "stream",
     "text": [
      "*** Training of model 'DecisionTreeClassifier' started.\n",
      "*** Training of classifier ready. Time elapsed: 138.932ms\n",
      "\n",
      "*** Training of model 'DecisionTreeClassifier' started.\n",
      "*** Training of classifier ready. Time elapsed: 132.298ms\n",
      "\n",
      "*** Training of model 'DecisionTreeClassifier' started.\n",
      "*** Training of classifier ready. Time elapsed: 129.34ms\n",
      "\n",
      "*** Training of model 'DecisionTreeClassifier' started.\n",
      "*** Training of classifier ready. Time elapsed: 121.512ms\n",
      "\n",
      "*** Training of model 'DecisionTreeClassifier' started.\n",
      "*** Training of classifier ready. Time elapsed: 88.687ms\n",
      "\n",
      "*** Training of model 'DecisionTreeClassifier' started.\n",
      "*** Training of classifier ready. Time elapsed: 83.559ms\n",
      "\n",
      "*** Training of model 'DecisionTreeClassifier' started.\n",
      "*** Training of classifier ready. Time elapsed: 299.973ms\n",
      "\n"
     ]
    },
    {
     "name": "stderr",
     "output_type": "stream",
     "text": [
      "Data with input dtype bool, float64 were all converted to float64 by StandardScaler.\n",
      "Data with input dtype bool, float64 were all converted to float64 by StandardScaler.\n",
      "Data with input dtype bool, float64 were all converted to float64 by StandardScaler.\n"
     ]
    },
    {
     "name": "stdout",
     "output_type": "stream",
     "text": [
      "*** Training of model 'DecisionTreeClassifier' started.\n",
      "*** Training of classifier ready. Time elapsed: 143.098ms\n",
      "\n",
      "*** Training of model 'DecisionTreeClassifier' started.\n",
      "*** Training of classifier ready. Time elapsed: 124.84ms\n",
      "\n",
      "*** Training of model 'DecisionTreeClassifier' started.\n",
      "*** Training of classifier ready. Time elapsed: 126.899ms\n",
      "\n",
      "*** Training of model 'DecisionTreeClassifier' started.\n",
      "*** Training of classifier ready. Time elapsed: 106.539ms\n",
      "\n",
      "*** Training of model 'DecisionTreeClassifier' started.\n",
      "*** Training of classifier ready. Time elapsed: 78.159ms\n",
      "\n",
      "*** Training of model 'DecisionTreeClassifier' started.\n",
      "*** Training of classifier ready. Time elapsed: 64.719ms\n",
      "\n",
      "*** Training of model 'DecisionTreeClassifier' started.\n",
      "*** Training of classifier ready. Time elapsed: 263.844ms\n",
      "\n"
     ]
    },
    {
     "name": "stderr",
     "output_type": "stream",
     "text": [
      "Data with input dtype bool, float64 were all converted to float64 by StandardScaler.\n",
      "Data with input dtype bool, float64 were all converted to float64 by StandardScaler.\n",
      "Data with input dtype bool, float64 were all converted to float64 by StandardScaler.\n"
     ]
    },
    {
     "name": "stdout",
     "output_type": "stream",
     "text": [
      "*** Training of model 'DecisionTreeClassifier' started.\n",
      "*** Training of classifier ready. Time elapsed: 186.537ms\n",
      "\n",
      "*** Training of model 'DecisionTreeClassifier' started.\n",
      "*** Training of classifier ready. Time elapsed: 112.616ms\n",
      "\n",
      "*** Training of model 'DecisionTreeClassifier' started.\n",
      "*** Training of classifier ready. Time elapsed: 107.936ms\n",
      "\n",
      "*** Training of model 'DecisionTreeClassifier' started.\n",
      "*** Training of classifier ready. Time elapsed: 92.917ms\n",
      "\n",
      "*** Training of model 'DecisionTreeClassifier' started.\n",
      "*** Training of classifier ready. Time elapsed: 71.209ms\n",
      "\n",
      "*** Training of model 'DecisionTreeClassifier' started.\n",
      "*** Training of classifier ready. Time elapsed: 77.419ms\n",
      "\n",
      "*** Training of model 'DecisionTreeClassifier' started.\n",
      "*** Training of classifier ready. Time elapsed: 197.678ms\n",
      "\n"
     ]
    },
    {
     "name": "stderr",
     "output_type": "stream",
     "text": [
      "Data with input dtype bool, float64 were all converted to float64 by StandardScaler.\n",
      "Data with input dtype bool, float64 were all converted to float64 by StandardScaler.\n",
      "Data with input dtype bool, float64 were all converted to float64 by StandardScaler.\n"
     ]
    },
    {
     "name": "stdout",
     "output_type": "stream",
     "text": [
      "*** Training of model 'DecisionTreeClassifier' started.\n",
      "*** Training of classifier ready. Time elapsed: 69.867ms\n",
      "\n",
      "*** Training of model 'DecisionTreeClassifier' started.\n",
      "*** Training of classifier ready. Time elapsed: 63.48ms\n",
      "\n",
      "*** Training of model 'DecisionTreeClassifier' started.\n",
      "*** Training of classifier ready. Time elapsed: 54.344ms\n",
      "\n",
      "*** Training of model 'DecisionTreeClassifier' started.\n",
      "*** Training of classifier ready. Time elapsed: 47.519ms\n",
      "\n",
      "*** Training of model 'DecisionTreeClassifier' started.\n",
      "*** Training of classifier ready. Time elapsed: 41.955ms\n",
      "\n",
      "*** Training of model 'DecisionTreeClassifier' started.\n",
      "*** Training of classifier ready. Time elapsed: 35.512ms\n",
      "\n",
      "*** Training of model 'DecisionTreeClassifier' started.\n",
      "*** Training of classifier ready. Time elapsed: 34.588ms\n",
      "\n"
     ]
    },
    {
     "name": "stderr",
     "output_type": "stream",
     "text": [
      "Data with input dtype bool, float64 were all converted to float64 by StandardScaler.\n",
      "Data with input dtype bool, float64 were all converted to float64 by StandardScaler.\n",
      "Data with input dtype bool, float64 were all converted to float64 by StandardScaler.\n"
     ]
    },
    {
     "name": "stdout",
     "output_type": "stream",
     "text": [
      "*** Training of model 'DecisionTreeClassifier' started.\n",
      "*** Training of classifier ready. Time elapsed: 84.586ms\n",
      "\n",
      "*** Training of model 'DecisionTreeClassifier' started.\n",
      "*** Training of classifier ready. Time elapsed: 117.051ms\n",
      "\n",
      "*** Training of model 'DecisionTreeClassifier' started.\n",
      "*** Training of classifier ready. Time elapsed: 102.957ms\n",
      "\n",
      "*** Training of model 'DecisionTreeClassifier' started.\n",
      "*** Training of classifier ready. Time elapsed: 140.189ms\n",
      "\n",
      "*** Training of model 'DecisionTreeClassifier' started.\n",
      "*** Training of classifier ready. Time elapsed: 83.282ms\n",
      "\n",
      "*** Training of model 'DecisionTreeClassifier' started.\n",
      "*** Training of classifier ready. Time elapsed: 68.015ms\n",
      "\n",
      "*** Training of model 'DecisionTreeClassifier' started.\n",
      "*** Training of classifier ready. Time elapsed: 71.48ms\n",
      "\n"
     ]
    },
    {
     "name": "stderr",
     "output_type": "stream",
     "text": [
      "Data with input dtype bool, float64 were all converted to float64 by StandardScaler.\n",
      "Data with input dtype bool, float64 were all converted to float64 by StandardScaler.\n",
      "Data with input dtype bool, float64 were all converted to float64 by StandardScaler.\n"
     ]
    },
    {
     "name": "stdout",
     "output_type": "stream",
     "text": [
      "*** Training of model 'DecisionTreeClassifier' started.\n",
      "*** Training of classifier ready. Time elapsed: 69.79ms\n",
      "\n",
      "*** Training of model 'DecisionTreeClassifier' started.\n",
      "*** Training of classifier ready. Time elapsed: 64.337ms\n",
      "\n",
      "*** Training of model 'DecisionTreeClassifier' started.\n",
      "*** Training of classifier ready. Time elapsed: 66.701ms\n",
      "\n",
      "*** Training of model 'DecisionTreeClassifier' started.\n",
      "*** Training of classifier ready. Time elapsed: 51.837ms\n",
      "\n",
      "*** Training of model 'DecisionTreeClassifier' started.\n",
      "*** Training of classifier ready. Time elapsed: 41.53ms\n",
      "\n",
      "*** Training of model 'DecisionTreeClassifier' started.\n",
      "*** Training of classifier ready. Time elapsed: 35.737ms\n",
      "\n",
      "*** Training of model 'DecisionTreeClassifier' started.\n",
      "*** Training of classifier ready. Time elapsed: 35.616ms\n",
      "\n"
     ]
    },
    {
     "name": "stderr",
     "output_type": "stream",
     "text": [
      "Data with input dtype bool, float64 were all converted to float64 by StandardScaler.\n",
      "Data with input dtype bool, float64 were all converted to float64 by StandardScaler.\n",
      "Data with input dtype bool, float64 were all converted to float64 by StandardScaler.\n"
     ]
    },
    {
     "name": "stdout",
     "output_type": "stream",
     "text": [
      "*** Training of model 'DecisionTreeClassifier' started.\n",
      "*** Training of classifier ready. Time elapsed: 70.902ms\n",
      "\n",
      "*** Training of model 'DecisionTreeClassifier' started.\n",
      "*** Training of classifier ready. Time elapsed: 59.142ms\n",
      "\n",
      "*** Training of model 'DecisionTreeClassifier' started.\n",
      "*** Training of classifier ready. Time elapsed: 55.149ms\n",
      "\n",
      "*** Training of model 'DecisionTreeClassifier' started.\n",
      "*** Training of classifier ready. Time elapsed: 78.893ms\n",
      "\n",
      "*** Training of model 'DecisionTreeClassifier' started.\n",
      "*** Training of classifier ready. Time elapsed: 82.123ms\n",
      "\n",
      "*** Training of model 'DecisionTreeClassifier' started.\n",
      "*** Training of classifier ready. Time elapsed: 69.544ms\n",
      "\n",
      "*** Training of model 'DecisionTreeClassifier' started.\n",
      "*** Training of classifier ready. Time elapsed: 73.375ms\n",
      "\n"
     ]
    },
    {
     "name": "stderr",
     "output_type": "stream",
     "text": [
      "Data with input dtype bool, float64 were all converted to float64 by StandardScaler.\n",
      "Data with input dtype bool, float64 were all converted to float64 by StandardScaler.\n",
      "Data with input dtype bool, float64 were all converted to float64 by StandardScaler.\n"
     ]
    },
    {
     "name": "stdout",
     "output_type": "stream",
     "text": [
      "*** Training of model 'DecisionTreeClassifier' started.\n",
      "*** Training of classifier ready. Time elapsed: 158.272ms\n",
      "\n",
      "*** Training of model 'DecisionTreeClassifier' started.\n",
      "*** Training of classifier ready. Time elapsed: 101.205ms\n",
      "\n",
      "*** Training of model 'DecisionTreeClassifier' started.\n",
      "*** Training of classifier ready. Time elapsed: 94.484ms\n",
      "\n",
      "*** Training of model 'DecisionTreeClassifier' started.\n",
      "*** Training of classifier ready. Time elapsed: 106.435ms\n",
      "\n",
      "*** Training of model 'DecisionTreeClassifier' started.\n",
      "*** Training of classifier ready. Time elapsed: 114.327ms\n",
      "\n",
      "*** Training of model 'DecisionTreeClassifier' started.\n",
      "*** Training of classifier ready. Time elapsed: 99.688ms\n",
      "\n",
      "*** Training of model 'DecisionTreeClassifier' started.\n",
      "*** Training of classifier ready. Time elapsed: 98.175ms\n",
      "\n"
     ]
    },
    {
     "name": "stderr",
     "output_type": "stream",
     "text": [
      "Data with input dtype bool, float64 were all converted to float64 by StandardScaler.\n",
      "Data with input dtype bool, float64 were all converted to float64 by StandardScaler.\n",
      "Data with input dtype bool, float64 were all converted to float64 by StandardScaler.\n"
     ]
    },
    {
     "name": "stdout",
     "output_type": "stream",
     "text": [
      "*** Training of model 'LogisticRegression' started.\n",
      "*** Training of classifier ready. Time elapsed: 52.743ms\n",
      "\n",
      "*** Training of model 'LogisticRegression' started.\n",
      "*** Training of classifier ready. Time elapsed: 401.215ms\n",
      "\n",
      "*** Training of model 'LogisticRegression' started.\n",
      "*** Training of classifier ready. Time elapsed: 436.1ms\n",
      "\n",
      "*** Training of model 'LogisticRegression' started.\n",
      "*** Training of classifier ready. Time elapsed: 786.483ms\n",
      "\n",
      "*** Training of model 'LogisticRegression' started.\n",
      "*** Training of classifier ready. Time elapsed: 906.123ms\n",
      "\n",
      "*** Training of model 'LogisticRegression' started.\n",
      "*** Training of classifier ready. Time elapsed: 638.692ms\n",
      "\n",
      "*** Training of model 'LogisticRegression' started.\n",
      "*** Training of classifier ready. Time elapsed: 262.952ms\n",
      "\n"
     ]
    },
    {
     "name": "stderr",
     "output_type": "stream",
     "text": [
      "Data with input dtype bool, float64 were all converted to float64 by StandardScaler.\n",
      "Data with input dtype bool, float64 were all converted to float64 by StandardScaler.\n",
      "Data with input dtype bool, float64 were all converted to float64 by StandardScaler.\n"
     ]
    },
    {
     "name": "stdout",
     "output_type": "stream",
     "text": [
      "*** Training of model 'LogisticRegression' started.\n",
      "*** Training of classifier ready. Time elapsed: 141.891ms\n",
      "\n",
      "*** Training of model 'LogisticRegression' started.\n",
      "*** Training of classifier ready. Time elapsed: 624.198ms\n",
      "\n",
      "*** Training of model 'LogisticRegression' started.\n",
      "*** Training of classifier ready. Time elapsed: 834.647ms\n",
      "\n",
      "*** Training of model 'LogisticRegression' started.\n",
      "*** Training of classifier ready. Time elapsed: 728.532ms\n",
      "\n",
      "*** Training of model 'LogisticRegression' started.\n",
      "*** Training of classifier ready. Time elapsed: 630.731ms\n",
      "\n",
      "*** Training of model 'LogisticRegression' started.\n",
      "*** Training of classifier ready. Time elapsed: 714.843ms\n",
      "\n",
      "*** Training of model 'LogisticRegression' started.\n",
      "*** Training of classifier ready. Time elapsed: 980.345ms\n",
      "\n"
     ]
    },
    {
     "name": "stderr",
     "output_type": "stream",
     "text": [
      "Data with input dtype bool, float64 were all converted to float64 by StandardScaler.\n",
      "Data with input dtype bool, float64 were all converted to float64 by StandardScaler.\n",
      "Data with input dtype bool, float64 were all converted to float64 by StandardScaler.\n"
     ]
    },
    {
     "name": "stdout",
     "output_type": "stream",
     "text": [
      "*** Training of model 'LogisticRegression' started.\n",
      "*** Training of classifier ready. Time elapsed: 849.53ms\n",
      "\n",
      "*** Training of model 'LogisticRegression' started.\n",
      "*** Training of classifier ready. Time elapsed: 802.99ms\n",
      "\n",
      "*** Training of model 'LogisticRegression' started.\n",
      "*** Training of classifier ready. Time elapsed: 613.066ms\n",
      "\n",
      "*** Training of model 'LogisticRegression' started.\n",
      "*** Training of classifier ready. Time elapsed: 237.498ms\n",
      "\n",
      "*** Training of model 'LogisticRegression' started.\n",
      "*** Training of classifier ready. Time elapsed: 895.672ms\n",
      "\n",
      "*** Training of model 'LogisticRegression' started.\n",
      "*** Training of classifier ready. Time elapsed: 717.511ms\n",
      "\n",
      "*** Training of model 'LogisticRegression' started.\n",
      "*** Training of classifier ready. Time elapsed: 942.57ms\n",
      "\n"
     ]
    },
    {
     "name": "stderr",
     "output_type": "stream",
     "text": [
      "Data with input dtype bool, float64 were all converted to float64 by StandardScaler.\n",
      "Data with input dtype bool, float64 were all converted to float64 by StandardScaler.\n",
      "Data with input dtype bool, float64 were all converted to float64 by StandardScaler.\n"
     ]
    },
    {
     "name": "stdout",
     "output_type": "stream",
     "text": [
      "*** Training of model 'LogisticRegression' started.\n",
      "*** Training of classifier ready. Time elapsed: 454.512ms\n",
      "\n",
      "*** Training of model 'LogisticRegression' started.\n",
      "*** Training of classifier ready. Time elapsed: 468.919ms\n",
      "\n",
      "*** Training of model 'LogisticRegression' started.\n",
      "*** Training of classifier ready. Time elapsed: 578.167ms\n",
      "\n",
      "*** Training of model 'LogisticRegression' started.\n",
      "*** Training of classifier ready. Time elapsed: 147.243ms\n",
      "\n",
      "*** Training of model 'LogisticRegression' started.\n",
      "*** Training of classifier ready. Time elapsed: 59.724ms\n",
      "\n",
      "*** Training of model 'LogisticRegression' started.\n",
      "*** Training of classifier ready. Time elapsed: 277.814ms\n",
      "\n",
      "*** Training of model 'LogisticRegression' started.\n",
      "*** Training of classifier ready. Time elapsed: 640.952ms\n",
      "\n"
     ]
    },
    {
     "name": "stderr",
     "output_type": "stream",
     "text": [
      "Data with input dtype bool, float64 were all converted to float64 by StandardScaler.\n",
      "Data with input dtype bool, float64 were all converted to float64 by StandardScaler.\n",
      "Data with input dtype bool, float64 were all converted to float64 by StandardScaler.\n"
     ]
    },
    {
     "name": "stdout",
     "output_type": "stream",
     "text": [
      "*** Training of model 'LogisticRegression' started.\n",
      "*** Training of classifier ready. Time elapsed: 758.635ms\n",
      "\n",
      "*** Training of model 'LogisticRegression' started.\n",
      "*** Training of classifier ready. Time elapsed: 253.45ms\n",
      "\n",
      "*** Training of model 'LogisticRegression' started.\n",
      "*** Training of classifier ready. Time elapsed: 323.595ms\n",
      "\n",
      "*** Training of model 'LogisticRegression' started.\n",
      "*** Training of classifier ready. Time elapsed: 123.985ms\n",
      "\n",
      "*** Training of model 'LogisticRegression' started.\n",
      "*** Training of classifier ready. Time elapsed: 0.65ms\n",
      "\n",
      "*** Training of model 'LogisticRegression' started.\n",
      "*** Training of classifier ready. Time elapsed: 776.337ms\n",
      "\n",
      "*** Training of model 'LogisticRegression' started.\n",
      "*** Training of classifier ready. Time elapsed: 990.12ms\n",
      "\n"
     ]
    },
    {
     "name": "stderr",
     "output_type": "stream",
     "text": [
      "Data with input dtype bool, float64 were all converted to float64 by StandardScaler.\n",
      "Data with input dtype bool, float64 were all converted to float64 by StandardScaler.\n",
      "Data with input dtype bool, float64 were all converted to float64 by StandardScaler.\n"
     ]
    },
    {
     "name": "stdout",
     "output_type": "stream",
     "text": [
      "*** Training of model 'LogisticRegression' started.\n",
      "*** Training of classifier ready. Time elapsed: 701.591ms\n",
      "\n",
      "*** Training of model 'LogisticRegression' started.\n",
      "*** Training of classifier ready. Time elapsed: 423.006ms\n",
      "\n",
      "*** Training of model 'LogisticRegression' started.\n",
      "*** Training of classifier ready. Time elapsed: 234.459ms\n",
      "\n",
      "*** Training of model 'LogisticRegression' started.\n",
      "*** Training of classifier ready. Time elapsed: 249.291ms\n",
      "\n",
      "*** Training of model 'LogisticRegression' started.\n",
      "*** Training of classifier ready. Time elapsed: 994.471ms\n",
      "\n",
      "*** Training of model 'LogisticRegression' started.\n",
      "*** Training of classifier ready. Time elapsed: 251.229ms\n",
      "\n",
      "*** Training of model 'LogisticRegression' started.\n",
      "*** Training of classifier ready. Time elapsed: 326.482ms\n",
      "\n"
     ]
    },
    {
     "name": "stderr",
     "output_type": "stream",
     "text": [
      "Data with input dtype bool, float64 were all converted to float64 by StandardScaler.\n",
      "Data with input dtype bool, float64 were all converted to float64 by StandardScaler.\n",
      "Data with input dtype bool, float64 were all converted to float64 by StandardScaler.\n"
     ]
    },
    {
     "name": "stdout",
     "output_type": "stream",
     "text": [
      "*** Training of model 'LogisticRegression' started.\n",
      "*** Training of classifier ready. Time elapsed: 109.643ms\n",
      "\n",
      "*** Training of model 'LogisticRegression' started.\n",
      "*** Training of classifier ready. Time elapsed: 781.086ms\n",
      "\n",
      "*** Training of model 'LogisticRegression' started.\n",
      "*** Training of classifier ready. Time elapsed: 243.008ms\n",
      "\n",
      "*** Training of model 'LogisticRegression' started.\n",
      "*** Training of classifier ready. Time elapsed: 245.323ms\n",
      "\n",
      "*** Training of model 'LogisticRegression' started.\n",
      "*** Training of classifier ready. Time elapsed: 275.405ms\n",
      "\n",
      "*** Training of model 'LogisticRegression' started.\n",
      "*** Training of classifier ready. Time elapsed: 277.811ms\n",
      "\n",
      "*** Training of model 'LogisticRegression' started.\n",
      "*** Training of classifier ready. Time elapsed: 440.726ms\n",
      "\n"
     ]
    },
    {
     "name": "stderr",
     "output_type": "stream",
     "text": [
      "Data with input dtype bool, float64 were all converted to float64 by StandardScaler.\n",
      "Data with input dtype bool, float64 were all converted to float64 by StandardScaler.\n",
      "Data with input dtype bool, float64 were all converted to float64 by StandardScaler.\n"
     ]
    },
    {
     "name": "stdout",
     "output_type": "stream",
     "text": [
      "*** Training of model 'LogisticRegression' started.\n",
      "*** Training of classifier ready. Time elapsed: 645.643ms\n",
      "\n",
      "*** Training of model 'LogisticRegression' started.\n",
      "*** Training of classifier ready. Time elapsed: 430.047ms\n",
      "\n",
      "*** Training of model 'LogisticRegression' started.\n",
      "*** Training of classifier ready. Time elapsed: 814.211ms\n",
      "\n",
      "*** Training of model 'LogisticRegression' started.\n",
      "*** Training of classifier ready. Time elapsed: 158.846ms\n",
      "\n",
      "*** Training of model 'LogisticRegression' started.\n",
      "*** Training of classifier ready. Time elapsed: 462.763ms\n",
      "\n",
      "*** Training of model 'LogisticRegression' started.\n",
      "*** Training of classifier ready. Time elapsed: 290.335ms\n",
      "\n",
      "*** Training of model 'LogisticRegression' started.\n",
      "*** Training of classifier ready. Time elapsed: 411.615ms\n",
      "\n"
     ]
    },
    {
     "name": "stderr",
     "output_type": "stream",
     "text": [
      "Data with input dtype bool, float64 were all converted to float64 by StandardScaler.\n",
      "Data with input dtype bool, float64 were all converted to float64 by StandardScaler.\n",
      "Data with input dtype bool, float64 were all converted to float64 by StandardScaler.\n"
     ]
    },
    {
     "name": "stdout",
     "output_type": "stream",
     "text": [
      "*** Training of model 'LogisticRegression' started.\n",
      "*** Training of classifier ready. Time elapsed: 641.826ms\n",
      "\n",
      "*** Training of model 'LogisticRegression' started.\n",
      "*** Training of classifier ready. Time elapsed: 608.728ms\n",
      "\n",
      "*** Training of model 'LogisticRegression' started.\n",
      "*** Training of classifier ready. Time elapsed: 570.891ms\n",
      "\n",
      "*** Training of model 'LogisticRegression' started.\n",
      "*** Training of classifier ready. Time elapsed: 144.014ms\n",
      "\n",
      "*** Training of model 'LogisticRegression' started.\n",
      "*** Training of classifier ready. Time elapsed: 290.76ms\n",
      "\n",
      "*** Training of model 'LogisticRegression' started.\n",
      "*** Training of classifier ready. Time elapsed: 177.189ms\n",
      "\n",
      "*** Training of model 'LogisticRegression' started.\n",
      "*** Training of classifier ready. Time elapsed: 403.724ms\n",
      "\n"
     ]
    },
    {
     "name": "stderr",
     "output_type": "stream",
     "text": [
      "Data with input dtype bool, float64 were all converted to float64 by StandardScaler.\n",
      "Data with input dtype bool, float64 were all converted to float64 by StandardScaler.\n",
      "Data with input dtype bool, float64 were all converted to float64 by StandardScaler.\n"
     ]
    },
    {
     "name": "stdout",
     "output_type": "stream",
     "text": [
      "*** Training of model 'LogisticRegression' started.\n",
      "*** Training of classifier ready. Time elapsed: 700.312ms\n",
      "\n",
      "*** Training of model 'LogisticRegression' started.\n",
      "*** Training of classifier ready. Time elapsed: 534.163ms\n",
      "\n",
      "*** Training of model 'LogisticRegression' started.\n",
      "*** Training of classifier ready. Time elapsed: 554.992ms\n",
      "\n",
      "*** Training of model 'LogisticRegression' started.\n",
      "*** Training of classifier ready. Time elapsed: 242.266ms\n",
      "\n",
      "*** Training of model 'LogisticRegression' started.\n",
      "*** Training of classifier ready. Time elapsed: 114.587ms\n",
      "\n",
      "*** Training of model 'LogisticRegression' started.\n",
      "*** Training of classifier ready. Time elapsed: 103.721ms\n",
      "\n",
      "*** Training of model 'LogisticRegression' started.\n",
      "*** Training of classifier ready. Time elapsed: 300.865ms\n",
      "\n"
     ]
    },
    {
     "name": "stderr",
     "output_type": "stream",
     "text": [
      "Data with input dtype bool, float64 were all converted to float64 by StandardScaler.\n",
      "Data with input dtype bool, float64 were all converted to float64 by StandardScaler.\n",
      "Data with input dtype bool, float64 were all converted to float64 by StandardScaler.\n"
     ]
    },
    {
     "name": "stdout",
     "output_type": "stream",
     "text": [
      "*** Training of model 'LogisticRegression' started.\n",
      "*** Training of classifier ready. Time elapsed: 21.479ms\n",
      "\n",
      "*** Training of model 'LogisticRegression' started.\n",
      "*** Training of classifier ready. Time elapsed: 646.605ms\n",
      "\n",
      "*** Training of model 'LogisticRegression' started.\n",
      "*** Training of classifier ready. Time elapsed: 592.533ms\n",
      "\n",
      "*** Training of model 'LogisticRegression' started.\n",
      "*** Training of classifier ready. Time elapsed: 255.352ms\n",
      "\n",
      "*** Training of model 'LogisticRegression' started.\n",
      "*** Training of classifier ready. Time elapsed: 109.761ms\n",
      "\n",
      "*** Training of model 'LogisticRegression' started.\n",
      "*** Training of classifier ready. Time elapsed: 242.865ms\n",
      "\n",
      "*** Training of model 'LogisticRegression' started.\n",
      "*** Training of classifier ready. Time elapsed: 733.905ms\n",
      "\n"
     ]
    },
    {
     "name": "stderr",
     "output_type": "stream",
     "text": [
      "Data with input dtype bool, float64 were all converted to float64 by StandardScaler.\n",
      "Data with input dtype bool, float64 were all converted to float64 by StandardScaler.\n",
      "Data with input dtype bool, float64 were all converted to float64 by StandardScaler.\n"
     ]
    },
    {
     "name": "stdout",
     "output_type": "stream",
     "text": [
      "*** Training of model 'LogisticRegression' started.\n",
      "*** Training of classifier ready. Time elapsed: 666.15ms\n",
      "\n",
      "*** Training of model 'LogisticRegression' started.\n",
      "*** Training of classifier ready. Time elapsed: 798.135ms\n",
      "\n",
      "*** Training of model 'LogisticRegression' started.\n",
      "*** Training of classifier ready. Time elapsed: 902.9ms\n",
      "\n",
      "*** Training of model 'LogisticRegression' started.\n",
      "*** Training of classifier ready. Time elapsed: 749.398ms\n",
      "\n",
      "*** Training of model 'LogisticRegression' started.\n",
      "*** Training of classifier ready. Time elapsed: 565.036ms\n",
      "\n",
      "*** Training of model 'LogisticRegression' started.\n",
      "*** Training of classifier ready. Time elapsed: 218.881ms\n",
      "\n",
      "*** Training of model 'LogisticRegression' started.\n",
      "*** Training of classifier ready. Time elapsed: 806.379ms\n",
      "\n"
     ]
    },
    {
     "name": "stderr",
     "output_type": "stream",
     "text": [
      "Data with input dtype bool, float64 were all converted to float64 by StandardScaler.\n",
      "Data with input dtype bool, float64 were all converted to float64 by StandardScaler.\n",
      "Data with input dtype bool, float64 were all converted to float64 by StandardScaler.\n"
     ]
    },
    {
     "name": "stdout",
     "output_type": "stream",
     "text": [
      "*** Training of model 'LogisticRegression' started.\n",
      "*** Training of classifier ready. Time elapsed: 615.714ms\n",
      "\n",
      "*** Training of model 'LogisticRegression' started.\n",
      "*** Training of classifier ready. Time elapsed: 131.728ms\n",
      "\n",
      "*** Training of model 'LogisticRegression' started.\n",
      "*** Training of classifier ready. Time elapsed: 73.218ms\n",
      "\n",
      "*** Training of model 'LogisticRegression' started.\n",
      "*** Training of classifier ready. Time elapsed: 909.963ms\n",
      "\n",
      "*** Training of model 'LogisticRegression' started.\n",
      "*** Training of classifier ready. Time elapsed: 876.237ms\n",
      "\n",
      "*** Training of model 'LogisticRegression' started.\n",
      "*** Training of classifier ready. Time elapsed: 834.366ms\n",
      "\n",
      "*** Training of model 'LogisticRegression' started.\n",
      "*** Training of classifier ready. Time elapsed: 189.931ms\n",
      "\n"
     ]
    },
    {
     "name": "stderr",
     "output_type": "stream",
     "text": [
      "Data with input dtype bool, float64 were all converted to float64 by StandardScaler.\n",
      "Data with input dtype bool, float64 were all converted to float64 by StandardScaler.\n",
      "Data with input dtype bool, float64 were all converted to float64 by StandardScaler.\n"
     ]
    },
    {
     "name": "stdout",
     "output_type": "stream",
     "text": [
      "*** Training of model 'LogisticRegression' started.\n",
      "*** Training of classifier ready. Time elapsed: 686.626ms\n",
      "\n",
      "*** Training of model 'LogisticRegression' started.\n",
      "*** Training of classifier ready. Time elapsed: 65.54ms\n",
      "\n",
      "*** Training of model 'LogisticRegression' started.\n",
      "*** Training of classifier ready. Time elapsed: 95.998ms\n",
      "\n",
      "*** Training of model 'LogisticRegression' started.\n",
      "*** Training of classifier ready. Time elapsed: 745.734ms\n",
      "\n",
      "*** Training of model 'LogisticRegression' started.\n",
      "*** Training of classifier ready. Time elapsed: 750.805ms\n",
      "\n",
      "*** Training of model 'LogisticRegression' started.\n",
      "*** Training of classifier ready. Time elapsed: 678.957ms\n",
      "\n",
      "*** Training of model 'LogisticRegression' started.\n",
      "*** Training of classifier ready. Time elapsed: 245.686ms\n",
      "\n"
     ]
    },
    {
     "name": "stderr",
     "output_type": "stream",
     "text": [
      "Data with input dtype bool, float64 were all converted to float64 by StandardScaler.\n",
      "Data with input dtype bool, float64 were all converted to float64 by StandardScaler.\n",
      "Data with input dtype bool, float64 were all converted to float64 by StandardScaler.\n"
     ]
    },
    {
     "name": "stdout",
     "output_type": "stream",
     "text": [
      "*** Training of model 'LogisticRegression' started.\n",
      "*** Training of classifier ready. Time elapsed: 426.692ms\n",
      "\n",
      "*** Training of model 'LogisticRegression' started.\n",
      "*** Training of classifier ready. Time elapsed: 364.866ms\n",
      "\n",
      "*** Training of model 'LogisticRegression' started.\n",
      "*** Training of classifier ready. Time elapsed: 300.12ms\n",
      "\n",
      "*** Training of model 'LogisticRegression' started.\n",
      "*** Training of classifier ready. Time elapsed: 169.586ms\n",
      "\n",
      "*** Training of model 'LogisticRegression' started.\n",
      "*** Training of classifier ready. Time elapsed: 974.776ms\n",
      "\n",
      "*** Training of model 'LogisticRegression' started.\n",
      "*** Training of classifier ready. Time elapsed: 797.336ms\n",
      "\n",
      "*** Training of model 'LogisticRegression' started.\n",
      "*** Training of classifier ready. Time elapsed: 126.165ms\n",
      "\n"
     ]
    },
    {
     "name": "stderr",
     "output_type": "stream",
     "text": [
      "Data with input dtype bool, float64 were all converted to float64 by StandardScaler.\n",
      "Data with input dtype bool, float64 were all converted to float64 by StandardScaler.\n",
      "Data with input dtype bool, float64 were all converted to float64 by StandardScaler.\n"
     ]
    },
    {
     "name": "stdout",
     "output_type": "stream",
     "text": [
      "*** Training of model 'LogisticRegression' started.\n",
      "*** Training of classifier ready. Time elapsed: 481.247ms\n",
      "\n",
      "*** Training of model 'LogisticRegression' started.\n",
      "*** Training of classifier ready. Time elapsed: 786.586ms\n",
      "\n",
      "*** Training of model 'LogisticRegression' started.\n",
      "*** Training of classifier ready. Time elapsed: 469.558ms\n",
      "\n",
      "*** Training of model 'LogisticRegression' started.\n",
      "*** Training of classifier ready. Time elapsed: 344.883ms\n",
      "\n",
      "*** Training of model 'LogisticRegression' started.\n",
      "*** Training of classifier ready. Time elapsed: 38.067ms\n",
      "\n",
      "*** Training of model 'LogisticRegression' started.\n",
      "*** Training of classifier ready. Time elapsed: 51.744ms\n",
      "\n",
      "*** Training of model 'LogisticRegression' started.\n",
      "*** Training of classifier ready. Time elapsed: 34.409ms\n",
      "\n"
     ]
    },
    {
     "name": "stderr",
     "output_type": "stream",
     "text": [
      "Data with input dtype bool, float64 were all converted to float64 by StandardScaler.\n",
      "Data with input dtype bool, float64 were all converted to float64 by StandardScaler.\n",
      "Data with input dtype bool, float64 were all converted to float64 by StandardScaler.\n"
     ]
    },
    {
     "name": "stdout",
     "output_type": "stream",
     "text": [
      "*** Training of model 'LogisticRegression' started.\n",
      "*** Training of classifier ready. Time elapsed: 457.838ms\n",
      "\n",
      "*** Training of model 'LogisticRegression' started.\n",
      "*** Training of classifier ready. Time elapsed: 422.854ms\n",
      "\n",
      "*** Training of model 'LogisticRegression' started.\n",
      "*** Training of classifier ready. Time elapsed: 670.982ms\n",
      "\n",
      "*** Training of model 'LogisticRegression' started.\n",
      "*** Training of classifier ready. Time elapsed: 115.299ms\n",
      "\n",
      "*** Training of model 'LogisticRegression' started.\n",
      "*** Training of classifier ready. Time elapsed: 747.093ms\n",
      "\n",
      "*** Training of model 'LogisticRegression' started.\n",
      "*** Training of classifier ready. Time elapsed: 813.851ms\n",
      "\n",
      "*** Training of model 'LogisticRegression' started.\n",
      "*** Training of classifier ready. Time elapsed: 956.66ms\n",
      "\n"
     ]
    },
    {
     "name": "stderr",
     "output_type": "stream",
     "text": [
      "Data with input dtype bool, float64 were all converted to float64 by StandardScaler.\n",
      "Data with input dtype bool, float64 were all converted to float64 by StandardScaler.\n",
      "Data with input dtype bool, float64 were all converted to float64 by StandardScaler.\n"
     ]
    },
    {
     "name": "stdout",
     "output_type": "stream",
     "text": [
      "*** Training of model 'LogisticRegression' started.\n",
      "*** Training of classifier ready. Time elapsed: 413.153ms\n",
      "\n",
      "*** Training of model 'LogisticRegression' started.\n",
      "*** Training of classifier ready. Time elapsed: 432.672ms\n",
      "\n",
      "*** Training of model 'LogisticRegression' started.\n",
      "*** Training of classifier ready. Time elapsed: 933.908ms\n",
      "\n",
      "*** Training of model 'LogisticRegression' started.\n",
      "*** Training of classifier ready. Time elapsed: 318.254ms\n",
      "\n",
      "*** Training of model 'LogisticRegression' started.\n",
      "*** Training of classifier ready. Time elapsed: 306.452ms\n",
      "\n",
      "*** Training of model 'LogisticRegression' started.\n",
      "*** Training of classifier ready. Time elapsed: 241.001ms\n",
      "\n",
      "*** Training of model 'LogisticRegression' started.\n",
      "*** Training of classifier ready. Time elapsed: 45.792ms\n",
      "\n"
     ]
    },
    {
     "name": "stderr",
     "output_type": "stream",
     "text": [
      "Data with input dtype bool, float64 were all converted to float64 by StandardScaler.\n",
      "Data with input dtype bool, float64 were all converted to float64 by StandardScaler.\n",
      "Data with input dtype bool, float64 were all converted to float64 by StandardScaler.\n"
     ]
    },
    {
     "name": "stdout",
     "output_type": "stream",
     "text": [
      "*** Training of model 'LogisticRegression' started.\n",
      "*** Training of classifier ready. Time elapsed: 674.237ms\n",
      "\n",
      "*** Training of model 'LogisticRegression' started.\n",
      "*** Training of classifier ready. Time elapsed: 208.332ms\n",
      "\n",
      "*** Training of model 'LogisticRegression' started.\n",
      "*** Training of classifier ready. Time elapsed: 194.204ms\n",
      "\n",
      "*** Training of model 'LogisticRegression' started.\n",
      "*** Training of classifier ready. Time elapsed: 79.993ms\n",
      "\n",
      "*** Training of model 'LogisticRegression' started.\n",
      "*** Training of classifier ready. Time elapsed: 610.648ms\n",
      "\n",
      "*** Training of model 'LogisticRegression' started.\n",
      "*** Training of classifier ready. Time elapsed: 400.982ms\n",
      "\n",
      "*** Training of model 'LogisticRegression' started.\n",
      "*** Training of classifier ready. Time elapsed: 107.613ms\n",
      "\n"
     ]
    },
    {
     "name": "stderr",
     "output_type": "stream",
     "text": [
      "Data with input dtype bool, float64 were all converted to float64 by StandardScaler.\n",
      "Data with input dtype bool, float64 were all converted to float64 by StandardScaler.\n",
      "Data with input dtype bool, float64 were all converted to float64 by StandardScaler.\n"
     ]
    },
    {
     "name": "stdout",
     "output_type": "stream",
     "text": [
      "*** Training of model 'LogisticRegression' started.\n",
      "*** Training of classifier ready. Time elapsed: 650.797ms\n",
      "\n",
      "*** Training of model 'LogisticRegression' started.\n",
      "*** Training of classifier ready. Time elapsed: 117.467ms\n",
      "\n",
      "*** Training of model 'LogisticRegression' started.\n",
      "*** Training of classifier ready. Time elapsed: 7.953ms\n",
      "\n",
      "*** Training of model 'LogisticRegression' started.\n",
      "*** Training of classifier ready. Time elapsed: 15.381ms\n",
      "\n",
      "*** Training of model 'LogisticRegression' started.\n",
      "*** Training of classifier ready. Time elapsed: 905.443ms\n",
      "\n",
      "*** Training of model 'LogisticRegression' started.\n",
      "*** Training of classifier ready. Time elapsed: 503.234ms\n",
      "\n",
      "*** Training of model 'LogisticRegression' started.\n",
      "*** Training of classifier ready. Time elapsed: 500.659ms\n",
      "\n"
     ]
    },
    {
     "name": "stderr",
     "output_type": "stream",
     "text": [
      "Columns (11,18,19,20,24,35,64,83,90,92,94,96,97,106,114,117,120,125,126,133,136,140,141,142,143,144,150,178,235,244,248,288,311,317,320,325,326,330,334,341,353,359,360,361,365,402,421,425,430,434,436,439,446) have mixed types. Specify dtype option on import or set low_memory=False.\n"
     ]
    },
    {
     "name": "stdout",
     "output_type": "stream",
     "text": [
      "Fetching data for <fiber.condition.mrns.MRNs object at 0x7f6e33b459e8>\n",
      "Fetching data for Patient (...)\n"
     ]
    },
    {
     "name": "stderr",
     "output_type": "stream",
     "text": [
      "Data with input dtype bool, float64 were all converted to float64 by StandardScaler.\n",
      "Data with input dtype bool, float64 were all converted to float64 by StandardScaler.\n",
      "Data with input dtype bool, float64 were all converted to float64 by StandardScaler.\n"
     ]
    },
    {
     "name": "stdout",
     "output_type": "stream",
     "text": [
      "*** Training of model 'GradientBoostingClassifier' started.\n",
      "*** Training of classifier ready. Time elapsed: 375.041ms\n",
      "\n",
      "*** Training of model 'GradientBoostingClassifier' started.\n",
      "*** Training of classifier ready. Time elapsed: 271.874ms\n",
      "\n",
      "*** Training of model 'GradientBoostingClassifier' started.\n",
      "*** Training of classifier ready. Time elapsed: 940.915ms\n",
      "\n",
      "*** Training of model 'GradientBoostingClassifier' started.\n",
      "*** Training of classifier ready. Time elapsed: 273.854ms\n",
      "\n",
      "*** Training of model 'GradientBoostingClassifier' started.\n",
      "*** Training of classifier ready. Time elapsed: 888.481ms\n",
      "\n",
      "*** Training of model 'GradientBoostingClassifier' started.\n",
      "*** Training of classifier ready. Time elapsed: 969.64ms\n",
      "\n",
      "*** Training of model 'GradientBoostingClassifier' started.\n",
      "*** Training of classifier ready. Time elapsed: 405.954ms\n",
      "\n"
     ]
    },
    {
     "name": "stderr",
     "output_type": "stream",
     "text": [
      "F-score is ill-defined and being set to 0.0 due to no predicted samples.\n",
      "Precision is ill-defined and being set to 0.0 due to no predicted samples.\n",
      "invalid value encountered in long_scalars\n",
      "Data with input dtype bool, float64 were all converted to float64 by StandardScaler.\n",
      "Data with input dtype bool, float64 were all converted to float64 by StandardScaler.\n",
      "Data with input dtype bool, float64 were all converted to float64 by StandardScaler.\n"
     ]
    },
    {
     "name": "stdout",
     "output_type": "stream",
     "text": [
      "*** Training of model 'GradientBoostingClassifier' started.\n",
      "*** Training of classifier ready. Time elapsed: 726.534ms\n",
      "\n",
      "*** Training of model 'GradientBoostingClassifier' started.\n",
      "*** Training of classifier ready. Time elapsed: 660.92ms\n",
      "\n",
      "*** Training of model 'GradientBoostingClassifier' started.\n",
      "*** Training of classifier ready. Time elapsed: 57.607ms\n",
      "\n",
      "*** Training of model 'GradientBoostingClassifier' started.\n",
      "*** Training of classifier ready. Time elapsed: 140.796ms\n",
      "\n",
      "*** Training of model 'GradientBoostingClassifier' started.\n",
      "*** Training of classifier ready. Time elapsed: 833.711ms\n",
      "\n",
      "*** Training of model 'GradientBoostingClassifier' started.\n",
      "*** Training of classifier ready. Time elapsed: 702.994ms\n",
      "\n",
      "*** Training of model 'GradientBoostingClassifier' started.\n",
      "*** Training of classifier ready. Time elapsed: 199.021ms\n",
      "\n"
     ]
    },
    {
     "name": "stderr",
     "output_type": "stream",
     "text": [
      "Data with input dtype bool, float64 were all converted to float64 by StandardScaler.\n",
      "Data with input dtype bool, float64 were all converted to float64 by StandardScaler.\n",
      "Data with input dtype bool, float64 were all converted to float64 by StandardScaler.\n"
     ]
    },
    {
     "name": "stdout",
     "output_type": "stream",
     "text": [
      "*** Training of model 'GradientBoostingClassifier' started.\n",
      "*** Training of classifier ready. Time elapsed: 842.509ms\n",
      "\n",
      "*** Training of model 'GradientBoostingClassifier' started.\n",
      "*** Training of classifier ready. Time elapsed: 44.617ms\n",
      "\n",
      "*** Training of model 'GradientBoostingClassifier' started.\n",
      "*** Training of classifier ready. Time elapsed: 116.746ms\n",
      "\n",
      "*** Training of model 'GradientBoostingClassifier' started.\n",
      "*** Training of classifier ready. Time elapsed: 401.507ms\n",
      "\n",
      "*** Training of model 'GradientBoostingClassifier' started.\n",
      "*** Training of classifier ready. Time elapsed: 126.746ms\n",
      "\n",
      "*** Training of model 'GradientBoostingClassifier' started.\n",
      "*** Training of classifier ready. Time elapsed: 354.939ms\n",
      "\n",
      "*** Training of model 'GradientBoostingClassifier' started.\n",
      "*** Training of classifier ready. Time elapsed: 620.343ms\n",
      "\n"
     ]
    },
    {
     "name": "stderr",
     "output_type": "stream",
     "text": [
      "Data with input dtype bool, float64 were all converted to float64 by StandardScaler.\n",
      "Data with input dtype bool, float64 were all converted to float64 by StandardScaler.\n",
      "Data with input dtype bool, float64 were all converted to float64 by StandardScaler.\n"
     ]
    },
    {
     "name": "stdout",
     "output_type": "stream",
     "text": [
      "*** Training of model 'GradientBoostingClassifier' started.\n",
      "*** Training of classifier ready. Time elapsed: 982.359ms\n",
      "\n",
      "*** Training of model 'GradientBoostingClassifier' started.\n",
      "*** Training of classifier ready. Time elapsed: 530.158ms\n",
      "\n",
      "*** Training of model 'GradientBoostingClassifier' started.\n",
      "*** Training of classifier ready. Time elapsed: 753.987ms\n",
      "\n",
      "*** Training of model 'GradientBoostingClassifier' started.\n",
      "*** Training of classifier ready. Time elapsed: 54.071ms\n",
      "\n",
      "*** Training of model 'GradientBoostingClassifier' started.\n",
      "*** Training of classifier ready. Time elapsed: 421.188ms\n",
      "\n",
      "*** Training of model 'GradientBoostingClassifier' started.\n",
      "*** Training of classifier ready. Time elapsed: 310.89ms\n",
      "\n",
      "*** Training of model 'GradientBoostingClassifier' started.\n",
      "*** Training of classifier ready. Time elapsed: 588.243ms\n",
      "\n"
     ]
    },
    {
     "name": "stderr",
     "output_type": "stream",
     "text": [
      "F-score is ill-defined and being set to 0.0 due to no predicted samples.\n",
      "Precision is ill-defined and being set to 0.0 due to no predicted samples.\n",
      "invalid value encountered in long_scalars\n",
      "Data with input dtype bool, float64 were all converted to float64 by StandardScaler.\n",
      "Data with input dtype bool, float64 were all converted to float64 by StandardScaler.\n",
      "Data with input dtype bool, float64 were all converted to float64 by StandardScaler.\n"
     ]
    },
    {
     "name": "stdout",
     "output_type": "stream",
     "text": [
      "*** Training of model 'GradientBoostingClassifier' started.\n",
      "*** Training of classifier ready. Time elapsed: 134.734ms\n",
      "\n",
      "*** Training of model 'GradientBoostingClassifier' started.\n",
      "*** Training of classifier ready. Time elapsed: 871.549ms\n",
      "\n",
      "*** Training of model 'GradientBoostingClassifier' started.\n",
      "*** Training of classifier ready. Time elapsed: 243.164ms\n",
      "\n",
      "*** Training of model 'GradientBoostingClassifier' started.\n",
      "*** Training of classifier ready. Time elapsed: 182.281ms\n",
      "\n",
      "*** Training of model 'GradientBoostingClassifier' started.\n",
      "*** Training of classifier ready. Time elapsed: 212.172ms\n",
      "\n",
      "*** Training of model 'GradientBoostingClassifier' started.\n",
      "*** Training of classifier ready. Time elapsed: 364.898ms\n",
      "\n",
      "*** Training of model 'GradientBoostingClassifier' started.\n",
      "*** Training of classifier ready. Time elapsed: 815.522ms\n",
      "\n"
     ]
    },
    {
     "name": "stderr",
     "output_type": "stream",
     "text": [
      "Data with input dtype bool, float64 were all converted to float64 by StandardScaler.\n",
      "Data with input dtype bool, float64 were all converted to float64 by StandardScaler.\n",
      "Data with input dtype bool, float64 were all converted to float64 by StandardScaler.\n"
     ]
    },
    {
     "name": "stdout",
     "output_type": "stream",
     "text": [
      "*** Training of model 'GradientBoostingClassifier' started.\n",
      "*** Training of classifier ready. Time elapsed: 752.258ms\n",
      "\n",
      "*** Training of model 'GradientBoostingClassifier' started.\n",
      "*** Training of classifier ready. Time elapsed: 700.987ms\n",
      "\n",
      "*** Training of model 'GradientBoostingClassifier' started.\n",
      "*** Training of classifier ready. Time elapsed: 460.64ms\n",
      "\n",
      "*** Training of model 'GradientBoostingClassifier' started.\n",
      "*** Training of classifier ready. Time elapsed: 51.944ms\n",
      "\n",
      "*** Training of model 'GradientBoostingClassifier' started.\n",
      "*** Training of classifier ready. Time elapsed: 602.777ms\n",
      "\n",
      "*** Training of model 'GradientBoostingClassifier' started.\n",
      "*** Training of classifier ready. Time elapsed: 500.814ms\n",
      "\n",
      "*** Training of model 'GradientBoostingClassifier' started.\n",
      "*** Training of classifier ready. Time elapsed: 564.5ms\n",
      "\n"
     ]
    },
    {
     "name": "stderr",
     "output_type": "stream",
     "text": [
      "Data with input dtype bool, float64 were all converted to float64 by StandardScaler.\n",
      "Data with input dtype bool, float64 were all converted to float64 by StandardScaler.\n",
      "Data with input dtype bool, float64 were all converted to float64 by StandardScaler.\n"
     ]
    },
    {
     "name": "stdout",
     "output_type": "stream",
     "text": [
      "*** Training of model 'GradientBoostingClassifier' started.\n",
      "*** Training of classifier ready. Time elapsed: 114.957ms\n",
      "\n",
      "*** Training of model 'GradientBoostingClassifier' started.\n",
      "*** Training of classifier ready. Time elapsed: 634.283ms\n",
      "\n",
      "*** Training of model 'GradientBoostingClassifier' started.\n",
      "*** Training of classifier ready. Time elapsed: 739.485ms\n",
      "\n",
      "*** Training of model 'GradientBoostingClassifier' started.\n",
      "*** Training of classifier ready. Time elapsed: 782.327ms\n",
      "\n",
      "*** Training of model 'GradientBoostingClassifier' started.\n",
      "*** Training of classifier ready. Time elapsed: 530.922ms\n",
      "\n",
      "*** Training of model 'GradientBoostingClassifier' started.\n",
      "*** Training of classifier ready. Time elapsed: 188.011ms\n",
      "\n",
      "*** Training of model 'GradientBoostingClassifier' started.\n",
      "*** Training of classifier ready. Time elapsed: 903.897ms\n",
      "\n"
     ]
    },
    {
     "name": "stderr",
     "output_type": "stream",
     "text": [
      "Data with input dtype bool, float64 were all converted to float64 by StandardScaler.\n",
      "Data with input dtype bool, float64 were all converted to float64 by StandardScaler.\n",
      "Data with input dtype bool, float64 were all converted to float64 by StandardScaler.\n"
     ]
    },
    {
     "name": "stdout",
     "output_type": "stream",
     "text": [
      "*** Training of model 'GradientBoostingClassifier' started.\n",
      "*** Training of classifier ready. Time elapsed: 843.576ms\n",
      "\n",
      "*** Training of model 'GradientBoostingClassifier' started.\n",
      "*** Training of classifier ready. Time elapsed: 140.03ms\n",
      "\n",
      "*** Training of model 'GradientBoostingClassifier' started.\n",
      "*** Training of classifier ready. Time elapsed: 64.05ms\n",
      "\n",
      "*** Training of model 'GradientBoostingClassifier' started.\n",
      "*** Training of classifier ready. Time elapsed: 743.043ms\n",
      "\n",
      "*** Training of model 'GradientBoostingClassifier' started.\n",
      "*** Training of classifier ready. Time elapsed: 125.18ms\n",
      "\n",
      "*** Training of model 'GradientBoostingClassifier' started.\n",
      "*** Training of classifier ready. Time elapsed: 671.107ms\n",
      "\n",
      "*** Training of model 'GradientBoostingClassifier' started.\n",
      "*** Training of classifier ready. Time elapsed: 697.074ms\n",
      "\n"
     ]
    },
    {
     "name": "stderr",
     "output_type": "stream",
     "text": [
      "Data with input dtype bool, float64 were all converted to float64 by StandardScaler.\n",
      "Data with input dtype bool, float64 were all converted to float64 by StandardScaler.\n",
      "Data with input dtype bool, float64 were all converted to float64 by StandardScaler.\n"
     ]
    },
    {
     "name": "stdout",
     "output_type": "stream",
     "text": [
      "*** Training of model 'GradientBoostingClassifier' started.\n",
      "*** Training of classifier ready. Time elapsed: 333.443ms\n",
      "\n",
      "*** Training of model 'GradientBoostingClassifier' started.\n",
      "*** Training of classifier ready. Time elapsed: 233.92ms\n",
      "\n",
      "*** Training of model 'GradientBoostingClassifier' started.\n",
      "*** Training of classifier ready. Time elapsed: 340.183ms\n",
      "\n",
      "*** Training of model 'GradientBoostingClassifier' started.\n",
      "*** Training of classifier ready. Time elapsed: 617.014ms\n",
      "\n",
      "*** Training of model 'GradientBoostingClassifier' started.\n",
      "*** Training of classifier ready. Time elapsed: 505.687ms\n",
      "\n",
      "*** Training of model 'GradientBoostingClassifier' started.\n",
      "*** Training of classifier ready. Time elapsed: 259.767ms\n",
      "\n",
      "*** Training of model 'GradientBoostingClassifier' started.\n",
      "*** Training of classifier ready. Time elapsed: 728.223ms\n",
      "\n"
     ]
    },
    {
     "name": "stderr",
     "output_type": "stream",
     "text": [
      "Data with input dtype bool, float64 were all converted to float64 by StandardScaler.\n",
      "Data with input dtype bool, float64 were all converted to float64 by StandardScaler.\n",
      "Data with input dtype bool, float64 were all converted to float64 by StandardScaler.\n"
     ]
    },
    {
     "name": "stdout",
     "output_type": "stream",
     "text": [
      "*** Training of model 'GradientBoostingClassifier' started.\n",
      "*** Training of classifier ready. Time elapsed: 357.15ms\n",
      "\n",
      "*** Training of model 'GradientBoostingClassifier' started.\n",
      "*** Training of classifier ready. Time elapsed: 881.068ms\n",
      "\n",
      "*** Training of model 'GradientBoostingClassifier' started.\n",
      "*** Training of classifier ready. Time elapsed: 619.982ms\n",
      "\n",
      "*** Training of model 'GradientBoostingClassifier' started.\n",
      "*** Training of classifier ready. Time elapsed: 374.371ms\n",
      "\n",
      "*** Training of model 'GradientBoostingClassifier' started.\n",
      "*** Training of classifier ready. Time elapsed: 933.377ms\n",
      "\n",
      "*** Training of model 'GradientBoostingClassifier' started.\n",
      "*** Training of classifier ready. Time elapsed: 877.581ms\n",
      "\n",
      "*** Training of model 'GradientBoostingClassifier' started.\n",
      "*** Training of classifier ready. Time elapsed: 342.035ms\n",
      "\n"
     ]
    },
    {
     "name": "stderr",
     "output_type": "stream",
     "text": [
      "Data with input dtype bool, float64 were all converted to float64 by StandardScaler.\n",
      "Data with input dtype bool, float64 were all converted to float64 by StandardScaler.\n",
      "Data with input dtype bool, float64 were all converted to float64 by StandardScaler.\n"
     ]
    },
    {
     "name": "stdout",
     "output_type": "stream",
     "text": [
      "*** Training of model 'GradientBoostingClassifier' started.\n",
      "*** Training of classifier ready. Time elapsed: 43.324ms\n",
      "\n",
      "*** Training of model 'GradientBoostingClassifier' started.\n",
      "*** Training of classifier ready. Time elapsed: 944.786ms\n",
      "\n",
      "*** Training of model 'GradientBoostingClassifier' started.\n",
      "*** Training of classifier ready. Time elapsed: 749.155ms\n",
      "\n",
      "*** Training of model 'GradientBoostingClassifier' started.\n",
      "*** Training of classifier ready. Time elapsed: 490.357ms\n",
      "\n",
      "*** Training of model 'GradientBoostingClassifier' started.\n",
      "*** Training of classifier ready. Time elapsed: 948.188ms\n",
      "\n",
      "*** Training of model 'GradientBoostingClassifier' started.\n",
      "*** Training of classifier ready. Time elapsed: 777.298ms\n",
      "\n",
      "*** Training of model 'GradientBoostingClassifier' started.\n",
      "*** Training of classifier ready. Time elapsed: 187.117ms\n",
      "\n"
     ]
    },
    {
     "name": "stderr",
     "output_type": "stream",
     "text": [
      "Data with input dtype bool, float64 were all converted to float64 by StandardScaler.\n",
      "Data with input dtype bool, float64 were all converted to float64 by StandardScaler.\n",
      "Data with input dtype bool, float64 were all converted to float64 by StandardScaler.\n"
     ]
    },
    {
     "name": "stdout",
     "output_type": "stream",
     "text": [
      "*** Training of model 'GradientBoostingClassifier' started.\n",
      "*** Training of classifier ready. Time elapsed: 194.099ms\n",
      "\n",
      "*** Training of model 'GradientBoostingClassifier' started.\n",
      "*** Training of classifier ready. Time elapsed: 790.115ms\n",
      "\n",
      "*** Training of model 'GradientBoostingClassifier' started.\n",
      "*** Training of classifier ready. Time elapsed: 515.366ms\n",
      "\n",
      "*** Training of model 'GradientBoostingClassifier' started.\n",
      "*** Training of classifier ready. Time elapsed: 166.203ms\n",
      "\n",
      "*** Training of model 'GradientBoostingClassifier' started.\n",
      "*** Training of classifier ready. Time elapsed: 987.32ms\n",
      "\n",
      "*** Training of model 'GradientBoostingClassifier' started.\n",
      "*** Training of classifier ready. Time elapsed: 797.917ms\n",
      "\n",
      "*** Training of model 'GradientBoostingClassifier' started.\n",
      "*** Training of classifier ready. Time elapsed: 808.964ms\n",
      "\n"
     ]
    },
    {
     "name": "stderr",
     "output_type": "stream",
     "text": [
      "Data with input dtype bool, float64 were all converted to float64 by StandardScaler.\n",
      "Data with input dtype bool, float64 were all converted to float64 by StandardScaler.\n",
      "Data with input dtype bool, float64 were all converted to float64 by StandardScaler.\n"
     ]
    },
    {
     "name": "stdout",
     "output_type": "stream",
     "text": [
      "*** Training of model 'GradientBoostingClassifier' started.\n",
      "*** Training of classifier ready. Time elapsed: 934.421ms\n",
      "\n",
      "*** Training of model 'GradientBoostingClassifier' started.\n",
      "*** Training of classifier ready. Time elapsed: 15.206ms\n",
      "\n",
      "*** Training of model 'GradientBoostingClassifier' started.\n",
      "*** Training of classifier ready. Time elapsed: 709.787ms\n",
      "\n",
      "*** Training of model 'GradientBoostingClassifier' started.\n",
      "*** Training of classifier ready. Time elapsed: 471.9ms\n",
      "\n",
      "*** Training of model 'GradientBoostingClassifier' started.\n",
      "*** Training of classifier ready. Time elapsed: 21.329ms\n",
      "\n",
      "*** Training of model 'GradientBoostingClassifier' started.\n",
      "*** Training of classifier ready. Time elapsed: 733.812ms\n",
      "\n",
      "*** Training of model 'GradientBoostingClassifier' started.\n",
      "*** Training of classifier ready. Time elapsed: 782.051ms\n",
      "\n"
     ]
    },
    {
     "name": "stderr",
     "output_type": "stream",
     "text": [
      "Data with input dtype bool, float64 were all converted to float64 by StandardScaler.\n",
      "Data with input dtype bool, float64 were all converted to float64 by StandardScaler.\n",
      "Data with input dtype bool, float64 were all converted to float64 by StandardScaler.\n"
     ]
    },
    {
     "name": "stdout",
     "output_type": "stream",
     "text": [
      "*** Training of model 'GradientBoostingClassifier' started.\n",
      "*** Training of classifier ready. Time elapsed: 289.132ms\n",
      "\n",
      "*** Training of model 'GradientBoostingClassifier' started.\n",
      "*** Training of classifier ready. Time elapsed: 1.667ms\n",
      "\n",
      "*** Training of model 'GradientBoostingClassifier' started.\n",
      "*** Training of classifier ready. Time elapsed: 658.942ms\n",
      "\n",
      "*** Training of model 'GradientBoostingClassifier' started.\n",
      "*** Training of classifier ready. Time elapsed: 442.99ms\n",
      "\n",
      "*** Training of model 'GradientBoostingClassifier' started.\n",
      "*** Training of classifier ready. Time elapsed: 177.466ms\n",
      "\n",
      "*** Training of model 'GradientBoostingClassifier' started.\n",
      "*** Training of classifier ready. Time elapsed: 855.81ms\n",
      "\n",
      "*** Training of model 'GradientBoostingClassifier' started.\n",
      "*** Training of classifier ready. Time elapsed: 525.623ms\n",
      "\n"
     ]
    },
    {
     "name": "stderr",
     "output_type": "stream",
     "text": [
      "Data with input dtype bool, float64 were all converted to float64 by StandardScaler.\n",
      "Data with input dtype bool, float64 were all converted to float64 by StandardScaler.\n",
      "Data with input dtype bool, float64 were all converted to float64 by StandardScaler.\n"
     ]
    },
    {
     "name": "stdout",
     "output_type": "stream",
     "text": [
      "*** Training of model 'GradientBoostingClassifier' started.\n",
      "*** Training of classifier ready. Time elapsed: 292.215ms\n",
      "\n",
      "*** Training of model 'GradientBoostingClassifier' started.\n",
      "*** Training of classifier ready. Time elapsed: 136.5ms\n",
      "\n",
      "*** Training of model 'GradientBoostingClassifier' started.\n",
      "*** Training of classifier ready. Time elapsed: 528.678ms\n",
      "\n",
      "*** Training of model 'GradientBoostingClassifier' started.\n",
      "*** Training of classifier ready. Time elapsed: 419.378ms\n",
      "\n",
      "*** Training of model 'GradientBoostingClassifier' started.\n",
      "*** Training of classifier ready. Time elapsed: 78.823ms\n",
      "\n",
      "*** Training of model 'GradientBoostingClassifier' started.\n",
      "*** Training of classifier ready. Time elapsed: 798.548ms\n",
      "\n",
      "*** Training of model 'GradientBoostingClassifier' started.\n",
      "*** Training of classifier ready. Time elapsed: 284.916ms\n",
      "\n"
     ]
    },
    {
     "name": "stderr",
     "output_type": "stream",
     "text": [
      "Data with input dtype bool, float64 were all converted to float64 by StandardScaler.\n",
      "Data with input dtype bool, float64 were all converted to float64 by StandardScaler.\n",
      "Data with input dtype bool, float64 were all converted to float64 by StandardScaler.\n"
     ]
    },
    {
     "name": "stdout",
     "output_type": "stream",
     "text": [
      "*** Training of model 'GradientBoostingClassifier' started.\n",
      "*** Training of classifier ready. Time elapsed: 17.031ms\n",
      "\n",
      "*** Training of model 'GradientBoostingClassifier' started.\n",
      "*** Training of classifier ready. Time elapsed: 717.917ms\n",
      "\n",
      "*** Training of model 'GradientBoostingClassifier' started.\n",
      "*** Training of classifier ready. Time elapsed: 960.115ms\n",
      "\n",
      "*** Training of model 'GradientBoostingClassifier' started.\n",
      "*** Training of classifier ready. Time elapsed: 739.697ms\n",
      "\n",
      "*** Training of model 'GradientBoostingClassifier' started.\n",
      "*** Training of classifier ready. Time elapsed: 77.404ms\n",
      "\n",
      "*** Training of model 'GradientBoostingClassifier' started.\n",
      "*** Training of classifier ready. Time elapsed: 960.504ms\n",
      "\n",
      "*** Training of model 'GradientBoostingClassifier' started.\n",
      "*** Training of classifier ready. Time elapsed: 448.433ms\n",
      "\n"
     ]
    },
    {
     "name": "stderr",
     "output_type": "stream",
     "text": [
      "Data with input dtype bool, float64 were all converted to float64 by StandardScaler.\n",
      "Data with input dtype bool, float64 were all converted to float64 by StandardScaler.\n",
      "Data with input dtype bool, float64 were all converted to float64 by StandardScaler.\n"
     ]
    },
    {
     "name": "stdout",
     "output_type": "stream",
     "text": [
      "*** Training of model 'GradientBoostingClassifier' started.\n",
      "*** Training of classifier ready. Time elapsed: 478.72ms\n",
      "\n",
      "*** Training of model 'GradientBoostingClassifier' started.\n",
      "*** Training of classifier ready. Time elapsed: 358.723ms\n",
      "\n",
      "*** Training of model 'GradientBoostingClassifier' started.\n",
      "*** Training of classifier ready. Time elapsed: 959.466ms\n",
      "\n",
      "*** Training of model 'GradientBoostingClassifier' started.\n",
      "*** Training of classifier ready. Time elapsed: 675.008ms\n",
      "\n",
      "*** Training of model 'GradientBoostingClassifier' started.\n",
      "*** Training of classifier ready. Time elapsed: 363.901ms\n",
      "\n",
      "*** Training of model 'GradientBoostingClassifier' started.\n",
      "*** Training of classifier ready. Time elapsed: 234.035ms\n",
      "\n",
      "*** Training of model 'GradientBoostingClassifier' started.\n",
      "*** Training of classifier ready. Time elapsed: 663.898ms\n",
      "\n"
     ]
    },
    {
     "name": "stderr",
     "output_type": "stream",
     "text": [
      "Data with input dtype bool, float64 were all converted to float64 by StandardScaler.\n",
      "Data with input dtype bool, float64 were all converted to float64 by StandardScaler.\n",
      "Data with input dtype bool, float64 were all converted to float64 by StandardScaler.\n"
     ]
    },
    {
     "name": "stdout",
     "output_type": "stream",
     "text": [
      "*** Training of model 'GradientBoostingClassifier' started.\n",
      "*** Training of classifier ready. Time elapsed: 267.982ms\n",
      "\n",
      "*** Training of model 'GradientBoostingClassifier' started.\n",
      "*** Training of classifier ready. Time elapsed: 270.111ms\n",
      "\n",
      "*** Training of model 'GradientBoostingClassifier' started.\n",
      "*** Training of classifier ready. Time elapsed: 367.655ms\n",
      "\n",
      "*** Training of model 'GradientBoostingClassifier' started.\n",
      "*** Training of classifier ready. Time elapsed: 680.181ms\n",
      "\n",
      "*** Training of model 'GradientBoostingClassifier' started.\n",
      "*** Training of classifier ready. Time elapsed: 343.067ms\n",
      "\n",
      "*** Training of model 'GradientBoostingClassifier' started.\n",
      "*** Training of classifier ready. Time elapsed: 758.201ms\n",
      "\n",
      "*** Training of model 'GradientBoostingClassifier' started.\n",
      "*** Training of classifier ready. Time elapsed: 223.211ms\n",
      "\n"
     ]
    },
    {
     "name": "stderr",
     "output_type": "stream",
     "text": [
      "Data with input dtype bool, float64 were all converted to float64 by StandardScaler.\n",
      "Data with input dtype bool, float64 were all converted to float64 by StandardScaler.\n",
      "Data with input dtype bool, float64 were all converted to float64 by StandardScaler.\n"
     ]
    },
    {
     "name": "stdout",
     "output_type": "stream",
     "text": [
      "*** Training of model 'GradientBoostingClassifier' started.\n",
      "*** Training of classifier ready. Time elapsed: 357.45ms\n",
      "\n",
      "*** Training of model 'GradientBoostingClassifier' started.\n",
      "*** Training of classifier ready. Time elapsed: 478.208ms\n",
      "\n",
      "*** Training of model 'GradientBoostingClassifier' started.\n",
      "*** Training of classifier ready. Time elapsed: 768.161ms\n",
      "\n",
      "*** Training of model 'GradientBoostingClassifier' started.\n",
      "*** Training of classifier ready. Time elapsed: 768.246ms\n",
      "\n",
      "*** Training of model 'GradientBoostingClassifier' started.\n",
      "*** Training of classifier ready. Time elapsed: 84.619ms\n",
      "\n",
      "*** Training of model 'GradientBoostingClassifier' started.\n",
      "*** Training of classifier ready. Time elapsed: 266.341ms\n",
      "\n",
      "*** Training of model 'GradientBoostingClassifier' started.\n",
      "*** Training of classifier ready. Time elapsed: 850.175ms\n",
      "\n"
     ]
    },
    {
     "name": "stderr",
     "output_type": "stream",
     "text": [
      "Data with input dtype bool, float64 were all converted to float64 by StandardScaler.\n",
      "Data with input dtype bool, float64 were all converted to float64 by StandardScaler.\n",
      "Data with input dtype bool, float64 were all converted to float64 by StandardScaler.\n"
     ]
    },
    {
     "name": "stdout",
     "output_type": "stream",
     "text": [
      "*** Training of model 'GradientBoostingClassifier' started.\n",
      "*** Training of classifier ready. Time elapsed: 373.99ms\n",
      "\n",
      "*** Training of model 'GradientBoostingClassifier' started.\n",
      "*** Training of classifier ready. Time elapsed: 335.921ms\n",
      "\n",
      "*** Training of model 'GradientBoostingClassifier' started.\n",
      "*** Training of classifier ready. Time elapsed: 735.559ms\n",
      "\n",
      "*** Training of model 'GradientBoostingClassifier' started.\n",
      "*** Training of classifier ready. Time elapsed: 498.875ms\n",
      "\n",
      "*** Training of model 'GradientBoostingClassifier' started.\n",
      "*** Training of classifier ready. Time elapsed: 994.13ms\n",
      "\n",
      "*** Training of model 'GradientBoostingClassifier' started.\n",
      "*** Training of classifier ready. Time elapsed: 442.006ms\n",
      "\n",
      "*** Training of model 'GradientBoostingClassifier' started.\n",
      "*** Training of classifier ready. Time elapsed: 947.372ms\n",
      "\n"
     ]
    },
    {
     "name": "stderr",
     "output_type": "stream",
     "text": [
      "Data with input dtype bool, float64 were all converted to float64 by StandardScaler.\n",
      "Data with input dtype bool, float64 were all converted to float64 by StandardScaler.\n",
      "Data with input dtype bool, float64 were all converted to float64 by StandardScaler.\n"
     ]
    },
    {
     "name": "stdout",
     "output_type": "stream",
     "text": [
      "*** Training of model 'RandomForestClassifier' started.\n",
      "*** Training of classifier ready. Time elapsed: 133.152ms\n",
      "\n",
      "*** Training of model 'RandomForestClassifier' started.\n",
      "*** Training of classifier ready. Time elapsed: 7.909ms\n",
      "\n",
      "*** Training of model 'RandomForestClassifier' started.\n",
      "*** Training of classifier ready. Time elapsed: 561.545ms\n",
      "\n",
      "*** Training of model 'RandomForestClassifier' started.\n",
      "*** Training of classifier ready. Time elapsed: 213.741ms\n",
      "\n",
      "*** Training of model 'RandomForestClassifier' started.\n",
      "*** Training of classifier ready. Time elapsed: 390.653ms\n",
      "\n",
      "*** Training of model 'RandomForestClassifier' started.\n",
      "*** Training of classifier ready. Time elapsed: 46.572ms\n",
      "\n",
      "*** Training of model 'RandomForestClassifier' started.\n",
      "*** Training of classifier ready. Time elapsed: 867.233ms\n",
      "\n"
     ]
    },
    {
     "name": "stderr",
     "output_type": "stream",
     "text": [
      "F-score is ill-defined and being set to 0.0 due to no predicted samples.\n",
      "Precision is ill-defined and being set to 0.0 due to no predicted samples.\n",
      "invalid value encountered in long_scalars\n",
      "Data with input dtype bool, float64 were all converted to float64 by StandardScaler.\n",
      "Data with input dtype bool, float64 were all converted to float64 by StandardScaler.\n",
      "Data with input dtype bool, float64 were all converted to float64 by StandardScaler.\n"
     ]
    },
    {
     "name": "stdout",
     "output_type": "stream",
     "text": [
      "*** Training of model 'RandomForestClassifier' started.\n",
      "*** Training of classifier ready. Time elapsed: 727.881ms\n",
      "\n",
      "*** Training of model 'RandomForestClassifier' started.\n",
      "*** Training of classifier ready. Time elapsed: 276.432ms\n",
      "\n",
      "*** Training of model 'RandomForestClassifier' started.\n",
      "*** Training of classifier ready. Time elapsed: 901.181ms\n",
      "\n",
      "*** Training of model 'RandomForestClassifier' started.\n",
      "*** Training of classifier ready. Time elapsed: 95.273ms\n",
      "\n",
      "*** Training of model 'RandomForestClassifier' started.\n",
      "*** Training of classifier ready. Time elapsed: 610.956ms\n",
      "\n",
      "*** Training of model 'RandomForestClassifier' started.\n",
      "*** Training of classifier ready. Time elapsed: 2.763ms\n",
      "\n",
      "*** Training of model 'RandomForestClassifier' started.\n",
      "*** Training of classifier ready. Time elapsed: 133.682ms\n",
      "\n"
     ]
    },
    {
     "name": "stderr",
     "output_type": "stream",
     "text": [
      "F-score is ill-defined and being set to 0.0 due to no predicted samples.\n",
      "Precision is ill-defined and being set to 0.0 due to no predicted samples.\n",
      "invalid value encountered in long_scalars\n",
      "Data with input dtype bool, float64 were all converted to float64 by StandardScaler.\n",
      "Data with input dtype bool, float64 were all converted to float64 by StandardScaler.\n",
      "Data with input dtype bool, float64 were all converted to float64 by StandardScaler.\n"
     ]
    },
    {
     "name": "stdout",
     "output_type": "stream",
     "text": [
      "*** Training of model 'RandomForestClassifier' started.\n",
      "*** Training of classifier ready. Time elapsed: 682.75ms\n",
      "\n",
      "*** Training of model 'RandomForestClassifier' started.\n",
      "*** Training of classifier ready. Time elapsed: 893.48ms\n",
      "\n",
      "*** Training of model 'RandomForestClassifier' started.\n",
      "*** Training of classifier ready. Time elapsed: 653.704ms\n",
      "\n",
      "*** Training of model 'RandomForestClassifier' started.\n",
      "*** Training of classifier ready. Time elapsed: 586.453ms\n",
      "\n",
      "*** Training of model 'RandomForestClassifier' started.\n",
      "*** Training of classifier ready. Time elapsed: 752.754ms\n",
      "\n",
      "*** Training of model 'RandomForestClassifier' started.\n",
      "*** Training of classifier ready. Time elapsed: 16.002ms\n",
      "\n",
      "*** Training of model 'RandomForestClassifier' started.\n",
      "*** Training of classifier ready. Time elapsed: 615.233ms\n",
      "\n"
     ]
    },
    {
     "name": "stderr",
     "output_type": "stream",
     "text": [
      "F-score is ill-defined and being set to 0.0 due to no predicted samples.\n",
      "Precision is ill-defined and being set to 0.0 due to no predicted samples.\n",
      "invalid value encountered in long_scalars\n",
      "Data with input dtype bool, float64 were all converted to float64 by StandardScaler.\n",
      "Data with input dtype bool, float64 were all converted to float64 by StandardScaler.\n",
      "Data with input dtype bool, float64 were all converted to float64 by StandardScaler.\n"
     ]
    },
    {
     "name": "stdout",
     "output_type": "stream",
     "text": [
      "*** Training of model 'RandomForestClassifier' started.\n",
      "*** Training of classifier ready. Time elapsed: 802.071ms\n",
      "\n",
      "*** Training of model 'RandomForestClassifier' started.\n",
      "*** Training of classifier ready. Time elapsed: 246.034ms\n",
      "\n",
      "*** Training of model 'RandomForestClassifier' started.\n",
      "*** Training of classifier ready. Time elapsed: 248.383ms\n",
      "\n",
      "*** Training of model 'RandomForestClassifier' started.\n",
      "*** Training of classifier ready. Time elapsed: 339.575ms\n",
      "\n",
      "*** Training of model 'RandomForestClassifier' started.\n",
      "*** Training of classifier ready. Time elapsed: 849.982ms\n",
      "\n",
      "*** Training of model 'RandomForestClassifier' started.\n",
      "*** Training of classifier ready. Time elapsed: 409.654ms\n",
      "\n",
      "*** Training of model 'RandomForestClassifier' started.\n",
      "*** Training of classifier ready. Time elapsed: 960.651ms\n",
      "\n"
     ]
    },
    {
     "name": "stderr",
     "output_type": "stream",
     "text": [
      "F-score is ill-defined and being set to 0.0 due to no predicted samples.\n",
      "Precision is ill-defined and being set to 0.0 due to no predicted samples.\n",
      "invalid value encountered in long_scalars\n",
      "Data with input dtype bool, float64 were all converted to float64 by StandardScaler.\n",
      "Data with input dtype bool, float64 were all converted to float64 by StandardScaler.\n",
      "Data with input dtype bool, float64 were all converted to float64 by StandardScaler.\n"
     ]
    },
    {
     "name": "stdout",
     "output_type": "stream",
     "text": [
      "*** Training of model 'RandomForestClassifier' started.\n",
      "*** Training of classifier ready. Time elapsed: 504.891ms\n",
      "\n",
      "*** Training of model 'RandomForestClassifier' started.\n",
      "*** Training of classifier ready. Time elapsed: 553.298ms\n",
      "\n",
      "*** Training of model 'RandomForestClassifier' started.\n",
      "*** Training of classifier ready. Time elapsed: 496.782ms\n",
      "\n",
      "*** Training of model 'RandomForestClassifier' started.\n",
      "*** Training of classifier ready. Time elapsed: 474.211ms\n",
      "\n",
      "*** Training of model 'RandomForestClassifier' started.\n",
      "*** Training of classifier ready. Time elapsed: 454.699ms\n",
      "\n",
      "*** Training of model 'RandomForestClassifier' started.\n",
      "*** Training of classifier ready. Time elapsed: 876.614ms\n",
      "\n",
      "*** Training of model 'RandomForestClassifier' started.\n",
      "*** Training of classifier ready. Time elapsed: 153.84ms\n",
      "\n"
     ]
    },
    {
     "name": "stderr",
     "output_type": "stream",
     "text": [
      "F-score is ill-defined and being set to 0.0 due to no predicted samples.\n",
      "Precision is ill-defined and being set to 0.0 due to no predicted samples.\n",
      "invalid value encountered in long_scalars\n",
      "Data with input dtype bool, float64 were all converted to float64 by StandardScaler.\n",
      "Data with input dtype bool, float64 were all converted to float64 by StandardScaler.\n",
      "Data with input dtype bool, float64 were all converted to float64 by StandardScaler.\n"
     ]
    },
    {
     "name": "stdout",
     "output_type": "stream",
     "text": [
      "*** Training of model 'RandomForestClassifier' started.\n",
      "*** Training of classifier ready. Time elapsed: 954.408ms\n",
      "\n",
      "*** Training of model 'RandomForestClassifier' started.\n",
      "*** Training of classifier ready. Time elapsed: 895.618ms\n",
      "\n",
      "*** Training of model 'RandomForestClassifier' started.\n",
      "*** Training of classifier ready. Time elapsed: 932.505ms\n",
      "\n",
      "*** Training of model 'RandomForestClassifier' started.\n",
      "*** Training of classifier ready. Time elapsed: 980.714ms\n",
      "\n",
      "*** Training of model 'RandomForestClassifier' started.\n",
      "*** Training of classifier ready. Time elapsed: 974.833ms\n",
      "\n",
      "*** Training of model 'RandomForestClassifier' started.\n",
      "*** Training of classifier ready. Time elapsed: 875.485ms\n",
      "\n",
      "*** Training of model 'RandomForestClassifier' started.\n",
      "*** Training of classifier ready. Time elapsed: 763.534ms\n",
      "\n"
     ]
    },
    {
     "name": "stderr",
     "output_type": "stream",
     "text": [
      "Data with input dtype bool, float64 were all converted to float64 by StandardScaler.\n",
      "Data with input dtype bool, float64 were all converted to float64 by StandardScaler.\n",
      "Data with input dtype bool, float64 were all converted to float64 by StandardScaler.\n"
     ]
    },
    {
     "name": "stdout",
     "output_type": "stream",
     "text": [
      "*** Training of model 'RandomForestClassifier' started.\n",
      "*** Training of classifier ready. Time elapsed: 928.744ms\n",
      "\n",
      "*** Training of model 'RandomForestClassifier' started.\n",
      "*** Training of classifier ready. Time elapsed: 253.11ms\n",
      "\n",
      "*** Training of model 'RandomForestClassifier' started.\n",
      "*** Training of classifier ready. Time elapsed: 396.52ms\n",
      "\n",
      "*** Training of model 'RandomForestClassifier' started.\n",
      "*** Training of classifier ready. Time elapsed: 470.437ms\n",
      "\n",
      "*** Training of model 'RandomForestClassifier' started.\n",
      "*** Training of classifier ready. Time elapsed: 436.302ms\n",
      "\n",
      "*** Training of model 'RandomForestClassifier' started.\n",
      "*** Training of classifier ready. Time elapsed: 366.139ms\n",
      "\n",
      "*** Training of model 'RandomForestClassifier' started.\n",
      "*** Training of classifier ready. Time elapsed: 356.536ms\n",
      "\n"
     ]
    },
    {
     "name": "stderr",
     "output_type": "stream",
     "text": [
      "Data with input dtype bool, float64 were all converted to float64 by StandardScaler.\n",
      "Data with input dtype bool, float64 were all converted to float64 by StandardScaler.\n",
      "Data with input dtype bool, float64 were all converted to float64 by StandardScaler.\n"
     ]
    },
    {
     "name": "stdout",
     "output_type": "stream",
     "text": [
      "*** Training of model 'RandomForestClassifier' started.\n",
      "*** Training of classifier ready. Time elapsed: 512.933ms\n",
      "\n",
      "*** Training of model 'RandomForestClassifier' started.\n",
      "*** Training of classifier ready. Time elapsed: 609.638ms\n",
      "\n",
      "*** Training of model 'RandomForestClassifier' started.\n",
      "*** Training of classifier ready. Time elapsed: 418.623ms\n",
      "\n",
      "*** Training of model 'RandomForestClassifier' started.\n",
      "*** Training of classifier ready. Time elapsed: 486.032ms\n",
      "\n",
      "*** Training of model 'RandomForestClassifier' started.\n",
      "*** Training of classifier ready. Time elapsed: 676.334ms\n",
      "\n",
      "*** Training of model 'RandomForestClassifier' started.\n",
      "*** Training of classifier ready. Time elapsed: 206.4ms\n",
      "\n",
      "*** Training of model 'RandomForestClassifier' started.\n",
      "*** Training of classifier ready. Time elapsed: 825.121ms\n",
      "\n"
     ]
    },
    {
     "name": "stderr",
     "output_type": "stream",
     "text": [
      "Data with input dtype bool, float64 were all converted to float64 by StandardScaler.\n",
      "Data with input dtype bool, float64 were all converted to float64 by StandardScaler.\n",
      "Data with input dtype bool, float64 were all converted to float64 by StandardScaler.\n"
     ]
    },
    {
     "name": "stdout",
     "output_type": "stream",
     "text": [
      "*** Training of model 'RandomForestClassifier' started.\n",
      "*** Training of classifier ready. Time elapsed: 971.879ms\n",
      "\n",
      "*** Training of model 'RandomForestClassifier' started.\n",
      "*** Training of classifier ready. Time elapsed: 922.055ms\n",
      "\n",
      "*** Training of model 'RandomForestClassifier' started.\n",
      "*** Training of classifier ready. Time elapsed: 747.004ms\n",
      "\n",
      "*** Training of model 'RandomForestClassifier' started.\n",
      "*** Training of classifier ready. Time elapsed: 973.008ms\n",
      "\n",
      "*** Training of model 'RandomForestClassifier' started.\n",
      "*** Training of classifier ready. Time elapsed: 948.168ms\n",
      "\n",
      "*** Training of model 'RandomForestClassifier' started.\n",
      "*** Training of classifier ready. Time elapsed: 958.972ms\n",
      "\n",
      "*** Training of model 'RandomForestClassifier' started.\n",
      "*** Training of classifier ready. Time elapsed: 753.349ms\n",
      "\n"
     ]
    },
    {
     "name": "stderr",
     "output_type": "stream",
     "text": [
      "Data with input dtype bool, float64 were all converted to float64 by StandardScaler.\n",
      "Data with input dtype bool, float64 were all converted to float64 by StandardScaler.\n",
      "Data with input dtype bool, float64 were all converted to float64 by StandardScaler.\n"
     ]
    },
    {
     "name": "stdout",
     "output_type": "stream",
     "text": [
      "*** Training of model 'RandomForestClassifier' started.\n",
      "*** Training of classifier ready. Time elapsed: 330.153ms\n",
      "\n",
      "*** Training of model 'RandomForestClassifier' started.\n",
      "*** Training of classifier ready. Time elapsed: 6.068ms\n",
      "\n",
      "*** Training of model 'RandomForestClassifier' started.\n",
      "*** Training of classifier ready. Time elapsed: 234.705ms\n",
      "\n",
      "*** Training of model 'RandomForestClassifier' started.\n",
      "*** Training of classifier ready. Time elapsed: 698.088ms\n",
      "\n",
      "*** Training of model 'RandomForestClassifier' started.\n",
      "*** Training of classifier ready. Time elapsed: 665.285ms\n",
      "\n",
      "*** Training of model 'RandomForestClassifier' started.\n",
      "*** Training of classifier ready. Time elapsed: 602.861ms\n",
      "\n",
      "*** Training of model 'RandomForestClassifier' started.\n",
      "*** Training of classifier ready. Time elapsed: 888.992ms\n",
      "\n"
     ]
    },
    {
     "name": "stderr",
     "output_type": "stream",
     "text": [
      "Data with input dtype bool, float64 were all converted to float64 by StandardScaler.\n",
      "Data with input dtype bool, float64 were all converted to float64 by StandardScaler.\n",
      "Data with input dtype bool, float64 were all converted to float64 by StandardScaler.\n"
     ]
    },
    {
     "name": "stdout",
     "output_type": "stream",
     "text": [
      "*** Training of model 'RandomForestClassifier' started.\n",
      "*** Training of classifier ready. Time elapsed: 141.447ms\n",
      "\n",
      "*** Training of model 'RandomForestClassifier' started.\n",
      "*** Training of classifier ready. Time elapsed: 991.003ms\n",
      "\n",
      "*** Training of model 'RandomForestClassifier' started.\n",
      "*** Training of classifier ready. Time elapsed: 979.749ms\n",
      "\n",
      "*** Training of model 'RandomForestClassifier' started.\n",
      "*** Training of classifier ready. Time elapsed: 826.494ms\n",
      "\n",
      "*** Training of model 'RandomForestClassifier' started.\n",
      "*** Training of classifier ready. Time elapsed: 454.048ms\n",
      "\n",
      "*** Training of model 'RandomForestClassifier' started.\n",
      "*** Training of classifier ready. Time elapsed: 675.063ms\n",
      "\n",
      "*** Training of model 'RandomForestClassifier' started.\n",
      "*** Training of classifier ready. Time elapsed: 218.419ms\n",
      "\n"
     ]
    },
    {
     "name": "stderr",
     "output_type": "stream",
     "text": [
      "Data with input dtype bool, float64 were all converted to float64 by StandardScaler.\n",
      "Data with input dtype bool, float64 were all converted to float64 by StandardScaler.\n",
      "Data with input dtype bool, float64 were all converted to float64 by StandardScaler.\n"
     ]
    },
    {
     "name": "stdout",
     "output_type": "stream",
     "text": [
      "*** Training of model 'RandomForestClassifier' started.\n",
      "*** Training of classifier ready. Time elapsed: 314.966ms\n",
      "\n",
      "*** Training of model 'RandomForestClassifier' started.\n",
      "*** Training of classifier ready. Time elapsed: 586.613ms\n",
      "\n",
      "*** Training of model 'RandomForestClassifier' started.\n",
      "*** Training of classifier ready. Time elapsed: 74.099ms\n",
      "\n",
      "*** Training of model 'RandomForestClassifier' started.\n",
      "*** Training of classifier ready. Time elapsed: 946.385ms\n",
      "\n",
      "*** Training of model 'RandomForestClassifier' started.\n",
      "*** Training of classifier ready. Time elapsed: 822.814ms\n",
      "\n",
      "*** Training of model 'RandomForestClassifier' started.\n",
      "*** Training of classifier ready. Time elapsed: 206.033ms\n",
      "\n",
      "*** Training of model 'RandomForestClassifier' started.\n",
      "*** Training of classifier ready. Time elapsed: 549.026ms\n",
      "\n"
     ]
    },
    {
     "name": "stderr",
     "output_type": "stream",
     "text": [
      "Data with input dtype bool, float64 were all converted to float64 by StandardScaler.\n",
      "Data with input dtype bool, float64 were all converted to float64 by StandardScaler.\n",
      "Data with input dtype bool, float64 were all converted to float64 by StandardScaler.\n"
     ]
    },
    {
     "name": "stdout",
     "output_type": "stream",
     "text": [
      "*** Training of model 'RandomForestClassifier' started.\n",
      "*** Training of classifier ready. Time elapsed: 38.09ms\n",
      "\n",
      "*** Training of model 'RandomForestClassifier' started.\n",
      "*** Training of classifier ready. Time elapsed: 877.759ms\n",
      "\n",
      "*** Training of model 'RandomForestClassifier' started.\n",
      "*** Training of classifier ready. Time elapsed: 454.077ms\n",
      "\n",
      "*** Training of model 'RandomForestClassifier' started.\n",
      "*** Training of classifier ready. Time elapsed: 470.572ms\n",
      "\n",
      "*** Training of model 'RandomForestClassifier' started.\n",
      "*** Training of classifier ready. Time elapsed: 529.906ms\n",
      "\n",
      "*** Training of model 'RandomForestClassifier' started.\n",
      "*** Training of classifier ready. Time elapsed: 435.781ms\n",
      "\n",
      "*** Training of model 'RandomForestClassifier' started.\n",
      "*** Training of classifier ready. Time elapsed: 947.291ms\n",
      "\n"
     ]
    },
    {
     "name": "stderr",
     "output_type": "stream",
     "text": [
      "Data with input dtype bool, float64 were all converted to float64 by StandardScaler.\n",
      "Data with input dtype bool, float64 were all converted to float64 by StandardScaler.\n",
      "Data with input dtype bool, float64 were all converted to float64 by StandardScaler.\n"
     ]
    },
    {
     "name": "stdout",
     "output_type": "stream",
     "text": [
      "*** Training of model 'RandomForestClassifier' started.\n",
      "*** Training of classifier ready. Time elapsed: 500.852ms\n",
      "\n",
      "*** Training of model 'RandomForestClassifier' started.\n",
      "*** Training of classifier ready. Time elapsed: 464.089ms\n",
      "\n",
      "*** Training of model 'RandomForestClassifier' started.\n",
      "*** Training of classifier ready. Time elapsed: 468.273ms\n",
      "\n",
      "*** Training of model 'RandomForestClassifier' started.\n",
      "*** Training of classifier ready. Time elapsed: 446.819ms\n",
      "\n",
      "*** Training of model 'RandomForestClassifier' started.\n",
      "*** Training of classifier ready. Time elapsed: 505.34ms\n",
      "\n",
      "*** Training of model 'RandomForestClassifier' started.\n",
      "*** Training of classifier ready. Time elapsed: 415.047ms\n",
      "\n",
      "*** Training of model 'RandomForestClassifier' started.\n",
      "*** Training of classifier ready. Time elapsed: 682.824ms\n",
      "\n"
     ]
    },
    {
     "name": "stderr",
     "output_type": "stream",
     "text": [
      "Data with input dtype bool, float64 were all converted to float64 by StandardScaler.\n",
      "Data with input dtype bool, float64 were all converted to float64 by StandardScaler.\n",
      "Data with input dtype bool, float64 were all converted to float64 by StandardScaler.\n"
     ]
    },
    {
     "name": "stdout",
     "output_type": "stream",
     "text": [
      "*** Training of model 'RandomForestClassifier' started.\n",
      "*** Training of classifier ready. Time elapsed: 483.767ms\n",
      "\n",
      "*** Training of model 'RandomForestClassifier' started.\n",
      "*** Training of classifier ready. Time elapsed: 485.773ms\n",
      "\n",
      "*** Training of model 'RandomForestClassifier' started.\n",
      "*** Training of classifier ready. Time elapsed: 434.217ms\n",
      "\n",
      "*** Training of model 'RandomForestClassifier' started.\n",
      "*** Training of classifier ready. Time elapsed: 457.858ms\n",
      "\n",
      "*** Training of model 'RandomForestClassifier' started.\n",
      "*** Training of classifier ready. Time elapsed: 458.046ms\n",
      "\n",
      "*** Training of model 'RandomForestClassifier' started.\n",
      "*** Training of classifier ready. Time elapsed: 443.028ms\n",
      "\n",
      "*** Training of model 'RandomForestClassifier' started.\n",
      "*** Training of classifier ready. Time elapsed: 884.458ms\n",
      "\n"
     ]
    },
    {
     "name": "stderr",
     "output_type": "stream",
     "text": [
      "Data with input dtype bool, float64 were all converted to float64 by StandardScaler.\n",
      "Data with input dtype bool, float64 were all converted to float64 by StandardScaler.\n",
      "Data with input dtype bool, float64 were all converted to float64 by StandardScaler.\n"
     ]
    },
    {
     "name": "stdout",
     "output_type": "stream",
     "text": [
      "*** Training of model 'RandomForestClassifier' started.\n",
      "*** Training of classifier ready. Time elapsed: 570.121ms\n",
      "\n",
      "*** Training of model 'RandomForestClassifier' started.\n",
      "*** Training of classifier ready. Time elapsed: 446.944ms\n",
      "\n",
      "*** Training of model 'RandomForestClassifier' started.\n",
      "*** Training of classifier ready. Time elapsed: 466.299ms\n",
      "\n",
      "*** Training of model 'RandomForestClassifier' started.\n",
      "*** Training of classifier ready. Time elapsed: 457.442ms\n",
      "\n",
      "*** Training of model 'RandomForestClassifier' started.\n",
      "*** Training of classifier ready. Time elapsed: 461.189ms\n",
      "\n",
      "*** Training of model 'RandomForestClassifier' started.\n",
      "*** Training of classifier ready. Time elapsed: 430.96ms\n",
      "\n",
      "*** Training of model 'RandomForestClassifier' started.\n",
      "*** Training of classifier ready. Time elapsed: 439.655ms\n",
      "\n"
     ]
    },
    {
     "name": "stderr",
     "output_type": "stream",
     "text": [
      "F-score is ill-defined and being set to 0.0 due to no predicted samples.\n",
      "Precision is ill-defined and being set to 0.0 due to no predicted samples.\n",
      "invalid value encountered in long_scalars\n",
      "Data with input dtype bool, float64 were all converted to float64 by StandardScaler.\n",
      "Data with input dtype bool, float64 were all converted to float64 by StandardScaler.\n",
      "Data with input dtype bool, float64 were all converted to float64 by StandardScaler.\n"
     ]
    },
    {
     "name": "stdout",
     "output_type": "stream",
     "text": [
      "*** Training of model 'RandomForestClassifier' started.\n",
      "*** Training of classifier ready. Time elapsed: 452.155ms\n",
      "\n",
      "*** Training of model 'RandomForestClassifier' started.\n",
      "*** Training of classifier ready. Time elapsed: 390.382ms\n",
      "\n",
      "*** Training of model 'RandomForestClassifier' started.\n",
      "*** Training of classifier ready. Time elapsed: 389.337ms\n",
      "\n",
      "*** Training of model 'RandomForestClassifier' started.\n",
      "*** Training of classifier ready. Time elapsed: 380.778ms\n",
      "\n",
      "*** Training of model 'RandomForestClassifier' started.\n",
      "*** Training of classifier ready. Time elapsed: 413.395ms\n",
      "\n",
      "*** Training of model 'RandomForestClassifier' started.\n",
      "*** Training of classifier ready. Time elapsed: 381.613ms\n",
      "\n",
      "*** Training of model 'RandomForestClassifier' started.\n",
      "*** Training of classifier ready. Time elapsed: 407.837ms\n",
      "\n"
     ]
    },
    {
     "name": "stderr",
     "output_type": "stream",
     "text": [
      "F-score is ill-defined and being set to 0.0 due to no predicted samples.\n",
      "Precision is ill-defined and being set to 0.0 due to no predicted samples.\n",
      "invalid value encountered in long_scalars\n",
      "Data with input dtype bool, float64 were all converted to float64 by StandardScaler.\n",
      "Data with input dtype bool, float64 were all converted to float64 by StandardScaler.\n",
      "Data with input dtype bool, float64 were all converted to float64 by StandardScaler.\n"
     ]
    },
    {
     "name": "stdout",
     "output_type": "stream",
     "text": [
      "*** Training of model 'RandomForestClassifier' started.\n",
      "*** Training of classifier ready. Time elapsed: 483.434ms\n",
      "\n",
      "*** Training of model 'RandomForestClassifier' started.\n",
      "*** Training of classifier ready. Time elapsed: 459.126ms\n",
      "\n",
      "*** Training of model 'RandomForestClassifier' started.\n",
      "*** Training of classifier ready. Time elapsed: 429.627ms\n",
      "\n",
      "*** Training of model 'RandomForestClassifier' started.\n",
      "*** Training of classifier ready. Time elapsed: 457.262ms\n",
      "\n",
      "*** Training of model 'RandomForestClassifier' started.\n",
      "*** Training of classifier ready. Time elapsed: 468.802ms\n",
      "\n",
      "*** Training of model 'RandomForestClassifier' started.\n",
      "*** Training of classifier ready. Time elapsed: 405.326ms\n",
      "\n",
      "*** Training of model 'RandomForestClassifier' started.\n",
      "*** Training of classifier ready. Time elapsed: 427.922ms\n",
      "\n"
     ]
    },
    {
     "name": "stderr",
     "output_type": "stream",
     "text": [
      "F-score is ill-defined and being set to 0.0 due to no predicted samples.\n",
      "Precision is ill-defined and being set to 0.0 due to no predicted samples.\n",
      "invalid value encountered in long_scalars\n",
      "Data with input dtype bool, float64 were all converted to float64 by StandardScaler.\n",
      "Data with input dtype bool, float64 were all converted to float64 by StandardScaler.\n",
      "Data with input dtype bool, float64 were all converted to float64 by StandardScaler.\n"
     ]
    },
    {
     "name": "stdout",
     "output_type": "stream",
     "text": [
      "*** Training of model 'RandomForestClassifier' started.\n",
      "*** Training of classifier ready. Time elapsed: 471.006ms\n",
      "\n",
      "*** Training of model 'RandomForestClassifier' started.\n",
      "*** Training of classifier ready. Time elapsed: 414.796ms\n",
      "\n",
      "*** Training of model 'RandomForestClassifier' started.\n",
      "*** Training of classifier ready. Time elapsed: 414.998ms\n",
      "\n",
      "*** Training of model 'RandomForestClassifier' started.\n",
      "*** Training of classifier ready. Time elapsed: 458.858ms\n",
      "\n",
      "*** Training of model 'RandomForestClassifier' started.\n",
      "*** Training of classifier ready. Time elapsed: 12.137ms\n",
      "\n",
      "*** Training of model 'RandomForestClassifier' started.\n",
      "*** Training of classifier ready. Time elapsed: 820.977ms\n",
      "\n",
      "*** Training of model 'RandomForestClassifier' started.\n",
      "*** Training of classifier ready. Time elapsed: 829.475ms\n",
      "\n"
     ]
    },
    {
     "name": "stderr",
     "output_type": "stream",
     "text": [
      "F-score is ill-defined and being set to 0.0 due to no predicted samples.\n",
      "Precision is ill-defined and being set to 0.0 due to no predicted samples.\n",
      "invalid value encountered in long_scalars\n",
      "Data with input dtype bool, float64 were all converted to float64 by StandardScaler.\n",
      "Data with input dtype bool, float64 were all converted to float64 by StandardScaler.\n",
      "Data with input dtype bool, float64 were all converted to float64 by StandardScaler.\n"
     ]
    },
    {
     "name": "stdout",
     "output_type": "stream",
     "text": [
      "*** Training of model 'RandomForestClassifier' started.\n",
      "*** Training of classifier ready. Time elapsed: 992.243ms\n",
      "\n",
      "*** Training of model 'RandomForestClassifier' started.\n",
      "*** Training of classifier ready. Time elapsed: 460.4ms\n",
      "\n",
      "*** Training of model 'RandomForestClassifier' started.\n",
      "*** Training of classifier ready. Time elapsed: 644.373ms\n",
      "\n",
      "*** Training of model 'RandomForestClassifier' started.\n",
      "*** Training of classifier ready. Time elapsed: 414.502ms\n",
      "\n",
      "*** Training of model 'RandomForestClassifier' started.\n",
      "*** Training of classifier ready. Time elapsed: 452.483ms\n",
      "\n",
      "*** Training of model 'RandomForestClassifier' started.\n",
      "*** Training of classifier ready. Time elapsed: 842.609ms\n",
      "\n",
      "*** Training of model 'RandomForestClassifier' started.\n",
      "*** Training of classifier ready. Time elapsed: 669.256ms\n",
      "\n"
     ]
    },
    {
     "name": "stderr",
     "output_type": "stream",
     "text": [
      "F-score is ill-defined and being set to 0.0 due to no predicted samples.\n",
      "Precision is ill-defined and being set to 0.0 due to no predicted samples.\n",
      "invalid value encountered in long_scalars\n",
      "Data with input dtype bool, float64 were all converted to float64 by StandardScaler.\n",
      "Data with input dtype bool, float64 were all converted to float64 by StandardScaler.\n",
      "Data with input dtype bool, float64 were all converted to float64 by StandardScaler.\n"
     ]
    },
    {
     "name": "stdout",
     "output_type": "stream",
     "text": [
      "*** Training of model 'DecisionTreeClassifier' started.\n",
      "*** Training of classifier ready. Time elapsed: 67.118ms\n",
      "\n",
      "*** Training of model 'DecisionTreeClassifier' started.\n",
      "*** Training of classifier ready. Time elapsed: 58.981ms\n",
      "\n",
      "*** Training of model 'DecisionTreeClassifier' started.\n",
      "*** Training of classifier ready. Time elapsed: 53.772ms\n",
      "\n",
      "*** Training of model 'DecisionTreeClassifier' started.\n",
      "*** Training of classifier ready. Time elapsed: 46.979ms\n",
      "\n",
      "*** Training of model 'DecisionTreeClassifier' started.\n",
      "*** Training of classifier ready. Time elapsed: 40.233ms\n",
      "\n",
      "*** Training of model 'DecisionTreeClassifier' started.\n",
      "*** Training of classifier ready. Time elapsed: 35.298ms\n",
      "\n",
      "*** Training of model 'DecisionTreeClassifier' started.\n",
      "*** Training of classifier ready. Time elapsed: 62.141ms\n",
      "\n"
     ]
    },
    {
     "name": "stderr",
     "output_type": "stream",
     "text": [
      "Data with input dtype bool, float64 were all converted to float64 by StandardScaler.\n",
      "Data with input dtype bool, float64 were all converted to float64 by StandardScaler.\n",
      "Data with input dtype bool, float64 were all converted to float64 by StandardScaler.\n"
     ]
    },
    {
     "name": "stdout",
     "output_type": "stream",
     "text": [
      "*** Training of model 'DecisionTreeClassifier' started.\n",
      "*** Training of classifier ready. Time elapsed: 76.037ms\n",
      "\n",
      "*** Training of model 'DecisionTreeClassifier' started.\n",
      "*** Training of classifier ready. Time elapsed: 61.1ms\n",
      "\n",
      "*** Training of model 'DecisionTreeClassifier' started.\n",
      "*** Training of classifier ready. Time elapsed: 54.853ms\n",
      "\n",
      "*** Training of model 'DecisionTreeClassifier' started.\n",
      "*** Training of classifier ready. Time elapsed: 52.67ms\n",
      "\n",
      "*** Training of model 'DecisionTreeClassifier' started.\n",
      "*** Training of classifier ready. Time elapsed: 41.307ms\n",
      "\n",
      "*** Training of model 'DecisionTreeClassifier' started.\n",
      "*** Training of classifier ready. Time elapsed: 35.962ms\n",
      "\n",
      "*** Training of model 'DecisionTreeClassifier' started.\n",
      "*** Training of classifier ready. Time elapsed: 60.9ms\n",
      "\n"
     ]
    },
    {
     "name": "stderr",
     "output_type": "stream",
     "text": [
      "Data with input dtype bool, float64 were all converted to float64 by StandardScaler.\n",
      "Data with input dtype bool, float64 were all converted to float64 by StandardScaler.\n",
      "Data with input dtype bool, float64 were all converted to float64 by StandardScaler.\n"
     ]
    },
    {
     "name": "stdout",
     "output_type": "stream",
     "text": [
      "*** Training of model 'DecisionTreeClassifier' started.\n",
      "*** Training of classifier ready. Time elapsed: 71.996ms\n",
      "\n",
      "*** Training of model 'DecisionTreeClassifier' started.\n",
      "*** Training of classifier ready. Time elapsed: 59.003ms\n",
      "\n",
      "*** Training of model 'DecisionTreeClassifier' started.\n",
      "*** Training of classifier ready. Time elapsed: 52.589ms\n",
      "\n",
      "*** Training of model 'DecisionTreeClassifier' started.\n",
      "*** Training of classifier ready. Time elapsed: 48.856ms\n",
      "\n",
      "*** Training of model 'DecisionTreeClassifier' started.\n",
      "*** Training of classifier ready. Time elapsed: 38.886ms\n",
      "\n",
      "*** Training of model 'DecisionTreeClassifier' started.\n",
      "*** Training of classifier ready. Time elapsed: 34.282ms\n",
      "\n",
      "*** Training of model 'DecisionTreeClassifier' started.\n",
      "*** Training of classifier ready. Time elapsed: 65.265ms\n",
      "\n"
     ]
    },
    {
     "name": "stderr",
     "output_type": "stream",
     "text": [
      "Data with input dtype bool, float64 were all converted to float64 by StandardScaler.\n",
      "Data with input dtype bool, float64 were all converted to float64 by StandardScaler.\n",
      "Data with input dtype bool, float64 were all converted to float64 by StandardScaler.\n"
     ]
    },
    {
     "name": "stdout",
     "output_type": "stream",
     "text": [
      "*** Training of model 'DecisionTreeClassifier' started.\n",
      "*** Training of classifier ready. Time elapsed: 67.375ms\n",
      "\n",
      "*** Training of model 'DecisionTreeClassifier' started.\n",
      "*** Training of classifier ready. Time elapsed: 57.014ms\n",
      "\n",
      "*** Training of model 'DecisionTreeClassifier' started.\n",
      "*** Training of classifier ready. Time elapsed: 50.85ms\n",
      "\n",
      "*** Training of model 'DecisionTreeClassifier' started.\n",
      "*** Training of classifier ready. Time elapsed: 50.092ms\n",
      "\n",
      "*** Training of model 'DecisionTreeClassifier' started.\n",
      "*** Training of classifier ready. Time elapsed: 40.35ms\n",
      "\n",
      "*** Training of model 'DecisionTreeClassifier' started.\n",
      "*** Training of classifier ready. Time elapsed: 41.588ms\n",
      "\n",
      "*** Training of model 'DecisionTreeClassifier' started.\n",
      "*** Training of classifier ready. Time elapsed: 75.712ms\n",
      "\n"
     ]
    },
    {
     "name": "stderr",
     "output_type": "stream",
     "text": [
      "Data with input dtype bool, float64 were all converted to float64 by StandardScaler.\n",
      "Data with input dtype bool, float64 were all converted to float64 by StandardScaler.\n",
      "Data with input dtype bool, float64 were all converted to float64 by StandardScaler.\n"
     ]
    },
    {
     "name": "stdout",
     "output_type": "stream",
     "text": [
      "*** Training of model 'DecisionTreeClassifier' started.\n",
      "*** Training of classifier ready. Time elapsed: 63.765ms\n",
      "\n",
      "*** Training of model 'DecisionTreeClassifier' started.\n",
      "*** Training of classifier ready. Time elapsed: 55.228ms\n",
      "\n",
      "*** Training of model 'DecisionTreeClassifier' started.\n",
      "*** Training of classifier ready. Time elapsed: 48.861ms\n",
      "\n",
      "*** Training of model 'DecisionTreeClassifier' started.\n",
      "*** Training of classifier ready. Time elapsed: 44.224ms\n",
      "\n",
      "*** Training of model 'DecisionTreeClassifier' started.\n",
      "*** Training of classifier ready. Time elapsed: 36.806ms\n",
      "\n",
      "*** Training of model 'DecisionTreeClassifier' started.\n",
      "*** Training of classifier ready. Time elapsed: 34.091ms\n",
      "\n",
      "*** Training of model 'DecisionTreeClassifier' started.\n",
      "*** Training of classifier ready. Time elapsed: 59.318ms\n",
      "\n"
     ]
    },
    {
     "name": "stderr",
     "output_type": "stream",
     "text": [
      "Data with input dtype bool, float64 were all converted to float64 by StandardScaler.\n",
      "Data with input dtype bool, float64 were all converted to float64 by StandardScaler.\n",
      "Data with input dtype bool, float64 were all converted to float64 by StandardScaler.\n"
     ]
    },
    {
     "name": "stdout",
     "output_type": "stream",
     "text": [
      "*** Training of model 'DecisionTreeClassifier' started.\n",
      "*** Training of classifier ready. Time elapsed: 131.346ms\n",
      "\n",
      "*** Training of model 'DecisionTreeClassifier' started.\n",
      "*** Training of classifier ready. Time elapsed: 120.153ms\n",
      "\n",
      "*** Training of model 'DecisionTreeClassifier' started.\n",
      "*** Training of classifier ready. Time elapsed: 104.872ms\n",
      "\n",
      "*** Training of model 'DecisionTreeClassifier' started.\n",
      "*** Training of classifier ready. Time elapsed: 87.14ms\n",
      "\n",
      "*** Training of model 'DecisionTreeClassifier' started.\n",
      "*** Training of classifier ready. Time elapsed: 75.256ms\n",
      "\n",
      "*** Training of model 'DecisionTreeClassifier' started.\n",
      "*** Training of classifier ready. Time elapsed: 66.222ms\n",
      "\n",
      "*** Training of model 'DecisionTreeClassifier' started.\n",
      "*** Training of classifier ready. Time elapsed: 9.501ms\n",
      "\n"
     ]
    },
    {
     "name": "stderr",
     "output_type": "stream",
     "text": [
      "Data with input dtype bool, float64 were all converted to float64 by StandardScaler.\n",
      "Data with input dtype bool, float64 were all converted to float64 by StandardScaler.\n",
      "Data with input dtype bool, float64 were all converted to float64 by StandardScaler.\n"
     ]
    },
    {
     "name": "stdout",
     "output_type": "stream",
     "text": [
      "*** Training of model 'DecisionTreeClassifier' started.\n",
      "*** Training of classifier ready. Time elapsed: 137.9ms\n",
      "\n",
      "*** Training of model 'DecisionTreeClassifier' started.\n",
      "*** Training of classifier ready. Time elapsed: 122.951ms\n",
      "\n",
      "*** Training of model 'DecisionTreeClassifier' started.\n",
      "*** Training of classifier ready. Time elapsed: 108.784ms\n",
      "\n",
      "*** Training of model 'DecisionTreeClassifier' started.\n",
      "*** Training of classifier ready. Time elapsed: 101.743ms\n",
      "\n",
      "*** Training of model 'DecisionTreeClassifier' started.\n",
      "*** Training of classifier ready. Time elapsed: 81.649ms\n",
      "\n",
      "*** Training of model 'DecisionTreeClassifier' started.\n",
      "*** Training of classifier ready. Time elapsed: 64.22ms\n",
      "\n",
      "*** Training of model 'DecisionTreeClassifier' started.\n",
      "*** Training of classifier ready. Time elapsed: 31.863ms\n",
      "\n"
     ]
    },
    {
     "name": "stderr",
     "output_type": "stream",
     "text": [
      "Data with input dtype bool, float64 were all converted to float64 by StandardScaler.\n",
      "Data with input dtype bool, float64 were all converted to float64 by StandardScaler.\n",
      "Data with input dtype bool, float64 were all converted to float64 by StandardScaler.\n"
     ]
    },
    {
     "name": "stdout",
     "output_type": "stream",
     "text": [
      "*** Training of model 'DecisionTreeClassifier' started.\n",
      "*** Training of classifier ready. Time elapsed: 137.56ms\n",
      "\n",
      "*** Training of model 'DecisionTreeClassifier' started.\n",
      "*** Training of classifier ready. Time elapsed: 122.162ms\n",
      "\n",
      "*** Training of model 'DecisionTreeClassifier' started.\n",
      "*** Training of classifier ready. Time elapsed: 107.142ms\n",
      "\n",
      "*** Training of model 'DecisionTreeClassifier' started.\n",
      "*** Training of classifier ready. Time elapsed: 94.543ms\n",
      "\n",
      "*** Training of model 'DecisionTreeClassifier' started.\n",
      "*** Training of classifier ready. Time elapsed: 79.732ms\n",
      "\n",
      "*** Training of model 'DecisionTreeClassifier' started.\n",
      "*** Training of classifier ready. Time elapsed: 68.071ms\n",
      "\n",
      "*** Training of model 'DecisionTreeClassifier' started.\n",
      "*** Training of classifier ready. Time elapsed: 12.272ms\n",
      "\n"
     ]
    },
    {
     "name": "stderr",
     "output_type": "stream",
     "text": [
      "Data with input dtype bool, float64 were all converted to float64 by StandardScaler.\n",
      "Data with input dtype bool, float64 were all converted to float64 by StandardScaler.\n",
      "Data with input dtype bool, float64 were all converted to float64 by StandardScaler.\n"
     ]
    },
    {
     "name": "stdout",
     "output_type": "stream",
     "text": [
      "*** Training of model 'DecisionTreeClassifier' started.\n",
      "*** Training of classifier ready. Time elapsed: 65.864ms\n",
      "\n",
      "*** Training of model 'DecisionTreeClassifier' started.\n",
      "*** Training of classifier ready. Time elapsed: 58.926ms\n",
      "\n",
      "*** Training of model 'DecisionTreeClassifier' started.\n",
      "*** Training of classifier ready. Time elapsed: 51.043ms\n",
      "\n",
      "*** Training of model 'DecisionTreeClassifier' started.\n",
      "*** Training of classifier ready. Time elapsed: 49.97ms\n",
      "\n",
      "*** Training of model 'DecisionTreeClassifier' started.\n",
      "*** Training of classifier ready. Time elapsed: 39.764ms\n",
      "\n",
      "*** Training of model 'DecisionTreeClassifier' started.\n",
      "*** Training of classifier ready. Time elapsed: 35.45ms\n",
      "\n",
      "*** Training of model 'DecisionTreeClassifier' started.\n",
      "*** Training of classifier ready. Time elapsed: 6.673ms\n",
      "\n"
     ]
    },
    {
     "name": "stderr",
     "output_type": "stream",
     "text": [
      "Data with input dtype bool, float64 were all converted to float64 by StandardScaler.\n",
      "Data with input dtype bool, float64 were all converted to float64 by StandardScaler.\n",
      "Data with input dtype bool, float64 were all converted to float64 by StandardScaler.\n"
     ]
    },
    {
     "name": "stdout",
     "output_type": "stream",
     "text": [
      "*** Training of model 'DecisionTreeClassifier' started.\n",
      "*** Training of classifier ready. Time elapsed: 66.703ms\n",
      "\n",
      "*** Training of model 'DecisionTreeClassifier' started.\n",
      "*** Training of classifier ready. Time elapsed: 56.47ms\n",
      "\n",
      "*** Training of model 'DecisionTreeClassifier' started.\n",
      "*** Training of classifier ready. Time elapsed: 53.006ms\n",
      "\n",
      "*** Training of model 'DecisionTreeClassifier' started.\n",
      "*** Training of classifier ready. Time elapsed: 51.186ms\n",
      "\n",
      "*** Training of model 'DecisionTreeClassifier' started.\n",
      "*** Training of classifier ready. Time elapsed: 37.878ms\n",
      "\n",
      "*** Training of model 'DecisionTreeClassifier' started.\n",
      "*** Training of classifier ready. Time elapsed: 32.643ms\n",
      "\n",
      "*** Training of model 'DecisionTreeClassifier' started.\n",
      "*** Training of classifier ready. Time elapsed: 6.053ms\n",
      "\n"
     ]
    },
    {
     "name": "stderr",
     "output_type": "stream",
     "text": [
      "Data with input dtype bool, float64 were all converted to float64 by StandardScaler.\n",
      "Data with input dtype bool, float64 were all converted to float64 by StandardScaler.\n",
      "Data with input dtype bool, float64 were all converted to float64 by StandardScaler.\n"
     ]
    },
    {
     "name": "stdout",
     "output_type": "stream",
     "text": [
      "*** Training of model 'DecisionTreeClassifier' started.\n",
      "*** Training of classifier ready. Time elapsed: 73.237ms\n",
      "\n",
      "*** Training of model 'DecisionTreeClassifier' started.\n",
      "*** Training of classifier ready. Time elapsed: 60.58ms\n",
      "\n",
      "*** Training of model 'DecisionTreeClassifier' started.\n",
      "*** Training of classifier ready. Time elapsed: 54.591ms\n",
      "\n",
      "*** Training of model 'DecisionTreeClassifier' started.\n",
      "*** Training of classifier ready. Time elapsed: 47.86ms\n",
      "\n",
      "*** Training of model 'DecisionTreeClassifier' started.\n",
      "*** Training of classifier ready. Time elapsed: 39.976ms\n",
      "\n",
      "*** Training of model 'DecisionTreeClassifier' started.\n",
      "*** Training of classifier ready. Time elapsed: 34.194ms\n",
      "\n",
      "*** Training of model 'DecisionTreeClassifier' started.\n",
      "*** Training of classifier ready. Time elapsed: 115.092ms\n",
      "\n"
     ]
    },
    {
     "name": "stderr",
     "output_type": "stream",
     "text": [
      "Data with input dtype bool, float64 were all converted to float64 by StandardScaler.\n",
      "Data with input dtype bool, float64 were all converted to float64 by StandardScaler.\n",
      "Data with input dtype bool, float64 were all converted to float64 by StandardScaler.\n"
     ]
    },
    {
     "name": "stdout",
     "output_type": "stream",
     "text": [
      "*** Training of model 'DecisionTreeClassifier' started.\n",
      "*** Training of classifier ready. Time elapsed: 72.788ms\n",
      "\n",
      "*** Training of model 'DecisionTreeClassifier' started.\n",
      "*** Training of classifier ready. Time elapsed: 93.354ms\n",
      "\n",
      "*** Training of model 'DecisionTreeClassifier' started.\n",
      "*** Training of classifier ready. Time elapsed: 57.362ms\n",
      "\n",
      "*** Training of model 'DecisionTreeClassifier' started.\n",
      "*** Training of classifier ready. Time elapsed: 51.045ms\n",
      "\n",
      "*** Training of model 'DecisionTreeClassifier' started.\n",
      "*** Training of classifier ready. Time elapsed: 40.645ms\n",
      "\n",
      "*** Training of model 'DecisionTreeClassifier' started.\n",
      "*** Training of classifier ready. Time elapsed: 54.089ms\n",
      "\n",
      "*** Training of model 'DecisionTreeClassifier' started.\n",
      "*** Training of classifier ready. Time elapsed: 98.846ms\n",
      "\n"
     ]
    },
    {
     "name": "stderr",
     "output_type": "stream",
     "text": [
      "Data with input dtype bool, float64 were all converted to float64 by StandardScaler.\n",
      "Data with input dtype bool, float64 were all converted to float64 by StandardScaler.\n",
      "Data with input dtype bool, float64 were all converted to float64 by StandardScaler.\n"
     ]
    },
    {
     "name": "stdout",
     "output_type": "stream",
     "text": [
      "*** Training of model 'DecisionTreeClassifier' started.\n",
      "*** Training of classifier ready. Time elapsed: 70.613ms\n",
      "\n",
      "*** Training of model 'DecisionTreeClassifier' started.\n",
      "*** Training of classifier ready. Time elapsed: 59.163ms\n",
      "\n",
      "*** Training of model 'DecisionTreeClassifier' started.\n",
      "*** Training of classifier ready. Time elapsed: 52.766ms\n",
      "\n",
      "*** Training of model 'DecisionTreeClassifier' started.\n",
      "*** Training of classifier ready. Time elapsed: 50.068ms\n",
      "\n",
      "*** Training of model 'DecisionTreeClassifier' started.\n",
      "*** Training of classifier ready. Time elapsed: 39.676ms\n",
      "\n",
      "*** Training of model 'DecisionTreeClassifier' started.\n",
      "*** Training of classifier ready. Time elapsed: 34.69ms\n",
      "\n",
      "*** Training of model 'DecisionTreeClassifier' started.\n",
      "*** Training of classifier ready. Time elapsed: 97.01ms\n",
      "\n"
     ]
    },
    {
     "name": "stderr",
     "output_type": "stream",
     "text": [
      "Data with input dtype bool, float64 were all converted to float64 by StandardScaler.\n",
      "Data with input dtype bool, float64 were all converted to float64 by StandardScaler.\n",
      "Data with input dtype bool, float64 were all converted to float64 by StandardScaler.\n"
     ]
    },
    {
     "name": "stdout",
     "output_type": "stream",
     "text": [
      "*** Training of model 'DecisionTreeClassifier' started.\n",
      "*** Training of classifier ready. Time elapsed: 69.814ms\n",
      "\n",
      "*** Training of model 'DecisionTreeClassifier' started.\n",
      "*** Training of classifier ready. Time elapsed: 56.787ms\n",
      "\n",
      "*** Training of model 'DecisionTreeClassifier' started.\n",
      "*** Training of classifier ready. Time elapsed: 50.609ms\n",
      "\n",
      "*** Training of model 'DecisionTreeClassifier' started.\n",
      "*** Training of classifier ready. Time elapsed: 47.721ms\n",
      "\n",
      "*** Training of model 'DecisionTreeClassifier' started.\n",
      "*** Training of classifier ready. Time elapsed: 38.331ms\n",
      "\n",
      "*** Training of model 'DecisionTreeClassifier' started.\n",
      "*** Training of classifier ready. Time elapsed: 33.96ms\n",
      "\n",
      "*** Training of model 'DecisionTreeClassifier' started.\n",
      "*** Training of classifier ready. Time elapsed: 91.508ms\n",
      "\n"
     ]
    },
    {
     "name": "stderr",
     "output_type": "stream",
     "text": [
      "Data with input dtype bool, float64 were all converted to float64 by StandardScaler.\n",
      "Data with input dtype bool, float64 were all converted to float64 by StandardScaler.\n",
      "Data with input dtype bool, float64 were all converted to float64 by StandardScaler.\n"
     ]
    },
    {
     "name": "stdout",
     "output_type": "stream",
     "text": [
      "*** Training of model 'DecisionTreeClassifier' started.\n",
      "*** Training of classifier ready. Time elapsed: 78.892ms\n",
      "\n",
      "*** Training of model 'DecisionTreeClassifier' started.\n",
      "*** Training of classifier ready. Time elapsed: 56.528ms\n",
      "\n",
      "*** Training of model 'DecisionTreeClassifier' started.\n",
      "*** Training of classifier ready. Time elapsed: 53.117ms\n",
      "\n",
      "*** Training of model 'DecisionTreeClassifier' started.\n",
      "*** Training of classifier ready. Time elapsed: 46.202ms\n",
      "\n",
      "*** Training of model 'DecisionTreeClassifier' started.\n",
      "*** Training of classifier ready. Time elapsed: 39.647ms\n",
      "\n",
      "*** Training of model 'DecisionTreeClassifier' started.\n",
      "*** Training of classifier ready. Time elapsed: 33.921ms\n",
      "\n",
      "*** Training of model 'DecisionTreeClassifier' started.\n",
      "*** Training of classifier ready. Time elapsed: 108.18ms\n",
      "\n"
     ]
    },
    {
     "name": "stderr",
     "output_type": "stream",
     "text": [
      "Data with input dtype bool, float64 were all converted to float64 by StandardScaler.\n",
      "Data with input dtype bool, float64 were all converted to float64 by StandardScaler.\n",
      "Data with input dtype bool, float64 were all converted to float64 by StandardScaler.\n"
     ]
    },
    {
     "name": "stdout",
     "output_type": "stream",
     "text": [
      "*** Training of model 'DecisionTreeClassifier' started.\n",
      "*** Training of classifier ready. Time elapsed: 70.558ms\n",
      "\n",
      "*** Training of model 'DecisionTreeClassifier' started.\n",
      "*** Training of classifier ready. Time elapsed: 59.372ms\n",
      "\n",
      "*** Training of model 'DecisionTreeClassifier' started.\n",
      "*** Training of classifier ready. Time elapsed: 52.518ms\n",
      "\n",
      "*** Training of model 'DecisionTreeClassifier' started.\n",
      "*** Training of classifier ready. Time elapsed: 49.058ms\n",
      "\n",
      "*** Training of model 'DecisionTreeClassifier' started.\n",
      "*** Training of classifier ready. Time elapsed: 38.518ms\n",
      "\n",
      "*** Training of model 'DecisionTreeClassifier' started.\n",
      "*** Training of classifier ready. Time elapsed: 55.236ms\n",
      "\n",
      "*** Training of model 'DecisionTreeClassifier' started.\n",
      "*** Training of classifier ready. Time elapsed: 81.412ms\n",
      "\n"
     ]
    },
    {
     "name": "stderr",
     "output_type": "stream",
     "text": [
      "Data with input dtype bool, float64 were all converted to float64 by StandardScaler.\n",
      "Data with input dtype bool, float64 were all converted to float64 by StandardScaler.\n",
      "Data with input dtype bool, float64 were all converted to float64 by StandardScaler.\n"
     ]
    },
    {
     "name": "stdout",
     "output_type": "stream",
     "text": [
      "*** Training of model 'DecisionTreeClassifier' started.\n",
      "*** Training of classifier ready. Time elapsed: 71.094ms\n",
      "\n",
      "*** Training of model 'DecisionTreeClassifier' started.\n",
      "*** Training of classifier ready. Time elapsed: 62.511ms\n",
      "\n",
      "*** Training of model 'DecisionTreeClassifier' started.\n",
      "*** Training of classifier ready. Time elapsed: 56.274ms\n",
      "\n",
      "*** Training of model 'DecisionTreeClassifier' started.\n",
      "*** Training of classifier ready. Time elapsed: 50.11ms\n",
      "\n",
      "*** Training of model 'DecisionTreeClassifier' started.\n",
      "*** Training of classifier ready. Time elapsed: 41.115ms\n",
      "\n",
      "*** Training of model 'DecisionTreeClassifier' started.\n",
      "*** Training of classifier ready. Time elapsed: 38.829ms\n",
      "\n",
      "*** Training of model 'DecisionTreeClassifier' started.\n",
      "*** Training of classifier ready. Time elapsed: 35.923ms\n",
      "\n"
     ]
    },
    {
     "name": "stderr",
     "output_type": "stream",
     "text": [
      "Data with input dtype bool, float64 were all converted to float64 by StandardScaler.\n",
      "Data with input dtype bool, float64 were all converted to float64 by StandardScaler.\n",
      "Data with input dtype bool, float64 were all converted to float64 by StandardScaler.\n"
     ]
    },
    {
     "name": "stdout",
     "output_type": "stream",
     "text": [
      "*** Training of model 'DecisionTreeClassifier' started.\n",
      "*** Training of classifier ready. Time elapsed: 70.568ms\n",
      "\n",
      "*** Training of model 'DecisionTreeClassifier' started.\n",
      "*** Training of classifier ready. Time elapsed: 61.062ms\n",
      "\n",
      "*** Training of model 'DecisionTreeClassifier' started.\n",
      "*** Training of classifier ready. Time elapsed: 52.777ms\n",
      "\n",
      "*** Training of model 'DecisionTreeClassifier' started.\n",
      "*** Training of classifier ready. Time elapsed: 89.716ms\n",
      "\n",
      "*** Training of model 'DecisionTreeClassifier' started.\n",
      "*** Training of classifier ready. Time elapsed: 86.998ms\n",
      "\n",
      "*** Training of model 'DecisionTreeClassifier' started.\n",
      "*** Training of classifier ready. Time elapsed: 85.935ms\n",
      "\n",
      "*** Training of model 'DecisionTreeClassifier' started.\n",
      "*** Training of classifier ready. Time elapsed: 63.729ms\n",
      "\n"
     ]
    },
    {
     "name": "stderr",
     "output_type": "stream",
     "text": [
      "Data with input dtype bool, float64 were all converted to float64 by StandardScaler.\n",
      "Data with input dtype bool, float64 were all converted to float64 by StandardScaler.\n",
      "Data with input dtype bool, float64 were all converted to float64 by StandardScaler.\n"
     ]
    },
    {
     "name": "stdout",
     "output_type": "stream",
     "text": [
      "*** Training of model 'DecisionTreeClassifier' started.\n",
      "*** Training of classifier ready. Time elapsed: 66.227ms\n",
      "\n",
      "*** Training of model 'DecisionTreeClassifier' started.\n",
      "*** Training of classifier ready. Time elapsed: 63.295ms\n",
      "\n",
      "*** Training of model 'DecisionTreeClassifier' started.\n",
      "*** Training of classifier ready. Time elapsed: 50.65ms\n",
      "\n",
      "*** Training of model 'DecisionTreeClassifier' started.\n",
      "*** Training of classifier ready. Time elapsed: 47.417ms\n",
      "\n",
      "*** Training of model 'DecisionTreeClassifier' started.\n",
      "*** Training of classifier ready. Time elapsed: 38.376ms\n",
      "\n",
      "*** Training of model 'DecisionTreeClassifier' started.\n",
      "*** Training of classifier ready. Time elapsed: 34.383ms\n",
      "\n",
      "*** Training of model 'DecisionTreeClassifier' started.\n",
      "*** Training of classifier ready. Time elapsed: 69.134ms\n",
      "\n"
     ]
    },
    {
     "name": "stderr",
     "output_type": "stream",
     "text": [
      "Data with input dtype bool, float64 were all converted to float64 by StandardScaler.\n",
      "Data with input dtype bool, float64 were all converted to float64 by StandardScaler.\n",
      "Data with input dtype bool, float64 were all converted to float64 by StandardScaler.\n"
     ]
    },
    {
     "name": "stdout",
     "output_type": "stream",
     "text": [
      "*** Training of model 'DecisionTreeClassifier' started.\n",
      "*** Training of classifier ready. Time elapsed: 64.165ms\n",
      "\n",
      "*** Training of model 'DecisionTreeClassifier' started.\n",
      "*** Training of classifier ready. Time elapsed: 56.627ms\n",
      "\n",
      "*** Training of model 'DecisionTreeClassifier' started.\n",
      "*** Training of classifier ready. Time elapsed: 61.275ms\n",
      "\n",
      "*** Training of model 'DecisionTreeClassifier' started.\n",
      "*** Training of classifier ready. Time elapsed: 49.948ms\n",
      "\n",
      "*** Training of model 'DecisionTreeClassifier' started.\n",
      "*** Training of classifier ready. Time elapsed: 39.194ms\n",
      "\n",
      "*** Training of model 'DecisionTreeClassifier' started.\n",
      "*** Training of classifier ready. Time elapsed: 32.721ms\n",
      "\n",
      "*** Training of model 'DecisionTreeClassifier' started.\n",
      "*** Training of classifier ready. Time elapsed: 35.072ms\n",
      "\n"
     ]
    },
    {
     "name": "stderr",
     "output_type": "stream",
     "text": [
      "Data with input dtype bool, float64 were all converted to float64 by StandardScaler.\n",
      "Data with input dtype bool, float64 were all converted to float64 by StandardScaler.\n",
      "Data with input dtype bool, float64 were all converted to float64 by StandardScaler.\n"
     ]
    },
    {
     "name": "stdout",
     "output_type": "stream",
     "text": [
      "*** Training of model 'LogisticRegression' started.\n",
      "*** Training of classifier ready. Time elapsed: 65.013ms\n",
      "\n",
      "*** Training of model 'LogisticRegression' started.\n",
      "*** Training of classifier ready. Time elapsed: 357.415ms\n",
      "\n",
      "*** Training of model 'LogisticRegression' started.\n",
      "*** Training of classifier ready. Time elapsed: 569.755ms\n",
      "\n",
      "*** Training of model 'LogisticRegression' started.\n",
      "*** Training of classifier ready. Time elapsed: 336.084ms\n",
      "\n",
      "*** Training of model 'LogisticRegression' started.\n",
      "*** Training of classifier ready. Time elapsed: 153.862ms\n",
      "\n",
      "*** Training of model 'LogisticRegression' started.\n",
      "*** Training of classifier ready. Time elapsed: 457.532ms\n",
      "\n",
      "*** Training of model 'LogisticRegression' started.\n",
      "*** Training of classifier ready. Time elapsed: 601.926ms\n",
      "\n"
     ]
    },
    {
     "name": "stderr",
     "output_type": "stream",
     "text": [
      "Data with input dtype bool, float64 were all converted to float64 by StandardScaler.\n",
      "Data with input dtype bool, float64 were all converted to float64 by StandardScaler.\n",
      "Data with input dtype bool, float64 were all converted to float64 by StandardScaler.\n"
     ]
    },
    {
     "name": "stdout",
     "output_type": "stream",
     "text": [
      "*** Training of model 'LogisticRegression' started.\n",
      "*** Training of classifier ready. Time elapsed: 989.943ms\n",
      "\n",
      "*** Training of model 'LogisticRegression' started.\n",
      "*** Training of classifier ready. Time elapsed: 240.041ms\n",
      "\n",
      "*** Training of model 'LogisticRegression' started.\n",
      "*** Training of classifier ready. Time elapsed: 644.492ms\n",
      "\n",
      "*** Training of model 'LogisticRegression' started.\n",
      "*** Training of classifier ready. Time elapsed: 436.841ms\n",
      "\n",
      "*** Training of model 'LogisticRegression' started.\n",
      "*** Training of classifier ready. Time elapsed: 710.122ms\n",
      "\n",
      "*** Training of model 'LogisticRegression' started.\n",
      "*** Training of classifier ready. Time elapsed: 156.069ms\n",
      "\n",
      "*** Training of model 'LogisticRegression' started.\n",
      "*** Training of classifier ready. Time elapsed: 718.108ms\n",
      "\n"
     ]
    },
    {
     "name": "stderr",
     "output_type": "stream",
     "text": [
      "Data with input dtype bool, float64 were all converted to float64 by StandardScaler.\n",
      "Data with input dtype bool, float64 were all converted to float64 by StandardScaler.\n",
      "Data with input dtype bool, float64 were all converted to float64 by StandardScaler.\n"
     ]
    },
    {
     "name": "stdout",
     "output_type": "stream",
     "text": [
      "*** Training of model 'LogisticRegression' started.\n",
      "*** Training of classifier ready. Time elapsed: 836.109ms\n",
      "\n",
      "*** Training of model 'LogisticRegression' started.\n",
      "*** Training of classifier ready. Time elapsed: 231.502ms\n",
      "\n",
      "*** Training of model 'LogisticRegression' started.\n",
      "*** Training of classifier ready. Time elapsed: 221.277ms\n",
      "\n",
      "*** Training of model 'LogisticRegression' started.\n",
      "*** Training of classifier ready. Time elapsed: 583.278ms\n",
      "\n",
      "*** Training of model 'LogisticRegression' started.\n",
      "*** Training of classifier ready. Time elapsed: 581.878ms\n",
      "\n",
      "*** Training of model 'LogisticRegression' started.\n",
      "*** Training of classifier ready. Time elapsed: 889.906ms\n",
      "\n",
      "*** Training of model 'LogisticRegression' started.\n",
      "*** Training of classifier ready. Time elapsed: 659.613ms\n",
      "\n"
     ]
    },
    {
     "name": "stderr",
     "output_type": "stream",
     "text": [
      "Data with input dtype bool, float64 were all converted to float64 by StandardScaler.\n",
      "Data with input dtype bool, float64 were all converted to float64 by StandardScaler.\n",
      "Data with input dtype bool, float64 were all converted to float64 by StandardScaler.\n"
     ]
    },
    {
     "name": "stdout",
     "output_type": "stream",
     "text": [
      "*** Training of model 'LogisticRegression' started.\n",
      "*** Training of classifier ready. Time elapsed: 854.944ms\n",
      "\n",
      "*** Training of model 'LogisticRegression' started.\n",
      "*** Training of classifier ready. Time elapsed: 696.443ms\n",
      "\n",
      "*** Training of model 'LogisticRegression' started.\n",
      "*** Training of classifier ready. Time elapsed: 187.113ms\n",
      "\n",
      "*** Training of model 'LogisticRegression' started.\n",
      "*** Training of classifier ready. Time elapsed: 828.475ms\n",
      "\n",
      "*** Training of model 'LogisticRegression' started.\n",
      "*** Training of classifier ready. Time elapsed: 591.726ms\n",
      "\n",
      "*** Training of model 'LogisticRegression' started.\n",
      "*** Training of classifier ready. Time elapsed: 548.285ms\n",
      "\n",
      "*** Training of model 'LogisticRegression' started.\n",
      "*** Training of classifier ready. Time elapsed: 135.433ms\n",
      "\n"
     ]
    },
    {
     "name": "stderr",
     "output_type": "stream",
     "text": [
      "Data with input dtype bool, float64 were all converted to float64 by StandardScaler.\n",
      "Data with input dtype bool, float64 were all converted to float64 by StandardScaler.\n",
      "Data with input dtype bool, float64 were all converted to float64 by StandardScaler.\n"
     ]
    },
    {
     "name": "stdout",
     "output_type": "stream",
     "text": [
      "*** Training of model 'LogisticRegression' started.\n",
      "*** Training of classifier ready. Time elapsed: 456.351ms\n",
      "\n",
      "*** Training of model 'LogisticRegression' started.\n",
      "*** Training of classifier ready. Time elapsed: 326.187ms\n",
      "\n",
      "*** Training of model 'LogisticRegression' started.\n",
      "*** Training of classifier ready. Time elapsed: 915.6ms\n",
      "\n",
      "*** Training of model 'LogisticRegression' started.\n",
      "*** Training of classifier ready. Time elapsed: 70.789ms\n",
      "\n",
      "*** Training of model 'LogisticRegression' started.\n",
      "*** Training of classifier ready. Time elapsed: 285.739ms\n",
      "\n",
      "*** Training of model 'LogisticRegression' started.\n",
      "*** Training of classifier ready. Time elapsed: 258.953ms\n",
      "\n",
      "*** Training of model 'LogisticRegression' started.\n",
      "*** Training of classifier ready. Time elapsed: 770.808ms\n",
      "\n"
     ]
    },
    {
     "name": "stderr",
     "output_type": "stream",
     "text": [
      "Data with input dtype bool, float64 were all converted to float64 by StandardScaler.\n",
      "Data with input dtype bool, float64 were all converted to float64 by StandardScaler.\n",
      "Data with input dtype bool, float64 were all converted to float64 by StandardScaler.\n"
     ]
    },
    {
     "name": "stdout",
     "output_type": "stream",
     "text": [
      "*** Training of model 'LogisticRegression' started.\n",
      "*** Training of classifier ready. Time elapsed: 933.806ms\n",
      "\n",
      "*** Training of model 'LogisticRegression' started.\n",
      "*** Training of classifier ready. Time elapsed: 951.634ms\n",
      "\n",
      "*** Training of model 'LogisticRegression' started.\n",
      "*** Training of classifier ready. Time elapsed: 580.81ms\n",
      "\n",
      "*** Training of model 'LogisticRegression' started.\n",
      "*** Training of classifier ready. Time elapsed: 357.236ms\n",
      "\n",
      "*** Training of model 'LogisticRegression' started.\n",
      "*** Training of classifier ready. Time elapsed: 419.599ms\n",
      "\n",
      "*** Training of model 'LogisticRegression' started.\n",
      "*** Training of classifier ready. Time elapsed: 27.99ms\n",
      "\n",
      "*** Training of model 'LogisticRegression' started.\n",
      "*** Training of classifier ready. Time elapsed: 468.979ms\n",
      "\n"
     ]
    },
    {
     "name": "stderr",
     "output_type": "stream",
     "text": [
      "Data with input dtype bool, float64 were all converted to float64 by StandardScaler.\n",
      "Data with input dtype bool, float64 were all converted to float64 by StandardScaler.\n",
      "Data with input dtype bool, float64 were all converted to float64 by StandardScaler.\n"
     ]
    },
    {
     "name": "stdout",
     "output_type": "stream",
     "text": [
      "*** Training of model 'LogisticRegression' started.\n",
      "*** Training of classifier ready. Time elapsed: 541.828ms\n",
      "\n",
      "*** Training of model 'LogisticRegression' started.\n",
      "*** Training of classifier ready. Time elapsed: 100.029ms\n",
      "\n",
      "*** Training of model 'LogisticRegression' started.\n",
      "*** Training of classifier ready. Time elapsed: 931.381ms\n",
      "\n",
      "*** Training of model 'LogisticRegression' started.\n",
      "*** Training of classifier ready. Time elapsed: 22.017ms\n",
      "\n",
      "*** Training of model 'LogisticRegression' started.\n",
      "*** Training of classifier ready. Time elapsed: 525.884ms\n",
      "\n",
      "*** Training of model 'LogisticRegression' started.\n",
      "*** Training of classifier ready. Time elapsed: 535.068ms\n",
      "\n",
      "*** Training of model 'LogisticRegression' started.\n",
      "*** Training of classifier ready. Time elapsed: 75.489ms\n",
      "\n"
     ]
    },
    {
     "name": "stderr",
     "output_type": "stream",
     "text": [
      "Data with input dtype bool, float64 were all converted to float64 by StandardScaler.\n",
      "Data with input dtype bool, float64 were all converted to float64 by StandardScaler.\n",
      "Data with input dtype bool, float64 were all converted to float64 by StandardScaler.\n"
     ]
    },
    {
     "name": "stdout",
     "output_type": "stream",
     "text": [
      "*** Training of model 'LogisticRegression' started.\n",
      "*** Training of classifier ready. Time elapsed: 870.87ms\n",
      "\n",
      "*** Training of model 'LogisticRegression' started.\n",
      "*** Training of classifier ready. Time elapsed: 918.268ms\n",
      "\n",
      "*** Training of model 'LogisticRegression' started.\n",
      "*** Training of classifier ready. Time elapsed: 351.591ms\n",
      "\n",
      "*** Training of model 'LogisticRegression' started.\n",
      "*** Training of classifier ready. Time elapsed: 586.462ms\n",
      "\n",
      "*** Training of model 'LogisticRegression' started.\n",
      "*** Training of classifier ready. Time elapsed: 89.559ms\n",
      "\n",
      "*** Training of model 'LogisticRegression' started.\n",
      "*** Training of classifier ready. Time elapsed: 713.302ms\n",
      "\n",
      "*** Training of model 'LogisticRegression' started.\n",
      "*** Training of classifier ready. Time elapsed: 243.076ms\n",
      "\n"
     ]
    },
    {
     "name": "stderr",
     "output_type": "stream",
     "text": [
      "Data with input dtype bool, float64 were all converted to float64 by StandardScaler.\n",
      "Data with input dtype bool, float64 were all converted to float64 by StandardScaler.\n",
      "Data with input dtype bool, float64 were all converted to float64 by StandardScaler.\n"
     ]
    },
    {
     "name": "stdout",
     "output_type": "stream",
     "text": [
      "*** Training of model 'LogisticRegression' started.\n",
      "*** Training of classifier ready. Time elapsed: 413.717ms\n",
      "\n",
      "*** Training of model 'LogisticRegression' started.\n",
      "*** Training of classifier ready. Time elapsed: 379.54ms\n",
      "\n",
      "*** Training of model 'LogisticRegression' started.\n",
      "*** Training of classifier ready. Time elapsed: 782.324ms\n",
      "\n",
      "*** Training of model 'LogisticRegression' started.\n",
      "*** Training of classifier ready. Time elapsed: 585.787ms\n",
      "\n",
      "*** Training of model 'LogisticRegression' started.\n",
      "*** Training of classifier ready. Time elapsed: 389.015ms\n",
      "\n",
      "*** Training of model 'LogisticRegression' started.\n",
      "*** Training of classifier ready. Time elapsed: 337.191ms\n",
      "\n",
      "*** Training of model 'LogisticRegression' started.\n",
      "*** Training of classifier ready. Time elapsed: 102.466ms\n",
      "\n"
     ]
    },
    {
     "name": "stderr",
     "output_type": "stream",
     "text": [
      "Data with input dtype bool, float64 were all converted to float64 by StandardScaler.\n",
      "Data with input dtype bool, float64 were all converted to float64 by StandardScaler.\n",
      "Data with input dtype bool, float64 were all converted to float64 by StandardScaler.\n"
     ]
    },
    {
     "name": "stdout",
     "output_type": "stream",
     "text": [
      "*** Training of model 'LogisticRegression' started.\n",
      "*** Training of classifier ready. Time elapsed: 474.031ms\n",
      "\n",
      "*** Training of model 'LogisticRegression' started.\n",
      "*** Training of classifier ready. Time elapsed: 208.354ms\n",
      "\n",
      "*** Training of model 'LogisticRegression' started.\n",
      "*** Training of classifier ready. Time elapsed: 3.168ms\n",
      "\n",
      "*** Training of model 'LogisticRegression' started.\n",
      "*** Training of classifier ready. Time elapsed: 156.103ms\n",
      "\n",
      "*** Training of model 'LogisticRegression' started.\n",
      "*** Training of classifier ready. Time elapsed: 19.398ms\n",
      "\n",
      "*** Training of model 'LogisticRegression' started.\n",
      "*** Training of classifier ready. Time elapsed: 785.152ms\n",
      "\n",
      "*** Training of model 'LogisticRegression' started.\n",
      "*** Training of classifier ready. Time elapsed: 143.807ms\n",
      "\n"
     ]
    },
    {
     "name": "stderr",
     "output_type": "stream",
     "text": [
      "Data with input dtype bool, float64 were all converted to float64 by StandardScaler.\n",
      "Data with input dtype bool, float64 were all converted to float64 by StandardScaler.\n",
      "Data with input dtype bool, float64 were all converted to float64 by StandardScaler.\n"
     ]
    },
    {
     "name": "stdout",
     "output_type": "stream",
     "text": [
      "*** Training of model 'LogisticRegression' started.\n",
      "*** Training of classifier ready. Time elapsed: 490.198ms\n",
      "\n",
      "*** Training of model 'LogisticRegression' started.\n",
      "*** Training of classifier ready. Time elapsed: 849.661ms\n",
      "\n",
      "*** Training of model 'LogisticRegression' started.\n",
      "*** Training of classifier ready. Time elapsed: 803.335ms\n",
      "\n",
      "*** Training of model 'LogisticRegression' started.\n",
      "*** Training of classifier ready. Time elapsed: 311.711ms\n",
      "\n",
      "*** Training of model 'LogisticRegression' started.\n",
      "*** Training of classifier ready. Time elapsed: 808.273ms\n",
      "\n",
      "*** Training of model 'LogisticRegression' started.\n",
      "*** Training of classifier ready. Time elapsed: 636.134ms\n",
      "\n",
      "*** Training of model 'LogisticRegression' started.\n",
      "*** Training of classifier ready. Time elapsed: 199.844ms\n",
      "\n"
     ]
    },
    {
     "name": "stderr",
     "output_type": "stream",
     "text": [
      "Data with input dtype bool, float64 were all converted to float64 by StandardScaler.\n",
      "Data with input dtype bool, float64 were all converted to float64 by StandardScaler.\n",
      "Data with input dtype bool, float64 were all converted to float64 by StandardScaler.\n"
     ]
    },
    {
     "name": "stdout",
     "output_type": "stream",
     "text": [
      "*** Training of model 'LogisticRegression' started.\n",
      "*** Training of classifier ready. Time elapsed: 661.437ms\n",
      "\n",
      "*** Training of model 'LogisticRegression' started.\n",
      "*** Training of classifier ready. Time elapsed: 511.448ms\n",
      "\n",
      "*** Training of model 'LogisticRegression' started.\n",
      "*** Training of classifier ready. Time elapsed: 117.374ms\n",
      "\n",
      "*** Training of model 'LogisticRegression' started.\n",
      "*** Training of classifier ready. Time elapsed: 578.262ms\n",
      "\n",
      "*** Training of model 'LogisticRegression' started.\n",
      "*** Training of classifier ready. Time elapsed: 573.889ms\n",
      "\n",
      "*** Training of model 'LogisticRegression' started.\n",
      "*** Training of classifier ready. Time elapsed: 655.734ms\n",
      "\n",
      "*** Training of model 'LogisticRegression' started.\n",
      "*** Training of classifier ready. Time elapsed: 313.321ms\n",
      "\n"
     ]
    },
    {
     "name": "stderr",
     "output_type": "stream",
     "text": [
      "Data with input dtype bool, float64 were all converted to float64 by StandardScaler.\n",
      "Data with input dtype bool, float64 were all converted to float64 by StandardScaler.\n",
      "Data with input dtype bool, float64 were all converted to float64 by StandardScaler.\n"
     ]
    },
    {
     "name": "stdout",
     "output_type": "stream",
     "text": [
      "*** Training of model 'LogisticRegression' started.\n",
      "*** Training of classifier ready. Time elapsed: 690.896ms\n",
      "\n",
      "*** Training of model 'LogisticRegression' started.\n",
      "*** Training of classifier ready. Time elapsed: 745.731ms\n",
      "\n",
      "*** Training of model 'LogisticRegression' started.\n",
      "*** Training of classifier ready. Time elapsed: 745.537ms\n",
      "\n",
      "*** Training of model 'LogisticRegression' started.\n",
      "*** Training of classifier ready. Time elapsed: 658.109ms\n",
      "\n",
      "*** Training of model 'LogisticRegression' started.\n",
      "*** Training of classifier ready. Time elapsed: 936.289ms\n",
      "\n",
      "*** Training of model 'LogisticRegression' started.\n",
      "*** Training of classifier ready. Time elapsed: 489.189ms\n",
      "\n",
      "*** Training of model 'LogisticRegression' started.\n",
      "*** Training of classifier ready. Time elapsed: 539.661ms\n",
      "\n"
     ]
    },
    {
     "name": "stderr",
     "output_type": "stream",
     "text": [
      "Data with input dtype bool, float64 were all converted to float64 by StandardScaler.\n",
      "Data with input dtype bool, float64 were all converted to float64 by StandardScaler.\n",
      "Data with input dtype bool, float64 were all converted to float64 by StandardScaler.\n"
     ]
    },
    {
     "name": "stdout",
     "output_type": "stream",
     "text": [
      "*** Training of model 'LogisticRegression' started.\n",
      "*** Training of classifier ready. Time elapsed: 425.558ms\n",
      "\n",
      "*** Training of model 'LogisticRegression' started.\n",
      "*** Training of classifier ready. Time elapsed: 235.147ms\n",
      "\n",
      "*** Training of model 'LogisticRegression' started.\n",
      "*** Training of classifier ready. Time elapsed: 459.682ms\n",
      "\n",
      "*** Training of model 'LogisticRegression' started.\n",
      "*** Training of classifier ready. Time elapsed: 227.487ms\n",
      "\n",
      "*** Training of model 'LogisticRegression' started.\n",
      "*** Training of classifier ready. Time elapsed: 716.055ms\n",
      "\n",
      "*** Training of model 'LogisticRegression' started.\n",
      "*** Training of classifier ready. Time elapsed: 708.488ms\n",
      "\n",
      "*** Training of model 'LogisticRegression' started.\n",
      "*** Training of classifier ready. Time elapsed: 190.292ms\n",
      "\n"
     ]
    },
    {
     "name": "stderr",
     "output_type": "stream",
     "text": [
      "Data with input dtype bool, float64 were all converted to float64 by StandardScaler.\n",
      "Data with input dtype bool, float64 were all converted to float64 by StandardScaler.\n",
      "Data with input dtype bool, float64 were all converted to float64 by StandardScaler.\n"
     ]
    },
    {
     "name": "stdout",
     "output_type": "stream",
     "text": [
      "*** Training of model 'LogisticRegression' started.\n",
      "*** Training of classifier ready. Time elapsed: 636.927ms\n",
      "\n",
      "*** Training of model 'LogisticRegression' started.\n",
      "*** Training of classifier ready. Time elapsed: 709.052ms\n",
      "\n",
      "*** Training of model 'LogisticRegression' started.\n",
      "*** Training of classifier ready. Time elapsed: 745.796ms\n",
      "\n",
      "*** Training of model 'LogisticRegression' started.\n",
      "*** Training of classifier ready. Time elapsed: 91.405ms\n",
      "\n",
      "*** Training of model 'LogisticRegression' started.\n",
      "*** Training of classifier ready. Time elapsed: 125.939ms\n",
      "\n",
      "*** Training of model 'LogisticRegression' started.\n",
      "*** Training of classifier ready. Time elapsed: 290.706ms\n",
      "\n",
      "*** Training of model 'LogisticRegression' started.\n",
      "*** Training of classifier ready. Time elapsed: 564.714ms\n",
      "\n"
     ]
    },
    {
     "name": "stderr",
     "output_type": "stream",
     "text": [
      "Data with input dtype bool, float64 were all converted to float64 by StandardScaler.\n",
      "Data with input dtype bool, float64 were all converted to float64 by StandardScaler.\n",
      "Data with input dtype bool, float64 were all converted to float64 by StandardScaler.\n"
     ]
    },
    {
     "name": "stdout",
     "output_type": "stream",
     "text": [
      "*** Training of model 'LogisticRegression' started.\n",
      "*** Training of classifier ready. Time elapsed: 663.232ms\n",
      "\n",
      "*** Training of model 'LogisticRegression' started.\n",
      "*** Training of classifier ready. Time elapsed: 123.198ms\n",
      "\n",
      "*** Training of model 'LogisticRegression' started.\n",
      "*** Training of classifier ready. Time elapsed: 821.334ms\n",
      "\n",
      "*** Training of model 'LogisticRegression' started.\n",
      "*** Training of classifier ready. Time elapsed: 459.613ms\n",
      "\n",
      "*** Training of model 'LogisticRegression' started.\n",
      "*** Training of classifier ready. Time elapsed: 283.03ms\n",
      "\n",
      "*** Training of model 'LogisticRegression' started.\n",
      "*** Training of classifier ready. Time elapsed: 146.082ms\n",
      "\n",
      "*** Training of model 'LogisticRegression' started.\n",
      "*** Training of classifier ready. Time elapsed: 458.23ms\n",
      "\n"
     ]
    },
    {
     "name": "stderr",
     "output_type": "stream",
     "text": [
      "Data with input dtype bool, float64 were all converted to float64 by StandardScaler.\n",
      "Data with input dtype bool, float64 were all converted to float64 by StandardScaler.\n",
      "Data with input dtype bool, float64 were all converted to float64 by StandardScaler.\n"
     ]
    },
    {
     "name": "stdout",
     "output_type": "stream",
     "text": [
      "*** Training of model 'LogisticRegression' started.\n",
      "*** Training of classifier ready. Time elapsed: 510.023ms\n",
      "\n",
      "*** Training of model 'LogisticRegression' started.\n",
      "*** Training of classifier ready. Time elapsed: 497.706ms\n",
      "\n",
      "*** Training of model 'LogisticRegression' started.\n",
      "*** Training of classifier ready. Time elapsed: 286.003ms\n",
      "\n",
      "*** Training of model 'LogisticRegression' started.\n",
      "*** Training of classifier ready. Time elapsed: 659.262ms\n",
      "\n",
      "*** Training of model 'LogisticRegression' started.\n",
      "*** Training of classifier ready. Time elapsed: 512.237ms\n",
      "\n",
      "*** Training of model 'LogisticRegression' started.\n",
      "*** Training of classifier ready. Time elapsed: 243.854ms\n",
      "\n",
      "*** Training of model 'LogisticRegression' started.\n",
      "*** Training of classifier ready. Time elapsed: 946.467ms\n",
      "\n"
     ]
    },
    {
     "name": "stderr",
     "output_type": "stream",
     "text": [
      "Data with input dtype bool, float64 were all converted to float64 by StandardScaler.\n",
      "Data with input dtype bool, float64 were all converted to float64 by StandardScaler.\n",
      "Data with input dtype bool, float64 were all converted to float64 by StandardScaler.\n"
     ]
    },
    {
     "name": "stdout",
     "output_type": "stream",
     "text": [
      "*** Training of model 'LogisticRegression' started.\n",
      "*** Training of classifier ready. Time elapsed: 675.743ms\n",
      "\n",
      "*** Training of model 'LogisticRegression' started.\n",
      "*** Training of classifier ready. Time elapsed: 524.064ms\n",
      "\n",
      "*** Training of model 'LogisticRegression' started.\n",
      "*** Training of classifier ready. Time elapsed: 148.975ms\n",
      "\n",
      "*** Training of model 'LogisticRegression' started.\n",
      "*** Training of classifier ready. Time elapsed: 933.383ms\n",
      "\n",
      "*** Training of model 'LogisticRegression' started.\n",
      "*** Training of classifier ready. Time elapsed: 395.907ms\n",
      "\n",
      "*** Training of model 'LogisticRegression' started.\n",
      "*** Training of classifier ready. Time elapsed: 497.57ms\n",
      "\n",
      "*** Training of model 'LogisticRegression' started.\n",
      "*** Training of classifier ready. Time elapsed: 43.743ms\n",
      "\n"
     ]
    },
    {
     "name": "stderr",
     "output_type": "stream",
     "text": [
      "Data with input dtype bool, float64 were all converted to float64 by StandardScaler.\n",
      "Data with input dtype bool, float64 were all converted to float64 by StandardScaler.\n",
      "Data with input dtype bool, float64 were all converted to float64 by StandardScaler.\n"
     ]
    },
    {
     "name": "stdout",
     "output_type": "stream",
     "text": [
      "*** Training of model 'LogisticRegression' started.\n",
      "*** Training of classifier ready. Time elapsed: 684.359ms\n",
      "\n",
      "*** Training of model 'LogisticRegression' started.\n",
      "*** Training of classifier ready. Time elapsed: 421.56ms\n",
      "\n",
      "*** Training of model 'LogisticRegression' started.\n",
      "*** Training of classifier ready. Time elapsed: 290.778ms\n",
      "\n",
      "*** Training of model 'LogisticRegression' started.\n",
      "*** Training of classifier ready. Time elapsed: 605.513ms\n",
      "\n",
      "*** Training of model 'LogisticRegression' started.\n",
      "*** Training of classifier ready. Time elapsed: 262.62ms\n",
      "\n",
      "*** Training of model 'LogisticRegression' started.\n",
      "*** Training of classifier ready. Time elapsed: 96.31ms\n",
      "\n",
      "*** Training of model 'LogisticRegression' started.\n",
      "*** Training of classifier ready. Time elapsed: 322.688ms\n",
      "\n"
     ]
    },
    {
     "name": "stderr",
     "output_type": "stream",
     "text": [
      "Data with input dtype bool, float64 were all converted to float64 by StandardScaler.\n",
      "Data with input dtype bool, float64 were all converted to float64 by StandardScaler.\n",
      "Data with input dtype bool, float64 were all converted to float64 by StandardScaler.\n"
     ]
    },
    {
     "name": "stdout",
     "output_type": "stream",
     "text": [
      "*** Training of model 'LogisticRegression' started.\n",
      "*** Training of classifier ready. Time elapsed: 922.442ms\n",
      "\n",
      "*** Training of model 'LogisticRegression' started.\n",
      "*** Training of classifier ready. Time elapsed: 752.691ms\n",
      "\n",
      "*** Training of model 'LogisticRegression' started.\n",
      "*** Training of classifier ready. Time elapsed: 938.715ms\n",
      "\n",
      "*** Training of model 'LogisticRegression' started.\n",
      "*** Training of classifier ready. Time elapsed: 906.742ms\n",
      "\n",
      "*** Training of model 'LogisticRegression' started.\n",
      "*** Training of classifier ready. Time elapsed: 553.775ms\n",
      "\n",
      "*** Training of model 'LogisticRegression' started.\n",
      "*** Training of classifier ready. Time elapsed: 471.016ms\n",
      "\n",
      "*** Training of model 'LogisticRegression' started.\n",
      "*** Training of classifier ready. Time elapsed: 728.257ms\n",
      "\n"
     ]
    },
    {
     "name": "stderr",
     "output_type": "stream",
     "text": [
      "Columns (11,18,19,20,24,35,64,83,90,92,94,96,97,106,114,117,120,125,126,133,136,140,141,142,143,144,150,178,235,244,248,288,311,317,320,325,326,330,334,341,353,359,360,361,365,402,421,425,430,434,436,439,446) have mixed types. Specify dtype option on import or set low_memory=False.\n"
     ]
    },
    {
     "name": "stdout",
     "output_type": "stream",
     "text": [
      "Fetching data for <fiber.condition.mrns.MRNs object at 0x7f6eb0e2ef98>\n",
      "Fetching data for Patient (...)\n"
     ]
    },
    {
     "name": "stderr",
     "output_type": "stream",
     "text": [
      "Data with input dtype bool, float64 were all converted to float64 by StandardScaler.\n",
      "Data with input dtype bool, float64 were all converted to float64 by StandardScaler.\n",
      "Data with input dtype bool, float64 were all converted to float64 by StandardScaler.\n"
     ]
    },
    {
     "name": "stdout",
     "output_type": "stream",
     "text": [
      "*** Training of model 'GradientBoostingClassifier' started.\n",
      "*** Training of classifier ready. Time elapsed: 638.019ms\n",
      "\n",
      "*** Training of model 'GradientBoostingClassifier' started.\n",
      "*** Training of classifier ready. Time elapsed: 687.063ms\n",
      "\n",
      "*** Training of model 'GradientBoostingClassifier' started.\n",
      "*** Training of classifier ready. Time elapsed: 699.447ms\n",
      "\n",
      "*** Training of model 'GradientBoostingClassifier' started.\n",
      "*** Training of classifier ready. Time elapsed: 990.927ms\n",
      "\n",
      "*** Training of model 'GradientBoostingClassifier' started.\n",
      "*** Training of classifier ready. Time elapsed: 116.019ms\n",
      "\n",
      "*** Training of model 'GradientBoostingClassifier' started.\n",
      "*** Training of classifier ready. Time elapsed: 912.193ms\n",
      "\n",
      "*** Training of model 'GradientBoostingClassifier' started.\n",
      "*** Training of classifier ready. Time elapsed: 979.043ms\n",
      "\n"
     ]
    },
    {
     "name": "stderr",
     "output_type": "stream",
     "text": [
      "Data with input dtype bool, float64 were all converted to float64 by StandardScaler.\n",
      "Data with input dtype bool, float64 were all converted to float64 by StandardScaler.\n",
      "Data with input dtype bool, float64 were all converted to float64 by StandardScaler.\n"
     ]
    },
    {
     "name": "stdout",
     "output_type": "stream",
     "text": [
      "*** Training of model 'GradientBoostingClassifier' started.\n",
      "*** Training of classifier ready. Time elapsed: 535.803ms\n",
      "\n",
      "*** Training of model 'GradientBoostingClassifier' started.\n",
      "*** Training of classifier ready. Time elapsed: 869.592ms\n",
      "\n",
      "*** Training of model 'GradientBoostingClassifier' started.\n",
      "*** Training of classifier ready. Time elapsed: 572.248ms\n",
      "\n",
      "*** Training of model 'GradientBoostingClassifier' started.\n",
      "*** Training of classifier ready. Time elapsed: 38.675ms\n",
      "\n",
      "*** Training of model 'GradientBoostingClassifier' started.\n",
      "*** Training of classifier ready. Time elapsed: 566.287ms\n",
      "\n",
      "*** Training of model 'GradientBoostingClassifier' started.\n",
      "*** Training of classifier ready. Time elapsed: 567.29ms\n",
      "\n",
      "*** Training of model 'GradientBoostingClassifier' started.\n",
      "*** Training of classifier ready. Time elapsed: 880.582ms\n",
      "\n"
     ]
    },
    {
     "name": "stderr",
     "output_type": "stream",
     "text": [
      "F-score is ill-defined and being set to 0.0 due to no predicted samples.\n",
      "Precision is ill-defined and being set to 0.0 due to no predicted samples.\n",
      "invalid value encountered in long_scalars\n",
      "Data with input dtype bool, float64 were all converted to float64 by StandardScaler.\n",
      "Data with input dtype bool, float64 were all converted to float64 by StandardScaler.\n",
      "Data with input dtype bool, float64 were all converted to float64 by StandardScaler.\n"
     ]
    },
    {
     "name": "stdout",
     "output_type": "stream",
     "text": [
      "*** Training of model 'GradientBoostingClassifier' started.\n",
      "*** Training of classifier ready. Time elapsed: 816.166ms\n",
      "\n",
      "*** Training of model 'GradientBoostingClassifier' started.\n",
      "*** Training of classifier ready. Time elapsed: 558.352ms\n",
      "\n",
      "*** Training of model 'GradientBoostingClassifier' started.\n",
      "*** Training of classifier ready. Time elapsed: 259.999ms\n",
      "\n",
      "*** Training of model 'GradientBoostingClassifier' started.\n",
      "*** Training of classifier ready. Time elapsed: 982.521ms\n",
      "\n",
      "*** Training of model 'GradientBoostingClassifier' started.\n",
      "*** Training of classifier ready. Time elapsed: 739.559ms\n",
      "\n",
      "*** Training of model 'GradientBoostingClassifier' started.\n",
      "*** Training of classifier ready. Time elapsed: 518.246ms\n",
      "\n",
      "*** Training of model 'GradientBoostingClassifier' started.\n",
      "*** Training of classifier ready. Time elapsed: 981.334ms\n",
      "\n"
     ]
    },
    {
     "name": "stderr",
     "output_type": "stream",
     "text": [
      "Data with input dtype bool, float64 were all converted to float64 by StandardScaler.\n",
      "Data with input dtype bool, float64 were all converted to float64 by StandardScaler.\n",
      "Data with input dtype bool, float64 were all converted to float64 by StandardScaler.\n"
     ]
    },
    {
     "name": "stdout",
     "output_type": "stream",
     "text": [
      "*** Training of model 'GradientBoostingClassifier' started.\n",
      "*** Training of classifier ready. Time elapsed: 721.316ms\n",
      "\n",
      "*** Training of model 'GradientBoostingClassifier' started.\n",
      "*** Training of classifier ready. Time elapsed: 506.765ms\n",
      "\n",
      "*** Training of model 'GradientBoostingClassifier' started.\n",
      "*** Training of classifier ready. Time elapsed: 208.207ms\n",
      "\n",
      "*** Training of model 'GradientBoostingClassifier' started.\n",
      "*** Training of classifier ready. Time elapsed: 12.279ms\n",
      "\n",
      "*** Training of model 'GradientBoostingClassifier' started.\n",
      "*** Training of classifier ready. Time elapsed: 707.237ms\n",
      "\n",
      "*** Training of model 'GradientBoostingClassifier' started.\n",
      "*** Training of classifier ready. Time elapsed: 549.65ms\n",
      "\n",
      "*** Training of model 'GradientBoostingClassifier' started.\n",
      "*** Training of classifier ready. Time elapsed: 919.31ms\n",
      "\n"
     ]
    },
    {
     "name": "stderr",
     "output_type": "stream",
     "text": [
      "Data with input dtype bool, float64 were all converted to float64 by StandardScaler.\n",
      "Data with input dtype bool, float64 were all converted to float64 by StandardScaler.\n",
      "Data with input dtype bool, float64 were all converted to float64 by StandardScaler.\n"
     ]
    },
    {
     "name": "stdout",
     "output_type": "stream",
     "text": [
      "*** Training of model 'GradientBoostingClassifier' started.\n",
      "*** Training of classifier ready. Time elapsed: 790.834ms\n",
      "\n",
      "*** Training of model 'GradientBoostingClassifier' started.\n",
      "*** Training of classifier ready. Time elapsed: 632.982ms\n",
      "\n",
      "*** Training of model 'GradientBoostingClassifier' started.\n",
      "*** Training of classifier ready. Time elapsed: 36.883ms\n",
      "\n",
      "*** Training of model 'GradientBoostingClassifier' started.\n",
      "*** Training of classifier ready. Time elapsed: 843.101ms\n",
      "\n",
      "*** Training of model 'GradientBoostingClassifier' started.\n",
      "*** Training of classifier ready. Time elapsed: 168.579ms\n",
      "\n",
      "*** Training of model 'GradientBoostingClassifier' started.\n",
      "*** Training of classifier ready. Time elapsed: 494.732ms\n",
      "\n",
      "*** Training of model 'GradientBoostingClassifier' started.\n",
      "*** Training of classifier ready. Time elapsed: 218.209ms\n",
      "\n"
     ]
    },
    {
     "name": "stderr",
     "output_type": "stream",
     "text": [
      "Data with input dtype bool, float64 were all converted to float64 by StandardScaler.\n",
      "Data with input dtype bool, float64 were all converted to float64 by StandardScaler.\n",
      "Data with input dtype bool, float64 were all converted to float64 by StandardScaler.\n"
     ]
    },
    {
     "name": "stdout",
     "output_type": "stream",
     "text": [
      "*** Training of model 'GradientBoostingClassifier' started.\n",
      "*** Training of classifier ready. Time elapsed: 160.219ms\n",
      "\n",
      "*** Training of model 'GradientBoostingClassifier' started.\n",
      "*** Training of classifier ready. Time elapsed: 670.998ms\n",
      "\n",
      "*** Training of model 'GradientBoostingClassifier' started.\n",
      "*** Training of classifier ready. Time elapsed: 863.46ms\n",
      "\n",
      "*** Training of model 'GradientBoostingClassifier' started.\n",
      "*** Training of classifier ready. Time elapsed: 453.085ms\n",
      "\n",
      "*** Training of model 'GradientBoostingClassifier' started.\n",
      "*** Training of classifier ready. Time elapsed: 271.736ms\n",
      "\n",
      "*** Training of model 'GradientBoostingClassifier' started.\n",
      "*** Training of classifier ready. Time elapsed: 937.531ms\n",
      "\n",
      "*** Training of model 'GradientBoostingClassifier' started.\n",
      "*** Training of classifier ready. Time elapsed: 205.898ms\n",
      "\n"
     ]
    },
    {
     "name": "stderr",
     "output_type": "stream",
     "text": [
      "Data with input dtype bool, float64 were all converted to float64 by StandardScaler.\n",
      "Data with input dtype bool, float64 were all converted to float64 by StandardScaler.\n",
      "Data with input dtype bool, float64 were all converted to float64 by StandardScaler.\n"
     ]
    },
    {
     "name": "stdout",
     "output_type": "stream",
     "text": [
      "*** Training of model 'GradientBoostingClassifier' started.\n",
      "*** Training of classifier ready. Time elapsed: 982.125ms\n",
      "\n",
      "*** Training of model 'GradientBoostingClassifier' started.\n",
      "*** Training of classifier ready. Time elapsed: 183.626ms\n",
      "\n",
      "*** Training of model 'GradientBoostingClassifier' started.\n",
      "*** Training of classifier ready. Time elapsed: 880.428ms\n",
      "\n",
      "*** Training of model 'GradientBoostingClassifier' started.\n",
      "*** Training of classifier ready. Time elapsed: 370.665ms\n",
      "\n",
      "*** Training of model 'GradientBoostingClassifier' started.\n",
      "*** Training of classifier ready. Time elapsed: 660.85ms\n",
      "\n",
      "*** Training of model 'GradientBoostingClassifier' started.\n",
      "*** Training of classifier ready. Time elapsed: 522.731ms\n",
      "\n",
      "*** Training of model 'GradientBoostingClassifier' started.\n",
      "*** Training of classifier ready. Time elapsed: 575.667ms\n",
      "\n"
     ]
    },
    {
     "name": "stderr",
     "output_type": "stream",
     "text": [
      "Data with input dtype bool, float64 were all converted to float64 by StandardScaler.\n",
      "Data with input dtype bool, float64 were all converted to float64 by StandardScaler.\n",
      "Data with input dtype bool, float64 were all converted to float64 by StandardScaler.\n"
     ]
    },
    {
     "name": "stdout",
     "output_type": "stream",
     "text": [
      "*** Training of model 'GradientBoostingClassifier' started.\n",
      "*** Training of classifier ready. Time elapsed: 389.017ms\n",
      "\n",
      "*** Training of model 'GradientBoostingClassifier' started.\n",
      "*** Training of classifier ready. Time elapsed: 252.78ms\n",
      "\n",
      "*** Training of model 'GradientBoostingClassifier' started.\n",
      "*** Training of classifier ready. Time elapsed: 17.116ms\n",
      "\n",
      "*** Training of model 'GradientBoostingClassifier' started.\n",
      "*** Training of classifier ready. Time elapsed: 14.041ms\n",
      "\n",
      "*** Training of model 'GradientBoostingClassifier' started.\n",
      "*** Training of classifier ready. Time elapsed: 494.488ms\n",
      "\n",
      "*** Training of model 'GradientBoostingClassifier' started.\n",
      "*** Training of classifier ready. Time elapsed: 762.409ms\n",
      "\n",
      "*** Training of model 'GradientBoostingClassifier' started.\n",
      "*** Training of classifier ready. Time elapsed: 629.988ms\n",
      "\n"
     ]
    },
    {
     "name": "stderr",
     "output_type": "stream",
     "text": [
      "Data with input dtype bool, float64 were all converted to float64 by StandardScaler.\n",
      "Data with input dtype bool, float64 were all converted to float64 by StandardScaler.\n",
      "Data with input dtype bool, float64 were all converted to float64 by StandardScaler.\n"
     ]
    },
    {
     "name": "stdout",
     "output_type": "stream",
     "text": [
      "*** Training of model 'GradientBoostingClassifier' started.\n",
      "*** Training of classifier ready. Time elapsed: 999.355ms\n",
      "\n",
      "*** Training of model 'GradientBoostingClassifier' started.\n",
      "*** Training of classifier ready. Time elapsed: 588.059ms\n",
      "\n",
      "*** Training of model 'GradientBoostingClassifier' started.\n",
      "*** Training of classifier ready. Time elapsed: 304.246ms\n",
      "\n",
      "*** Training of model 'GradientBoostingClassifier' started.\n",
      "*** Training of classifier ready. Time elapsed: 123.459ms\n",
      "\n",
      "*** Training of model 'GradientBoostingClassifier' started.\n",
      "*** Training of classifier ready. Time elapsed: 815.291ms\n",
      "\n",
      "*** Training of model 'GradientBoostingClassifier' started.\n",
      "*** Training of classifier ready. Time elapsed: 593.718ms\n",
      "\n",
      "*** Training of model 'GradientBoostingClassifier' started.\n",
      "*** Training of classifier ready. Time elapsed: 325.491ms\n",
      "\n"
     ]
    },
    {
     "name": "stderr",
     "output_type": "stream",
     "text": [
      "Data with input dtype bool, float64 were all converted to float64 by StandardScaler.\n",
      "Data with input dtype bool, float64 were all converted to float64 by StandardScaler.\n",
      "Data with input dtype bool, float64 were all converted to float64 by StandardScaler.\n"
     ]
    },
    {
     "name": "stdout",
     "output_type": "stream",
     "text": [
      "*** Training of model 'GradientBoostingClassifier' started.\n",
      "*** Training of classifier ready. Time elapsed: 827.944ms\n",
      "\n",
      "*** Training of model 'GradientBoostingClassifier' started.\n",
      "*** Training of classifier ready. Time elapsed: 618.919ms\n",
      "\n",
      "*** Training of model 'GradientBoostingClassifier' started.\n",
      "*** Training of classifier ready. Time elapsed: 316.489ms\n",
      "\n",
      "*** Training of model 'GradientBoostingClassifier' started.\n",
      "*** Training of classifier ready. Time elapsed: 10.895ms\n",
      "\n",
      "*** Training of model 'GradientBoostingClassifier' started.\n",
      "*** Training of classifier ready. Time elapsed: 824.68ms\n",
      "\n",
      "*** Training of model 'GradientBoostingClassifier' started.\n",
      "*** Training of classifier ready. Time elapsed: 595.167ms\n",
      "\n",
      "*** Training of model 'GradientBoostingClassifier' started.\n",
      "*** Training of classifier ready. Time elapsed: 355.615ms\n",
      "\n"
     ]
    },
    {
     "name": "stderr",
     "output_type": "stream",
     "text": [
      "Data with input dtype bool, float64 were all converted to float64 by StandardScaler.\n",
      "Data with input dtype bool, float64 were all converted to float64 by StandardScaler.\n",
      "Data with input dtype bool, float64 were all converted to float64 by StandardScaler.\n"
     ]
    },
    {
     "name": "stdout",
     "output_type": "stream",
     "text": [
      "*** Training of model 'GradientBoostingClassifier' started.\n",
      "*** Training of classifier ready. Time elapsed: 882.213ms\n",
      "\n",
      "*** Training of model 'GradientBoostingClassifier' started.\n",
      "*** Training of classifier ready. Time elapsed: 549.343ms\n",
      "\n",
      "*** Training of model 'GradientBoostingClassifier' started.\n",
      "*** Training of classifier ready. Time elapsed: 924.107ms\n",
      "\n",
      "*** Training of model 'GradientBoostingClassifier' started.\n",
      "*** Training of classifier ready. Time elapsed: 37.09ms\n",
      "\n",
      "*** Training of model 'GradientBoostingClassifier' started.\n",
      "*** Training of classifier ready. Time elapsed: 418.05ms\n",
      "\n",
      "*** Training of model 'GradientBoostingClassifier' started.\n",
      "*** Training of classifier ready. Time elapsed: 571.127ms\n",
      "\n",
      "*** Training of model 'GradientBoostingClassifier' started.\n",
      "*** Training of classifier ready. Time elapsed: 907.08ms\n",
      "\n"
     ]
    },
    {
     "name": "stderr",
     "output_type": "stream",
     "text": [
      "Data with input dtype bool, float64 were all converted to float64 by StandardScaler.\n",
      "Data with input dtype bool, float64 were all converted to float64 by StandardScaler.\n",
      "Data with input dtype bool, float64 were all converted to float64 by StandardScaler.\n"
     ]
    },
    {
     "name": "stdout",
     "output_type": "stream",
     "text": [
      "*** Training of model 'GradientBoostingClassifier' started.\n",
      "*** Training of classifier ready. Time elapsed: 920.981ms\n",
      "\n",
      "*** Training of model 'GradientBoostingClassifier' started.\n",
      "*** Training of classifier ready. Time elapsed: 90.657ms\n",
      "\n",
      "*** Training of model 'GradientBoostingClassifier' started.\n",
      "*** Training of classifier ready. Time elapsed: 266.341ms\n",
      "\n",
      "*** Training of model 'GradientBoostingClassifier' started.\n",
      "*** Training of classifier ready. Time elapsed: 992.653ms\n",
      "\n",
      "*** Training of model 'GradientBoostingClassifier' started.\n",
      "*** Training of classifier ready. Time elapsed: 26.909ms\n",
      "\n",
      "*** Training of model 'GradientBoostingClassifier' started.\n",
      "*** Training of classifier ready. Time elapsed: 222.409ms\n",
      "\n",
      "*** Training of model 'GradientBoostingClassifier' started.\n",
      "*** Training of classifier ready. Time elapsed: 382.384ms\n",
      "\n"
     ]
    },
    {
     "name": "stderr",
     "output_type": "stream",
     "text": [
      "Data with input dtype bool, float64 were all converted to float64 by StandardScaler.\n",
      "Data with input dtype bool, float64 were all converted to float64 by StandardScaler.\n",
      "Data with input dtype bool, float64 were all converted to float64 by StandardScaler.\n"
     ]
    },
    {
     "name": "stdout",
     "output_type": "stream",
     "text": [
      "*** Training of model 'GradientBoostingClassifier' started.\n",
      "*** Training of classifier ready. Time elapsed: 795.992ms\n",
      "\n",
      "*** Training of model 'GradientBoostingClassifier' started.\n",
      "*** Training of classifier ready. Time elapsed: 577.593ms\n",
      "\n",
      "*** Training of model 'GradientBoostingClassifier' started.\n",
      "*** Training of classifier ready. Time elapsed: 294.798ms\n",
      "\n",
      "*** Training of model 'GradientBoostingClassifier' started.\n",
      "*** Training of classifier ready. Time elapsed: 139.43ms\n",
      "\n",
      "*** Training of model 'GradientBoostingClassifier' started.\n",
      "*** Training of classifier ready. Time elapsed: 838.882ms\n",
      "\n",
      "*** Training of model 'GradientBoostingClassifier' started.\n",
      "*** Training of classifier ready. Time elapsed: 581.372ms\n",
      "\n",
      "*** Training of model 'GradientBoostingClassifier' started.\n",
      "*** Training of classifier ready. Time elapsed: 690.843ms\n",
      "\n"
     ]
    },
    {
     "name": "stderr",
     "output_type": "stream",
     "text": [
      "Data with input dtype bool, float64 were all converted to float64 by StandardScaler.\n",
      "Data with input dtype bool, float64 were all converted to float64 by StandardScaler.\n",
      "Data with input dtype bool, float64 were all converted to float64 by StandardScaler.\n"
     ]
    },
    {
     "name": "stdout",
     "output_type": "stream",
     "text": [
      "*** Training of model 'GradientBoostingClassifier' started.\n",
      "*** Training of classifier ready. Time elapsed: 673.553ms\n",
      "\n",
      "*** Training of model 'GradientBoostingClassifier' started.\n",
      "*** Training of classifier ready. Time elapsed: 478.074ms\n",
      "\n",
      "*** Training of model 'GradientBoostingClassifier' started.\n",
      "*** Training of classifier ready. Time elapsed: 119.145ms\n",
      "\n",
      "*** Training of model 'GradientBoostingClassifier' started.\n",
      "*** Training of classifier ready. Time elapsed: 106.215ms\n",
      "\n",
      "*** Training of model 'GradientBoostingClassifier' started.\n",
      "*** Training of classifier ready. Time elapsed: 889.825ms\n",
      "\n",
      "*** Training of model 'GradientBoostingClassifier' started.\n",
      "*** Training of classifier ready. Time elapsed: 52.992ms\n",
      "\n",
      "*** Training of model 'GradientBoostingClassifier' started.\n",
      "*** Training of classifier ready. Time elapsed: 924.986ms\n",
      "\n"
     ]
    },
    {
     "name": "stderr",
     "output_type": "stream",
     "text": [
      "Data with input dtype bool, float64 were all converted to float64 by StandardScaler.\n",
      "Data with input dtype bool, float64 were all converted to float64 by StandardScaler.\n",
      "Data with input dtype bool, float64 were all converted to float64 by StandardScaler.\n"
     ]
    },
    {
     "name": "stdout",
     "output_type": "stream",
     "text": [
      "*** Training of model 'GradientBoostingClassifier' started.\n",
      "*** Training of classifier ready. Time elapsed: 397.654ms\n",
      "\n",
      "*** Training of model 'GradientBoostingClassifier' started.\n",
      "*** Training of classifier ready. Time elapsed: 1.081ms\n",
      "\n",
      "*** Training of model 'GradientBoostingClassifier' started.\n",
      "*** Training of classifier ready. Time elapsed: 806.501ms\n",
      "\n",
      "*** Training of model 'GradientBoostingClassifier' started.\n",
      "*** Training of classifier ready. Time elapsed: 952.705ms\n",
      "\n",
      "*** Training of model 'GradientBoostingClassifier' started.\n",
      "*** Training of classifier ready. Time elapsed: 831.954ms\n",
      "\n",
      "*** Training of model 'GradientBoostingClassifier' started.\n",
      "*** Training of classifier ready. Time elapsed: 249.022ms\n",
      "\n",
      "*** Training of model 'GradientBoostingClassifier' started.\n",
      "*** Training of classifier ready. Time elapsed: 129.302ms\n",
      "\n"
     ]
    },
    {
     "name": "stderr",
     "output_type": "stream",
     "text": [
      "Data with input dtype bool, float64 were all converted to float64 by StandardScaler.\n",
      "Data with input dtype bool, float64 were all converted to float64 by StandardScaler.\n",
      "Data with input dtype bool, float64 were all converted to float64 by StandardScaler.\n"
     ]
    },
    {
     "name": "stdout",
     "output_type": "stream",
     "text": [
      "*** Training of model 'GradientBoostingClassifier' started.\n",
      "*** Training of classifier ready. Time elapsed: 899.253ms\n",
      "\n",
      "*** Training of model 'GradientBoostingClassifier' started.\n",
      "*** Training of classifier ready. Time elapsed: 594.73ms\n",
      "\n",
      "*** Training of model 'GradientBoostingClassifier' started.\n",
      "*** Training of classifier ready. Time elapsed: 287.429ms\n",
      "\n",
      "*** Training of model 'GradientBoostingClassifier' started.\n",
      "*** Training of classifier ready. Time elapsed: 25.267ms\n",
      "\n",
      "*** Training of model 'GradientBoostingClassifier' started.\n",
      "*** Training of classifier ready. Time elapsed: 38.0ms\n",
      "\n",
      "*** Training of model 'GradientBoostingClassifier' started.\n",
      "*** Training of classifier ready. Time elapsed: 585.708ms\n",
      "\n",
      "*** Training of model 'GradientBoostingClassifier' started.\n",
      "*** Training of classifier ready. Time elapsed: 637.241ms\n",
      "\n"
     ]
    },
    {
     "name": "stderr",
     "output_type": "stream",
     "text": [
      "Data with input dtype bool, float64 were all converted to float64 by StandardScaler.\n",
      "Data with input dtype bool, float64 were all converted to float64 by StandardScaler.\n",
      "Data with input dtype bool, float64 were all converted to float64 by StandardScaler.\n"
     ]
    },
    {
     "name": "stdout",
     "output_type": "stream",
     "text": [
      "*** Training of model 'GradientBoostingClassifier' started.\n",
      "*** Training of classifier ready. Time elapsed: 854.514ms\n",
      "\n",
      "*** Training of model 'GradientBoostingClassifier' started.\n",
      "*** Training of classifier ready. Time elapsed: 562.298ms\n",
      "\n",
      "*** Training of model 'GradientBoostingClassifier' started.\n",
      "*** Training of classifier ready. Time elapsed: 324.336ms\n",
      "\n",
      "*** Training of model 'GradientBoostingClassifier' started.\n",
      "*** Training of classifier ready. Time elapsed: 85.11ms\n",
      "\n",
      "*** Training of model 'GradientBoostingClassifier' started.\n",
      "*** Training of classifier ready. Time elapsed: 803.685ms\n",
      "\n",
      "*** Training of model 'GradientBoostingClassifier' started.\n",
      "*** Training of classifier ready. Time elapsed: 600.918ms\n",
      "\n",
      "*** Training of model 'GradientBoostingClassifier' started.\n",
      "*** Training of classifier ready. Time elapsed: 607.948ms\n",
      "\n"
     ]
    },
    {
     "name": "stderr",
     "output_type": "stream",
     "text": [
      "Data with input dtype bool, float64 were all converted to float64 by StandardScaler.\n",
      "Data with input dtype bool, float64 were all converted to float64 by StandardScaler.\n",
      "Data with input dtype bool, float64 were all converted to float64 by StandardScaler.\n"
     ]
    },
    {
     "name": "stdout",
     "output_type": "stream",
     "text": [
      "*** Training of model 'GradientBoostingClassifier' started.\n",
      "*** Training of classifier ready. Time elapsed: 757.389ms\n",
      "\n",
      "*** Training of model 'GradientBoostingClassifier' started.\n",
      "*** Training of classifier ready. Time elapsed: 498.559ms\n",
      "\n",
      "*** Training of model 'GradientBoostingClassifier' started.\n",
      "*** Training of classifier ready. Time elapsed: 239.444ms\n",
      "\n",
      "*** Training of model 'GradientBoostingClassifier' started.\n",
      "*** Training of classifier ready. Time elapsed: 7.097ms\n",
      "\n",
      "*** Training of model 'GradientBoostingClassifier' started.\n",
      "*** Training of classifier ready. Time elapsed: 755.609ms\n",
      "\n",
      "*** Training of model 'GradientBoostingClassifier' started.\n",
      "*** Training of classifier ready. Time elapsed: 551.41ms\n",
      "\n",
      "*** Training of model 'GradientBoostingClassifier' started.\n",
      "*** Training of classifier ready. Time elapsed: 565.827ms\n",
      "\n"
     ]
    },
    {
     "name": "stderr",
     "output_type": "stream",
     "text": [
      "Data with input dtype bool, float64 were all converted to float64 by StandardScaler.\n",
      "Data with input dtype bool, float64 were all converted to float64 by StandardScaler.\n",
      "Data with input dtype bool, float64 were all converted to float64 by StandardScaler.\n"
     ]
    },
    {
     "name": "stdout",
     "output_type": "stream",
     "text": [
      "*** Training of model 'GradientBoostingClassifier' started.\n",
      "*** Training of classifier ready. Time elapsed: 835.076ms\n",
      "\n",
      "*** Training of model 'GradientBoostingClassifier' started.\n",
      "*** Training of classifier ready. Time elapsed: 639.026ms\n",
      "\n",
      "*** Training of model 'GradientBoostingClassifier' started.\n",
      "*** Training of classifier ready. Time elapsed: 310.349ms\n",
      "\n",
      "*** Training of model 'GradientBoostingClassifier' started.\n",
      "*** Training of classifier ready. Time elapsed: 118.093ms\n",
      "\n",
      "*** Training of model 'GradientBoostingClassifier' started.\n",
      "*** Training of classifier ready. Time elapsed: 829.196ms\n",
      "\n",
      "*** Training of model 'GradientBoostingClassifier' started.\n",
      "*** Training of classifier ready. Time elapsed: 559.611ms\n",
      "\n",
      "*** Training of model 'GradientBoostingClassifier' started.\n",
      "*** Training of classifier ready. Time elapsed: 636.763ms\n",
      "\n"
     ]
    },
    {
     "name": "stderr",
     "output_type": "stream",
     "text": [
      "Data with input dtype bool, float64 were all converted to float64 by StandardScaler.\n",
      "Data with input dtype bool, float64 were all converted to float64 by StandardScaler.\n",
      "Data with input dtype bool, float64 were all converted to float64 by StandardScaler.\n"
     ]
    },
    {
     "name": "stdout",
     "output_type": "stream",
     "text": [
      "*** Training of model 'GradientBoostingClassifier' started.\n",
      "*** Training of classifier ready. Time elapsed: 778.22ms\n",
      "\n",
      "*** Training of model 'GradientBoostingClassifier' started.\n",
      "*** Training of classifier ready. Time elapsed: 589.383ms\n",
      "\n",
      "*** Training of model 'GradientBoostingClassifier' started.\n",
      "*** Training of classifier ready. Time elapsed: 294.989ms\n",
      "\n",
      "*** Training of model 'GradientBoostingClassifier' started.\n",
      "*** Training of classifier ready. Time elapsed: 50.002ms\n",
      "\n",
      "*** Training of model 'GradientBoostingClassifier' started.\n",
      "*** Training of classifier ready. Time elapsed: 781.784ms\n",
      "\n",
      "*** Training of model 'GradientBoostingClassifier' started.\n",
      "*** Training of classifier ready. Time elapsed: 607.598ms\n",
      "\n",
      "*** Training of model 'GradientBoostingClassifier' started.\n",
      "*** Training of classifier ready. Time elapsed: 534.94ms\n",
      "\n"
     ]
    },
    {
     "name": "stderr",
     "output_type": "stream",
     "text": [
      "Data with input dtype bool, float64 were all converted to float64 by StandardScaler.\n",
      "Data with input dtype bool, float64 were all converted to float64 by StandardScaler.\n",
      "Data with input dtype bool, float64 were all converted to float64 by StandardScaler.\n"
     ]
    },
    {
     "name": "stdout",
     "output_type": "stream",
     "text": [
      "*** Training of model 'RandomForestClassifier' started.\n",
      "*** Training of classifier ready. Time elapsed: 401.927ms\n",
      "\n",
      "*** Training of model 'RandomForestClassifier' started.\n",
      "*** Training of classifier ready. Time elapsed: 409.516ms\n",
      "\n",
      "*** Training of model 'RandomForestClassifier' started.\n",
      "*** Training of classifier ready. Time elapsed: 431.171ms\n",
      "\n",
      "*** Training of model 'RandomForestClassifier' started.\n",
      "*** Training of classifier ready. Time elapsed: 441.982ms\n",
      "\n",
      "*** Training of model 'RandomForestClassifier' started.\n",
      "*** Training of classifier ready. Time elapsed: 263.69ms\n",
      "\n",
      "*** Training of model 'RandomForestClassifier' started.\n",
      "*** Training of classifier ready. Time elapsed: 862.58ms\n",
      "\n",
      "*** Training of model 'RandomForestClassifier' started.\n",
      "*** Training of classifier ready. Time elapsed: 963.698ms\n",
      "\n"
     ]
    },
    {
     "name": "stderr",
     "output_type": "stream",
     "text": [
      "F-score is ill-defined and being set to 0.0 due to no predicted samples.\n",
      "Precision is ill-defined and being set to 0.0 due to no predicted samples.\n",
      "invalid value encountered in long_scalars\n",
      "Data with input dtype bool, float64 were all converted to float64 by StandardScaler.\n",
      "Data with input dtype bool, float64 were all converted to float64 by StandardScaler.\n",
      "Data with input dtype bool, float64 were all converted to float64 by StandardScaler.\n"
     ]
    },
    {
     "name": "stdout",
     "output_type": "stream",
     "text": [
      "*** Training of model 'RandomForestClassifier' started.\n",
      "*** Training of classifier ready. Time elapsed: 411.686ms\n",
      "\n",
      "*** Training of model 'RandomForestClassifier' started.\n",
      "*** Training of classifier ready. Time elapsed: 448.757ms\n",
      "\n",
      "*** Training of model 'RandomForestClassifier' started.\n",
      "*** Training of classifier ready. Time elapsed: 404.977ms\n",
      "\n",
      "*** Training of model 'RandomForestClassifier' started.\n",
      "*** Training of classifier ready. Time elapsed: 418.483ms\n",
      "\n",
      "*** Training of model 'RandomForestClassifier' started.\n",
      "*** Training of classifier ready. Time elapsed: 447.726ms\n",
      "\n",
      "*** Training of model 'RandomForestClassifier' started.\n",
      "*** Training of classifier ready. Time elapsed: 814.155ms\n",
      "\n",
      "*** Training of model 'RandomForestClassifier' started.\n",
      "*** Training of classifier ready. Time elapsed: 248.191ms\n",
      "\n"
     ]
    },
    {
     "name": "stderr",
     "output_type": "stream",
     "text": [
      "F-score is ill-defined and being set to 0.0 due to no predicted samples.\n",
      "Precision is ill-defined and being set to 0.0 due to no predicted samples.\n",
      "invalid value encountered in long_scalars\n",
      "Data with input dtype bool, float64 were all converted to float64 by StandardScaler.\n",
      "Data with input dtype bool, float64 were all converted to float64 by StandardScaler.\n",
      "Data with input dtype bool, float64 were all converted to float64 by StandardScaler.\n"
     ]
    },
    {
     "name": "stdout",
     "output_type": "stream",
     "text": [
      "*** Training of model 'RandomForestClassifier' started.\n",
      "*** Training of classifier ready. Time elapsed: 367.662ms\n",
      "\n",
      "*** Training of model 'RandomForestClassifier' started.\n",
      "*** Training of classifier ready. Time elapsed: 648.051ms\n",
      "\n",
      "*** Training of model 'RandomForestClassifier' started.\n",
      "*** Training of classifier ready. Time elapsed: 459.284ms\n",
      "\n",
      "*** Training of model 'RandomForestClassifier' started.\n",
      "*** Training of classifier ready. Time elapsed: 877.805ms\n",
      "\n",
      "*** Training of model 'RandomForestClassifier' started.\n",
      "*** Training of classifier ready. Time elapsed: 978.172ms\n",
      "\n",
      "*** Training of model 'RandomForestClassifier' started.\n",
      "*** Training of classifier ready. Time elapsed: 271.558ms\n",
      "\n",
      "*** Training of model 'RandomForestClassifier' started.\n",
      "*** Training of classifier ready. Time elapsed: 856.47ms\n",
      "\n"
     ]
    },
    {
     "name": "stderr",
     "output_type": "stream",
     "text": [
      "F-score is ill-defined and being set to 0.0 due to no predicted samples.\n",
      "Precision is ill-defined and being set to 0.0 due to no predicted samples.\n",
      "invalid value encountered in long_scalars\n",
      "Data with input dtype bool, float64 were all converted to float64 by StandardScaler.\n",
      "Data with input dtype bool, float64 were all converted to float64 by StandardScaler.\n",
      "Data with input dtype bool, float64 were all converted to float64 by StandardScaler.\n"
     ]
    },
    {
     "name": "stdout",
     "output_type": "stream",
     "text": [
      "*** Training of model 'RandomForestClassifier' started.\n",
      "*** Training of classifier ready. Time elapsed: 841.307ms\n",
      "\n",
      "*** Training of model 'RandomForestClassifier' started.\n",
      "*** Training of classifier ready. Time elapsed: 46.008ms\n",
      "\n",
      "*** Training of model 'RandomForestClassifier' started.\n",
      "*** Training of classifier ready. Time elapsed: 878.768ms\n",
      "\n",
      "*** Training of model 'RandomForestClassifier' started.\n",
      "*** Training of classifier ready. Time elapsed: 819.472ms\n",
      "\n",
      "*** Training of model 'RandomForestClassifier' started.\n",
      "*** Training of classifier ready. Time elapsed: 446.06ms\n",
      "\n",
      "*** Training of model 'RandomForestClassifier' started.\n",
      "*** Training of classifier ready. Time elapsed: 689.405ms\n",
      "\n",
      "*** Training of model 'RandomForestClassifier' started.\n",
      "*** Training of classifier ready. Time elapsed: 891.148ms\n",
      "\n"
     ]
    },
    {
     "name": "stderr",
     "output_type": "stream",
     "text": [
      "F-score is ill-defined and being set to 0.0 due to no predicted samples.\n",
      "Precision is ill-defined and being set to 0.0 due to no predicted samples.\n",
      "invalid value encountered in long_scalars\n",
      "Data with input dtype bool, float64 were all converted to float64 by StandardScaler.\n",
      "Data with input dtype bool, float64 were all converted to float64 by StandardScaler.\n",
      "Data with input dtype bool, float64 were all converted to float64 by StandardScaler.\n"
     ]
    },
    {
     "name": "stdout",
     "output_type": "stream",
     "text": [
      "*** Training of model 'RandomForestClassifier' started.\n",
      "*** Training of classifier ready. Time elapsed: 60.087ms\n",
      "\n",
      "*** Training of model 'RandomForestClassifier' started.\n",
      "*** Training of classifier ready. Time elapsed: 313.792ms\n",
      "\n",
      "*** Training of model 'RandomForestClassifier' started.\n",
      "*** Training of classifier ready. Time elapsed: 237.577ms\n",
      "\n",
      "*** Training of model 'RandomForestClassifier' started.\n",
      "*** Training of classifier ready. Time elapsed: 251.16ms\n",
      "\n",
      "*** Training of model 'RandomForestClassifier' started.\n",
      "*** Training of classifier ready. Time elapsed: 843.603ms\n",
      "\n",
      "*** Training of model 'RandomForestClassifier' started.\n",
      "*** Training of classifier ready. Time elapsed: 828.561ms\n",
      "\n",
      "*** Training of model 'RandomForestClassifier' started.\n",
      "*** Training of classifier ready. Time elapsed: 237.41ms\n",
      "\n"
     ]
    },
    {
     "name": "stderr",
     "output_type": "stream",
     "text": [
      "F-score is ill-defined and being set to 0.0 due to no predicted samples.\n",
      "Precision is ill-defined and being set to 0.0 due to no predicted samples.\n",
      "invalid value encountered in long_scalars\n",
      "Data with input dtype bool, float64 were all converted to float64 by StandardScaler.\n",
      "Data with input dtype bool, float64 were all converted to float64 by StandardScaler.\n",
      "Data with input dtype bool, float64 were all converted to float64 by StandardScaler.\n"
     ]
    },
    {
     "name": "stdout",
     "output_type": "stream",
     "text": [
      "*** Training of model 'RandomForestClassifier' started.\n",
      "*** Training of classifier ready. Time elapsed: 24.1ms\n",
      "\n",
      "*** Training of model 'RandomForestClassifier' started.\n",
      "*** Training of classifier ready. Time elapsed: 959.11ms\n",
      "\n",
      "*** Training of model 'RandomForestClassifier' started.\n",
      "*** Training of classifier ready. Time elapsed: 756.883ms\n",
      "\n",
      "*** Training of model 'RandomForestClassifier' started.\n",
      "*** Training of classifier ready. Time elapsed: 639.095ms\n",
      "\n",
      "*** Training of model 'RandomForestClassifier' started.\n",
      "*** Training of classifier ready. Time elapsed: 880.423ms\n",
      "\n",
      "*** Training of model 'RandomForestClassifier' started.\n",
      "*** Training of classifier ready. Time elapsed: 444.212ms\n",
      "\n",
      "*** Training of model 'RandomForestClassifier' started.\n",
      "*** Training of classifier ready. Time elapsed: 738.87ms\n",
      "\n"
     ]
    },
    {
     "name": "stderr",
     "output_type": "stream",
     "text": [
      "Data with input dtype bool, float64 were all converted to float64 by StandardScaler.\n",
      "Data with input dtype bool, float64 were all converted to float64 by StandardScaler.\n",
      "Data with input dtype bool, float64 were all converted to float64 by StandardScaler.\n"
     ]
    },
    {
     "name": "stdout",
     "output_type": "stream",
     "text": [
      "*** Training of model 'RandomForestClassifier' started.\n",
      "*** Training of classifier ready. Time elapsed: 714.604ms\n",
      "\n",
      "*** Training of model 'RandomForestClassifier' started.\n",
      "*** Training of classifier ready. Time elapsed: 674.718ms\n",
      "\n",
      "*** Training of model 'RandomForestClassifier' started.\n",
      "*** Training of classifier ready. Time elapsed: 390.781ms\n",
      "\n",
      "*** Training of model 'RandomForestClassifier' started.\n",
      "*** Training of classifier ready. Time elapsed: 359.388ms\n",
      "\n",
      "*** Training of model 'RandomForestClassifier' started.\n",
      "*** Training of classifier ready. Time elapsed: 650.71ms\n",
      "\n",
      "*** Training of model 'RandomForestClassifier' started.\n",
      "*** Training of classifier ready. Time elapsed: 588.893ms\n",
      "\n",
      "*** Training of model 'RandomForestClassifier' started.\n",
      "*** Training of classifier ready. Time elapsed: 376.742ms\n",
      "\n"
     ]
    },
    {
     "name": "stderr",
     "output_type": "stream",
     "text": [
      "Data with input dtype bool, float64 were all converted to float64 by StandardScaler.\n",
      "Data with input dtype bool, float64 were all converted to float64 by StandardScaler.\n",
      "Data with input dtype bool, float64 were all converted to float64 by StandardScaler.\n"
     ]
    },
    {
     "name": "stdout",
     "output_type": "stream",
     "text": [
      "*** Training of model 'RandomForestClassifier' started.\n",
      "*** Training of classifier ready. Time elapsed: 174.205ms\n",
      "\n",
      "*** Training of model 'RandomForestClassifier' started.\n",
      "*** Training of classifier ready. Time elapsed: 895.946ms\n",
      "\n",
      "*** Training of model 'RandomForestClassifier' started.\n",
      "*** Training of classifier ready. Time elapsed: 733.112ms\n",
      "\n",
      "*** Training of model 'RandomForestClassifier' started.\n",
      "*** Training of classifier ready. Time elapsed: 446.226ms\n",
      "\n",
      "*** Training of model 'RandomForestClassifier' started.\n",
      "*** Training of classifier ready. Time elapsed: 365.479ms\n",
      "\n",
      "*** Training of model 'RandomForestClassifier' started.\n",
      "*** Training of classifier ready. Time elapsed: 409.377ms\n",
      "\n",
      "*** Training of model 'RandomForestClassifier' started.\n",
      "*** Training of classifier ready. Time elapsed: 351.067ms\n",
      "\n"
     ]
    },
    {
     "name": "stderr",
     "output_type": "stream",
     "text": [
      "Data with input dtype bool, float64 were all converted to float64 by StandardScaler.\n",
      "Data with input dtype bool, float64 were all converted to float64 by StandardScaler.\n",
      "Data with input dtype bool, float64 were all converted to float64 by StandardScaler.\n"
     ]
    },
    {
     "name": "stdout",
     "output_type": "stream",
     "text": [
      "*** Training of model 'RandomForestClassifier' started.\n",
      "*** Training of classifier ready. Time elapsed: 412.404ms\n",
      "\n",
      "*** Training of model 'RandomForestClassifier' started.\n",
      "*** Training of classifier ready. Time elapsed: 354.253ms\n",
      "\n",
      "*** Training of model 'RandomForestClassifier' started.\n",
      "*** Training of classifier ready. Time elapsed: 437.071ms\n",
      "\n",
      "*** Training of model 'RandomForestClassifier' started.\n",
      "*** Training of classifier ready. Time elapsed: 723.45ms\n",
      "\n",
      "*** Training of model 'RandomForestClassifier' started.\n",
      "*** Training of classifier ready. Time elapsed: 342.68ms\n",
      "\n",
      "*** Training of model 'RandomForestClassifier' started.\n",
      "*** Training of classifier ready. Time elapsed: 829.82ms\n",
      "\n",
      "*** Training of model 'RandomForestClassifier' started.\n",
      "*** Training of classifier ready. Time elapsed: 737.844ms\n",
      "\n"
     ]
    },
    {
     "name": "stderr",
     "output_type": "stream",
     "text": [
      "Data with input dtype bool, float64 were all converted to float64 by StandardScaler.\n",
      "Data with input dtype bool, float64 were all converted to float64 by StandardScaler.\n",
      "Data with input dtype bool, float64 were all converted to float64 by StandardScaler.\n"
     ]
    },
    {
     "name": "stdout",
     "output_type": "stream",
     "text": [
      "*** Training of model 'RandomForestClassifier' started.\n",
      "*** Training of classifier ready. Time elapsed: 392.857ms\n",
      "\n",
      "*** Training of model 'RandomForestClassifier' started.\n",
      "*** Training of classifier ready. Time elapsed: 440.355ms\n",
      "\n",
      "*** Training of model 'RandomForestClassifier' started.\n",
      "*** Training of classifier ready. Time elapsed: 490.494ms\n",
      "\n",
      "*** Training of model 'RandomForestClassifier' started.\n",
      "*** Training of classifier ready. Time elapsed: 96.827ms\n",
      "\n",
      "*** Training of model 'RandomForestClassifier' started.\n",
      "*** Training of classifier ready. Time elapsed: 742.172ms\n",
      "\n",
      "*** Training of model 'RandomForestClassifier' started.\n",
      "*** Training of classifier ready. Time elapsed: 781.618ms\n",
      "\n",
      "*** Training of model 'RandomForestClassifier' started.\n",
      "*** Training of classifier ready. Time elapsed: 734.178ms\n",
      "\n"
     ]
    },
    {
     "name": "stderr",
     "output_type": "stream",
     "text": [
      "Data with input dtype bool, float64 were all converted to float64 by StandardScaler.\n",
      "Data with input dtype bool, float64 were all converted to float64 by StandardScaler.\n",
      "Data with input dtype bool, float64 were all converted to float64 by StandardScaler.\n"
     ]
    },
    {
     "name": "stdout",
     "output_type": "stream",
     "text": [
      "*** Training of model 'RandomForestClassifier' started.\n",
      "*** Training of classifier ready. Time elapsed: 831.88ms\n",
      "\n",
      "*** Training of model 'RandomForestClassifier' started.\n",
      "*** Training of classifier ready. Time elapsed: 588.652ms\n",
      "\n",
      "*** Training of model 'RandomForestClassifier' started.\n",
      "*** Training of classifier ready. Time elapsed: 495.467ms\n",
      "\n",
      "*** Training of model 'RandomForestClassifier' started.\n",
      "*** Training of classifier ready. Time elapsed: 613.437ms\n",
      "\n",
      "*** Training of model 'RandomForestClassifier' started.\n",
      "*** Training of classifier ready. Time elapsed: 932.37ms\n",
      "\n",
      "*** Training of model 'RandomForestClassifier' started.\n",
      "*** Training of classifier ready. Time elapsed: 802.814ms\n",
      "\n",
      "*** Training of model 'RandomForestClassifier' started.\n",
      "*** Training of classifier ready. Time elapsed: 563.129ms\n",
      "\n"
     ]
    },
    {
     "name": "stderr",
     "output_type": "stream",
     "text": [
      "Data with input dtype bool, float64 were all converted to float64 by StandardScaler.\n",
      "Data with input dtype bool, float64 were all converted to float64 by StandardScaler.\n",
      "Data with input dtype bool, float64 were all converted to float64 by StandardScaler.\n"
     ]
    },
    {
     "name": "stdout",
     "output_type": "stream",
     "text": [
      "*** Training of model 'RandomForestClassifier' started.\n",
      "*** Training of classifier ready. Time elapsed: 827.289ms\n",
      "\n",
      "*** Training of model 'RandomForestClassifier' started.\n",
      "*** Training of classifier ready. Time elapsed: 948.58ms\n",
      "\n",
      "*** Training of model 'RandomForestClassifier' started.\n",
      "*** Training of classifier ready. Time elapsed: 931.674ms\n",
      "\n",
      "*** Training of model 'RandomForestClassifier' started.\n",
      "*** Training of classifier ready. Time elapsed: 863.417ms\n",
      "\n",
      "*** Training of model 'RandomForestClassifier' started.\n",
      "*** Training of classifier ready. Time elapsed: 759.459ms\n",
      "\n",
      "*** Training of model 'RandomForestClassifier' started.\n",
      "*** Training of classifier ready. Time elapsed: 309.637ms\n",
      "\n",
      "*** Training of model 'RandomForestClassifier' started.\n",
      "*** Training of classifier ready. Time elapsed: 24.989ms\n",
      "\n"
     ]
    },
    {
     "name": "stderr",
     "output_type": "stream",
     "text": [
      "Data with input dtype bool, float64 were all converted to float64 by StandardScaler.\n",
      "Data with input dtype bool, float64 were all converted to float64 by StandardScaler.\n",
      "Data with input dtype bool, float64 were all converted to float64 by StandardScaler.\n"
     ]
    },
    {
     "name": "stdout",
     "output_type": "stream",
     "text": [
      "*** Training of model 'RandomForestClassifier' started.\n",
      "*** Training of classifier ready. Time elapsed: 322.776ms\n",
      "\n",
      "*** Training of model 'RandomForestClassifier' started.\n",
      "*** Training of classifier ready. Time elapsed: 202.831ms\n",
      "\n",
      "*** Training of model 'RandomForestClassifier' started.\n",
      "*** Training of classifier ready. Time elapsed: 719.953ms\n",
      "\n",
      "*** Training of model 'RandomForestClassifier' started.\n",
      "*** Training of classifier ready. Time elapsed: 250.839ms\n",
      "\n",
      "*** Training of model 'RandomForestClassifier' started.\n",
      "*** Training of classifier ready. Time elapsed: 971.125ms\n",
      "\n",
      "*** Training of model 'RandomForestClassifier' started.\n",
      "*** Training of classifier ready. Time elapsed: 148.03ms\n",
      "\n",
      "*** Training of model 'RandomForestClassifier' started.\n",
      "*** Training of classifier ready. Time elapsed: 369.576ms\n",
      "\n"
     ]
    },
    {
     "name": "stderr",
     "output_type": "stream",
     "text": [
      "Data with input dtype bool, float64 were all converted to float64 by StandardScaler.\n",
      "Data with input dtype bool, float64 were all converted to float64 by StandardScaler.\n",
      "Data with input dtype bool, float64 were all converted to float64 by StandardScaler.\n"
     ]
    },
    {
     "name": "stdout",
     "output_type": "stream",
     "text": [
      "*** Training of model 'RandomForestClassifier' started.\n",
      "*** Training of classifier ready. Time elapsed: 596.231ms\n",
      "\n",
      "*** Training of model 'RandomForestClassifier' started.\n",
      "*** Training of classifier ready. Time elapsed: 673.903ms\n",
      "\n",
      "*** Training of model 'RandomForestClassifier' started.\n",
      "*** Training of classifier ready. Time elapsed: 491.426ms\n",
      "\n",
      "*** Training of model 'RandomForestClassifier' started.\n",
      "*** Training of classifier ready. Time elapsed: 423.164ms\n",
      "\n",
      "*** Training of model 'RandomForestClassifier' started.\n",
      "*** Training of classifier ready. Time elapsed: 202.867ms\n",
      "\n",
      "*** Training of model 'RandomForestClassifier' started.\n",
      "*** Training of classifier ready. Time elapsed: 849.259ms\n",
      "\n",
      "*** Training of model 'RandomForestClassifier' started.\n",
      "*** Training of classifier ready. Time elapsed: 230.048ms\n",
      "\n"
     ]
    },
    {
     "name": "stderr",
     "output_type": "stream",
     "text": [
      "Data with input dtype bool, float64 were all converted to float64 by StandardScaler.\n",
      "Data with input dtype bool, float64 were all converted to float64 by StandardScaler.\n",
      "Data with input dtype bool, float64 were all converted to float64 by StandardScaler.\n"
     ]
    },
    {
     "name": "stdout",
     "output_type": "stream",
     "text": [
      "*** Training of model 'RandomForestClassifier' started.\n",
      "*** Training of classifier ready. Time elapsed: 603.933ms\n",
      "\n",
      "*** Training of model 'RandomForestClassifier' started.\n",
      "*** Training of classifier ready. Time elapsed: 891.434ms\n",
      "\n",
      "*** Training of model 'RandomForestClassifier' started.\n",
      "*** Training of classifier ready. Time elapsed: 813.334ms\n",
      "\n",
      "*** Training of model 'RandomForestClassifier' started.\n",
      "*** Training of classifier ready. Time elapsed: 408.85ms\n",
      "\n",
      "*** Training of model 'RandomForestClassifier' started.\n",
      "*** Training of classifier ready. Time elapsed: 418.239ms\n",
      "\n",
      "*** Training of model 'RandomForestClassifier' started.\n",
      "*** Training of classifier ready. Time elapsed: 430.612ms\n",
      "\n",
      "*** Training of model 'RandomForestClassifier' started.\n",
      "*** Training of classifier ready. Time elapsed: 789.786ms\n",
      "\n"
     ]
    },
    {
     "name": "stderr",
     "output_type": "stream",
     "text": [
      "Data with input dtype bool, float64 were all converted to float64 by StandardScaler.\n",
      "Data with input dtype bool, float64 were all converted to float64 by StandardScaler.\n",
      "Data with input dtype bool, float64 were all converted to float64 by StandardScaler.\n"
     ]
    },
    {
     "name": "stdout",
     "output_type": "stream",
     "text": [
      "*** Training of model 'RandomForestClassifier' started.\n",
      "*** Training of classifier ready. Time elapsed: 447.175ms\n",
      "\n",
      "*** Training of model 'RandomForestClassifier' started.\n",
      "*** Training of classifier ready. Time elapsed: 427.166ms\n",
      "\n",
      "*** Training of model 'RandomForestClassifier' started.\n",
      "*** Training of classifier ready. Time elapsed: 437.281ms\n",
      "\n",
      "*** Training of model 'RandomForestClassifier' started.\n",
      "*** Training of classifier ready. Time elapsed: 422.7ms\n",
      "\n",
      "*** Training of model 'RandomForestClassifier' started.\n",
      "*** Training of classifier ready. Time elapsed: 395.523ms\n",
      "\n",
      "*** Training of model 'RandomForestClassifier' started.\n",
      "*** Training of classifier ready. Time elapsed: 408.669ms\n",
      "\n",
      "*** Training of model 'RandomForestClassifier' started.\n",
      "*** Training of classifier ready. Time elapsed: 397.772ms\n",
      "\n"
     ]
    },
    {
     "name": "stderr",
     "output_type": "stream",
     "text": [
      "F-score is ill-defined and being set to 0.0 due to no predicted samples.\n",
      "Precision is ill-defined and being set to 0.0 due to no predicted samples.\n",
      "invalid value encountered in long_scalars\n",
      "Data with input dtype bool, float64 were all converted to float64 by StandardScaler.\n",
      "Data with input dtype bool, float64 were all converted to float64 by StandardScaler.\n",
      "Data with input dtype bool, float64 were all converted to float64 by StandardScaler.\n"
     ]
    },
    {
     "name": "stdout",
     "output_type": "stream",
     "text": [
      "*** Training of model 'RandomForestClassifier' started.\n",
      "*** Training of classifier ready. Time elapsed: 427.585ms\n",
      "\n",
      "*** Training of model 'RandomForestClassifier' started.\n",
      "*** Training of classifier ready. Time elapsed: 413.816ms\n",
      "\n",
      "*** Training of model 'RandomForestClassifier' started.\n",
      "*** Training of classifier ready. Time elapsed: 404.461ms\n",
      "\n",
      "*** Training of model 'RandomForestClassifier' started.\n",
      "*** Training of classifier ready. Time elapsed: 433.039ms\n",
      "\n",
      "*** Training of model 'RandomForestClassifier' started.\n",
      "*** Training of classifier ready. Time elapsed: 395.222ms\n",
      "\n",
      "*** Training of model 'RandomForestClassifier' started.\n",
      "*** Training of classifier ready. Time elapsed: 376.656ms\n",
      "\n",
      "*** Training of model 'RandomForestClassifier' started.\n",
      "*** Training of classifier ready. Time elapsed: 413.583ms\n",
      "\n"
     ]
    },
    {
     "name": "stderr",
     "output_type": "stream",
     "text": [
      "F-score is ill-defined and being set to 0.0 due to no predicted samples.\n",
      "Precision is ill-defined and being set to 0.0 due to no predicted samples.\n",
      "invalid value encountered in long_scalars\n",
      "Data with input dtype bool, float64 were all converted to float64 by StandardScaler.\n",
      "Data with input dtype bool, float64 were all converted to float64 by StandardScaler.\n",
      "Data with input dtype bool, float64 were all converted to float64 by StandardScaler.\n"
     ]
    },
    {
     "name": "stdout",
     "output_type": "stream",
     "text": [
      "*** Training of model 'RandomForestClassifier' started.\n",
      "*** Training of classifier ready. Time elapsed: 419.389ms\n",
      "\n",
      "*** Training of model 'RandomForestClassifier' started.\n",
      "*** Training of classifier ready. Time elapsed: 424.681ms\n",
      "\n",
      "*** Training of model 'RandomForestClassifier' started.\n",
      "*** Training of classifier ready. Time elapsed: 440.015ms\n",
      "\n",
      "*** Training of model 'RandomForestClassifier' started.\n",
      "*** Training of classifier ready. Time elapsed: 462.399ms\n",
      "\n",
      "*** Training of model 'RandomForestClassifier' started.\n",
      "*** Training of classifier ready. Time elapsed: 392.307ms\n",
      "\n",
      "*** Training of model 'RandomForestClassifier' started.\n",
      "*** Training of classifier ready. Time elapsed: 408.731ms\n",
      "\n",
      "*** Training of model 'RandomForestClassifier' started.\n",
      "*** Training of classifier ready. Time elapsed: 418.348ms\n",
      "\n"
     ]
    },
    {
     "name": "stderr",
     "output_type": "stream",
     "text": [
      "F-score is ill-defined and being set to 0.0 due to no predicted samples.\n",
      "Precision is ill-defined and being set to 0.0 due to no predicted samples.\n",
      "invalid value encountered in long_scalars\n",
      "Data with input dtype bool, float64 were all converted to float64 by StandardScaler.\n",
      "Data with input dtype bool, float64 were all converted to float64 by StandardScaler.\n",
      "Data with input dtype bool, float64 were all converted to float64 by StandardScaler.\n"
     ]
    },
    {
     "name": "stdout",
     "output_type": "stream",
     "text": [
      "*** Training of model 'RandomForestClassifier' started.\n",
      "*** Training of classifier ready. Time elapsed: 412.357ms\n",
      "\n",
      "*** Training of model 'RandomForestClassifier' started.\n",
      "*** Training of classifier ready. Time elapsed: 426.9ms\n",
      "\n",
      "*** Training of model 'RandomForestClassifier' started.\n",
      "*** Training of classifier ready. Time elapsed: 425.673ms\n",
      "\n",
      "*** Training of model 'RandomForestClassifier' started.\n",
      "*** Training of classifier ready. Time elapsed: 428.91ms\n",
      "\n",
      "*** Training of model 'RandomForestClassifier' started.\n",
      "*** Training of classifier ready. Time elapsed: 385.288ms\n",
      "\n",
      "*** Training of model 'RandomForestClassifier' started.\n",
      "*** Training of classifier ready. Time elapsed: 389.565ms\n",
      "\n",
      "*** Training of model 'RandomForestClassifier' started.\n",
      "*** Training of classifier ready. Time elapsed: 406.69ms\n",
      "\n"
     ]
    },
    {
     "name": "stderr",
     "output_type": "stream",
     "text": [
      "F-score is ill-defined and being set to 0.0 due to no predicted samples.\n",
      "Precision is ill-defined and being set to 0.0 due to no predicted samples.\n",
      "invalid value encountered in long_scalars\n",
      "Data with input dtype bool, float64 were all converted to float64 by StandardScaler.\n",
      "Data with input dtype bool, float64 were all converted to float64 by StandardScaler.\n",
      "Data with input dtype bool, float64 were all converted to float64 by StandardScaler.\n"
     ]
    },
    {
     "name": "stdout",
     "output_type": "stream",
     "text": [
      "*** Training of model 'RandomForestClassifier' started.\n",
      "*** Training of classifier ready. Time elapsed: 418.541ms\n",
      "\n",
      "*** Training of model 'RandomForestClassifier' started.\n",
      "*** Training of classifier ready. Time elapsed: 423.67ms\n",
      "\n",
      "*** Training of model 'RandomForestClassifier' started.\n",
      "*** Training of classifier ready. Time elapsed: 490.775ms\n",
      "\n",
      "*** Training of model 'RandomForestClassifier' started.\n",
      "*** Training of classifier ready. Time elapsed: 446.549ms\n",
      "\n",
      "*** Training of model 'RandomForestClassifier' started.\n",
      "*** Training of classifier ready. Time elapsed: 400.593ms\n",
      "\n",
      "*** Training of model 'RandomForestClassifier' started.\n",
      "*** Training of classifier ready. Time elapsed: 416.29ms\n",
      "\n",
      "*** Training of model 'RandomForestClassifier' started.\n",
      "*** Training of classifier ready. Time elapsed: 427.045ms\n",
      "\n"
     ]
    },
    {
     "name": "stderr",
     "output_type": "stream",
     "text": [
      "F-score is ill-defined and being set to 0.0 due to no predicted samples.\n",
      "Precision is ill-defined and being set to 0.0 due to no predicted samples.\n",
      "invalid value encountered in long_scalars\n",
      "Data with input dtype bool, float64 were all converted to float64 by StandardScaler.\n",
      "Data with input dtype bool, float64 were all converted to float64 by StandardScaler.\n",
      "Data with input dtype bool, float64 were all converted to float64 by StandardScaler.\n"
     ]
    },
    {
     "name": "stdout",
     "output_type": "stream",
     "text": [
      "*** Training of model 'DecisionTreeClassifier' started.\n",
      "*** Training of classifier ready. Time elapsed: 65.646ms\n",
      "\n",
      "*** Training of model 'DecisionTreeClassifier' started.\n",
      "*** Training of classifier ready. Time elapsed: 58.407ms\n",
      "\n",
      "*** Training of model 'DecisionTreeClassifier' started.\n",
      "*** Training of classifier ready. Time elapsed: 50.743ms\n",
      "\n",
      "*** Training of model 'DecisionTreeClassifier' started.\n",
      "*** Training of classifier ready. Time elapsed: 45.53ms\n",
      "\n",
      "*** Training of model 'DecisionTreeClassifier' started.\n",
      "*** Training of classifier ready. Time elapsed: 39.262ms\n",
      "\n",
      "*** Training of model 'DecisionTreeClassifier' started.\n",
      "*** Training of classifier ready. Time elapsed: 34.292ms\n",
      "\n",
      "*** Training of model 'DecisionTreeClassifier' started.\n",
      "*** Training of classifier ready. Time elapsed: 60.289ms\n",
      "\n"
     ]
    },
    {
     "name": "stderr",
     "output_type": "stream",
     "text": [
      "Data with input dtype bool, float64 were all converted to float64 by StandardScaler.\n",
      "Data with input dtype bool, float64 were all converted to float64 by StandardScaler.\n",
      "Data with input dtype bool, float64 were all converted to float64 by StandardScaler.\n"
     ]
    },
    {
     "name": "stdout",
     "output_type": "stream",
     "text": [
      "*** Training of model 'DecisionTreeClassifier' started.\n",
      "*** Training of classifier ready. Time elapsed: 63.422ms\n",
      "\n",
      "*** Training of model 'DecisionTreeClassifier' started.\n",
      "*** Training of classifier ready. Time elapsed: 55.057ms\n",
      "\n",
      "*** Training of model 'DecisionTreeClassifier' started.\n",
      "*** Training of classifier ready. Time elapsed: 49.147ms\n",
      "\n",
      "*** Training of model 'DecisionTreeClassifier' started.\n",
      "*** Training of classifier ready. Time elapsed: 42.86ms\n",
      "\n",
      "*** Training of model 'DecisionTreeClassifier' started.\n",
      "*** Training of classifier ready. Time elapsed: 37.142ms\n",
      "\n",
      "*** Training of model 'DecisionTreeClassifier' started.\n",
      "*** Training of classifier ready. Time elapsed: 32.502ms\n",
      "\n",
      "*** Training of model 'DecisionTreeClassifier' started.\n",
      "*** Training of classifier ready. Time elapsed: 60.913ms\n",
      "\n"
     ]
    },
    {
     "name": "stderr",
     "output_type": "stream",
     "text": [
      "Data with input dtype bool, float64 were all converted to float64 by StandardScaler.\n",
      "Data with input dtype bool, float64 were all converted to float64 by StandardScaler.\n",
      "Data with input dtype bool, float64 were all converted to float64 by StandardScaler.\n"
     ]
    },
    {
     "name": "stdout",
     "output_type": "stream",
     "text": [
      "*** Training of model 'DecisionTreeClassifier' started.\n",
      "*** Training of classifier ready. Time elapsed: 69.233ms\n",
      "\n",
      "*** Training of model 'DecisionTreeClassifier' started.\n",
      "*** Training of classifier ready. Time elapsed: 62.19ms\n",
      "\n",
      "*** Training of model 'DecisionTreeClassifier' started.\n",
      "*** Training of classifier ready. Time elapsed: 54.441ms\n",
      "\n",
      "*** Training of model 'DecisionTreeClassifier' started.\n",
      "*** Training of classifier ready. Time elapsed: 48.314ms\n",
      "\n",
      "*** Training of model 'DecisionTreeClassifier' started.\n",
      "*** Training of classifier ready. Time elapsed: 40.894ms\n",
      "\n",
      "*** Training of model 'DecisionTreeClassifier' started.\n",
      "*** Training of classifier ready. Time elapsed: 36.878ms\n",
      "\n",
      "*** Training of model 'DecisionTreeClassifier' started.\n",
      "*** Training of classifier ready. Time elapsed: 62.321ms\n",
      "\n"
     ]
    },
    {
     "name": "stderr",
     "output_type": "stream",
     "text": [
      "Data with input dtype bool, float64 were all converted to float64 by StandardScaler.\n",
      "Data with input dtype bool, float64 were all converted to float64 by StandardScaler.\n",
      "Data with input dtype bool, float64 were all converted to float64 by StandardScaler.\n"
     ]
    },
    {
     "name": "stdout",
     "output_type": "stream",
     "text": [
      "*** Training of model 'DecisionTreeClassifier' started.\n",
      "*** Training of classifier ready. Time elapsed: 61.39ms\n",
      "\n",
      "*** Training of model 'DecisionTreeClassifier' started.\n",
      "*** Training of classifier ready. Time elapsed: 54.25ms\n",
      "\n",
      "*** Training of model 'DecisionTreeClassifier' started.\n",
      "*** Training of classifier ready. Time elapsed: 47.809ms\n",
      "\n",
      "*** Training of model 'DecisionTreeClassifier' started.\n",
      "*** Training of classifier ready. Time elapsed: 41.547ms\n",
      "\n",
      "*** Training of model 'DecisionTreeClassifier' started.\n",
      "*** Training of classifier ready. Time elapsed: 35.495ms\n",
      "\n",
      "*** Training of model 'DecisionTreeClassifier' started.\n",
      "*** Training of classifier ready. Time elapsed: 32.474ms\n",
      "\n",
      "*** Training of model 'DecisionTreeClassifier' started.\n",
      "*** Training of classifier ready. Time elapsed: 58.478ms\n",
      "\n"
     ]
    },
    {
     "name": "stderr",
     "output_type": "stream",
     "text": [
      "Data with input dtype bool, float64 were all converted to float64 by StandardScaler.\n",
      "Data with input dtype bool, float64 were all converted to float64 by StandardScaler.\n",
      "Data with input dtype bool, float64 were all converted to float64 by StandardScaler.\n"
     ]
    },
    {
     "name": "stdout",
     "output_type": "stream",
     "text": [
      "*** Training of model 'DecisionTreeClassifier' started.\n",
      "*** Training of classifier ready. Time elapsed: 62.586ms\n",
      "\n",
      "*** Training of model 'DecisionTreeClassifier' started.\n",
      "*** Training of classifier ready. Time elapsed: 55.193ms\n",
      "\n",
      "*** Training of model 'DecisionTreeClassifier' started.\n",
      "*** Training of classifier ready. Time elapsed: 47.923ms\n",
      "\n",
      "*** Training of model 'DecisionTreeClassifier' started.\n",
      "*** Training of classifier ready. Time elapsed: 43.231ms\n",
      "\n",
      "*** Training of model 'DecisionTreeClassifier' started.\n",
      "*** Training of classifier ready. Time elapsed: 36.751ms\n",
      "\n",
      "*** Training of model 'DecisionTreeClassifier' started.\n",
      "*** Training of classifier ready. Time elapsed: 32.497ms\n",
      "\n",
      "*** Training of model 'DecisionTreeClassifier' started.\n",
      "*** Training of classifier ready. Time elapsed: 60.588ms\n",
      "\n"
     ]
    },
    {
     "name": "stderr",
     "output_type": "stream",
     "text": [
      "Data with input dtype bool, float64 were all converted to float64 by StandardScaler.\n",
      "Data with input dtype bool, float64 were all converted to float64 by StandardScaler.\n",
      "Data with input dtype bool, float64 were all converted to float64 by StandardScaler.\n"
     ]
    },
    {
     "name": "stdout",
     "output_type": "stream",
     "text": [
      "*** Training of model 'DecisionTreeClassifier' started.\n",
      "*** Training of classifier ready. Time elapsed: 65.193ms\n",
      "\n",
      "*** Training of model 'DecisionTreeClassifier' started.\n",
      "*** Training of classifier ready. Time elapsed: 60.393ms\n",
      "\n",
      "*** Training of model 'DecisionTreeClassifier' started.\n",
      "*** Training of classifier ready. Time elapsed: 51.467ms\n",
      "\n",
      "*** Training of model 'DecisionTreeClassifier' started.\n",
      "*** Training of classifier ready. Time elapsed: 45.626ms\n",
      "\n",
      "*** Training of model 'DecisionTreeClassifier' started.\n",
      "*** Training of classifier ready. Time elapsed: 38.368ms\n",
      "\n",
      "*** Training of model 'DecisionTreeClassifier' started.\n",
      "*** Training of classifier ready. Time elapsed: 34.576ms\n",
      "\n",
      "*** Training of model 'DecisionTreeClassifier' started.\n",
      "*** Training of classifier ready. Time elapsed: 6.321ms\n",
      "\n"
     ]
    },
    {
     "name": "stderr",
     "output_type": "stream",
     "text": [
      "Data with input dtype bool, float64 were all converted to float64 by StandardScaler.\n",
      "Data with input dtype bool, float64 were all converted to float64 by StandardScaler.\n",
      "Data with input dtype bool, float64 were all converted to float64 by StandardScaler.\n"
     ]
    },
    {
     "name": "stdout",
     "output_type": "stream",
     "text": [
      "*** Training of model 'DecisionTreeClassifier' started.\n",
      "*** Training of classifier ready. Time elapsed: 62.63ms\n",
      "\n",
      "*** Training of model 'DecisionTreeClassifier' started.\n",
      "*** Training of classifier ready. Time elapsed: 56.091ms\n",
      "\n",
      "*** Training of model 'DecisionTreeClassifier' started.\n",
      "*** Training of classifier ready. Time elapsed: 48.1ms\n",
      "\n",
      "*** Training of model 'DecisionTreeClassifier' started.\n",
      "*** Training of classifier ready. Time elapsed: 42.771ms\n",
      "\n",
      "*** Training of model 'DecisionTreeClassifier' started.\n",
      "*** Training of classifier ready. Time elapsed: 36.68ms\n",
      "\n",
      "*** Training of model 'DecisionTreeClassifier' started.\n",
      "*** Training of classifier ready. Time elapsed: 32.659ms\n",
      "\n",
      "*** Training of model 'DecisionTreeClassifier' started.\n",
      "*** Training of classifier ready. Time elapsed: 6.377ms\n",
      "\n"
     ]
    },
    {
     "name": "stderr",
     "output_type": "stream",
     "text": [
      "Data with input dtype bool, float64 were all converted to float64 by StandardScaler.\n",
      "Data with input dtype bool, float64 were all converted to float64 by StandardScaler.\n",
      "Data with input dtype bool, float64 were all converted to float64 by StandardScaler.\n"
     ]
    },
    {
     "name": "stdout",
     "output_type": "stream",
     "text": [
      "*** Training of model 'DecisionTreeClassifier' started.\n",
      "*** Training of classifier ready. Time elapsed: 71.208ms\n",
      "\n",
      "*** Training of model 'DecisionTreeClassifier' started.\n",
      "*** Training of classifier ready. Time elapsed: 61.201ms\n",
      "\n",
      "*** Training of model 'DecisionTreeClassifier' started.\n",
      "*** Training of classifier ready. Time elapsed: 53.786ms\n",
      "\n",
      "*** Training of model 'DecisionTreeClassifier' started.\n",
      "*** Training of classifier ready. Time elapsed: 47.919ms\n",
      "\n",
      "*** Training of model 'DecisionTreeClassifier' started.\n",
      "*** Training of classifier ready. Time elapsed: 41.032ms\n",
      "\n",
      "*** Training of model 'DecisionTreeClassifier' started.\n",
      "*** Training of classifier ready. Time elapsed: 36.053ms\n",
      "\n",
      "*** Training of model 'DecisionTreeClassifier' started.\n",
      "*** Training of classifier ready. Time elapsed: 6.383ms\n",
      "\n"
     ]
    },
    {
     "name": "stderr",
     "output_type": "stream",
     "text": [
      "Data with input dtype bool, float64 were all converted to float64 by StandardScaler.\n",
      "Data with input dtype bool, float64 were all converted to float64 by StandardScaler.\n",
      "Data with input dtype bool, float64 were all converted to float64 by StandardScaler.\n"
     ]
    },
    {
     "name": "stdout",
     "output_type": "stream",
     "text": [
      "*** Training of model 'DecisionTreeClassifier' started.\n",
      "*** Training of classifier ready. Time elapsed: 62.272ms\n",
      "\n",
      "*** Training of model 'DecisionTreeClassifier' started.\n",
      "*** Training of classifier ready. Time elapsed: 54.3ms\n",
      "\n",
      "*** Training of model 'DecisionTreeClassifier' started.\n",
      "*** Training of classifier ready. Time elapsed: 48.159ms\n",
      "\n",
      "*** Training of model 'DecisionTreeClassifier' started.\n",
      "*** Training of classifier ready. Time elapsed: 41.917ms\n",
      "\n",
      "*** Training of model 'DecisionTreeClassifier' started.\n",
      "*** Training of classifier ready. Time elapsed: 35.38ms\n",
      "\n",
      "*** Training of model 'DecisionTreeClassifier' started.\n",
      "*** Training of classifier ready. Time elapsed: 31.354ms\n",
      "\n",
      "*** Training of model 'DecisionTreeClassifier' started.\n",
      "*** Training of classifier ready. Time elapsed: 5.814ms\n",
      "\n"
     ]
    },
    {
     "name": "stderr",
     "output_type": "stream",
     "text": [
      "Data with input dtype bool, float64 were all converted to float64 by StandardScaler.\n",
      "Data with input dtype bool, float64 were all converted to float64 by StandardScaler.\n",
      "Data with input dtype bool, float64 were all converted to float64 by StandardScaler.\n"
     ]
    },
    {
     "name": "stdout",
     "output_type": "stream",
     "text": [
      "*** Training of model 'DecisionTreeClassifier' started.\n",
      "*** Training of classifier ready. Time elapsed: 64.651ms\n",
      "\n",
      "*** Training of model 'DecisionTreeClassifier' started.\n",
      "*** Training of classifier ready. Time elapsed: 58.857ms\n",
      "\n",
      "*** Training of model 'DecisionTreeClassifier' started.\n",
      "*** Training of classifier ready. Time elapsed: 47.95ms\n",
      "\n",
      "*** Training of model 'DecisionTreeClassifier' started.\n",
      "*** Training of classifier ready. Time elapsed: 42.671ms\n",
      "\n",
      "*** Training of model 'DecisionTreeClassifier' started.\n",
      "*** Training of classifier ready. Time elapsed: 36.602ms\n",
      "\n",
      "*** Training of model 'DecisionTreeClassifier' started.\n",
      "*** Training of classifier ready. Time elapsed: 32.395ms\n",
      "\n",
      "*** Training of model 'DecisionTreeClassifier' started.\n",
      "*** Training of classifier ready. Time elapsed: 6.095ms\n",
      "\n"
     ]
    },
    {
     "name": "stderr",
     "output_type": "stream",
     "text": [
      "Data with input dtype bool, float64 were all converted to float64 by StandardScaler.\n",
      "Data with input dtype bool, float64 were all converted to float64 by StandardScaler.\n",
      "Data with input dtype bool, float64 were all converted to float64 by StandardScaler.\n"
     ]
    },
    {
     "name": "stdout",
     "output_type": "stream",
     "text": [
      "*** Training of model 'DecisionTreeClassifier' started.\n",
      "*** Training of classifier ready. Time elapsed: 65.81ms\n",
      "\n",
      "*** Training of model 'DecisionTreeClassifier' started.\n",
      "*** Training of classifier ready. Time elapsed: 58.348ms\n",
      "\n",
      "*** Training of model 'DecisionTreeClassifier' started.\n",
      "*** Training of classifier ready. Time elapsed: 50.3ms\n",
      "\n",
      "*** Training of model 'DecisionTreeClassifier' started.\n",
      "*** Training of classifier ready. Time elapsed: 44.257ms\n",
      "\n",
      "*** Training of model 'DecisionTreeClassifier' started.\n",
      "*** Training of classifier ready. Time elapsed: 38.861ms\n",
      "\n",
      "*** Training of model 'DecisionTreeClassifier' started.\n",
      "*** Training of classifier ready. Time elapsed: 33.29ms\n",
      "\n",
      "*** Training of model 'DecisionTreeClassifier' started.\n",
      "*** Training of classifier ready. Time elapsed: 95.509ms\n",
      "\n"
     ]
    },
    {
     "name": "stderr",
     "output_type": "stream",
     "text": [
      "Data with input dtype bool, float64 were all converted to float64 by StandardScaler.\n",
      "Data with input dtype bool, float64 were all converted to float64 by StandardScaler.\n",
      "Data with input dtype bool, float64 were all converted to float64 by StandardScaler.\n"
     ]
    },
    {
     "name": "stdout",
     "output_type": "stream",
     "text": [
      "*** Training of model 'DecisionTreeClassifier' started.\n",
      "*** Training of classifier ready. Time elapsed: 62.897ms\n",
      "\n",
      "*** Training of model 'DecisionTreeClassifier' started.\n",
      "*** Training of classifier ready. Time elapsed: 55.711ms\n",
      "\n",
      "*** Training of model 'DecisionTreeClassifier' started.\n",
      "*** Training of classifier ready. Time elapsed: 49.461ms\n",
      "\n",
      "*** Training of model 'DecisionTreeClassifier' started.\n",
      "*** Training of classifier ready. Time elapsed: 42.957ms\n",
      "\n",
      "*** Training of model 'DecisionTreeClassifier' started.\n",
      "*** Training of classifier ready. Time elapsed: 36.478ms\n",
      "\n",
      "*** Training of model 'DecisionTreeClassifier' started.\n",
      "*** Training of classifier ready. Time elapsed: 32.269ms\n",
      "\n",
      "*** Training of model 'DecisionTreeClassifier' started.\n",
      "*** Training of classifier ready. Time elapsed: 93.247ms\n",
      "\n"
     ]
    },
    {
     "name": "stderr",
     "output_type": "stream",
     "text": [
      "Data with input dtype bool, float64 were all converted to float64 by StandardScaler.\n",
      "Data with input dtype bool, float64 were all converted to float64 by StandardScaler.\n",
      "Data with input dtype bool, float64 were all converted to float64 by StandardScaler.\n"
     ]
    },
    {
     "name": "stdout",
     "output_type": "stream",
     "text": [
      "*** Training of model 'DecisionTreeClassifier' started.\n",
      "*** Training of classifier ready. Time elapsed: 68.654ms\n",
      "\n",
      "*** Training of model 'DecisionTreeClassifier' started.\n",
      "*** Training of classifier ready. Time elapsed: 60.801ms\n",
      "\n",
      "*** Training of model 'DecisionTreeClassifier' started.\n",
      "*** Training of classifier ready. Time elapsed: 54.465ms\n",
      "\n",
      "*** Training of model 'DecisionTreeClassifier' started.\n",
      "*** Training of classifier ready. Time elapsed: 48.053ms\n",
      "\n",
      "*** Training of model 'DecisionTreeClassifier' started.\n",
      "*** Training of classifier ready. Time elapsed: 40.037ms\n",
      "\n",
      "*** Training of model 'DecisionTreeClassifier' started.\n",
      "*** Training of classifier ready. Time elapsed: 35.625ms\n",
      "\n",
      "*** Training of model 'DecisionTreeClassifier' started.\n",
      "*** Training of classifier ready. Time elapsed: 97.997ms\n",
      "\n"
     ]
    },
    {
     "name": "stderr",
     "output_type": "stream",
     "text": [
      "Data with input dtype bool, float64 were all converted to float64 by StandardScaler.\n",
      "Data with input dtype bool, float64 were all converted to float64 by StandardScaler.\n",
      "Data with input dtype bool, float64 were all converted to float64 by StandardScaler.\n"
     ]
    },
    {
     "name": "stdout",
     "output_type": "stream",
     "text": [
      "*** Training of model 'DecisionTreeClassifier' started.\n",
      "*** Training of classifier ready. Time elapsed: 67.695ms\n",
      "\n",
      "*** Training of model 'DecisionTreeClassifier' started.\n",
      "*** Training of classifier ready. Time elapsed: 53.635ms\n",
      "\n",
      "*** Training of model 'DecisionTreeClassifier' started.\n",
      "*** Training of classifier ready. Time elapsed: 47.498ms\n",
      "\n",
      "*** Training of model 'DecisionTreeClassifier' started.\n",
      "*** Training of classifier ready. Time elapsed: 41.265ms\n",
      "\n",
      "*** Training of model 'DecisionTreeClassifier' started.\n",
      "*** Training of classifier ready. Time elapsed: 35.038ms\n",
      "\n",
      "*** Training of model 'DecisionTreeClassifier' started.\n",
      "*** Training of classifier ready. Time elapsed: 30.962ms\n",
      "\n",
      "*** Training of model 'DecisionTreeClassifier' started.\n",
      "*** Training of classifier ready. Time elapsed: 89.267ms\n",
      "\n"
     ]
    },
    {
     "name": "stderr",
     "output_type": "stream",
     "text": [
      "Data with input dtype bool, float64 were all converted to float64 by StandardScaler.\n",
      "Data with input dtype bool, float64 were all converted to float64 by StandardScaler.\n",
      "Data with input dtype bool, float64 were all converted to float64 by StandardScaler.\n"
     ]
    },
    {
     "name": "stdout",
     "output_type": "stream",
     "text": [
      "*** Training of model 'DecisionTreeClassifier' started.\n",
      "*** Training of classifier ready. Time elapsed: 61.861ms\n",
      "\n",
      "*** Training of model 'DecisionTreeClassifier' started.\n",
      "*** Training of classifier ready. Time elapsed: 56.197ms\n",
      "\n",
      "*** Training of model 'DecisionTreeClassifier' started.\n",
      "*** Training of classifier ready. Time elapsed: 49.053ms\n",
      "\n",
      "*** Training of model 'DecisionTreeClassifier' started.\n",
      "*** Training of classifier ready. Time elapsed: 43.758ms\n",
      "\n",
      "*** Training of model 'DecisionTreeClassifier' started.\n",
      "*** Training of classifier ready. Time elapsed: 36.458ms\n",
      "\n",
      "*** Training of model 'DecisionTreeClassifier' started.\n",
      "*** Training of classifier ready. Time elapsed: 32.45ms\n",
      "\n",
      "*** Training of model 'DecisionTreeClassifier' started.\n",
      "*** Training of classifier ready. Time elapsed: 96.694ms\n",
      "\n"
     ]
    },
    {
     "name": "stderr",
     "output_type": "stream",
     "text": [
      "Data with input dtype bool, float64 were all converted to float64 by StandardScaler.\n",
      "Data with input dtype bool, float64 were all converted to float64 by StandardScaler.\n",
      "Data with input dtype bool, float64 were all converted to float64 by StandardScaler.\n"
     ]
    },
    {
     "name": "stdout",
     "output_type": "stream",
     "text": [
      "*** Training of model 'DecisionTreeClassifier' started.\n",
      "*** Training of classifier ready. Time elapsed: 66.705ms\n",
      "\n",
      "*** Training of model 'DecisionTreeClassifier' started.\n",
      "*** Training of classifier ready. Time elapsed: 58.774ms\n",
      "\n",
      "*** Training of model 'DecisionTreeClassifier' started.\n",
      "*** Training of classifier ready. Time elapsed: 51.912ms\n",
      "\n",
      "*** Training of model 'DecisionTreeClassifier' started.\n",
      "*** Training of classifier ready. Time elapsed: 46.19ms\n",
      "\n",
      "*** Training of model 'DecisionTreeClassifier' started.\n",
      "*** Training of classifier ready. Time elapsed: 38.277ms\n",
      "\n",
      "*** Training of model 'DecisionTreeClassifier' started.\n",
      "*** Training of classifier ready. Time elapsed: 33.827ms\n",
      "\n",
      "*** Training of model 'DecisionTreeClassifier' started.\n",
      "*** Training of classifier ready. Time elapsed: 34.322ms\n",
      "\n"
     ]
    },
    {
     "name": "stderr",
     "output_type": "stream",
     "text": [
      "Data with input dtype bool, float64 were all converted to float64 by StandardScaler.\n",
      "Data with input dtype bool, float64 were all converted to float64 by StandardScaler.\n",
      "Data with input dtype bool, float64 were all converted to float64 by StandardScaler.\n"
     ]
    },
    {
     "name": "stdout",
     "output_type": "stream",
     "text": [
      "*** Training of model 'DecisionTreeClassifier' started.\n",
      "*** Training of classifier ready. Time elapsed: 62.553ms\n",
      "\n",
      "*** Training of model 'DecisionTreeClassifier' started.\n",
      "*** Training of classifier ready. Time elapsed: 57.788ms\n",
      "\n",
      "*** Training of model 'DecisionTreeClassifier' started.\n",
      "*** Training of classifier ready. Time elapsed: 50.19ms\n",
      "\n",
      "*** Training of model 'DecisionTreeClassifier' started.\n",
      "*** Training of classifier ready. Time elapsed: 42.673ms\n",
      "\n",
      "*** Training of model 'DecisionTreeClassifier' started.\n",
      "*** Training of classifier ready. Time elapsed: 36.569ms\n",
      "\n",
      "*** Training of model 'DecisionTreeClassifier' started.\n",
      "*** Training of classifier ready. Time elapsed: 32.496ms\n",
      "\n",
      "*** Training of model 'DecisionTreeClassifier' started.\n",
      "*** Training of classifier ready. Time elapsed: 32.688ms\n",
      "\n"
     ]
    },
    {
     "name": "stderr",
     "output_type": "stream",
     "text": [
      "Data with input dtype bool, float64 were all converted to float64 by StandardScaler.\n",
      "Data with input dtype bool, float64 were all converted to float64 by StandardScaler.\n",
      "Data with input dtype bool, float64 were all converted to float64 by StandardScaler.\n"
     ]
    },
    {
     "name": "stdout",
     "output_type": "stream",
     "text": [
      "*** Training of model 'DecisionTreeClassifier' started.\n",
      "*** Training of classifier ready. Time elapsed: 69.348ms\n",
      "\n",
      "*** Training of model 'DecisionTreeClassifier' started.\n",
      "*** Training of classifier ready. Time elapsed: 62.766ms\n",
      "\n",
      "*** Training of model 'DecisionTreeClassifier' started.\n",
      "*** Training of classifier ready. Time elapsed: 54.617ms\n",
      "\n",
      "*** Training of model 'DecisionTreeClassifier' started.\n",
      "*** Training of classifier ready. Time elapsed: 49.179ms\n",
      "\n",
      "*** Training of model 'DecisionTreeClassifier' started.\n",
      "*** Training of classifier ready. Time elapsed: 40.188ms\n",
      "\n",
      "*** Training of model 'DecisionTreeClassifier' started.\n",
      "*** Training of classifier ready. Time elapsed: 36.029ms\n",
      "\n",
      "*** Training of model 'DecisionTreeClassifier' started.\n",
      "*** Training of classifier ready. Time elapsed: 36.107ms\n",
      "\n"
     ]
    },
    {
     "name": "stderr",
     "output_type": "stream",
     "text": [
      "Data with input dtype bool, float64 were all converted to float64 by StandardScaler.\n",
      "Data with input dtype bool, float64 were all converted to float64 by StandardScaler.\n",
      "Data with input dtype bool, float64 were all converted to float64 by StandardScaler.\n"
     ]
    },
    {
     "name": "stdout",
     "output_type": "stream",
     "text": [
      "*** Training of model 'DecisionTreeClassifier' started.\n",
      "*** Training of classifier ready. Time elapsed: 62.311ms\n",
      "\n",
      "*** Training of model 'DecisionTreeClassifier' started.\n",
      "*** Training of classifier ready. Time elapsed: 54.772ms\n",
      "\n",
      "*** Training of model 'DecisionTreeClassifier' started.\n",
      "*** Training of classifier ready. Time elapsed: 48.002ms\n",
      "\n",
      "*** Training of model 'DecisionTreeClassifier' started.\n",
      "*** Training of classifier ready. Time elapsed: 41.303ms\n",
      "\n",
      "*** Training of model 'DecisionTreeClassifier' started.\n",
      "*** Training of classifier ready. Time elapsed: 35.513ms\n",
      "\n",
      "*** Training of model 'DecisionTreeClassifier' started.\n",
      "*** Training of classifier ready. Time elapsed: 31.015ms\n",
      "\n",
      "*** Training of model 'DecisionTreeClassifier' started.\n",
      "*** Training of classifier ready. Time elapsed: 31.115ms\n",
      "\n"
     ]
    },
    {
     "name": "stderr",
     "output_type": "stream",
     "text": [
      "Data with input dtype bool, float64 were all converted to float64 by StandardScaler.\n",
      "Data with input dtype bool, float64 were all converted to float64 by StandardScaler.\n",
      "Data with input dtype bool, float64 were all converted to float64 by StandardScaler.\n"
     ]
    },
    {
     "name": "stdout",
     "output_type": "stream",
     "text": [
      "*** Training of model 'DecisionTreeClassifier' started.\n",
      "*** Training of classifier ready. Time elapsed: 62.216ms\n",
      "\n",
      "*** Training of model 'DecisionTreeClassifier' started.\n",
      "*** Training of classifier ready. Time elapsed: 55.529ms\n",
      "\n",
      "*** Training of model 'DecisionTreeClassifier' started.\n",
      "*** Training of classifier ready. Time elapsed: 48.951ms\n",
      "\n",
      "*** Training of model 'DecisionTreeClassifier' started.\n",
      "*** Training of classifier ready. Time elapsed: 43.131ms\n",
      "\n",
      "*** Training of model 'DecisionTreeClassifier' started.\n",
      "*** Training of classifier ready. Time elapsed: 37.203ms\n",
      "\n",
      "*** Training of model 'DecisionTreeClassifier' started.\n",
      "*** Training of classifier ready. Time elapsed: 32.743ms\n",
      "\n",
      "*** Training of model 'DecisionTreeClassifier' started.\n",
      "*** Training of classifier ready. Time elapsed: 33.173ms\n",
      "\n"
     ]
    },
    {
     "name": "stderr",
     "output_type": "stream",
     "text": [
      "Data with input dtype bool, float64 were all converted to float64 by StandardScaler.\n",
      "Data with input dtype bool, float64 were all converted to float64 by StandardScaler.\n",
      "Data with input dtype bool, float64 were all converted to float64 by StandardScaler.\n"
     ]
    },
    {
     "name": "stdout",
     "output_type": "stream",
     "text": [
      "*** Training of model 'LogisticRegression' started.\n",
      "*** Training of classifier ready. Time elapsed: 473.649ms\n",
      "\n",
      "*** Training of model 'LogisticRegression' started.\n",
      "*** Training of classifier ready. Time elapsed: 459.83ms\n",
      "\n",
      "*** Training of model 'LogisticRegression' started.\n",
      "*** Training of classifier ready. Time elapsed: 261.409ms\n",
      "\n",
      "*** Training of model 'LogisticRegression' started.\n",
      "*** Training of classifier ready. Time elapsed: 217.658ms\n",
      "\n",
      "*** Training of model 'LogisticRegression' started.\n",
      "*** Training of classifier ready. Time elapsed: 824.861ms\n",
      "\n",
      "*** Training of model 'LogisticRegression' started.\n",
      "*** Training of classifier ready. Time elapsed: 746.433ms\n",
      "\n",
      "*** Training of model 'LogisticRegression' started.\n",
      "*** Training of classifier ready. Time elapsed: 852.378ms\n",
      "\n"
     ]
    },
    {
     "name": "stderr",
     "output_type": "stream",
     "text": [
      "Data with input dtype bool, float64 were all converted to float64 by StandardScaler.\n",
      "Data with input dtype bool, float64 were all converted to float64 by StandardScaler.\n",
      "Data with input dtype bool, float64 were all converted to float64 by StandardScaler.\n"
     ]
    },
    {
     "name": "stdout",
     "output_type": "stream",
     "text": [
      "*** Training of model 'LogisticRegression' started.\n",
      "*** Training of classifier ready. Time elapsed: 580.952ms\n",
      "\n",
      "*** Training of model 'LogisticRegression' started.\n",
      "*** Training of classifier ready. Time elapsed: 182.254ms\n",
      "\n",
      "*** Training of model 'LogisticRegression' started.\n",
      "*** Training of classifier ready. Time elapsed: 592.05ms\n",
      "\n",
      "*** Training of model 'LogisticRegression' started.\n",
      "*** Training of classifier ready. Time elapsed: 952.735ms\n",
      "\n",
      "*** Training of model 'LogisticRegression' started.\n",
      "*** Training of classifier ready. Time elapsed: 829.167ms\n",
      "\n",
      "*** Training of model 'LogisticRegression' started.\n",
      "*** Training of classifier ready. Time elapsed: 245.141ms\n",
      "\n",
      "*** Training of model 'LogisticRegression' started.\n",
      "*** Training of classifier ready. Time elapsed: 731.424ms\n",
      "\n"
     ]
    },
    {
     "name": "stderr",
     "output_type": "stream",
     "text": [
      "Data with input dtype bool, float64 were all converted to float64 by StandardScaler.\n",
      "Data with input dtype bool, float64 were all converted to float64 by StandardScaler.\n",
      "Data with input dtype bool, float64 were all converted to float64 by StandardScaler.\n"
     ]
    },
    {
     "name": "stdout",
     "output_type": "stream",
     "text": [
      "*** Training of model 'LogisticRegression' started.\n",
      "*** Training of classifier ready. Time elapsed: 155.94ms\n",
      "\n",
      "*** Training of model 'LogisticRegression' started.\n",
      "*** Training of classifier ready. Time elapsed: 668.745ms\n",
      "\n",
      "*** Training of model 'LogisticRegression' started.\n",
      "*** Training of classifier ready. Time elapsed: 508.486ms\n",
      "\n",
      "*** Training of model 'LogisticRegression' started.\n",
      "*** Training of classifier ready. Time elapsed: 692.966ms\n",
      "\n",
      "*** Training of model 'LogisticRegression' started.\n",
      "*** Training of classifier ready. Time elapsed: 314.04ms\n",
      "\n",
      "*** Training of model 'LogisticRegression' started.\n",
      "*** Training of classifier ready. Time elapsed: 779.957ms\n",
      "\n",
      "*** Training of model 'LogisticRegression' started.\n",
      "*** Training of classifier ready. Time elapsed: 734.107ms\n",
      "\n"
     ]
    },
    {
     "name": "stderr",
     "output_type": "stream",
     "text": [
      "Data with input dtype bool, float64 were all converted to float64 by StandardScaler.\n",
      "Data with input dtype bool, float64 were all converted to float64 by StandardScaler.\n",
      "Data with input dtype bool, float64 were all converted to float64 by StandardScaler.\n"
     ]
    },
    {
     "name": "stdout",
     "output_type": "stream",
     "text": [
      "*** Training of model 'LogisticRegression' started.\n",
      "*** Training of classifier ready. Time elapsed: 907.684ms\n",
      "\n",
      "*** Training of model 'LogisticRegression' started.\n",
      "*** Training of classifier ready. Time elapsed: 532.24ms\n",
      "\n",
      "*** Training of model 'LogisticRegression' started.\n",
      "*** Training of classifier ready. Time elapsed: 266.078ms\n",
      "\n",
      "*** Training of model 'LogisticRegression' started.\n",
      "*** Training of classifier ready. Time elapsed: 992.02ms\n",
      "\n",
      "*** Training of model 'LogisticRegression' started.\n",
      "*** Training of classifier ready. Time elapsed: 594.404ms\n",
      "\n",
      "*** Training of model 'LogisticRegression' started.\n",
      "*** Training of classifier ready. Time elapsed: 124.889ms\n",
      "\n",
      "*** Training of model 'LogisticRegression' started.\n",
      "*** Training of classifier ready. Time elapsed: 821.393ms\n",
      "\n"
     ]
    },
    {
     "name": "stderr",
     "output_type": "stream",
     "text": [
      "Data with input dtype bool, float64 were all converted to float64 by StandardScaler.\n",
      "Data with input dtype bool, float64 were all converted to float64 by StandardScaler.\n",
      "Data with input dtype bool, float64 were all converted to float64 by StandardScaler.\n"
     ]
    },
    {
     "name": "stdout",
     "output_type": "stream",
     "text": [
      "*** Training of model 'LogisticRegression' started.\n",
      "*** Training of classifier ready. Time elapsed: 181.329ms\n",
      "\n",
      "*** Training of model 'LogisticRegression' started.\n",
      "*** Training of classifier ready. Time elapsed: 85.519ms\n",
      "\n",
      "*** Training of model 'LogisticRegression' started.\n",
      "*** Training of classifier ready. Time elapsed: 626.184ms\n",
      "\n",
      "*** Training of model 'LogisticRegression' started.\n",
      "*** Training of classifier ready. Time elapsed: 971.68ms\n",
      "\n",
      "*** Training of model 'LogisticRegression' started.\n",
      "*** Training of classifier ready. Time elapsed: 864.318ms\n",
      "\n",
      "*** Training of model 'LogisticRegression' started.\n",
      "*** Training of classifier ready. Time elapsed: 746.697ms\n",
      "\n",
      "*** Training of model 'LogisticRegression' started.\n",
      "*** Training of classifier ready. Time elapsed: 801.555ms\n",
      "\n"
     ]
    },
    {
     "name": "stderr",
     "output_type": "stream",
     "text": [
      "Data with input dtype bool, float64 were all converted to float64 by StandardScaler.\n",
      "Data with input dtype bool, float64 were all converted to float64 by StandardScaler.\n",
      "Data with input dtype bool, float64 were all converted to float64 by StandardScaler.\n"
     ]
    },
    {
     "name": "stdout",
     "output_type": "stream",
     "text": [
      "*** Training of model 'LogisticRegression' started.\n",
      "*** Training of classifier ready. Time elapsed: 114.089ms\n",
      "\n",
      "*** Training of model 'LogisticRegression' started.\n",
      "*** Training of classifier ready. Time elapsed: 583.656ms\n",
      "\n",
      "*** Training of model 'LogisticRegression' started.\n",
      "*** Training of classifier ready. Time elapsed: 623.879ms\n",
      "\n",
      "*** Training of model 'LogisticRegression' started.\n",
      "*** Training of classifier ready. Time elapsed: 647.651ms\n",
      "\n",
      "*** Training of model 'LogisticRegression' started.\n",
      "*** Training of classifier ready. Time elapsed: 326.182ms\n",
      "\n",
      "*** Training of model 'LogisticRegression' started.\n",
      "*** Training of classifier ready. Time elapsed: 70.116ms\n",
      "\n",
      "*** Training of model 'LogisticRegression' started.\n",
      "*** Training of classifier ready. Time elapsed: 825.621ms\n",
      "\n"
     ]
    },
    {
     "name": "stderr",
     "output_type": "stream",
     "text": [
      "Data with input dtype bool, float64 were all converted to float64 by StandardScaler.\n",
      "Data with input dtype bool, float64 were all converted to float64 by StandardScaler.\n",
      "Data with input dtype bool, float64 were all converted to float64 by StandardScaler.\n"
     ]
    },
    {
     "name": "stdout",
     "output_type": "stream",
     "text": [
      "*** Training of model 'LogisticRegression' started.\n",
      "*** Training of classifier ready. Time elapsed: 885.763ms\n",
      "\n",
      "*** Training of model 'LogisticRegression' started.\n",
      "*** Training of classifier ready. Time elapsed: 62.131ms\n",
      "\n",
      "*** Training of model 'LogisticRegression' started.\n",
      "*** Training of classifier ready. Time elapsed: 779.826ms\n",
      "\n",
      "*** Training of model 'LogisticRegression' started.\n",
      "*** Training of classifier ready. Time elapsed: 157.591ms\n",
      "\n",
      "*** Training of model 'LogisticRegression' started.\n",
      "*** Training of classifier ready. Time elapsed: 139.225ms\n",
      "\n",
      "*** Training of model 'LogisticRegression' started.\n",
      "*** Training of classifier ready. Time elapsed: 180.348ms\n",
      "\n",
      "*** Training of model 'LogisticRegression' started.\n",
      "*** Training of classifier ready. Time elapsed: 877.473ms\n",
      "\n"
     ]
    },
    {
     "name": "stderr",
     "output_type": "stream",
     "text": [
      "Data with input dtype bool, float64 were all converted to float64 by StandardScaler.\n",
      "Data with input dtype bool, float64 were all converted to float64 by StandardScaler.\n",
      "Data with input dtype bool, float64 were all converted to float64 by StandardScaler.\n"
     ]
    },
    {
     "name": "stdout",
     "output_type": "stream",
     "text": [
      "*** Training of model 'LogisticRegression' started.\n",
      "*** Training of classifier ready. Time elapsed: 949.642ms\n",
      "\n",
      "*** Training of model 'LogisticRegression' started.\n",
      "*** Training of classifier ready. Time elapsed: 296.471ms\n",
      "\n",
      "*** Training of model 'LogisticRegression' started.\n",
      "*** Training of classifier ready. Time elapsed: 4.951ms\n",
      "\n",
      "*** Training of model 'LogisticRegression' started.\n",
      "*** Training of classifier ready. Time elapsed: 476.955ms\n",
      "\n",
      "*** Training of model 'LogisticRegression' started.\n",
      "*** Training of classifier ready. Time elapsed: 40.963ms\n",
      "\n",
      "*** Training of model 'LogisticRegression' started.\n",
      "*** Training of classifier ready. Time elapsed: 443.062ms\n",
      "\n",
      "*** Training of model 'LogisticRegression' started.\n",
      "*** Training of classifier ready. Time elapsed: 127.024ms\n",
      "\n"
     ]
    },
    {
     "name": "stderr",
     "output_type": "stream",
     "text": [
      "Data with input dtype bool, float64 were all converted to float64 by StandardScaler.\n",
      "Data with input dtype bool, float64 were all converted to float64 by StandardScaler.\n",
      "Data with input dtype bool, float64 were all converted to float64 by StandardScaler.\n"
     ]
    },
    {
     "name": "stdout",
     "output_type": "stream",
     "text": [
      "*** Training of model 'LogisticRegression' started.\n",
      "*** Training of classifier ready. Time elapsed: 589.965ms\n",
      "\n",
      "*** Training of model 'LogisticRegression' started.\n",
      "*** Training of classifier ready. Time elapsed: 801.21ms\n",
      "\n",
      "*** Training of model 'LogisticRegression' started.\n",
      "*** Training of classifier ready. Time elapsed: 926.739ms\n",
      "\n",
      "*** Training of model 'LogisticRegression' started.\n",
      "*** Training of classifier ready. Time elapsed: 876.813ms\n",
      "\n",
      "*** Training of model 'LogisticRegression' started.\n",
      "*** Training of classifier ready. Time elapsed: 695.703ms\n",
      "\n",
      "*** Training of model 'LogisticRegression' started.\n",
      "*** Training of classifier ready. Time elapsed: 429.354ms\n",
      "\n",
      "*** Training of model 'LogisticRegression' started.\n",
      "*** Training of classifier ready. Time elapsed: 349.346ms\n",
      "\n"
     ]
    },
    {
     "name": "stderr",
     "output_type": "stream",
     "text": [
      "Data with input dtype bool, float64 were all converted to float64 by StandardScaler.\n",
      "Data with input dtype bool, float64 were all converted to float64 by StandardScaler.\n",
      "Data with input dtype bool, float64 were all converted to float64 by StandardScaler.\n"
     ]
    },
    {
     "name": "stdout",
     "output_type": "stream",
     "text": [
      "*** Training of model 'LogisticRegression' started.\n",
      "*** Training of classifier ready. Time elapsed: 773.311ms\n",
      "\n",
      "*** Training of model 'LogisticRegression' started.\n",
      "*** Training of classifier ready. Time elapsed: 515.421ms\n",
      "\n",
      "*** Training of model 'LogisticRegression' started.\n",
      "*** Training of classifier ready. Time elapsed: 268.81ms\n",
      "\n",
      "*** Training of model 'LogisticRegression' started.\n",
      "*** Training of classifier ready. Time elapsed: 212.925ms\n",
      "\n",
      "*** Training of model 'LogisticRegression' started.\n",
      "*** Training of classifier ready. Time elapsed: 360.747ms\n",
      "\n",
      "*** Training of model 'LogisticRegression' started.\n",
      "*** Training of classifier ready. Time elapsed: 920.888ms\n",
      "\n",
      "*** Training of model 'LogisticRegression' started.\n",
      "*** Training of classifier ready. Time elapsed: 412.763ms\n",
      "\n"
     ]
    },
    {
     "name": "stderr",
     "output_type": "stream",
     "text": [
      "Data with input dtype bool, float64 were all converted to float64 by StandardScaler.\n",
      "Data with input dtype bool, float64 were all converted to float64 by StandardScaler.\n",
      "Data with input dtype bool, float64 were all converted to float64 by StandardScaler.\n"
     ]
    },
    {
     "name": "stdout",
     "output_type": "stream",
     "text": [
      "*** Training of model 'LogisticRegression' started.\n",
      "*** Training of classifier ready. Time elapsed: 986.078ms\n",
      "\n",
      "*** Training of model 'LogisticRegression' started.\n",
      "*** Training of classifier ready. Time elapsed: 589.194ms\n",
      "\n",
      "*** Training of model 'LogisticRegression' started.\n",
      "*** Training of classifier ready. Time elapsed: 601.141ms\n",
      "\n",
      "*** Training of model 'LogisticRegression' started.\n",
      "*** Training of classifier ready. Time elapsed: 114.834ms\n",
      "\n",
      "*** Training of model 'LogisticRegression' started.\n",
      "*** Training of classifier ready. Time elapsed: 41.811ms\n",
      "\n",
      "*** Training of model 'LogisticRegression' started.\n",
      "*** Training of classifier ready. Time elapsed: 385.097ms\n",
      "\n",
      "*** Training of model 'LogisticRegression' started.\n",
      "*** Training of classifier ready. Time elapsed: 236.966ms\n",
      "\n"
     ]
    },
    {
     "name": "stderr",
     "output_type": "stream",
     "text": [
      "Data with input dtype bool, float64 were all converted to float64 by StandardScaler.\n",
      "Data with input dtype bool, float64 were all converted to float64 by StandardScaler.\n",
      "Data with input dtype bool, float64 were all converted to float64 by StandardScaler.\n"
     ]
    },
    {
     "name": "stdout",
     "output_type": "stream",
     "text": [
      "*** Training of model 'LogisticRegression' started.\n",
      "*** Training of classifier ready. Time elapsed: 122.03ms\n",
      "\n",
      "*** Training of model 'LogisticRegression' started.\n",
      "*** Training of classifier ready. Time elapsed: 20.863ms\n",
      "\n",
      "*** Training of model 'LogisticRegression' started.\n",
      "*** Training of classifier ready. Time elapsed: 996.506ms\n",
      "\n",
      "*** Training of model 'LogisticRegression' started.\n",
      "*** Training of classifier ready. Time elapsed: 771.081ms\n",
      "\n",
      "*** Training of model 'LogisticRegression' started.\n",
      "*** Training of classifier ready. Time elapsed: 56.589ms\n",
      "\n",
      "*** Training of model 'LogisticRegression' started.\n",
      "*** Training of classifier ready. Time elapsed: 6.562ms\n",
      "\n",
      "*** Training of model 'LogisticRegression' started.\n",
      "*** Training of classifier ready. Time elapsed: 286.346ms\n",
      "\n"
     ]
    },
    {
     "name": "stderr",
     "output_type": "stream",
     "text": [
      "Data with input dtype bool, float64 were all converted to float64 by StandardScaler.\n",
      "Data with input dtype bool, float64 were all converted to float64 by StandardScaler.\n",
      "Data with input dtype bool, float64 were all converted to float64 by StandardScaler.\n"
     ]
    },
    {
     "name": "stdout",
     "output_type": "stream",
     "text": [
      "*** Training of model 'LogisticRegression' started.\n",
      "*** Training of classifier ready. Time elapsed: 780.496ms\n",
      "\n",
      "*** Training of model 'LogisticRegression' started.\n",
      "*** Training of classifier ready. Time elapsed: 477.139ms\n",
      "\n",
      "*** Training of model 'LogisticRegression' started.\n",
      "*** Training of classifier ready. Time elapsed: 398.884ms\n",
      "\n",
      "*** Training of model 'LogisticRegression' started.\n",
      "*** Training of classifier ready. Time elapsed: 27.871ms\n",
      "\n",
      "*** Training of model 'LogisticRegression' started.\n",
      "*** Training of classifier ready. Time elapsed: 427.564ms\n",
      "\n",
      "*** Training of model 'LogisticRegression' started.\n",
      "*** Training of classifier ready. Time elapsed: 215.861ms\n",
      "\n",
      "*** Training of model 'LogisticRegression' started.\n",
      "*** Training of classifier ready. Time elapsed: 247.783ms\n",
      "\n"
     ]
    },
    {
     "name": "stderr",
     "output_type": "stream",
     "text": [
      "Data with input dtype bool, float64 were all converted to float64 by StandardScaler.\n",
      "Data with input dtype bool, float64 were all converted to float64 by StandardScaler.\n",
      "Data with input dtype bool, float64 were all converted to float64 by StandardScaler.\n"
     ]
    },
    {
     "name": "stdout",
     "output_type": "stream",
     "text": [
      "*** Training of model 'LogisticRegression' started.\n",
      "*** Training of classifier ready. Time elapsed: 396.61ms\n",
      "\n",
      "*** Training of model 'LogisticRegression' started.\n",
      "*** Training of classifier ready. Time elapsed: 493.136ms\n",
      "\n",
      "*** Training of model 'LogisticRegression' started.\n",
      "*** Training of classifier ready. Time elapsed: 822.844ms\n",
      "\n",
      "*** Training of model 'LogisticRegression' started.\n",
      "*** Training of classifier ready. Time elapsed: 476.568ms\n",
      "\n",
      "*** Training of model 'LogisticRegression' started.\n",
      "*** Training of classifier ready. Time elapsed: 567.352ms\n",
      "\n",
      "*** Training of model 'LogisticRegression' started.\n",
      "*** Training of classifier ready. Time elapsed: 318.328ms\n",
      "\n",
      "*** Training of model 'LogisticRegression' started.\n",
      "*** Training of classifier ready. Time elapsed: 784.87ms\n",
      "\n"
     ]
    },
    {
     "name": "stderr",
     "output_type": "stream",
     "text": [
      "Data with input dtype bool, float64 were all converted to float64 by StandardScaler.\n",
      "Data with input dtype bool, float64 were all converted to float64 by StandardScaler.\n",
      "Data with input dtype bool, float64 were all converted to float64 by StandardScaler.\n"
     ]
    },
    {
     "name": "stdout",
     "output_type": "stream",
     "text": [
      "*** Training of model 'LogisticRegression' started.\n",
      "*** Training of classifier ready. Time elapsed: 843.89ms\n",
      "\n",
      "*** Training of model 'LogisticRegression' started.\n",
      "*** Training of classifier ready. Time elapsed: 670.473ms\n",
      "\n",
      "*** Training of model 'LogisticRegression' started.\n",
      "*** Training of classifier ready. Time elapsed: 518.46ms\n",
      "\n",
      "*** Training of model 'LogisticRegression' started.\n",
      "*** Training of classifier ready. Time elapsed: 622.992ms\n",
      "\n",
      "*** Training of model 'LogisticRegression' started.\n",
      "*** Training of classifier ready. Time elapsed: 798.095ms\n",
      "\n",
      "*** Training of model 'LogisticRegression' started.\n",
      "*** Training of classifier ready. Time elapsed: 754.26ms\n",
      "\n",
      "*** Training of model 'LogisticRegression' started.\n",
      "*** Training of classifier ready. Time elapsed: 987.593ms\n",
      "\n"
     ]
    },
    {
     "name": "stderr",
     "output_type": "stream",
     "text": [
      "Data with input dtype bool, float64 were all converted to float64 by StandardScaler.\n",
      "Data with input dtype bool, float64 were all converted to float64 by StandardScaler.\n",
      "Data with input dtype bool, float64 were all converted to float64 by StandardScaler.\n"
     ]
    },
    {
     "name": "stdout",
     "output_type": "stream",
     "text": [
      "*** Training of model 'LogisticRegression' started.\n",
      "*** Training of classifier ready. Time elapsed: 515.766ms\n",
      "\n",
      "*** Training of model 'LogisticRegression' started.\n",
      "*** Training of classifier ready. Time elapsed: 314.293ms\n",
      "\n",
      "*** Training of model 'LogisticRegression' started.\n",
      "*** Training of classifier ready. Time elapsed: 957.846ms\n",
      "\n",
      "*** Training of model 'LogisticRegression' started.\n",
      "*** Training of classifier ready. Time elapsed: 158.656ms\n",
      "\n",
      "*** Training of model 'LogisticRegression' started.\n",
      "*** Training of classifier ready. Time elapsed: 744.468ms\n",
      "\n",
      "*** Training of model 'LogisticRegression' started.\n",
      "*** Training of classifier ready. Time elapsed: 811.241ms\n",
      "\n",
      "*** Training of model 'LogisticRegression' started.\n",
      "*** Training of classifier ready. Time elapsed: 30.704ms\n",
      "\n"
     ]
    },
    {
     "name": "stderr",
     "output_type": "stream",
     "text": [
      "Data with input dtype bool, float64 were all converted to float64 by StandardScaler.\n",
      "Data with input dtype bool, float64 were all converted to float64 by StandardScaler.\n",
      "Data with input dtype bool, float64 were all converted to float64 by StandardScaler.\n"
     ]
    },
    {
     "name": "stdout",
     "output_type": "stream",
     "text": [
      "*** Training of model 'LogisticRegression' started.\n",
      "*** Training of classifier ready. Time elapsed: 482.18ms\n",
      "\n",
      "*** Training of model 'LogisticRegression' started.\n",
      "*** Training of classifier ready. Time elapsed: 122.917ms\n",
      "\n",
      "*** Training of model 'LogisticRegression' started.\n",
      "*** Training of classifier ready. Time elapsed: 263.456ms\n",
      "\n",
      "*** Training of model 'LogisticRegression' started.\n",
      "*** Training of classifier ready. Time elapsed: 719.117ms\n",
      "\n",
      "*** Training of model 'LogisticRegression' started.\n",
      "*** Training of classifier ready. Time elapsed: 613.358ms\n",
      "\n",
      "*** Training of model 'LogisticRegression' started.\n",
      "*** Training of classifier ready. Time elapsed: 829.367ms\n",
      "\n",
      "*** Training of model 'LogisticRegression' started.\n",
      "*** Training of classifier ready. Time elapsed: 914.909ms\n",
      "\n"
     ]
    },
    {
     "name": "stderr",
     "output_type": "stream",
     "text": [
      "Data with input dtype bool, float64 were all converted to float64 by StandardScaler.\n",
      "Data with input dtype bool, float64 were all converted to float64 by StandardScaler.\n",
      "Data with input dtype bool, float64 were all converted to float64 by StandardScaler.\n"
     ]
    },
    {
     "name": "stdout",
     "output_type": "stream",
     "text": [
      "*** Training of model 'LogisticRegression' started.\n",
      "*** Training of classifier ready. Time elapsed: 197.664ms\n",
      "\n",
      "*** Training of model 'LogisticRegression' started.\n",
      "*** Training of classifier ready. Time elapsed: 933.613ms\n",
      "\n",
      "*** Training of model 'LogisticRegression' started.\n",
      "*** Training of classifier ready. Time elapsed: 877.455ms\n",
      "\n",
      "*** Training of model 'LogisticRegression' started.\n",
      "*** Training of classifier ready. Time elapsed: 918.74ms\n",
      "\n",
      "*** Training of model 'LogisticRegression' started.\n",
      "*** Training of classifier ready. Time elapsed: 887.353ms\n",
      "\n",
      "*** Training of model 'LogisticRegression' started.\n",
      "*** Training of classifier ready. Time elapsed: 863.231ms\n",
      "\n",
      "*** Training of model 'LogisticRegression' started.\n",
      "*** Training of classifier ready. Time elapsed: 837.698ms\n",
      "\n"
     ]
    },
    {
     "name": "stderr",
     "output_type": "stream",
     "text": [
      "Data with input dtype bool, float64 were all converted to float64 by StandardScaler.\n",
      "Data with input dtype bool, float64 were all converted to float64 by StandardScaler.\n",
      "Data with input dtype bool, float64 were all converted to float64 by StandardScaler.\n"
     ]
    },
    {
     "name": "stdout",
     "output_type": "stream",
     "text": [
      "*** Training of model 'LogisticRegression' started.\n",
      "*** Training of classifier ready. Time elapsed: 487.918ms\n",
      "\n",
      "*** Training of model 'LogisticRegression' started.\n",
      "*** Training of classifier ready. Time elapsed: 172.296ms\n",
      "\n",
      "*** Training of model 'LogisticRegression' started.\n",
      "*** Training of classifier ready. Time elapsed: 920.193ms\n",
      "\n",
      "*** Training of model 'LogisticRegression' started.\n",
      "*** Training of classifier ready. Time elapsed: 968.979ms\n",
      "\n",
      "*** Training of model 'LogisticRegression' started.\n",
      "*** Training of classifier ready. Time elapsed: 847.52ms\n",
      "\n",
      "*** Training of model 'LogisticRegression' started.\n",
      "*** Training of classifier ready. Time elapsed: 851.837ms\n",
      "\n",
      "*** Training of model 'LogisticRegression' started.\n",
      "*** Training of classifier ready. Time elapsed: 546.258ms\n",
      "\n"
     ]
    },
    {
     "name": "stderr",
     "output_type": "stream",
     "text": [
      "Data with input dtype bool, float64 were all converted to float64 by StandardScaler.\n",
      "Data with input dtype bool, float64 were all converted to float64 by StandardScaler.\n",
      "Data with input dtype bool, float64 were all converted to float64 by StandardScaler.\n"
     ]
    },
    {
     "name": "stdout",
     "output_type": "stream",
     "text": [
      "*** Training of model 'LogisticRegression' started.\n",
      "*** Training of classifier ready. Time elapsed: 227.637ms\n",
      "\n",
      "*** Training of model 'LogisticRegression' started.\n",
      "*** Training of classifier ready. Time elapsed: 145.472ms\n",
      "\n",
      "*** Training of model 'LogisticRegression' started.\n",
      "*** Training of classifier ready. Time elapsed: 20.655ms\n",
      "\n",
      "*** Training of model 'LogisticRegression' started.\n",
      "*** Training of classifier ready. Time elapsed: 718.009ms\n",
      "\n",
      "*** Training of model 'LogisticRegression' started.\n",
      "*** Training of classifier ready. Time elapsed: 711.698ms\n",
      "\n",
      "*** Training of model 'LogisticRegression' started.\n",
      "*** Training of classifier ready. Time elapsed: 794.707ms\n",
      "\n",
      "*** Training of model 'LogisticRegression' started.\n",
      "*** Training of classifier ready. Time elapsed: 938.078ms\n",
      "\n"
     ]
    },
    {
     "name": "stderr",
     "output_type": "stream",
     "text": [
      "Columns (11,18,19,20,24,35,64,83,90,92,94,96,97,106,114,117,120,125,126,133,136,140,141,142,143,144,150,178,235,244,248,288,311,317,320,325,326,330,334,341,353,359,360,361,365,402,421,425,430,434,436,439,446) have mixed types. Specify dtype option on import or set low_memory=False.\n"
     ]
    },
    {
     "name": "stdout",
     "output_type": "stream",
     "text": [
      "Fetching data for <fiber.condition.mrns.MRNs object at 0x7f6e367b7e80>\n",
      "Fetching data for Patient (...)\n"
     ]
    },
    {
     "name": "stderr",
     "output_type": "stream",
     "text": [
      "Data with input dtype bool, float64 were all converted to float64 by StandardScaler.\n",
      "Data with input dtype bool, float64 were all converted to float64 by StandardScaler.\n",
      "Data with input dtype bool, float64 were all converted to float64 by StandardScaler.\n"
     ]
    },
    {
     "name": "stdout",
     "output_type": "stream",
     "text": [
      "*** Training of model 'GradientBoostingClassifier' started.\n",
      "*** Training of classifier ready. Time elapsed: 835.217ms\n",
      "\n",
      "*** Training of model 'GradientBoostingClassifier' started.\n",
      "*** Training of classifier ready. Time elapsed: 919.271ms\n",
      "\n",
      "*** Training of model 'GradientBoostingClassifier' started.\n",
      "*** Training of classifier ready. Time elapsed: 935.685ms\n",
      "\n",
      "*** Training of model 'GradientBoostingClassifier' started.\n",
      "*** Training of classifier ready. Time elapsed: 178.123ms\n",
      "\n",
      "*** Training of model 'GradientBoostingClassifier' started.\n",
      "*** Training of classifier ready. Time elapsed: 429.039ms\n",
      "\n",
      "*** Training of model 'GradientBoostingClassifier' started.\n",
      "*** Training of classifier ready. Time elapsed: 376.652ms\n",
      "\n",
      "*** Training of model 'GradientBoostingClassifier' started.\n",
      "*** Training of classifier ready. Time elapsed: 798.675ms\n",
      "\n"
     ]
    },
    {
     "name": "stderr",
     "output_type": "stream",
     "text": [
      "F-score is ill-defined and being set to 0.0 due to no predicted samples.\n",
      "Precision is ill-defined and being set to 0.0 due to no predicted samples.\n",
      "invalid value encountered in long_scalars\n",
      "Data with input dtype bool, float64 were all converted to float64 by StandardScaler.\n",
      "Data with input dtype bool, float64 were all converted to float64 by StandardScaler.\n",
      "Data with input dtype bool, float64 were all converted to float64 by StandardScaler.\n"
     ]
    },
    {
     "name": "stdout",
     "output_type": "stream",
     "text": [
      "*** Training of model 'GradientBoostingClassifier' started.\n",
      "*** Training of classifier ready. Time elapsed: 585.322ms\n",
      "\n",
      "*** Training of model 'GradientBoostingClassifier' started.\n",
      "*** Training of classifier ready. Time elapsed: 758.71ms\n",
      "\n",
      "*** Training of model 'GradientBoostingClassifier' started.\n",
      "*** Training of classifier ready. Time elapsed: 221.788ms\n",
      "\n",
      "*** Training of model 'GradientBoostingClassifier' started.\n",
      "*** Training of classifier ready. Time elapsed: 928.151ms\n",
      "\n",
      "*** Training of model 'GradientBoostingClassifier' started.\n",
      "*** Training of classifier ready. Time elapsed: 338.395ms\n",
      "\n",
      "*** Training of model 'GradientBoostingClassifier' started.\n",
      "*** Training of classifier ready. Time elapsed: 697.643ms\n",
      "\n",
      "*** Training of model 'GradientBoostingClassifier' started.\n",
      "*** Training of classifier ready. Time elapsed: 768.681ms\n",
      "\n"
     ]
    },
    {
     "name": "stderr",
     "output_type": "stream",
     "text": [
      "F-score is ill-defined and being set to 0.0 due to no predicted samples.\n",
      "Precision is ill-defined and being set to 0.0 due to no predicted samples.\n",
      "invalid value encountered in long_scalars\n",
      "Data with input dtype bool, float64 were all converted to float64 by StandardScaler.\n",
      "Data with input dtype bool, float64 were all converted to float64 by StandardScaler.\n",
      "Data with input dtype bool, float64 were all converted to float64 by StandardScaler.\n"
     ]
    },
    {
     "name": "stdout",
     "output_type": "stream",
     "text": [
      "*** Training of model 'GradientBoostingClassifier' started.\n",
      "*** Training of classifier ready. Time elapsed: 656.173ms\n",
      "\n",
      "*** Training of model 'GradientBoostingClassifier' started.\n",
      "*** Training of classifier ready. Time elapsed: 982.788ms\n",
      "\n",
      "*** Training of model 'GradientBoostingClassifier' started.\n",
      "*** Training of classifier ready. Time elapsed: 269.943ms\n",
      "\n",
      "*** Training of model 'GradientBoostingClassifier' started.\n",
      "*** Training of classifier ready. Time elapsed: 560.313ms\n",
      "\n",
      "*** Training of model 'GradientBoostingClassifier' started.\n",
      "*** Training of classifier ready. Time elapsed: 911.865ms\n",
      "\n",
      "*** Training of model 'GradientBoostingClassifier' started.\n",
      "*** Training of classifier ready. Time elapsed: 848.822ms\n",
      "\n",
      "*** Training of model 'GradientBoostingClassifier' started.\n",
      "*** Training of classifier ready. Time elapsed: 12.393ms\n",
      "\n"
     ]
    },
    {
     "name": "stderr",
     "output_type": "stream",
     "text": [
      "Data with input dtype bool, float64 were all converted to float64 by StandardScaler.\n",
      "Data with input dtype bool, float64 were all converted to float64 by StandardScaler.\n",
      "Data with input dtype bool, float64 were all converted to float64 by StandardScaler.\n"
     ]
    },
    {
     "name": "stdout",
     "output_type": "stream",
     "text": [
      "*** Training of model 'GradientBoostingClassifier' started.\n",
      "*** Training of classifier ready. Time elapsed: 832.247ms\n",
      "\n",
      "*** Training of model 'GradientBoostingClassifier' started.\n",
      "*** Training of classifier ready. Time elapsed: 669.321ms\n",
      "\n",
      "*** Training of model 'GradientBoostingClassifier' started.\n",
      "*** Training of classifier ready. Time elapsed: 335.963ms\n",
      "\n",
      "*** Training of model 'GradientBoostingClassifier' started.\n",
      "*** Training of classifier ready. Time elapsed: 5.861ms\n",
      "\n",
      "*** Training of model 'GradientBoostingClassifier' started.\n",
      "*** Training of classifier ready. Time elapsed: 784.038ms\n",
      "\n",
      "*** Training of model 'GradientBoostingClassifier' started.\n",
      "*** Training of classifier ready. Time elapsed: 637.543ms\n",
      "\n",
      "*** Training of model 'GradientBoostingClassifier' started.\n",
      "*** Training of classifier ready. Time elapsed: 978.407ms\n",
      "\n"
     ]
    },
    {
     "name": "stderr",
     "output_type": "stream",
     "text": [
      "Data with input dtype bool, float64 were all converted to float64 by StandardScaler.\n",
      "Data with input dtype bool, float64 were all converted to float64 by StandardScaler.\n",
      "Data with input dtype bool, float64 were all converted to float64 by StandardScaler.\n"
     ]
    },
    {
     "name": "stdout",
     "output_type": "stream",
     "text": [
      "*** Training of model 'GradientBoostingClassifier' started.\n",
      "*** Training of classifier ready. Time elapsed: 866.387ms\n",
      "\n",
      "*** Training of model 'GradientBoostingClassifier' started.\n",
      "*** Training of classifier ready. Time elapsed: 735.81ms\n",
      "\n",
      "*** Training of model 'GradientBoostingClassifier' started.\n",
      "*** Training of classifier ready. Time elapsed: 449.739ms\n",
      "\n",
      "*** Training of model 'GradientBoostingClassifier' started.\n",
      "*** Training of classifier ready. Time elapsed: 242.275ms\n",
      "\n",
      "*** Training of model 'GradientBoostingClassifier' started.\n",
      "*** Training of classifier ready. Time elapsed: 871.824ms\n",
      "\n",
      "*** Training of model 'GradientBoostingClassifier' started.\n",
      "*** Training of classifier ready. Time elapsed: 467.83ms\n",
      "\n",
      "*** Training of model 'GradientBoostingClassifier' started.\n",
      "*** Training of classifier ready. Time elapsed: 78.509ms\n",
      "\n"
     ]
    },
    {
     "name": "stderr",
     "output_type": "stream",
     "text": [
      "Data with input dtype bool, float64 were all converted to float64 by StandardScaler.\n",
      "Data with input dtype bool, float64 were all converted to float64 by StandardScaler.\n",
      "Data with input dtype bool, float64 were all converted to float64 by StandardScaler.\n"
     ]
    },
    {
     "name": "stdout",
     "output_type": "stream",
     "text": [
      "*** Training of model 'GradientBoostingClassifier' started.\n",
      "*** Training of classifier ready. Time elapsed: 312.735ms\n",
      "\n",
      "*** Training of model 'GradientBoostingClassifier' started.\n",
      "*** Training of classifier ready. Time elapsed: 606.696ms\n",
      "\n",
      "*** Training of model 'GradientBoostingClassifier' started.\n",
      "*** Training of classifier ready. Time elapsed: 506.706ms\n",
      "\n",
      "*** Training of model 'GradientBoostingClassifier' started.\n",
      "*** Training of classifier ready. Time elapsed: 932.963ms\n",
      "\n",
      "*** Training of model 'GradientBoostingClassifier' started.\n",
      "*** Training of classifier ready. Time elapsed: 698.92ms\n",
      "\n",
      "*** Training of model 'GradientBoostingClassifier' started.\n",
      "*** Training of classifier ready. Time elapsed: 971.14ms\n",
      "\n",
      "*** Training of model 'GradientBoostingClassifier' started.\n",
      "*** Training of classifier ready. Time elapsed: 940.942ms\n",
      "\n"
     ]
    },
    {
     "name": "stderr",
     "output_type": "stream",
     "text": [
      "Data with input dtype bool, float64 were all converted to float64 by StandardScaler.\n",
      "Data with input dtype bool, float64 were all converted to float64 by StandardScaler.\n",
      "Data with input dtype bool, float64 were all converted to float64 by StandardScaler.\n"
     ]
    },
    {
     "name": "stdout",
     "output_type": "stream",
     "text": [
      "*** Training of model 'GradientBoostingClassifier' started.\n",
      "*** Training of classifier ready. Time elapsed: 86.493ms\n",
      "\n",
      "*** Training of model 'GradientBoostingClassifier' started.\n",
      "*** Training of classifier ready. Time elapsed: 228.11ms\n",
      "\n",
      "*** Training of model 'GradientBoostingClassifier' started.\n",
      "*** Training of classifier ready. Time elapsed: 886.032ms\n",
      "\n",
      "*** Training of model 'GradientBoostingClassifier' started.\n",
      "*** Training of classifier ready. Time elapsed: 200.731ms\n",
      "\n",
      "*** Training of model 'GradientBoostingClassifier' started.\n",
      "*** Training of classifier ready. Time elapsed: 684.324ms\n",
      "\n",
      "*** Training of model 'GradientBoostingClassifier' started.\n",
      "*** Training of classifier ready. Time elapsed: 24.208ms\n",
      "\n",
      "*** Training of model 'GradientBoostingClassifier' started.\n",
      "*** Training of classifier ready. Time elapsed: 665.828ms\n",
      "\n"
     ]
    },
    {
     "name": "stderr",
     "output_type": "stream",
     "text": [
      "Data with input dtype bool, float64 were all converted to float64 by StandardScaler.\n",
      "Data with input dtype bool, float64 were all converted to float64 by StandardScaler.\n",
      "Data with input dtype bool, float64 were all converted to float64 by StandardScaler.\n"
     ]
    },
    {
     "name": "stdout",
     "output_type": "stream",
     "text": [
      "*** Training of model 'GradientBoostingClassifier' started.\n",
      "*** Training of classifier ready. Time elapsed: 133.325ms\n",
      "\n",
      "*** Training of model 'GradientBoostingClassifier' started.\n",
      "*** Training of classifier ready. Time elapsed: 432.436ms\n",
      "\n",
      "*** Training of model 'GradientBoostingClassifier' started.\n",
      "*** Training of classifier ready. Time elapsed: 101.232ms\n",
      "\n",
      "*** Training of model 'GradientBoostingClassifier' started.\n",
      "*** Training of classifier ready. Time elapsed: 404.643ms\n",
      "\n",
      "*** Training of model 'GradientBoostingClassifier' started.\n",
      "*** Training of classifier ready. Time elapsed: 835.423ms\n",
      "\n",
      "*** Training of model 'GradientBoostingClassifier' started.\n",
      "*** Training of classifier ready. Time elapsed: 723.739ms\n",
      "\n",
      "*** Training of model 'GradientBoostingClassifier' started.\n",
      "*** Training of classifier ready. Time elapsed: 758.013ms\n",
      "\n"
     ]
    },
    {
     "name": "stderr",
     "output_type": "stream",
     "text": [
      "Data with input dtype bool, float64 were all converted to float64 by StandardScaler.\n",
      "Data with input dtype bool, float64 were all converted to float64 by StandardScaler.\n",
      "Data with input dtype bool, float64 were all converted to float64 by StandardScaler.\n"
     ]
    },
    {
     "name": "stdout",
     "output_type": "stream",
     "text": [
      "*** Training of model 'GradientBoostingClassifier' started.\n"
     ]
    }
   ],
   "source": [
    "pipeline = training.execute(\n",
    "    comment='NEW baseline-3 CMV with RFE - focus numeric values',\n",
    "    version='100.3.0',\n",
    "    cohort=cohort,\n",
    "    onset_dataframe=onset_dataframe,\n",
    "    feature_pipeline=feature_pipeline,\n",
    "    data_loader=data_loader,\n",
    "    observation_iterator=configs,\n",
    "    targets=targets,\n",
    "    algorithms=algorithms,\n",
    "    samplers=samplers,\n",
    "    feature_type_occurring=\"occurring\",\n",
    "    feature_type_numeric=\"numeric\",\n",
    "    rfe__run=True,\n",
    "    rfe__step_size=50\n",
    ")"
   ]
  },
  {
   "cell_type": "code",
   "execution_count": null,
   "metadata": {
    "scrolled": true
   },
   "outputs": [],
   "source": [
    "pipeline.id"
   ]
  }
 ],
 "metadata": {
  "kernelspec": {
   "display_name": "Python 3",
   "language": "python",
   "name": "python3"
  },
  "language_info": {
   "codemirror_mode": {
    "name": "ipython",
    "version": 3
   },
   "file_extension": ".py",
   "mimetype": "text/x-python",
   "name": "python",
   "nbconvert_exporter": "python",
   "pygments_lexer": "ipython3",
   "version": "3.6.9"
  }
 },
 "nbformat": 4,
 "nbformat_minor": 2
}
