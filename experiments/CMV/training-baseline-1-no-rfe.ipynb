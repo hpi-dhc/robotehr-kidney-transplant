{
 "cells": [
  {
   "cell_type": "code",
   "execution_count": 1,
   "metadata": {
    "scrolled": false
   },
   "outputs": [],
   "source": [
    "%run ../00_default_options.ipynb"
   ]
  },
  {
   "cell_type": "code",
   "execution_count": 2,
   "metadata": {},
   "outputs": [],
   "source": [
    "from robotehr.pipelines import training\n",
    "from robotehr.models.cohort import Cohort, OnsetDataFrame\n",
    "from robotehr.models.data import FeaturePipeline\n",
    "from robotehr.pipelines.supporters.preprocessing import DataLoader"
   ]
  },
  {
   "cell_type": "code",
   "execution_count": 3,
   "metadata": {},
   "outputs": [],
   "source": [
    "cohort = Cohort.load(id=1)"
   ]
  },
  {
   "cell_type": "code",
   "execution_count": 4,
   "metadata": {},
   "outputs": [],
   "source": [
    "onset_dataframe = OnsetDataFrame.load(id=15)"
   ]
  },
  {
   "cell_type": "code",
   "execution_count": 5,
   "metadata": {},
   "outputs": [],
   "source": [
    "feature_pipeline = FeaturePipeline.load(id=19)"
   ]
  },
  {
   "cell_type": "code",
   "execution_count": 6,
   "metadata": {},
   "outputs": [
    {
     "name": "stderr",
     "output_type": "stream",
     "text": [
      "Using TensorFlow backend.\n"
     ]
    }
   ],
   "source": [
    "import morpher\n",
    "from morpher.jobs import *"
   ]
  },
  {
   "cell_type": "code",
   "execution_count": 8,
   "metadata": {},
   "outputs": [],
   "source": [
    "column_selector = 'any__'"
   ]
  },
  {
   "cell_type": "code",
   "execution_count": 9,
   "metadata": {},
   "outputs": [],
   "source": [
    "class CustomDataLoader(DataLoader):\n",
    "    def transform(self, X, y):\n",
    "        from sklearn.preprocessing import OneHotEncoder\n",
    "        from enum import Enum\n",
    "\n",
    "        # remove unused features\n",
    "        del X['medical_record_number']\n",
    "        del X['mother_account_number']\n",
    "        del X['date_of_birth']\n",
    "        del X['month_of_birth']\n",
    "        del X['patient_ethnic_group']\n",
    "        del X['religion']\n",
    "        del X['address_zip']\n",
    "        del X['deceased_indicator']\n",
    "        del X['marital_status_code']\n",
    "\n",
    "        class RaceType(str, Enum):\n",
    "            AFRICAN = 'African'\n",
    "            AMERICAN_BLACK = 'Black or African-American'\n",
    "            AMERICAN_NATIVE = 'Native American'\n",
    "            ASIAN = 'Asian'\n",
    "            ASIAN_PACIFIC = 'Asian Pacific'\n",
    "            ASIAN_INDIAN = 'Asian Indian'\n",
    "            ASIAN_CHINESE = 'Asian Chinese'\n",
    "            HISPANIC = 'Hispanic or Latino'\n",
    "            OTHER = 'Other'\n",
    "            WHITE = 'White'\n",
    "\n",
    "        RACE_MAPPING = {\n",
    "            RaceType.AFRICAN: [\n",
    "                'Cape Verdian',\n",
    "                'Congolese',\n",
    "                'Eritrean',\n",
    "                'Ethiopian',\n",
    "                'Gabonian',\n",
    "                'Ghanaian',\n",
    "                'Guinean',\n",
    "                'Ivory Coastian',\n",
    "                'Kenyan',\n",
    "                'Liberian',\n",
    "                'Madagascar',\n",
    "                'Malian',\n",
    "                'Nigerian',\n",
    "                'Other: East African',\n",
    "                'Other: North African',\n",
    "                'Other: South African',\n",
    "                'Other: West African',\n",
    "                'Senegalese',\n",
    "                'Sierra Leonean',\n",
    "                'Somalian',\n",
    "                'Sudanese',\n",
    "                'Tanzanian',\n",
    "                'Togolese',\n",
    "                'Ugandan',\n",
    "                'Zimbabwean'\n",
    "            ],\n",
    "            RaceType.AMERICAN_BLACK: [\n",
    "                'African American (Black)',\n",
    "                'African-American',\n",
    "                'Black Or African-American',\n",
    "                'Black or African - American',\n",
    "            ],\n",
    "            RaceType.AMERICAN_NATIVE: [\n",
    "                'American (Indian/Alaskan)',\n",
    "                'Native American'\n",
    "            ],\n",
    "            RaceType.ASIAN: [\n",
    "                'Asian',\n",
    "                'Bangladeshi',\n",
    "                'Bhutanese',\n",
    "                'Burmese',\n",
    "                'Cambodian',\n",
    "                'Hmong',\n",
    "                'Indonesian',\n",
    "                'Japanese',\n",
    "                'Korean',\n",
    "                'Laotian',\n",
    "                'Malaysian',\n",
    "                'Maldivian',\n",
    "                'Nepalese',\n",
    "                'Okinawan',\n",
    "                'Pakistani',\n",
    "                'Singaporean',\n",
    "                'Taiwanese',\n",
    "                'Thai',\n",
    "                'Vietnamese',\n",
    "                'Yapese'\n",
    "            ],\n",
    "            RaceType.ASIAN_PACIFIC: [\n",
    "                'Asian (Pacific Islander)',\n",
    "                'Carolinian',\n",
    "                'Chamorro',\n",
    "                'Chuukese',\n",
    "                'Fijian',\n",
    "                'Filipino',\n",
    "                'Guamanian',\n",
    "                'Guamanian Or Chamorro',\n",
    "                'Guamanian or Chamorro',\n",
    "                'Iwo Jiman',\n",
    "                'Kiribati',\n",
    "                'Kosraean',\n",
    "                'Mariana Islander',\n",
    "                'Marshallese',\n",
    "                'Melanesian',\n",
    "                'Micronesian',\n",
    "                'Native Hawaiian',\n",
    "                'New Hebrides',\n",
    "                'Other Pacific Islander',\n",
    "                'Pacific Islander',\n",
    "                'Palauan',\n",
    "                'Pohnpeian',\n",
    "                'Polynesian',\n",
    "                'Saipanese',\n",
    "                'Samoan',\n",
    "                'Papua New Guinean',\n",
    "                'Tahitian',\n",
    "                'Tokelauan',\n",
    "                'Tongan'\n",
    "            ],\n",
    "            RaceType.ASIAN_INDIAN: [\n",
    "                'Asian Indian',\n",
    "                'Sri Lankan',\n",
    "                'Sri lankan',\n",
    "                'West Indian'\n",
    "            ],\n",
    "            RaceType.ASIAN_CHINESE: [\n",
    "                'Chinese',\n",
    "            ],\n",
    "            RaceType.HISPANIC: [\n",
    "                'Barbadian',\n",
    "                'Dominica Islander',\n",
    "                'Grenadian',\n",
    "                'Haitian',\n",
    "                'Hispanic/Latino',\n",
    "                'Jamaican',\n",
    "                'St Vincentian',\n",
    "                'Trinidadian'\n",
    "            ],\n",
    "            RaceType.OTHER: [\n",
    "                '',\n",
    "                'Aa',\n",
    "                'Ab',\n",
    "                'Af',\n",
    "                'Ag',\n",
    "                'Ak',\n",
    "                'Al',\n",
    "                'Ap',\n",
    "                'Ar',\n",
    "                'Av',\n",
    "                'Ay',\n",
    "                'B',\n",
    "                'B1',\n",
    "                'B2',\n",
    "                'B3',\n",
    "                'B4',\n",
    "                'B5',\n",
    "                'B6',\n",
    "                'B7',\n",
    "                'B8',\n",
    "                'B9',\n",
    "                'Ba',\n",
    "                'Bb',\n",
    "                'Bc',\n",
    "                'Bd',\n",
    "                'Be',\n",
    "                'Bf',\n",
    "                'Bg',\n",
    "                'Bh',\n",
    "                'Bj',\n",
    "                'Bk',\n",
    "                'Bm',\n",
    "                'Bn',\n",
    "                'Bo',\n",
    "                'Bp',\n",
    "                'Bq',\n",
    "                'Br',\n",
    "                'Bs',\n",
    "                'Bt',\n",
    "                'Bu',\n",
    "                'Bv',\n",
    "                'Bw',\n",
    "                'Bx',\n",
    "                'By',\n",
    "                'Bz',\n",
    "                'I',\n",
    "                'MSDW_NOT APPLICABLE',\n",
    "                'MSDW_OTHER',\n",
    "                'MSDW_UNKNOWN',\n",
    "                'NOT AVAILABLE',\n",
    "                'Non Hispanic',\n",
    "                'O',\n",
    "                'Other',\n",
    "                'Pk',\n",
    "                'Pl',\n",
    "                'Pm',\n",
    "                'Po',\n",
    "                'Ps',\n",
    "                'Pv',\n",
    "                'U',\n",
    "                'Unk',\n",
    "                'Unknown',\n",
    "                'W'\n",
    "            ],\n",
    "            RaceType.WHITE: [\n",
    "                'Caucasian (White)',\n",
    "                'White'\n",
    "            ]\n",
    "        }\n",
    "\n",
    "        # value mapping\n",
    "        X['race'] = (\n",
    "            X.race.map({\n",
    "                label: cat for cat, labels in RACE_MAPPING.items()\n",
    "                for label in labels\n",
    "            }).astype(pd.api.types.CategoricalDtype(RaceType))\n",
    "        )\n",
    "\n",
    "        # pre-encoding nan handling\n",
    "        for column in ['gender', 'race']:\n",
    "            enc = OneHotEncoder(sparse=False)\n",
    "            transformed_data = enc.fit_transform(X[[column]])\n",
    "            transformed_columns = pd.DataFrame(\n",
    "                data=transformed_data, \n",
    "                columns=[f'{column}_{c}' for c in enc.categories_[0]]\n",
    "            )\n",
    "            X = X.join(transformed_columns)\n",
    "            del X[column]\n",
    "        X[X.columns[X.columns.str.contains('any')]] = X[X.columns[X.columns.str.contains('any')]].fillna(False)\n",
    "        return X, y\n",
    "        \n",
    "    def transform_training_data(self, X_train, y_train):\n",
    "        from sklearn.impute import SimpleImputer\n",
    "        imputer = SimpleImputer()\n",
    "        self.objects['imputer'] = imputer\n",
    "        X_train_imputed = imputer.fit_transform(X_train)\n",
    "        \n",
    "        X_train = pd.DataFrame(\n",
    "            data=X_train_imputed, \n",
    "            columns=X_train.columns,\n",
    "            index=X_train.index\n",
    "        )\n",
    "        return X_train, y_train\n",
    "    \n",
    "    def transform_test_data(self, X_test, y_test):\n",
    "        imputer = self.objects['imputer']\n",
    "        X_test_imputed = imputer.fit_transform(X_test)\n",
    "        \n",
    "        X_test = pd.DataFrame(\n",
    "            data=X_test_imputed, \n",
    "            columns=X_test.columns,\n",
    "            index=X_test.index\n",
    "        )\n",
    "        return X_test, y_test\n",
    "        \n",
    "\n",
    "data_loader = CustomDataLoader(column_selector=column_selector)"
   ]
  },
  {
   "cell_type": "code",
   "execution_count": 10,
   "metadata": {},
   "outputs": [],
   "source": [
    "from itertools import product"
   ]
  },
  {
   "cell_type": "code",
   "execution_count": 11,
   "metadata": {},
   "outputs": [],
   "source": [
    "thresholds_numeric = [(x / 100) for x in range(5, 100, 5)]\n",
    "observation_windows_numeric = [[x, -1] for x in range(-361, -1, 30)]\n",
    "thresholds_occurring = [(x / 100) for x in range(5, 100, 5)]\n",
    "observation_windows_occurring = [[x, -1] for x in range(-361, -1, 30)]"
   ]
  },
  {
   "cell_type": "code",
   "execution_count": 12,
   "metadata": {
    "scrolled": true
   },
   "outputs": [],
   "source": [
    "iterator = product(\n",
    "    thresholds_numeric,\n",
    "    observation_windows_numeric,\n",
    "    thresholds_occurring,\n",
    "    observation_windows_occurring\n",
    ")\n",
    "\n",
    "configs = [x for x in iterator if x[0] == x[2] and x[1] == x[3]]\n",
    "targets = ['cytomegaloviral_disease_onset_from_0_days_after_to_365_days_after']\n",
    "algorithms = [morpher.config.algorithms.GBDT, morpher.config.algorithms.RF, morpher.config.algorithms.DT, morpher.config.algorithms.LR]\n",
    "samplers = samplers = [morpher.config.samplers.RANDOM, morpher.config.samplers.URANDOM, morpher.config.samplers.SMOTE, morpher.config.samplers.NOSAMPLER]"
   ]
  },
  {
   "cell_type": "code",
   "execution_count": null,
   "metadata": {
    "scrolled": true
   },
   "outputs": [
    {
     "name": "stderr",
     "output_type": "stream",
     "text": [
      "Columns (11,18,19,20,24,35,64,83,90,92,94,96,97,106,114,117,120,125,126,133,136,140,141,142,143,144,150,178,235,244,248,288,311,317,320,325,326,330,334,341,353,359,360,361,365,402,421,425,430,434,436,439,446) have mixed types. Specify dtype option on import or set low_memory=False.\n"
     ]
    },
    {
     "name": "stdout",
     "output_type": "stream",
     "text": [
      "Fetching data for <fiber.condition.mrns.MRNs object at 0x7fa650719048>\n",
      "Fetching data for Patient (...)\n"
     ]
    },
    {
     "data": {
      "application/vnd.jupyter.widget-view+json": {
       "model_id": "4c92355eee1c4324a2584e29bb3b113e",
       "version_major": 2,
       "version_minor": 0
      },
      "text/plain": [
       "HBox(children=(IntProgress(value=1, bar_style='info', max=1), HTML(value='')))"
      ]
     },
     "metadata": {},
     "output_type": "display_data"
    },
    {
     "name": "stdout",
     "output_type": "stream",
     "text": [
      "\n",
      "*** Training of model 'GradientBoostingClassifier' started.\n",
      "*** Training of classifier ready. Time elapsed: 739.424ms\n",
      "\n",
      "*** Training of model 'GradientBoostingClassifier' started.\n",
      "*** Training of classifier ready. Time elapsed: 214.319ms\n",
      "\n",
      "*** Training of model 'GradientBoostingClassifier' started.\n",
      "*** Training of classifier ready. Time elapsed: 697.329ms\n",
      "\n",
      "*** Training of model 'GradientBoostingClassifier' started.\n",
      "*** Training of classifier ready. Time elapsed: 842.313ms\n",
      "\n",
      "*** Training of model 'GradientBoostingClassifier' started.\n",
      "*** Training of classifier ready. Time elapsed: 339.929ms\n",
      "\n",
      "*** Training of model 'GradientBoostingClassifier' started.\n",
      "*** Training of classifier ready. Time elapsed: 896.167ms\n",
      "\n",
      "*** Training of model 'GradientBoostingClassifier' started.\n",
      "*** Training of classifier ready. Time elapsed: 675.27ms\n",
      "\n",
      "*** Training of model 'GradientBoostingClassifier' started.\n",
      "*** Training of classifier ready. Time elapsed: 818.451ms\n",
      "\n",
      "*** Training of model 'GradientBoostingClassifier' started.\n",
      "*** Training of classifier ready. Time elapsed: 724.106ms\n",
      "\n",
      "*** Training of model 'GradientBoostingClassifier' started.\n",
      "*** Training of classifier ready. Time elapsed: 667.177ms\n",
      "\n",
      "*** Training of model 'GradientBoostingClassifier' started.\n",
      "*** Training of classifier ready. Time elapsed: 495.871ms\n",
      "\n"
     ]
    },
    {
     "name": "stderr",
     "output_type": "stream",
     "text": [
      "F-score is ill-defined and being set to 0.0 due to no predicted samples.\n",
      "Precision is ill-defined and being set to 0.0 due to no predicted samples.\n",
      "invalid value encountered in long_scalars\n"
     ]
    },
    {
     "name": "stdout",
     "output_type": "stream",
     "text": [
      "*** Training of model 'GradientBoostingClassifier' started.\n",
      "*** Training of classifier ready. Time elapsed: 483.932ms\n",
      "\n",
      "*** Training of model 'GradientBoostingClassifier' started.\n",
      "*** Training of classifier ready. Time elapsed: 720.364ms\n",
      "\n"
     ]
    },
    {
     "name": "stderr",
     "output_type": "stream",
     "text": [
      "F-score is ill-defined and being set to 0.0 due to no predicted samples.\n",
      "Precision is ill-defined and being set to 0.0 due to no predicted samples.\n",
      "invalid value encountered in long_scalars\n"
     ]
    },
    {
     "name": "stdout",
     "output_type": "stream",
     "text": [
      "*** Training of model 'GradientBoostingClassifier' started.\n",
      "*** Training of classifier ready. Time elapsed: 766.742ms\n",
      "\n"
     ]
    },
    {
     "name": "stderr",
     "output_type": "stream",
     "text": [
      "F-score is ill-defined and being set to 0.0 due to no predicted samples.\n",
      "Precision is ill-defined and being set to 0.0 due to no predicted samples.\n",
      "invalid value encountered in long_scalars\n"
     ]
    },
    {
     "name": "stdout",
     "output_type": "stream",
     "text": [
      "*** Training of model 'GradientBoostingClassifier' started.\n",
      "*** Training of classifier ready. Time elapsed: 780.804ms\n",
      "\n",
      "*** Training of model 'GradientBoostingClassifier' started.\n",
      "*** Training of classifier ready. Time elapsed: 354.613ms\n",
      "\n",
      "*** Training of model 'GradientBoostingClassifier' started.\n",
      "*** Training of classifier ready. Time elapsed: 344.137ms\n",
      "\n",
      "*** Training of model 'GradientBoostingClassifier' started.\n",
      "*** Training of classifier ready. Time elapsed: 297.018ms\n",
      "\n",
      "*** Training of model 'GradientBoostingClassifier' started.\n",
      "*** Training of classifier ready. Time elapsed: 653.249ms\n",
      "\n",
      "*** Training of model 'GradientBoostingClassifier' started.\n",
      "*** Training of classifier ready. Time elapsed: 281.479ms\n",
      "\n",
      "*** Training of model 'RandomForestClassifier' started.\n",
      "*** Training of classifier ready. Time elapsed: 364.707ms\n",
      "\n",
      "*** Training of model 'RandomForestClassifier' started.\n",
      "*** Training of classifier ready. Time elapsed: 455.588ms\n",
      "\n",
      "*** Training of model 'RandomForestClassifier' started.\n",
      "*** Training of classifier ready. Time elapsed: 489.403ms\n",
      "\n",
      "*** Training of model 'RandomForestClassifier' started.\n",
      "*** Training of classifier ready. Time elapsed: 473.962ms\n",
      "\n",
      "*** Training of model 'RandomForestClassifier' started.\n",
      "*** Training of classifier ready. Time elapsed: 431.773ms\n",
      "\n",
      "*** Training of model 'RandomForestClassifier' started.\n",
      "*** Training of classifier ready. Time elapsed: 330.56ms\n",
      "\n",
      "*** Training of model 'RandomForestClassifier' started.\n",
      "*** Training of classifier ready. Time elapsed: 325.737ms\n",
      "\n",
      "*** Training of model 'RandomForestClassifier' started.\n",
      "*** Training of classifier ready. Time elapsed: 330.695ms\n",
      "\n",
      "*** Training of model 'RandomForestClassifier' started.\n",
      "*** Training of classifier ready. Time elapsed: 332.912ms\n",
      "\n",
      "*** Training of model 'RandomForestClassifier' started.\n",
      "*** Training of classifier ready. Time elapsed: 324.766ms\n",
      "\n",
      "*** Training of model 'RandomForestClassifier' started.\n",
      "*** Training of classifier ready. Time elapsed: 56.963ms\n",
      "\n"
     ]
    },
    {
     "name": "stderr",
     "output_type": "stream",
     "text": [
      "F-score is ill-defined and being set to 0.0 due to no predicted samples.\n",
      "Precision is ill-defined and being set to 0.0 due to no predicted samples.\n",
      "invalid value encountered in long_scalars\n"
     ]
    },
    {
     "name": "stdout",
     "output_type": "stream",
     "text": [
      "*** Training of model 'RandomForestClassifier' started.\n",
      "*** Training of classifier ready. Time elapsed: 813.405ms\n",
      "\n"
     ]
    },
    {
     "name": "stderr",
     "output_type": "stream",
     "text": [
      "F-score is ill-defined and being set to 0.0 due to no predicted samples.\n",
      "Precision is ill-defined and being set to 0.0 due to no predicted samples.\n",
      "invalid value encountered in long_scalars\n"
     ]
    },
    {
     "name": "stdout",
     "output_type": "stream",
     "text": [
      "*** Training of model 'RandomForestClassifier' started.\n",
      "*** Training of classifier ready. Time elapsed: 863.038ms\n",
      "\n"
     ]
    },
    {
     "name": "stderr",
     "output_type": "stream",
     "text": [
      "F-score is ill-defined and being set to 0.0 due to no predicted samples.\n",
      "Precision is ill-defined and being set to 0.0 due to no predicted samples.\n",
      "invalid value encountered in long_scalars\n"
     ]
    },
    {
     "name": "stdout",
     "output_type": "stream",
     "text": [
      "*** Training of model 'RandomForestClassifier' started.\n",
      "*** Training of classifier ready. Time elapsed: 160.623ms\n",
      "\n"
     ]
    },
    {
     "name": "stderr",
     "output_type": "stream",
     "text": [
      "F-score is ill-defined and being set to 0.0 due to no predicted samples.\n",
      "Precision is ill-defined and being set to 0.0 due to no predicted samples.\n",
      "invalid value encountered in long_scalars\n"
     ]
    },
    {
     "name": "stdout",
     "output_type": "stream",
     "text": [
      "*** Training of model 'RandomForestClassifier' started.\n",
      "*** Training of classifier ready. Time elapsed: 726.551ms\n",
      "\n"
     ]
    },
    {
     "name": "stderr",
     "output_type": "stream",
     "text": [
      "F-score is ill-defined and being set to 0.0 due to no predicted samples.\n",
      "Precision is ill-defined and being set to 0.0 due to no predicted samples.\n",
      "invalid value encountered in long_scalars\n"
     ]
    },
    {
     "name": "stdout",
     "output_type": "stream",
     "text": [
      "*** Training of model 'RandomForestClassifier' started.\n",
      "*** Training of classifier ready. Time elapsed: 277.398ms\n",
      "\n"
     ]
    },
    {
     "name": "stderr",
     "output_type": "stream",
     "text": [
      "F-score is ill-defined and being set to 0.0 due to no predicted samples.\n",
      "Precision is ill-defined and being set to 0.0 due to no predicted samples.\n",
      "invalid value encountered in long_scalars\n"
     ]
    },
    {
     "name": "stdout",
     "output_type": "stream",
     "text": [
      "*** Training of model 'RandomForestClassifier' started.\n",
      "*** Training of classifier ready. Time elapsed: 2.276ms\n",
      "\n",
      "*** Training of model 'RandomForestClassifier' started.\n",
      "*** Training of classifier ready. Time elapsed: 709.692ms\n",
      "\n",
      "*** Training of model 'RandomForestClassifier' started.\n",
      "*** Training of classifier ready. Time elapsed: 673.869ms\n",
      "\n",
      "*** Training of model 'RandomForestClassifier' started.\n",
      "*** Training of classifier ready. Time elapsed: 158.105ms\n",
      "\n",
      "*** Training of model 'DecisionTreeClassifier' started.\n",
      "*** Training of classifier ready. Time elapsed: 362.104ms\n",
      "\n",
      "*** Training of model 'DecisionTreeClassifier' started.\n",
      "*** Training of classifier ready. Time elapsed: 158.327ms\n",
      "\n",
      "*** Training of model 'DecisionTreeClassifier' started.\n",
      "*** Training of classifier ready. Time elapsed: 298.776ms\n",
      "\n",
      "*** Training of model 'DecisionTreeClassifier' started.\n",
      "*** Training of classifier ready. Time elapsed: 293.355ms\n",
      "\n",
      "*** Training of model 'DecisionTreeClassifier' started.\n",
      "*** Training of classifier ready. Time elapsed: 315.256ms\n",
      "\n",
      "*** Training of model 'DecisionTreeClassifier' started.\n",
      "*** Training of classifier ready. Time elapsed: 11.199ms\n",
      "\n",
      "*** Training of model 'DecisionTreeClassifier' started.\n",
      "*** Training of classifier ready. Time elapsed: 9.894ms\n",
      "\n",
      "*** Training of model 'DecisionTreeClassifier' started.\n",
      "*** Training of classifier ready. Time elapsed: 20.098ms\n",
      "\n",
      "*** Training of model 'DecisionTreeClassifier' started.\n",
      "*** Training of classifier ready. Time elapsed: 26.607ms\n",
      "\n",
      "*** Training of model 'DecisionTreeClassifier' started.\n",
      "*** Training of classifier ready. Time elapsed: 11.946ms\n",
      "\n",
      "*** Training of model 'DecisionTreeClassifier' started.\n",
      "*** Training of classifier ready. Time elapsed: 635.506ms\n",
      "\n",
      "*** Training of model 'DecisionTreeClassifier' started.\n",
      "*** Training of classifier ready. Time elapsed: 864.594ms\n",
      "\n",
      "*** Training of model 'DecisionTreeClassifier' started.\n",
      "*** Training of classifier ready. Time elapsed: 861.271ms\n",
      "\n",
      "*** Training of model 'DecisionTreeClassifier' started.\n",
      "*** Training of classifier ready. Time elapsed: 480.593ms\n",
      "\n",
      "*** Training of model 'DecisionTreeClassifier' started.\n",
      "*** Training of classifier ready. Time elapsed: 298.346ms\n",
      "\n",
      "*** Training of model 'DecisionTreeClassifier' started.\n",
      "*** Training of classifier ready. Time elapsed: 186.608ms\n",
      "\n",
      "*** Training of model 'DecisionTreeClassifier' started.\n",
      "*** Training of classifier ready. Time elapsed: 177.923ms\n",
      "\n",
      "*** Training of model 'DecisionTreeClassifier' started.\n",
      "*** Training of classifier ready. Time elapsed: 162.541ms\n",
      "\n",
      "*** Training of model 'DecisionTreeClassifier' started.\n",
      "*** Training of classifier ready. Time elapsed: 176.953ms\n",
      "\n",
      "*** Training of model 'DecisionTreeClassifier' started.\n",
      "*** Training of classifier ready. Time elapsed: 169.838ms\n",
      "\n",
      "*** Training of model 'LogisticRegression' started.\n"
     ]
    },
    {
     "name": "stderr",
     "output_type": "stream",
     "text": [
      "lbfgs failed to converge. Increase the number of iterations.\n"
     ]
    },
    {
     "name": "stdout",
     "output_type": "stream",
     "text": [
      "*** Training of classifier ready. Time elapsed: 632.013ms\n",
      "\n",
      "*** Training of model 'LogisticRegression' started.\n"
     ]
    },
    {
     "name": "stderr",
     "output_type": "stream",
     "text": [
      "lbfgs failed to converge. Increase the number of iterations.\n"
     ]
    },
    {
     "name": "stdout",
     "output_type": "stream",
     "text": [
      "*** Training of classifier ready. Time elapsed: 356.462ms\n",
      "\n",
      "*** Training of model 'LogisticRegression' started.\n"
     ]
    },
    {
     "name": "stderr",
     "output_type": "stream",
     "text": [
      "lbfgs failed to converge. Increase the number of iterations.\n"
     ]
    },
    {
     "name": "stdout",
     "output_type": "stream",
     "text": [
      "*** Training of classifier ready. Time elapsed: 977.093ms\n",
      "\n",
      "*** Training of model 'LogisticRegression' started.\n",
      "*** Training of classifier ready. Time elapsed: 87.533ms\n",
      "\n"
     ]
    },
    {
     "name": "stderr",
     "output_type": "stream",
     "text": [
      "F-score is ill-defined and being set to 0.0 due to no predicted samples.\n",
      "Precision is ill-defined and being set to 0.0 due to no predicted samples.\n",
      "invalid value encountered in long_scalars\n"
     ]
    },
    {
     "name": "stdout",
     "output_type": "stream",
     "text": [
      "*** Training of model 'LogisticRegression' started.\n",
      "*** Training of classifier ready. Time elapsed: 610.297ms\n",
      "\n",
      "*** Training of model 'LogisticRegression' started.\n"
     ]
    },
    {
     "name": "stderr",
     "output_type": "stream",
     "text": [
      "lbfgs failed to converge. Increase the number of iterations.\n"
     ]
    },
    {
     "name": "stdout",
     "output_type": "stream",
     "text": [
      "*** Training of classifier ready. Time elapsed: 563.174ms\n",
      "\n",
      "*** Training of model 'LogisticRegression' started.\n"
     ]
    },
    {
     "name": "stderr",
     "output_type": "stream",
     "text": [
      "lbfgs failed to converge. Increase the number of iterations.\n"
     ]
    },
    {
     "name": "stdout",
     "output_type": "stream",
     "text": [
      "*** Training of classifier ready. Time elapsed: 748.69ms\n",
      "\n",
      "*** Training of model 'LogisticRegression' started.\n",
      "*** Training of classifier ready. Time elapsed: 456.786ms\n",
      "\n",
      "*** Training of model 'LogisticRegression' started.\n",
      "*** Training of classifier ready. Time elapsed: 793.52ms\n",
      "\n",
      "*** Training of model 'LogisticRegression' started.\n"
     ]
    },
    {
     "name": "stderr",
     "output_type": "stream",
     "text": [
      "lbfgs failed to converge. Increase the number of iterations.\n"
     ]
    },
    {
     "name": "stdout",
     "output_type": "stream",
     "text": [
      "*** Training of classifier ready. Time elapsed: 296.393ms\n",
      "\n",
      "*** Training of model 'LogisticRegression' started.\n",
      "*** Training of classifier ready. Time elapsed: 592.556ms\n",
      "\n",
      "*** Training of model 'LogisticRegression' started.\n",
      "*** Training of classifier ready. Time elapsed: 680.555ms\n",
      "\n",
      "*** Training of model 'LogisticRegression' started.\n"
     ]
    },
    {
     "name": "stderr",
     "output_type": "stream",
     "text": [
      "lbfgs failed to converge. Increase the number of iterations.\n"
     ]
    },
    {
     "name": "stdout",
     "output_type": "stream",
     "text": [
      "*** Training of classifier ready. Time elapsed: 538.767ms\n",
      "\n",
      "*** Training of model 'LogisticRegression' started.\n"
     ]
    },
    {
     "name": "stderr",
     "output_type": "stream",
     "text": [
      "lbfgs failed to converge. Increase the number of iterations.\n"
     ]
    },
    {
     "name": "stdout",
     "output_type": "stream",
     "text": [
      "*** Training of classifier ready. Time elapsed: 914.748ms\n",
      "\n",
      "*** Training of model 'LogisticRegression' started.\n"
     ]
    },
    {
     "name": "stderr",
     "output_type": "stream",
     "text": [
      "lbfgs failed to converge. Increase the number of iterations.\n"
     ]
    },
    {
     "name": "stdout",
     "output_type": "stream",
     "text": [
      "*** Training of classifier ready. Time elapsed: 610.432ms\n",
      "\n",
      "*** Training of model 'LogisticRegression' started.\n"
     ]
    },
    {
     "name": "stderr",
     "output_type": "stream",
     "text": [
      "lbfgs failed to converge. Increase the number of iterations.\n"
     ]
    },
    {
     "name": "stdout",
     "output_type": "stream",
     "text": [
      "*** Training of classifier ready. Time elapsed: 238.371ms\n",
      "\n",
      "*** Training of model 'LogisticRegression' started.\n"
     ]
    },
    {
     "name": "stderr",
     "output_type": "stream",
     "text": [
      "lbfgs failed to converge. Increase the number of iterations.\n"
     ]
    },
    {
     "name": "stdout",
     "output_type": "stream",
     "text": [
      "*** Training of classifier ready. Time elapsed: 167.145ms\n",
      "\n",
      "*** Training of model 'LogisticRegression' started.\n"
     ]
    },
    {
     "name": "stderr",
     "output_type": "stream",
     "text": [
      "lbfgs failed to converge. Increase the number of iterations.\n"
     ]
    },
    {
     "name": "stdout",
     "output_type": "stream",
     "text": [
      "*** Training of classifier ready. Time elapsed: 186.243ms\n",
      "\n",
      "*** Training of model 'LogisticRegression' started.\n",
      "*** Training of classifier ready. Time elapsed: 112.053ms\n",
      "\n"
     ]
    },
    {
     "name": "stderr",
     "output_type": "stream",
     "text": [
      "F-score is ill-defined and being set to 0.0 due to no predicted samples.\n",
      "Precision is ill-defined and being set to 0.0 due to no predicted samples.\n",
      "invalid value encountered in long_scalars\n"
     ]
    },
    {
     "name": "stdout",
     "output_type": "stream",
     "text": [
      "*** Training of model 'LogisticRegression' started.\n"
     ]
    },
    {
     "name": "stderr",
     "output_type": "stream",
     "text": [
      "lbfgs failed to converge. Increase the number of iterations.\n"
     ]
    },
    {
     "name": "stdout",
     "output_type": "stream",
     "text": [
      "*** Training of classifier ready. Time elapsed: 804.095ms\n",
      "\n"
     ]
    },
    {
     "name": "stderr",
     "output_type": "stream",
     "text": [
      "Columns (11,18,19,20,24,27,35,64,83,90,92,94,95,96,98,105,112,113,115,118,122,123,130,133,137,138,139,140,141,147,168,169,175,232,241,245,246,285,308,313,314,316,321,325,329,336,348,354,355,356,360,376,391,396,414,418,423,427,429,432,439) have mixed types. Specify dtype option on import or set low_memory=False.\n"
     ]
    },
    {
     "name": "stdout",
     "output_type": "stream",
     "text": [
      "Fetching data for <fiber.condition.mrns.MRNs object at 0x7fa6d09a2860>\n",
      "Fetching data for Patient (...)\n",
      "*** Training of model 'GradientBoostingClassifier' started.\n",
      "*** Training of classifier ready. Time elapsed: 14.351ms\n",
      "\n",
      "*** Training of model 'GradientBoostingClassifier' started.\n",
      "*** Training of classifier ready. Time elapsed: 643.198ms\n",
      "\n",
      "*** Training of model 'GradientBoostingClassifier' started.\n",
      "*** Training of classifier ready. Time elapsed: 479.079ms\n",
      "\n",
      "*** Training of model 'GradientBoostingClassifier' started.\n",
      "*** Training of classifier ready. Time elapsed: 667.137ms\n",
      "\n",
      "*** Training of model 'GradientBoostingClassifier' started.\n",
      "*** Training of classifier ready. Time elapsed: 150.649ms\n",
      "\n",
      "*** Training of model 'GradientBoostingClassifier' started.\n",
      "*** Training of classifier ready. Time elapsed: 732.909ms\n",
      "\n",
      "*** Training of model 'GradientBoostingClassifier' started.\n",
      "*** Training of classifier ready. Time elapsed: 658.218ms\n",
      "\n",
      "*** Training of model 'GradientBoostingClassifier' started.\n",
      "*** Training of classifier ready. Time elapsed: 930.992ms\n",
      "\n",
      "*** Training of model 'GradientBoostingClassifier' started.\n",
      "*** Training of classifier ready. Time elapsed: 892.83ms\n",
      "\n",
      "*** Training of model 'GradientBoostingClassifier' started.\n",
      "*** Training of classifier ready. Time elapsed: 888.681ms\n",
      "\n",
      "*** Training of model 'GradientBoostingClassifier' started.\n",
      "*** Training of classifier ready. Time elapsed: 303.125ms\n",
      "\n"
     ]
    },
    {
     "name": "stderr",
     "output_type": "stream",
     "text": [
      "F-score is ill-defined and being set to 0.0 due to no predicted samples.\n",
      "Precision is ill-defined and being set to 0.0 due to no predicted samples.\n",
      "invalid value encountered in long_scalars\n"
     ]
    },
    {
     "name": "stdout",
     "output_type": "stream",
     "text": [
      "*** Training of model 'GradientBoostingClassifier' started.\n",
      "*** Training of classifier ready. Time elapsed: 357.887ms\n",
      "\n",
      "*** Training of model 'GradientBoostingClassifier' started.\n",
      "*** Training of classifier ready. Time elapsed: 801.023ms\n",
      "\n"
     ]
    },
    {
     "name": "stderr",
     "output_type": "stream",
     "text": [
      "F-score is ill-defined and being set to 0.0 due to no predicted samples.\n",
      "Precision is ill-defined and being set to 0.0 due to no predicted samples.\n",
      "invalid value encountered in long_scalars\n"
     ]
    },
    {
     "name": "stdout",
     "output_type": "stream",
     "text": [
      "*** Training of model 'GradientBoostingClassifier' started.\n",
      "*** Training of classifier ready. Time elapsed: 22.852ms\n",
      "\n"
     ]
    },
    {
     "name": "stderr",
     "output_type": "stream",
     "text": [
      "F-score is ill-defined and being set to 0.0 due to no predicted samples.\n",
      "Precision is ill-defined and being set to 0.0 due to no predicted samples.\n",
      "invalid value encountered in long_scalars\n"
     ]
    },
    {
     "name": "stdout",
     "output_type": "stream",
     "text": [
      "*** Training of model 'GradientBoostingClassifier' started.\n",
      "*** Training of classifier ready. Time elapsed: 470.442ms\n",
      "\n",
      "*** Training of model 'GradientBoostingClassifier' started.\n",
      "*** Training of classifier ready. Time elapsed: 323.166ms\n",
      "\n",
      "*** Training of model 'GradientBoostingClassifier' started.\n",
      "*** Training of classifier ready. Time elapsed: 985.651ms\n",
      "\n"
     ]
    },
    {
     "name": "stderr",
     "output_type": "stream",
     "text": [
      "F-score is ill-defined and being set to 0.0 due to no predicted samples.\n",
      "Precision is ill-defined and being set to 0.0 due to no predicted samples.\n",
      "invalid value encountered in long_scalars\n"
     ]
    },
    {
     "name": "stdout",
     "output_type": "stream",
     "text": [
      "*** Training of model 'GradientBoostingClassifier' started.\n",
      "*** Training of classifier ready. Time elapsed: 831.116ms\n",
      "\n",
      "*** Training of model 'GradientBoostingClassifier' started.\n",
      "*** Training of classifier ready. Time elapsed: 862.754ms\n",
      "\n",
      "*** Training of model 'GradientBoostingClassifier' started.\n",
      "*** Training of classifier ready. Time elapsed: 5.566ms\n",
      "\n",
      "*** Training of model 'RandomForestClassifier' started.\n",
      "*** Training of classifier ready. Time elapsed: 440.243ms\n",
      "\n",
      "*** Training of model 'RandomForestClassifier' started.\n",
      "*** Training of classifier ready. Time elapsed: 190.351ms\n",
      "\n",
      "*** Training of model 'RandomForestClassifier' started.\n",
      "*** Training of classifier ready. Time elapsed: 590.031ms\n",
      "\n",
      "*** Training of model 'RandomForestClassifier' started.\n",
      "*** Training of classifier ready. Time elapsed: 750.272ms\n",
      "\n",
      "*** Training of model 'RandomForestClassifier' started.\n",
      "*** Training of classifier ready. Time elapsed: 979.489ms\n",
      "\n",
      "*** Training of model 'RandomForestClassifier' started.\n",
      "*** Training of classifier ready. Time elapsed: 681.164ms\n",
      "\n",
      "*** Training of model 'RandomForestClassifier' started.\n",
      "*** Training of classifier ready. Time elapsed: 702.326ms\n",
      "\n",
      "*** Training of model 'RandomForestClassifier' started.\n",
      "*** Training of classifier ready. Time elapsed: 682.314ms\n",
      "\n",
      "*** Training of model 'RandomForestClassifier' started.\n",
      "*** Training of classifier ready. Time elapsed: 697.839ms\n",
      "\n",
      "*** Training of model 'RandomForestClassifier' started.\n",
      "*** Training of classifier ready. Time elapsed: 677.636ms\n",
      "\n",
      "*** Training of model 'RandomForestClassifier' started.\n",
      "*** Training of classifier ready. Time elapsed: 285.912ms\n",
      "\n"
     ]
    },
    {
     "name": "stderr",
     "output_type": "stream",
     "text": [
      "F-score is ill-defined and being set to 0.0 due to no predicted samples.\n",
      "Precision is ill-defined and being set to 0.0 due to no predicted samples.\n",
      "invalid value encountered in long_scalars\n"
     ]
    },
    {
     "name": "stdout",
     "output_type": "stream",
     "text": [
      "*** Training of model 'RandomForestClassifier' started.\n",
      "*** Training of classifier ready. Time elapsed: 44.001ms\n",
      "\n"
     ]
    },
    {
     "name": "stderr",
     "output_type": "stream",
     "text": [
      "F-score is ill-defined and being set to 0.0 due to no predicted samples.\n",
      "Precision is ill-defined and being set to 0.0 due to no predicted samples.\n",
      "invalid value encountered in long_scalars\n"
     ]
    },
    {
     "name": "stdout",
     "output_type": "stream",
     "text": [
      "*** Training of model 'RandomForestClassifier' started.\n",
      "*** Training of classifier ready. Time elapsed: 570.072ms\n",
      "\n"
     ]
    },
    {
     "name": "stderr",
     "output_type": "stream",
     "text": [
      "F-score is ill-defined and being set to 0.0 due to no predicted samples.\n",
      "Precision is ill-defined and being set to 0.0 due to no predicted samples.\n",
      "invalid value encountered in long_scalars\n"
     ]
    },
    {
     "name": "stdout",
     "output_type": "stream",
     "text": [
      "*** Training of model 'RandomForestClassifier' started.\n",
      "*** Training of classifier ready. Time elapsed: 74.503ms\n",
      "\n"
     ]
    },
    {
     "name": "stderr",
     "output_type": "stream",
     "text": [
      "F-score is ill-defined and being set to 0.0 due to no predicted samples.\n",
      "Precision is ill-defined and being set to 0.0 due to no predicted samples.\n",
      "invalid value encountered in long_scalars\n"
     ]
    },
    {
     "name": "stdout",
     "output_type": "stream",
     "text": [
      "*** Training of model 'RandomForestClassifier' started.\n",
      "*** Training of classifier ready. Time elapsed: 2.747ms\n",
      "\n"
     ]
    },
    {
     "name": "stderr",
     "output_type": "stream",
     "text": [
      "F-score is ill-defined and being set to 0.0 due to no predicted samples.\n",
      "Precision is ill-defined and being set to 0.0 due to no predicted samples.\n",
      "invalid value encountered in long_scalars\n"
     ]
    },
    {
     "name": "stdout",
     "output_type": "stream",
     "text": [
      "*** Training of model 'RandomForestClassifier' started.\n",
      "*** Training of classifier ready. Time elapsed: 29.048ms\n",
      "\n"
     ]
    },
    {
     "name": "stderr",
     "output_type": "stream",
     "text": [
      "F-score is ill-defined and being set to 0.0 due to no predicted samples.\n",
      "Precision is ill-defined and being set to 0.0 due to no predicted samples.\n",
      "invalid value encountered in long_scalars\n"
     ]
    },
    {
     "name": "stdout",
     "output_type": "stream",
     "text": [
      "*** Training of model 'RandomForestClassifier' started.\n",
      "*** Training of classifier ready. Time elapsed: 106.681ms\n",
      "\n",
      "*** Training of model 'RandomForestClassifier' started.\n",
      "*** Training of classifier ready. Time elapsed: 118.542ms\n",
      "\n",
      "*** Training of model 'RandomForestClassifier' started.\n",
      "*** Training of classifier ready. Time elapsed: 713.468ms\n",
      "\n",
      "*** Training of model 'RandomForestClassifier' started.\n",
      "*** Training of classifier ready. Time elapsed: 296.929ms\n",
      "\n"
     ]
    },
    {
     "name": "stderr",
     "output_type": "stream",
     "text": [
      "F-score is ill-defined and being set to 0.0 due to no predicted samples.\n",
      "Precision is ill-defined and being set to 0.0 due to no predicted samples.\n",
      "invalid value encountered in long_scalars\n"
     ]
    },
    {
     "name": "stdout",
     "output_type": "stream",
     "text": [
      "*** Training of model 'DecisionTreeClassifier' started.\n",
      "*** Training of classifier ready. Time elapsed: 128.406ms\n",
      "\n",
      "*** Training of model 'DecisionTreeClassifier' started.\n",
      "*** Training of classifier ready. Time elapsed: 274.424ms\n",
      "\n",
      "*** Training of model 'DecisionTreeClassifier' started.\n",
      "*** Training of classifier ready. Time elapsed: 248.179ms\n",
      "\n",
      "*** Training of model 'DecisionTreeClassifier' started.\n",
      "*** Training of classifier ready. Time elapsed: 253.156ms\n",
      "\n",
      "*** Training of model 'DecisionTreeClassifier' started.\n",
      "*** Training of classifier ready. Time elapsed: 399.383ms\n",
      "\n",
      "*** Training of model 'DecisionTreeClassifier' started.\n",
      "*** Training of classifier ready. Time elapsed: 24.237ms\n",
      "\n",
      "*** Training of model 'DecisionTreeClassifier' started.\n",
      "*** Training of classifier ready. Time elapsed: 9.381ms\n",
      "\n",
      "*** Training of model 'DecisionTreeClassifier' started.\n",
      "*** Training of classifier ready. Time elapsed: 9.969ms\n",
      "\n",
      "*** Training of model 'DecisionTreeClassifier' started.\n",
      "*** Training of classifier ready. Time elapsed: 10.322ms\n",
      "\n",
      "*** Training of model 'DecisionTreeClassifier' started.\n",
      "*** Training of classifier ready. Time elapsed: 25.539ms\n",
      "\n",
      "*** Training of model 'DecisionTreeClassifier' started.\n",
      "*** Training of classifier ready. Time elapsed: 558.756ms\n",
      "\n",
      "*** Training of model 'DecisionTreeClassifier' started.\n",
      "*** Training of classifier ready. Time elapsed: 226.312ms\n",
      "\n",
      "*** Training of model 'DecisionTreeClassifier' started.\n",
      "*** Training of classifier ready. Time elapsed: 274.145ms\n",
      "\n",
      "*** Training of model 'DecisionTreeClassifier' started.\n",
      "*** Training of classifier ready. Time elapsed: 322.595ms\n",
      "\n",
      "*** Training of model 'DecisionTreeClassifier' started.\n",
      "*** Training of classifier ready. Time elapsed: 254.193ms\n",
      "\n",
      "*** Training of model 'DecisionTreeClassifier' started.\n",
      "*** Training of classifier ready. Time elapsed: 56.818ms\n",
      "\n",
      "*** Training of model 'DecisionTreeClassifier' started.\n",
      "*** Training of classifier ready. Time elapsed: 52.499ms\n",
      "\n",
      "*** Training of model 'DecisionTreeClassifier' started.\n",
      "*** Training of classifier ready. Time elapsed: 58.198ms\n",
      "\n",
      "*** Training of model 'DecisionTreeClassifier' started.\n",
      "*** Training of classifier ready. Time elapsed: 56.084ms\n",
      "\n",
      "*** Training of model 'DecisionTreeClassifier' started.\n",
      "*** Training of classifier ready. Time elapsed: 55.663ms\n",
      "\n",
      "*** Training of model 'LogisticRegression' started.\n"
     ]
    },
    {
     "name": "stderr",
     "output_type": "stream",
     "text": [
      "lbfgs failed to converge. Increase the number of iterations.\n"
     ]
    },
    {
     "name": "stdout",
     "output_type": "stream",
     "text": [
      "*** Training of classifier ready. Time elapsed: 671.796ms\n",
      "\n",
      "*** Training of model 'LogisticRegression' started.\n"
     ]
    },
    {
     "name": "stderr",
     "output_type": "stream",
     "text": [
      "lbfgs failed to converge. Increase the number of iterations.\n"
     ]
    },
    {
     "name": "stdout",
     "output_type": "stream",
     "text": [
      "*** Training of classifier ready. Time elapsed: 746.96ms\n",
      "\n",
      "*** Training of model 'LogisticRegression' started.\n"
     ]
    },
    {
     "name": "stderr",
     "output_type": "stream",
     "text": [
      "lbfgs failed to converge. Increase the number of iterations.\n"
     ]
    },
    {
     "name": "stdout",
     "output_type": "stream",
     "text": [
      "*** Training of classifier ready. Time elapsed: 554.34ms\n",
      "\n",
      "*** Training of model 'LogisticRegression' started.\n"
     ]
    },
    {
     "name": "stderr",
     "output_type": "stream",
     "text": [
      "lbfgs failed to converge. Increase the number of iterations.\n"
     ]
    },
    {
     "name": "stdout",
     "output_type": "stream",
     "text": [
      "*** Training of classifier ready. Time elapsed: 936.061ms\n",
      "\n",
      "*** Training of model 'LogisticRegression' started.\n"
     ]
    },
    {
     "name": "stderr",
     "output_type": "stream",
     "text": [
      "lbfgs failed to converge. Increase the number of iterations.\n"
     ]
    },
    {
     "name": "stdout",
     "output_type": "stream",
     "text": [
      "*** Training of classifier ready. Time elapsed: 619.992ms\n",
      "\n",
      "*** Training of model 'LogisticRegression' started.\n"
     ]
    },
    {
     "name": "stderr",
     "output_type": "stream",
     "text": [
      "lbfgs failed to converge. Increase the number of iterations.\n"
     ]
    },
    {
     "name": "stdout",
     "output_type": "stream",
     "text": [
      "*** Training of classifier ready. Time elapsed: 440.701ms\n",
      "\n",
      "*** Training of model 'LogisticRegression' started.\n"
     ]
    },
    {
     "name": "stderr",
     "output_type": "stream",
     "text": [
      "lbfgs failed to converge. Increase the number of iterations.\n"
     ]
    },
    {
     "name": "stdout",
     "output_type": "stream",
     "text": [
      "*** Training of classifier ready. Time elapsed: 957.889ms\n",
      "\n",
      "*** Training of model 'LogisticRegression' started.\n",
      "*** Training of classifier ready. Time elapsed: 324.531ms\n",
      "\n",
      "*** Training of model 'LogisticRegression' started.\n"
     ]
    },
    {
     "name": "stderr",
     "output_type": "stream",
     "text": [
      "lbfgs failed to converge. Increase the number of iterations.\n"
     ]
    },
    {
     "name": "stdout",
     "output_type": "stream",
     "text": [
      "*** Training of classifier ready. Time elapsed: 894.528ms\n",
      "\n",
      "*** Training of model 'LogisticRegression' started.\n",
      "*** Training of classifier ready. Time elapsed: 657.534ms\n",
      "\n",
      "*** Training of model 'LogisticRegression' started.\n"
     ]
    },
    {
     "name": "stderr",
     "output_type": "stream",
     "text": [
      "lbfgs failed to converge. Increase the number of iterations.\n"
     ]
    },
    {
     "name": "stdout",
     "output_type": "stream",
     "text": [
      "*** Training of classifier ready. Time elapsed: 556.671ms\n",
      "\n",
      "*** Training of model 'LogisticRegression' started.\n"
     ]
    },
    {
     "name": "stderr",
     "output_type": "stream",
     "text": [
      "lbfgs failed to converge. Increase the number of iterations.\n"
     ]
    },
    {
     "name": "stdout",
     "output_type": "stream",
     "text": [
      "*** Training of classifier ready. Time elapsed: 653.769ms\n",
      "\n",
      "*** Training of model 'LogisticRegression' started.\n",
      "*** Training of classifier ready. Time elapsed: 454.492ms\n",
      "\n",
      "*** Training of model 'LogisticRegression' started.\n",
      "*** Training of classifier ready. Time elapsed: 127.041ms\n",
      "\n"
     ]
    },
    {
     "name": "stderr",
     "output_type": "stream",
     "text": [
      "F-score is ill-defined and being set to 0.0 due to no predicted samples.\n",
      "Precision is ill-defined and being set to 0.0 due to no predicted samples.\n",
      "invalid value encountered in long_scalars\n"
     ]
    },
    {
     "name": "stdout",
     "output_type": "stream",
     "text": [
      "*** Training of model 'LogisticRegression' started.\n"
     ]
    },
    {
     "name": "stderr",
     "output_type": "stream",
     "text": [
      "lbfgs failed to converge. Increase the number of iterations.\n"
     ]
    },
    {
     "name": "stdout",
     "output_type": "stream",
     "text": [
      "*** Training of classifier ready. Time elapsed: 747.516ms\n",
      "\n",
      "*** Training of model 'LogisticRegression' started.\n"
     ]
    },
    {
     "name": "stderr",
     "output_type": "stream",
     "text": [
      "lbfgs failed to converge. Increase the number of iterations.\n"
     ]
    },
    {
     "name": "stdout",
     "output_type": "stream",
     "text": [
      "*** Training of classifier ready. Time elapsed: 796.744ms\n",
      "\n",
      "*** Training of model 'LogisticRegression' started.\n"
     ]
    },
    {
     "name": "stderr",
     "output_type": "stream",
     "text": [
      "lbfgs failed to converge. Increase the number of iterations.\n"
     ]
    },
    {
     "name": "stdout",
     "output_type": "stream",
     "text": [
      "*** Training of classifier ready. Time elapsed: 798.751ms\n",
      "\n",
      "*** Training of model 'LogisticRegression' started.\n"
     ]
    },
    {
     "name": "stderr",
     "output_type": "stream",
     "text": [
      "lbfgs failed to converge. Increase the number of iterations.\n"
     ]
    },
    {
     "name": "stdout",
     "output_type": "stream",
     "text": [
      "*** Training of classifier ready. Time elapsed: 433.178ms\n",
      "\n",
      "*** Training of model 'LogisticRegression' started.\n",
      "*** Training of classifier ready. Time elapsed: 31.228ms\n",
      "\n"
     ]
    },
    {
     "name": "stderr",
     "output_type": "stream",
     "text": [
      "F-score is ill-defined and being set to 0.0 due to no predicted samples.\n",
      "Precision is ill-defined and being set to 0.0 due to no predicted samples.\n",
      "invalid value encountered in long_scalars\n"
     ]
    },
    {
     "name": "stdout",
     "output_type": "stream",
     "text": [
      "*** Training of model 'LogisticRegression' started.\n"
     ]
    },
    {
     "name": "stderr",
     "output_type": "stream",
     "text": [
      "lbfgs failed to converge. Increase the number of iterations.\n"
     ]
    },
    {
     "name": "stdout",
     "output_type": "stream",
     "text": [
      "*** Training of classifier ready. Time elapsed: 98.444ms\n",
      "\n"
     ]
    },
    {
     "name": "stderr",
     "output_type": "stream",
     "text": [
      "Columns (10,17,18,19,23,26,30,34,63,82,89,91,93,94,95,96,103,110,111,112,115,118,119,120,127,130,134,135,136,137,143,163,164,170,226,234,238,239,277,303,304,305,308,310,314,318,325,337,343,344,345,349,365,380,385,406,411,415,417,420,427) have mixed types. Specify dtype option on import or set low_memory=False.\n"
     ]
    },
    {
     "name": "stdout",
     "output_type": "stream",
     "text": [
      "Fetching data for <fiber.condition.mrns.MRNs object at 0x7fa6518c9e10>\n",
      "Fetching data for Patient (...)\n",
      "*** Training of model 'GradientBoostingClassifier' started.\n",
      "*** Training of classifier ready. Time elapsed: 585.536ms\n",
      "\n",
      "*** Training of model 'GradientBoostingClassifier' started.\n",
      "*** Training of classifier ready. Time elapsed: 629.121ms\n",
      "\n",
      "*** Training of model 'GradientBoostingClassifier' started.\n",
      "*** Training of classifier ready. Time elapsed: 941.466ms\n",
      "\n",
      "*** Training of model 'GradientBoostingClassifier' started.\n",
      "*** Training of classifier ready. Time elapsed: 638.826ms\n",
      "\n",
      "*** Training of model 'GradientBoostingClassifier' started.\n",
      "*** Training of classifier ready. Time elapsed: 740.385ms\n",
      "\n",
      "*** Training of model 'GradientBoostingClassifier' started.\n",
      "*** Training of classifier ready. Time elapsed: 934.217ms\n",
      "\n",
      "*** Training of model 'GradientBoostingClassifier' started.\n",
      "*** Training of classifier ready. Time elapsed: 855.414ms\n",
      "\n",
      "*** Training of model 'GradientBoostingClassifier' started.\n",
      "*** Training of classifier ready. Time elapsed: 821.644ms\n",
      "\n",
      "*** Training of model 'GradientBoostingClassifier' started.\n",
      "*** Training of classifier ready. Time elapsed: 991.786ms\n",
      "\n",
      "*** Training of model 'GradientBoostingClassifier' started.\n",
      "*** Training of classifier ready. Time elapsed: 814.014ms\n",
      "\n",
      "*** Training of model 'GradientBoostingClassifier' started.\n",
      "*** Training of classifier ready. Time elapsed: 126.165ms\n",
      "\n",
      "*** Training of model 'GradientBoostingClassifier' started.\n",
      "*** Training of classifier ready. Time elapsed: 213.385ms\n",
      "\n",
      "*** Training of model 'GradientBoostingClassifier' started.\n",
      "*** Training of classifier ready. Time elapsed: 746.272ms\n",
      "\n",
      "*** Training of model 'GradientBoostingClassifier' started.\n",
      "*** Training of classifier ready. Time elapsed: 34.406ms\n",
      "\n"
     ]
    },
    {
     "name": "stderr",
     "output_type": "stream",
     "text": [
      "F-score is ill-defined and being set to 0.0 due to no predicted samples.\n",
      "Precision is ill-defined and being set to 0.0 due to no predicted samples.\n",
      "invalid value encountered in long_scalars\n"
     ]
    },
    {
     "name": "stdout",
     "output_type": "stream",
     "text": [
      "*** Training of model 'GradientBoostingClassifier' started.\n",
      "*** Training of classifier ready. Time elapsed: 850.017ms\n",
      "\n"
     ]
    },
    {
     "name": "stderr",
     "output_type": "stream",
     "text": [
      "F-score is ill-defined and being set to 0.0 due to no predicted samples.\n",
      "Precision is ill-defined and being set to 0.0 due to no predicted samples.\n",
      "invalid value encountered in long_scalars\n"
     ]
    },
    {
     "name": "stdout",
     "output_type": "stream",
     "text": [
      "*** Training of model 'GradientBoostingClassifier' started.\n",
      "*** Training of classifier ready. Time elapsed: 952.593ms\n",
      "\n",
      "*** Training of model 'GradientBoostingClassifier' started.\n",
      "*** Training of classifier ready. Time elapsed: 882.142ms\n",
      "\n",
      "*** Training of model 'GradientBoostingClassifier' started.\n",
      "*** Training of classifier ready. Time elapsed: 650.765ms\n",
      "\n",
      "*** Training of model 'GradientBoostingClassifier' started.\n",
      "*** Training of classifier ready. Time elapsed: 170.379ms\n",
      "\n"
     ]
    },
    {
     "name": "stderr",
     "output_type": "stream",
     "text": [
      "F-score is ill-defined and being set to 0.0 due to no predicted samples.\n",
      "Precision is ill-defined and being set to 0.0 due to no predicted samples.\n",
      "invalid value encountered in long_scalars\n"
     ]
    },
    {
     "name": "stdout",
     "output_type": "stream",
     "text": [
      "*** Training of model 'GradientBoostingClassifier' started.\n",
      "*** Training of classifier ready. Time elapsed: 735.178ms\n",
      "\n",
      "*** Training of model 'RandomForestClassifier' started.\n",
      "*** Training of classifier ready. Time elapsed: 327.906ms\n",
      "\n",
      "*** Training of model 'RandomForestClassifier' started.\n",
      "*** Training of classifier ready. Time elapsed: 276.389ms\n",
      "\n",
      "*** Training of model 'RandomForestClassifier' started.\n",
      "*** Training of classifier ready. Time elapsed: 314.361ms\n",
      "\n",
      "*** Training of model 'RandomForestClassifier' started.\n",
      "*** Training of classifier ready. Time elapsed: 320.766ms\n",
      "\n",
      "*** Training of model 'RandomForestClassifier' started.\n",
      "*** Training of classifier ready. Time elapsed: 298.658ms\n",
      "\n",
      "*** Training of model 'RandomForestClassifier' started.\n",
      "*** Training of classifier ready. Time elapsed: 332.687ms\n",
      "\n",
      "*** Training of model 'RandomForestClassifier' started.\n",
      "*** Training of classifier ready. Time elapsed: 335.474ms\n",
      "\n",
      "*** Training of model 'RandomForestClassifier' started.\n",
      "*** Training of classifier ready. Time elapsed: 332.121ms\n",
      "\n",
      "*** Training of model 'RandomForestClassifier' started.\n",
      "*** Training of classifier ready. Time elapsed: 332.203ms\n",
      "\n",
      "*** Training of model 'RandomForestClassifier' started.\n",
      "*** Training of classifier ready. Time elapsed: 335.006ms\n",
      "\n",
      "*** Training of model 'RandomForestClassifier' started.\n",
      "*** Training of classifier ready. Time elapsed: 500.1ms\n",
      "\n"
     ]
    },
    {
     "name": "stderr",
     "output_type": "stream",
     "text": [
      "F-score is ill-defined and being set to 0.0 due to no predicted samples.\n",
      "Precision is ill-defined and being set to 0.0 due to no predicted samples.\n",
      "invalid value encountered in long_scalars\n"
     ]
    },
    {
     "name": "stdout",
     "output_type": "stream",
     "text": [
      "*** Training of model 'RandomForestClassifier' started.\n",
      "*** Training of classifier ready. Time elapsed: 493.726ms\n",
      "\n"
     ]
    },
    {
     "name": "stderr",
     "output_type": "stream",
     "text": [
      "F-score is ill-defined and being set to 0.0 due to no predicted samples.\n",
      "Precision is ill-defined and being set to 0.0 due to no predicted samples.\n",
      "invalid value encountered in long_scalars\n"
     ]
    },
    {
     "name": "stdout",
     "output_type": "stream",
     "text": [
      "*** Training of model 'RandomForestClassifier' started.\n",
      "*** Training of classifier ready. Time elapsed: 745.912ms\n",
      "\n"
     ]
    },
    {
     "name": "stderr",
     "output_type": "stream",
     "text": [
      "F-score is ill-defined and being set to 0.0 due to no predicted samples.\n",
      "Precision is ill-defined and being set to 0.0 due to no predicted samples.\n",
      "invalid value encountered in long_scalars\n"
     ]
    },
    {
     "name": "stdout",
     "output_type": "stream",
     "text": [
      "*** Training of model 'RandomForestClassifier' started.\n",
      "*** Training of classifier ready. Time elapsed: 115.008ms\n",
      "\n"
     ]
    },
    {
     "name": "stderr",
     "output_type": "stream",
     "text": [
      "F-score is ill-defined and being set to 0.0 due to no predicted samples.\n",
      "Precision is ill-defined and being set to 0.0 due to no predicted samples.\n",
      "invalid value encountered in long_scalars\n"
     ]
    },
    {
     "name": "stdout",
     "output_type": "stream",
     "text": [
      "*** Training of model 'RandomForestClassifier' started.\n",
      "*** Training of classifier ready. Time elapsed: 632.85ms\n",
      "\n"
     ]
    },
    {
     "name": "stderr",
     "output_type": "stream",
     "text": [
      "F-score is ill-defined and being set to 0.0 due to no predicted samples.\n",
      "Precision is ill-defined and being set to 0.0 due to no predicted samples.\n",
      "invalid value encountered in long_scalars\n"
     ]
    },
    {
     "name": "stdout",
     "output_type": "stream",
     "text": [
      "*** Training of model 'RandomForestClassifier' started.\n",
      "*** Training of classifier ready. Time elapsed: 852.597ms\n",
      "\n",
      "*** Training of model 'RandomForestClassifier' started.\n",
      "*** Training of classifier ready. Time elapsed: 216.695ms\n",
      "\n",
      "*** Training of model 'RandomForestClassifier' started.\n",
      "*** Training of classifier ready. Time elapsed: 187.764ms\n",
      "\n",
      "*** Training of model 'RandomForestClassifier' started.\n",
      "*** Training of classifier ready. Time elapsed: 206.093ms\n",
      "\n",
      "*** Training of model 'RandomForestClassifier' started.\n",
      "*** Training of classifier ready. Time elapsed: 57.567ms\n",
      "\n"
     ]
    },
    {
     "name": "stderr",
     "output_type": "stream",
     "text": [
      "F-score is ill-defined and being set to 0.0 due to no predicted samples.\n",
      "Precision is ill-defined and being set to 0.0 due to no predicted samples.\n",
      "invalid value encountered in long_scalars\n"
     ]
    },
    {
     "name": "stdout",
     "output_type": "stream",
     "text": [
      "*** Training of model 'DecisionTreeClassifier' started.\n",
      "*** Training of classifier ready. Time elapsed: 373.964ms\n",
      "\n",
      "*** Training of model 'DecisionTreeClassifier' started.\n",
      "*** Training of classifier ready. Time elapsed: 256.765ms\n",
      "\n",
      "*** Training of model 'DecisionTreeClassifier' started.\n",
      "*** Training of classifier ready. Time elapsed: 245.615ms\n",
      "\n",
      "*** Training of model 'DecisionTreeClassifier' started.\n",
      "*** Training of classifier ready. Time elapsed: 227.83ms\n",
      "\n",
      "*** Training of model 'DecisionTreeClassifier' started.\n",
      "*** Training of classifier ready. Time elapsed: 368.003ms\n",
      "\n",
      "*** Training of model 'DecisionTreeClassifier' started.\n",
      "*** Training of classifier ready. Time elapsed: 28.218ms\n",
      "\n",
      "*** Training of model 'DecisionTreeClassifier' started.\n",
      "*** Training of classifier ready. Time elapsed: 9.324ms\n",
      "\n",
      "*** Training of model 'DecisionTreeClassifier' started.\n",
      "*** Training of classifier ready. Time elapsed: 9.656ms\n",
      "\n",
      "*** Training of model 'DecisionTreeClassifier' started.\n",
      "*** Training of classifier ready. Time elapsed: 31.211ms\n",
      "\n",
      "*** Training of model 'DecisionTreeClassifier' started.\n",
      "*** Training of classifier ready. Time elapsed: 23.999ms\n",
      "\n",
      "*** Training of model 'DecisionTreeClassifier' started.\n",
      "*** Training of classifier ready. Time elapsed: 254.521ms\n",
      "\n",
      "*** Training of model 'DecisionTreeClassifier' started.\n",
      "*** Training of classifier ready. Time elapsed: 259.145ms\n",
      "\n",
      "*** Training of model 'DecisionTreeClassifier' started.\n",
      "*** Training of classifier ready. Time elapsed: 693.467ms\n",
      "\n",
      "*** Training of model 'DecisionTreeClassifier' started.\n",
      "*** Training of classifier ready. Time elapsed: 482.622ms\n",
      "\n",
      "*** Training of model 'DecisionTreeClassifier' started.\n",
      "*** Training of classifier ready. Time elapsed: 448.728ms\n",
      "\n",
      "*** Training of model 'DecisionTreeClassifier' started.\n",
      "*** Training of classifier ready. Time elapsed: 51.256ms\n",
      "\n",
      "*** Training of model 'DecisionTreeClassifier' started.\n",
      "*** Training of classifier ready. Time elapsed: 51.019ms\n",
      "\n",
      "*** Training of model 'DecisionTreeClassifier' started.\n",
      "*** Training of classifier ready. Time elapsed: 169.156ms\n",
      "\n",
      "*** Training of model 'DecisionTreeClassifier' started.\n",
      "*** Training of classifier ready. Time elapsed: 50.333ms\n",
      "\n",
      "*** Training of model 'DecisionTreeClassifier' started.\n",
      "*** Training of classifier ready. Time elapsed: 53.188ms\n",
      "\n",
      "*** Training of model 'LogisticRegression' started.\n"
     ]
    },
    {
     "name": "stderr",
     "output_type": "stream",
     "text": [
      "lbfgs failed to converge. Increase the number of iterations.\n"
     ]
    },
    {
     "name": "stdout",
     "output_type": "stream",
     "text": [
      "*** Training of classifier ready. Time elapsed: 355.237ms\n",
      "\n",
      "*** Training of model 'LogisticRegression' started.\n"
     ]
    },
    {
     "name": "stderr",
     "output_type": "stream",
     "text": [
      "lbfgs failed to converge. Increase the number of iterations.\n"
     ]
    },
    {
     "name": "stdout",
     "output_type": "stream",
     "text": [
      "*** Training of classifier ready. Time elapsed: 779.701ms\n",
      "\n",
      "*** Training of model 'LogisticRegression' started.\n"
     ]
    },
    {
     "name": "stderr",
     "output_type": "stream",
     "text": [
      "lbfgs failed to converge. Increase the number of iterations.\n"
     ]
    },
    {
     "name": "stdout",
     "output_type": "stream",
     "text": [
      "*** Training of classifier ready. Time elapsed: 295.139ms\n",
      "\n",
      "*** Training of model 'LogisticRegression' started.\n",
      "*** Training of classifier ready. Time elapsed: 87.607ms\n",
      "\n"
     ]
    },
    {
     "name": "stderr",
     "output_type": "stream",
     "text": [
      "F-score is ill-defined and being set to 0.0 due to no predicted samples.\n",
      "Precision is ill-defined and being set to 0.0 due to no predicted samples.\n",
      "invalid value encountered in long_scalars\n"
     ]
    },
    {
     "name": "stdout",
     "output_type": "stream",
     "text": [
      "*** Training of model 'LogisticRegression' started.\n",
      "*** Training of classifier ready. Time elapsed: 780.798ms\n",
      "\n",
      "*** Training of model 'LogisticRegression' started.\n",
      "*** Training of classifier ready. Time elapsed: 149.584ms\n",
      "\n",
      "*** Training of model 'LogisticRegression' started.\n"
     ]
    },
    {
     "name": "stderr",
     "output_type": "stream",
     "text": [
      "lbfgs failed to converge. Increase the number of iterations.\n"
     ]
    },
    {
     "name": "stdout",
     "output_type": "stream",
     "text": [
      "*** Training of classifier ready. Time elapsed: 42.008ms\n",
      "\n",
      "*** Training of model 'LogisticRegression' started.\n"
     ]
    },
    {
     "name": "stderr",
     "output_type": "stream",
     "text": [
      "lbfgs failed to converge. Increase the number of iterations.\n"
     ]
    },
    {
     "name": "stdout",
     "output_type": "stream",
     "text": [
      "*** Training of classifier ready. Time elapsed: 482.302ms\n",
      "\n",
      "*** Training of model 'LogisticRegression' started.\n",
      "*** Training of classifier ready. Time elapsed: 511.411ms\n",
      "\n",
      "*** Training of model 'LogisticRegression' started.\n"
     ]
    },
    {
     "name": "stderr",
     "output_type": "stream",
     "text": [
      "lbfgs failed to converge. Increase the number of iterations.\n"
     ]
    },
    {
     "name": "stdout",
     "output_type": "stream",
     "text": [
      "*** Training of classifier ready. Time elapsed: 889.677ms\n",
      "\n",
      "*** Training of model 'LogisticRegression' started.\n"
     ]
    },
    {
     "name": "stderr",
     "output_type": "stream",
     "text": [
      "lbfgs failed to converge. Increase the number of iterations.\n"
     ]
    },
    {
     "name": "stdout",
     "output_type": "stream",
     "text": [
      "*** Training of classifier ready. Time elapsed: 528.426ms\n",
      "\n",
      "*** Training of model 'LogisticRegression' started.\n"
     ]
    },
    {
     "name": "stderr",
     "output_type": "stream",
     "text": [
      "lbfgs failed to converge. Increase the number of iterations.\n"
     ]
    },
    {
     "name": "stdout",
     "output_type": "stream",
     "text": [
      "*** Training of classifier ready. Time elapsed: 332.033ms\n",
      "\n",
      "*** Training of model 'LogisticRegression' started.\n",
      "*** Training of classifier ready. Time elapsed: 686.139ms\n",
      "\n",
      "*** Training of model 'LogisticRegression' started.\n"
     ]
    },
    {
     "name": "stderr",
     "output_type": "stream",
     "text": [
      "lbfgs failed to converge. Increase the number of iterations.\n"
     ]
    },
    {
     "name": "stdout",
     "output_type": "stream",
     "text": [
      "*** Training of classifier ready. Time elapsed: 71.86ms\n",
      "\n",
      "*** Training of model 'LogisticRegression' started.\n"
     ]
    },
    {
     "name": "stderr",
     "output_type": "stream",
     "text": [
      "lbfgs failed to converge. Increase the number of iterations.\n"
     ]
    },
    {
     "name": "stdout",
     "output_type": "stream",
     "text": [
      "*** Training of classifier ready. Time elapsed: 605.46ms\n",
      "\n",
      "*** Training of model 'LogisticRegression' started.\n",
      "*** Training of classifier ready. Time elapsed: 624.811ms\n",
      "\n",
      "*** Training of model 'LogisticRegression' started.\n"
     ]
    },
    {
     "name": "stderr",
     "output_type": "stream",
     "text": [
      "lbfgs failed to converge. Increase the number of iterations.\n"
     ]
    },
    {
     "name": "stdout",
     "output_type": "stream",
     "text": [
      "*** Training of classifier ready. Time elapsed: 819.549ms\n",
      "\n",
      "*** Training of model 'LogisticRegression' started.\n",
      "*** Training of classifier ready. Time elapsed: 229.436ms\n",
      "\n",
      "*** Training of model 'LogisticRegression' started.\n",
      "*** Training of classifier ready. Time elapsed: 65.623ms\n",
      "\n"
     ]
    },
    {
     "name": "stderr",
     "output_type": "stream",
     "text": [
      "F-score is ill-defined and being set to 0.0 due to no predicted samples.\n",
      "Precision is ill-defined and being set to 0.0 due to no predicted samples.\n",
      "invalid value encountered in long_scalars\n"
     ]
    },
    {
     "name": "stdout",
     "output_type": "stream",
     "text": [
      "*** Training of model 'LogisticRegression' started.\n",
      "*** Training of classifier ready. Time elapsed: 151.087ms\n",
      "\n"
     ]
    },
    {
     "name": "stderr",
     "output_type": "stream",
     "text": [
      "Columns (10,15,17,18,19,23,26,30,34,36,40,43,47,55,60,63,64,88,90,92,93,94,95,98,108,109,110,111,113,115,116,117,120,121,122,123,124,127,131,132,133,134,159,160,166,197,202,203,204,206,207,210,213,214,215,218,221,222,223,224,227,228,233,234,235,237,254,257,265,266,267,269,271,272,273,276,277,280,286,287,288,289,290,298,299,300,301,303,305,307,309,313,314,319,320,328,332,333,338,339,340,359,373,374,398,399,404,408,410,419) have mixed types. Specify dtype option on import or set low_memory=False.\n"
     ]
    },
    {
     "name": "stdout",
     "output_type": "stream",
     "text": [
      "Fetching data for <fiber.condition.mrns.MRNs object at 0x7fa650719be0>\n",
      "Fetching data for Patient (...)\n",
      "*** Training of model 'GradientBoostingClassifier' started.\n",
      "*** Training of classifier ready. Time elapsed: 688.513ms\n",
      "\n",
      "*** Training of model 'GradientBoostingClassifier' started.\n",
      "*** Training of classifier ready. Time elapsed: 551.991ms\n",
      "\n",
      "*** Training of model 'GradientBoostingClassifier' started.\n",
      "*** Training of classifier ready. Time elapsed: 93.39ms\n",
      "\n",
      "*** Training of model 'GradientBoostingClassifier' started.\n",
      "*** Training of classifier ready. Time elapsed: 550.011ms\n",
      "\n",
      "*** Training of model 'GradientBoostingClassifier' started.\n",
      "*** Training of classifier ready. Time elapsed: 205.503ms\n",
      "\n",
      "*** Training of model 'GradientBoostingClassifier' started.\n",
      "*** Training of classifier ready. Time elapsed: 840.046ms\n",
      "\n",
      "*** Training of model 'GradientBoostingClassifier' started.\n",
      "*** Training of classifier ready. Time elapsed: 934.015ms\n",
      "\n",
      "*** Training of model 'GradientBoostingClassifier' started.\n",
      "*** Training of classifier ready. Time elapsed: 812.352ms\n",
      "\n",
      "*** Training of model 'GradientBoostingClassifier' started.\n",
      "*** Training of classifier ready. Time elapsed: 531.932ms\n",
      "\n",
      "*** Training of model 'GradientBoostingClassifier' started.\n",
      "*** Training of classifier ready. Time elapsed: 486.384ms\n",
      "\n",
      "*** Training of model 'GradientBoostingClassifier' started.\n",
      "*** Training of classifier ready. Time elapsed: 534.145ms\n",
      "\n"
     ]
    },
    {
     "name": "stderr",
     "output_type": "stream",
     "text": [
      "F-score is ill-defined and being set to 0.0 due to no predicted samples.\n",
      "Precision is ill-defined and being set to 0.0 due to no predicted samples.\n",
      "invalid value encountered in long_scalars\n"
     ]
    },
    {
     "name": "stdout",
     "output_type": "stream",
     "text": [
      "*** Training of model 'GradientBoostingClassifier' started.\n",
      "*** Training of classifier ready. Time elapsed: 480.542ms\n",
      "\n",
      "*** Training of model 'GradientBoostingClassifier' started.\n",
      "*** Training of classifier ready. Time elapsed: 500.866ms\n",
      "\n"
     ]
    },
    {
     "name": "stderr",
     "output_type": "stream",
     "text": [
      "F-score is ill-defined and being set to 0.0 due to no predicted samples.\n",
      "Precision is ill-defined and being set to 0.0 due to no predicted samples.\n",
      "invalid value encountered in long_scalars\n"
     ]
    },
    {
     "name": "stdout",
     "output_type": "stream",
     "text": [
      "*** Training of model 'GradientBoostingClassifier' started.\n",
      "*** Training of classifier ready. Time elapsed: 800.454ms\n",
      "\n"
     ]
    },
    {
     "name": "stderr",
     "output_type": "stream",
     "text": [
      "F-score is ill-defined and being set to 0.0 due to no predicted samples.\n",
      "Precision is ill-defined and being set to 0.0 due to no predicted samples.\n",
      "invalid value encountered in long_scalars\n"
     ]
    },
    {
     "name": "stdout",
     "output_type": "stream",
     "text": [
      "*** Training of model 'GradientBoostingClassifier' started.\n",
      "*** Training of classifier ready. Time elapsed: 664.588ms\n",
      "\n",
      "*** Training of model 'GradientBoostingClassifier' started.\n",
      "*** Training of classifier ready. Time elapsed: 54.765ms\n",
      "\n",
      "*** Training of model 'GradientBoostingClassifier' started.\n",
      "*** Training of classifier ready. Time elapsed: 719.017ms\n",
      "\n",
      "*** Training of model 'GradientBoostingClassifier' started.\n",
      "*** Training of classifier ready. Time elapsed: 699.163ms\n",
      "\n",
      "*** Training of model 'GradientBoostingClassifier' started.\n",
      "*** Training of classifier ready. Time elapsed: 762.668ms\n",
      "\n",
      "*** Training of model 'GradientBoostingClassifier' started.\n",
      "*** Training of classifier ready. Time elapsed: 695.048ms\n",
      "\n",
      "*** Training of model 'RandomForestClassifier' started.\n",
      "*** Training of classifier ready. Time elapsed: 337.399ms\n",
      "\n",
      "*** Training of model 'RandomForestClassifier' started.\n",
      "*** Training of classifier ready. Time elapsed: 929.282ms\n",
      "\n",
      "*** Training of model 'RandomForestClassifier' started.\n",
      "*** Training of classifier ready. Time elapsed: 18.977ms\n",
      "\n",
      "*** Training of model 'RandomForestClassifier' started.\n",
      "*** Training of classifier ready. Time elapsed: 687.283ms\n",
      "\n",
      "*** Training of model 'RandomForestClassifier' started.\n",
      "*** Training of classifier ready. Time elapsed: 309.635ms\n",
      "\n",
      "*** Training of model 'RandomForestClassifier' started.\n",
      "*** Training of classifier ready. Time elapsed: 68.475ms\n",
      "\n",
      "*** Training of model 'RandomForestClassifier' started.\n",
      "*** Training of classifier ready. Time elapsed: 44.675ms\n",
      "\n",
      "*** Training of model 'RandomForestClassifier' started.\n",
      "*** Training of classifier ready. Time elapsed: 63.927ms\n",
      "\n",
      "*** Training of model 'RandomForestClassifier' started.\n",
      "*** Training of classifier ready. Time elapsed: 47.735ms\n",
      "\n",
      "*** Training of model 'RandomForestClassifier' started.\n",
      "*** Training of classifier ready. Time elapsed: 951.875ms\n",
      "\n",
      "*** Training of model 'RandomForestClassifier' started.\n",
      "*** Training of classifier ready. Time elapsed: 422.638ms\n",
      "\n"
     ]
    },
    {
     "name": "stderr",
     "output_type": "stream",
     "text": [
      "F-score is ill-defined and being set to 0.0 due to no predicted samples.\n",
      "Precision is ill-defined and being set to 0.0 due to no predicted samples.\n",
      "invalid value encountered in long_scalars\n"
     ]
    },
    {
     "name": "stdout",
     "output_type": "stream",
     "text": [
      "*** Training of model 'RandomForestClassifier' started.\n",
      "*** Training of classifier ready. Time elapsed: 93.3ms\n",
      "\n"
     ]
    },
    {
     "name": "stderr",
     "output_type": "stream",
     "text": [
      "F-score is ill-defined and being set to 0.0 due to no predicted samples.\n",
      "Precision is ill-defined and being set to 0.0 due to no predicted samples.\n",
      "invalid value encountered in long_scalars\n"
     ]
    },
    {
     "name": "stdout",
     "output_type": "stream",
     "text": [
      "*** Training of model 'RandomForestClassifier' started.\n",
      "*** Training of classifier ready. Time elapsed: 751.062ms\n",
      "\n"
     ]
    },
    {
     "name": "stderr",
     "output_type": "stream",
     "text": [
      "F-score is ill-defined and being set to 0.0 due to no predicted samples.\n",
      "Precision is ill-defined and being set to 0.0 due to no predicted samples.\n",
      "invalid value encountered in long_scalars\n"
     ]
    },
    {
     "name": "stdout",
     "output_type": "stream",
     "text": [
      "*** Training of model 'RandomForestClassifier' started.\n",
      "*** Training of classifier ready. Time elapsed: 22.697ms\n",
      "\n"
     ]
    },
    {
     "name": "stderr",
     "output_type": "stream",
     "text": [
      "F-score is ill-defined and being set to 0.0 due to no predicted samples.\n",
      "Precision is ill-defined and being set to 0.0 due to no predicted samples.\n",
      "invalid value encountered in long_scalars\n"
     ]
    },
    {
     "name": "stdout",
     "output_type": "stream",
     "text": [
      "*** Training of model 'RandomForestClassifier' started.\n",
      "*** Training of classifier ready. Time elapsed: 210.112ms\n",
      "\n"
     ]
    },
    {
     "name": "stderr",
     "output_type": "stream",
     "text": [
      "F-score is ill-defined and being set to 0.0 due to no predicted samples.\n",
      "Precision is ill-defined and being set to 0.0 due to no predicted samples.\n",
      "invalid value encountered in long_scalars\n"
     ]
    },
    {
     "name": "stdout",
     "output_type": "stream",
     "text": [
      "*** Training of model 'RandomForestClassifier' started.\n",
      "*** Training of classifier ready. Time elapsed: 545.725ms\n",
      "\n",
      "*** Training of model 'RandomForestClassifier' started.\n",
      "*** Training of classifier ready. Time elapsed: 532.121ms\n",
      "\n",
      "*** Training of model 'RandomForestClassifier' started.\n",
      "*** Training of classifier ready. Time elapsed: 5.388ms\n",
      "\n",
      "*** Training of model 'RandomForestClassifier' started.\n",
      "*** Training of classifier ready. Time elapsed: 674.216ms\n",
      "\n",
      "*** Training of model 'RandomForestClassifier' started.\n",
      "*** Training of classifier ready. Time elapsed: 853.028ms\n",
      "\n"
     ]
    },
    {
     "name": "stderr",
     "output_type": "stream",
     "text": [
      "F-score is ill-defined and being set to 0.0 due to no predicted samples.\n",
      "Precision is ill-defined and being set to 0.0 due to no predicted samples.\n",
      "invalid value encountered in long_scalars\n"
     ]
    },
    {
     "name": "stdout",
     "output_type": "stream",
     "text": [
      "*** Training of model 'DecisionTreeClassifier' started.\n",
      "*** Training of classifier ready. Time elapsed: 447.413ms\n",
      "\n",
      "*** Training of model 'DecisionTreeClassifier' started.\n",
      "*** Training of classifier ready. Time elapsed: 446.201ms\n",
      "\n",
      "*** Training of model 'DecisionTreeClassifier' started.\n",
      "*** Training of classifier ready. Time elapsed: 314.801ms\n",
      "\n",
      "*** Training of model 'DecisionTreeClassifier' started.\n",
      "*** Training of classifier ready. Time elapsed: 323.451ms\n",
      "\n",
      "*** Training of model 'DecisionTreeClassifier' started.\n",
      "*** Training of classifier ready. Time elapsed: 432.295ms\n",
      "\n",
      "*** Training of model 'DecisionTreeClassifier' started.\n",
      "*** Training of classifier ready. Time elapsed: 11.166ms\n",
      "\n",
      "*** Training of model 'DecisionTreeClassifier' started.\n",
      "*** Training of classifier ready. Time elapsed: 23.251ms\n",
      "\n",
      "*** Training of model 'DecisionTreeClassifier' started.\n",
      "*** Training of classifier ready. Time elapsed: 12.54ms\n",
      "\n",
      "*** Training of model 'DecisionTreeClassifier' started.\n",
      "*** Training of classifier ready. Time elapsed: 21.468ms\n",
      "\n",
      "*** Training of model 'DecisionTreeClassifier' started.\n",
      "*** Training of classifier ready. Time elapsed: 11.363ms\n",
      "\n",
      "*** Training of model 'DecisionTreeClassifier' started.\n",
      "*** Training of classifier ready. Time elapsed: 477.304ms\n",
      "\n",
      "*** Training of model 'DecisionTreeClassifier' started.\n",
      "*** Training of classifier ready. Time elapsed: 446.027ms\n",
      "\n",
      "*** Training of model 'DecisionTreeClassifier' started.\n",
      "*** Training of classifier ready. Time elapsed: 708.127ms\n",
      "\n",
      "*** Training of model 'DecisionTreeClassifier' started.\n",
      "*** Training of classifier ready. Time elapsed: 484.025ms\n",
      "\n",
      "*** Training of model 'DecisionTreeClassifier' started.\n",
      "*** Training of classifier ready. Time elapsed: 607.409ms\n",
      "\n",
      "*** Training of model 'DecisionTreeClassifier' started.\n",
      "*** Training of classifier ready. Time elapsed: 183.207ms\n",
      "\n",
      "*** Training of model 'DecisionTreeClassifier' started.\n",
      "*** Training of classifier ready. Time elapsed: 177.936ms\n",
      "\n",
      "*** Training of model 'DecisionTreeClassifier' started.\n",
      "*** Training of classifier ready. Time elapsed: 131.877ms\n",
      "\n",
      "*** Training of model 'DecisionTreeClassifier' started.\n",
      "*** Training of classifier ready. Time elapsed: 117.01ms\n",
      "\n",
      "*** Training of model 'DecisionTreeClassifier' started.\n",
      "*** Training of classifier ready. Time elapsed: 129.177ms\n",
      "\n",
      "*** Training of model 'LogisticRegression' started.\n"
     ]
    },
    {
     "name": "stderr",
     "output_type": "stream",
     "text": [
      "lbfgs failed to converge. Increase the number of iterations.\n"
     ]
    },
    {
     "name": "stdout",
     "output_type": "stream",
     "text": [
      "*** Training of classifier ready. Time elapsed: 420.399ms\n",
      "\n",
      "*** Training of model 'LogisticRegression' started.\n",
      "*** Training of classifier ready. Time elapsed: 716.004ms\n",
      "\n",
      "*** Training of model 'LogisticRegression' started.\n",
      "*** Training of classifier ready. Time elapsed: 76.636ms\n",
      "\n"
     ]
    },
    {
     "name": "stderr",
     "output_type": "stream",
     "text": [
      "F-score is ill-defined and being set to 0.0 due to no predicted samples.\n",
      "Precision is ill-defined and being set to 0.0 due to no predicted samples.\n",
      "invalid value encountered in long_scalars\n"
     ]
    },
    {
     "name": "stdout",
     "output_type": "stream",
     "text": [
      "*** Training of model 'LogisticRegression' started.\n"
     ]
    },
    {
     "name": "stderr",
     "output_type": "stream",
     "text": [
      "lbfgs failed to converge. Increase the number of iterations.\n"
     ]
    },
    {
     "name": "stdout",
     "output_type": "stream",
     "text": [
      "*** Training of classifier ready. Time elapsed: 41.735ms\n",
      "\n",
      "*** Training of model 'LogisticRegression' started.\n",
      "*** Training of classifier ready. Time elapsed: 147.712ms\n",
      "\n"
     ]
    },
    {
     "name": "stderr",
     "output_type": "stream",
     "text": [
      "F-score is ill-defined and being set to 0.0 due to no predicted samples.\n",
      "Precision is ill-defined and being set to 0.0 due to no predicted samples.\n",
      "invalid value encountered in long_scalars\n"
     ]
    },
    {
     "name": "stdout",
     "output_type": "stream",
     "text": [
      "*** Training of model 'LogisticRegression' started.\n"
     ]
    },
    {
     "name": "stderr",
     "output_type": "stream",
     "text": [
      "lbfgs failed to converge. Increase the number of iterations.\n"
     ]
    },
    {
     "name": "stdout",
     "output_type": "stream",
     "text": [
      "*** Training of classifier ready. Time elapsed: 578.132ms\n",
      "\n",
      "*** Training of model 'LogisticRegression' started.\n",
      "*** Training of classifier ready. Time elapsed: 671.296ms\n",
      "\n",
      "*** Training of model 'LogisticRegression' started.\n"
     ]
    },
    {
     "name": "stderr",
     "output_type": "stream",
     "text": [
      "lbfgs failed to converge. Increase the number of iterations.\n"
     ]
    },
    {
     "name": "stdout",
     "output_type": "stream",
     "text": [
      "*** Training of classifier ready. Time elapsed: 952.807ms\n",
      "\n",
      "*** Training of model 'LogisticRegression' started.\n"
     ]
    },
    {
     "name": "stderr",
     "output_type": "stream",
     "text": [
      "lbfgs failed to converge. Increase the number of iterations.\n"
     ]
    },
    {
     "name": "stdout",
     "output_type": "stream",
     "text": [
      "*** Training of classifier ready. Time elapsed: 454.708ms\n",
      "\n",
      "*** Training of model 'LogisticRegression' started.\n"
     ]
    },
    {
     "name": "stderr",
     "output_type": "stream",
     "text": [
      "lbfgs failed to converge. Increase the number of iterations.\n"
     ]
    },
    {
     "name": "stdout",
     "output_type": "stream",
     "text": [
      "*** Training of classifier ready. Time elapsed: 269.233ms\n",
      "\n",
      "*** Training of model 'LogisticRegression' started.\n",
      "*** Training of classifier ready. Time elapsed: 711.32ms\n",
      "\n",
      "*** Training of model 'LogisticRegression' started.\n",
      "*** Training of classifier ready. Time elapsed: 65.839ms\n",
      "\n",
      "*** Training of model 'LogisticRegression' started.\n"
     ]
    },
    {
     "name": "stderr",
     "output_type": "stream",
     "text": [
      "lbfgs failed to converge. Increase the number of iterations.\n"
     ]
    },
    {
     "name": "stdout",
     "output_type": "stream",
     "text": [
      "*** Training of classifier ready. Time elapsed: 79.718ms\n",
      "\n",
      "*** Training of model 'LogisticRegression' started.\n",
      "*** Training of classifier ready. Time elapsed: 76.394ms\n",
      "\n"
     ]
    },
    {
     "name": "stderr",
     "output_type": "stream",
     "text": [
      "F-score is ill-defined and being set to 0.0 due to no predicted samples.\n",
      "Precision is ill-defined and being set to 0.0 due to no predicted samples.\n",
      "invalid value encountered in long_scalars\n"
     ]
    },
    {
     "name": "stdout",
     "output_type": "stream",
     "text": [
      "*** Training of model 'LogisticRegression' started.\n"
     ]
    },
    {
     "name": "stderr",
     "output_type": "stream",
     "text": [
      "lbfgs failed to converge. Increase the number of iterations.\n"
     ]
    },
    {
     "name": "stdout",
     "output_type": "stream",
     "text": [
      "*** Training of classifier ready. Time elapsed: 737.115ms\n",
      "\n",
      "*** Training of model 'LogisticRegression' started.\n"
     ]
    },
    {
     "name": "stderr",
     "output_type": "stream",
     "text": [
      "lbfgs failed to converge. Increase the number of iterations.\n"
     ]
    },
    {
     "name": "stdout",
     "output_type": "stream",
     "text": [
      "*** Training of classifier ready. Time elapsed: 802.958ms\n",
      "\n",
      "*** Training of model 'LogisticRegression' started.\n"
     ]
    },
    {
     "name": "stderr",
     "output_type": "stream",
     "text": [
      "lbfgs failed to converge. Increase the number of iterations.\n"
     ]
    },
    {
     "name": "stdout",
     "output_type": "stream",
     "text": [
      "*** Training of classifier ready. Time elapsed: 661.373ms\n",
      "\n",
      "*** Training of model 'LogisticRegression' started.\n",
      "*** Training of classifier ready. Time elapsed: 332.983ms\n",
      "\n",
      "*** Training of model 'LogisticRegression' started.\n",
      "*** Training of classifier ready. Time elapsed: 50.332ms\n",
      "\n"
     ]
    },
    {
     "name": "stderr",
     "output_type": "stream",
     "text": [
      "F-score is ill-defined and being set to 0.0 due to no predicted samples.\n",
      "Precision is ill-defined and being set to 0.0 due to no predicted samples.\n",
      "invalid value encountered in long_scalars\n"
     ]
    },
    {
     "name": "stdout",
     "output_type": "stream",
     "text": [
      "*** Training of model 'LogisticRegression' started.\n"
     ]
    },
    {
     "name": "stderr",
     "output_type": "stream",
     "text": [
      "lbfgs failed to converge. Increase the number of iterations.\n"
     ]
    },
    {
     "name": "stdout",
     "output_type": "stream",
     "text": [
      "*** Training of classifier ready. Time elapsed: 434.508ms\n",
      "\n"
     ]
    },
    {
     "name": "stderr",
     "output_type": "stream",
     "text": [
      "Columns (2,3,14,16,17,18,22,25,26,29,33,35,39,40,42,46,54,59,62,63,88,90,91,92,94,95,96,105,106,107,108,111,112,113,114,116,117,118,119,120,123,127,128,129,154,155,161,168,190,192,193,194,195,196,197,198,199,200,201,202,203,204,205,206,207,208,209,210,211,212,213,214,215,216,217,218,219,220,224,225,226,228,245,246,248,249,250,251,253,254,255,256,257,258,259,260,261,262,263,265,266,267,269,270,273,274,275,276,277,278,279,280,282,286,287,288,289,291,292,293,294,295,297,301,306,307,315,319,324,325,326,345,356,358,359,360,384,385,387,393,403) have mixed types. Specify dtype option on import or set low_memory=False.\n"
     ]
    },
    {
     "name": "stdout",
     "output_type": "stream",
     "text": [
      "Fetching data for <fiber.condition.mrns.MRNs object at 0x7fa64f9cd470>\n",
      "Fetching data for Patient (...)\n",
      "*** Training of model 'GradientBoostingClassifier' started.\n",
      "*** Training of classifier ready. Time elapsed: 762.653ms\n",
      "\n",
      "*** Training of model 'GradientBoostingClassifier' started.\n",
      "*** Training of classifier ready. Time elapsed: 919.913ms\n",
      "\n",
      "*** Training of model 'GradientBoostingClassifier' started.\n",
      "*** Training of classifier ready. Time elapsed: 51.58ms\n",
      "\n",
      "*** Training of model 'GradientBoostingClassifier' started.\n",
      "*** Training of classifier ready. Time elapsed: 250.757ms\n",
      "\n",
      "*** Training of model 'GradientBoostingClassifier' started.\n",
      "*** Training of classifier ready. Time elapsed: 225.186ms\n",
      "\n",
      "*** Training of model 'GradientBoostingClassifier' started.\n",
      "*** Training of classifier ready. Time elapsed: 929.564ms\n",
      "\n",
      "*** Training of model 'GradientBoostingClassifier' started.\n",
      "*** Training of classifier ready. Time elapsed: 890.824ms\n",
      "\n",
      "*** Training of model 'GradientBoostingClassifier' started.\n",
      "*** Training of classifier ready. Time elapsed: 860.74ms\n",
      "\n",
      "*** Training of model 'GradientBoostingClassifier' started.\n",
      "*** Training of classifier ready. Time elapsed: 896.003ms\n",
      "\n",
      "*** Training of model 'GradientBoostingClassifier' started.\n",
      "*** Training of classifier ready. Time elapsed: 911.684ms\n",
      "\n",
      "*** Training of model 'GradientBoostingClassifier' started.\n",
      "*** Training of classifier ready. Time elapsed: 715.846ms\n",
      "\n"
     ]
    },
    {
     "name": "stderr",
     "output_type": "stream",
     "text": [
      "F-score is ill-defined and being set to 0.0 due to no predicted samples.\n",
      "Precision is ill-defined and being set to 0.0 due to no predicted samples.\n",
      "invalid value encountered in long_scalars\n"
     ]
    },
    {
     "name": "stdout",
     "output_type": "stream",
     "text": [
      "*** Training of model 'GradientBoostingClassifier' started.\n",
      "*** Training of classifier ready. Time elapsed: 852.256ms\n",
      "\n"
     ]
    },
    {
     "name": "stderr",
     "output_type": "stream",
     "text": [
      "F-score is ill-defined and being set to 0.0 due to no predicted samples.\n",
      "Precision is ill-defined and being set to 0.0 due to no predicted samples.\n",
      "invalid value encountered in long_scalars\n"
     ]
    },
    {
     "name": "stdout",
     "output_type": "stream",
     "text": [
      "*** Training of model 'GradientBoostingClassifier' started.\n",
      "*** Training of classifier ready. Time elapsed: 228.297ms\n",
      "\n",
      "*** Training of model 'GradientBoostingClassifier' started.\n",
      "*** Training of classifier ready. Time elapsed: 122.205ms\n",
      "\n",
      "*** Training of model 'GradientBoostingClassifier' started.\n",
      "*** Training of classifier ready. Time elapsed: 366.311ms\n",
      "\n",
      "*** Training of model 'GradientBoostingClassifier' started.\n",
      "*** Training of classifier ready. Time elapsed: 976.109ms\n",
      "\n",
      "*** Training of model 'GradientBoostingClassifier' started.\n",
      "*** Training of classifier ready. Time elapsed: 295.619ms\n",
      "\n"
     ]
    },
    {
     "name": "stderr",
     "output_type": "stream",
     "text": [
      "F-score is ill-defined and being set to 0.0 due to no predicted samples.\n",
      "Precision is ill-defined and being set to 0.0 due to no predicted samples.\n",
      "invalid value encountered in long_scalars\n"
     ]
    },
    {
     "name": "stdout",
     "output_type": "stream",
     "text": [
      "*** Training of model 'GradientBoostingClassifier' started.\n",
      "*** Training of classifier ready. Time elapsed: 594.303ms\n",
      "\n",
      "*** Training of model 'GradientBoostingClassifier' started.\n",
      "*** Training of classifier ready. Time elapsed: 253.362ms\n",
      "\n",
      "*** Training of model 'GradientBoostingClassifier' started.\n",
      "*** Training of classifier ready. Time elapsed: 140.8ms\n",
      "\n",
      "*** Training of model 'RandomForestClassifier' started.\n",
      "*** Training of classifier ready. Time elapsed: 506.424ms\n",
      "\n",
      "*** Training of model 'RandomForestClassifier' started.\n",
      "*** Training of classifier ready. Time elapsed: 748.184ms\n",
      "\n",
      "*** Training of model 'RandomForestClassifier' started.\n",
      "*** Training of classifier ready. Time elapsed: 316.19ms\n",
      "\n",
      "*** Training of model 'RandomForestClassifier' started.\n",
      "*** Training of classifier ready. Time elapsed: 680.66ms\n",
      "\n",
      "*** Training of model 'RandomForestClassifier' started.\n",
      "*** Training of classifier ready. Time elapsed: 317.444ms\n",
      "\n",
      "*** Training of model 'RandomForestClassifier' started.\n",
      "*** Training of classifier ready. Time elapsed: 421.325ms\n",
      "\n",
      "*** Training of model 'RandomForestClassifier' started.\n",
      "*** Training of classifier ready. Time elapsed: 429.21ms\n",
      "\n",
      "*** Training of model 'RandomForestClassifier' started.\n",
      "*** Training of classifier ready. Time elapsed: 674.13ms\n",
      "\n",
      "*** Training of model 'RandomForestClassifier' started.\n",
      "*** Training of classifier ready. Time elapsed: 691.292ms\n",
      "\n",
      "*** Training of model 'RandomForestClassifier' started.\n",
      "*** Training of classifier ready. Time elapsed: 693.182ms\n",
      "\n",
      "*** Training of model 'RandomForestClassifier' started.\n",
      "*** Training of classifier ready. Time elapsed: 518.216ms\n",
      "\n"
     ]
    },
    {
     "name": "stderr",
     "output_type": "stream",
     "text": [
      "F-score is ill-defined and being set to 0.0 due to no predicted samples.\n",
      "Precision is ill-defined and being set to 0.0 due to no predicted samples.\n",
      "invalid value encountered in long_scalars\n"
     ]
    },
    {
     "name": "stdout",
     "output_type": "stream",
     "text": [
      "*** Training of model 'RandomForestClassifier' started.\n",
      "*** Training of classifier ready. Time elapsed: 427.013ms\n",
      "\n"
     ]
    },
    {
     "name": "stderr",
     "output_type": "stream",
     "text": [
      "F-score is ill-defined and being set to 0.0 due to no predicted samples.\n",
      "Precision is ill-defined and being set to 0.0 due to no predicted samples.\n",
      "invalid value encountered in long_scalars\n"
     ]
    },
    {
     "name": "stdout",
     "output_type": "stream",
     "text": [
      "*** Training of model 'RandomForestClassifier' started.\n",
      "*** Training of classifier ready. Time elapsed: 827.367ms\n",
      "\n"
     ]
    },
    {
     "name": "stderr",
     "output_type": "stream",
     "text": [
      "F-score is ill-defined and being set to 0.0 due to no predicted samples.\n",
      "Precision is ill-defined and being set to 0.0 due to no predicted samples.\n",
      "invalid value encountered in long_scalars\n"
     ]
    },
    {
     "name": "stdout",
     "output_type": "stream",
     "text": [
      "*** Training of model 'RandomForestClassifier' started.\n",
      "*** Training of classifier ready. Time elapsed: 868.892ms\n",
      "\n"
     ]
    },
    {
     "name": "stderr",
     "output_type": "stream",
     "text": [
      "F-score is ill-defined and being set to 0.0 due to no predicted samples.\n",
      "Precision is ill-defined and being set to 0.0 due to no predicted samples.\n",
      "invalid value encountered in long_scalars\n"
     ]
    },
    {
     "name": "stdout",
     "output_type": "stream",
     "text": [
      "*** Training of model 'RandomForestClassifier' started.\n",
      "*** Training of classifier ready. Time elapsed: 561.477ms\n",
      "\n"
     ]
    },
    {
     "name": "stderr",
     "output_type": "stream",
     "text": [
      "F-score is ill-defined and being set to 0.0 due to no predicted samples.\n",
      "Precision is ill-defined and being set to 0.0 due to no predicted samples.\n",
      "invalid value encountered in long_scalars\n"
     ]
    },
    {
     "name": "stdout",
     "output_type": "stream",
     "text": [
      "*** Training of model 'RandomForestClassifier' started.\n",
      "*** Training of classifier ready. Time elapsed: 508.703ms\n",
      "\n",
      "*** Training of model 'RandomForestClassifier' started.\n",
      "*** Training of classifier ready. Time elapsed: 131.003ms\n",
      "\n",
      "*** Training of model 'RandomForestClassifier' started.\n",
      "*** Training of classifier ready. Time elapsed: 901.013ms\n",
      "\n",
      "*** Training of model 'RandomForestClassifier' started.\n",
      "*** Training of classifier ready. Time elapsed: 372.904ms\n",
      "\n",
      "*** Training of model 'RandomForestClassifier' started.\n",
      "*** Training of classifier ready. Time elapsed: 953.385ms\n",
      "\n",
      "*** Training of model 'DecisionTreeClassifier' started.\n",
      "*** Training of classifier ready. Time elapsed: 254.074ms\n",
      "\n",
      "*** Training of model 'DecisionTreeClassifier' started.\n",
      "*** Training of classifier ready. Time elapsed: 259.407ms\n",
      "\n",
      "*** Training of model 'DecisionTreeClassifier' started.\n",
      "*** Training of classifier ready. Time elapsed: 373.988ms\n",
      "\n",
      "*** Training of model 'DecisionTreeClassifier' started.\n",
      "*** Training of classifier ready. Time elapsed: 304.727ms\n",
      "\n",
      "*** Training of model 'DecisionTreeClassifier' started.\n",
      "*** Training of classifier ready. Time elapsed: 312.001ms\n",
      "\n",
      "*** Training of model 'DecisionTreeClassifier' started.\n",
      "*** Training of classifier ready. Time elapsed: 14.606ms\n",
      "\n",
      "*** Training of model 'DecisionTreeClassifier' started.\n",
      "*** Training of classifier ready. Time elapsed: 10.104ms\n",
      "\n",
      "*** Training of model 'DecisionTreeClassifier' started.\n",
      "*** Training of classifier ready. Time elapsed: 11.462ms\n",
      "\n",
      "*** Training of model 'DecisionTreeClassifier' started.\n",
      "*** Training of classifier ready. Time elapsed: 19.717ms\n",
      "\n",
      "*** Training of model 'DecisionTreeClassifier' started.\n",
      "*** Training of classifier ready. Time elapsed: 15.104ms\n",
      "\n",
      "*** Training of model 'DecisionTreeClassifier' started.\n",
      "*** Training of classifier ready. Time elapsed: 452.907ms\n",
      "\n",
      "*** Training of model 'DecisionTreeClassifier' started.\n",
      "*** Training of classifier ready. Time elapsed: 558.003ms\n",
      "\n",
      "*** Training of model 'DecisionTreeClassifier' started.\n",
      "*** Training of classifier ready. Time elapsed: 432.557ms\n",
      "\n",
      "*** Training of model 'DecisionTreeClassifier' started.\n",
      "*** Training of classifier ready. Time elapsed: 407.402ms\n",
      "\n",
      "*** Training of model 'DecisionTreeClassifier' started.\n",
      "*** Training of classifier ready. Time elapsed: 418.772ms\n",
      "\n",
      "*** Training of model 'DecisionTreeClassifier' started.\n",
      "*** Training of classifier ready. Time elapsed: 45.368ms\n",
      "\n",
      "*** Training of model 'DecisionTreeClassifier' started.\n",
      "*** Training of classifier ready. Time elapsed: 96.008ms\n",
      "\n",
      "*** Training of model 'DecisionTreeClassifier' started.\n",
      "*** Training of classifier ready. Time elapsed: 46.995ms\n",
      "\n",
      "*** Training of model 'DecisionTreeClassifier' started.\n",
      "*** Training of classifier ready. Time elapsed: 47.29ms\n",
      "\n",
      "*** Training of model 'DecisionTreeClassifier' started.\n",
      "*** Training of classifier ready. Time elapsed: 48.917ms\n",
      "\n",
      "*** Training of model 'LogisticRegression' started.\n"
     ]
    },
    {
     "name": "stderr",
     "output_type": "stream",
     "text": [
      "lbfgs failed to converge. Increase the number of iterations.\n"
     ]
    },
    {
     "name": "stdout",
     "output_type": "stream",
     "text": [
      "*** Training of classifier ready. Time elapsed: 662.357ms\n",
      "\n",
      "*** Training of model 'LogisticRegression' started.\n",
      "*** Training of classifier ready. Time elapsed: 28.827ms\n",
      "\n",
      "*** Training of model 'LogisticRegression' started.\n"
     ]
    },
    {
     "name": "stderr",
     "output_type": "stream",
     "text": [
      "lbfgs failed to converge. Increase the number of iterations.\n"
     ]
    },
    {
     "name": "stdout",
     "output_type": "stream",
     "text": [
      "*** Training of classifier ready. Time elapsed: 638.333ms\n",
      "\n",
      "*** Training of model 'LogisticRegression' started.\n"
     ]
    },
    {
     "name": "stderr",
     "output_type": "stream",
     "text": [
      "lbfgs failed to converge. Increase the number of iterations.\n"
     ]
    },
    {
     "name": "stdout",
     "output_type": "stream",
     "text": [
      "*** Training of classifier ready. Time elapsed: 577.138ms\n",
      "\n",
      "*** Training of model 'LogisticRegression' started.\n",
      "*** Training of classifier ready. Time elapsed: 81.717ms\n",
      "\n"
     ]
    },
    {
     "name": "stderr",
     "output_type": "stream",
     "text": [
      "F-score is ill-defined and being set to 0.0 due to no predicted samples.\n",
      "Precision is ill-defined and being set to 0.0 due to no predicted samples.\n",
      "invalid value encountered in long_scalars\n"
     ]
    },
    {
     "name": "stdout",
     "output_type": "stream",
     "text": [
      "*** Training of model 'LogisticRegression' started.\n"
     ]
    },
    {
     "name": "stderr",
     "output_type": "stream",
     "text": [
      "lbfgs failed to converge. Increase the number of iterations.\n"
     ]
    },
    {
     "name": "stdout",
     "output_type": "stream",
     "text": [
      "*** Training of classifier ready. Time elapsed: 315.36ms\n",
      "\n",
      "*** Training of model 'LogisticRegression' started.\n"
     ]
    },
    {
     "name": "stderr",
     "output_type": "stream",
     "text": [
      "lbfgs failed to converge. Increase the number of iterations.\n"
     ]
    },
    {
     "name": "stdout",
     "output_type": "stream",
     "text": [
      "*** Training of classifier ready. Time elapsed: 614.844ms\n",
      "\n",
      "*** Training of model 'LogisticRegression' started.\n",
      "*** Training of classifier ready. Time elapsed: 981.884ms\n",
      "\n",
      "*** Training of model 'LogisticRegression' started.\n"
     ]
    },
    {
     "name": "stderr",
     "output_type": "stream",
     "text": [
      "lbfgs failed to converge. Increase the number of iterations.\n"
     ]
    },
    {
     "name": "stdout",
     "output_type": "stream",
     "text": [
      "*** Training of classifier ready. Time elapsed: 324.328ms\n",
      "\n",
      "*** Training of model 'LogisticRegression' started.\n",
      "*** Training of classifier ready. Time elapsed: 753.56ms\n",
      "\n",
      "*** Training of model 'LogisticRegression' started.\n"
     ]
    },
    {
     "name": "stderr",
     "output_type": "stream",
     "text": [
      "lbfgs failed to converge. Increase the number of iterations.\n"
     ]
    },
    {
     "name": "stdout",
     "output_type": "stream",
     "text": [
      "*** Training of classifier ready. Time elapsed: 315.851ms\n",
      "\n",
      "*** Training of model 'LogisticRegression' started.\n",
      "*** Training of classifier ready. Time elapsed: 406.558ms\n",
      "\n",
      "*** Training of model 'LogisticRegression' started.\n"
     ]
    },
    {
     "name": "stderr",
     "output_type": "stream",
     "text": [
      "lbfgs failed to converge. Increase the number of iterations.\n"
     ]
    },
    {
     "name": "stdout",
     "output_type": "stream",
     "text": [
      "*** Training of classifier ready. Time elapsed: 263.39ms\n",
      "\n",
      "*** Training of model 'LogisticRegression' started.\n",
      "*** Training of classifier ready. Time elapsed: 95.467ms\n",
      "\n"
     ]
    },
    {
     "name": "stderr",
     "output_type": "stream",
     "text": [
      "F-score is ill-defined and being set to 0.0 due to no predicted samples.\n",
      "Precision is ill-defined and being set to 0.0 due to no predicted samples.\n",
      "invalid value encountered in long_scalars\n"
     ]
    },
    {
     "name": "stdout",
     "output_type": "stream",
     "text": [
      "*** Training of model 'LogisticRegression' started.\n",
      "*** Training of classifier ready. Time elapsed: 848.545ms\n",
      "\n",
      "*** Training of model 'LogisticRegression' started.\n",
      "*** Training of classifier ready. Time elapsed: 121.032ms\n",
      "\n",
      "*** Training of model 'LogisticRegression' started.\n"
     ]
    },
    {
     "name": "stderr",
     "output_type": "stream",
     "text": [
      "lbfgs failed to converge. Increase the number of iterations.\n"
     ]
    },
    {
     "name": "stdout",
     "output_type": "stream",
     "text": [
      "*** Training of classifier ready. Time elapsed: 807.296ms\n",
      "\n",
      "*** Training of model 'LogisticRegression' started.\n",
      "*** Training of classifier ready. Time elapsed: 211.252ms\n",
      "\n",
      "*** Training of model 'LogisticRegression' started.\n",
      "*** Training of classifier ready. Time elapsed: 79.542ms\n",
      "\n"
     ]
    },
    {
     "name": "stderr",
     "output_type": "stream",
     "text": [
      "F-score is ill-defined and being set to 0.0 due to no predicted samples.\n",
      "Precision is ill-defined and being set to 0.0 due to no predicted samples.\n",
      "invalid value encountered in long_scalars\n"
     ]
    },
    {
     "name": "stdout",
     "output_type": "stream",
     "text": [
      "*** Training of model 'LogisticRegression' started.\n"
     ]
    },
    {
     "name": "stderr",
     "output_type": "stream",
     "text": [
      "lbfgs failed to converge. Increase the number of iterations.\n"
     ]
    },
    {
     "name": "stdout",
     "output_type": "stream",
     "text": [
      "*** Training of classifier ready. Time elapsed: 890.841ms\n",
      "\n"
     ]
    },
    {
     "name": "stderr",
     "output_type": "stream",
     "text": [
      "Columns (2,3,11,13,15,16,20,23,24,27,31,33,36,37,38,40,44,52,57,60,61,67,70,78,85,86,88,89,90,92,93,94,103,104,105,106,109,110,111,112,114,115,116,117,118,122,123,124,125,126,151,152,158,164,166,168,173,177,185,187,188,189,190,191,192,193,194,195,196,197,198,199,200,201,202,203,204,205,206,207,208,209,210,211,212,213,214,218,219,220,221,222,229,232,238,239,241,242,243,244,246,247,248,249,250,251,252,253,254,255,256,258,259,261,262,265,266,267,268,269,270,271,272,273,274,278,279,280,281,283,284,285,286,287,290,291,292,297,298,306,310,311,315,316,317,336,347,349,350,351,366,368,375,378) have mixed types. Specify dtype option on import or set low_memory=False.\n"
     ]
    },
    {
     "name": "stdout",
     "output_type": "stream",
     "text": [
      "Fetching data for <fiber.condition.mrns.MRNs object at 0x7fa64fd86860>\n",
      "Fetching data for Patient (...)\n",
      "*** Training of model 'GradientBoostingClassifier' started.\n",
      "*** Training of classifier ready. Time elapsed: 242.973ms\n",
      "\n",
      "*** Training of model 'GradientBoostingClassifier' started.\n",
      "*** Training of classifier ready. Time elapsed: 848.832ms\n",
      "\n",
      "*** Training of model 'GradientBoostingClassifier' started.\n",
      "*** Training of classifier ready. Time elapsed: 361.055ms\n",
      "\n",
      "*** Training of model 'GradientBoostingClassifier' started.\n",
      "*** Training of classifier ready. Time elapsed: 252.814ms\n",
      "\n",
      "*** Training of model 'GradientBoostingClassifier' started.\n",
      "*** Training of classifier ready. Time elapsed: 712.925ms\n",
      "\n",
      "*** Training of model 'GradientBoostingClassifier' started.\n",
      "*** Training of classifier ready. Time elapsed: 22.602ms\n",
      "\n",
      "*** Training of model 'GradientBoostingClassifier' started.\n",
      "*** Training of classifier ready. Time elapsed: 780.511ms\n",
      "\n",
      "*** Training of model 'GradientBoostingClassifier' started.\n",
      "*** Training of classifier ready. Time elapsed: 178.461ms\n",
      "\n",
      "*** Training of model 'GradientBoostingClassifier' started.\n",
      "*** Training of classifier ready. Time elapsed: 652.143ms\n",
      "\n",
      "*** Training of model 'GradientBoostingClassifier' started.\n",
      "*** Training of classifier ready. Time elapsed: 673.384ms\n",
      "\n",
      "*** Training of model 'GradientBoostingClassifier' started.\n",
      "*** Training of classifier ready. Time elapsed: 919.509ms\n",
      "\n"
     ]
    },
    {
     "name": "stderr",
     "output_type": "stream",
     "text": [
      "F-score is ill-defined and being set to 0.0 due to no predicted samples.\n",
      "Precision is ill-defined and being set to 0.0 due to no predicted samples.\n",
      "invalid value encountered in long_scalars\n"
     ]
    },
    {
     "name": "stdout",
     "output_type": "stream",
     "text": [
      "*** Training of model 'GradientBoostingClassifier' started.\n",
      "*** Training of classifier ready. Time elapsed: 258.601ms\n",
      "\n",
      "*** Training of model 'GradientBoostingClassifier' started.\n",
      "*** Training of classifier ready. Time elapsed: 170.868ms\n",
      "\n"
     ]
    },
    {
     "name": "stderr",
     "output_type": "stream",
     "text": [
      "F-score is ill-defined and being set to 0.0 due to no predicted samples.\n",
      "Precision is ill-defined and being set to 0.0 due to no predicted samples.\n",
      "invalid value encountered in long_scalars\n"
     ]
    },
    {
     "name": "stdout",
     "output_type": "stream",
     "text": [
      "*** Training of model 'GradientBoostingClassifier' started.\n",
      "*** Training of classifier ready. Time elapsed: 567.982ms\n",
      "\n",
      "*** Training of model 'GradientBoostingClassifier' started.\n",
      "*** Training of classifier ready. Time elapsed: 102.774ms\n",
      "\n",
      "*** Training of model 'GradientBoostingClassifier' started.\n",
      "*** Training of classifier ready. Time elapsed: 404.871ms\n",
      "\n"
     ]
    },
    {
     "name": "stderr",
     "output_type": "stream",
     "text": [
      "F-score is ill-defined and being set to 0.0 due to no predicted samples.\n",
      "Precision is ill-defined and being set to 0.0 due to no predicted samples.\n",
      "invalid value encountered in long_scalars\n"
     ]
    },
    {
     "name": "stdout",
     "output_type": "stream",
     "text": [
      "*** Training of model 'GradientBoostingClassifier' started.\n",
      "*** Training of classifier ready. Time elapsed: 969.176ms\n",
      "\n",
      "*** Training of model 'GradientBoostingClassifier' started.\n",
      "*** Training of classifier ready. Time elapsed: 825.282ms\n",
      "\n",
      "*** Training of model 'GradientBoostingClassifier' started.\n",
      "*** Training of classifier ready. Time elapsed: 134.957ms\n",
      "\n",
      "*** Training of model 'GradientBoostingClassifier' started.\n",
      "*** Training of classifier ready. Time elapsed: 427.981ms\n",
      "\n",
      "*** Training of model 'RandomForestClassifier' started.\n",
      "*** Training of classifier ready. Time elapsed: 707.183ms\n",
      "\n",
      "*** Training of model 'RandomForestClassifier' started.\n",
      "*** Training of classifier ready. Time elapsed: 109.743ms\n",
      "\n",
      "*** Training of model 'RandomForestClassifier' started.\n",
      "*** Training of classifier ready. Time elapsed: 196.391ms\n",
      "\n",
      "*** Training of model 'RandomForestClassifier' started.\n",
      "*** Training of classifier ready. Time elapsed: 197.631ms\n",
      "\n",
      "*** Training of model 'RandomForestClassifier' started.\n",
      "*** Training of classifier ready. Time elapsed: 186.785ms\n",
      "\n",
      "*** Training of model 'RandomForestClassifier' started.\n",
      "*** Training of classifier ready. Time elapsed: 318.421ms\n",
      "\n",
      "*** Training of model 'RandomForestClassifier' started.\n",
      "*** Training of classifier ready. Time elapsed: 324.203ms\n",
      "\n",
      "*** Training of model 'RandomForestClassifier' started.\n",
      "*** Training of classifier ready. Time elapsed: 326.482ms\n",
      "\n",
      "*** Training of model 'RandomForestClassifier' started.\n",
      "*** Training of classifier ready. Time elapsed: 328.672ms\n",
      "\n",
      "*** Training of model 'RandomForestClassifier' started.\n",
      "*** Training of classifier ready. Time elapsed: 327.938ms\n",
      "\n",
      "*** Training of model 'RandomForestClassifier' started.\n",
      "*** Training of classifier ready. Time elapsed: 230.052ms\n",
      "\n"
     ]
    },
    {
     "name": "stderr",
     "output_type": "stream",
     "text": [
      "F-score is ill-defined and being set to 0.0 due to no predicted samples.\n",
      "Precision is ill-defined and being set to 0.0 due to no predicted samples.\n",
      "invalid value encountered in long_scalars\n"
     ]
    },
    {
     "name": "stdout",
     "output_type": "stream",
     "text": [
      "*** Training of model 'RandomForestClassifier' started.\n",
      "*** Training of classifier ready. Time elapsed: 208.714ms\n",
      "\n"
     ]
    },
    {
     "name": "stderr",
     "output_type": "stream",
     "text": [
      "F-score is ill-defined and being set to 0.0 due to no predicted samples.\n",
      "Precision is ill-defined and being set to 0.0 due to no predicted samples.\n",
      "invalid value encountered in long_scalars\n"
     ]
    },
    {
     "name": "stdout",
     "output_type": "stream",
     "text": [
      "*** Training of model 'RandomForestClassifier' started.\n",
      "*** Training of classifier ready. Time elapsed: 93.396ms\n",
      "\n"
     ]
    },
    {
     "name": "stderr",
     "output_type": "stream",
     "text": [
      "F-score is ill-defined and being set to 0.0 due to no predicted samples.\n",
      "Precision is ill-defined and being set to 0.0 due to no predicted samples.\n",
      "invalid value encountered in long_scalars\n"
     ]
    },
    {
     "name": "stdout",
     "output_type": "stream",
     "text": [
      "*** Training of model 'RandomForestClassifier' started.\n",
      "*** Training of classifier ready. Time elapsed: 260.822ms\n",
      "\n"
     ]
    },
    {
     "name": "stderr",
     "output_type": "stream",
     "text": [
      "F-score is ill-defined and being set to 0.0 due to no predicted samples.\n",
      "Precision is ill-defined and being set to 0.0 due to no predicted samples.\n",
      "invalid value encountered in long_scalars\n"
     ]
    },
    {
     "name": "stdout",
     "output_type": "stream",
     "text": [
      "*** Training of model 'RandomForestClassifier' started.\n",
      "*** Training of classifier ready. Time elapsed: 351.517ms\n",
      "\n",
      "*** Training of model 'RandomForestClassifier' started.\n",
      "*** Training of classifier ready. Time elapsed: 989.353ms\n",
      "\n"
     ]
    },
    {
     "name": "stderr",
     "output_type": "stream",
     "text": [
      "F-score is ill-defined and being set to 0.0 due to no predicted samples.\n",
      "Precision is ill-defined and being set to 0.0 due to no predicted samples.\n",
      "invalid value encountered in long_scalars\n"
     ]
    },
    {
     "name": "stdout",
     "output_type": "stream",
     "text": [
      "*** Training of model 'RandomForestClassifier' started.\n",
      "*** Training of classifier ready. Time elapsed: 14.173ms\n",
      "\n",
      "*** Training of model 'RandomForestClassifier' started.\n",
      "*** Training of classifier ready. Time elapsed: 989.261ms\n",
      "\n",
      "*** Training of model 'RandomForestClassifier' started.\n",
      "*** Training of classifier ready. Time elapsed: 37.582ms\n",
      "\n",
      "*** Training of model 'RandomForestClassifier' started.\n",
      "*** Training of classifier ready. Time elapsed: 997.273ms\n",
      "\n",
      "*** Training of model 'DecisionTreeClassifier' started.\n",
      "*** Training of classifier ready. Time elapsed: 118.062ms\n",
      "\n",
      "*** Training of model 'DecisionTreeClassifier' started.\n",
      "*** Training of classifier ready. Time elapsed: 128.519ms\n",
      "\n",
      "*** Training of model 'DecisionTreeClassifier' started.\n",
      "*** Training of classifier ready. Time elapsed: 113.398ms\n",
      "\n",
      "*** Training of model 'DecisionTreeClassifier' started.\n",
      "*** Training of classifier ready. Time elapsed: 109.37ms\n",
      "\n",
      "*** Training of model 'DecisionTreeClassifier' started.\n",
      "*** Training of classifier ready. Time elapsed: 124.447ms\n",
      "\n",
      "*** Training of model 'DecisionTreeClassifier' started.\n",
      "*** Training of classifier ready. Time elapsed: 8.522ms\n",
      "\n",
      "*** Training of model 'DecisionTreeClassifier' started.\n",
      "*** Training of classifier ready. Time elapsed: 8.175ms\n",
      "\n",
      "*** Training of model 'DecisionTreeClassifier' started.\n",
      "*** Training of classifier ready. Time elapsed: 8.227ms\n",
      "\n",
      "*** Training of model 'DecisionTreeClassifier' started.\n",
      "*** Training of classifier ready. Time elapsed: 7.738ms\n",
      "\n",
      "*** Training of model 'DecisionTreeClassifier' started.\n",
      "*** Training of classifier ready. Time elapsed: 8.064ms\n",
      "\n",
      "*** Training of model 'DecisionTreeClassifier' started.\n",
      "*** Training of classifier ready. Time elapsed: 215.276ms\n",
      "\n",
      "*** Training of model 'DecisionTreeClassifier' started.\n",
      "*** Training of classifier ready. Time elapsed: 220.58ms\n",
      "\n",
      "*** Training of model 'DecisionTreeClassifier' started.\n",
      "*** Training of classifier ready. Time elapsed: 209.435ms\n",
      "\n",
      "*** Training of model 'DecisionTreeClassifier' started.\n",
      "*** Training of classifier ready. Time elapsed: 201.609ms\n",
      "\n",
      "*** Training of model 'DecisionTreeClassifier' started.\n",
      "*** Training of classifier ready. Time elapsed: 209.416ms\n",
      "\n",
      "*** Training of model 'DecisionTreeClassifier' started.\n",
      "*** Training of classifier ready. Time elapsed: 49.294ms\n",
      "\n",
      "*** Training of model 'DecisionTreeClassifier' started.\n",
      "*** Training of classifier ready. Time elapsed: 48.297ms\n",
      "\n",
      "*** Training of model 'DecisionTreeClassifier' started.\n",
      "*** Training of classifier ready. Time elapsed: 46.559ms\n",
      "\n",
      "*** Training of model 'DecisionTreeClassifier' started.\n",
      "*** Training of classifier ready. Time elapsed: 54.496ms\n",
      "\n",
      "*** Training of model 'DecisionTreeClassifier' started.\n",
      "*** Training of classifier ready. Time elapsed: 49.84ms\n",
      "\n",
      "*** Training of model 'LogisticRegression' started.\n",
      "*** Training of classifier ready. Time elapsed: 308.102ms\n",
      "\n",
      "*** Training of model 'LogisticRegression' started.\n"
     ]
    },
    {
     "name": "stderr",
     "output_type": "stream",
     "text": [
      "lbfgs failed to converge. Increase the number of iterations.\n"
     ]
    },
    {
     "name": "stdout",
     "output_type": "stream",
     "text": [
      "*** Training of classifier ready. Time elapsed: 492.983ms\n",
      "\n",
      "*** Training of model 'LogisticRegression' started.\n",
      "*** Training of classifier ready. Time elapsed: 467.341ms\n",
      "\n",
      "*** Training of model 'LogisticRegression' started.\n",
      "*** Training of classifier ready. Time elapsed: 126.314ms\n",
      "\n"
     ]
    },
    {
     "name": "stderr",
     "output_type": "stream",
     "text": [
      "F-score is ill-defined and being set to 0.0 due to no predicted samples.\n",
      "Precision is ill-defined and being set to 0.0 due to no predicted samples.\n",
      "invalid value encountered in long_scalars\n"
     ]
    },
    {
     "name": "stdout",
     "output_type": "stream",
     "text": [
      "*** Training of model 'LogisticRegression' started.\n"
     ]
    },
    {
     "name": "stderr",
     "output_type": "stream",
     "text": [
      "lbfgs failed to converge. Increase the number of iterations.\n"
     ]
    },
    {
     "name": "stdout",
     "output_type": "stream",
     "text": [
      "*** Training of classifier ready. Time elapsed: 289.994ms\n",
      "\n",
      "*** Training of model 'LogisticRegression' started.\n"
     ]
    },
    {
     "name": "stderr",
     "output_type": "stream",
     "text": [
      "lbfgs failed to converge. Increase the number of iterations.\n"
     ]
    },
    {
     "name": "stdout",
     "output_type": "stream",
     "text": [
      "*** Training of classifier ready. Time elapsed: 95.587ms\n",
      "\n",
      "*** Training of model 'LogisticRegression' started.\n"
     ]
    },
    {
     "name": "stderr",
     "output_type": "stream",
     "text": [
      "lbfgs failed to converge. Increase the number of iterations.\n"
     ]
    },
    {
     "name": "stdout",
     "output_type": "stream",
     "text": [
      "*** Training of classifier ready. Time elapsed: 996.976ms\n",
      "\n",
      "*** Training of model 'LogisticRegression' started.\n"
     ]
    },
    {
     "name": "stderr",
     "output_type": "stream",
     "text": [
      "lbfgs failed to converge. Increase the number of iterations.\n"
     ]
    },
    {
     "name": "stdout",
     "output_type": "stream",
     "text": [
      "*** Training of classifier ready. Time elapsed: 935.096ms\n",
      "\n",
      "*** Training of model 'LogisticRegression' started.\n",
      "*** Training of classifier ready. Time elapsed: 32.317ms\n",
      "\n"
     ]
    },
    {
     "name": "stderr",
     "output_type": "stream",
     "text": [
      "F-score is ill-defined and being set to 0.0 due to no predicted samples.\n",
      "Precision is ill-defined and being set to 0.0 due to no predicted samples.\n",
      "invalid value encountered in long_scalars\n"
     ]
    },
    {
     "name": "stdout",
     "output_type": "stream",
     "text": [
      "*** Training of model 'LogisticRegression' started.\n"
     ]
    },
    {
     "name": "stderr",
     "output_type": "stream",
     "text": [
      "lbfgs failed to converge. Increase the number of iterations.\n"
     ]
    },
    {
     "name": "stdout",
     "output_type": "stream",
     "text": [
      "*** Training of classifier ready. Time elapsed: 501.418ms\n",
      "\n",
      "*** Training of model 'LogisticRegression' started.\n"
     ]
    },
    {
     "name": "stderr",
     "output_type": "stream",
     "text": [
      "lbfgs failed to converge. Increase the number of iterations.\n"
     ]
    },
    {
     "name": "stdout",
     "output_type": "stream",
     "text": [
      "*** Training of classifier ready. Time elapsed: 332.933ms\n",
      "\n",
      "*** Training of model 'LogisticRegression' started.\n",
      "*** Training of classifier ready. Time elapsed: 659.843ms\n",
      "\n",
      "*** Training of model 'LogisticRegression' started.\n"
     ]
    },
    {
     "name": "stderr",
     "output_type": "stream",
     "text": [
      "lbfgs failed to converge. Increase the number of iterations.\n"
     ]
    },
    {
     "name": "stdout",
     "output_type": "stream",
     "text": [
      "*** Training of classifier ready. Time elapsed: 727.478ms\n",
      "\n",
      "*** Training of model 'LogisticRegression' started.\n",
      "*** Training of classifier ready. Time elapsed: 49.95ms\n",
      "\n"
     ]
    },
    {
     "name": "stderr",
     "output_type": "stream",
     "text": [
      "F-score is ill-defined and being set to 0.0 due to no predicted samples.\n",
      "Precision is ill-defined and being set to 0.0 due to no predicted samples.\n",
      "invalid value encountered in long_scalars\n"
     ]
    },
    {
     "name": "stdout",
     "output_type": "stream",
     "text": [
      "*** Training of model 'LogisticRegression' started.\n"
     ]
    },
    {
     "name": "stderr",
     "output_type": "stream",
     "text": [
      "lbfgs failed to converge. Increase the number of iterations.\n"
     ]
    },
    {
     "name": "stdout",
     "output_type": "stream",
     "text": [
      "*** Training of classifier ready. Time elapsed: 966.04ms\n",
      "\n",
      "*** Training of model 'LogisticRegression' started.\n"
     ]
    },
    {
     "name": "stderr",
     "output_type": "stream",
     "text": [
      "lbfgs failed to converge. Increase the number of iterations.\n"
     ]
    },
    {
     "name": "stdout",
     "output_type": "stream",
     "text": [
      "*** Training of classifier ready. Time elapsed: 643.114ms\n",
      "\n",
      "*** Training of model 'LogisticRegression' started.\n"
     ]
    },
    {
     "name": "stderr",
     "output_type": "stream",
     "text": [
      "lbfgs failed to converge. Increase the number of iterations.\n"
     ]
    },
    {
     "name": "stdout",
     "output_type": "stream",
     "text": [
      "*** Training of classifier ready. Time elapsed: 362.596ms\n",
      "\n",
      "*** Training of model 'LogisticRegression' started.\n"
     ]
    },
    {
     "name": "stderr",
     "output_type": "stream",
     "text": [
      "lbfgs failed to converge. Increase the number of iterations.\n"
     ]
    },
    {
     "name": "stdout",
     "output_type": "stream",
     "text": [
      "*** Training of classifier ready. Time elapsed: 443.52ms\n",
      "\n",
      "*** Training of model 'LogisticRegression' started.\n",
      "*** Training of classifier ready. Time elapsed: 64.223ms\n",
      "\n"
     ]
    },
    {
     "name": "stderr",
     "output_type": "stream",
     "text": [
      "F-score is ill-defined and being set to 0.0 due to no predicted samples.\n",
      "Precision is ill-defined and being set to 0.0 due to no predicted samples.\n",
      "invalid value encountered in long_scalars\n"
     ]
    },
    {
     "name": "stdout",
     "output_type": "stream",
     "text": [
      "*** Training of model 'LogisticRegression' started.\n"
     ]
    },
    {
     "name": "stderr",
     "output_type": "stream",
     "text": [
      "lbfgs failed to converge. Increase the number of iterations.\n"
     ]
    },
    {
     "name": "stdout",
     "output_type": "stream",
     "text": [
      "*** Training of classifier ready. Time elapsed: 977.072ms\n",
      "\n"
     ]
    },
    {
     "name": "stderr",
     "output_type": "stream",
     "text": [
      "Columns (2,3,12,13,19,20,23,28,31,32,33,34,35,39,43,47,52,55,56,62,63,64,65,69,70,71,72,79,80,82,83,84,86,87,88,89,91,97,98,99,102,103,104,105,107,108,109,110,111,113,114,115,116,117,118,120,127,143,144,148,150,155,156,158,164,167,168,170,173,175,176,177,178,179,180,181,182,183,184,185,186,187,188,189,190,191,192,193,194,195,196,197,198,199,200,204,205,206,213,214,215,216,218,221,222,224,225,226,227,229,230,231,232,233,234,235,236,237,238,240,241,242,244,245,246,247,248,249,250,251,252,253,257,258,260,261,262,263,264,266,267,268,273,274,282,283,285,286,287,289,291,292,293,296,311,314,318,322,324,325,326,341,342,343,345,347,349,350,351,353) have mixed types. Specify dtype option on import or set low_memory=False.\n"
     ]
    },
    {
     "name": "stdout",
     "output_type": "stream",
     "text": [
      "Fetching data for <fiber.condition.mrns.MRNs object at 0x7fa64fd7d898>\n",
      "Fetching data for Patient (...)\n",
      "*** Training of model 'GradientBoostingClassifier' started.\n",
      "*** Training of classifier ready. Time elapsed: 288.45ms\n",
      "\n",
      "*** Training of model 'GradientBoostingClassifier' started.\n",
      "*** Training of classifier ready. Time elapsed: 953.721ms\n",
      "\n",
      "*** Training of model 'GradientBoostingClassifier' started.\n",
      "*** Training of classifier ready. Time elapsed: 868.637ms\n",
      "\n",
      "*** Training of model 'GradientBoostingClassifier' started.\n",
      "*** Training of classifier ready. Time elapsed: 243.793ms\n",
      "\n",
      "*** Training of model 'GradientBoostingClassifier' started.\n",
      "*** Training of classifier ready. Time elapsed: 89.605ms\n",
      "\n",
      "*** Training of model 'GradientBoostingClassifier' started.\n",
      "*** Training of classifier ready. Time elapsed: 881.569ms\n",
      "\n",
      "*** Training of model 'GradientBoostingClassifier' started.\n",
      "*** Training of classifier ready. Time elapsed: 817.391ms\n",
      "\n",
      "*** Training of model 'GradientBoostingClassifier' started.\n",
      "*** Training of classifier ready. Time elapsed: 717.924ms\n",
      "\n",
      "*** Training of model 'GradientBoostingClassifier' started.\n",
      "*** Training of classifier ready. Time elapsed: 748.174ms\n",
      "\n",
      "*** Training of model 'GradientBoostingClassifier' started.\n",
      "*** Training of classifier ready. Time elapsed: 773.355ms\n",
      "\n",
      "*** Training of model 'GradientBoostingClassifier' started.\n",
      "*** Training of classifier ready. Time elapsed: 105.43ms\n",
      "\n"
     ]
    },
    {
     "name": "stderr",
     "output_type": "stream",
     "text": [
      "F-score is ill-defined and being set to 0.0 due to no predicted samples.\n",
      "Precision is ill-defined and being set to 0.0 due to no predicted samples.\n",
      "invalid value encountered in long_scalars\n"
     ]
    },
    {
     "name": "stdout",
     "output_type": "stream",
     "text": [
      "*** Training of model 'GradientBoostingClassifier' started.\n",
      "*** Training of classifier ready. Time elapsed: 950.534ms\n",
      "\n"
     ]
    },
    {
     "name": "stderr",
     "output_type": "stream",
     "text": [
      "F-score is ill-defined and being set to 0.0 due to no predicted samples.\n",
      "Precision is ill-defined and being set to 0.0 due to no predicted samples.\n",
      "invalid value encountered in long_scalars\n"
     ]
    },
    {
     "name": "stdout",
     "output_type": "stream",
     "text": [
      "*** Training of model 'GradientBoostingClassifier' started.\n",
      "*** Training of classifier ready. Time elapsed: 994.927ms\n",
      "\n",
      "*** Training of model 'GradientBoostingClassifier' started.\n",
      "*** Training of classifier ready. Time elapsed: 503.775ms\n",
      "\n"
     ]
    },
    {
     "name": "stderr",
     "output_type": "stream",
     "text": [
      "F-score is ill-defined and being set to 0.0 due to no predicted samples.\n",
      "Precision is ill-defined and being set to 0.0 due to no predicted samples.\n",
      "invalid value encountered in long_scalars\n"
     ]
    },
    {
     "name": "stdout",
     "output_type": "stream",
     "text": [
      "*** Training of model 'GradientBoostingClassifier' started.\n",
      "*** Training of classifier ready. Time elapsed: 576.167ms\n",
      "\n",
      "*** Training of model 'GradientBoostingClassifier' started.\n",
      "*** Training of classifier ready. Time elapsed: 957.3ms\n",
      "\n",
      "*** Training of model 'GradientBoostingClassifier' started.\n",
      "*** Training of classifier ready. Time elapsed: 873.293ms\n",
      "\n",
      "*** Training of model 'GradientBoostingClassifier' started.\n",
      "*** Training of classifier ready. Time elapsed: 878.973ms\n",
      "\n",
      "*** Training of model 'GradientBoostingClassifier' started.\n",
      "*** Training of classifier ready. Time elapsed: 23.229ms\n",
      "\n",
      "*** Training of model 'GradientBoostingClassifier' started.\n",
      "*** Training of classifier ready. Time elapsed: 817.786ms\n",
      "\n",
      "*** Training of model 'RandomForestClassifier' started.\n",
      "*** Training of classifier ready. Time elapsed: 202.121ms\n",
      "\n",
      "*** Training of model 'RandomForestClassifier' started.\n",
      "*** Training of classifier ready. Time elapsed: 163.541ms\n",
      "\n",
      "*** Training of model 'RandomForestClassifier' started.\n",
      "*** Training of classifier ready. Time elapsed: 159.583ms\n",
      "\n",
      "*** Training of model 'RandomForestClassifier' started.\n",
      "*** Training of classifier ready. Time elapsed: 219.741ms\n",
      "\n",
      "*** Training of model 'RandomForestClassifier' started.\n",
      "*** Training of classifier ready. Time elapsed: 159.712ms\n",
      "\n",
      "*** Training of model 'RandomForestClassifier' started.\n",
      "*** Training of classifier ready. Time elapsed: 315.428ms\n",
      "\n",
      "*** Training of model 'RandomForestClassifier' started.\n",
      "*** Training of classifier ready. Time elapsed: 325.805ms\n",
      "\n",
      "*** Training of model 'RandomForestClassifier' started.\n",
      "*** Training of classifier ready. Time elapsed: 332.647ms\n",
      "\n",
      "*** Training of model 'RandomForestClassifier' started.\n",
      "*** Training of classifier ready. Time elapsed: 327.127ms\n",
      "\n",
      "*** Training of model 'RandomForestClassifier' started.\n",
      "*** Training of classifier ready. Time elapsed: 315.333ms\n",
      "\n",
      "*** Training of model 'RandomForestClassifier' started.\n",
      "*** Training of classifier ready. Time elapsed: 163.996ms\n",
      "\n"
     ]
    },
    {
     "name": "stderr",
     "output_type": "stream",
     "text": [
      "F-score is ill-defined and being set to 0.0 due to no predicted samples.\n",
      "Precision is ill-defined and being set to 0.0 due to no predicted samples.\n",
      "invalid value encountered in long_scalars\n"
     ]
    },
    {
     "name": "stdout",
     "output_type": "stream",
     "text": [
      "*** Training of model 'RandomForestClassifier' started.\n",
      "*** Training of classifier ready. Time elapsed: 142.972ms\n",
      "\n"
     ]
    },
    {
     "name": "stderr",
     "output_type": "stream",
     "text": [
      "F-score is ill-defined and being set to 0.0 due to no predicted samples.\n",
      "Precision is ill-defined and being set to 0.0 due to no predicted samples.\n",
      "invalid value encountered in long_scalars\n"
     ]
    },
    {
     "name": "stdout",
     "output_type": "stream",
     "text": [
      "*** Training of model 'RandomForestClassifier' started.\n",
      "*** Training of classifier ready. Time elapsed: 17.955ms\n",
      "\n"
     ]
    },
    {
     "name": "stderr",
     "output_type": "stream",
     "text": [
      "F-score is ill-defined and being set to 0.0 due to no predicted samples.\n",
      "Precision is ill-defined and being set to 0.0 due to no predicted samples.\n",
      "invalid value encountered in long_scalars\n"
     ]
    },
    {
     "name": "stdout",
     "output_type": "stream",
     "text": [
      "*** Training of model 'RandomForestClassifier' started.\n",
      "*** Training of classifier ready. Time elapsed: 36.065ms\n",
      "\n"
     ]
    },
    {
     "name": "stderr",
     "output_type": "stream",
     "text": [
      "F-score is ill-defined and being set to 0.0 due to no predicted samples.\n",
      "Precision is ill-defined and being set to 0.0 due to no predicted samples.\n",
      "invalid value encountered in long_scalars\n"
     ]
    },
    {
     "name": "stdout",
     "output_type": "stream",
     "text": [
      "*** Training of model 'RandomForestClassifier' started.\n",
      "*** Training of classifier ready. Time elapsed: 236.721ms\n",
      "\n"
     ]
    },
    {
     "name": "stderr",
     "output_type": "stream",
     "text": [
      "F-score is ill-defined and being set to 0.0 due to no predicted samples.\n",
      "Precision is ill-defined and being set to 0.0 due to no predicted samples.\n",
      "invalid value encountered in long_scalars\n"
     ]
    },
    {
     "name": "stdout",
     "output_type": "stream",
     "text": [
      "*** Training of model 'RandomForestClassifier' started.\n",
      "*** Training of classifier ready. Time elapsed: 212.09ms\n",
      "\n",
      "*** Training of model 'RandomForestClassifier' started.\n",
      "*** Training of classifier ready. Time elapsed: 376.483ms\n",
      "\n"
     ]
    },
    {
     "name": "stderr",
     "output_type": "stream",
     "text": [
      "F-score is ill-defined and being set to 0.0 due to no predicted samples.\n",
      "Precision is ill-defined and being set to 0.0 due to no predicted samples.\n",
      "invalid value encountered in long_scalars\n"
     ]
    },
    {
     "name": "stdout",
     "output_type": "stream",
     "text": [
      "*** Training of model 'RandomForestClassifier' started.\n",
      "*** Training of classifier ready. Time elapsed: 684.284ms\n",
      "\n"
     ]
    },
    {
     "name": "stderr",
     "output_type": "stream",
     "text": [
      "F-score is ill-defined and being set to 0.0 due to no predicted samples.\n",
      "Precision is ill-defined and being set to 0.0 due to no predicted samples.\n",
      "invalid value encountered in long_scalars\n"
     ]
    },
    {
     "name": "stdout",
     "output_type": "stream",
     "text": [
      "*** Training of model 'RandomForestClassifier' started.\n",
      "*** Training of classifier ready. Time elapsed: 28.789ms\n",
      "\n"
     ]
    },
    {
     "name": "stderr",
     "output_type": "stream",
     "text": [
      "F-score is ill-defined and being set to 0.0 due to no predicted samples.\n",
      "Precision is ill-defined and being set to 0.0 due to no predicted samples.\n",
      "invalid value encountered in long_scalars\n"
     ]
    },
    {
     "name": "stdout",
     "output_type": "stream",
     "text": [
      "*** Training of model 'RandomForestClassifier' started.\n",
      "*** Training of classifier ready. Time elapsed: 722.865ms\n",
      "\n",
      "*** Training of model 'DecisionTreeClassifier' started.\n",
      "*** Training of classifier ready. Time elapsed: 231.714ms\n",
      "\n",
      "*** Training of model 'DecisionTreeClassifier' started.\n",
      "*** Training of classifier ready. Time elapsed: 95.094ms\n",
      "\n",
      "*** Training of model 'DecisionTreeClassifier' started.\n",
      "*** Training of classifier ready. Time elapsed: 347.829ms\n",
      "\n",
      "*** Training of model 'DecisionTreeClassifier' started.\n",
      "*** Training of classifier ready. Time elapsed: 214.076ms\n",
      "\n",
      "*** Training of model 'DecisionTreeClassifier' started.\n",
      "*** Training of classifier ready. Time elapsed: 231.743ms\n",
      "\n",
      "*** Training of model 'DecisionTreeClassifier' started.\n",
      "*** Training of classifier ready. Time elapsed: 9.58ms\n",
      "\n",
      "*** Training of model 'DecisionTreeClassifier' started.\n",
      "*** Training of classifier ready. Time elapsed: 7.628ms\n",
      "\n",
      "*** Training of model 'DecisionTreeClassifier' started.\n",
      "*** Training of classifier ready. Time elapsed: 7.822ms\n",
      "\n",
      "*** Training of model 'DecisionTreeClassifier' started.\n",
      "*** Training of classifier ready. Time elapsed: 8.084ms\n",
      "\n",
      "*** Training of model 'DecisionTreeClassifier' started.\n",
      "*** Training of classifier ready. Time elapsed: 7.904ms\n",
      "\n",
      "*** Training of model 'DecisionTreeClassifier' started.\n",
      "*** Training of classifier ready. Time elapsed: 211.045ms\n",
      "\n",
      "*** Training of model 'DecisionTreeClassifier' started.\n",
      "*** Training of classifier ready. Time elapsed: 215.244ms\n",
      "\n",
      "*** Training of model 'DecisionTreeClassifier' started.\n",
      "*** Training of classifier ready. Time elapsed: 237.224ms\n",
      "\n",
      "*** Training of model 'DecisionTreeClassifier' started.\n",
      "*** Training of classifier ready. Time elapsed: 239.917ms\n",
      "\n",
      "*** Training of model 'DecisionTreeClassifier' started.\n",
      "*** Training of classifier ready. Time elapsed: 192.343ms\n",
      "\n",
      "*** Training of model 'DecisionTreeClassifier' started.\n",
      "*** Training of classifier ready. Time elapsed: 87.143ms\n",
      "\n",
      "*** Training of model 'DecisionTreeClassifier' started.\n",
      "*** Training of classifier ready. Time elapsed: 89.372ms\n",
      "\n",
      "*** Training of model 'DecisionTreeClassifier' started.\n",
      "*** Training of classifier ready. Time elapsed: 90.988ms\n",
      "\n",
      "*** Training of model 'DecisionTreeClassifier' started.\n",
      "*** Training of classifier ready. Time elapsed: 85.68ms\n",
      "\n",
      "*** Training of model 'DecisionTreeClassifier' started.\n",
      "*** Training of classifier ready. Time elapsed: 43.39ms\n",
      "\n",
      "*** Training of model 'LogisticRegression' started.\n",
      "*** Training of classifier ready. Time elapsed: 32.197ms\n",
      "\n"
     ]
    },
    {
     "name": "stderr",
     "output_type": "stream",
     "text": [
      "F-score is ill-defined and being set to 0.0 due to no predicted samples.\n",
      "Precision is ill-defined and being set to 0.0 due to no predicted samples.\n",
      "invalid value encountered in long_scalars\n"
     ]
    },
    {
     "name": "stdout",
     "output_type": "stream",
     "text": [
      "*** Training of model 'LogisticRegression' started.\n",
      "*** Training of classifier ready. Time elapsed: 215.682ms\n",
      "\n",
      "*** Training of model 'LogisticRegression' started.\n"
     ]
    },
    {
     "name": "stderr",
     "output_type": "stream",
     "text": [
      "lbfgs failed to converge. Increase the number of iterations.\n"
     ]
    },
    {
     "name": "stdout",
     "output_type": "stream",
     "text": [
      "*** Training of classifier ready. Time elapsed: 110.05ms\n",
      "\n",
      "*** Training of model 'LogisticRegression' started.\n",
      "*** Training of classifier ready. Time elapsed: 146.696ms\n",
      "\n",
      "*** Training of model 'LogisticRegression' started.\n",
      "*** Training of classifier ready. Time elapsed: 81.609ms\n",
      "\n"
     ]
    },
    {
     "name": "stderr",
     "output_type": "stream",
     "text": [
      "F-score is ill-defined and being set to 0.0 due to no predicted samples.\n",
      "Precision is ill-defined and being set to 0.0 due to no predicted samples.\n",
      "invalid value encountered in long_scalars\n"
     ]
    },
    {
     "name": "stdout",
     "output_type": "stream",
     "text": [
      "*** Training of model 'LogisticRegression' started.\n"
     ]
    },
    {
     "name": "stderr",
     "output_type": "stream",
     "text": [
      "lbfgs failed to converge. Increase the number of iterations.\n"
     ]
    },
    {
     "name": "stdout",
     "output_type": "stream",
     "text": [
      "*** Training of classifier ready. Time elapsed: 72.685ms\n",
      "\n",
      "*** Training of model 'LogisticRegression' started.\n"
     ]
    },
    {
     "name": "stderr",
     "output_type": "stream",
     "text": [
      "lbfgs failed to converge. Increase the number of iterations.\n"
     ]
    },
    {
     "name": "stdout",
     "output_type": "stream",
     "text": [
      "*** Training of classifier ready. Time elapsed: 953.982ms\n",
      "\n",
      "*** Training of model 'LogisticRegression' started.\n"
     ]
    },
    {
     "name": "stderr",
     "output_type": "stream",
     "text": [
      "lbfgs failed to converge. Increase the number of iterations.\n"
     ]
    },
    {
     "name": "stdout",
     "output_type": "stream",
     "text": [
      "*** Training of classifier ready. Time elapsed: 527.548ms\n",
      "\n",
      "*** Training of model 'LogisticRegression' started.\n"
     ]
    },
    {
     "name": "stderr",
     "output_type": "stream",
     "text": [
      "lbfgs failed to converge. Increase the number of iterations.\n"
     ]
    },
    {
     "name": "stdout",
     "output_type": "stream",
     "text": [
      "*** Training of classifier ready. Time elapsed: 17.481ms\n",
      "\n",
      "*** Training of model 'LogisticRegression' started.\n"
     ]
    },
    {
     "name": "stderr",
     "output_type": "stream",
     "text": [
      "lbfgs failed to converge. Increase the number of iterations.\n"
     ]
    },
    {
     "name": "stdout",
     "output_type": "stream",
     "text": [
      "*** Training of classifier ready. Time elapsed: 15.628ms\n",
      "\n",
      "*** Training of model 'LogisticRegression' started.\n",
      "*** Training of classifier ready. Time elapsed: 46.532ms\n",
      "\n",
      "*** Training of model 'LogisticRegression' started.\n"
     ]
    },
    {
     "name": "stderr",
     "output_type": "stream",
     "text": [
      "lbfgs failed to converge. Increase the number of iterations.\n"
     ]
    },
    {
     "name": "stdout",
     "output_type": "stream",
     "text": [
      "*** Training of classifier ready. Time elapsed: 31.228ms\n",
      "\n",
      "*** Training of model 'LogisticRegression' started.\n",
      "*** Training of classifier ready. Time elapsed: 139.028ms\n",
      "\n"
     ]
    },
    {
     "name": "stderr",
     "output_type": "stream",
     "text": [
      "F-score is ill-defined and being set to 0.0 due to no predicted samples.\n",
      "Precision is ill-defined and being set to 0.0 due to no predicted samples.\n",
      "invalid value encountered in long_scalars\n"
     ]
    },
    {
     "name": "stdout",
     "output_type": "stream",
     "text": [
      "*** Training of model 'LogisticRegression' started.\n",
      "*** Training of classifier ready. Time elapsed: 93.758ms\n",
      "\n"
     ]
    },
    {
     "name": "stderr",
     "output_type": "stream",
     "text": [
      "F-score is ill-defined and being set to 0.0 due to no predicted samples.\n",
      "Precision is ill-defined and being set to 0.0 due to no predicted samples.\n",
      "invalid value encountered in long_scalars\n"
     ]
    },
    {
     "name": "stdout",
     "output_type": "stream",
     "text": [
      "*** Training of model 'LogisticRegression' started.\n",
      "*** Training of classifier ready. Time elapsed: 79.407ms\n",
      "\n"
     ]
    },
    {
     "name": "stderr",
     "output_type": "stream",
     "text": [
      "F-score is ill-defined and being set to 0.0 due to no predicted samples.\n",
      "Precision is ill-defined and being set to 0.0 due to no predicted samples.\n",
      "invalid value encountered in long_scalars\n"
     ]
    },
    {
     "name": "stdout",
     "output_type": "stream",
     "text": [
      "*** Training of model 'LogisticRegression' started.\n",
      "*** Training of classifier ready. Time elapsed: 256.587ms\n",
      "\n",
      "*** Training of model 'LogisticRegression' started.\n",
      "*** Training of classifier ready. Time elapsed: 512.92ms\n",
      "\n",
      "*** Training of model 'LogisticRegression' started.\n",
      "*** Training of classifier ready. Time elapsed: 108.202ms\n",
      "\n"
     ]
    },
    {
     "name": "stderr",
     "output_type": "stream",
     "text": [
      "F-score is ill-defined and being set to 0.0 due to no predicted samples.\n",
      "Precision is ill-defined and being set to 0.0 due to no predicted samples.\n",
      "invalid value encountered in long_scalars\n"
     ]
    },
    {
     "name": "stdout",
     "output_type": "stream",
     "text": [
      "*** Training of model 'LogisticRegression' started.\n",
      "*** Training of classifier ready. Time elapsed: 89.122ms\n",
      "\n"
     ]
    },
    {
     "name": "stderr",
     "output_type": "stream",
     "text": [
      "F-score is ill-defined and being set to 0.0 due to no predicted samples.\n",
      "Precision is ill-defined and being set to 0.0 due to no predicted samples.\n",
      "invalid value encountered in long_scalars\n"
     ]
    },
    {
     "name": "stdout",
     "output_type": "stream",
     "text": [
      "*** Training of model 'LogisticRegression' started.\n"
     ]
    },
    {
     "name": "stderr",
     "output_type": "stream",
     "text": [
      "lbfgs failed to converge. Increase the number of iterations.\n"
     ]
    },
    {
     "name": "stdout",
     "output_type": "stream",
     "text": [
      "*** Training of classifier ready. Time elapsed: 889.87ms\n",
      "\n"
     ]
    },
    {
     "name": "stderr",
     "output_type": "stream",
     "text": [
      "Columns (2,3,12,18,19,22,27,30,31,32,33,34,35,36,38,42,46,51,54,55,61,62,63,64,68,69,70,75,76,77,79,80,81,83,84,85,86,88,89,94,95,98,99,100,101,102,103,104,105,106,108,109,110,112,116,119,130,135,136,140,141,142,144,145,147,153,154,156,157,159,162,163,164,165,166,167,168,169,170,171,172,173,174,175,176,177,178,179,180,181,182,183,184,185,186,187,188,192,193,194,201,202,203,204,206,209,210,211,212,213,214,215,216,217,218,219,220,221,222,223,224,225,226,227,228,229,231,232,233,234,235,236,237,238,239,240,244,245,247,248,249,250,251,252,253,254,259,260,268,269,271,272,273,275,277,280,289,294,295,297,301,305,307,308,322,323,324,325,327,328,330,331,332,334,339) have mixed types. Specify dtype option on import or set low_memory=False.\n"
     ]
    },
    {
     "name": "stdout",
     "output_type": "stream",
     "text": [
      "Fetching data for <fiber.condition.mrns.MRNs object at 0x7fa64fd7d1d0>\n",
      "Fetching data for Patient (...)\n",
      "*** Training of model 'GradientBoostingClassifier' started.\n",
      "*** Training of classifier ready. Time elapsed: 20.781ms\n",
      "\n",
      "*** Training of model 'GradientBoostingClassifier' started.\n",
      "*** Training of classifier ready. Time elapsed: 147.618ms\n",
      "\n",
      "*** Training of model 'GradientBoostingClassifier' started.\n",
      "*** Training of classifier ready. Time elapsed: 706.727ms\n",
      "\n",
      "*** Training of model 'GradientBoostingClassifier' started.\n",
      "*** Training of classifier ready. Time elapsed: 460.235ms\n",
      "\n",
      "*** Training of model 'GradientBoostingClassifier' started.\n",
      "*** Training of classifier ready. Time elapsed: 760.926ms\n",
      "\n",
      "*** Training of model 'GradientBoostingClassifier' started.\n",
      "*** Training of classifier ready. Time elapsed: 884.845ms\n",
      "\n",
      "*** Training of model 'GradientBoostingClassifier' started.\n",
      "*** Training of classifier ready. Time elapsed: 716.382ms\n",
      "\n",
      "*** Training of model 'GradientBoostingClassifier' started.\n",
      "*** Training of classifier ready. Time elapsed: 928.579ms\n",
      "\n",
      "*** Training of model 'GradientBoostingClassifier' started.\n",
      "*** Training of classifier ready. Time elapsed: 746.963ms\n",
      "\n",
      "*** Training of model 'GradientBoostingClassifier' started.\n",
      "*** Training of classifier ready. Time elapsed: 445.173ms\n",
      "\n",
      "*** Training of model 'GradientBoostingClassifier' started.\n",
      "*** Training of classifier ready. Time elapsed: 548.263ms\n",
      "\n",
      "*** Training of model 'GradientBoostingClassifier' started.\n",
      "*** Training of classifier ready. Time elapsed: 621.57ms\n",
      "\n",
      "*** Training of model 'GradientBoostingClassifier' started.\n",
      "*** Training of classifier ready. Time elapsed: 175.109ms\n",
      "\n"
     ]
    },
    {
     "name": "stderr",
     "output_type": "stream",
     "text": [
      "F-score is ill-defined and being set to 0.0 due to no predicted samples.\n",
      "Precision is ill-defined and being set to 0.0 due to no predicted samples.\n",
      "invalid value encountered in long_scalars\n"
     ]
    },
    {
     "name": "stdout",
     "output_type": "stream",
     "text": [
      "*** Training of model 'GradientBoostingClassifier' started.\n",
      "*** Training of classifier ready. Time elapsed: 986.814ms\n",
      "\n",
      "*** Training of model 'GradientBoostingClassifier' started.\n",
      "*** Training of classifier ready. Time elapsed: 829.357ms\n",
      "\n",
      "*** Training of model 'GradientBoostingClassifier' started.\n",
      "*** Training of classifier ready. Time elapsed: 545.947ms\n",
      "\n",
      "*** Training of model 'GradientBoostingClassifier' started.\n",
      "*** Training of classifier ready. Time elapsed: 374.456ms\n",
      "\n",
      "*** Training of model 'GradientBoostingClassifier' started.\n",
      "*** Training of classifier ready. Time elapsed: 559.888ms\n",
      "\n",
      "*** Training of model 'GradientBoostingClassifier' started.\n",
      "*** Training of classifier ready. Time elapsed: 740.301ms\n",
      "\n",
      "*** Training of model 'GradientBoostingClassifier' started.\n",
      "*** Training of classifier ready. Time elapsed: 10.979ms\n",
      "\n",
      "*** Training of model 'RandomForestClassifier' started.\n",
      "*** Training of classifier ready. Time elapsed: 133.311ms\n",
      "\n",
      "*** Training of model 'RandomForestClassifier' started.\n",
      "*** Training of classifier ready. Time elapsed: 8.646ms\n",
      "\n",
      "*** Training of model 'RandomForestClassifier' started.\n",
      "*** Training of classifier ready. Time elapsed: 238.733ms\n",
      "\n",
      "*** Training of model 'RandomForestClassifier' started.\n",
      "*** Training of classifier ready. Time elapsed: 126.752ms\n",
      "\n",
      "*** Training of model 'RandomForestClassifier' started.\n",
      "*** Training of classifier ready. Time elapsed: 13.07ms\n",
      "\n",
      "*** Training of model 'RandomForestClassifier' started.\n",
      "*** Training of classifier ready. Time elapsed: 321.773ms\n",
      "\n",
      "*** Training of model 'RandomForestClassifier' started.\n",
      "*** Training of classifier ready. Time elapsed: 317.708ms\n",
      "\n",
      "*** Training of model 'RandomForestClassifier' started.\n",
      "*** Training of classifier ready. Time elapsed: 333.398ms\n",
      "\n",
      "*** Training of model 'RandomForestClassifier' started.\n",
      "*** Training of classifier ready. Time elapsed: 330.271ms\n",
      "\n",
      "*** Training of model 'RandomForestClassifier' started.\n",
      "*** Training of classifier ready. Time elapsed: 330.691ms\n",
      "\n",
      "*** Training of model 'RandomForestClassifier' started.\n",
      "*** Training of classifier ready. Time elapsed: 988.313ms\n",
      "\n"
     ]
    },
    {
     "name": "stderr",
     "output_type": "stream",
     "text": [
      "F-score is ill-defined and being set to 0.0 due to no predicted samples.\n",
      "Precision is ill-defined and being set to 0.0 due to no predicted samples.\n",
      "invalid value encountered in long_scalars\n"
     ]
    },
    {
     "name": "stdout",
     "output_type": "stream",
     "text": [
      "*** Training of model 'RandomForestClassifier' started.\n",
      "*** Training of classifier ready. Time elapsed: 777.977ms\n",
      "\n"
     ]
    },
    {
     "name": "stderr",
     "output_type": "stream",
     "text": [
      "F-score is ill-defined and being set to 0.0 due to no predicted samples.\n",
      "Precision is ill-defined and being set to 0.0 due to no predicted samples.\n",
      "invalid value encountered in long_scalars\n"
     ]
    },
    {
     "name": "stdout",
     "output_type": "stream",
     "text": [
      "*** Training of model 'RandomForestClassifier' started.\n",
      "*** Training of classifier ready. Time elapsed: 34.199ms\n",
      "\n"
     ]
    },
    {
     "name": "stderr",
     "output_type": "stream",
     "text": [
      "F-score is ill-defined and being set to 0.0 due to no predicted samples.\n",
      "Precision is ill-defined and being set to 0.0 due to no predicted samples.\n",
      "invalid value encountered in long_scalars\n"
     ]
    },
    {
     "name": "stdout",
     "output_type": "stream",
     "text": [
      "*** Training of model 'RandomForestClassifier' started.\n",
      "*** Training of classifier ready. Time elapsed: 750.394ms\n",
      "\n"
     ]
    },
    {
     "name": "stderr",
     "output_type": "stream",
     "text": [
      "F-score is ill-defined and being set to 0.0 due to no predicted samples.\n",
      "Precision is ill-defined and being set to 0.0 due to no predicted samples.\n",
      "invalid value encountered in long_scalars\n"
     ]
    },
    {
     "name": "stdout",
     "output_type": "stream",
     "text": [
      "*** Training of model 'RandomForestClassifier' started.\n",
      "*** Training of classifier ready. Time elapsed: 414.906ms\n",
      "\n"
     ]
    },
    {
     "name": "stderr",
     "output_type": "stream",
     "text": [
      "F-score is ill-defined and being set to 0.0 due to no predicted samples.\n",
      "Precision is ill-defined and being set to 0.0 due to no predicted samples.\n",
      "invalid value encountered in long_scalars\n"
     ]
    },
    {
     "name": "stdout",
     "output_type": "stream",
     "text": [
      "*** Training of model 'RandomForestClassifier' started.\n",
      "*** Training of classifier ready. Time elapsed: 904.568ms\n",
      "\n"
     ]
    },
    {
     "name": "stderr",
     "output_type": "stream",
     "text": [
      "F-score is ill-defined and being set to 0.0 due to no predicted samples.\n",
      "Precision is ill-defined and being set to 0.0 due to no predicted samples.\n",
      "invalid value encountered in long_scalars\n"
     ]
    },
    {
     "name": "stdout",
     "output_type": "stream",
     "text": [
      "*** Training of model 'RandomForestClassifier' started.\n",
      "*** Training of classifier ready. Time elapsed: 479.955ms\n",
      "\n"
     ]
    },
    {
     "name": "stderr",
     "output_type": "stream",
     "text": [
      "F-score is ill-defined and being set to 0.0 due to no predicted samples.\n",
      "Precision is ill-defined and being set to 0.0 due to no predicted samples.\n",
      "invalid value encountered in long_scalars\n"
     ]
    },
    {
     "name": "stdout",
     "output_type": "stream",
     "text": [
      "*** Training of model 'RandomForestClassifier' started.\n",
      "*** Training of classifier ready. Time elapsed: 896.726ms\n",
      "\n",
      "*** Training of model 'RandomForestClassifier' started.\n",
      "*** Training of classifier ready. Time elapsed: 909.575ms\n",
      "\n",
      "*** Training of model 'RandomForestClassifier' started.\n",
      "*** Training of classifier ready. Time elapsed: 994.429ms\n",
      "\n",
      "*** Training of model 'DecisionTreeClassifier' started.\n",
      "*** Training of classifier ready. Time elapsed: 92.487ms\n",
      "\n",
      "*** Training of model 'DecisionTreeClassifier' started.\n",
      "*** Training of classifier ready. Time elapsed: 97.13ms\n",
      "\n",
      "*** Training of model 'DecisionTreeClassifier' started.\n",
      "*** Training of classifier ready. Time elapsed: 94.401ms\n",
      "\n",
      "*** Training of model 'DecisionTreeClassifier' started.\n",
      "*** Training of classifier ready. Time elapsed: 92.713ms\n",
      "\n",
      "*** Training of model 'DecisionTreeClassifier' started.\n",
      "*** Training of classifier ready. Time elapsed: 100.39ms\n",
      "\n",
      "*** Training of model 'DecisionTreeClassifier' started.\n",
      "*** Training of classifier ready. Time elapsed: 10.839ms\n",
      "\n",
      "*** Training of model 'DecisionTreeClassifier' started.\n",
      "*** Training of classifier ready. Time elapsed: 11.148ms\n",
      "\n",
      "*** Training of model 'DecisionTreeClassifier' started.\n",
      "*** Training of classifier ready. Time elapsed: 7.227ms\n",
      "\n",
      "*** Training of model 'DecisionTreeClassifier' started.\n",
      "*** Training of classifier ready. Time elapsed: 21.108ms\n",
      "\n",
      "*** Training of model 'DecisionTreeClassifier' started.\n",
      "*** Training of classifier ready. Time elapsed: 7.89ms\n",
      "\n",
      "*** Training of model 'DecisionTreeClassifier' started.\n",
      "*** Training of classifier ready. Time elapsed: 189.092ms\n",
      "\n",
      "*** Training of model 'DecisionTreeClassifier' started.\n",
      "*** Training of classifier ready. Time elapsed: 196.455ms\n",
      "\n",
      "*** Training of model 'DecisionTreeClassifier' started.\n",
      "*** Training of classifier ready. Time elapsed: 179.3ms\n",
      "\n",
      "*** Training of model 'DecisionTreeClassifier' started.\n",
      "*** Training of classifier ready. Time elapsed: 168.103ms\n",
      "\n",
      "*** Training of model 'DecisionTreeClassifier' started.\n",
      "*** Training of classifier ready. Time elapsed: 190.87ms\n",
      "\n",
      "*** Training of model 'DecisionTreeClassifier' started.\n",
      "*** Training of classifier ready. Time elapsed: 40.285ms\n",
      "\n",
      "*** Training of model 'DecisionTreeClassifier' started.\n",
      "*** Training of classifier ready. Time elapsed: 55.068ms\n",
      "\n",
      "*** Training of model 'DecisionTreeClassifier' started.\n",
      "*** Training of classifier ready. Time elapsed: 42.039ms\n",
      "\n",
      "*** Training of model 'DecisionTreeClassifier' started.\n",
      "*** Training of classifier ready. Time elapsed: 82.042ms\n",
      "\n",
      "*** Training of model 'DecisionTreeClassifier' started.\n",
      "*** Training of classifier ready. Time elapsed: 85.954ms\n",
      "\n",
      "*** Training of model 'LogisticRegression' started.\n",
      "*** Training of classifier ready. Time elapsed: 458.889ms\n",
      "\n",
      "*** Training of model 'LogisticRegression' started.\n",
      "*** Training of classifier ready. Time elapsed: 486.342ms\n",
      "\n",
      "*** Training of model 'LogisticRegression' started.\n"
     ]
    },
    {
     "name": "stderr",
     "output_type": "stream",
     "text": [
      "lbfgs failed to converge. Increase the number of iterations.\n"
     ]
    },
    {
     "name": "stdout",
     "output_type": "stream",
     "text": [
      "*** Training of classifier ready. Time elapsed: 722.534ms\n",
      "\n",
      "*** Training of model 'LogisticRegression' started.\n"
     ]
    },
    {
     "name": "stderr",
     "output_type": "stream",
     "text": [
      "lbfgs failed to converge. Increase the number of iterations.\n"
     ]
    },
    {
     "name": "stdout",
     "output_type": "stream",
     "text": [
      "*** Training of classifier ready. Time elapsed: 351.607ms\n",
      "\n",
      "*** Training of model 'LogisticRegression' started.\n"
     ]
    },
    {
     "name": "stderr",
     "output_type": "stream",
     "text": [
      "lbfgs failed to converge. Increase the number of iterations.\n"
     ]
    },
    {
     "name": "stdout",
     "output_type": "stream",
     "text": [
      "*** Training of classifier ready. Time elapsed: 220.408ms\n",
      "\n",
      "*** Training of model 'LogisticRegression' started.\n",
      "*** Training of classifier ready. Time elapsed: 22.882ms\n",
      "\n"
     ]
    },
    {
     "name": "stderr",
     "output_type": "stream",
     "text": [
      "F-score is ill-defined and being set to 0.0 due to no predicted samples.\n",
      "Precision is ill-defined and being set to 0.0 due to no predicted samples.\n",
      "invalid value encountered in long_scalars\n"
     ]
    },
    {
     "name": "stdout",
     "output_type": "stream",
     "text": [
      "*** Training of model 'LogisticRegression' started.\n",
      "*** Training of classifier ready. Time elapsed: 110.195ms\n",
      "\n"
     ]
    },
    {
     "name": "stderr",
     "output_type": "stream",
     "text": [
      "F-score is ill-defined and being set to 0.0 due to no predicted samples.\n",
      "Precision is ill-defined and being set to 0.0 due to no predicted samples.\n",
      "invalid value encountered in long_scalars\n"
     ]
    },
    {
     "name": "stdout",
     "output_type": "stream",
     "text": [
      "*** Training of model 'LogisticRegression' started.\n"
     ]
    },
    {
     "name": "stderr",
     "output_type": "stream",
     "text": [
      "lbfgs failed to converge. Increase the number of iterations.\n"
     ]
    },
    {
     "name": "stdout",
     "output_type": "stream",
     "text": [
      "*** Training of classifier ready. Time elapsed: 267.18ms\n",
      "\n",
      "*** Training of model 'LogisticRegression' started.\n",
      "*** Training of classifier ready. Time elapsed: 229.862ms\n",
      "\n",
      "*** Training of model 'LogisticRegression' started.\n"
     ]
    },
    {
     "name": "stderr",
     "output_type": "stream",
     "text": [
      "lbfgs failed to converge. Increase the number of iterations.\n"
     ]
    },
    {
     "name": "stdout",
     "output_type": "stream",
     "text": [
      "*** Training of classifier ready. Time elapsed: 106.54ms\n",
      "\n",
      "*** Training of model 'LogisticRegression' started.\n"
     ]
    },
    {
     "name": "stderr",
     "output_type": "stream",
     "text": [
      "lbfgs failed to converge. Increase the number of iterations.\n"
     ]
    },
    {
     "name": "stdout",
     "output_type": "stream",
     "text": [
      "*** Training of classifier ready. Time elapsed: 271.798ms\n",
      "\n",
      "*** Training of model 'LogisticRegression' started.\n",
      "*** Training of classifier ready. Time elapsed: 258.623ms\n",
      "\n",
      "*** Training of model 'LogisticRegression' started.\n",
      "*** Training of classifier ready. Time elapsed: 85.372ms\n",
      "\n"
     ]
    },
    {
     "name": "stderr",
     "output_type": "stream",
     "text": [
      "F-score is ill-defined and being set to 0.0 due to no predicted samples.\n",
      "Precision is ill-defined and being set to 0.0 due to no predicted samples.\n",
      "invalid value encountered in long_scalars\n"
     ]
    },
    {
     "name": "stdout",
     "output_type": "stream",
     "text": [
      "*** Training of model 'LogisticRegression' started.\n",
      "*** Training of classifier ready. Time elapsed: 92.568ms\n",
      "\n"
     ]
    },
    {
     "name": "stderr",
     "output_type": "stream",
     "text": [
      "F-score is ill-defined and being set to 0.0 due to no predicted samples.\n",
      "Precision is ill-defined and being set to 0.0 due to no predicted samples.\n",
      "invalid value encountered in long_scalars\n"
     ]
    },
    {
     "name": "stdout",
     "output_type": "stream",
     "text": [
      "*** Training of model 'LogisticRegression' started.\n",
      "*** Training of classifier ready. Time elapsed: 146.099ms\n",
      "\n"
     ]
    },
    {
     "name": "stderr",
     "output_type": "stream",
     "text": [
      "F-score is ill-defined and being set to 0.0 due to no predicted samples.\n",
      "Precision is ill-defined and being set to 0.0 due to no predicted samples.\n",
      "invalid value encountered in long_scalars\n"
     ]
    },
    {
     "name": "stdout",
     "output_type": "stream",
     "text": [
      "*** Training of model 'LogisticRegression' started.\n",
      "*** Training of classifier ready. Time elapsed: 825.056ms\n",
      "\n",
      "*** Training of model 'LogisticRegression' started.\n"
     ]
    },
    {
     "name": "stderr",
     "output_type": "stream",
     "text": [
      "lbfgs failed to converge. Increase the number of iterations.\n"
     ]
    },
    {
     "name": "stdout",
     "output_type": "stream",
     "text": [
      "*** Training of classifier ready. Time elapsed: 446.164ms\n",
      "\n",
      "*** Training of model 'LogisticRegression' started.\n",
      "*** Training of classifier ready. Time elapsed: 354.465ms\n",
      "\n",
      "*** Training of model 'LogisticRegression' started.\n",
      "*** Training of classifier ready. Time elapsed: 95.294ms\n",
      "\n"
     ]
    },
    {
     "name": "stderr",
     "output_type": "stream",
     "text": [
      "F-score is ill-defined and being set to 0.0 due to no predicted samples.\n",
      "Precision is ill-defined and being set to 0.0 due to no predicted samples.\n",
      "invalid value encountered in long_scalars\n"
     ]
    },
    {
     "name": "stdout",
     "output_type": "stream",
     "text": [
      "*** Training of model 'LogisticRegression' started.\n",
      "*** Training of classifier ready. Time elapsed: 91.729ms\n",
      "\n"
     ]
    },
    {
     "name": "stderr",
     "output_type": "stream",
     "text": [
      "F-score is ill-defined and being set to 0.0 due to no predicted samples.\n",
      "Precision is ill-defined and being set to 0.0 due to no predicted samples.\n",
      "invalid value encountered in long_scalars\n",
      "Columns (2,11,13,15,17,18,21,26,29,30,31,32,33,34,39,42,47,49,50,51,53,57,58,59,62,63,64,65,70,71,72,74,75,76,78,79,80,81,82,83,84,85,89,90,93,94,95,96,97,98,99,101,102,103,105,109,112,123,128,130,132,133,135,136,137,138,144,146,147,149,152,153,154,155,156,157,158,159,160,161,162,163,164,165,166,167,168,169,170,171,172,173,174,175,179,180,181,182,187,188,189,191,194,195,196,197,198,199,200,201,202,203,204,205,206,207,208,209,210,211,212,213,214,216,217,218,219,220,221,222,223,227,228,230,231,232,233,234,235,236,239,240,241,242,249,250,251,252,253,254,256,257,258,261,270,275,277,281,284,286,287,289,297,299,301,302,303,304,305,306,307,309,310,311,313,314,315,316,317,318,319,320,324,325,326,327,328) have mixed types. Specify dtype option on import or set low_memory=False.\n"
     ]
    },
    {
     "name": "stdout",
     "output_type": "stream",
     "text": [
      "Fetching data for <fiber.condition.mrns.MRNs object at 0x7fa64fd7dac8>\n",
      "Fetching data for Patient (...)\n",
      "*** Training of model 'GradientBoostingClassifier' started.\n",
      "*** Training of classifier ready. Time elapsed: 859.513ms\n",
      "\n",
      "*** Training of model 'GradientBoostingClassifier' started.\n",
      "*** Training of classifier ready. Time elapsed: 229.69ms\n",
      "\n",
      "*** Training of model 'GradientBoostingClassifier' started.\n",
      "*** Training of classifier ready. Time elapsed: 412.606ms\n",
      "\n",
      "*** Training of model 'GradientBoostingClassifier' started.\n",
      "*** Training of classifier ready. Time elapsed: 10.036ms\n",
      "\n",
      "*** Training of model 'GradientBoostingClassifier' started.\n",
      "*** Training of classifier ready. Time elapsed: 483.269ms\n",
      "\n",
      "*** Training of model 'GradientBoostingClassifier' started.\n",
      "*** Training of classifier ready. Time elapsed: 225.229ms\n",
      "\n",
      "*** Training of model 'GradientBoostingClassifier' started.\n",
      "*** Training of classifier ready. Time elapsed: 215.214ms\n",
      "\n",
      "*** Training of model 'GradientBoostingClassifier' started.\n",
      "*** Training of classifier ready. Time elapsed: 610.661ms\n",
      "\n",
      "*** Training of model 'GradientBoostingClassifier' started.\n",
      "*** Training of classifier ready. Time elapsed: 690.07ms\n",
      "\n",
      "*** Training of model 'GradientBoostingClassifier' started.\n",
      "*** Training of classifier ready. Time elapsed: 631.208ms\n",
      "\n",
      "*** Training of model 'GradientBoostingClassifier' started.\n",
      "*** Training of classifier ready. Time elapsed: 598.619ms\n",
      "\n"
     ]
    },
    {
     "name": "stderr",
     "output_type": "stream",
     "text": [
      "F-score is ill-defined and being set to 0.0 due to no predicted samples.\n",
      "Precision is ill-defined and being set to 0.0 due to no predicted samples.\n",
      "invalid value encountered in long_scalars\n"
     ]
    },
    {
     "name": "stdout",
     "output_type": "stream",
     "text": [
      "*** Training of model 'GradientBoostingClassifier' started.\n",
      "*** Training of classifier ready. Time elapsed: 922.079ms\n",
      "\n"
     ]
    },
    {
     "name": "stderr",
     "output_type": "stream",
     "text": [
      "F-score is ill-defined and being set to 0.0 due to no predicted samples.\n",
      "Precision is ill-defined and being set to 0.0 due to no predicted samples.\n",
      "invalid value encountered in long_scalars\n"
     ]
    },
    {
     "name": "stdout",
     "output_type": "stream",
     "text": [
      "*** Training of model 'GradientBoostingClassifier' started.\n",
      "*** Training of classifier ready. Time elapsed: 828.645ms\n",
      "\n"
     ]
    },
    {
     "name": "stderr",
     "output_type": "stream",
     "text": [
      "F-score is ill-defined and being set to 0.0 due to no predicted samples.\n",
      "Precision is ill-defined and being set to 0.0 due to no predicted samples.\n",
      "invalid value encountered in long_scalars\n"
     ]
    },
    {
     "name": "stdout",
     "output_type": "stream",
     "text": [
      "*** Training of model 'GradientBoostingClassifier' started.\n",
      "*** Training of classifier ready. Time elapsed: 132.797ms\n",
      "\n"
     ]
    },
    {
     "name": "stderr",
     "output_type": "stream",
     "text": [
      "F-score is ill-defined and being set to 0.0 due to no predicted samples.\n",
      "Precision is ill-defined and being set to 0.0 due to no predicted samples.\n",
      "invalid value encountered in long_scalars\n"
     ]
    },
    {
     "name": "stdout",
     "output_type": "stream",
     "text": [
      "*** Training of model 'GradientBoostingClassifier' started.\n"
     ]
    }
   ],
   "source": [
    "pipeline = training.execute(\n",
    "    comment='baseline-1 CMV',\n",
    "    version='100.1.0',\n",
    "    cohort=cohort,\n",
    "    onset_dataframe=onset_dataframe,\n",
    "    feature_pipeline=feature_pipeline,\n",
    "    data_loader=data_loader,\n",
    "    observation_iterator=configs,\n",
    "    targets=targets,\n",
    "    algorithms=algorithms,\n",
    "    samplers=samplers,\n",
    "    feature_type_occurring=\"occurring\",\n",
    "    feature_type_numeric=\"numeric\",\n",
    "    rfe__run=False,\n",
    "    rfe__step_size=50\n",
    ")"
   ]
  },
  {
   "cell_type": "code",
   "execution_count": null,
   "metadata": {
    "scrolled": true
   },
   "outputs": [],
   "source": [
    "pipeline.id"
   ]
  }
 ],
 "metadata": {
  "kernelspec": {
   "display_name": "Python 3",
   "language": "python",
   "name": "python3"
  },
  "language_info": {
   "codemirror_mode": {
    "name": "ipython",
    "version": 3
   },
   "file_extension": ".py",
   "mimetype": "text/x-python",
   "name": "python",
   "nbconvert_exporter": "python",
   "pygments_lexer": "ipython3",
   "version": "3.6.9"
  }
 },
 "nbformat": 4,
 "nbformat_minor": 2
}
