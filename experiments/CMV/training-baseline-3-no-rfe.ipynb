{
 "cells": [
  {
   "cell_type": "code",
   "execution_count": 1,
   "metadata": {
    "scrolled": true
   },
   "outputs": [],
   "source": [
    "%run ../00_default_options.ipynb"
   ]
  },
  {
   "cell_type": "code",
   "execution_count": 2,
   "metadata": {},
   "outputs": [],
   "source": [
    "from robotehr.pipelines import training\n",
    "from robotehr.models.cohort import Cohort, OnsetDataFrame\n",
    "from robotehr.models.data import FeaturePipeline\n",
    "from robotehr.pipelines.supporters.preprocessing import DataLoader"
   ]
  },
  {
   "cell_type": "code",
   "execution_count": 3,
   "metadata": {},
   "outputs": [],
   "source": [
    "cohort = Cohort.load(id=1)"
   ]
  },
  {
   "cell_type": "code",
   "execution_count": 4,
   "metadata": {},
   "outputs": [],
   "source": [
    "onset_dataframe = OnsetDataFrame.load(id=15)"
   ]
  },
  {
   "cell_type": "code",
   "execution_count": 5,
   "metadata": {},
   "outputs": [],
   "source": [
    "feature_pipeline = FeaturePipeline.load(id=20)"
   ]
  },
  {
   "cell_type": "code",
   "execution_count": 7,
   "metadata": {},
   "outputs": [],
   "source": [
    "import morpher\n",
    "from morpher.jobs import *"
   ]
  },
  {
   "cell_type": "code",
   "execution_count": 8,
   "metadata": {},
   "outputs": [],
   "source": [
    "regexes = [\n",
    "    'any__Diagnosis__', \n",
    "    'any__Procedure__', \n",
    "    'any__Drug__', \n",
    "    'any__Material__', \n",
    "    'any__Encounter__', \n",
    "    'any__AlcoholUse__', \n",
    "    'any__DrugUse__', \n",
    "    'any__TobaccoUse__',\n",
    "    'min__Height__', \n",
    "    'min__Weight__', \n",
    "    'min__VitalSign__', \n",
    "    'min__Measurement__', \n",
    "    'min__LabValue__', \n",
    "    'max__Height__', \n",
    "    'max__Weight__', \n",
    "    'max__VitalSign__', \n",
    "    'max__Measurement__', \n",
    "    'max__LabValue__'\n",
    "]\n",
    "\n",
    "column_selector = \"\"\n",
    "for r in regexes:\n",
    "    column_selector += r + \"|\"\n",
    "column_selector = column_selector[:-1]"
   ]
  },
  {
   "cell_type": "code",
   "execution_count": 9,
   "metadata": {},
   "outputs": [],
   "source": [
    "class CustomDataLoader(DataLoader):\n",
    "    def transform(self, X, y):\n",
    "        from sklearn.preprocessing import OneHotEncoder\n",
    "        from enum import Enum\n",
    "\n",
    "        # remove unused features\n",
    "        del X['medical_record_number']\n",
    "        del X['mother_account_number']\n",
    "        del X['date_of_birth']\n",
    "        del X['month_of_birth']\n",
    "        del X['patient_ethnic_group']\n",
    "        del X['religion']\n",
    "        del X['address_zip']\n",
    "        del X['deceased_indicator']\n",
    "        del X['marital_status_code']\n",
    "\n",
    "        class RaceType(str, Enum):\n",
    "            AFRICAN = 'African'\n",
    "            AMERICAN_BLACK = 'Black or African-American'\n",
    "            AMERICAN_NATIVE = 'Native American'\n",
    "            ASIAN = 'Asian'\n",
    "            ASIAN_PACIFIC = 'Asian Pacific'\n",
    "            ASIAN_INDIAN = 'Asian Indian'\n",
    "            ASIAN_CHINESE = 'Asian Chinese'\n",
    "            HISPANIC = 'Hispanic or Latino'\n",
    "            OTHER = 'Other'\n",
    "            WHITE = 'White'\n",
    "\n",
    "        RACE_MAPPING = {\n",
    "            RaceType.AFRICAN: [\n",
    "                'Cape Verdian',\n",
    "                'Congolese',\n",
    "                'Eritrean',\n",
    "                'Ethiopian',\n",
    "                'Gabonian',\n",
    "                'Ghanaian',\n",
    "                'Guinean',\n",
    "                'Ivory Coastian',\n",
    "                'Kenyan',\n",
    "                'Liberian',\n",
    "                'Madagascar',\n",
    "                'Malian',\n",
    "                'Nigerian',\n",
    "                'Other: East African',\n",
    "                'Other: North African',\n",
    "                'Other: South African',\n",
    "                'Other: West African',\n",
    "                'Senegalese',\n",
    "                'Sierra Leonean',\n",
    "                'Somalian',\n",
    "                'Sudanese',\n",
    "                'Tanzanian',\n",
    "                'Togolese',\n",
    "                'Ugandan',\n",
    "                'Zimbabwean'\n",
    "            ],\n",
    "            RaceType.AMERICAN_BLACK: [\n",
    "                'African American (Black)',\n",
    "                'African-American',\n",
    "                'Black Or African-American',\n",
    "                'Black or African - American',\n",
    "            ],\n",
    "            RaceType.AMERICAN_NATIVE: [\n",
    "                'American (Indian/Alaskan)',\n",
    "                'Native American'\n",
    "            ],\n",
    "            RaceType.ASIAN: [\n",
    "                'Asian',\n",
    "                'Bangladeshi',\n",
    "                'Bhutanese',\n",
    "                'Burmese',\n",
    "                'Cambodian',\n",
    "                'Hmong',\n",
    "                'Indonesian',\n",
    "                'Japanese',\n",
    "                'Korean',\n",
    "                'Laotian',\n",
    "                'Malaysian',\n",
    "                'Maldivian',\n",
    "                'Nepalese',\n",
    "                'Okinawan',\n",
    "                'Pakistani',\n",
    "                'Singaporean',\n",
    "                'Taiwanese',\n",
    "                'Thai',\n",
    "                'Vietnamese',\n",
    "                'Yapese'\n",
    "            ],\n",
    "            RaceType.ASIAN_PACIFIC: [\n",
    "                'Asian (Pacific Islander)',\n",
    "                'Carolinian',\n",
    "                'Chamorro',\n",
    "                'Chuukese',\n",
    "                'Fijian',\n",
    "                'Filipino',\n",
    "                'Guamanian',\n",
    "                'Guamanian Or Chamorro',\n",
    "                'Guamanian or Chamorro',\n",
    "                'Iwo Jiman',\n",
    "                'Kiribati',\n",
    "                'Kosraean',\n",
    "                'Mariana Islander',\n",
    "                'Marshallese',\n",
    "                'Melanesian',\n",
    "                'Micronesian',\n",
    "                'Native Hawaiian',\n",
    "                'New Hebrides',\n",
    "                'Other Pacific Islander',\n",
    "                'Pacific Islander',\n",
    "                'Palauan',\n",
    "                'Pohnpeian',\n",
    "                'Polynesian',\n",
    "                'Saipanese',\n",
    "                'Samoan',\n",
    "                'Papua New Guinean',\n",
    "                'Tahitian',\n",
    "                'Tokelauan',\n",
    "                'Tongan'\n",
    "            ],\n",
    "            RaceType.ASIAN_INDIAN: [\n",
    "                'Asian Indian',\n",
    "                'Sri Lankan',\n",
    "                'Sri lankan',\n",
    "                'West Indian'\n",
    "            ],\n",
    "            RaceType.ASIAN_CHINESE: [\n",
    "                'Chinese',\n",
    "            ],\n",
    "            RaceType.HISPANIC: [\n",
    "                'Barbadian',\n",
    "                'Dominica Islander',\n",
    "                'Grenadian',\n",
    "                'Haitian',\n",
    "                'Hispanic/Latino',\n",
    "                'Jamaican',\n",
    "                'St Vincentian',\n",
    "                'Trinidadian'\n",
    "            ],\n",
    "            RaceType.OTHER: [\n",
    "                '',\n",
    "                'Aa',\n",
    "                'Ab',\n",
    "                'Af',\n",
    "                'Ag',\n",
    "                'Ak',\n",
    "                'Al',\n",
    "                'Ap',\n",
    "                'Ar',\n",
    "                'Av',\n",
    "                'Ay',\n",
    "                'B',\n",
    "                'B1',\n",
    "                'B2',\n",
    "                'B3',\n",
    "                'B4',\n",
    "                'B5',\n",
    "                'B6',\n",
    "                'B7',\n",
    "                'B8',\n",
    "                'B9',\n",
    "                'Ba',\n",
    "                'Bb',\n",
    "                'Bc',\n",
    "                'Bd',\n",
    "                'Be',\n",
    "                'Bf',\n",
    "                'Bg',\n",
    "                'Bh',\n",
    "                'Bj',\n",
    "                'Bk',\n",
    "                'Bm',\n",
    "                'Bn',\n",
    "                'Bo',\n",
    "                'Bp',\n",
    "                'Bq',\n",
    "                'Br',\n",
    "                'Bs',\n",
    "                'Bt',\n",
    "                'Bu',\n",
    "                'Bv',\n",
    "                'Bw',\n",
    "                'Bx',\n",
    "                'By',\n",
    "                'Bz',\n",
    "                'I',\n",
    "                'MSDW_NOT APPLICABLE',\n",
    "                'MSDW_OTHER',\n",
    "                'MSDW_UNKNOWN',\n",
    "                'NOT AVAILABLE',\n",
    "                'Non Hispanic',\n",
    "                'O',\n",
    "                'Other',\n",
    "                'Pk',\n",
    "                'Pl',\n",
    "                'Pm',\n",
    "                'Po',\n",
    "                'Ps',\n",
    "                'Pv',\n",
    "                'U',\n",
    "                'Unk',\n",
    "                'Unknown',\n",
    "                'W'\n",
    "            ],\n",
    "            RaceType.WHITE: [\n",
    "                'Caucasian (White)',\n",
    "                'White'\n",
    "            ]\n",
    "        }\n",
    "\n",
    "        # value mapping\n",
    "        X['race'] = (\n",
    "            X.race.map({\n",
    "                label: cat for cat, labels in RACE_MAPPING.items()\n",
    "                for label in labels\n",
    "            }).astype(pd.api.types.CategoricalDtype(RaceType))\n",
    "        )\n",
    "\n",
    "        # pre-encoding nan handling\n",
    "        for column in ['gender', 'race']:\n",
    "            enc = OneHotEncoder(sparse=False)\n",
    "            transformed_data = enc.fit_transform(X[[column]])\n",
    "            transformed_columns = pd.DataFrame(\n",
    "                data=transformed_data, \n",
    "                columns=[f'{column}_{c}' for c in enc.categories_[0]]\n",
    "            )\n",
    "            X = X.join(transformed_columns)\n",
    "            del X[column]\n",
    "        X[X.columns[X.columns.str.contains('any')]] = X[X.columns[X.columns.str.contains('any')]].fillna(False)\n",
    "        return X, y\n",
    "        \n",
    "    def transform_training_data(self, X_train, y_train):\n",
    "        from sklearn.preprocessing import StandardScaler\n",
    "        scaler = StandardScaler()\n",
    "        self.objects['scaler'] = scaler\n",
    "        X_train_scaled = scaler.fit_transform(X_train)\n",
    "        \n",
    "        from sklearn.impute import SimpleImputer\n",
    "        imputer = SimpleImputer()\n",
    "        self.objects['imputer'] = imputer\n",
    "        X_train_imputed = imputer.fit_transform(X_train_scaled)\n",
    "        \n",
    "        X_train = pd.DataFrame(\n",
    "            data=X_train_imputed, \n",
    "            columns=X_train.columns,\n",
    "            index=X_train.index\n",
    "        )\n",
    "        return X_train, y_train\n",
    "    \n",
    "    def transform_test_data(self, X_test, y_test):\n",
    "        scaler = self.objects['scaler']\n",
    "        imputer = self.objects['imputer']\n",
    "        X_test_scaled = scaler.transform(X_test)\n",
    "        X_test_imputed = imputer.fit_transform(X_test_scaled)\n",
    "        \n",
    "        X_test = pd.DataFrame(\n",
    "            data=X_test_imputed, \n",
    "            columns=X_test.columns,\n",
    "            index=X_test.index\n",
    "        )\n",
    "        return X_test, y_test\n",
    "        \n",
    "\n",
    "data_loader = CustomDataLoader(column_selector=column_selector)"
   ]
  },
  {
   "cell_type": "code",
   "execution_count": 10,
   "metadata": {},
   "outputs": [],
   "source": [
    "from itertools import product"
   ]
  },
  {
   "cell_type": "code",
   "execution_count": 11,
   "metadata": {},
   "outputs": [],
   "source": [
    "thresholds_numeric = [(x / 100) for x in range(5, 100, 5)]\n",
    "observation_windows_numeric = [[x, -1] for x in range(-361, -1, 30)]\n",
    "thresholds_occurring = [(x / 100) for x in range(5, 100, 5)]\n",
    "observation_windows_occurring = [[x, -1] for x in range(-361, -1, 30)]"
   ]
  },
  {
   "cell_type": "code",
   "execution_count": 12,
   "metadata": {},
   "outputs": [],
   "source": [
    "iterator = product(\n",
    "    thresholds_numeric,\n",
    "    observation_windows_numeric,\n",
    "    thresholds_occurring,\n",
    "    observation_windows_occurring\n",
    ")\n",
    "\n",
    "configs = [x for x in iterator if x[0] == x[2] and x[1] == x[3]]\n",
    "targets = ['cytomegaloviral_disease_onset_from_0_days_after_to_365_days_after']\n",
    "algorithms = [morpher.config.algorithms.GBDT, morpher.config.algorithms.RF, morpher.config.algorithms.DT, morpher.config.algorithms.LR]\n",
    "samplers = samplers = [morpher.config.samplers.RANDOM, morpher.config.samplers.URANDOM, morpher.config.samplers.SMOTE, morpher.config.samplers.NOSAMPLER]"
   ]
  },
  {
   "cell_type": "code",
   "execution_count": null,
   "metadata": {
    "scrolled": true
   },
   "outputs": [
    {
     "name": "stderr",
     "output_type": "stream",
     "text": [
      "Columns (11,18,19,20,24,35,64,83,90,92,94,96,97,106,114,117,120,125,126,133,136,140,141,142,143,144,150,178,235,244,248,288,311,317,320,325,326,330,334,341,353,359,360,361,365,402,421,425,430,434,436,439,446) have mixed types. Specify dtype option on import or set low_memory=False.\n"
     ]
    },
    {
     "name": "stdout",
     "output_type": "stream",
     "text": [
      "Fetching data for <fiber.condition.mrns.MRNs object at 0x7f1b2ccffb00>\n",
      "Fetching data for Patient (...)\n"
     ]
    },
    {
     "data": {
      "application/vnd.jupyter.widget-view+json": {
       "model_id": "d53ec484ccad48d8af8aacf9417966df",
       "version_major": 2,
       "version_minor": 0
      },
      "text/plain": [
       "HBox(children=(IntProgress(value=1, bar_style='info', max=1), HTML(value='')))"
      ]
     },
     "metadata": {},
     "output_type": "display_data"
    },
    {
     "name": "stdout",
     "output_type": "stream",
     "text": [
      "\n"
     ]
    },
    {
     "name": "stderr",
     "output_type": "stream",
     "text": [
      "Data with input dtype bool, float64 were all converted to float64 by StandardScaler.\n",
      "Data with input dtype bool, float64 were all converted to float64 by StandardScaler.\n",
      "Data with input dtype bool, float64 were all converted to float64 by StandardScaler.\n"
     ]
    },
    {
     "name": "stdout",
     "output_type": "stream",
     "text": [
      "*** Training of model 'GradientBoostingClassifier' started.\n",
      "*** Training of classifier ready. Time elapsed: 240.822ms\n",
      "\n"
     ]
    },
    {
     "name": "stderr",
     "output_type": "stream",
     "text": [
      "Data with input dtype bool, float64 were all converted to float64 by StandardScaler.\n",
      "Data with input dtype bool, float64 were all converted to float64 by StandardScaler.\n",
      "Data with input dtype bool, float64 were all converted to float64 by StandardScaler.\n"
     ]
    },
    {
     "name": "stdout",
     "output_type": "stream",
     "text": [
      "*** Training of model 'GradientBoostingClassifier' started.\n",
      "*** Training of classifier ready. Time elapsed: 625.732ms\n",
      "\n"
     ]
    },
    {
     "name": "stderr",
     "output_type": "stream",
     "text": [
      "Data with input dtype bool, float64 were all converted to float64 by StandardScaler.\n",
      "Data with input dtype bool, float64 were all converted to float64 by StandardScaler.\n",
      "Data with input dtype bool, float64 were all converted to float64 by StandardScaler.\n"
     ]
    },
    {
     "name": "stdout",
     "output_type": "stream",
     "text": [
      "*** Training of model 'GradientBoostingClassifier' started.\n",
      "*** Training of classifier ready. Time elapsed: 840.452ms\n",
      "\n"
     ]
    },
    {
     "name": "stderr",
     "output_type": "stream",
     "text": [
      "Data with input dtype bool, float64 were all converted to float64 by StandardScaler.\n",
      "Data with input dtype bool, float64 were all converted to float64 by StandardScaler.\n",
      "Data with input dtype bool, float64 were all converted to float64 by StandardScaler.\n"
     ]
    },
    {
     "name": "stdout",
     "output_type": "stream",
     "text": [
      "*** Training of model 'GradientBoostingClassifier' started.\n",
      "*** Training of classifier ready. Time elapsed: 178.594ms\n",
      "\n"
     ]
    },
    {
     "name": "stderr",
     "output_type": "stream",
     "text": [
      "F-score is ill-defined and being set to 0.0 due to no predicted samples.\n",
      "Precision is ill-defined and being set to 0.0 due to no predicted samples.\n",
      "invalid value encountered in long_scalars\n",
      "Data with input dtype bool, float64 were all converted to float64 by StandardScaler.\n",
      "Data with input dtype bool, float64 were all converted to float64 by StandardScaler.\n",
      "Data with input dtype bool, float64 were all converted to float64 by StandardScaler.\n"
     ]
    },
    {
     "name": "stdout",
     "output_type": "stream",
     "text": [
      "*** Training of model 'GradientBoostingClassifier' started.\n",
      "*** Training of classifier ready. Time elapsed: 106.144ms\n",
      "\n"
     ]
    },
    {
     "name": "stderr",
     "output_type": "stream",
     "text": [
      "Data with input dtype bool, float64 were all converted to float64 by StandardScaler.\n",
      "Data with input dtype bool, float64 were all converted to float64 by StandardScaler.\n",
      "Data with input dtype bool, float64 were all converted to float64 by StandardScaler.\n"
     ]
    },
    {
     "name": "stdout",
     "output_type": "stream",
     "text": [
      "*** Training of model 'GradientBoostingClassifier' started.\n",
      "*** Training of classifier ready. Time elapsed: 160.748ms\n",
      "\n"
     ]
    },
    {
     "name": "stderr",
     "output_type": "stream",
     "text": [
      "Data with input dtype bool, float64 were all converted to float64 by StandardScaler.\n",
      "Data with input dtype bool, float64 were all converted to float64 by StandardScaler.\n",
      "Data with input dtype bool, float64 were all converted to float64 by StandardScaler.\n"
     ]
    },
    {
     "name": "stdout",
     "output_type": "stream",
     "text": [
      "*** Training of model 'GradientBoostingClassifier' started.\n",
      "*** Training of classifier ready. Time elapsed: 152.447ms\n",
      "\n"
     ]
    },
    {
     "name": "stderr",
     "output_type": "stream",
     "text": [
      "Data with input dtype bool, float64 were all converted to float64 by StandardScaler.\n",
      "Data with input dtype bool, float64 were all converted to float64 by StandardScaler.\n",
      "Data with input dtype bool, float64 were all converted to float64 by StandardScaler.\n"
     ]
    },
    {
     "name": "stdout",
     "output_type": "stream",
     "text": [
      "*** Training of model 'GradientBoostingClassifier' started.\n",
      "*** Training of classifier ready. Time elapsed: 122.494ms\n",
      "\n"
     ]
    },
    {
     "name": "stderr",
     "output_type": "stream",
     "text": [
      "Data with input dtype bool, float64 were all converted to float64 by StandardScaler.\n",
      "Data with input dtype bool, float64 were all converted to float64 by StandardScaler.\n",
      "Data with input dtype bool, float64 were all converted to float64 by StandardScaler.\n"
     ]
    },
    {
     "name": "stdout",
     "output_type": "stream",
     "text": [
      "*** Training of model 'GradientBoostingClassifier' started.\n",
      "*** Training of classifier ready. Time elapsed: 190.615ms\n",
      "\n"
     ]
    },
    {
     "name": "stderr",
     "output_type": "stream",
     "text": [
      "Data with input dtype bool, float64 were all converted to float64 by StandardScaler.\n",
      "Data with input dtype bool, float64 were all converted to float64 by StandardScaler.\n",
      "Data with input dtype bool, float64 were all converted to float64 by StandardScaler.\n"
     ]
    },
    {
     "name": "stdout",
     "output_type": "stream",
     "text": [
      "*** Training of model 'GradientBoostingClassifier' started.\n",
      "*** Training of classifier ready. Time elapsed: 138.199ms\n",
      "\n"
     ]
    },
    {
     "name": "stderr",
     "output_type": "stream",
     "text": [
      "Data with input dtype bool, float64 were all converted to float64 by StandardScaler.\n",
      "Data with input dtype bool, float64 were all converted to float64 by StandardScaler.\n",
      "Data with input dtype bool, float64 were all converted to float64 by StandardScaler.\n"
     ]
    },
    {
     "name": "stdout",
     "output_type": "stream",
     "text": [
      "*** Training of model 'GradientBoostingClassifier' started.\n",
      "*** Training of classifier ready. Time elapsed: 418.499ms\n",
      "\n"
     ]
    },
    {
     "name": "stderr",
     "output_type": "stream",
     "text": [
      "Data with input dtype bool, float64 were all converted to float64 by StandardScaler.\n",
      "Data with input dtype bool, float64 were all converted to float64 by StandardScaler.\n",
      "Data with input dtype bool, float64 were all converted to float64 by StandardScaler.\n"
     ]
    },
    {
     "name": "stdout",
     "output_type": "stream",
     "text": [
      "*** Training of model 'GradientBoostingClassifier' started.\n",
      "*** Training of classifier ready. Time elapsed: 842.238ms\n",
      "\n"
     ]
    },
    {
     "name": "stderr",
     "output_type": "stream",
     "text": [
      "Data with input dtype bool, float64 were all converted to float64 by StandardScaler.\n",
      "Data with input dtype bool, float64 were all converted to float64 by StandardScaler.\n",
      "Data with input dtype bool, float64 were all converted to float64 by StandardScaler.\n"
     ]
    },
    {
     "name": "stdout",
     "output_type": "stream",
     "text": [
      "*** Training of model 'GradientBoostingClassifier' started.\n",
      "*** Training of classifier ready. Time elapsed: 213.634ms\n",
      "\n"
     ]
    },
    {
     "name": "stderr",
     "output_type": "stream",
     "text": [
      "Data with input dtype bool, float64 were all converted to float64 by StandardScaler.\n",
      "Data with input dtype bool, float64 were all converted to float64 by StandardScaler.\n",
      "Data with input dtype bool, float64 were all converted to float64 by StandardScaler.\n"
     ]
    },
    {
     "name": "stdout",
     "output_type": "stream",
     "text": [
      "*** Training of model 'GradientBoostingClassifier' started.\n",
      "*** Training of classifier ready. Time elapsed: 82.198ms\n",
      "\n"
     ]
    },
    {
     "name": "stderr",
     "output_type": "stream",
     "text": [
      "Data with input dtype bool, float64 were all converted to float64 by StandardScaler.\n",
      "Data with input dtype bool, float64 were all converted to float64 by StandardScaler.\n",
      "Data with input dtype bool, float64 were all converted to float64 by StandardScaler.\n"
     ]
    },
    {
     "name": "stdout",
     "output_type": "stream",
     "text": [
      "*** Training of model 'GradientBoostingClassifier' started.\n",
      "*** Training of classifier ready. Time elapsed: 597.713ms\n",
      "\n"
     ]
    },
    {
     "name": "stderr",
     "output_type": "stream",
     "text": [
      "Data with input dtype bool, float64 were all converted to float64 by StandardScaler.\n",
      "Data with input dtype bool, float64 were all converted to float64 by StandardScaler.\n",
      "Data with input dtype bool, float64 were all converted to float64 by StandardScaler.\n"
     ]
    },
    {
     "name": "stdout",
     "output_type": "stream",
     "text": [
      "*** Training of model 'GradientBoostingClassifier' started.\n",
      "*** Training of classifier ready. Time elapsed: 170.047ms\n",
      "\n"
     ]
    },
    {
     "name": "stderr",
     "output_type": "stream",
     "text": [
      "Data with input dtype bool, float64 were all converted to float64 by StandardScaler.\n",
      "Data with input dtype bool, float64 were all converted to float64 by StandardScaler.\n",
      "Data with input dtype bool, float64 were all converted to float64 by StandardScaler.\n"
     ]
    },
    {
     "name": "stdout",
     "output_type": "stream",
     "text": [
      "*** Training of model 'GradientBoostingClassifier' started.\n",
      "*** Training of classifier ready. Time elapsed: 742.767ms\n",
      "\n"
     ]
    },
    {
     "name": "stderr",
     "output_type": "stream",
     "text": [
      "Data with input dtype bool, float64 were all converted to float64 by StandardScaler.\n",
      "Data with input dtype bool, float64 were all converted to float64 by StandardScaler.\n",
      "Data with input dtype bool, float64 were all converted to float64 by StandardScaler.\n"
     ]
    },
    {
     "name": "stdout",
     "output_type": "stream",
     "text": [
      "*** Training of model 'GradientBoostingClassifier' started.\n",
      "*** Training of classifier ready. Time elapsed: 698.932ms\n",
      "\n"
     ]
    },
    {
     "name": "stderr",
     "output_type": "stream",
     "text": [
      "Data with input dtype bool, float64 were all converted to float64 by StandardScaler.\n",
      "Data with input dtype bool, float64 were all converted to float64 by StandardScaler.\n",
      "Data with input dtype bool, float64 were all converted to float64 by StandardScaler.\n"
     ]
    },
    {
     "name": "stdout",
     "output_type": "stream",
     "text": [
      "*** Training of model 'GradientBoostingClassifier' started.\n",
      "*** Training of classifier ready. Time elapsed: 156.58ms\n",
      "\n"
     ]
    },
    {
     "name": "stderr",
     "output_type": "stream",
     "text": [
      "Data with input dtype bool, float64 were all converted to float64 by StandardScaler.\n",
      "Data with input dtype bool, float64 were all converted to float64 by StandardScaler.\n",
      "Data with input dtype bool, float64 were all converted to float64 by StandardScaler.\n"
     ]
    },
    {
     "name": "stdout",
     "output_type": "stream",
     "text": [
      "*** Training of model 'GradientBoostingClassifier' started.\n",
      "*** Training of classifier ready. Time elapsed: 831.126ms\n",
      "\n"
     ]
    },
    {
     "name": "stderr",
     "output_type": "stream",
     "text": [
      "Data with input dtype bool, float64 were all converted to float64 by StandardScaler.\n",
      "Data with input dtype bool, float64 were all converted to float64 by StandardScaler.\n",
      "Data with input dtype bool, float64 were all converted to float64 by StandardScaler.\n"
     ]
    },
    {
     "name": "stdout",
     "output_type": "stream",
     "text": [
      "*** Training of model 'RandomForestClassifier' started.\n",
      "*** Training of classifier ready. Time elapsed: 698.665ms\n",
      "\n"
     ]
    },
    {
     "name": "stderr",
     "output_type": "stream",
     "text": [
      "F-score is ill-defined and being set to 0.0 due to no predicted samples.\n",
      "Precision is ill-defined and being set to 0.0 due to no predicted samples.\n",
      "invalid value encountered in long_scalars\n",
      "Data with input dtype bool, float64 were all converted to float64 by StandardScaler.\n",
      "Data with input dtype bool, float64 were all converted to float64 by StandardScaler.\n",
      "Data with input dtype bool, float64 were all converted to float64 by StandardScaler.\n"
     ]
    },
    {
     "name": "stdout",
     "output_type": "stream",
     "text": [
      "*** Training of model 'RandomForestClassifier' started.\n",
      "*** Training of classifier ready. Time elapsed: 751.423ms\n",
      "\n"
     ]
    },
    {
     "name": "stderr",
     "output_type": "stream",
     "text": [
      "F-score is ill-defined and being set to 0.0 due to no predicted samples.\n",
      "Precision is ill-defined and being set to 0.0 due to no predicted samples.\n",
      "invalid value encountered in long_scalars\n",
      "Data with input dtype bool, float64 were all converted to float64 by StandardScaler.\n",
      "Data with input dtype bool, float64 were all converted to float64 by StandardScaler.\n",
      "Data with input dtype bool, float64 were all converted to float64 by StandardScaler.\n"
     ]
    },
    {
     "name": "stdout",
     "output_type": "stream",
     "text": [
      "*** Training of model 'RandomForestClassifier' started.\n",
      "*** Training of classifier ready. Time elapsed: 773.515ms\n",
      "\n"
     ]
    },
    {
     "name": "stderr",
     "output_type": "stream",
     "text": [
      "F-score is ill-defined and being set to 0.0 due to no predicted samples.\n",
      "Precision is ill-defined and being set to 0.0 due to no predicted samples.\n",
      "invalid value encountered in long_scalars\n",
      "Data with input dtype bool, float64 were all converted to float64 by StandardScaler.\n",
      "Data with input dtype bool, float64 were all converted to float64 by StandardScaler.\n",
      "Data with input dtype bool, float64 were all converted to float64 by StandardScaler.\n"
     ]
    },
    {
     "name": "stdout",
     "output_type": "stream",
     "text": [
      "*** Training of model 'RandomForestClassifier' started.\n",
      "*** Training of classifier ready. Time elapsed: 820.654ms\n",
      "\n"
     ]
    },
    {
     "name": "stderr",
     "output_type": "stream",
     "text": [
      "F-score is ill-defined and being set to 0.0 due to no predicted samples.\n",
      "Precision is ill-defined and being set to 0.0 due to no predicted samples.\n",
      "invalid value encountered in long_scalars\n",
      "Data with input dtype bool, float64 were all converted to float64 by StandardScaler.\n",
      "Data with input dtype bool, float64 were all converted to float64 by StandardScaler.\n",
      "Data with input dtype bool, float64 were all converted to float64 by StandardScaler.\n"
     ]
    },
    {
     "name": "stdout",
     "output_type": "stream",
     "text": [
      "*** Training of model 'RandomForestClassifier' started.\n",
      "*** Training of classifier ready. Time elapsed: 715.99ms\n",
      "\n"
     ]
    },
    {
     "name": "stderr",
     "output_type": "stream",
     "text": [
      "F-score is ill-defined and being set to 0.0 due to no predicted samples.\n",
      "Precision is ill-defined and being set to 0.0 due to no predicted samples.\n",
      "invalid value encountered in long_scalars\n",
      "Data with input dtype bool, float64 were all converted to float64 by StandardScaler.\n",
      "Data with input dtype bool, float64 were all converted to float64 by StandardScaler.\n",
      "Data with input dtype bool, float64 were all converted to float64 by StandardScaler.\n"
     ]
    },
    {
     "name": "stdout",
     "output_type": "stream",
     "text": [
      "*** Training of model 'RandomForestClassifier' started.\n",
      "*** Training of classifier ready. Time elapsed: 410.333ms\n",
      "\n"
     ]
    },
    {
     "name": "stderr",
     "output_type": "stream",
     "text": [
      "Data with input dtype bool, float64 were all converted to float64 by StandardScaler.\n",
      "Data with input dtype bool, float64 were all converted to float64 by StandardScaler.\n",
      "Data with input dtype bool, float64 were all converted to float64 by StandardScaler.\n"
     ]
    },
    {
     "name": "stdout",
     "output_type": "stream",
     "text": [
      "*** Training of model 'RandomForestClassifier' started.\n",
      "*** Training of classifier ready. Time elapsed: 388.999ms\n",
      "\n"
     ]
    },
    {
     "name": "stderr",
     "output_type": "stream",
     "text": [
      "Data with input dtype bool, float64 were all converted to float64 by StandardScaler.\n",
      "Data with input dtype bool, float64 were all converted to float64 by StandardScaler.\n",
      "Data with input dtype bool, float64 were all converted to float64 by StandardScaler.\n"
     ]
    },
    {
     "name": "stdout",
     "output_type": "stream",
     "text": [
      "*** Training of model 'RandomForestClassifier' started.\n",
      "*** Training of classifier ready. Time elapsed: 392.865ms\n",
      "\n"
     ]
    },
    {
     "name": "stderr",
     "output_type": "stream",
     "text": [
      "Data with input dtype bool, float64 were all converted to float64 by StandardScaler.\n",
      "Data with input dtype bool, float64 were all converted to float64 by StandardScaler.\n",
      "Data with input dtype bool, float64 were all converted to float64 by StandardScaler.\n"
     ]
    },
    {
     "name": "stdout",
     "output_type": "stream",
     "text": [
      "*** Training of model 'RandomForestClassifier' started.\n",
      "*** Training of classifier ready. Time elapsed: 392.257ms\n",
      "\n"
     ]
    },
    {
     "name": "stderr",
     "output_type": "stream",
     "text": [
      "Data with input dtype bool, float64 were all converted to float64 by StandardScaler.\n",
      "Data with input dtype bool, float64 were all converted to float64 by StandardScaler.\n",
      "Data with input dtype bool, float64 were all converted to float64 by StandardScaler.\n"
     ]
    },
    {
     "name": "stdout",
     "output_type": "stream",
     "text": [
      "*** Training of model 'RandomForestClassifier' started.\n",
      "*** Training of classifier ready. Time elapsed: 387.849ms\n",
      "\n"
     ]
    },
    {
     "name": "stderr",
     "output_type": "stream",
     "text": [
      "Data with input dtype bool, float64 were all converted to float64 by StandardScaler.\n",
      "Data with input dtype bool, float64 were all converted to float64 by StandardScaler.\n",
      "Data with input dtype bool, float64 were all converted to float64 by StandardScaler.\n"
     ]
    },
    {
     "name": "stdout",
     "output_type": "stream",
     "text": [
      "*** Training of model 'RandomForestClassifier' started.\n",
      "*** Training of classifier ready. Time elapsed: 460.517ms\n",
      "\n"
     ]
    },
    {
     "name": "stderr",
     "output_type": "stream",
     "text": [
      "Data with input dtype bool, float64 were all converted to float64 by StandardScaler.\n",
      "Data with input dtype bool, float64 were all converted to float64 by StandardScaler.\n",
      "Data with input dtype bool, float64 were all converted to float64 by StandardScaler.\n"
     ]
    },
    {
     "name": "stdout",
     "output_type": "stream",
     "text": [
      "*** Training of model 'RandomForestClassifier' started.\n",
      "*** Training of classifier ready. Time elapsed: 211.236ms\n",
      "\n"
     ]
    },
    {
     "name": "stderr",
     "output_type": "stream",
     "text": [
      "Data with input dtype bool, float64 were all converted to float64 by StandardScaler.\n",
      "Data with input dtype bool, float64 were all converted to float64 by StandardScaler.\n",
      "Data with input dtype bool, float64 were all converted to float64 by StandardScaler.\n"
     ]
    },
    {
     "name": "stdout",
     "output_type": "stream",
     "text": [
      "*** Training of model 'RandomForestClassifier' started.\n",
      "*** Training of classifier ready. Time elapsed: 201.014ms\n",
      "\n"
     ]
    },
    {
     "name": "stderr",
     "output_type": "stream",
     "text": [
      "Data with input dtype bool, float64 were all converted to float64 by StandardScaler.\n",
      "Data with input dtype bool, float64 were all converted to float64 by StandardScaler.\n",
      "Data with input dtype bool, float64 were all converted to float64 by StandardScaler.\n"
     ]
    },
    {
     "name": "stdout",
     "output_type": "stream",
     "text": [
      "*** Training of model 'RandomForestClassifier' started.\n",
      "*** Training of classifier ready. Time elapsed: 224.384ms\n",
      "\n"
     ]
    },
    {
     "name": "stderr",
     "output_type": "stream",
     "text": [
      "Data with input dtype bool, float64 were all converted to float64 by StandardScaler.\n",
      "Data with input dtype bool, float64 were all converted to float64 by StandardScaler.\n",
      "Data with input dtype bool, float64 were all converted to float64 by StandardScaler.\n"
     ]
    },
    {
     "name": "stdout",
     "output_type": "stream",
     "text": [
      "*** Training of model 'RandomForestClassifier' started.\n",
      "*** Training of classifier ready. Time elapsed: 412.806ms\n",
      "\n"
     ]
    },
    {
     "name": "stderr",
     "output_type": "stream",
     "text": [
      "Data with input dtype bool, float64 were all converted to float64 by StandardScaler.\n",
      "Data with input dtype bool, float64 were all converted to float64 by StandardScaler.\n",
      "Data with input dtype bool, float64 were all converted to float64 by StandardScaler.\n"
     ]
    },
    {
     "name": "stdout",
     "output_type": "stream",
     "text": [
      "*** Training of model 'RandomForestClassifier' started.\n",
      "*** Training of classifier ready. Time elapsed: 741.798ms\n",
      "\n"
     ]
    },
    {
     "name": "stderr",
     "output_type": "stream",
     "text": [
      "F-score is ill-defined and being set to 0.0 due to no predicted samples.\n",
      "Precision is ill-defined and being set to 0.0 due to no predicted samples.\n",
      "invalid value encountered in long_scalars\n",
      "Data with input dtype bool, float64 were all converted to float64 by StandardScaler.\n",
      "Data with input dtype bool, float64 were all converted to float64 by StandardScaler.\n",
      "Data with input dtype bool, float64 were all converted to float64 by StandardScaler.\n"
     ]
    },
    {
     "name": "stdout",
     "output_type": "stream",
     "text": [
      "*** Training of model 'RandomForestClassifier' started.\n",
      "*** Training of classifier ready. Time elapsed: 793.081ms\n",
      "\n"
     ]
    },
    {
     "name": "stderr",
     "output_type": "stream",
     "text": [
      "F-score is ill-defined and being set to 0.0 due to no predicted samples.\n",
      "Precision is ill-defined and being set to 0.0 due to no predicted samples.\n",
      "invalid value encountered in long_scalars\n",
      "Data with input dtype bool, float64 were all converted to float64 by StandardScaler.\n",
      "Data with input dtype bool, float64 were all converted to float64 by StandardScaler.\n",
      "Data with input dtype bool, float64 were all converted to float64 by StandardScaler.\n"
     ]
    },
    {
     "name": "stdout",
     "output_type": "stream",
     "text": [
      "*** Training of model 'RandomForestClassifier' started.\n",
      "*** Training of classifier ready. Time elapsed: 752.008ms\n",
      "\n"
     ]
    },
    {
     "name": "stderr",
     "output_type": "stream",
     "text": [
      "F-score is ill-defined and being set to 0.0 due to no predicted samples.\n",
      "Precision is ill-defined and being set to 0.0 due to no predicted samples.\n",
      "invalid value encountered in long_scalars\n",
      "Data with input dtype bool, float64 were all converted to float64 by StandardScaler.\n",
      "Data with input dtype bool, float64 were all converted to float64 by StandardScaler.\n",
      "Data with input dtype bool, float64 were all converted to float64 by StandardScaler.\n"
     ]
    },
    {
     "name": "stdout",
     "output_type": "stream",
     "text": [
      "*** Training of model 'RandomForestClassifier' started.\n",
      "*** Training of classifier ready. Time elapsed: 756.491ms\n",
      "\n"
     ]
    },
    {
     "name": "stderr",
     "output_type": "stream",
     "text": [
      "F-score is ill-defined and being set to 0.0 due to no predicted samples.\n",
      "Precision is ill-defined and being set to 0.0 due to no predicted samples.\n",
      "invalid value encountered in long_scalars\n",
      "Data with input dtype bool, float64 were all converted to float64 by StandardScaler.\n",
      "Data with input dtype bool, float64 were all converted to float64 by StandardScaler.\n",
      "Data with input dtype bool, float64 were all converted to float64 by StandardScaler.\n"
     ]
    },
    {
     "name": "stdout",
     "output_type": "stream",
     "text": [
      "*** Training of model 'RandomForestClassifier' started.\n",
      "*** Training of classifier ready. Time elapsed: 826.138ms\n",
      "\n"
     ]
    },
    {
     "name": "stderr",
     "output_type": "stream",
     "text": [
      "F-score is ill-defined and being set to 0.0 due to no predicted samples.\n",
      "Precision is ill-defined and being set to 0.0 due to no predicted samples.\n",
      "invalid value encountered in long_scalars\n",
      "Data with input dtype bool, float64 were all converted to float64 by StandardScaler.\n",
      "Data with input dtype bool, float64 were all converted to float64 by StandardScaler.\n",
      "Data with input dtype bool, float64 were all converted to float64 by StandardScaler.\n"
     ]
    },
    {
     "name": "stdout",
     "output_type": "stream",
     "text": [
      "*** Training of model 'DecisionTreeClassifier' started.\n",
      "*** Training of classifier ready. Time elapsed: 266.932ms\n",
      "\n"
     ]
    },
    {
     "name": "stderr",
     "output_type": "stream",
     "text": [
      "Data with input dtype bool, float64 were all converted to float64 by StandardScaler.\n",
      "Data with input dtype bool, float64 were all converted to float64 by StandardScaler.\n",
      "Data with input dtype bool, float64 were all converted to float64 by StandardScaler.\n"
     ]
    },
    {
     "name": "stdout",
     "output_type": "stream",
     "text": [
      "*** Training of model 'DecisionTreeClassifier' started.\n",
      "*** Training of classifier ready. Time elapsed: 264.425ms\n",
      "\n"
     ]
    },
    {
     "name": "stderr",
     "output_type": "stream",
     "text": [
      "Data with input dtype bool, float64 were all converted to float64 by StandardScaler.\n",
      "Data with input dtype bool, float64 were all converted to float64 by StandardScaler.\n",
      "Data with input dtype bool, float64 were all converted to float64 by StandardScaler.\n"
     ]
    },
    {
     "name": "stdout",
     "output_type": "stream",
     "text": [
      "*** Training of model 'DecisionTreeClassifier' started.\n",
      "*** Training of classifier ready. Time elapsed: 276.021ms\n",
      "\n"
     ]
    },
    {
     "name": "stderr",
     "output_type": "stream",
     "text": [
      "Data with input dtype bool, float64 were all converted to float64 by StandardScaler.\n",
      "Data with input dtype bool, float64 were all converted to float64 by StandardScaler.\n",
      "Data with input dtype bool, float64 were all converted to float64 by StandardScaler.\n"
     ]
    },
    {
     "name": "stdout",
     "output_type": "stream",
     "text": [
      "*** Training of model 'DecisionTreeClassifier' started.\n",
      "*** Training of classifier ready. Time elapsed: 293.453ms\n",
      "\n"
     ]
    },
    {
     "name": "stderr",
     "output_type": "stream",
     "text": [
      "Data with input dtype bool, float64 were all converted to float64 by StandardScaler.\n",
      "Data with input dtype bool, float64 were all converted to float64 by StandardScaler.\n",
      "Data with input dtype bool, float64 were all converted to float64 by StandardScaler.\n"
     ]
    },
    {
     "name": "stdout",
     "output_type": "stream",
     "text": [
      "*** Training of model 'DecisionTreeClassifier' started.\n",
      "*** Training of classifier ready. Time elapsed: 302.173ms\n",
      "\n"
     ]
    },
    {
     "name": "stderr",
     "output_type": "stream",
     "text": [
      "Data with input dtype bool, float64 were all converted to float64 by StandardScaler.\n",
      "Data with input dtype bool, float64 were all converted to float64 by StandardScaler.\n",
      "Data with input dtype bool, float64 were all converted to float64 by StandardScaler.\n"
     ]
    },
    {
     "name": "stdout",
     "output_type": "stream",
     "text": [
      "*** Training of model 'DecisionTreeClassifier' started.\n",
      "*** Training of classifier ready. Time elapsed: 18.835ms\n",
      "\n"
     ]
    },
    {
     "name": "stderr",
     "output_type": "stream",
     "text": [
      "Data with input dtype bool, float64 were all converted to float64 by StandardScaler.\n",
      "Data with input dtype bool, float64 were all converted to float64 by StandardScaler.\n",
      "Data with input dtype bool, float64 were all converted to float64 by StandardScaler.\n"
     ]
    },
    {
     "name": "stdout",
     "output_type": "stream",
     "text": [
      "*** Training of model 'DecisionTreeClassifier' started.\n",
      "*** Training of classifier ready. Time elapsed: 20.35ms\n",
      "\n"
     ]
    },
    {
     "name": "stderr",
     "output_type": "stream",
     "text": [
      "Data with input dtype bool, float64 were all converted to float64 by StandardScaler.\n",
      "Data with input dtype bool, float64 were all converted to float64 by StandardScaler.\n",
      "Data with input dtype bool, float64 were all converted to float64 by StandardScaler.\n"
     ]
    },
    {
     "name": "stdout",
     "output_type": "stream",
     "text": [
      "*** Training of model 'DecisionTreeClassifier' started.\n",
      "*** Training of classifier ready. Time elapsed: 19.79ms\n",
      "\n"
     ]
    },
    {
     "name": "stderr",
     "output_type": "stream",
     "text": [
      "Data with input dtype bool, float64 were all converted to float64 by StandardScaler.\n",
      "Data with input dtype bool, float64 were all converted to float64 by StandardScaler.\n",
      "Data with input dtype bool, float64 were all converted to float64 by StandardScaler.\n"
     ]
    },
    {
     "name": "stdout",
     "output_type": "stream",
     "text": [
      "*** Training of model 'DecisionTreeClassifier' started.\n",
      "*** Training of classifier ready. Time elapsed: 20.542ms\n",
      "\n"
     ]
    },
    {
     "name": "stderr",
     "output_type": "stream",
     "text": [
      "Data with input dtype bool, float64 were all converted to float64 by StandardScaler.\n",
      "Data with input dtype bool, float64 were all converted to float64 by StandardScaler.\n",
      "Data with input dtype bool, float64 were all converted to float64 by StandardScaler.\n"
     ]
    },
    {
     "name": "stdout",
     "output_type": "stream",
     "text": [
      "*** Training of model 'DecisionTreeClassifier' started.\n",
      "*** Training of classifier ready. Time elapsed: 21.265ms\n",
      "\n"
     ]
    },
    {
     "name": "stderr",
     "output_type": "stream",
     "text": [
      "Data with input dtype bool, float64 were all converted to float64 by StandardScaler.\n",
      "Data with input dtype bool, float64 were all converted to float64 by StandardScaler.\n",
      "Data with input dtype bool, float64 were all converted to float64 by StandardScaler.\n"
     ]
    },
    {
     "name": "stdout",
     "output_type": "stream",
     "text": [
      "*** Training of model 'DecisionTreeClassifier' started.\n",
      "*** Training of classifier ready. Time elapsed: 462.104ms\n",
      "\n"
     ]
    },
    {
     "name": "stderr",
     "output_type": "stream",
     "text": [
      "Data with input dtype bool, float64 were all converted to float64 by StandardScaler.\n",
      "Data with input dtype bool, float64 were all converted to float64 by StandardScaler.\n",
      "Data with input dtype bool, float64 were all converted to float64 by StandardScaler.\n"
     ]
    },
    {
     "name": "stdout",
     "output_type": "stream",
     "text": [
      "*** Training of model 'DecisionTreeClassifier' started.\n",
      "*** Training of classifier ready. Time elapsed: 444.326ms\n",
      "\n"
     ]
    },
    {
     "name": "stderr",
     "output_type": "stream",
     "text": [
      "Data with input dtype bool, float64 were all converted to float64 by StandardScaler.\n",
      "Data with input dtype bool, float64 were all converted to float64 by StandardScaler.\n",
      "Data with input dtype bool, float64 were all converted to float64 by StandardScaler.\n"
     ]
    },
    {
     "name": "stdout",
     "output_type": "stream",
     "text": [
      "*** Training of model 'DecisionTreeClassifier' started.\n",
      "*** Training of classifier ready. Time elapsed: 422.921ms\n",
      "\n"
     ]
    },
    {
     "name": "stderr",
     "output_type": "stream",
     "text": [
      "Data with input dtype bool, float64 were all converted to float64 by StandardScaler.\n",
      "Data with input dtype bool, float64 were all converted to float64 by StandardScaler.\n",
      "Data with input dtype bool, float64 were all converted to float64 by StandardScaler.\n"
     ]
    },
    {
     "name": "stdout",
     "output_type": "stream",
     "text": [
      "*** Training of model 'DecisionTreeClassifier' started.\n",
      "*** Training of classifier ready. Time elapsed: 388.477ms\n",
      "\n"
     ]
    },
    {
     "name": "stderr",
     "output_type": "stream",
     "text": [
      "Data with input dtype bool, float64 were all converted to float64 by StandardScaler.\n",
      "Data with input dtype bool, float64 were all converted to float64 by StandardScaler.\n",
      "Data with input dtype bool, float64 were all converted to float64 by StandardScaler.\n"
     ]
    },
    {
     "name": "stdout",
     "output_type": "stream",
     "text": [
      "*** Training of model 'DecisionTreeClassifier' started.\n",
      "*** Training of classifier ready. Time elapsed: 428.495ms\n",
      "\n"
     ]
    },
    {
     "name": "stderr",
     "output_type": "stream",
     "text": [
      "Data with input dtype bool, float64 were all converted to float64 by StandardScaler.\n",
      "Data with input dtype bool, float64 were all converted to float64 by StandardScaler.\n",
      "Data with input dtype bool, float64 were all converted to float64 by StandardScaler.\n"
     ]
    },
    {
     "name": "stdout",
     "output_type": "stream",
     "text": [
      "*** Training of model 'DecisionTreeClassifier' started.\n",
      "*** Training of classifier ready. Time elapsed: 123.787ms\n",
      "\n"
     ]
    },
    {
     "name": "stderr",
     "output_type": "stream",
     "text": [
      "Data with input dtype bool, float64 were all converted to float64 by StandardScaler.\n",
      "Data with input dtype bool, float64 were all converted to float64 by StandardScaler.\n",
      "Data with input dtype bool, float64 were all converted to float64 by StandardScaler.\n"
     ]
    },
    {
     "name": "stdout",
     "output_type": "stream",
     "text": [
      "*** Training of model 'DecisionTreeClassifier' started.\n",
      "*** Training of classifier ready. Time elapsed: 124.234ms\n",
      "\n"
     ]
    },
    {
     "name": "stderr",
     "output_type": "stream",
     "text": [
      "Data with input dtype bool, float64 were all converted to float64 by StandardScaler.\n",
      "Data with input dtype bool, float64 were all converted to float64 by StandardScaler.\n",
      "Data with input dtype bool, float64 were all converted to float64 by StandardScaler.\n"
     ]
    },
    {
     "name": "stdout",
     "output_type": "stream",
     "text": [
      "*** Training of model 'DecisionTreeClassifier' started.\n",
      "*** Training of classifier ready. Time elapsed: 121.769ms\n",
      "\n"
     ]
    },
    {
     "name": "stderr",
     "output_type": "stream",
     "text": [
      "Data with input dtype bool, float64 were all converted to float64 by StandardScaler.\n",
      "Data with input dtype bool, float64 were all converted to float64 by StandardScaler.\n",
      "Data with input dtype bool, float64 were all converted to float64 by StandardScaler.\n"
     ]
    },
    {
     "name": "stdout",
     "output_type": "stream",
     "text": [
      "*** Training of model 'DecisionTreeClassifier' started.\n",
      "*** Training of classifier ready. Time elapsed: 121.959ms\n",
      "\n"
     ]
    },
    {
     "name": "stderr",
     "output_type": "stream",
     "text": [
      "Data with input dtype bool, float64 were all converted to float64 by StandardScaler.\n",
      "Data with input dtype bool, float64 were all converted to float64 by StandardScaler.\n",
      "Data with input dtype bool, float64 were all converted to float64 by StandardScaler.\n"
     ]
    },
    {
     "name": "stdout",
     "output_type": "stream",
     "text": [
      "*** Training of model 'DecisionTreeClassifier' started.\n",
      "*** Training of classifier ready. Time elapsed: 129.413ms\n",
      "\n"
     ]
    },
    {
     "name": "stderr",
     "output_type": "stream",
     "text": [
      "Data with input dtype bool, float64 were all converted to float64 by StandardScaler.\n",
      "Data with input dtype bool, float64 were all converted to float64 by StandardScaler.\n",
      "Data with input dtype bool, float64 were all converted to float64 by StandardScaler.\n"
     ]
    },
    {
     "name": "stdout",
     "output_type": "stream",
     "text": [
      "*** Training of model 'LogisticRegression' started.\n",
      "*** Training of classifier ready. Time elapsed: 626.668ms\n",
      "\n"
     ]
    },
    {
     "name": "stderr",
     "output_type": "stream",
     "text": [
      "Data with input dtype bool, float64 were all converted to float64 by StandardScaler.\n",
      "Data with input dtype bool, float64 were all converted to float64 by StandardScaler.\n",
      "Data with input dtype bool, float64 were all converted to float64 by StandardScaler.\n"
     ]
    },
    {
     "name": "stdout",
     "output_type": "stream",
     "text": [
      "*** Training of model 'LogisticRegression' started.\n",
      "*** Training of classifier ready. Time elapsed: 668.017ms\n",
      "\n"
     ]
    },
    {
     "name": "stderr",
     "output_type": "stream",
     "text": [
      "Data with input dtype bool, float64 were all converted to float64 by StandardScaler.\n",
      "Data with input dtype bool, float64 were all converted to float64 by StandardScaler.\n",
      "Data with input dtype bool, float64 were all converted to float64 by StandardScaler.\n"
     ]
    },
    {
     "name": "stdout",
     "output_type": "stream",
     "text": [
      "*** Training of model 'LogisticRegression' started.\n",
      "*** Training of classifier ready. Time elapsed: 667.249ms\n",
      "\n"
     ]
    },
    {
     "name": "stderr",
     "output_type": "stream",
     "text": [
      "Data with input dtype bool, float64 were all converted to float64 by StandardScaler.\n",
      "Data with input dtype bool, float64 were all converted to float64 by StandardScaler.\n",
      "Data with input dtype bool, float64 were all converted to float64 by StandardScaler.\n"
     ]
    },
    {
     "name": "stdout",
     "output_type": "stream",
     "text": [
      "*** Training of model 'LogisticRegression' started.\n",
      "*** Training of classifier ready. Time elapsed: 622.4ms\n",
      "\n"
     ]
    },
    {
     "name": "stderr",
     "output_type": "stream",
     "text": [
      "Data with input dtype bool, float64 were all converted to float64 by StandardScaler.\n",
      "Data with input dtype bool, float64 were all converted to float64 by StandardScaler.\n",
      "Data with input dtype bool, float64 were all converted to float64 by StandardScaler.\n"
     ]
    },
    {
     "name": "stdout",
     "output_type": "stream",
     "text": [
      "*** Training of model 'LogisticRegression' started.\n",
      "*** Training of classifier ready. Time elapsed: 635.248ms\n",
      "\n"
     ]
    },
    {
     "name": "stderr",
     "output_type": "stream",
     "text": [
      "Data with input dtype bool, float64 were all converted to float64 by StandardScaler.\n",
      "Data with input dtype bool, float64 were all converted to float64 by StandardScaler.\n",
      "Data with input dtype bool, float64 were all converted to float64 by StandardScaler.\n"
     ]
    },
    {
     "name": "stdout",
     "output_type": "stream",
     "text": [
      "*** Training of model 'LogisticRegression' started.\n",
      "*** Training of classifier ready. Time elapsed: 174.85ms\n",
      "\n"
     ]
    },
    {
     "name": "stderr",
     "output_type": "stream",
     "text": [
      "Data with input dtype bool, float64 were all converted to float64 by StandardScaler.\n",
      "Data with input dtype bool, float64 were all converted to float64 by StandardScaler.\n",
      "Data with input dtype bool, float64 were all converted to float64 by StandardScaler.\n"
     ]
    },
    {
     "name": "stdout",
     "output_type": "stream",
     "text": [
      "*** Training of model 'LogisticRegression' started.\n",
      "*** Training of classifier ready. Time elapsed: 167.963ms\n",
      "\n"
     ]
    },
    {
     "name": "stderr",
     "output_type": "stream",
     "text": [
      "Data with input dtype bool, float64 were all converted to float64 by StandardScaler.\n",
      "Data with input dtype bool, float64 were all converted to float64 by StandardScaler.\n",
      "Data with input dtype bool, float64 were all converted to float64 by StandardScaler.\n"
     ]
    },
    {
     "name": "stdout",
     "output_type": "stream",
     "text": [
      "*** Training of model 'LogisticRegression' started.\n",
      "*** Training of classifier ready. Time elapsed: 97.304ms\n",
      "\n"
     ]
    },
    {
     "name": "stderr",
     "output_type": "stream",
     "text": [
      "Data with input dtype bool, float64 were all converted to float64 by StandardScaler.\n",
      "Data with input dtype bool, float64 were all converted to float64 by StandardScaler.\n",
      "Data with input dtype bool, float64 were all converted to float64 by StandardScaler.\n"
     ]
    },
    {
     "name": "stdout",
     "output_type": "stream",
     "text": [
      "*** Training of model 'LogisticRegression' started.\n",
      "*** Training of classifier ready. Time elapsed: 43.323ms\n",
      "\n"
     ]
    },
    {
     "name": "stderr",
     "output_type": "stream",
     "text": [
      "Data with input dtype bool, float64 were all converted to float64 by StandardScaler.\n",
      "Data with input dtype bool, float64 were all converted to float64 by StandardScaler.\n",
      "Data with input dtype bool, float64 were all converted to float64 by StandardScaler.\n"
     ]
    },
    {
     "name": "stdout",
     "output_type": "stream",
     "text": [
      "*** Training of model 'LogisticRegression' started.\n",
      "*** Training of classifier ready. Time elapsed: 102.663ms\n",
      "\n"
     ]
    },
    {
     "name": "stderr",
     "output_type": "stream",
     "text": [
      "Data with input dtype bool, float64 were all converted to float64 by StandardScaler.\n",
      "Data with input dtype bool, float64 were all converted to float64 by StandardScaler.\n",
      "Data with input dtype bool, float64 were all converted to float64 by StandardScaler.\n"
     ]
    },
    {
     "name": "stdout",
     "output_type": "stream",
     "text": [
      "*** Training of model 'LogisticRegression' started.\n",
      "*** Training of classifier ready. Time elapsed: 705.861ms\n",
      "\n"
     ]
    },
    {
     "name": "stderr",
     "output_type": "stream",
     "text": [
      "Data with input dtype bool, float64 were all converted to float64 by StandardScaler.\n",
      "Data with input dtype bool, float64 were all converted to float64 by StandardScaler.\n",
      "Data with input dtype bool, float64 were all converted to float64 by StandardScaler.\n"
     ]
    },
    {
     "name": "stdout",
     "output_type": "stream",
     "text": [
      "*** Training of model 'LogisticRegression' started.\n",
      "*** Training of classifier ready. Time elapsed: 416.167ms\n",
      "\n"
     ]
    },
    {
     "name": "stderr",
     "output_type": "stream",
     "text": [
      "Data with input dtype bool, float64 were all converted to float64 by StandardScaler.\n",
      "Data with input dtype bool, float64 were all converted to float64 by StandardScaler.\n",
      "Data with input dtype bool, float64 were all converted to float64 by StandardScaler.\n"
     ]
    },
    {
     "name": "stdout",
     "output_type": "stream",
     "text": [
      "*** Training of model 'LogisticRegression' started.\n",
      "*** Training of classifier ready. Time elapsed: 935.816ms\n",
      "\n"
     ]
    },
    {
     "name": "stderr",
     "output_type": "stream",
     "text": [
      "Data with input dtype bool, float64 were all converted to float64 by StandardScaler.\n",
      "Data with input dtype bool, float64 were all converted to float64 by StandardScaler.\n",
      "Data with input dtype bool, float64 were all converted to float64 by StandardScaler.\n"
     ]
    },
    {
     "name": "stdout",
     "output_type": "stream",
     "text": [
      "*** Training of model 'LogisticRegression' started.\n",
      "*** Training of classifier ready. Time elapsed: 763.719ms\n",
      "\n"
     ]
    },
    {
     "name": "stderr",
     "output_type": "stream",
     "text": [
      "Data with input dtype bool, float64 were all converted to float64 by StandardScaler.\n",
      "Data with input dtype bool, float64 were all converted to float64 by StandardScaler.\n",
      "Data with input dtype bool, float64 were all converted to float64 by StandardScaler.\n"
     ]
    },
    {
     "name": "stdout",
     "output_type": "stream",
     "text": [
      "*** Training of model 'LogisticRegression' started.\n",
      "*** Training of classifier ready. Time elapsed: 653.816ms\n",
      "\n"
     ]
    },
    {
     "name": "stderr",
     "output_type": "stream",
     "text": [
      "Data with input dtype bool, float64 were all converted to float64 by StandardScaler.\n",
      "Data with input dtype bool, float64 were all converted to float64 by StandardScaler.\n",
      "Data with input dtype bool, float64 were all converted to float64 by StandardScaler.\n"
     ]
    },
    {
     "name": "stdout",
     "output_type": "stream",
     "text": [
      "*** Training of model 'LogisticRegression' started.\n",
      "*** Training of classifier ready. Time elapsed: 271.615ms\n",
      "\n"
     ]
    },
    {
     "name": "stderr",
     "output_type": "stream",
     "text": [
      "Data with input dtype bool, float64 were all converted to float64 by StandardScaler.\n",
      "Data with input dtype bool, float64 were all converted to float64 by StandardScaler.\n",
      "Data with input dtype bool, float64 were all converted to float64 by StandardScaler.\n"
     ]
    },
    {
     "name": "stdout",
     "output_type": "stream",
     "text": [
      "*** Training of model 'LogisticRegression' started.\n",
      "*** Training of classifier ready. Time elapsed: 215.139ms\n",
      "\n"
     ]
    },
    {
     "name": "stderr",
     "output_type": "stream",
     "text": [
      "Data with input dtype bool, float64 were all converted to float64 by StandardScaler.\n",
      "Data with input dtype bool, float64 were all converted to float64 by StandardScaler.\n",
      "Data with input dtype bool, float64 were all converted to float64 by StandardScaler.\n"
     ]
    },
    {
     "name": "stdout",
     "output_type": "stream",
     "text": [
      "*** Training of model 'LogisticRegression' started.\n",
      "*** Training of classifier ready. Time elapsed: 213.927ms\n",
      "\n"
     ]
    },
    {
     "name": "stderr",
     "output_type": "stream",
     "text": [
      "Data with input dtype bool, float64 were all converted to float64 by StandardScaler.\n",
      "Data with input dtype bool, float64 were all converted to float64 by StandardScaler.\n",
      "Data with input dtype bool, float64 were all converted to float64 by StandardScaler.\n"
     ]
    },
    {
     "name": "stdout",
     "output_type": "stream",
     "text": [
      "*** Training of model 'LogisticRegression' started.\n",
      "*** Training of classifier ready. Time elapsed: 429.989ms\n",
      "\n"
     ]
    },
    {
     "name": "stderr",
     "output_type": "stream",
     "text": [
      "Data with input dtype bool, float64 were all converted to float64 by StandardScaler.\n",
      "Data with input dtype bool, float64 were all converted to float64 by StandardScaler.\n",
      "Data with input dtype bool, float64 were all converted to float64 by StandardScaler.\n"
     ]
    },
    {
     "name": "stdout",
     "output_type": "stream",
     "text": [
      "*** Training of model 'LogisticRegression' started.\n",
      "*** Training of classifier ready. Time elapsed: 512.643ms\n",
      "\n"
     ]
    },
    {
     "name": "stderr",
     "output_type": "stream",
     "text": [
      "Columns (11,18,19,20,24,27,35,64,83,90,92,94,95,96,98,105,112,113,115,118,122,123,130,133,137,138,139,140,141,147,168,169,175,232,241,245,246,285,308,313,314,316,321,325,329,336,348,354,355,356,360,376,391,396,414,418,423,427,429,432,439) have mixed types. Specify dtype option on import or set low_memory=False.\n"
     ]
    },
    {
     "name": "stdout",
     "output_type": "stream",
     "text": [
      "Fetching data for <fiber.condition.mrns.MRNs object at 0x7f1b2ccd7898>\n",
      "Fetching data for Patient (...)\n"
     ]
    },
    {
     "name": "stderr",
     "output_type": "stream",
     "text": [
      "Data with input dtype bool, float64 were all converted to float64 by StandardScaler.\n",
      "Data with input dtype bool, float64 were all converted to float64 by StandardScaler.\n",
      "Data with input dtype bool, float64 were all converted to float64 by StandardScaler.\n"
     ]
    },
    {
     "name": "stdout",
     "output_type": "stream",
     "text": [
      "*** Training of model 'GradientBoostingClassifier' started.\n",
      "*** Training of classifier ready. Time elapsed: 241.192ms\n",
      "\n"
     ]
    },
    {
     "name": "stderr",
     "output_type": "stream",
     "text": [
      "Data with input dtype bool, float64 were all converted to float64 by StandardScaler.\n",
      "Data with input dtype bool, float64 were all converted to float64 by StandardScaler.\n",
      "Data with input dtype bool, float64 were all converted to float64 by StandardScaler.\n"
     ]
    },
    {
     "name": "stdout",
     "output_type": "stream",
     "text": [
      "*** Training of model 'GradientBoostingClassifier' started.\n",
      "*** Training of classifier ready. Time elapsed: 263.196ms\n",
      "\n"
     ]
    },
    {
     "name": "stderr",
     "output_type": "stream",
     "text": [
      "Data with input dtype bool, float64 were all converted to float64 by StandardScaler.\n",
      "Data with input dtype bool, float64 were all converted to float64 by StandardScaler.\n",
      "Data with input dtype bool, float64 were all converted to float64 by StandardScaler.\n"
     ]
    },
    {
     "name": "stdout",
     "output_type": "stream",
     "text": [
      "*** Training of model 'GradientBoostingClassifier' started.\n",
      "*** Training of classifier ready. Time elapsed: 263.23ms\n",
      "\n"
     ]
    },
    {
     "name": "stderr",
     "output_type": "stream",
     "text": [
      "Data with input dtype bool, float64 were all converted to float64 by StandardScaler.\n",
      "Data with input dtype bool, float64 were all converted to float64 by StandardScaler.\n",
      "Data with input dtype bool, float64 were all converted to float64 by StandardScaler.\n"
     ]
    },
    {
     "name": "stdout",
     "output_type": "stream",
     "text": [
      "*** Training of model 'GradientBoostingClassifier' started.\n",
      "*** Training of classifier ready. Time elapsed: 690.089ms\n",
      "\n"
     ]
    },
    {
     "name": "stderr",
     "output_type": "stream",
     "text": [
      "Data with input dtype bool, float64 were all converted to float64 by StandardScaler.\n",
      "Data with input dtype bool, float64 were all converted to float64 by StandardScaler.\n",
      "Data with input dtype bool, float64 were all converted to float64 by StandardScaler.\n"
     ]
    },
    {
     "name": "stdout",
     "output_type": "stream",
     "text": [
      "*** Training of model 'GradientBoostingClassifier' started.\n",
      "*** Training of classifier ready. Time elapsed: 974.074ms\n",
      "\n"
     ]
    },
    {
     "name": "stderr",
     "output_type": "stream",
     "text": [
      "Data with input dtype bool, float64 were all converted to float64 by StandardScaler.\n",
      "Data with input dtype bool, float64 were all converted to float64 by StandardScaler.\n",
      "Data with input dtype bool, float64 were all converted to float64 by StandardScaler.\n"
     ]
    },
    {
     "name": "stdout",
     "output_type": "stream",
     "text": [
      "*** Training of model 'GradientBoostingClassifier' started.\n",
      "*** Training of classifier ready. Time elapsed: 359.41ms\n",
      "\n"
     ]
    },
    {
     "name": "stderr",
     "output_type": "stream",
     "text": [
      "Data with input dtype bool, float64 were all converted to float64 by StandardScaler.\n",
      "Data with input dtype bool, float64 were all converted to float64 by StandardScaler.\n",
      "Data with input dtype bool, float64 were all converted to float64 by StandardScaler.\n"
     ]
    },
    {
     "name": "stdout",
     "output_type": "stream",
     "text": [
      "*** Training of model 'GradientBoostingClassifier' started.\n",
      "*** Training of classifier ready. Time elapsed: 476.181ms\n",
      "\n"
     ]
    },
    {
     "name": "stderr",
     "output_type": "stream",
     "text": [
      "Data with input dtype bool, float64 were all converted to float64 by StandardScaler.\n",
      "Data with input dtype bool, float64 were all converted to float64 by StandardScaler.\n",
      "Data with input dtype bool, float64 were all converted to float64 by StandardScaler.\n"
     ]
    },
    {
     "name": "stdout",
     "output_type": "stream",
     "text": [
      "*** Training of model 'GradientBoostingClassifier' started.\n",
      "*** Training of classifier ready. Time elapsed: 396.706ms\n",
      "\n"
     ]
    },
    {
     "name": "stderr",
     "output_type": "stream",
     "text": [
      "Data with input dtype bool, float64 were all converted to float64 by StandardScaler.\n",
      "Data with input dtype bool, float64 were all converted to float64 by StandardScaler.\n",
      "Data with input dtype bool, float64 were all converted to float64 by StandardScaler.\n"
     ]
    },
    {
     "name": "stdout",
     "output_type": "stream",
     "text": [
      "*** Training of model 'GradientBoostingClassifier' started.\n",
      "*** Training of classifier ready. Time elapsed: 664.684ms\n",
      "\n"
     ]
    },
    {
     "name": "stderr",
     "output_type": "stream",
     "text": [
      "Data with input dtype bool, float64 were all converted to float64 by StandardScaler.\n",
      "Data with input dtype bool, float64 were all converted to float64 by StandardScaler.\n",
      "Data with input dtype bool, float64 were all converted to float64 by StandardScaler.\n"
     ]
    },
    {
     "name": "stdout",
     "output_type": "stream",
     "text": [
      "*** Training of model 'GradientBoostingClassifier' started.\n",
      "*** Training of classifier ready. Time elapsed: 462.528ms\n",
      "\n"
     ]
    },
    {
     "name": "stderr",
     "output_type": "stream",
     "text": [
      "Data with input dtype bool, float64 were all converted to float64 by StandardScaler.\n",
      "Data with input dtype bool, float64 were all converted to float64 by StandardScaler.\n",
      "Data with input dtype bool, float64 were all converted to float64 by StandardScaler.\n"
     ]
    },
    {
     "name": "stdout",
     "output_type": "stream",
     "text": [
      "*** Training of model 'GradientBoostingClassifier' started.\n",
      "*** Training of classifier ready. Time elapsed: 407.932ms\n",
      "\n"
     ]
    },
    {
     "name": "stderr",
     "output_type": "stream",
     "text": [
      "Data with input dtype bool, float64 were all converted to float64 by StandardScaler.\n",
      "Data with input dtype bool, float64 were all converted to float64 by StandardScaler.\n",
      "Data with input dtype bool, float64 were all converted to float64 by StandardScaler.\n"
     ]
    },
    {
     "name": "stdout",
     "output_type": "stream",
     "text": [
      "*** Training of model 'GradientBoostingClassifier' started.\n",
      "*** Training of classifier ready. Time elapsed: 959.854ms\n",
      "\n"
     ]
    },
    {
     "name": "stderr",
     "output_type": "stream",
     "text": [
      "Data with input dtype bool, float64 were all converted to float64 by StandardScaler.\n",
      "Data with input dtype bool, float64 were all converted to float64 by StandardScaler.\n",
      "Data with input dtype bool, float64 were all converted to float64 by StandardScaler.\n"
     ]
    },
    {
     "name": "stdout",
     "output_type": "stream",
     "text": [
      "*** Training of model 'GradientBoostingClassifier' started.\n",
      "*** Training of classifier ready. Time elapsed: 465.114ms\n",
      "\n"
     ]
    },
    {
     "name": "stderr",
     "output_type": "stream",
     "text": [
      "Data with input dtype bool, float64 were all converted to float64 by StandardScaler.\n",
      "Data with input dtype bool, float64 were all converted to float64 by StandardScaler.\n",
      "Data with input dtype bool, float64 were all converted to float64 by StandardScaler.\n"
     ]
    },
    {
     "name": "stdout",
     "output_type": "stream",
     "text": [
      "*** Training of model 'GradientBoostingClassifier' started.\n",
      "*** Training of classifier ready. Time elapsed: 465.754ms\n",
      "\n"
     ]
    },
    {
     "name": "stderr",
     "output_type": "stream",
     "text": [
      "Data with input dtype bool, float64 were all converted to float64 by StandardScaler.\n",
      "Data with input dtype bool, float64 were all converted to float64 by StandardScaler.\n",
      "Data with input dtype bool, float64 were all converted to float64 by StandardScaler.\n"
     ]
    },
    {
     "name": "stdout",
     "output_type": "stream",
     "text": [
      "*** Training of model 'GradientBoostingClassifier' started.\n",
      "*** Training of classifier ready. Time elapsed: 786.738ms\n",
      "\n"
     ]
    },
    {
     "name": "stderr",
     "output_type": "stream",
     "text": [
      "Data with input dtype bool, float64 were all converted to float64 by StandardScaler.\n",
      "Data with input dtype bool, float64 were all converted to float64 by StandardScaler.\n",
      "Data with input dtype bool, float64 were all converted to float64 by StandardScaler.\n"
     ]
    },
    {
     "name": "stdout",
     "output_type": "stream",
     "text": [
      "*** Training of model 'GradientBoostingClassifier' started.\n",
      "*** Training of classifier ready. Time elapsed: 38.325ms\n",
      "\n"
     ]
    },
    {
     "name": "stderr",
     "output_type": "stream",
     "text": [
      "Data with input dtype bool, float64 were all converted to float64 by StandardScaler.\n",
      "Data with input dtype bool, float64 were all converted to float64 by StandardScaler.\n",
      "Data with input dtype bool, float64 were all converted to float64 by StandardScaler.\n"
     ]
    },
    {
     "name": "stdout",
     "output_type": "stream",
     "text": [
      "*** Training of model 'GradientBoostingClassifier' started.\n",
      "*** Training of classifier ready. Time elapsed: 843.074ms\n",
      "\n"
     ]
    },
    {
     "name": "stderr",
     "output_type": "stream",
     "text": [
      "Data with input dtype bool, float64 were all converted to float64 by StandardScaler.\n",
      "Data with input dtype bool, float64 were all converted to float64 by StandardScaler.\n",
      "Data with input dtype bool, float64 were all converted to float64 by StandardScaler.\n"
     ]
    },
    {
     "name": "stdout",
     "output_type": "stream",
     "text": [
      "*** Training of model 'GradientBoostingClassifier' started.\n",
      "*** Training of classifier ready. Time elapsed: 117.556ms\n",
      "\n"
     ]
    },
    {
     "name": "stderr",
     "output_type": "stream",
     "text": [
      "Data with input dtype bool, float64 were all converted to float64 by StandardScaler.\n",
      "Data with input dtype bool, float64 were all converted to float64 by StandardScaler.\n",
      "Data with input dtype bool, float64 were all converted to float64 by StandardScaler.\n"
     ]
    },
    {
     "name": "stdout",
     "output_type": "stream",
     "text": [
      "*** Training of model 'GradientBoostingClassifier' started.\n",
      "*** Training of classifier ready. Time elapsed: 49.464ms\n",
      "\n"
     ]
    },
    {
     "name": "stderr",
     "output_type": "stream",
     "text": [
      "Data with input dtype bool, float64 were all converted to float64 by StandardScaler.\n",
      "Data with input dtype bool, float64 were all converted to float64 by StandardScaler.\n",
      "Data with input dtype bool, float64 were all converted to float64 by StandardScaler.\n"
     ]
    },
    {
     "name": "stdout",
     "output_type": "stream",
     "text": [
      "*** Training of model 'GradientBoostingClassifier' started.\n",
      "*** Training of classifier ready. Time elapsed: 881.926ms\n",
      "\n"
     ]
    },
    {
     "name": "stderr",
     "output_type": "stream",
     "text": [
      "Data with input dtype bool, float64 were all converted to float64 by StandardScaler.\n",
      "Data with input dtype bool, float64 were all converted to float64 by StandardScaler.\n",
      "Data with input dtype bool, float64 were all converted to float64 by StandardScaler.\n"
     ]
    },
    {
     "name": "stdout",
     "output_type": "stream",
     "text": [
      "*** Training of model 'RandomForestClassifier' started.\n",
      "*** Training of classifier ready. Time elapsed: 823.488ms\n",
      "\n"
     ]
    },
    {
     "name": "stderr",
     "output_type": "stream",
     "text": [
      "F-score is ill-defined and being set to 0.0 due to no predicted samples.\n",
      "Precision is ill-defined and being set to 0.0 due to no predicted samples.\n",
      "invalid value encountered in long_scalars\n",
      "Data with input dtype bool, float64 were all converted to float64 by StandardScaler.\n",
      "Data with input dtype bool, float64 were all converted to float64 by StandardScaler.\n",
      "Data with input dtype bool, float64 were all converted to float64 by StandardScaler.\n"
     ]
    },
    {
     "name": "stdout",
     "output_type": "stream",
     "text": [
      "*** Training of model 'RandomForestClassifier' started.\n",
      "*** Training of classifier ready. Time elapsed: 935.228ms\n",
      "\n"
     ]
    },
    {
     "name": "stderr",
     "output_type": "stream",
     "text": [
      "F-score is ill-defined and being set to 0.0 due to no predicted samples.\n",
      "Precision is ill-defined and being set to 0.0 due to no predicted samples.\n",
      "invalid value encountered in long_scalars\n",
      "Data with input dtype bool, float64 were all converted to float64 by StandardScaler.\n",
      "Data with input dtype bool, float64 were all converted to float64 by StandardScaler.\n",
      "Data with input dtype bool, float64 were all converted to float64 by StandardScaler.\n"
     ]
    },
    {
     "name": "stdout",
     "output_type": "stream",
     "text": [
      "*** Training of model 'RandomForestClassifier' started.\n",
      "*** Training of classifier ready. Time elapsed: 869.992ms\n",
      "\n"
     ]
    },
    {
     "name": "stderr",
     "output_type": "stream",
     "text": [
      "F-score is ill-defined and being set to 0.0 due to no predicted samples.\n",
      "Precision is ill-defined and being set to 0.0 due to no predicted samples.\n",
      "invalid value encountered in long_scalars\n",
      "Data with input dtype bool, float64 were all converted to float64 by StandardScaler.\n",
      "Data with input dtype bool, float64 were all converted to float64 by StandardScaler.\n",
      "Data with input dtype bool, float64 were all converted to float64 by StandardScaler.\n"
     ]
    },
    {
     "name": "stdout",
     "output_type": "stream",
     "text": [
      "*** Training of model 'RandomForestClassifier' started.\n",
      "*** Training of classifier ready. Time elapsed: 998.956ms\n",
      "\n"
     ]
    },
    {
     "name": "stderr",
     "output_type": "stream",
     "text": [
      "F-score is ill-defined and being set to 0.0 due to no predicted samples.\n",
      "Precision is ill-defined and being set to 0.0 due to no predicted samples.\n",
      "invalid value encountered in long_scalars\n",
      "Data with input dtype bool, float64 were all converted to float64 by StandardScaler.\n",
      "Data with input dtype bool, float64 were all converted to float64 by StandardScaler.\n",
      "Data with input dtype bool, float64 were all converted to float64 by StandardScaler.\n"
     ]
    },
    {
     "name": "stdout",
     "output_type": "stream",
     "text": [
      "*** Training of model 'RandomForestClassifier' started.\n",
      "*** Training of classifier ready. Time elapsed: 908.453ms\n",
      "\n"
     ]
    },
    {
     "name": "stderr",
     "output_type": "stream",
     "text": [
      "F-score is ill-defined and being set to 0.0 due to no predicted samples.\n",
      "Precision is ill-defined and being set to 0.0 due to no predicted samples.\n",
      "invalid value encountered in long_scalars\n",
      "Data with input dtype bool, float64 were all converted to float64 by StandardScaler.\n",
      "Data with input dtype bool, float64 were all converted to float64 by StandardScaler.\n",
      "Data with input dtype bool, float64 were all converted to float64 by StandardScaler.\n"
     ]
    },
    {
     "name": "stdout",
     "output_type": "stream",
     "text": [
      "*** Training of model 'RandomForestClassifier' started.\n",
      "*** Training of classifier ready. Time elapsed: 394.98ms\n",
      "\n"
     ]
    },
    {
     "name": "stderr",
     "output_type": "stream",
     "text": [
      "Data with input dtype bool, float64 were all converted to float64 by StandardScaler.\n",
      "Data with input dtype bool, float64 were all converted to float64 by StandardScaler.\n",
      "Data with input dtype bool, float64 were all converted to float64 by StandardScaler.\n"
     ]
    },
    {
     "name": "stdout",
     "output_type": "stream",
     "text": [
      "*** Training of model 'RandomForestClassifier' started.\n",
      "*** Training of classifier ready. Time elapsed: 393.867ms\n",
      "\n"
     ]
    },
    {
     "name": "stderr",
     "output_type": "stream",
     "text": [
      "Data with input dtype bool, float64 were all converted to float64 by StandardScaler.\n",
      "Data with input dtype bool, float64 were all converted to float64 by StandardScaler.\n",
      "Data with input dtype bool, float64 were all converted to float64 by StandardScaler.\n"
     ]
    },
    {
     "name": "stdout",
     "output_type": "stream",
     "text": [
      "*** Training of model 'RandomForestClassifier' started.\n",
      "*** Training of classifier ready. Time elapsed: 399.571ms\n",
      "\n"
     ]
    },
    {
     "name": "stderr",
     "output_type": "stream",
     "text": [
      "Data with input dtype bool, float64 were all converted to float64 by StandardScaler.\n",
      "Data with input dtype bool, float64 were all converted to float64 by StandardScaler.\n",
      "Data with input dtype bool, float64 were all converted to float64 by StandardScaler.\n"
     ]
    },
    {
     "name": "stdout",
     "output_type": "stream",
     "text": [
      "*** Training of model 'RandomForestClassifier' started.\n",
      "*** Training of classifier ready. Time elapsed: 400.179ms\n",
      "\n"
     ]
    },
    {
     "name": "stderr",
     "output_type": "stream",
     "text": [
      "Data with input dtype bool, float64 were all converted to float64 by StandardScaler.\n",
      "Data with input dtype bool, float64 were all converted to float64 by StandardScaler.\n",
      "Data with input dtype bool, float64 were all converted to float64 by StandardScaler.\n"
     ]
    },
    {
     "name": "stdout",
     "output_type": "stream",
     "text": [
      "*** Training of model 'RandomForestClassifier' started.\n",
      "*** Training of classifier ready. Time elapsed: 387.038ms\n",
      "\n"
     ]
    },
    {
     "name": "stderr",
     "output_type": "stream",
     "text": [
      "Data with input dtype bool, float64 were all converted to float64 by StandardScaler.\n",
      "Data with input dtype bool, float64 were all converted to float64 by StandardScaler.\n",
      "Data with input dtype bool, float64 were all converted to float64 by StandardScaler.\n"
     ]
    },
    {
     "name": "stdout",
     "output_type": "stream",
     "text": [
      "*** Training of model 'RandomForestClassifier' started.\n",
      "*** Training of classifier ready. Time elapsed: 510.51ms\n",
      "\n"
     ]
    },
    {
     "name": "stderr",
     "output_type": "stream",
     "text": [
      "Data with input dtype bool, float64 were all converted to float64 by StandardScaler.\n",
      "Data with input dtype bool, float64 were all converted to float64 by StandardScaler.\n",
      "Data with input dtype bool, float64 were all converted to float64 by StandardScaler.\n"
     ]
    },
    {
     "name": "stdout",
     "output_type": "stream",
     "text": [
      "*** Training of model 'RandomForestClassifier' started.\n",
      "*** Training of classifier ready. Time elapsed: 443.085ms\n",
      "\n"
     ]
    },
    {
     "name": "stderr",
     "output_type": "stream",
     "text": [
      "Data with input dtype bool, float64 were all converted to float64 by StandardScaler.\n",
      "Data with input dtype bool, float64 were all converted to float64 by StandardScaler.\n",
      "Data with input dtype bool, float64 were all converted to float64 by StandardScaler.\n"
     ]
    },
    {
     "name": "stdout",
     "output_type": "stream",
     "text": [
      "*** Training of model 'RandomForestClassifier' started.\n",
      "*** Training of classifier ready. Time elapsed: 141.731ms\n",
      "\n"
     ]
    },
    {
     "name": "stderr",
     "output_type": "stream",
     "text": [
      "Data with input dtype bool, float64 were all converted to float64 by StandardScaler.\n",
      "Data with input dtype bool, float64 were all converted to float64 by StandardScaler.\n",
      "Data with input dtype bool, float64 were all converted to float64 by StandardScaler.\n"
     ]
    },
    {
     "name": "stdout",
     "output_type": "stream",
     "text": [
      "*** Training of model 'RandomForestClassifier' started.\n",
      "*** Training of classifier ready. Time elapsed: 270.819ms\n",
      "\n"
     ]
    },
    {
     "name": "stderr",
     "output_type": "stream",
     "text": [
      "Data with input dtype bool, float64 were all converted to float64 by StandardScaler.\n",
      "Data with input dtype bool, float64 were all converted to float64 by StandardScaler.\n",
      "Data with input dtype bool, float64 were all converted to float64 by StandardScaler.\n"
     ]
    },
    {
     "name": "stdout",
     "output_type": "stream",
     "text": [
      "*** Training of model 'RandomForestClassifier' started.\n",
      "*** Training of classifier ready. Time elapsed: 393.849ms\n",
      "\n"
     ]
    },
    {
     "name": "stderr",
     "output_type": "stream",
     "text": [
      "Data with input dtype bool, float64 were all converted to float64 by StandardScaler.\n",
      "Data with input dtype bool, float64 were all converted to float64 by StandardScaler.\n",
      "Data with input dtype bool, float64 were all converted to float64 by StandardScaler.\n"
     ]
    },
    {
     "name": "stdout",
     "output_type": "stream",
     "text": [
      "*** Training of model 'RandomForestClassifier' started.\n",
      "*** Training of classifier ready. Time elapsed: 767.94ms\n",
      "\n"
     ]
    },
    {
     "name": "stderr",
     "output_type": "stream",
     "text": [
      "F-score is ill-defined and being set to 0.0 due to no predicted samples.\n",
      "Precision is ill-defined and being set to 0.0 due to no predicted samples.\n",
      "invalid value encountered in long_scalars\n",
      "Data with input dtype bool, float64 were all converted to float64 by StandardScaler.\n",
      "Data with input dtype bool, float64 were all converted to float64 by StandardScaler.\n",
      "Data with input dtype bool, float64 were all converted to float64 by StandardScaler.\n"
     ]
    },
    {
     "name": "stdout",
     "output_type": "stream",
     "text": [
      "*** Training of model 'RandomForestClassifier' started.\n",
      "*** Training of classifier ready. Time elapsed: 764.782ms\n",
      "\n"
     ]
    },
    {
     "name": "stderr",
     "output_type": "stream",
     "text": [
      "F-score is ill-defined and being set to 0.0 due to no predicted samples.\n",
      "Precision is ill-defined and being set to 0.0 due to no predicted samples.\n",
      "invalid value encountered in long_scalars\n",
      "Data with input dtype bool, float64 were all converted to float64 by StandardScaler.\n",
      "Data with input dtype bool, float64 were all converted to float64 by StandardScaler.\n",
      "Data with input dtype bool, float64 were all converted to float64 by StandardScaler.\n"
     ]
    },
    {
     "name": "stdout",
     "output_type": "stream",
     "text": [
      "*** Training of model 'RandomForestClassifier' started.\n",
      "*** Training of classifier ready. Time elapsed: 748.944ms\n",
      "\n"
     ]
    },
    {
     "name": "stderr",
     "output_type": "stream",
     "text": [
      "F-score is ill-defined and being set to 0.0 due to no predicted samples.\n",
      "Precision is ill-defined and being set to 0.0 due to no predicted samples.\n",
      "invalid value encountered in long_scalars\n",
      "Data with input dtype bool, float64 were all converted to float64 by StandardScaler.\n",
      "Data with input dtype bool, float64 were all converted to float64 by StandardScaler.\n",
      "Data with input dtype bool, float64 were all converted to float64 by StandardScaler.\n"
     ]
    },
    {
     "name": "stdout",
     "output_type": "stream",
     "text": [
      "*** Training of model 'RandomForestClassifier' started.\n",
      "*** Training of classifier ready. Time elapsed: 763.957ms\n",
      "\n"
     ]
    },
    {
     "name": "stderr",
     "output_type": "stream",
     "text": [
      "F-score is ill-defined and being set to 0.0 due to no predicted samples.\n",
      "Precision is ill-defined and being set to 0.0 due to no predicted samples.\n",
      "invalid value encountered in long_scalars\n",
      "Data with input dtype bool, float64 were all converted to float64 by StandardScaler.\n",
      "Data with input dtype bool, float64 were all converted to float64 by StandardScaler.\n",
      "Data with input dtype bool, float64 were all converted to float64 by StandardScaler.\n"
     ]
    },
    {
     "name": "stdout",
     "output_type": "stream",
     "text": [
      "*** Training of model 'RandomForestClassifier' started.\n",
      "*** Training of classifier ready. Time elapsed: 759.244ms\n",
      "\n"
     ]
    },
    {
     "name": "stderr",
     "output_type": "stream",
     "text": [
      "F-score is ill-defined and being set to 0.0 due to no predicted samples.\n",
      "Precision is ill-defined and being set to 0.0 due to no predicted samples.\n",
      "invalid value encountered in long_scalars\n",
      "Data with input dtype bool, float64 were all converted to float64 by StandardScaler.\n",
      "Data with input dtype bool, float64 were all converted to float64 by StandardScaler.\n",
      "Data with input dtype bool, float64 were all converted to float64 by StandardScaler.\n"
     ]
    },
    {
     "name": "stdout",
     "output_type": "stream",
     "text": [
      "*** Training of model 'DecisionTreeClassifier' started.\n",
      "*** Training of classifier ready. Time elapsed: 300.769ms\n",
      "\n"
     ]
    },
    {
     "name": "stderr",
     "output_type": "stream",
     "text": [
      "Data with input dtype bool, float64 were all converted to float64 by StandardScaler.\n",
      "Data with input dtype bool, float64 were all converted to float64 by StandardScaler.\n",
      "Data with input dtype bool, float64 were all converted to float64 by StandardScaler.\n"
     ]
    },
    {
     "name": "stdout",
     "output_type": "stream",
     "text": [
      "*** Training of model 'DecisionTreeClassifier' started.\n",
      "*** Training of classifier ready. Time elapsed: 274.702ms\n",
      "\n"
     ]
    },
    {
     "name": "stderr",
     "output_type": "stream",
     "text": [
      "Data with input dtype bool, float64 were all converted to float64 by StandardScaler.\n",
      "Data with input dtype bool, float64 were all converted to float64 by StandardScaler.\n",
      "Data with input dtype bool, float64 were all converted to float64 by StandardScaler.\n"
     ]
    },
    {
     "name": "stdout",
     "output_type": "stream",
     "text": [
      "*** Training of model 'DecisionTreeClassifier' started.\n",
      "*** Training of classifier ready. Time elapsed: 295.998ms\n",
      "\n"
     ]
    },
    {
     "name": "stderr",
     "output_type": "stream",
     "text": [
      "Data with input dtype bool, float64 were all converted to float64 by StandardScaler.\n",
      "Data with input dtype bool, float64 were all converted to float64 by StandardScaler.\n",
      "Data with input dtype bool, float64 were all converted to float64 by StandardScaler.\n"
     ]
    },
    {
     "name": "stdout",
     "output_type": "stream",
     "text": [
      "*** Training of model 'DecisionTreeClassifier' started.\n",
      "*** Training of classifier ready. Time elapsed: 295.222ms\n",
      "\n"
     ]
    },
    {
     "name": "stderr",
     "output_type": "stream",
     "text": [
      "Data with input dtype bool, float64 were all converted to float64 by StandardScaler.\n",
      "Data with input dtype bool, float64 were all converted to float64 by StandardScaler.\n",
      "Data with input dtype bool, float64 were all converted to float64 by StandardScaler.\n"
     ]
    },
    {
     "name": "stdout",
     "output_type": "stream",
     "text": [
      "*** Training of model 'DecisionTreeClassifier' started.\n",
      "*** Training of classifier ready. Time elapsed: 324.092ms\n",
      "\n"
     ]
    },
    {
     "name": "stderr",
     "output_type": "stream",
     "text": [
      "Data with input dtype bool, float64 were all converted to float64 by StandardScaler.\n",
      "Data with input dtype bool, float64 were all converted to float64 by StandardScaler.\n",
      "Data with input dtype bool, float64 were all converted to float64 by StandardScaler.\n"
     ]
    },
    {
     "name": "stdout",
     "output_type": "stream",
     "text": [
      "*** Training of model 'DecisionTreeClassifier' started.\n",
      "*** Training of classifier ready. Time elapsed: 20.117ms\n",
      "\n"
     ]
    },
    {
     "name": "stderr",
     "output_type": "stream",
     "text": [
      "Data with input dtype bool, float64 were all converted to float64 by StandardScaler.\n",
      "Data with input dtype bool, float64 were all converted to float64 by StandardScaler.\n",
      "Data with input dtype bool, float64 were all converted to float64 by StandardScaler.\n"
     ]
    },
    {
     "name": "stdout",
     "output_type": "stream",
     "text": [
      "*** Training of model 'DecisionTreeClassifier' started.\n",
      "*** Training of classifier ready. Time elapsed: 19.677ms\n",
      "\n"
     ]
    },
    {
     "name": "stderr",
     "output_type": "stream",
     "text": [
      "Data with input dtype bool, float64 were all converted to float64 by StandardScaler.\n",
      "Data with input dtype bool, float64 were all converted to float64 by StandardScaler.\n",
      "Data with input dtype bool, float64 were all converted to float64 by StandardScaler.\n"
     ]
    },
    {
     "name": "stdout",
     "output_type": "stream",
     "text": [
      "*** Training of model 'DecisionTreeClassifier' started.\n",
      "*** Training of classifier ready. Time elapsed: 20.324ms\n",
      "\n"
     ]
    },
    {
     "name": "stderr",
     "output_type": "stream",
     "text": [
      "Data with input dtype bool, float64 were all converted to float64 by StandardScaler.\n",
      "Data with input dtype bool, float64 were all converted to float64 by StandardScaler.\n",
      "Data with input dtype bool, float64 were all converted to float64 by StandardScaler.\n"
     ]
    },
    {
     "name": "stdout",
     "output_type": "stream",
     "text": [
      "*** Training of model 'DecisionTreeClassifier' started.\n",
      "*** Training of classifier ready. Time elapsed: 20.166ms\n",
      "\n"
     ]
    },
    {
     "name": "stderr",
     "output_type": "stream",
     "text": [
      "Data with input dtype bool, float64 were all converted to float64 by StandardScaler.\n",
      "Data with input dtype bool, float64 were all converted to float64 by StandardScaler.\n",
      "Data with input dtype bool, float64 were all converted to float64 by StandardScaler.\n"
     ]
    },
    {
     "name": "stdout",
     "output_type": "stream",
     "text": [
      "*** Training of model 'DecisionTreeClassifier' started.\n",
      "*** Training of classifier ready. Time elapsed: 19.724ms\n",
      "\n"
     ]
    },
    {
     "name": "stderr",
     "output_type": "stream",
     "text": [
      "Data with input dtype bool, float64 were all converted to float64 by StandardScaler.\n",
      "Data with input dtype bool, float64 were all converted to float64 by StandardScaler.\n",
      "Data with input dtype bool, float64 were all converted to float64 by StandardScaler.\n"
     ]
    },
    {
     "name": "stdout",
     "output_type": "stream",
     "text": [
      "*** Training of model 'DecisionTreeClassifier' started.\n",
      "*** Training of classifier ready. Time elapsed: 424.36ms\n",
      "\n"
     ]
    },
    {
     "name": "stderr",
     "output_type": "stream",
     "text": [
      "Data with input dtype bool, float64 were all converted to float64 by StandardScaler.\n",
      "Data with input dtype bool, float64 were all converted to float64 by StandardScaler.\n",
      "Data with input dtype bool, float64 were all converted to float64 by StandardScaler.\n"
     ]
    },
    {
     "name": "stdout",
     "output_type": "stream",
     "text": [
      "*** Training of model 'DecisionTreeClassifier' started.\n",
      "*** Training of classifier ready. Time elapsed: 458.745ms\n",
      "\n"
     ]
    },
    {
     "name": "stderr",
     "output_type": "stream",
     "text": [
      "Data with input dtype bool, float64 were all converted to float64 by StandardScaler.\n",
      "Data with input dtype bool, float64 were all converted to float64 by StandardScaler.\n",
      "Data with input dtype bool, float64 were all converted to float64 by StandardScaler.\n"
     ]
    },
    {
     "name": "stdout",
     "output_type": "stream",
     "text": [
      "*** Training of model 'DecisionTreeClassifier' started.\n",
      "*** Training of classifier ready. Time elapsed: 437.551ms\n",
      "\n"
     ]
    },
    {
     "name": "stderr",
     "output_type": "stream",
     "text": [
      "Data with input dtype bool, float64 were all converted to float64 by StandardScaler.\n",
      "Data with input dtype bool, float64 were all converted to float64 by StandardScaler.\n",
      "Data with input dtype bool, float64 were all converted to float64 by StandardScaler.\n"
     ]
    },
    {
     "name": "stdout",
     "output_type": "stream",
     "text": [
      "*** Training of model 'DecisionTreeClassifier' started.\n",
      "*** Training of classifier ready. Time elapsed: 438.32ms\n",
      "\n"
     ]
    },
    {
     "name": "stderr",
     "output_type": "stream",
     "text": [
      "Data with input dtype bool, float64 were all converted to float64 by StandardScaler.\n",
      "Data with input dtype bool, float64 were all converted to float64 by StandardScaler.\n",
      "Data with input dtype bool, float64 were all converted to float64 by StandardScaler.\n"
     ]
    },
    {
     "name": "stdout",
     "output_type": "stream",
     "text": [
      "*** Training of model 'DecisionTreeClassifier' started.\n",
      "*** Training of classifier ready. Time elapsed: 467.284ms\n",
      "\n"
     ]
    },
    {
     "name": "stderr",
     "output_type": "stream",
     "text": [
      "Data with input dtype bool, float64 were all converted to float64 by StandardScaler.\n",
      "Data with input dtype bool, float64 were all converted to float64 by StandardScaler.\n",
      "Data with input dtype bool, float64 were all converted to float64 by StandardScaler.\n"
     ]
    },
    {
     "name": "stdout",
     "output_type": "stream",
     "text": [
      "*** Training of model 'DecisionTreeClassifier' started.\n",
      "*** Training of classifier ready. Time elapsed: 120.924ms\n",
      "\n"
     ]
    },
    {
     "name": "stderr",
     "output_type": "stream",
     "text": [
      "Data with input dtype bool, float64 were all converted to float64 by StandardScaler.\n",
      "Data with input dtype bool, float64 were all converted to float64 by StandardScaler.\n",
      "Data with input dtype bool, float64 were all converted to float64 by StandardScaler.\n"
     ]
    },
    {
     "name": "stdout",
     "output_type": "stream",
     "text": [
      "*** Training of model 'DecisionTreeClassifier' started.\n",
      "*** Training of classifier ready. Time elapsed: 127.039ms\n",
      "\n"
     ]
    },
    {
     "name": "stderr",
     "output_type": "stream",
     "text": [
      "Data with input dtype bool, float64 were all converted to float64 by StandardScaler.\n",
      "Data with input dtype bool, float64 were all converted to float64 by StandardScaler.\n",
      "Data with input dtype bool, float64 were all converted to float64 by StandardScaler.\n"
     ]
    },
    {
     "name": "stdout",
     "output_type": "stream",
     "text": [
      "*** Training of model 'DecisionTreeClassifier' started.\n",
      "*** Training of classifier ready. Time elapsed: 125.81ms\n",
      "\n"
     ]
    },
    {
     "name": "stderr",
     "output_type": "stream",
     "text": [
      "Data with input dtype bool, float64 were all converted to float64 by StandardScaler.\n",
      "Data with input dtype bool, float64 were all converted to float64 by StandardScaler.\n",
      "Data with input dtype bool, float64 were all converted to float64 by StandardScaler.\n"
     ]
    },
    {
     "name": "stdout",
     "output_type": "stream",
     "text": [
      "*** Training of model 'DecisionTreeClassifier' started.\n",
      "*** Training of classifier ready. Time elapsed: 121.487ms\n",
      "\n"
     ]
    },
    {
     "name": "stderr",
     "output_type": "stream",
     "text": [
      "Data with input dtype bool, float64 were all converted to float64 by StandardScaler.\n",
      "Data with input dtype bool, float64 were all converted to float64 by StandardScaler.\n",
      "Data with input dtype bool, float64 were all converted to float64 by StandardScaler.\n"
     ]
    },
    {
     "name": "stdout",
     "output_type": "stream",
     "text": [
      "*** Training of model 'DecisionTreeClassifier' started.\n",
      "*** Training of classifier ready. Time elapsed: 120.963ms\n",
      "\n"
     ]
    },
    {
     "name": "stderr",
     "output_type": "stream",
     "text": [
      "Data with input dtype bool, float64 were all converted to float64 by StandardScaler.\n",
      "Data with input dtype bool, float64 were all converted to float64 by StandardScaler.\n",
      "Data with input dtype bool, float64 were all converted to float64 by StandardScaler.\n"
     ]
    },
    {
     "name": "stdout",
     "output_type": "stream",
     "text": [
      "*** Training of model 'LogisticRegression' started.\n",
      "*** Training of classifier ready. Time elapsed: 260.111ms\n",
      "\n"
     ]
    },
    {
     "name": "stderr",
     "output_type": "stream",
     "text": [
      "Data with input dtype bool, float64 were all converted to float64 by StandardScaler.\n",
      "Data with input dtype bool, float64 were all converted to float64 by StandardScaler.\n",
      "Data with input dtype bool, float64 were all converted to float64 by StandardScaler.\n"
     ]
    },
    {
     "name": "stdout",
     "output_type": "stream",
     "text": [
      "*** Training of model 'LogisticRegression' started.\n",
      "*** Training of classifier ready. Time elapsed: 630.747ms\n",
      "\n"
     ]
    },
    {
     "name": "stderr",
     "output_type": "stream",
     "text": [
      "Data with input dtype bool, float64 were all converted to float64 by StandardScaler.\n",
      "Data with input dtype bool, float64 were all converted to float64 by StandardScaler.\n",
      "Data with input dtype bool, float64 were all converted to float64 by StandardScaler.\n"
     ]
    },
    {
     "name": "stdout",
     "output_type": "stream",
     "text": [
      "*** Training of model 'LogisticRegression' started.\n",
      "*** Training of classifier ready. Time elapsed: 275.688ms\n",
      "\n"
     ]
    },
    {
     "name": "stderr",
     "output_type": "stream",
     "text": [
      "Data with input dtype bool, float64 were all converted to float64 by StandardScaler.\n",
      "Data with input dtype bool, float64 were all converted to float64 by StandardScaler.\n",
      "Data with input dtype bool, float64 were all converted to float64 by StandardScaler.\n"
     ]
    },
    {
     "name": "stdout",
     "output_type": "stream",
     "text": [
      "*** Training of model 'LogisticRegression' started.\n",
      "*** Training of classifier ready. Time elapsed: 840.794ms\n",
      "\n"
     ]
    },
    {
     "name": "stderr",
     "output_type": "stream",
     "text": [
      "Data with input dtype bool, float64 were all converted to float64 by StandardScaler.\n",
      "Data with input dtype bool, float64 were all converted to float64 by StandardScaler.\n",
      "Data with input dtype bool, float64 were all converted to float64 by StandardScaler.\n"
     ]
    },
    {
     "name": "stdout",
     "output_type": "stream",
     "text": [
      "*** Training of model 'LogisticRegression' started.\n",
      "*** Training of classifier ready. Time elapsed: 447.245ms\n",
      "\n"
     ]
    },
    {
     "name": "stderr",
     "output_type": "stream",
     "text": [
      "Data with input dtype bool, float64 were all converted to float64 by StandardScaler.\n",
      "Data with input dtype bool, float64 were all converted to float64 by StandardScaler.\n",
      "Data with input dtype bool, float64 were all converted to float64 by StandardScaler.\n"
     ]
    },
    {
     "name": "stdout",
     "output_type": "stream",
     "text": [
      "*** Training of model 'LogisticRegression' started.\n",
      "*** Training of classifier ready. Time elapsed: 236.883ms\n",
      "\n"
     ]
    },
    {
     "name": "stderr",
     "output_type": "stream",
     "text": [
      "Data with input dtype bool, float64 were all converted to float64 by StandardScaler.\n",
      "Data with input dtype bool, float64 were all converted to float64 by StandardScaler.\n",
      "Data with input dtype bool, float64 were all converted to float64 by StandardScaler.\n"
     ]
    },
    {
     "name": "stdout",
     "output_type": "stream",
     "text": [
      "*** Training of model 'LogisticRegression' started.\n",
      "*** Training of classifier ready. Time elapsed: 313.526ms\n",
      "\n"
     ]
    },
    {
     "name": "stderr",
     "output_type": "stream",
     "text": [
      "Data with input dtype bool, float64 were all converted to float64 by StandardScaler.\n",
      "Data with input dtype bool, float64 were all converted to float64 by StandardScaler.\n",
      "Data with input dtype bool, float64 were all converted to float64 by StandardScaler.\n"
     ]
    },
    {
     "name": "stdout",
     "output_type": "stream",
     "text": [
      "*** Training of model 'LogisticRegression' started.\n",
      "*** Training of classifier ready. Time elapsed: 246.594ms\n",
      "\n"
     ]
    },
    {
     "name": "stderr",
     "output_type": "stream",
     "text": [
      "Data with input dtype bool, float64 were all converted to float64 by StandardScaler.\n",
      "Data with input dtype bool, float64 were all converted to float64 by StandardScaler.\n",
      "Data with input dtype bool, float64 were all converted to float64 by StandardScaler.\n"
     ]
    },
    {
     "name": "stdout",
     "output_type": "stream",
     "text": [
      "*** Training of model 'LogisticRegression' started.\n",
      "*** Training of classifier ready. Time elapsed: 68.706ms\n",
      "\n"
     ]
    },
    {
     "name": "stderr",
     "output_type": "stream",
     "text": [
      "Data with input dtype bool, float64 were all converted to float64 by StandardScaler.\n",
      "Data with input dtype bool, float64 were all converted to float64 by StandardScaler.\n",
      "Data with input dtype bool, float64 were all converted to float64 by StandardScaler.\n"
     ]
    },
    {
     "name": "stdout",
     "output_type": "stream",
     "text": [
      "*** Training of model 'LogisticRegression' started.\n",
      "*** Training of classifier ready. Time elapsed: 43.737ms\n",
      "\n"
     ]
    },
    {
     "name": "stderr",
     "output_type": "stream",
     "text": [
      "Data with input dtype bool, float64 were all converted to float64 by StandardScaler.\n",
      "Data with input dtype bool, float64 were all converted to float64 by StandardScaler.\n",
      "Data with input dtype bool, float64 were all converted to float64 by StandardScaler.\n"
     ]
    },
    {
     "name": "stdout",
     "output_type": "stream",
     "text": [
      "*** Training of model 'LogisticRegression' started.\n",
      "*** Training of classifier ready. Time elapsed: 867.183ms\n",
      "\n"
     ]
    },
    {
     "name": "stderr",
     "output_type": "stream",
     "text": [
      "Data with input dtype bool, float64 were all converted to float64 by StandardScaler.\n",
      "Data with input dtype bool, float64 were all converted to float64 by StandardScaler.\n",
      "Data with input dtype bool, float64 were all converted to float64 by StandardScaler.\n"
     ]
    },
    {
     "name": "stdout",
     "output_type": "stream",
     "text": [
      "*** Training of model 'LogisticRegression' started.\n",
      "*** Training of classifier ready. Time elapsed: 137.479ms\n",
      "\n"
     ]
    },
    {
     "name": "stderr",
     "output_type": "stream",
     "text": [
      "Data with input dtype bool, float64 were all converted to float64 by StandardScaler.\n",
      "Data with input dtype bool, float64 were all converted to float64 by StandardScaler.\n",
      "Data with input dtype bool, float64 were all converted to float64 by StandardScaler.\n"
     ]
    },
    {
     "name": "stdout",
     "output_type": "stream",
     "text": [
      "*** Training of model 'LogisticRegression' started.\n",
      "*** Training of classifier ready. Time elapsed: 487.067ms\n",
      "\n"
     ]
    },
    {
     "name": "stderr",
     "output_type": "stream",
     "text": [
      "Data with input dtype bool, float64 were all converted to float64 by StandardScaler.\n",
      "Data with input dtype bool, float64 were all converted to float64 by StandardScaler.\n",
      "Data with input dtype bool, float64 were all converted to float64 by StandardScaler.\n"
     ]
    },
    {
     "name": "stdout",
     "output_type": "stream",
     "text": [
      "*** Training of model 'LogisticRegression' started.\n",
      "*** Training of classifier ready. Time elapsed: 791.288ms\n",
      "\n"
     ]
    },
    {
     "name": "stderr",
     "output_type": "stream",
     "text": [
      "Data with input dtype bool, float64 were all converted to float64 by StandardScaler.\n",
      "Data with input dtype bool, float64 were all converted to float64 by StandardScaler.\n",
      "Data with input dtype bool, float64 were all converted to float64 by StandardScaler.\n"
     ]
    },
    {
     "name": "stdout",
     "output_type": "stream",
     "text": [
      "*** Training of model 'LogisticRegression' started.\n",
      "*** Training of classifier ready. Time elapsed: 526.154ms\n",
      "\n"
     ]
    },
    {
     "name": "stderr",
     "output_type": "stream",
     "text": [
      "Data with input dtype bool, float64 were all converted to float64 by StandardScaler.\n",
      "Data with input dtype bool, float64 were all converted to float64 by StandardScaler.\n",
      "Data with input dtype bool, float64 were all converted to float64 by StandardScaler.\n"
     ]
    },
    {
     "name": "stdout",
     "output_type": "stream",
     "text": [
      "*** Training of model 'LogisticRegression' started.\n",
      "*** Training of classifier ready. Time elapsed: 838.817ms\n",
      "\n"
     ]
    },
    {
     "name": "stderr",
     "output_type": "stream",
     "text": [
      "Data with input dtype bool, float64 were all converted to float64 by StandardScaler.\n",
      "Data with input dtype bool, float64 were all converted to float64 by StandardScaler.\n",
      "Data with input dtype bool, float64 were all converted to float64 by StandardScaler.\n"
     ]
    },
    {
     "name": "stdout",
     "output_type": "stream",
     "text": [
      "*** Training of model 'LogisticRegression' started.\n",
      "*** Training of classifier ready. Time elapsed: 585.805ms\n",
      "\n"
     ]
    },
    {
     "name": "stderr",
     "output_type": "stream",
     "text": [
      "Data with input dtype bool, float64 were all converted to float64 by StandardScaler.\n",
      "Data with input dtype bool, float64 were all converted to float64 by StandardScaler.\n",
      "Data with input dtype bool, float64 were all converted to float64 by StandardScaler.\n"
     ]
    },
    {
     "name": "stdout",
     "output_type": "stream",
     "text": [
      "*** Training of model 'LogisticRegression' started.\n",
      "*** Training of classifier ready. Time elapsed: 595.377ms\n",
      "\n"
     ]
    },
    {
     "name": "stderr",
     "output_type": "stream",
     "text": [
      "Data with input dtype bool, float64 were all converted to float64 by StandardScaler.\n",
      "Data with input dtype bool, float64 were all converted to float64 by StandardScaler.\n",
      "Data with input dtype bool, float64 were all converted to float64 by StandardScaler.\n"
     ]
    },
    {
     "name": "stdout",
     "output_type": "stream",
     "text": [
      "*** Training of model 'LogisticRegression' started.\n",
      "*** Training of classifier ready. Time elapsed: 196.846ms\n",
      "\n"
     ]
    },
    {
     "name": "stderr",
     "output_type": "stream",
     "text": [
      "Data with input dtype bool, float64 were all converted to float64 by StandardScaler.\n",
      "Data with input dtype bool, float64 were all converted to float64 by StandardScaler.\n",
      "Data with input dtype bool, float64 were all converted to float64 by StandardScaler.\n"
     ]
    },
    {
     "name": "stdout",
     "output_type": "stream",
     "text": [
      "*** Training of model 'LogisticRegression' started.\n",
      "*** Training of classifier ready. Time elapsed: 831.789ms\n",
      "\n"
     ]
    },
    {
     "name": "stderr",
     "output_type": "stream",
     "text": [
      "Columns (10,17,18,19,23,26,30,34,63,82,89,91,93,94,95,96,103,110,111,112,115,118,119,120,127,130,134,135,136,137,143,163,164,170,226,234,238,239,277,303,304,305,308,310,314,318,325,337,343,344,345,349,365,380,385,406,411,415,417,420,427) have mixed types. Specify dtype option on import or set low_memory=False.\n"
     ]
    },
    {
     "name": "stdout",
     "output_type": "stream",
     "text": [
      "Fetching data for <fiber.condition.mrns.MRNs object at 0x7f1b2de0fc88>\n",
      "Fetching data for Patient (...)\n"
     ]
    },
    {
     "name": "stderr",
     "output_type": "stream",
     "text": [
      "Data with input dtype bool, float64 were all converted to float64 by StandardScaler.\n",
      "Data with input dtype bool, float64 were all converted to float64 by StandardScaler.\n",
      "Data with input dtype bool, float64 were all converted to float64 by StandardScaler.\n"
     ]
    },
    {
     "name": "stdout",
     "output_type": "stream",
     "text": [
      "*** Training of model 'GradientBoostingClassifier' started.\n",
      "*** Training of classifier ready. Time elapsed: 375.975ms\n",
      "\n"
     ]
    },
    {
     "name": "stderr",
     "output_type": "stream",
     "text": [
      "Data with input dtype bool, float64 were all converted to float64 by StandardScaler.\n",
      "Data with input dtype bool, float64 were all converted to float64 by StandardScaler.\n",
      "Data with input dtype bool, float64 were all converted to float64 by StandardScaler.\n"
     ]
    },
    {
     "name": "stdout",
     "output_type": "stream",
     "text": [
      "*** Training of model 'GradientBoostingClassifier' started.\n",
      "*** Training of classifier ready. Time elapsed: 832.402ms\n",
      "\n"
     ]
    },
    {
     "name": "stderr",
     "output_type": "stream",
     "text": [
      "Data with input dtype bool, float64 were all converted to float64 by StandardScaler.\n",
      "Data with input dtype bool, float64 were all converted to float64 by StandardScaler.\n",
      "Data with input dtype bool, float64 were all converted to float64 by StandardScaler.\n"
     ]
    },
    {
     "name": "stdout",
     "output_type": "stream",
     "text": [
      "*** Training of model 'GradientBoostingClassifier' started.\n",
      "*** Training of classifier ready. Time elapsed: 601.692ms\n",
      "\n"
     ]
    },
    {
     "name": "stderr",
     "output_type": "stream",
     "text": [
      "Data with input dtype bool, float64 were all converted to float64 by StandardScaler.\n",
      "Data with input dtype bool, float64 were all converted to float64 by StandardScaler.\n",
      "Data with input dtype bool, float64 were all converted to float64 by StandardScaler.\n"
     ]
    },
    {
     "name": "stdout",
     "output_type": "stream",
     "text": [
      "*** Training of model 'GradientBoostingClassifier' started.\n",
      "*** Training of classifier ready. Time elapsed: 773.31ms\n",
      "\n"
     ]
    },
    {
     "name": "stderr",
     "output_type": "stream",
     "text": [
      "Data with input dtype bool, float64 were all converted to float64 by StandardScaler.\n",
      "Data with input dtype bool, float64 were all converted to float64 by StandardScaler.\n",
      "Data with input dtype bool, float64 were all converted to float64 by StandardScaler.\n"
     ]
    },
    {
     "name": "stdout",
     "output_type": "stream",
     "text": [
      "*** Training of model 'GradientBoostingClassifier' started.\n",
      "*** Training of classifier ready. Time elapsed: 322.609ms\n",
      "\n"
     ]
    },
    {
     "name": "stderr",
     "output_type": "stream",
     "text": [
      "Data with input dtype bool, float64 were all converted to float64 by StandardScaler.\n",
      "Data with input dtype bool, float64 were all converted to float64 by StandardScaler.\n",
      "Data with input dtype bool, float64 were all converted to float64 by StandardScaler.\n"
     ]
    },
    {
     "name": "stdout",
     "output_type": "stream",
     "text": [
      "*** Training of model 'GradientBoostingClassifier' started.\n",
      "*** Training of classifier ready. Time elapsed: 117.856ms\n",
      "\n"
     ]
    },
    {
     "name": "stderr",
     "output_type": "stream",
     "text": [
      "Data with input dtype bool, float64 were all converted to float64 by StandardScaler.\n",
      "Data with input dtype bool, float64 were all converted to float64 by StandardScaler.\n",
      "Data with input dtype bool, float64 were all converted to float64 by StandardScaler.\n"
     ]
    },
    {
     "name": "stdout",
     "output_type": "stream",
     "text": [
      "*** Training of model 'GradientBoostingClassifier' started.\n",
      "*** Training of classifier ready. Time elapsed: 520.377ms\n",
      "\n"
     ]
    },
    {
     "name": "stderr",
     "output_type": "stream",
     "text": [
      "Data with input dtype bool, float64 were all converted to float64 by StandardScaler.\n",
      "Data with input dtype bool, float64 were all converted to float64 by StandardScaler.\n",
      "Data with input dtype bool, float64 were all converted to float64 by StandardScaler.\n"
     ]
    },
    {
     "name": "stdout",
     "output_type": "stream",
     "text": [
      "*** Training of model 'GradientBoostingClassifier' started.\n",
      "*** Training of classifier ready. Time elapsed: 268.522ms\n",
      "\n"
     ]
    },
    {
     "name": "stderr",
     "output_type": "stream",
     "text": [
      "Data with input dtype bool, float64 were all converted to float64 by StandardScaler.\n",
      "Data with input dtype bool, float64 were all converted to float64 by StandardScaler.\n",
      "Data with input dtype bool, float64 were all converted to float64 by StandardScaler.\n"
     ]
    },
    {
     "name": "stdout",
     "output_type": "stream",
     "text": [
      "*** Training of model 'GradientBoostingClassifier' started.\n",
      "*** Training of classifier ready. Time elapsed: 389.023ms\n",
      "\n"
     ]
    },
    {
     "name": "stderr",
     "output_type": "stream",
     "text": [
      "Data with input dtype bool, float64 were all converted to float64 by StandardScaler.\n",
      "Data with input dtype bool, float64 were all converted to float64 by StandardScaler.\n",
      "Data with input dtype bool, float64 were all converted to float64 by StandardScaler.\n"
     ]
    },
    {
     "name": "stdout",
     "output_type": "stream",
     "text": [
      "*** Training of model 'GradientBoostingClassifier' started.\n",
      "*** Training of classifier ready. Time elapsed: 295.645ms\n",
      "\n"
     ]
    },
    {
     "name": "stderr",
     "output_type": "stream",
     "text": [
      "Data with input dtype bool, float64 were all converted to float64 by StandardScaler.\n",
      "Data with input dtype bool, float64 were all converted to float64 by StandardScaler.\n",
      "Data with input dtype bool, float64 were all converted to float64 by StandardScaler.\n"
     ]
    },
    {
     "name": "stdout",
     "output_type": "stream",
     "text": [
      "*** Training of model 'GradientBoostingClassifier' started.\n",
      "*** Training of classifier ready. Time elapsed: 829.646ms\n",
      "\n"
     ]
    },
    {
     "name": "stderr",
     "output_type": "stream",
     "text": [
      "Data with input dtype bool, float64 were all converted to float64 by StandardScaler.\n",
      "Data with input dtype bool, float64 were all converted to float64 by StandardScaler.\n",
      "Data with input dtype bool, float64 were all converted to float64 by StandardScaler.\n"
     ]
    },
    {
     "name": "stdout",
     "output_type": "stream",
     "text": [
      "*** Training of model 'GradientBoostingClassifier' started.\n",
      "*** Training of classifier ready. Time elapsed: 630.764ms\n",
      "\n"
     ]
    },
    {
     "name": "stderr",
     "output_type": "stream",
     "text": [
      "Data with input dtype bool, float64 were all converted to float64 by StandardScaler.\n",
      "Data with input dtype bool, float64 were all converted to float64 by StandardScaler.\n",
      "Data with input dtype bool, float64 were all converted to float64 by StandardScaler.\n"
     ]
    },
    {
     "name": "stdout",
     "output_type": "stream",
     "text": [
      "*** Training of model 'GradientBoostingClassifier' started.\n",
      "*** Training of classifier ready. Time elapsed: 950.465ms\n",
      "\n"
     ]
    },
    {
     "name": "stderr",
     "output_type": "stream",
     "text": [
      "Data with input dtype bool, float64 were all converted to float64 by StandardScaler.\n",
      "Data with input dtype bool, float64 were all converted to float64 by StandardScaler.\n",
      "Data with input dtype bool, float64 were all converted to float64 by StandardScaler.\n"
     ]
    },
    {
     "name": "stdout",
     "output_type": "stream",
     "text": [
      "*** Training of model 'GradientBoostingClassifier' started.\n",
      "*** Training of classifier ready. Time elapsed: 217.685ms\n",
      "\n"
     ]
    },
    {
     "name": "stderr",
     "output_type": "stream",
     "text": [
      "Data with input dtype bool, float64 were all converted to float64 by StandardScaler.\n",
      "Data with input dtype bool, float64 were all converted to float64 by StandardScaler.\n",
      "Data with input dtype bool, float64 were all converted to float64 by StandardScaler.\n"
     ]
    },
    {
     "name": "stdout",
     "output_type": "stream",
     "text": [
      "*** Training of model 'GradientBoostingClassifier' started.\n",
      "*** Training of classifier ready. Time elapsed: 928.921ms\n",
      "\n"
     ]
    },
    {
     "name": "stderr",
     "output_type": "stream",
     "text": [
      "Data with input dtype bool, float64 were all converted to float64 by StandardScaler.\n",
      "Data with input dtype bool, float64 were all converted to float64 by StandardScaler.\n",
      "Data with input dtype bool, float64 were all converted to float64 by StandardScaler.\n"
     ]
    },
    {
     "name": "stdout",
     "output_type": "stream",
     "text": [
      "*** Training of model 'GradientBoostingClassifier' started.\n",
      "*** Training of classifier ready. Time elapsed: 763.888ms\n",
      "\n"
     ]
    },
    {
     "name": "stderr",
     "output_type": "stream",
     "text": [
      "Data with input dtype bool, float64 were all converted to float64 by StandardScaler.\n",
      "Data with input dtype bool, float64 were all converted to float64 by StandardScaler.\n",
      "Data with input dtype bool, float64 were all converted to float64 by StandardScaler.\n"
     ]
    },
    {
     "name": "stdout",
     "output_type": "stream",
     "text": [
      "*** Training of model 'GradientBoostingClassifier' started.\n",
      "*** Training of classifier ready. Time elapsed: 243.337ms\n",
      "\n"
     ]
    },
    {
     "name": "stderr",
     "output_type": "stream",
     "text": [
      "Data with input dtype bool, float64 were all converted to float64 by StandardScaler.\n",
      "Data with input dtype bool, float64 were all converted to float64 by StandardScaler.\n",
      "Data with input dtype bool, float64 were all converted to float64 by StandardScaler.\n"
     ]
    },
    {
     "name": "stdout",
     "output_type": "stream",
     "text": [
      "*** Training of model 'GradientBoostingClassifier' started.\n",
      "*** Training of classifier ready. Time elapsed: 603.377ms\n",
      "\n"
     ]
    },
    {
     "name": "stderr",
     "output_type": "stream",
     "text": [
      "Data with input dtype bool, float64 were all converted to float64 by StandardScaler.\n",
      "Data with input dtype bool, float64 were all converted to float64 by StandardScaler.\n",
      "Data with input dtype bool, float64 were all converted to float64 by StandardScaler.\n"
     ]
    },
    {
     "name": "stdout",
     "output_type": "stream",
     "text": [
      "*** Training of model 'GradientBoostingClassifier' started.\n",
      "*** Training of classifier ready. Time elapsed: 303.757ms\n",
      "\n"
     ]
    },
    {
     "name": "stderr",
     "output_type": "stream",
     "text": [
      "Data with input dtype bool, float64 were all converted to float64 by StandardScaler.\n",
      "Data with input dtype bool, float64 were all converted to float64 by StandardScaler.\n",
      "Data with input dtype bool, float64 were all converted to float64 by StandardScaler.\n"
     ]
    },
    {
     "name": "stdout",
     "output_type": "stream",
     "text": [
      "*** Training of model 'GradientBoostingClassifier' started.\n",
      "*** Training of classifier ready. Time elapsed: 950.122ms\n",
      "\n"
     ]
    },
    {
     "name": "stderr",
     "output_type": "stream",
     "text": [
      "Data with input dtype bool, float64 were all converted to float64 by StandardScaler.\n",
      "Data with input dtype bool, float64 were all converted to float64 by StandardScaler.\n",
      "Data with input dtype bool, float64 were all converted to float64 by StandardScaler.\n"
     ]
    },
    {
     "name": "stdout",
     "output_type": "stream",
     "text": [
      "*** Training of model 'RandomForestClassifier' started.\n",
      "*** Training of classifier ready. Time elapsed: 21.675ms\n",
      "\n"
     ]
    },
    {
     "name": "stderr",
     "output_type": "stream",
     "text": [
      "F-score is ill-defined and being set to 0.0 due to no predicted samples.\n",
      "Precision is ill-defined and being set to 0.0 due to no predicted samples.\n",
      "invalid value encountered in long_scalars\n",
      "Data with input dtype bool, float64 were all converted to float64 by StandardScaler.\n",
      "Data with input dtype bool, float64 were all converted to float64 by StandardScaler.\n",
      "Data with input dtype bool, float64 were all converted to float64 by StandardScaler.\n"
     ]
    },
    {
     "name": "stdout",
     "output_type": "stream",
     "text": [
      "*** Training of model 'RandomForestClassifier' started.\n",
      "*** Training of classifier ready. Time elapsed: 343.723ms\n",
      "\n"
     ]
    },
    {
     "name": "stderr",
     "output_type": "stream",
     "text": [
      "F-score is ill-defined and being set to 0.0 due to no predicted samples.\n",
      "Precision is ill-defined and being set to 0.0 due to no predicted samples.\n",
      "invalid value encountered in long_scalars\n",
      "Data with input dtype bool, float64 were all converted to float64 by StandardScaler.\n",
      "Data with input dtype bool, float64 were all converted to float64 by StandardScaler.\n",
      "Data with input dtype bool, float64 were all converted to float64 by StandardScaler.\n"
     ]
    },
    {
     "name": "stdout",
     "output_type": "stream",
     "text": [
      "*** Training of model 'RandomForestClassifier' started.\n",
      "*** Training of classifier ready. Time elapsed: 908.164ms\n",
      "\n"
     ]
    },
    {
     "name": "stderr",
     "output_type": "stream",
     "text": [
      "F-score is ill-defined and being set to 0.0 due to no predicted samples.\n",
      "Precision is ill-defined and being set to 0.0 due to no predicted samples.\n",
      "invalid value encountered in long_scalars\n",
      "Data with input dtype bool, float64 were all converted to float64 by StandardScaler.\n",
      "Data with input dtype bool, float64 were all converted to float64 by StandardScaler.\n",
      "Data with input dtype bool, float64 were all converted to float64 by StandardScaler.\n"
     ]
    },
    {
     "name": "stdout",
     "output_type": "stream",
     "text": [
      "*** Training of model 'RandomForestClassifier' started.\n",
      "*** Training of classifier ready. Time elapsed: 167.636ms\n",
      "\n"
     ]
    },
    {
     "name": "stderr",
     "output_type": "stream",
     "text": [
      "F-score is ill-defined and being set to 0.0 due to no predicted samples.\n",
      "Precision is ill-defined and being set to 0.0 due to no predicted samples.\n",
      "invalid value encountered in long_scalars\n",
      "Data with input dtype bool, float64 were all converted to float64 by StandardScaler.\n",
      "Data with input dtype bool, float64 were all converted to float64 by StandardScaler.\n",
      "Data with input dtype bool, float64 were all converted to float64 by StandardScaler.\n"
     ]
    },
    {
     "name": "stdout",
     "output_type": "stream",
     "text": [
      "*** Training of model 'RandomForestClassifier' started.\n",
      "*** Training of classifier ready. Time elapsed: 20.638ms\n",
      "\n"
     ]
    },
    {
     "name": "stderr",
     "output_type": "stream",
     "text": [
      "F-score is ill-defined and being set to 0.0 due to no predicted samples.\n",
      "Precision is ill-defined and being set to 0.0 due to no predicted samples.\n",
      "invalid value encountered in long_scalars\n",
      "Data with input dtype bool, float64 were all converted to float64 by StandardScaler.\n",
      "Data with input dtype bool, float64 were all converted to float64 by StandardScaler.\n",
      "Data with input dtype bool, float64 were all converted to float64 by StandardScaler.\n"
     ]
    },
    {
     "name": "stdout",
     "output_type": "stream",
     "text": [
      "*** Training of model 'RandomForestClassifier' started.\n",
      "*** Training of classifier ready. Time elapsed: 924.944ms\n",
      "\n"
     ]
    },
    {
     "name": "stderr",
     "output_type": "stream",
     "text": [
      "Data with input dtype bool, float64 were all converted to float64 by StandardScaler.\n",
      "Data with input dtype bool, float64 were all converted to float64 by StandardScaler.\n",
      "Data with input dtype bool, float64 were all converted to float64 by StandardScaler.\n"
     ]
    },
    {
     "name": "stdout",
     "output_type": "stream",
     "text": [
      "*** Training of model 'RandomForestClassifier' started.\n",
      "*** Training of classifier ready. Time elapsed: 988.874ms\n",
      "\n"
     ]
    },
    {
     "name": "stderr",
     "output_type": "stream",
     "text": [
      "Data with input dtype bool, float64 were all converted to float64 by StandardScaler.\n",
      "Data with input dtype bool, float64 were all converted to float64 by StandardScaler.\n",
      "Data with input dtype bool, float64 were all converted to float64 by StandardScaler.\n"
     ]
    },
    {
     "name": "stdout",
     "output_type": "stream",
     "text": [
      "*** Training of model 'RandomForestClassifier' started.\n",
      "*** Training of classifier ready. Time elapsed: 838.417ms\n",
      "\n"
     ]
    },
    {
     "name": "stderr",
     "output_type": "stream",
     "text": [
      "Data with input dtype bool, float64 were all converted to float64 by StandardScaler.\n",
      "Data with input dtype bool, float64 were all converted to float64 by StandardScaler.\n",
      "Data with input dtype bool, float64 were all converted to float64 by StandardScaler.\n"
     ]
    },
    {
     "name": "stdout",
     "output_type": "stream",
     "text": [
      "*** Training of model 'RandomForestClassifier' started.\n",
      "*** Training of classifier ready. Time elapsed: 568.437ms\n",
      "\n"
     ]
    },
    {
     "name": "stderr",
     "output_type": "stream",
     "text": [
      "Data with input dtype bool, float64 were all converted to float64 by StandardScaler.\n",
      "Data with input dtype bool, float64 were all converted to float64 by StandardScaler.\n",
      "Data with input dtype bool, float64 were all converted to float64 by StandardScaler.\n"
     ]
    },
    {
     "name": "stdout",
     "output_type": "stream",
     "text": [
      "*** Training of model 'RandomForestClassifier' started.\n",
      "*** Training of classifier ready. Time elapsed: 230.051ms\n",
      "\n"
     ]
    },
    {
     "name": "stderr",
     "output_type": "stream",
     "text": [
      "Data with input dtype bool, float64 were all converted to float64 by StandardScaler.\n",
      "Data with input dtype bool, float64 were all converted to float64 by StandardScaler.\n",
      "Data with input dtype bool, float64 were all converted to float64 by StandardScaler.\n"
     ]
    },
    {
     "name": "stdout",
     "output_type": "stream",
     "text": [
      "*** Training of model 'RandomForestClassifier' started.\n",
      "*** Training of classifier ready. Time elapsed: 150.167ms\n",
      "\n"
     ]
    },
    {
     "name": "stderr",
     "output_type": "stream",
     "text": [
      "Data with input dtype bool, float64 were all converted to float64 by StandardScaler.\n",
      "Data with input dtype bool, float64 were all converted to float64 by StandardScaler.\n",
      "Data with input dtype bool, float64 were all converted to float64 by StandardScaler.\n"
     ]
    },
    {
     "name": "stdout",
     "output_type": "stream",
     "text": [
      "*** Training of model 'RandomForestClassifier' started.\n",
      "*** Training of classifier ready. Time elapsed: 353.513ms\n",
      "\n"
     ]
    },
    {
     "name": "stderr",
     "output_type": "stream",
     "text": [
      "Data with input dtype bool, float64 were all converted to float64 by StandardScaler.\n",
      "Data with input dtype bool, float64 were all converted to float64 by StandardScaler.\n",
      "Data with input dtype bool, float64 were all converted to float64 by StandardScaler.\n"
     ]
    },
    {
     "name": "stdout",
     "output_type": "stream",
     "text": [
      "*** Training of model 'RandomForestClassifier' started.\n",
      "*** Training of classifier ready. Time elapsed: 44.849ms\n",
      "\n"
     ]
    },
    {
     "name": "stderr",
     "output_type": "stream",
     "text": [
      "Data with input dtype bool, float64 were all converted to float64 by StandardScaler.\n",
      "Data with input dtype bool, float64 were all converted to float64 by StandardScaler.\n",
      "Data with input dtype bool, float64 were all converted to float64 by StandardScaler.\n"
     ]
    },
    {
     "name": "stdout",
     "output_type": "stream",
     "text": [
      "*** Training of model 'RandomForestClassifier' started.\n",
      "*** Training of classifier ready. Time elapsed: 444.563ms\n",
      "\n"
     ]
    },
    {
     "name": "stderr",
     "output_type": "stream",
     "text": [
      "Data with input dtype bool, float64 were all converted to float64 by StandardScaler.\n",
      "Data with input dtype bool, float64 were all converted to float64 by StandardScaler.\n",
      "Data with input dtype bool, float64 were all converted to float64 by StandardScaler.\n"
     ]
    },
    {
     "name": "stdout",
     "output_type": "stream",
     "text": [
      "*** Training of model 'RandomForestClassifier' started.\n",
      "*** Training of classifier ready. Time elapsed: 535.808ms\n",
      "\n"
     ]
    },
    {
     "name": "stderr",
     "output_type": "stream",
     "text": [
      "Data with input dtype bool, float64 were all converted to float64 by StandardScaler.\n",
      "Data with input dtype bool, float64 were all converted to float64 by StandardScaler.\n",
      "Data with input dtype bool, float64 were all converted to float64 by StandardScaler.\n"
     ]
    },
    {
     "name": "stdout",
     "output_type": "stream",
     "text": [
      "*** Training of model 'RandomForestClassifier' started.\n",
      "*** Training of classifier ready. Time elapsed: 746.507ms\n",
      "\n"
     ]
    },
    {
     "name": "stderr",
     "output_type": "stream",
     "text": [
      "F-score is ill-defined and being set to 0.0 due to no predicted samples.\n",
      "Precision is ill-defined and being set to 0.0 due to no predicted samples.\n",
      "invalid value encountered in long_scalars\n",
      "Data with input dtype bool, float64 were all converted to float64 by StandardScaler.\n",
      "Data with input dtype bool, float64 were all converted to float64 by StandardScaler.\n",
      "Data with input dtype bool, float64 were all converted to float64 by StandardScaler.\n"
     ]
    },
    {
     "name": "stdout",
     "output_type": "stream",
     "text": [
      "*** Training of model 'RandomForestClassifier' started.\n",
      "*** Training of classifier ready. Time elapsed: 723.285ms\n",
      "\n"
     ]
    },
    {
     "name": "stderr",
     "output_type": "stream",
     "text": [
      "F-score is ill-defined and being set to 0.0 due to no predicted samples.\n",
      "Precision is ill-defined and being set to 0.0 due to no predicted samples.\n",
      "invalid value encountered in long_scalars\n",
      "Data with input dtype bool, float64 were all converted to float64 by StandardScaler.\n",
      "Data with input dtype bool, float64 were all converted to float64 by StandardScaler.\n",
      "Data with input dtype bool, float64 were all converted to float64 by StandardScaler.\n"
     ]
    },
    {
     "name": "stdout",
     "output_type": "stream",
     "text": [
      "*** Training of model 'RandomForestClassifier' started.\n",
      "*** Training of classifier ready. Time elapsed: 732.354ms\n",
      "\n"
     ]
    },
    {
     "name": "stderr",
     "output_type": "stream",
     "text": [
      "F-score is ill-defined and being set to 0.0 due to no predicted samples.\n",
      "Precision is ill-defined and being set to 0.0 due to no predicted samples.\n",
      "invalid value encountered in long_scalars\n",
      "Data with input dtype bool, float64 were all converted to float64 by StandardScaler.\n",
      "Data with input dtype bool, float64 were all converted to float64 by StandardScaler.\n",
      "Data with input dtype bool, float64 were all converted to float64 by StandardScaler.\n"
     ]
    },
    {
     "name": "stdout",
     "output_type": "stream",
     "text": [
      "*** Training of model 'RandomForestClassifier' started.\n",
      "*** Training of classifier ready. Time elapsed: 756.272ms\n",
      "\n"
     ]
    },
    {
     "name": "stderr",
     "output_type": "stream",
     "text": [
      "F-score is ill-defined and being set to 0.0 due to no predicted samples.\n",
      "Precision is ill-defined and being set to 0.0 due to no predicted samples.\n",
      "invalid value encountered in long_scalars\n",
      "Data with input dtype bool, float64 were all converted to float64 by StandardScaler.\n",
      "Data with input dtype bool, float64 were all converted to float64 by StandardScaler.\n",
      "Data with input dtype bool, float64 were all converted to float64 by StandardScaler.\n"
     ]
    },
    {
     "name": "stdout",
     "output_type": "stream",
     "text": [
      "*** Training of model 'RandomForestClassifier' started.\n",
      "*** Training of classifier ready. Time elapsed: 794.952ms\n",
      "\n"
     ]
    },
    {
     "name": "stderr",
     "output_type": "stream",
     "text": [
      "F-score is ill-defined and being set to 0.0 due to no predicted samples.\n",
      "Precision is ill-defined and being set to 0.0 due to no predicted samples.\n",
      "invalid value encountered in long_scalars\n",
      "Data with input dtype bool, float64 were all converted to float64 by StandardScaler.\n",
      "Data with input dtype bool, float64 were all converted to float64 by StandardScaler.\n",
      "Data with input dtype bool, float64 were all converted to float64 by StandardScaler.\n"
     ]
    },
    {
     "name": "stdout",
     "output_type": "stream",
     "text": [
      "*** Training of model 'DecisionTreeClassifier' started.\n",
      "*** Training of classifier ready. Time elapsed: 282.903ms\n",
      "\n"
     ]
    },
    {
     "name": "stderr",
     "output_type": "stream",
     "text": [
      "Data with input dtype bool, float64 were all converted to float64 by StandardScaler.\n",
      "Data with input dtype bool, float64 were all converted to float64 by StandardScaler.\n",
      "Data with input dtype bool, float64 were all converted to float64 by StandardScaler.\n"
     ]
    },
    {
     "name": "stdout",
     "output_type": "stream",
     "text": [
      "*** Training of model 'DecisionTreeClassifier' started.\n",
      "*** Training of classifier ready. Time elapsed: 280.219ms\n",
      "\n"
     ]
    },
    {
     "name": "stderr",
     "output_type": "stream",
     "text": [
      "Data with input dtype bool, float64 were all converted to float64 by StandardScaler.\n",
      "Data with input dtype bool, float64 were all converted to float64 by StandardScaler.\n",
      "Data with input dtype bool, float64 were all converted to float64 by StandardScaler.\n"
     ]
    },
    {
     "name": "stdout",
     "output_type": "stream",
     "text": [
      "*** Training of model 'DecisionTreeClassifier' started.\n",
      "*** Training of classifier ready. Time elapsed: 279.09ms\n",
      "\n"
     ]
    },
    {
     "name": "stderr",
     "output_type": "stream",
     "text": [
      "Data with input dtype bool, float64 were all converted to float64 by StandardScaler.\n",
      "Data with input dtype bool, float64 were all converted to float64 by StandardScaler.\n",
      "Data with input dtype bool, float64 were all converted to float64 by StandardScaler.\n"
     ]
    },
    {
     "name": "stdout",
     "output_type": "stream",
     "text": [
      "*** Training of model 'DecisionTreeClassifier' started.\n",
      "*** Training of classifier ready. Time elapsed: 264.248ms\n",
      "\n"
     ]
    },
    {
     "name": "stderr",
     "output_type": "stream",
     "text": [
      "Data with input dtype bool, float64 were all converted to float64 by StandardScaler.\n",
      "Data with input dtype bool, float64 were all converted to float64 by StandardScaler.\n",
      "Data with input dtype bool, float64 were all converted to float64 by StandardScaler.\n"
     ]
    },
    {
     "name": "stdout",
     "output_type": "stream",
     "text": [
      "*** Training of model 'DecisionTreeClassifier' started.\n",
      "*** Training of classifier ready. Time elapsed: 303.006ms\n",
      "\n"
     ]
    },
    {
     "name": "stderr",
     "output_type": "stream",
     "text": [
      "Data with input dtype bool, float64 were all converted to float64 by StandardScaler.\n",
      "Data with input dtype bool, float64 were all converted to float64 by StandardScaler.\n",
      "Data with input dtype bool, float64 were all converted to float64 by StandardScaler.\n"
     ]
    },
    {
     "name": "stdout",
     "output_type": "stream",
     "text": [
      "*** Training of model 'DecisionTreeClassifier' started.\n",
      "*** Training of classifier ready. Time elapsed: 20.196ms\n",
      "\n"
     ]
    },
    {
     "name": "stderr",
     "output_type": "stream",
     "text": [
      "Data with input dtype bool, float64 were all converted to float64 by StandardScaler.\n",
      "Data with input dtype bool, float64 were all converted to float64 by StandardScaler.\n",
      "Data with input dtype bool, float64 were all converted to float64 by StandardScaler.\n"
     ]
    },
    {
     "name": "stdout",
     "output_type": "stream",
     "text": [
      "*** Training of model 'DecisionTreeClassifier' started.\n",
      "*** Training of classifier ready. Time elapsed: 18.012ms\n",
      "\n"
     ]
    },
    {
     "name": "stderr",
     "output_type": "stream",
     "text": [
      "Data with input dtype bool, float64 were all converted to float64 by StandardScaler.\n",
      "Data with input dtype bool, float64 were all converted to float64 by StandardScaler.\n",
      "Data with input dtype bool, float64 were all converted to float64 by StandardScaler.\n"
     ]
    },
    {
     "name": "stdout",
     "output_type": "stream",
     "text": [
      "*** Training of model 'DecisionTreeClassifier' started.\n",
      "*** Training of classifier ready. Time elapsed: 17.9ms\n",
      "\n"
     ]
    },
    {
     "name": "stderr",
     "output_type": "stream",
     "text": [
      "Data with input dtype bool, float64 were all converted to float64 by StandardScaler.\n",
      "Data with input dtype bool, float64 were all converted to float64 by StandardScaler.\n",
      "Data with input dtype bool, float64 were all converted to float64 by StandardScaler.\n"
     ]
    },
    {
     "name": "stdout",
     "output_type": "stream",
     "text": [
      "*** Training of model 'DecisionTreeClassifier' started.\n",
      "*** Training of classifier ready. Time elapsed: 18.404ms\n",
      "\n"
     ]
    },
    {
     "name": "stderr",
     "output_type": "stream",
     "text": [
      "Data with input dtype bool, float64 were all converted to float64 by StandardScaler.\n",
      "Data with input dtype bool, float64 were all converted to float64 by StandardScaler.\n",
      "Data with input dtype bool, float64 were all converted to float64 by StandardScaler.\n"
     ]
    },
    {
     "name": "stdout",
     "output_type": "stream",
     "text": [
      "*** Training of model 'DecisionTreeClassifier' started.\n",
      "*** Training of classifier ready. Time elapsed: 18.536ms\n",
      "\n"
     ]
    },
    {
     "name": "stderr",
     "output_type": "stream",
     "text": [
      "Data with input dtype bool, float64 were all converted to float64 by StandardScaler.\n",
      "Data with input dtype bool, float64 were all converted to float64 by StandardScaler.\n",
      "Data with input dtype bool, float64 were all converted to float64 by StandardScaler.\n"
     ]
    },
    {
     "name": "stdout",
     "output_type": "stream",
     "text": [
      "*** Training of model 'DecisionTreeClassifier' started.\n",
      "*** Training of classifier ready. Time elapsed: 382.932ms\n",
      "\n"
     ]
    },
    {
     "name": "stderr",
     "output_type": "stream",
     "text": [
      "Data with input dtype bool, float64 were all converted to float64 by StandardScaler.\n",
      "Data with input dtype bool, float64 were all converted to float64 by StandardScaler.\n",
      "Data with input dtype bool, float64 were all converted to float64 by StandardScaler.\n"
     ]
    },
    {
     "name": "stdout",
     "output_type": "stream",
     "text": [
      "*** Training of model 'DecisionTreeClassifier' started.\n",
      "*** Training of classifier ready. Time elapsed: 390.632ms\n",
      "\n"
     ]
    },
    {
     "name": "stderr",
     "output_type": "stream",
     "text": [
      "Data with input dtype bool, float64 were all converted to float64 by StandardScaler.\n",
      "Data with input dtype bool, float64 were all converted to float64 by StandardScaler.\n",
      "Data with input dtype bool, float64 were all converted to float64 by StandardScaler.\n"
     ]
    },
    {
     "name": "stdout",
     "output_type": "stream",
     "text": [
      "*** Training of model 'DecisionTreeClassifier' started.\n",
      "*** Training of classifier ready. Time elapsed: 422.512ms\n",
      "\n"
     ]
    },
    {
     "name": "stderr",
     "output_type": "stream",
     "text": [
      "Data with input dtype bool, float64 were all converted to float64 by StandardScaler.\n",
      "Data with input dtype bool, float64 were all converted to float64 by StandardScaler.\n",
      "Data with input dtype bool, float64 were all converted to float64 by StandardScaler.\n"
     ]
    },
    {
     "name": "stdout",
     "output_type": "stream",
     "text": [
      "*** Training of model 'DecisionTreeClassifier' started.\n",
      "*** Training of classifier ready. Time elapsed: 432.135ms\n",
      "\n"
     ]
    },
    {
     "name": "stderr",
     "output_type": "stream",
     "text": [
      "Data with input dtype bool, float64 were all converted to float64 by StandardScaler.\n",
      "Data with input dtype bool, float64 were all converted to float64 by StandardScaler.\n",
      "Data with input dtype bool, float64 were all converted to float64 by StandardScaler.\n"
     ]
    },
    {
     "name": "stdout",
     "output_type": "stream",
     "text": [
      "*** Training of model 'DecisionTreeClassifier' started.\n",
      "*** Training of classifier ready. Time elapsed: 379.306ms\n",
      "\n"
     ]
    },
    {
     "name": "stderr",
     "output_type": "stream",
     "text": [
      "Data with input dtype bool, float64 were all converted to float64 by StandardScaler.\n",
      "Data with input dtype bool, float64 were all converted to float64 by StandardScaler.\n",
      "Data with input dtype bool, float64 were all converted to float64 by StandardScaler.\n"
     ]
    },
    {
     "name": "stdout",
     "output_type": "stream",
     "text": [
      "*** Training of model 'DecisionTreeClassifier' started.\n",
      "*** Training of classifier ready. Time elapsed: 118.452ms\n",
      "\n"
     ]
    },
    {
     "name": "stderr",
     "output_type": "stream",
     "text": [
      "Data with input dtype bool, float64 were all converted to float64 by StandardScaler.\n",
      "Data with input dtype bool, float64 were all converted to float64 by StandardScaler.\n",
      "Data with input dtype bool, float64 were all converted to float64 by StandardScaler.\n"
     ]
    },
    {
     "name": "stdout",
     "output_type": "stream",
     "text": [
      "*** Training of model 'DecisionTreeClassifier' started.\n",
      "*** Training of classifier ready. Time elapsed: 119.806ms\n",
      "\n"
     ]
    },
    {
     "name": "stderr",
     "output_type": "stream",
     "text": [
      "Data with input dtype bool, float64 were all converted to float64 by StandardScaler.\n",
      "Data with input dtype bool, float64 were all converted to float64 by StandardScaler.\n",
      "Data with input dtype bool, float64 were all converted to float64 by StandardScaler.\n"
     ]
    },
    {
     "name": "stdout",
     "output_type": "stream",
     "text": [
      "*** Training of model 'DecisionTreeClassifier' started.\n",
      "*** Training of classifier ready. Time elapsed: 119.636ms\n",
      "\n"
     ]
    },
    {
     "name": "stderr",
     "output_type": "stream",
     "text": [
      "Data with input dtype bool, float64 were all converted to float64 by StandardScaler.\n",
      "Data with input dtype bool, float64 were all converted to float64 by StandardScaler.\n",
      "Data with input dtype bool, float64 were all converted to float64 by StandardScaler.\n"
     ]
    },
    {
     "name": "stdout",
     "output_type": "stream",
     "text": [
      "*** Training of model 'DecisionTreeClassifier' started.\n",
      "*** Training of classifier ready. Time elapsed: 118.017ms\n",
      "\n"
     ]
    },
    {
     "name": "stderr",
     "output_type": "stream",
     "text": [
      "Data with input dtype bool, float64 were all converted to float64 by StandardScaler.\n",
      "Data with input dtype bool, float64 were all converted to float64 by StandardScaler.\n",
      "Data with input dtype bool, float64 were all converted to float64 by StandardScaler.\n"
     ]
    },
    {
     "name": "stdout",
     "output_type": "stream",
     "text": [
      "*** Training of model 'DecisionTreeClassifier' started.\n",
      "*** Training of classifier ready. Time elapsed: 113.095ms\n",
      "\n"
     ]
    },
    {
     "name": "stderr",
     "output_type": "stream",
     "text": [
      "Data with input dtype bool, float64 were all converted to float64 by StandardScaler.\n",
      "Data with input dtype bool, float64 were all converted to float64 by StandardScaler.\n",
      "Data with input dtype bool, float64 were all converted to float64 by StandardScaler.\n"
     ]
    },
    {
     "name": "stdout",
     "output_type": "stream",
     "text": [
      "*** Training of model 'LogisticRegression' started.\n",
      "*** Training of classifier ready. Time elapsed: 950.571ms\n",
      "\n"
     ]
    },
    {
     "name": "stderr",
     "output_type": "stream",
     "text": [
      "Data with input dtype bool, float64 were all converted to float64 by StandardScaler.\n",
      "Data with input dtype bool, float64 were all converted to float64 by StandardScaler.\n",
      "Data with input dtype bool, float64 were all converted to float64 by StandardScaler.\n"
     ]
    },
    {
     "name": "stdout",
     "output_type": "stream",
     "text": [
      "*** Training of model 'LogisticRegression' started.\n",
      "*** Training of classifier ready. Time elapsed: 702.522ms\n",
      "\n"
     ]
    },
    {
     "name": "stderr",
     "output_type": "stream",
     "text": [
      "Data with input dtype bool, float64 were all converted to float64 by StandardScaler.\n",
      "Data with input dtype bool, float64 were all converted to float64 by StandardScaler.\n",
      "Data with input dtype bool, float64 were all converted to float64 by StandardScaler.\n"
     ]
    },
    {
     "name": "stdout",
     "output_type": "stream",
     "text": [
      "*** Training of model 'LogisticRegression' started.\n",
      "*** Training of classifier ready. Time elapsed: 208.789ms\n",
      "\n"
     ]
    },
    {
     "name": "stderr",
     "output_type": "stream",
     "text": [
      "Data with input dtype bool, float64 were all converted to float64 by StandardScaler.\n",
      "Data with input dtype bool, float64 were all converted to float64 by StandardScaler.\n",
      "Data with input dtype bool, float64 were all converted to float64 by StandardScaler.\n"
     ]
    },
    {
     "name": "stdout",
     "output_type": "stream",
     "text": [
      "*** Training of model 'LogisticRegression' started.\n",
      "*** Training of classifier ready. Time elapsed: 374.125ms\n",
      "\n"
     ]
    },
    {
     "name": "stderr",
     "output_type": "stream",
     "text": [
      "Data with input dtype bool, float64 were all converted to float64 by StandardScaler.\n",
      "Data with input dtype bool, float64 were all converted to float64 by StandardScaler.\n",
      "Data with input dtype bool, float64 were all converted to float64 by StandardScaler.\n"
     ]
    },
    {
     "name": "stdout",
     "output_type": "stream",
     "text": [
      "*** Training of model 'LogisticRegression' started.\n",
      "*** Training of classifier ready. Time elapsed: 380.754ms\n",
      "\n"
     ]
    },
    {
     "name": "stderr",
     "output_type": "stream",
     "text": [
      "Data with input dtype bool, float64 were all converted to float64 by StandardScaler.\n",
      "Data with input dtype bool, float64 were all converted to float64 by StandardScaler.\n",
      "Data with input dtype bool, float64 were all converted to float64 by StandardScaler.\n"
     ]
    },
    {
     "name": "stdout",
     "output_type": "stream",
     "text": [
      "*** Training of model 'LogisticRegression' started.\n",
      "*** Training of classifier ready. Time elapsed: 289.358ms\n",
      "\n"
     ]
    },
    {
     "name": "stderr",
     "output_type": "stream",
     "text": [
      "Data with input dtype bool, float64 were all converted to float64 by StandardScaler.\n",
      "Data with input dtype bool, float64 were all converted to float64 by StandardScaler.\n",
      "Data with input dtype bool, float64 were all converted to float64 by StandardScaler.\n"
     ]
    },
    {
     "name": "stdout",
     "output_type": "stream",
     "text": [
      "*** Training of model 'LogisticRegression' started.\n",
      "*** Training of classifier ready. Time elapsed: 102.125ms\n",
      "\n"
     ]
    },
    {
     "name": "stderr",
     "output_type": "stream",
     "text": [
      "Data with input dtype bool, float64 were all converted to float64 by StandardScaler.\n",
      "Data with input dtype bool, float64 were all converted to float64 by StandardScaler.\n",
      "Data with input dtype bool, float64 were all converted to float64 by StandardScaler.\n"
     ]
    },
    {
     "name": "stdout",
     "output_type": "stream",
     "text": [
      "*** Training of model 'LogisticRegression' started.\n",
      "*** Training of classifier ready. Time elapsed: 162.464ms\n",
      "\n"
     ]
    },
    {
     "name": "stderr",
     "output_type": "stream",
     "text": [
      "Data with input dtype bool, float64 were all converted to float64 by StandardScaler.\n",
      "Data with input dtype bool, float64 were all converted to float64 by StandardScaler.\n",
      "Data with input dtype bool, float64 were all converted to float64 by StandardScaler.\n"
     ]
    },
    {
     "name": "stdout",
     "output_type": "stream",
     "text": [
      "*** Training of model 'LogisticRegression' started.\n",
      "*** Training of classifier ready. Time elapsed: 88.254ms\n",
      "\n"
     ]
    },
    {
     "name": "stderr",
     "output_type": "stream",
     "text": [
      "Data with input dtype bool, float64 were all converted to float64 by StandardScaler.\n",
      "Data with input dtype bool, float64 were all converted to float64 by StandardScaler.\n",
      "Data with input dtype bool, float64 were all converted to float64 by StandardScaler.\n"
     ]
    },
    {
     "name": "stdout",
     "output_type": "stream",
     "text": [
      "*** Training of model 'LogisticRegression' started.\n",
      "*** Training of classifier ready. Time elapsed: 109.518ms\n",
      "\n"
     ]
    },
    {
     "name": "stderr",
     "output_type": "stream",
     "text": [
      "Data with input dtype bool, float64 were all converted to float64 by StandardScaler.\n",
      "Data with input dtype bool, float64 were all converted to float64 by StandardScaler.\n",
      "Data with input dtype bool, float64 were all converted to float64 by StandardScaler.\n"
     ]
    },
    {
     "name": "stdout",
     "output_type": "stream",
     "text": [
      "*** Training of model 'LogisticRegression' started.\n",
      "*** Training of classifier ready. Time elapsed: 812.308ms\n",
      "\n"
     ]
    },
    {
     "name": "stderr",
     "output_type": "stream",
     "text": [
      "Data with input dtype bool, float64 were all converted to float64 by StandardScaler.\n",
      "Data with input dtype bool, float64 were all converted to float64 by StandardScaler.\n",
      "Data with input dtype bool, float64 were all converted to float64 by StandardScaler.\n"
     ]
    },
    {
     "name": "stdout",
     "output_type": "stream",
     "text": [
      "*** Training of model 'LogisticRegression' started.\n",
      "*** Training of classifier ready. Time elapsed: 169.454ms\n",
      "\n"
     ]
    },
    {
     "name": "stderr",
     "output_type": "stream",
     "text": [
      "Data with input dtype bool, float64 were all converted to float64 by StandardScaler.\n",
      "Data with input dtype bool, float64 were all converted to float64 by StandardScaler.\n",
      "Data with input dtype bool, float64 were all converted to float64 by StandardScaler.\n"
     ]
    },
    {
     "name": "stdout",
     "output_type": "stream",
     "text": [
      "*** Training of model 'LogisticRegression' started.\n",
      "*** Training of classifier ready. Time elapsed: 616.68ms\n",
      "\n"
     ]
    },
    {
     "name": "stderr",
     "output_type": "stream",
     "text": [
      "Data with input dtype bool, float64 were all converted to float64 by StandardScaler.\n",
      "Data with input dtype bool, float64 were all converted to float64 by StandardScaler.\n",
      "Data with input dtype bool, float64 were all converted to float64 by StandardScaler.\n"
     ]
    },
    {
     "name": "stdout",
     "output_type": "stream",
     "text": [
      "*** Training of model 'LogisticRegression' started.\n",
      "*** Training of classifier ready. Time elapsed: 30.081ms\n",
      "\n"
     ]
    },
    {
     "name": "stderr",
     "output_type": "stream",
     "text": [
      "Data with input dtype bool, float64 were all converted to float64 by StandardScaler.\n",
      "Data with input dtype bool, float64 were all converted to float64 by StandardScaler.\n",
      "Data with input dtype bool, float64 were all converted to float64 by StandardScaler.\n"
     ]
    },
    {
     "name": "stdout",
     "output_type": "stream",
     "text": [
      "*** Training of model 'LogisticRegression' started.\n",
      "*** Training of classifier ready. Time elapsed: 715.385ms\n",
      "\n"
     ]
    },
    {
     "name": "stderr",
     "output_type": "stream",
     "text": [
      "Data with input dtype bool, float64 were all converted to float64 by StandardScaler.\n",
      "Data with input dtype bool, float64 were all converted to float64 by StandardScaler.\n",
      "Data with input dtype bool, float64 were all converted to float64 by StandardScaler.\n"
     ]
    },
    {
     "name": "stdout",
     "output_type": "stream",
     "text": [
      "*** Training of model 'LogisticRegression' started.\n",
      "*** Training of classifier ready. Time elapsed: 517.545ms\n",
      "\n"
     ]
    },
    {
     "name": "stderr",
     "output_type": "stream",
     "text": [
      "Data with input dtype bool, float64 were all converted to float64 by StandardScaler.\n",
      "Data with input dtype bool, float64 were all converted to float64 by StandardScaler.\n",
      "Data with input dtype bool, float64 were all converted to float64 by StandardScaler.\n"
     ]
    },
    {
     "name": "stdout",
     "output_type": "stream",
     "text": [
      "*** Training of model 'LogisticRegression' started.\n",
      "*** Training of classifier ready. Time elapsed: 482.48ms\n",
      "\n"
     ]
    },
    {
     "name": "stderr",
     "output_type": "stream",
     "text": [
      "Data with input dtype bool, float64 were all converted to float64 by StandardScaler.\n",
      "Data with input dtype bool, float64 were all converted to float64 by StandardScaler.\n",
      "Data with input dtype bool, float64 were all converted to float64 by StandardScaler.\n"
     ]
    },
    {
     "name": "stdout",
     "output_type": "stream",
     "text": [
      "*** Training of model 'LogisticRegression' started.\n",
      "*** Training of classifier ready. Time elapsed: 320.944ms\n",
      "\n"
     ]
    },
    {
     "name": "stderr",
     "output_type": "stream",
     "text": [
      "Data with input dtype bool, float64 were all converted to float64 by StandardScaler.\n",
      "Data with input dtype bool, float64 were all converted to float64 by StandardScaler.\n",
      "Data with input dtype bool, float64 were all converted to float64 by StandardScaler.\n"
     ]
    },
    {
     "name": "stdout",
     "output_type": "stream",
     "text": [
      "*** Training of model 'LogisticRegression' started.\n",
      "*** Training of classifier ready. Time elapsed: 440.055ms\n",
      "\n"
     ]
    },
    {
     "name": "stderr",
     "output_type": "stream",
     "text": [
      "Data with input dtype bool, float64 were all converted to float64 by StandardScaler.\n",
      "Data with input dtype bool, float64 were all converted to float64 by StandardScaler.\n",
      "Data with input dtype bool, float64 were all converted to float64 by StandardScaler.\n"
     ]
    },
    {
     "name": "stdout",
     "output_type": "stream",
     "text": [
      "*** Training of model 'LogisticRegression' started.\n",
      "*** Training of classifier ready. Time elapsed: 885.216ms\n",
      "\n"
     ]
    },
    {
     "name": "stderr",
     "output_type": "stream",
     "text": [
      "Columns (10,15,17,18,19,23,26,30,34,36,40,43,47,55,60,63,64,88,90,92,93,94,95,98,108,109,110,111,113,115,116,117,120,121,122,123,124,127,131,132,133,134,159,160,166,197,202,203,204,206,207,210,213,214,215,218,221,222,223,224,227,228,233,234,235,237,254,257,265,266,267,269,271,272,273,276,277,280,286,287,288,289,290,298,299,300,301,303,305,307,309,313,314,319,320,328,332,333,338,339,340,359,373,374,398,399,404,408,410,419) have mixed types. Specify dtype option on import or set low_memory=False.\n"
     ]
    },
    {
     "name": "stdout",
     "output_type": "stream",
     "text": [
      "Fetching data for <fiber.condition.mrns.MRNs object at 0x7f1b2bd62a20>\n",
      "Fetching data for Patient (...)\n"
     ]
    },
    {
     "name": "stderr",
     "output_type": "stream",
     "text": [
      "Data with input dtype bool, float64 were all converted to float64 by StandardScaler.\n",
      "Data with input dtype bool, float64 were all converted to float64 by StandardScaler.\n",
      "Data with input dtype bool, float64 were all converted to float64 by StandardScaler.\n"
     ]
    },
    {
     "name": "stdout",
     "output_type": "stream",
     "text": [
      "*** Training of model 'GradientBoostingClassifier' started.\n",
      "*** Training of classifier ready. Time elapsed: 256.65ms\n",
      "\n"
     ]
    },
    {
     "name": "stderr",
     "output_type": "stream",
     "text": [
      "F-score is ill-defined and being set to 0.0 due to no predicted samples.\n",
      "Precision is ill-defined and being set to 0.0 due to no predicted samples.\n",
      "invalid value encountered in long_scalars\n",
      "Data with input dtype bool, float64 were all converted to float64 by StandardScaler.\n",
      "Data with input dtype bool, float64 were all converted to float64 by StandardScaler.\n",
      "Data with input dtype bool, float64 were all converted to float64 by StandardScaler.\n"
     ]
    },
    {
     "name": "stdout",
     "output_type": "stream",
     "text": [
      "*** Training of model 'GradientBoostingClassifier' started.\n",
      "*** Training of classifier ready. Time elapsed: 91.475ms\n",
      "\n"
     ]
    },
    {
     "name": "stderr",
     "output_type": "stream",
     "text": [
      "Data with input dtype bool, float64 were all converted to float64 by StandardScaler.\n",
      "Data with input dtype bool, float64 were all converted to float64 by StandardScaler.\n",
      "Data with input dtype bool, float64 were all converted to float64 by StandardScaler.\n"
     ]
    },
    {
     "name": "stdout",
     "output_type": "stream",
     "text": [
      "*** Training of model 'GradientBoostingClassifier' started.\n",
      "*** Training of classifier ready. Time elapsed: 270.99ms\n",
      "\n"
     ]
    },
    {
     "name": "stderr",
     "output_type": "stream",
     "text": [
      "Data with input dtype bool, float64 were all converted to float64 by StandardScaler.\n",
      "Data with input dtype bool, float64 were all converted to float64 by StandardScaler.\n",
      "Data with input dtype bool, float64 were all converted to float64 by StandardScaler.\n"
     ]
    },
    {
     "name": "stdout",
     "output_type": "stream",
     "text": [
      "*** Training of model 'GradientBoostingClassifier' started.\n",
      "*** Training of classifier ready. Time elapsed: 872.98ms\n",
      "\n"
     ]
    },
    {
     "name": "stderr",
     "output_type": "stream",
     "text": [
      "Data with input dtype bool, float64 were all converted to float64 by StandardScaler.\n",
      "Data with input dtype bool, float64 were all converted to float64 by StandardScaler.\n",
      "Data with input dtype bool, float64 were all converted to float64 by StandardScaler.\n"
     ]
    },
    {
     "name": "stdout",
     "output_type": "stream",
     "text": [
      "*** Training of model 'GradientBoostingClassifier' started.\n",
      "*** Training of classifier ready. Time elapsed: 910.623ms\n",
      "\n"
     ]
    },
    {
     "name": "stderr",
     "output_type": "stream",
     "text": [
      "Data with input dtype bool, float64 were all converted to float64 by StandardScaler.\n",
      "Data with input dtype bool, float64 were all converted to float64 by StandardScaler.\n",
      "Data with input dtype bool, float64 were all converted to float64 by StandardScaler.\n"
     ]
    },
    {
     "name": "stdout",
     "output_type": "stream",
     "text": [
      "*** Training of model 'GradientBoostingClassifier' started.\n",
      "*** Training of classifier ready. Time elapsed: 70.908ms\n",
      "\n"
     ]
    },
    {
     "name": "stderr",
     "output_type": "stream",
     "text": [
      "Data with input dtype bool, float64 were all converted to float64 by StandardScaler.\n",
      "Data with input dtype bool, float64 were all converted to float64 by StandardScaler.\n",
      "Data with input dtype bool, float64 were all converted to float64 by StandardScaler.\n"
     ]
    },
    {
     "name": "stdout",
     "output_type": "stream",
     "text": [
      "*** Training of model 'GradientBoostingClassifier' started.\n",
      "*** Training of classifier ready. Time elapsed: 144.694ms\n",
      "\n"
     ]
    },
    {
     "name": "stderr",
     "output_type": "stream",
     "text": [
      "Data with input dtype bool, float64 were all converted to float64 by StandardScaler.\n",
      "Data with input dtype bool, float64 were all converted to float64 by StandardScaler.\n",
      "Data with input dtype bool, float64 were all converted to float64 by StandardScaler.\n"
     ]
    },
    {
     "name": "stdout",
     "output_type": "stream",
     "text": [
      "*** Training of model 'GradientBoostingClassifier' started.\n",
      "*** Training of classifier ready. Time elapsed: 76.826ms\n",
      "\n"
     ]
    },
    {
     "name": "stderr",
     "output_type": "stream",
     "text": [
      "Data with input dtype bool, float64 were all converted to float64 by StandardScaler.\n",
      "Data with input dtype bool, float64 were all converted to float64 by StandardScaler.\n",
      "Data with input dtype bool, float64 were all converted to float64 by StandardScaler.\n"
     ]
    },
    {
     "name": "stdout",
     "output_type": "stream",
     "text": [
      "*** Training of model 'GradientBoostingClassifier' started.\n",
      "*** Training of classifier ready. Time elapsed: 58.547ms\n",
      "\n"
     ]
    },
    {
     "name": "stderr",
     "output_type": "stream",
     "text": [
      "Data with input dtype bool, float64 were all converted to float64 by StandardScaler.\n",
      "Data with input dtype bool, float64 were all converted to float64 by StandardScaler.\n",
      "Data with input dtype bool, float64 were all converted to float64 by StandardScaler.\n"
     ]
    },
    {
     "name": "stdout",
     "output_type": "stream",
     "text": [
      "*** Training of model 'GradientBoostingClassifier' started.\n",
      "*** Training of classifier ready. Time elapsed: 57.085ms\n",
      "\n"
     ]
    },
    {
     "name": "stderr",
     "output_type": "stream",
     "text": [
      "Data with input dtype bool, float64 were all converted to float64 by StandardScaler.\n",
      "Data with input dtype bool, float64 were all converted to float64 by StandardScaler.\n",
      "Data with input dtype bool, float64 were all converted to float64 by StandardScaler.\n"
     ]
    },
    {
     "name": "stdout",
     "output_type": "stream",
     "text": [
      "*** Training of model 'GradientBoostingClassifier' started.\n",
      "*** Training of classifier ready. Time elapsed: 604.565ms\n",
      "\n"
     ]
    },
    {
     "name": "stderr",
     "output_type": "stream",
     "text": [
      "Data with input dtype bool, float64 were all converted to float64 by StandardScaler.\n",
      "Data with input dtype bool, float64 were all converted to float64 by StandardScaler.\n",
      "Data with input dtype bool, float64 were all converted to float64 by StandardScaler.\n"
     ]
    },
    {
     "name": "stdout",
     "output_type": "stream",
     "text": [
      "*** Training of model 'GradientBoostingClassifier' started.\n",
      "*** Training of classifier ready. Time elapsed: 722.474ms\n",
      "\n"
     ]
    },
    {
     "name": "stderr",
     "output_type": "stream",
     "text": [
      "Data with input dtype bool, float64 were all converted to float64 by StandardScaler.\n",
      "Data with input dtype bool, float64 were all converted to float64 by StandardScaler.\n",
      "Data with input dtype bool, float64 were all converted to float64 by StandardScaler.\n"
     ]
    },
    {
     "name": "stdout",
     "output_type": "stream",
     "text": [
      "*** Training of model 'GradientBoostingClassifier' started.\n",
      "*** Training of classifier ready. Time elapsed: 797.849ms\n",
      "\n"
     ]
    },
    {
     "name": "stderr",
     "output_type": "stream",
     "text": [
      "Data with input dtype bool, float64 were all converted to float64 by StandardScaler.\n",
      "Data with input dtype bool, float64 were all converted to float64 by StandardScaler.\n",
      "Data with input dtype bool, float64 were all converted to float64 by StandardScaler.\n"
     ]
    },
    {
     "name": "stdout",
     "output_type": "stream",
     "text": [
      "*** Training of model 'GradientBoostingClassifier' started.\n",
      "*** Training of classifier ready. Time elapsed: 910.617ms\n",
      "\n"
     ]
    },
    {
     "name": "stderr",
     "output_type": "stream",
     "text": [
      "Data with input dtype bool, float64 were all converted to float64 by StandardScaler.\n",
      "Data with input dtype bool, float64 were all converted to float64 by StandardScaler.\n",
      "Data with input dtype bool, float64 were all converted to float64 by StandardScaler.\n"
     ]
    },
    {
     "name": "stdout",
     "output_type": "stream",
     "text": [
      "*** Training of model 'GradientBoostingClassifier' started.\n",
      "*** Training of classifier ready. Time elapsed: 840.1ms\n",
      "\n"
     ]
    },
    {
     "name": "stderr",
     "output_type": "stream",
     "text": [
      "Data with input dtype bool, float64 were all converted to float64 by StandardScaler.\n",
      "Data with input dtype bool, float64 were all converted to float64 by StandardScaler.\n",
      "Data with input dtype bool, float64 were all converted to float64 by StandardScaler.\n"
     ]
    },
    {
     "name": "stdout",
     "output_type": "stream",
     "text": [
      "*** Training of model 'GradientBoostingClassifier' started.\n",
      "*** Training of classifier ready. Time elapsed: 429.069ms\n",
      "\n"
     ]
    },
    {
     "name": "stderr",
     "output_type": "stream",
     "text": [
      "Data with input dtype bool, float64 were all converted to float64 by StandardScaler.\n",
      "Data with input dtype bool, float64 were all converted to float64 by StandardScaler.\n",
      "Data with input dtype bool, float64 were all converted to float64 by StandardScaler.\n"
     ]
    },
    {
     "name": "stdout",
     "output_type": "stream",
     "text": [
      "*** Training of model 'GradientBoostingClassifier' started.\n",
      "*** Training of classifier ready. Time elapsed: 988.669ms\n",
      "\n"
     ]
    },
    {
     "name": "stderr",
     "output_type": "stream",
     "text": [
      "Data with input dtype bool, float64 were all converted to float64 by StandardScaler.\n",
      "Data with input dtype bool, float64 were all converted to float64 by StandardScaler.\n",
      "Data with input dtype bool, float64 were all converted to float64 by StandardScaler.\n"
     ]
    },
    {
     "name": "stdout",
     "output_type": "stream",
     "text": [
      "*** Training of model 'GradientBoostingClassifier' started.\n",
      "*** Training of classifier ready. Time elapsed: 231.886ms\n",
      "\n"
     ]
    },
    {
     "name": "stderr",
     "output_type": "stream",
     "text": [
      "Data with input dtype bool, float64 were all converted to float64 by StandardScaler.\n",
      "Data with input dtype bool, float64 were all converted to float64 by StandardScaler.\n",
      "Data with input dtype bool, float64 were all converted to float64 by StandardScaler.\n"
     ]
    },
    {
     "name": "stdout",
     "output_type": "stream",
     "text": [
      "*** Training of model 'GradientBoostingClassifier' started.\n",
      "*** Training of classifier ready. Time elapsed: 328.936ms\n",
      "\n"
     ]
    },
    {
     "name": "stderr",
     "output_type": "stream",
     "text": [
      "Data with input dtype bool, float64 were all converted to float64 by StandardScaler.\n",
      "Data with input dtype bool, float64 were all converted to float64 by StandardScaler.\n",
      "Data with input dtype bool, float64 were all converted to float64 by StandardScaler.\n"
     ]
    },
    {
     "name": "stdout",
     "output_type": "stream",
     "text": [
      "*** Training of model 'GradientBoostingClassifier' started.\n",
      "*** Training of classifier ready. Time elapsed: 896.05ms\n",
      "\n"
     ]
    },
    {
     "name": "stderr",
     "output_type": "stream",
     "text": [
      "Data with input dtype bool, float64 were all converted to float64 by StandardScaler.\n",
      "Data with input dtype bool, float64 were all converted to float64 by StandardScaler.\n",
      "Data with input dtype bool, float64 were all converted to float64 by StandardScaler.\n"
     ]
    },
    {
     "name": "stdout",
     "output_type": "stream",
     "text": [
      "*** Training of model 'RandomForestClassifier' started.\n",
      "*** Training of classifier ready. Time elapsed: 861.721ms\n",
      "\n"
     ]
    },
    {
     "name": "stderr",
     "output_type": "stream",
     "text": [
      "F-score is ill-defined and being set to 0.0 due to no predicted samples.\n",
      "Precision is ill-defined and being set to 0.0 due to no predicted samples.\n",
      "invalid value encountered in long_scalars\n",
      "Data with input dtype bool, float64 were all converted to float64 by StandardScaler.\n",
      "Data with input dtype bool, float64 were all converted to float64 by StandardScaler.\n",
      "Data with input dtype bool, float64 were all converted to float64 by StandardScaler.\n"
     ]
    },
    {
     "name": "stdout",
     "output_type": "stream",
     "text": [
      "*** Training of model 'RandomForestClassifier' started.\n",
      "*** Training of classifier ready. Time elapsed: 259.016ms\n",
      "\n"
     ]
    },
    {
     "name": "stderr",
     "output_type": "stream",
     "text": [
      "F-score is ill-defined and being set to 0.0 due to no predicted samples.\n",
      "Precision is ill-defined and being set to 0.0 due to no predicted samples.\n",
      "invalid value encountered in long_scalars\n",
      "Data with input dtype bool, float64 were all converted to float64 by StandardScaler.\n",
      "Data with input dtype bool, float64 were all converted to float64 by StandardScaler.\n",
      "Data with input dtype bool, float64 were all converted to float64 by StandardScaler.\n"
     ]
    },
    {
     "name": "stdout",
     "output_type": "stream",
     "text": [
      "*** Training of model 'RandomForestClassifier' started.\n",
      "*** Training of classifier ready. Time elapsed: 443.141ms\n",
      "\n"
     ]
    },
    {
     "name": "stderr",
     "output_type": "stream",
     "text": [
      "F-score is ill-defined and being set to 0.0 due to no predicted samples.\n",
      "Precision is ill-defined and being set to 0.0 due to no predicted samples.\n",
      "invalid value encountered in long_scalars\n",
      "Data with input dtype bool, float64 were all converted to float64 by StandardScaler.\n",
      "Data with input dtype bool, float64 were all converted to float64 by StandardScaler.\n",
      "Data with input dtype bool, float64 were all converted to float64 by StandardScaler.\n"
     ]
    },
    {
     "name": "stdout",
     "output_type": "stream",
     "text": [
      "*** Training of model 'RandomForestClassifier' started.\n",
      "*** Training of classifier ready. Time elapsed: 482.871ms\n",
      "\n"
     ]
    },
    {
     "name": "stderr",
     "output_type": "stream",
     "text": [
      "F-score is ill-defined and being set to 0.0 due to no predicted samples.\n",
      "Precision is ill-defined and being set to 0.0 due to no predicted samples.\n",
      "invalid value encountered in long_scalars\n",
      "Data with input dtype bool, float64 were all converted to float64 by StandardScaler.\n",
      "Data with input dtype bool, float64 were all converted to float64 by StandardScaler.\n",
      "Data with input dtype bool, float64 were all converted to float64 by StandardScaler.\n"
     ]
    },
    {
     "name": "stdout",
     "output_type": "stream",
     "text": [
      "*** Training of model 'RandomForestClassifier' started.\n",
      "*** Training of classifier ready. Time elapsed: 290.764ms\n",
      "\n"
     ]
    },
    {
     "name": "stderr",
     "output_type": "stream",
     "text": [
      "F-score is ill-defined and being set to 0.0 due to no predicted samples.\n",
      "Precision is ill-defined and being set to 0.0 due to no predicted samples.\n",
      "invalid value encountered in long_scalars\n",
      "Data with input dtype bool, float64 were all converted to float64 by StandardScaler.\n",
      "Data with input dtype bool, float64 were all converted to float64 by StandardScaler.\n",
      "Data with input dtype bool, float64 were all converted to float64 by StandardScaler.\n"
     ]
    },
    {
     "name": "stdout",
     "output_type": "stream",
     "text": [
      "*** Training of model 'RandomForestClassifier' started.\n",
      "*** Training of classifier ready. Time elapsed: 644.622ms\n",
      "\n"
     ]
    },
    {
     "name": "stderr",
     "output_type": "stream",
     "text": [
      "Data with input dtype bool, float64 were all converted to float64 by StandardScaler.\n",
      "Data with input dtype bool, float64 were all converted to float64 by StandardScaler.\n",
      "Data with input dtype bool, float64 were all converted to float64 by StandardScaler.\n"
     ]
    },
    {
     "name": "stdout",
     "output_type": "stream",
     "text": [
      "*** Training of model 'RandomForestClassifier' started.\n",
      "*** Training of classifier ready. Time elapsed: 850.927ms\n",
      "\n"
     ]
    },
    {
     "name": "stderr",
     "output_type": "stream",
     "text": [
      "Data with input dtype bool, float64 were all converted to float64 by StandardScaler.\n",
      "Data with input dtype bool, float64 were all converted to float64 by StandardScaler.\n",
      "Data with input dtype bool, float64 were all converted to float64 by StandardScaler.\n"
     ]
    },
    {
     "name": "stdout",
     "output_type": "stream",
     "text": [
      "*** Training of model 'RandomForestClassifier' started.\n",
      "*** Training of classifier ready. Time elapsed: 397.009ms\n",
      "\n"
     ]
    },
    {
     "name": "stderr",
     "output_type": "stream",
     "text": [
      "Data with input dtype bool, float64 were all converted to float64 by StandardScaler.\n",
      "Data with input dtype bool, float64 were all converted to float64 by StandardScaler.\n",
      "Data with input dtype bool, float64 were all converted to float64 by StandardScaler.\n"
     ]
    },
    {
     "name": "stdout",
     "output_type": "stream",
     "text": [
      "*** Training of model 'RandomForestClassifier' started.\n",
      "*** Training of classifier ready. Time elapsed: 612.943ms\n",
      "\n"
     ]
    },
    {
     "name": "stderr",
     "output_type": "stream",
     "text": [
      "Data with input dtype bool, float64 were all converted to float64 by StandardScaler.\n",
      "Data with input dtype bool, float64 were all converted to float64 by StandardScaler.\n",
      "Data with input dtype bool, float64 were all converted to float64 by StandardScaler.\n"
     ]
    },
    {
     "name": "stdout",
     "output_type": "stream",
     "text": [
      "*** Training of model 'RandomForestClassifier' started.\n",
      "*** Training of classifier ready. Time elapsed: 797.386ms\n",
      "\n"
     ]
    },
    {
     "name": "stderr",
     "output_type": "stream",
     "text": [
      "Data with input dtype bool, float64 were all converted to float64 by StandardScaler.\n",
      "Data with input dtype bool, float64 were all converted to float64 by StandardScaler.\n",
      "Data with input dtype bool, float64 were all converted to float64 by StandardScaler.\n"
     ]
    },
    {
     "name": "stdout",
     "output_type": "stream",
     "text": [
      "*** Training of model 'RandomForestClassifier' started.\n",
      "*** Training of classifier ready. Time elapsed: 687.053ms\n",
      "\n"
     ]
    },
    {
     "name": "stderr",
     "output_type": "stream",
     "text": [
      "Data with input dtype bool, float64 were all converted to float64 by StandardScaler.\n",
      "Data with input dtype bool, float64 were all converted to float64 by StandardScaler.\n",
      "Data with input dtype bool, float64 were all converted to float64 by StandardScaler.\n"
     ]
    },
    {
     "name": "stdout",
     "output_type": "stream",
     "text": [
      "*** Training of model 'RandomForestClassifier' started.\n",
      "*** Training of classifier ready. Time elapsed: 984.032ms\n",
      "\n"
     ]
    },
    {
     "name": "stderr",
     "output_type": "stream",
     "text": [
      "Data with input dtype bool, float64 were all converted to float64 by StandardScaler.\n",
      "Data with input dtype bool, float64 were all converted to float64 by StandardScaler.\n",
      "Data with input dtype bool, float64 were all converted to float64 by StandardScaler.\n"
     ]
    },
    {
     "name": "stdout",
     "output_type": "stream",
     "text": [
      "*** Training of model 'RandomForestClassifier' started.\n",
      "*** Training of classifier ready. Time elapsed: 726.717ms\n",
      "\n"
     ]
    },
    {
     "name": "stderr",
     "output_type": "stream",
     "text": [
      "Data with input dtype bool, float64 were all converted to float64 by StandardScaler.\n",
      "Data with input dtype bool, float64 were all converted to float64 by StandardScaler.\n",
      "Data with input dtype bool, float64 were all converted to float64 by StandardScaler.\n"
     ]
    },
    {
     "name": "stdout",
     "output_type": "stream",
     "text": [
      "*** Training of model 'RandomForestClassifier' started.\n",
      "*** Training of classifier ready. Time elapsed: 182.74ms\n",
      "\n"
     ]
    },
    {
     "name": "stderr",
     "output_type": "stream",
     "text": [
      "Data with input dtype bool, float64 were all converted to float64 by StandardScaler.\n",
      "Data with input dtype bool, float64 were all converted to float64 by StandardScaler.\n",
      "Data with input dtype bool, float64 were all converted to float64 by StandardScaler.\n"
     ]
    },
    {
     "name": "stdout",
     "output_type": "stream",
     "text": [
      "*** Training of model 'RandomForestClassifier' started.\n",
      "*** Training of classifier ready. Time elapsed: 279.597ms\n",
      "\n"
     ]
    },
    {
     "name": "stderr",
     "output_type": "stream",
     "text": [
      "Data with input dtype bool, float64 were all converted to float64 by StandardScaler.\n",
      "Data with input dtype bool, float64 were all converted to float64 by StandardScaler.\n",
      "Data with input dtype bool, float64 were all converted to float64 by StandardScaler.\n"
     ]
    },
    {
     "name": "stdout",
     "output_type": "stream",
     "text": [
      "*** Training of model 'RandomForestClassifier' started.\n",
      "*** Training of classifier ready. Time elapsed: 446.628ms\n",
      "\n"
     ]
    },
    {
     "name": "stderr",
     "output_type": "stream",
     "text": [
      "F-score is ill-defined and being set to 0.0 due to no predicted samples.\n",
      "Precision is ill-defined and being set to 0.0 due to no predicted samples.\n",
      "invalid value encountered in long_scalars\n",
      "Data with input dtype bool, float64 were all converted to float64 by StandardScaler.\n",
      "Data with input dtype bool, float64 were all converted to float64 by StandardScaler.\n",
      "Data with input dtype bool, float64 were all converted to float64 by StandardScaler.\n"
     ]
    },
    {
     "name": "stdout",
     "output_type": "stream",
     "text": [
      "*** Training of model 'RandomForestClassifier' started.\n",
      "*** Training of classifier ready. Time elapsed: 358.998ms\n",
      "\n"
     ]
    },
    {
     "name": "stderr",
     "output_type": "stream",
     "text": [
      "F-score is ill-defined and being set to 0.0 due to no predicted samples.\n",
      "Precision is ill-defined and being set to 0.0 due to no predicted samples.\n",
      "invalid value encountered in long_scalars\n",
      "Data with input dtype bool, float64 were all converted to float64 by StandardScaler.\n",
      "Data with input dtype bool, float64 were all converted to float64 by StandardScaler.\n",
      "Data with input dtype bool, float64 were all converted to float64 by StandardScaler.\n"
     ]
    },
    {
     "name": "stdout",
     "output_type": "stream",
     "text": [
      "*** Training of model 'RandomForestClassifier' started.\n",
      "*** Training of classifier ready. Time elapsed: 285.521ms\n",
      "\n"
     ]
    },
    {
     "name": "stderr",
     "output_type": "stream",
     "text": [
      "F-score is ill-defined and being set to 0.0 due to no predicted samples.\n",
      "Precision is ill-defined and being set to 0.0 due to no predicted samples.\n",
      "invalid value encountered in long_scalars\n",
      "Data with input dtype bool, float64 were all converted to float64 by StandardScaler.\n",
      "Data with input dtype bool, float64 were all converted to float64 by StandardScaler.\n",
      "Data with input dtype bool, float64 were all converted to float64 by StandardScaler.\n"
     ]
    },
    {
     "name": "stdout",
     "output_type": "stream",
     "text": [
      "*** Training of model 'RandomForestClassifier' started.\n",
      "*** Training of classifier ready. Time elapsed: 400.496ms\n",
      "\n"
     ]
    },
    {
     "name": "stderr",
     "output_type": "stream",
     "text": [
      "F-score is ill-defined and being set to 0.0 due to no predicted samples.\n",
      "Precision is ill-defined and being set to 0.0 due to no predicted samples.\n",
      "invalid value encountered in long_scalars\n",
      "Data with input dtype bool, float64 were all converted to float64 by StandardScaler.\n",
      "Data with input dtype bool, float64 were all converted to float64 by StandardScaler.\n",
      "Data with input dtype bool, float64 were all converted to float64 by StandardScaler.\n"
     ]
    },
    {
     "name": "stdout",
     "output_type": "stream",
     "text": [
      "*** Training of model 'RandomForestClassifier' started.\n",
      "*** Training of classifier ready. Time elapsed: 350.195ms\n",
      "\n"
     ]
    },
    {
     "name": "stderr",
     "output_type": "stream",
     "text": [
      "F-score is ill-defined and being set to 0.0 due to no predicted samples.\n",
      "Precision is ill-defined and being set to 0.0 due to no predicted samples.\n",
      "invalid value encountered in long_scalars\n",
      "Data with input dtype bool, float64 were all converted to float64 by StandardScaler.\n",
      "Data with input dtype bool, float64 were all converted to float64 by StandardScaler.\n",
      "Data with input dtype bool, float64 were all converted to float64 by StandardScaler.\n"
     ]
    },
    {
     "name": "stdout",
     "output_type": "stream",
     "text": [
      "*** Training of model 'DecisionTreeClassifier' started.\n",
      "*** Training of classifier ready. Time elapsed: 576.97ms\n",
      "\n"
     ]
    },
    {
     "name": "stderr",
     "output_type": "stream",
     "text": [
      "Data with input dtype bool, float64 were all converted to float64 by StandardScaler.\n",
      "Data with input dtype bool, float64 were all converted to float64 by StandardScaler.\n",
      "Data with input dtype bool, float64 were all converted to float64 by StandardScaler.\n"
     ]
    },
    {
     "name": "stdout",
     "output_type": "stream",
     "text": [
      "*** Training of model 'DecisionTreeClassifier' started.\n",
      "*** Training of classifier ready. Time elapsed: 554.491ms\n",
      "\n"
     ]
    },
    {
     "name": "stderr",
     "output_type": "stream",
     "text": [
      "Data with input dtype bool, float64 were all converted to float64 by StandardScaler.\n",
      "Data with input dtype bool, float64 were all converted to float64 by StandardScaler.\n",
      "Data with input dtype bool, float64 were all converted to float64 by StandardScaler.\n"
     ]
    },
    {
     "name": "stdout",
     "output_type": "stream",
     "text": [
      "*** Training of model 'DecisionTreeClassifier' started.\n",
      "*** Training of classifier ready. Time elapsed: 553.013ms\n",
      "\n"
     ]
    },
    {
     "name": "stderr",
     "output_type": "stream",
     "text": [
      "Data with input dtype bool, float64 were all converted to float64 by StandardScaler.\n",
      "Data with input dtype bool, float64 were all converted to float64 by StandardScaler.\n",
      "Data with input dtype bool, float64 were all converted to float64 by StandardScaler.\n"
     ]
    },
    {
     "name": "stdout",
     "output_type": "stream",
     "text": [
      "*** Training of model 'DecisionTreeClassifier' started.\n",
      "*** Training of classifier ready. Time elapsed: 554.044ms\n",
      "\n"
     ]
    },
    {
     "name": "stderr",
     "output_type": "stream",
     "text": [
      "Data with input dtype bool, float64 were all converted to float64 by StandardScaler.\n",
      "Data with input dtype bool, float64 were all converted to float64 by StandardScaler.\n",
      "Data with input dtype bool, float64 were all converted to float64 by StandardScaler.\n"
     ]
    },
    {
     "name": "stdout",
     "output_type": "stream",
     "text": [
      "*** Training of model 'DecisionTreeClassifier' started.\n",
      "*** Training of classifier ready. Time elapsed: 423.323ms\n",
      "\n"
     ]
    },
    {
     "name": "stderr",
     "output_type": "stream",
     "text": [
      "Data with input dtype bool, float64 were all converted to float64 by StandardScaler.\n",
      "Data with input dtype bool, float64 were all converted to float64 by StandardScaler.\n",
      "Data with input dtype bool, float64 were all converted to float64 by StandardScaler.\n"
     ]
    },
    {
     "name": "stdout",
     "output_type": "stream",
     "text": [
      "*** Training of model 'DecisionTreeClassifier' started.\n",
      "*** Training of classifier ready. Time elapsed: 21.422ms\n",
      "\n"
     ]
    },
    {
     "name": "stderr",
     "output_type": "stream",
     "text": [
      "Data with input dtype bool, float64 were all converted to float64 by StandardScaler.\n",
      "Data with input dtype bool, float64 were all converted to float64 by StandardScaler.\n",
      "Data with input dtype bool, float64 were all converted to float64 by StandardScaler.\n"
     ]
    },
    {
     "name": "stdout",
     "output_type": "stream",
     "text": [
      "*** Training of model 'DecisionTreeClassifier' started.\n",
      "*** Training of classifier ready. Time elapsed: 50.369ms\n",
      "\n"
     ]
    },
    {
     "name": "stderr",
     "output_type": "stream",
     "text": [
      "Data with input dtype bool, float64 were all converted to float64 by StandardScaler.\n",
      "Data with input dtype bool, float64 were all converted to float64 by StandardScaler.\n",
      "Data with input dtype bool, float64 were all converted to float64 by StandardScaler.\n"
     ]
    },
    {
     "name": "stdout",
     "output_type": "stream",
     "text": [
      "*** Training of model 'DecisionTreeClassifier' started.\n",
      "*** Training of classifier ready. Time elapsed: 33.74ms\n",
      "\n"
     ]
    },
    {
     "name": "stderr",
     "output_type": "stream",
     "text": [
      "Data with input dtype bool, float64 were all converted to float64 by StandardScaler.\n",
      "Data with input dtype bool, float64 were all converted to float64 by StandardScaler.\n",
      "Data with input dtype bool, float64 were all converted to float64 by StandardScaler.\n"
     ]
    },
    {
     "name": "stdout",
     "output_type": "stream",
     "text": [
      "*** Training of model 'DecisionTreeClassifier' started.\n",
      "*** Training of classifier ready. Time elapsed: 31.126ms\n",
      "\n"
     ]
    },
    {
     "name": "stderr",
     "output_type": "stream",
     "text": [
      "Data with input dtype bool, float64 were all converted to float64 by StandardScaler.\n",
      "Data with input dtype bool, float64 were all converted to float64 by StandardScaler.\n",
      "Data with input dtype bool, float64 were all converted to float64 by StandardScaler.\n"
     ]
    },
    {
     "name": "stdout",
     "output_type": "stream",
     "text": [
      "*** Training of model 'DecisionTreeClassifier' started.\n",
      "*** Training of classifier ready. Time elapsed: 19.116ms\n",
      "\n"
     ]
    },
    {
     "name": "stderr",
     "output_type": "stream",
     "text": [
      "Data with input dtype bool, float64 were all converted to float64 by StandardScaler.\n",
      "Data with input dtype bool, float64 were all converted to float64 by StandardScaler.\n",
      "Data with input dtype bool, float64 were all converted to float64 by StandardScaler.\n"
     ]
    },
    {
     "name": "stdout",
     "output_type": "stream",
     "text": [
      "*** Training of model 'DecisionTreeClassifier' started.\n",
      "*** Training of classifier ready. Time elapsed: 765.479ms\n",
      "\n"
     ]
    },
    {
     "name": "stderr",
     "output_type": "stream",
     "text": [
      "Data with input dtype bool, float64 were all converted to float64 by StandardScaler.\n",
      "Data with input dtype bool, float64 were all converted to float64 by StandardScaler.\n",
      "Data with input dtype bool, float64 were all converted to float64 by StandardScaler.\n"
     ]
    },
    {
     "name": "stdout",
     "output_type": "stream",
     "text": [
      "*** Training of model 'DecisionTreeClassifier' started.\n",
      "*** Training of classifier ready. Time elapsed: 382.421ms\n",
      "\n"
     ]
    },
    {
     "name": "stderr",
     "output_type": "stream",
     "text": [
      "Data with input dtype bool, float64 were all converted to float64 by StandardScaler.\n",
      "Data with input dtype bool, float64 were all converted to float64 by StandardScaler.\n",
      "Data with input dtype bool, float64 were all converted to float64 by StandardScaler.\n"
     ]
    },
    {
     "name": "stdout",
     "output_type": "stream",
     "text": [
      "*** Training of model 'DecisionTreeClassifier' started.\n",
      "*** Training of classifier ready. Time elapsed: 407.347ms\n",
      "\n"
     ]
    },
    {
     "name": "stderr",
     "output_type": "stream",
     "text": [
      "Data with input dtype bool, float64 were all converted to float64 by StandardScaler.\n",
      "Data with input dtype bool, float64 were all converted to float64 by StandardScaler.\n",
      "Data with input dtype bool, float64 were all converted to float64 by StandardScaler.\n"
     ]
    },
    {
     "name": "stdout",
     "output_type": "stream",
     "text": [
      "*** Training of model 'DecisionTreeClassifier' started.\n",
      "*** Training of classifier ready. Time elapsed: 393.706ms\n",
      "\n"
     ]
    },
    {
     "name": "stderr",
     "output_type": "stream",
     "text": [
      "Data with input dtype bool, float64 were all converted to float64 by StandardScaler.\n",
      "Data with input dtype bool, float64 were all converted to float64 by StandardScaler.\n",
      "Data with input dtype bool, float64 were all converted to float64 by StandardScaler.\n"
     ]
    },
    {
     "name": "stdout",
     "output_type": "stream",
     "text": [
      "*** Training of model 'DecisionTreeClassifier' started.\n",
      "*** Training of classifier ready. Time elapsed: 502.251ms\n",
      "\n"
     ]
    },
    {
     "name": "stderr",
     "output_type": "stream",
     "text": [
      "Data with input dtype bool, float64 were all converted to float64 by StandardScaler.\n",
      "Data with input dtype bool, float64 were all converted to float64 by StandardScaler.\n",
      "Data with input dtype bool, float64 were all converted to float64 by StandardScaler.\n"
     ]
    },
    {
     "name": "stdout",
     "output_type": "stream",
     "text": [
      "*** Training of model 'DecisionTreeClassifier' started.\n",
      "*** Training of classifier ready. Time elapsed: 117.278ms\n",
      "\n"
     ]
    },
    {
     "name": "stderr",
     "output_type": "stream",
     "text": [
      "Data with input dtype bool, float64 were all converted to float64 by StandardScaler.\n",
      "Data with input dtype bool, float64 were all converted to float64 by StandardScaler.\n",
      "Data with input dtype bool, float64 were all converted to float64 by StandardScaler.\n"
     ]
    },
    {
     "name": "stdout",
     "output_type": "stream",
     "text": [
      "*** Training of model 'DecisionTreeClassifier' started.\n",
      "*** Training of classifier ready. Time elapsed: 146.705ms\n",
      "\n"
     ]
    },
    {
     "name": "stderr",
     "output_type": "stream",
     "text": [
      "Data with input dtype bool, float64 were all converted to float64 by StandardScaler.\n",
      "Data with input dtype bool, float64 were all converted to float64 by StandardScaler.\n",
      "Data with input dtype bool, float64 were all converted to float64 by StandardScaler.\n"
     ]
    },
    {
     "name": "stdout",
     "output_type": "stream",
     "text": [
      "*** Training of model 'DecisionTreeClassifier' started.\n",
      "*** Training of classifier ready. Time elapsed: 109.42ms\n",
      "\n"
     ]
    },
    {
     "name": "stderr",
     "output_type": "stream",
     "text": [
      "Data with input dtype bool, float64 were all converted to float64 by StandardScaler.\n",
      "Data with input dtype bool, float64 were all converted to float64 by StandardScaler.\n",
      "Data with input dtype bool, float64 were all converted to float64 by StandardScaler.\n"
     ]
    },
    {
     "name": "stdout",
     "output_type": "stream",
     "text": [
      "*** Training of model 'DecisionTreeClassifier' started.\n",
      "*** Training of classifier ready. Time elapsed: 121.632ms\n",
      "\n"
     ]
    },
    {
     "name": "stderr",
     "output_type": "stream",
     "text": [
      "Data with input dtype bool, float64 were all converted to float64 by StandardScaler.\n",
      "Data with input dtype bool, float64 were all converted to float64 by StandardScaler.\n",
      "Data with input dtype bool, float64 were all converted to float64 by StandardScaler.\n"
     ]
    },
    {
     "name": "stdout",
     "output_type": "stream",
     "text": [
      "*** Training of model 'DecisionTreeClassifier' started.\n",
      "*** Training of classifier ready. Time elapsed: 121.109ms\n",
      "\n"
     ]
    },
    {
     "name": "stderr",
     "output_type": "stream",
     "text": [
      "Data with input dtype bool, float64 were all converted to float64 by StandardScaler.\n",
      "Data with input dtype bool, float64 were all converted to float64 by StandardScaler.\n",
      "Data with input dtype bool, float64 were all converted to float64 by StandardScaler.\n"
     ]
    },
    {
     "name": "stdout",
     "output_type": "stream",
     "text": [
      "*** Training of model 'LogisticRegression' started.\n",
      "*** Training of classifier ready. Time elapsed: 680.365ms\n",
      "\n"
     ]
    },
    {
     "name": "stderr",
     "output_type": "stream",
     "text": [
      "Data with input dtype bool, float64 were all converted to float64 by StandardScaler.\n",
      "Data with input dtype bool, float64 were all converted to float64 by StandardScaler.\n",
      "Data with input dtype bool, float64 were all converted to float64 by StandardScaler.\n"
     ]
    },
    {
     "name": "stdout",
     "output_type": "stream",
     "text": [
      "*** Training of model 'LogisticRegression' started.\n",
      "*** Training of classifier ready. Time elapsed: 411.837ms\n",
      "\n"
     ]
    },
    {
     "name": "stderr",
     "output_type": "stream",
     "text": [
      "Data with input dtype bool, float64 were all converted to float64 by StandardScaler.\n",
      "Data with input dtype bool, float64 were all converted to float64 by StandardScaler.\n",
      "Data with input dtype bool, float64 were all converted to float64 by StandardScaler.\n"
     ]
    },
    {
     "name": "stdout",
     "output_type": "stream",
     "text": [
      "*** Training of model 'LogisticRegression' started.\n",
      "*** Training of classifier ready. Time elapsed: 277.473ms\n",
      "\n"
     ]
    },
    {
     "name": "stderr",
     "output_type": "stream",
     "text": [
      "Data with input dtype bool, float64 were all converted to float64 by StandardScaler.\n",
      "Data with input dtype bool, float64 were all converted to float64 by StandardScaler.\n",
      "Data with input dtype bool, float64 were all converted to float64 by StandardScaler.\n"
     ]
    },
    {
     "name": "stdout",
     "output_type": "stream",
     "text": [
      "*** Training of model 'LogisticRegression' started.\n",
      "*** Training of classifier ready. Time elapsed: 83.608ms\n",
      "\n"
     ]
    },
    {
     "name": "stderr",
     "output_type": "stream",
     "text": [
      "Data with input dtype bool, float64 were all converted to float64 by StandardScaler.\n",
      "Data with input dtype bool, float64 were all converted to float64 by StandardScaler.\n",
      "Data with input dtype bool, float64 were all converted to float64 by StandardScaler.\n"
     ]
    },
    {
     "name": "stdout",
     "output_type": "stream",
     "text": [
      "*** Training of model 'LogisticRegression' started.\n",
      "*** Training of classifier ready. Time elapsed: 135.88ms\n",
      "\n"
     ]
    },
    {
     "name": "stderr",
     "output_type": "stream",
     "text": [
      "Data with input dtype bool, float64 were all converted to float64 by StandardScaler.\n",
      "Data with input dtype bool, float64 were all converted to float64 by StandardScaler.\n",
      "Data with input dtype bool, float64 were all converted to float64 by StandardScaler.\n"
     ]
    },
    {
     "name": "stdout",
     "output_type": "stream",
     "text": [
      "*** Training of model 'LogisticRegression' started.\n",
      "*** Training of classifier ready. Time elapsed: 51.969ms\n",
      "\n"
     ]
    },
    {
     "name": "stderr",
     "output_type": "stream",
     "text": [
      "Data with input dtype bool, float64 were all converted to float64 by StandardScaler.\n",
      "Data with input dtype bool, float64 were all converted to float64 by StandardScaler.\n",
      "Data with input dtype bool, float64 were all converted to float64 by StandardScaler.\n"
     ]
    },
    {
     "name": "stdout",
     "output_type": "stream",
     "text": [
      "*** Training of model 'LogisticRegression' started.\n",
      "*** Training of classifier ready. Time elapsed: 482.815ms\n",
      "\n"
     ]
    },
    {
     "name": "stderr",
     "output_type": "stream",
     "text": [
      "Data with input dtype bool, float64 were all converted to float64 by StandardScaler.\n",
      "Data with input dtype bool, float64 were all converted to float64 by StandardScaler.\n",
      "Data with input dtype bool, float64 were all converted to float64 by StandardScaler.\n"
     ]
    },
    {
     "name": "stdout",
     "output_type": "stream",
     "text": [
      "*** Training of model 'LogisticRegression' started.\n",
      "*** Training of classifier ready. Time elapsed: 893.804ms\n",
      "\n"
     ]
    },
    {
     "name": "stderr",
     "output_type": "stream",
     "text": [
      "Data with input dtype bool, float64 were all converted to float64 by StandardScaler.\n",
      "Data with input dtype bool, float64 were all converted to float64 by StandardScaler.\n",
      "Data with input dtype bool, float64 were all converted to float64 by StandardScaler.\n"
     ]
    },
    {
     "name": "stdout",
     "output_type": "stream",
     "text": [
      "*** Training of model 'LogisticRegression' started.\n",
      "*** Training of classifier ready. Time elapsed: 714.918ms\n",
      "\n"
     ]
    },
    {
     "name": "stderr",
     "output_type": "stream",
     "text": [
      "Data with input dtype bool, float64 were all converted to float64 by StandardScaler.\n",
      "Data with input dtype bool, float64 were all converted to float64 by StandardScaler.\n",
      "Data with input dtype bool, float64 were all converted to float64 by StandardScaler.\n"
     ]
    },
    {
     "name": "stdout",
     "output_type": "stream",
     "text": [
      "*** Training of model 'LogisticRegression' started.\n",
      "*** Training of classifier ready. Time elapsed: 736.579ms\n",
      "\n"
     ]
    },
    {
     "name": "stderr",
     "output_type": "stream",
     "text": [
      "Data with input dtype bool, float64 were all converted to float64 by StandardScaler.\n",
      "Data with input dtype bool, float64 were all converted to float64 by StandardScaler.\n",
      "Data with input dtype bool, float64 were all converted to float64 by StandardScaler.\n"
     ]
    },
    {
     "name": "stdout",
     "output_type": "stream",
     "text": [
      "*** Training of model 'LogisticRegression' started.\n",
      "*** Training of classifier ready. Time elapsed: 31.56ms\n",
      "\n"
     ]
    },
    {
     "name": "stderr",
     "output_type": "stream",
     "text": [
      "Data with input dtype bool, float64 were all converted to float64 by StandardScaler.\n",
      "Data with input dtype bool, float64 were all converted to float64 by StandardScaler.\n",
      "Data with input dtype bool, float64 were all converted to float64 by StandardScaler.\n"
     ]
    },
    {
     "name": "stdout",
     "output_type": "stream",
     "text": [
      "*** Training of model 'LogisticRegression' started.\n",
      "*** Training of classifier ready. Time elapsed: 956.863ms\n",
      "\n"
     ]
    },
    {
     "name": "stderr",
     "output_type": "stream",
     "text": [
      "Data with input dtype bool, float64 were all converted to float64 by StandardScaler.\n",
      "Data with input dtype bool, float64 were all converted to float64 by StandardScaler.\n",
      "Data with input dtype bool, float64 were all converted to float64 by StandardScaler.\n"
     ]
    },
    {
     "name": "stdout",
     "output_type": "stream",
     "text": [
      "*** Training of model 'LogisticRegression' started.\n",
      "*** Training of classifier ready. Time elapsed: 716.17ms\n",
      "\n"
     ]
    },
    {
     "name": "stderr",
     "output_type": "stream",
     "text": [
      "Data with input dtype bool, float64 were all converted to float64 by StandardScaler.\n",
      "Data with input dtype bool, float64 were all converted to float64 by StandardScaler.\n",
      "Data with input dtype bool, float64 were all converted to float64 by StandardScaler.\n"
     ]
    },
    {
     "name": "stdout",
     "output_type": "stream",
     "text": [
      "*** Training of model 'LogisticRegression' started.\n",
      "*** Training of classifier ready. Time elapsed: 921.297ms\n",
      "\n"
     ]
    },
    {
     "name": "stderr",
     "output_type": "stream",
     "text": [
      "Data with input dtype bool, float64 were all converted to float64 by StandardScaler.\n",
      "Data with input dtype bool, float64 were all converted to float64 by StandardScaler.\n",
      "Data with input dtype bool, float64 were all converted to float64 by StandardScaler.\n"
     ]
    },
    {
     "name": "stdout",
     "output_type": "stream",
     "text": [
      "*** Training of model 'LogisticRegression' started.\n",
      "*** Training of classifier ready. Time elapsed: 563.396ms\n",
      "\n"
     ]
    },
    {
     "name": "stderr",
     "output_type": "stream",
     "text": [
      "Data with input dtype bool, float64 were all converted to float64 by StandardScaler.\n",
      "Data with input dtype bool, float64 were all converted to float64 by StandardScaler.\n",
      "Data with input dtype bool, float64 were all converted to float64 by StandardScaler.\n"
     ]
    },
    {
     "name": "stdout",
     "output_type": "stream",
     "text": [
      "*** Training of model 'LogisticRegression' started.\n",
      "*** Training of classifier ready. Time elapsed: 673.035ms\n",
      "\n"
     ]
    },
    {
     "name": "stderr",
     "output_type": "stream",
     "text": [
      "Data with input dtype bool, float64 were all converted to float64 by StandardScaler.\n",
      "Data with input dtype bool, float64 were all converted to float64 by StandardScaler.\n",
      "Data with input dtype bool, float64 were all converted to float64 by StandardScaler.\n"
     ]
    },
    {
     "name": "stdout",
     "output_type": "stream",
     "text": [
      "*** Training of model 'LogisticRegression' started.\n",
      "*** Training of classifier ready. Time elapsed: 688.805ms\n",
      "\n"
     ]
    },
    {
     "name": "stderr",
     "output_type": "stream",
     "text": [
      "Data with input dtype bool, float64 were all converted to float64 by StandardScaler.\n",
      "Data with input dtype bool, float64 were all converted to float64 by StandardScaler.\n",
      "Data with input dtype bool, float64 were all converted to float64 by StandardScaler.\n"
     ]
    },
    {
     "name": "stdout",
     "output_type": "stream",
     "text": [
      "*** Training of model 'LogisticRegression' started.\n",
      "*** Training of classifier ready. Time elapsed: 489.036ms\n",
      "\n"
     ]
    },
    {
     "name": "stderr",
     "output_type": "stream",
     "text": [
      "Data with input dtype bool, float64 were all converted to float64 by StandardScaler.\n",
      "Data with input dtype bool, float64 were all converted to float64 by StandardScaler.\n",
      "Data with input dtype bool, float64 were all converted to float64 by StandardScaler.\n"
     ]
    },
    {
     "name": "stdout",
     "output_type": "stream",
     "text": [
      "*** Training of model 'LogisticRegression' started.\n",
      "*** Training of classifier ready. Time elapsed: 354.348ms\n",
      "\n"
     ]
    },
    {
     "name": "stderr",
     "output_type": "stream",
     "text": [
      "Data with input dtype bool, float64 were all converted to float64 by StandardScaler.\n",
      "Data with input dtype bool, float64 were all converted to float64 by StandardScaler.\n",
      "Data with input dtype bool, float64 were all converted to float64 by StandardScaler.\n"
     ]
    },
    {
     "name": "stdout",
     "output_type": "stream",
     "text": [
      "*** Training of model 'LogisticRegression' started.\n",
      "*** Training of classifier ready. Time elapsed: 454.571ms\n",
      "\n"
     ]
    },
    {
     "name": "stderr",
     "output_type": "stream",
     "text": [
      "Columns (2,3,14,16,17,18,22,25,26,29,33,35,39,40,42,46,54,59,62,63,88,90,91,92,94,95,96,105,106,107,108,111,112,113,114,116,117,118,119,120,123,127,128,129,154,155,161,168,190,192,193,194,195,196,197,198,199,200,201,202,203,204,205,206,207,208,209,210,211,212,213,214,215,216,217,218,219,220,224,225,226,228,245,246,248,249,250,251,253,254,255,256,257,258,259,260,261,262,263,265,266,267,269,270,273,274,275,276,277,278,279,280,282,286,287,288,289,291,292,293,294,295,297,301,306,307,315,319,324,325,326,345,356,358,359,360,384,385,387,393,403) have mixed types. Specify dtype option on import or set low_memory=False.\n"
     ]
    },
    {
     "name": "stdout",
     "output_type": "stream",
     "text": [
      "Fetching data for <fiber.condition.mrns.MRNs object at 0x7f1b2ba7f198>\n",
      "Fetching data for Patient (...)\n"
     ]
    },
    {
     "name": "stderr",
     "output_type": "stream",
     "text": [
      "Data with input dtype bool, float64 were all converted to float64 by StandardScaler.\n",
      "Data with input dtype bool, float64 were all converted to float64 by StandardScaler.\n",
      "Data with input dtype bool, float64 were all converted to float64 by StandardScaler.\n"
     ]
    },
    {
     "name": "stdout",
     "output_type": "stream",
     "text": [
      "*** Training of model 'GradientBoostingClassifier' started.\n",
      "*** Training of classifier ready. Time elapsed: 789.196ms\n",
      "\n"
     ]
    },
    {
     "name": "stderr",
     "output_type": "stream",
     "text": [
      "F-score is ill-defined and being set to 0.0 due to no predicted samples.\n",
      "Precision is ill-defined and being set to 0.0 due to no predicted samples.\n",
      "invalid value encountered in long_scalars\n",
      "Data with input dtype bool, float64 were all converted to float64 by StandardScaler.\n",
      "Data with input dtype bool, float64 were all converted to float64 by StandardScaler.\n",
      "Data with input dtype bool, float64 were all converted to float64 by StandardScaler.\n"
     ]
    },
    {
     "name": "stdout",
     "output_type": "stream",
     "text": [
      "*** Training of model 'GradientBoostingClassifier' started.\n",
      "*** Training of classifier ready. Time elapsed: 335.89ms\n",
      "\n"
     ]
    },
    {
     "name": "stderr",
     "output_type": "stream",
     "text": [
      "F-score is ill-defined and being set to 0.0 due to no predicted samples.\n",
      "Precision is ill-defined and being set to 0.0 due to no predicted samples.\n",
      "invalid value encountered in long_scalars\n",
      "Data with input dtype bool, float64 were all converted to float64 by StandardScaler.\n",
      "Data with input dtype bool, float64 were all converted to float64 by StandardScaler.\n",
      "Data with input dtype bool, float64 were all converted to float64 by StandardScaler.\n"
     ]
    },
    {
     "name": "stdout",
     "output_type": "stream",
     "text": [
      "*** Training of model 'GradientBoostingClassifier' started.\n",
      "*** Training of classifier ready. Time elapsed: 502.519ms\n",
      "\n"
     ]
    },
    {
     "name": "stderr",
     "output_type": "stream",
     "text": [
      "Data with input dtype bool, float64 were all converted to float64 by StandardScaler.\n",
      "Data with input dtype bool, float64 were all converted to float64 by StandardScaler.\n",
      "Data with input dtype bool, float64 were all converted to float64 by StandardScaler.\n"
     ]
    },
    {
     "name": "stdout",
     "output_type": "stream",
     "text": [
      "*** Training of model 'GradientBoostingClassifier' started.\n",
      "*** Training of classifier ready. Time elapsed: 793.896ms\n",
      "\n"
     ]
    },
    {
     "name": "stderr",
     "output_type": "stream",
     "text": [
      "Data with input dtype bool, float64 were all converted to float64 by StandardScaler.\n",
      "Data with input dtype bool, float64 were all converted to float64 by StandardScaler.\n",
      "Data with input dtype bool, float64 were all converted to float64 by StandardScaler.\n"
     ]
    },
    {
     "name": "stdout",
     "output_type": "stream",
     "text": [
      "*** Training of model 'GradientBoostingClassifier' started.\n",
      "*** Training of classifier ready. Time elapsed: 898.288ms\n",
      "\n"
     ]
    },
    {
     "name": "stderr",
     "output_type": "stream",
     "text": [
      "Data with input dtype bool, float64 were all converted to float64 by StandardScaler.\n",
      "Data with input dtype bool, float64 were all converted to float64 by StandardScaler.\n",
      "Data with input dtype bool, float64 were all converted to float64 by StandardScaler.\n"
     ]
    },
    {
     "name": "stdout",
     "output_type": "stream",
     "text": [
      "*** Training of model 'GradientBoostingClassifier' started.\n",
      "*** Training of classifier ready. Time elapsed: 339.238ms\n",
      "\n"
     ]
    },
    {
     "name": "stderr",
     "output_type": "stream",
     "text": [
      "Data with input dtype bool, float64 were all converted to float64 by StandardScaler.\n",
      "Data with input dtype bool, float64 were all converted to float64 by StandardScaler.\n",
      "Data with input dtype bool, float64 were all converted to float64 by StandardScaler.\n"
     ]
    },
    {
     "name": "stdout",
     "output_type": "stream",
     "text": [
      "*** Training of model 'GradientBoostingClassifier' started.\n",
      "*** Training of classifier ready. Time elapsed: 807.37ms\n",
      "\n"
     ]
    },
    {
     "name": "stderr",
     "output_type": "stream",
     "text": [
      "Data with input dtype bool, float64 were all converted to float64 by StandardScaler.\n",
      "Data with input dtype bool, float64 were all converted to float64 by StandardScaler.\n",
      "Data with input dtype bool, float64 were all converted to float64 by StandardScaler.\n"
     ]
    },
    {
     "name": "stdout",
     "output_type": "stream",
     "text": [
      "*** Training of model 'GradientBoostingClassifier' started.\n",
      "*** Training of classifier ready. Time elapsed: 994.645ms\n",
      "\n"
     ]
    },
    {
     "name": "stderr",
     "output_type": "stream",
     "text": [
      "Data with input dtype bool, float64 were all converted to float64 by StandardScaler.\n",
      "Data with input dtype bool, float64 were all converted to float64 by StandardScaler.\n",
      "Data with input dtype bool, float64 were all converted to float64 by StandardScaler.\n"
     ]
    },
    {
     "name": "stdout",
     "output_type": "stream",
     "text": [
      "*** Training of model 'GradientBoostingClassifier' started.\n",
      "*** Training of classifier ready. Time elapsed: 603.833ms\n",
      "\n"
     ]
    },
    {
     "name": "stderr",
     "output_type": "stream",
     "text": [
      "Data with input dtype bool, float64 were all converted to float64 by StandardScaler.\n",
      "Data with input dtype bool, float64 were all converted to float64 by StandardScaler.\n",
      "Data with input dtype bool, float64 were all converted to float64 by StandardScaler.\n"
     ]
    },
    {
     "name": "stdout",
     "output_type": "stream",
     "text": [
      "*** Training of model 'GradientBoostingClassifier' started.\n",
      "*** Training of classifier ready. Time elapsed: 566.43ms\n",
      "\n"
     ]
    },
    {
     "name": "stderr",
     "output_type": "stream",
     "text": [
      "Data with input dtype bool, float64 were all converted to float64 by StandardScaler.\n",
      "Data with input dtype bool, float64 were all converted to float64 by StandardScaler.\n",
      "Data with input dtype bool, float64 were all converted to float64 by StandardScaler.\n"
     ]
    },
    {
     "name": "stdout",
     "output_type": "stream",
     "text": [
      "*** Training of model 'GradientBoostingClassifier' started.\n",
      "*** Training of classifier ready. Time elapsed: 334.08ms\n",
      "\n"
     ]
    },
    {
     "name": "stderr",
     "output_type": "stream",
     "text": [
      "Data with input dtype bool, float64 were all converted to float64 by StandardScaler.\n",
      "Data with input dtype bool, float64 were all converted to float64 by StandardScaler.\n",
      "Data with input dtype bool, float64 were all converted to float64 by StandardScaler.\n"
     ]
    },
    {
     "name": "stdout",
     "output_type": "stream",
     "text": [
      "*** Training of model 'GradientBoostingClassifier' started.\n",
      "*** Training of classifier ready. Time elapsed: 135.716ms\n",
      "\n"
     ]
    },
    {
     "name": "stderr",
     "output_type": "stream",
     "text": [
      "Data with input dtype bool, float64 were all converted to float64 by StandardScaler.\n",
      "Data with input dtype bool, float64 were all converted to float64 by StandardScaler.\n",
      "Data with input dtype bool, float64 were all converted to float64 by StandardScaler.\n"
     ]
    },
    {
     "name": "stdout",
     "output_type": "stream",
     "text": [
      "*** Training of model 'GradientBoostingClassifier' started.\n",
      "*** Training of classifier ready. Time elapsed: 856.326ms\n",
      "\n"
     ]
    },
    {
     "name": "stderr",
     "output_type": "stream",
     "text": [
      "Data with input dtype bool, float64 were all converted to float64 by StandardScaler.\n",
      "Data with input dtype bool, float64 were all converted to float64 by StandardScaler.\n",
      "Data with input dtype bool, float64 were all converted to float64 by StandardScaler.\n"
     ]
    },
    {
     "name": "stdout",
     "output_type": "stream",
     "text": [
      "*** Training of model 'GradientBoostingClassifier' started.\n",
      "*** Training of classifier ready. Time elapsed: 928.964ms\n",
      "\n"
     ]
    },
    {
     "name": "stderr",
     "output_type": "stream",
     "text": [
      "Data with input dtype bool, float64 were all converted to float64 by StandardScaler.\n",
      "Data with input dtype bool, float64 were all converted to float64 by StandardScaler.\n",
      "Data with input dtype bool, float64 were all converted to float64 by StandardScaler.\n"
     ]
    },
    {
     "name": "stdout",
     "output_type": "stream",
     "text": [
      "*** Training of model 'GradientBoostingClassifier' started.\n",
      "*** Training of classifier ready. Time elapsed: 119.617ms\n",
      "\n"
     ]
    },
    {
     "name": "stderr",
     "output_type": "stream",
     "text": [
      "Data with input dtype bool, float64 were all converted to float64 by StandardScaler.\n",
      "Data with input dtype bool, float64 were all converted to float64 by StandardScaler.\n",
      "Data with input dtype bool, float64 were all converted to float64 by StandardScaler.\n"
     ]
    },
    {
     "name": "stdout",
     "output_type": "stream",
     "text": [
      "*** Training of model 'GradientBoostingClassifier' started.\n",
      "*** Training of classifier ready. Time elapsed: 726.068ms\n",
      "\n"
     ]
    },
    {
     "name": "stderr",
     "output_type": "stream",
     "text": [
      "Data with input dtype bool, float64 were all converted to float64 by StandardScaler.\n",
      "Data with input dtype bool, float64 were all converted to float64 by StandardScaler.\n",
      "Data with input dtype bool, float64 were all converted to float64 by StandardScaler.\n"
     ]
    },
    {
     "name": "stdout",
     "output_type": "stream",
     "text": [
      "*** Training of model 'GradientBoostingClassifier' started.\n",
      "*** Training of classifier ready. Time elapsed: 796.722ms\n",
      "\n"
     ]
    },
    {
     "name": "stderr",
     "output_type": "stream",
     "text": [
      "Data with input dtype bool, float64 were all converted to float64 by StandardScaler.\n",
      "Data with input dtype bool, float64 were all converted to float64 by StandardScaler.\n",
      "Data with input dtype bool, float64 were all converted to float64 by StandardScaler.\n"
     ]
    },
    {
     "name": "stdout",
     "output_type": "stream",
     "text": [
      "*** Training of model 'GradientBoostingClassifier' started.\n",
      "*** Training of classifier ready. Time elapsed: 850.998ms\n",
      "\n"
     ]
    },
    {
     "name": "stderr",
     "output_type": "stream",
     "text": [
      "Data with input dtype bool, float64 were all converted to float64 by StandardScaler.\n",
      "Data with input dtype bool, float64 were all converted to float64 by StandardScaler.\n",
      "Data with input dtype bool, float64 were all converted to float64 by StandardScaler.\n"
     ]
    },
    {
     "name": "stdout",
     "output_type": "stream",
     "text": [
      "*** Training of model 'GradientBoostingClassifier' started.\n",
      "*** Training of classifier ready. Time elapsed: 546.612ms\n",
      "\n"
     ]
    },
    {
     "name": "stderr",
     "output_type": "stream",
     "text": [
      "Data with input dtype bool, float64 were all converted to float64 by StandardScaler.\n",
      "Data with input dtype bool, float64 were all converted to float64 by StandardScaler.\n",
      "Data with input dtype bool, float64 were all converted to float64 by StandardScaler.\n"
     ]
    },
    {
     "name": "stdout",
     "output_type": "stream",
     "text": [
      "*** Training of model 'GradientBoostingClassifier' started.\n",
      "*** Training of classifier ready. Time elapsed: 622.749ms\n",
      "\n"
     ]
    },
    {
     "name": "stderr",
     "output_type": "stream",
     "text": [
      "Data with input dtype bool, float64 were all converted to float64 by StandardScaler.\n",
      "Data with input dtype bool, float64 were all converted to float64 by StandardScaler.\n",
      "Data with input dtype bool, float64 were all converted to float64 by StandardScaler.\n"
     ]
    },
    {
     "name": "stdout",
     "output_type": "stream",
     "text": [
      "*** Training of model 'RandomForestClassifier' started.\n",
      "*** Training of classifier ready. Time elapsed: 404.454ms\n",
      "\n"
     ]
    },
    {
     "name": "stderr",
     "output_type": "stream",
     "text": [
      "F-score is ill-defined and being set to 0.0 due to no predicted samples.\n",
      "Precision is ill-defined and being set to 0.0 due to no predicted samples.\n",
      "invalid value encountered in long_scalars\n",
      "Data with input dtype bool, float64 were all converted to float64 by StandardScaler.\n",
      "Data with input dtype bool, float64 were all converted to float64 by StandardScaler.\n",
      "Data with input dtype bool, float64 were all converted to float64 by StandardScaler.\n"
     ]
    },
    {
     "name": "stdout",
     "output_type": "stream",
     "text": [
      "*** Training of model 'RandomForestClassifier' started.\n",
      "*** Training of classifier ready. Time elapsed: 222.529ms\n",
      "\n"
     ]
    },
    {
     "name": "stderr",
     "output_type": "stream",
     "text": [
      "F-score is ill-defined and being set to 0.0 due to no predicted samples.\n",
      "Precision is ill-defined and being set to 0.0 due to no predicted samples.\n",
      "invalid value encountered in long_scalars\n",
      "Data with input dtype bool, float64 were all converted to float64 by StandardScaler.\n",
      "Data with input dtype bool, float64 were all converted to float64 by StandardScaler.\n",
      "Data with input dtype bool, float64 were all converted to float64 by StandardScaler.\n"
     ]
    },
    {
     "name": "stdout",
     "output_type": "stream",
     "text": [
      "*** Training of model 'RandomForestClassifier' started.\n",
      "*** Training of classifier ready. Time elapsed: 956.013ms\n",
      "\n"
     ]
    },
    {
     "name": "stderr",
     "output_type": "stream",
     "text": [
      "F-score is ill-defined and being set to 0.0 due to no predicted samples.\n",
      "Precision is ill-defined and being set to 0.0 due to no predicted samples.\n",
      "invalid value encountered in long_scalars\n",
      "Data with input dtype bool, float64 were all converted to float64 by StandardScaler.\n",
      "Data with input dtype bool, float64 were all converted to float64 by StandardScaler.\n",
      "Data with input dtype bool, float64 were all converted to float64 by StandardScaler.\n"
     ]
    },
    {
     "name": "stdout",
     "output_type": "stream",
     "text": [
      "*** Training of model 'RandomForestClassifier' started.\n",
      "*** Training of classifier ready. Time elapsed: 821.567ms\n",
      "\n"
     ]
    },
    {
     "name": "stderr",
     "output_type": "stream",
     "text": [
      "F-score is ill-defined and being set to 0.0 due to no predicted samples.\n",
      "Precision is ill-defined and being set to 0.0 due to no predicted samples.\n",
      "invalid value encountered in long_scalars\n",
      "Data with input dtype bool, float64 were all converted to float64 by StandardScaler.\n",
      "Data with input dtype bool, float64 were all converted to float64 by StandardScaler.\n",
      "Data with input dtype bool, float64 were all converted to float64 by StandardScaler.\n"
     ]
    },
    {
     "name": "stdout",
     "output_type": "stream",
     "text": [
      "*** Training of model 'RandomForestClassifier' started.\n",
      "*** Training of classifier ready. Time elapsed: 651.952ms\n",
      "\n"
     ]
    },
    {
     "name": "stderr",
     "output_type": "stream",
     "text": [
      "F-score is ill-defined and being set to 0.0 due to no predicted samples.\n",
      "Precision is ill-defined and being set to 0.0 due to no predicted samples.\n",
      "invalid value encountered in long_scalars\n",
      "Data with input dtype bool, float64 were all converted to float64 by StandardScaler.\n",
      "Data with input dtype bool, float64 were all converted to float64 by StandardScaler.\n",
      "Data with input dtype bool, float64 were all converted to float64 by StandardScaler.\n"
     ]
    },
    {
     "name": "stdout",
     "output_type": "stream",
     "text": [
      "*** Training of model 'RandomForestClassifier' started.\n",
      "*** Training of classifier ready. Time elapsed: 489.966ms\n",
      "\n"
     ]
    },
    {
     "name": "stderr",
     "output_type": "stream",
     "text": [
      "Data with input dtype bool, float64 were all converted to float64 by StandardScaler.\n",
      "Data with input dtype bool, float64 were all converted to float64 by StandardScaler.\n",
      "Data with input dtype bool, float64 were all converted to float64 by StandardScaler.\n"
     ]
    },
    {
     "name": "stdout",
     "output_type": "stream",
     "text": [
      "*** Training of model 'RandomForestClassifier' started.\n",
      "*** Training of classifier ready. Time elapsed: 525.211ms\n",
      "\n"
     ]
    },
    {
     "name": "stderr",
     "output_type": "stream",
     "text": [
      "Data with input dtype bool, float64 were all converted to float64 by StandardScaler.\n",
      "Data with input dtype bool, float64 were all converted to float64 by StandardScaler.\n",
      "Data with input dtype bool, float64 were all converted to float64 by StandardScaler.\n"
     ]
    },
    {
     "name": "stdout",
     "output_type": "stream",
     "text": [
      "*** Training of model 'RandomForestClassifier' started.\n",
      "*** Training of classifier ready. Time elapsed: 560.792ms\n",
      "\n"
     ]
    },
    {
     "name": "stderr",
     "output_type": "stream",
     "text": [
      "Data with input dtype bool, float64 were all converted to float64 by StandardScaler.\n",
      "Data with input dtype bool, float64 were all converted to float64 by StandardScaler.\n",
      "Data with input dtype bool, float64 were all converted to float64 by StandardScaler.\n"
     ]
    },
    {
     "name": "stdout",
     "output_type": "stream",
     "text": [
      "*** Training of model 'RandomForestClassifier' started.\n",
      "*** Training of classifier ready. Time elapsed: 407.399ms\n",
      "\n"
     ]
    },
    {
     "name": "stderr",
     "output_type": "stream",
     "text": [
      "Data with input dtype bool, float64 were all converted to float64 by StandardScaler.\n",
      "Data with input dtype bool, float64 were all converted to float64 by StandardScaler.\n",
      "Data with input dtype bool, float64 were all converted to float64 by StandardScaler.\n"
     ]
    },
    {
     "name": "stdout",
     "output_type": "stream",
     "text": [
      "*** Training of model 'RandomForestClassifier' started.\n",
      "*** Training of classifier ready. Time elapsed: 882.042ms\n",
      "\n"
     ]
    },
    {
     "name": "stderr",
     "output_type": "stream",
     "text": [
      "Data with input dtype bool, float64 were all converted to float64 by StandardScaler.\n",
      "Data with input dtype bool, float64 were all converted to float64 by StandardScaler.\n",
      "Data with input dtype bool, float64 were all converted to float64 by StandardScaler.\n"
     ]
    },
    {
     "name": "stdout",
     "output_type": "stream",
     "text": [
      "*** Training of model 'RandomForestClassifier' started.\n",
      "*** Training of classifier ready. Time elapsed: 675.605ms\n",
      "\n"
     ]
    },
    {
     "name": "stderr",
     "output_type": "stream",
     "text": [
      "Data with input dtype bool, float64 were all converted to float64 by StandardScaler.\n",
      "Data with input dtype bool, float64 were all converted to float64 by StandardScaler.\n",
      "Data with input dtype bool, float64 were all converted to float64 by StandardScaler.\n"
     ]
    },
    {
     "name": "stdout",
     "output_type": "stream",
     "text": [
      "*** Training of model 'RandomForestClassifier' started.\n",
      "*** Training of classifier ready. Time elapsed: 136.643ms\n",
      "\n"
     ]
    },
    {
     "name": "stderr",
     "output_type": "stream",
     "text": [
      "Data with input dtype bool, float64 were all converted to float64 by StandardScaler.\n",
      "Data with input dtype bool, float64 were all converted to float64 by StandardScaler.\n",
      "Data with input dtype bool, float64 were all converted to float64 by StandardScaler.\n"
     ]
    },
    {
     "name": "stdout",
     "output_type": "stream",
     "text": [
      "*** Training of model 'RandomForestClassifier' started.\n",
      "*** Training of classifier ready. Time elapsed: 97.473ms\n",
      "\n"
     ]
    },
    {
     "name": "stderr",
     "output_type": "stream",
     "text": [
      "Data with input dtype bool, float64 were all converted to float64 by StandardScaler.\n",
      "Data with input dtype bool, float64 were all converted to float64 by StandardScaler.\n",
      "Data with input dtype bool, float64 were all converted to float64 by StandardScaler.\n"
     ]
    },
    {
     "name": "stdout",
     "output_type": "stream",
     "text": [
      "*** Training of model 'RandomForestClassifier' started.\n",
      "*** Training of classifier ready. Time elapsed: 465.329ms\n",
      "\n"
     ]
    },
    {
     "name": "stderr",
     "output_type": "stream",
     "text": [
      "Data with input dtype bool, float64 were all converted to float64 by StandardScaler.\n",
      "Data with input dtype bool, float64 were all converted to float64 by StandardScaler.\n",
      "Data with input dtype bool, float64 were all converted to float64 by StandardScaler.\n"
     ]
    },
    {
     "name": "stdout",
     "output_type": "stream",
     "text": [
      "*** Training of model 'RandomForestClassifier' started.\n",
      "*** Training of classifier ready. Time elapsed: 701.546ms\n",
      "\n"
     ]
    },
    {
     "name": "stderr",
     "output_type": "stream",
     "text": [
      "Data with input dtype bool, float64 were all converted to float64 by StandardScaler.\n",
      "Data with input dtype bool, float64 were all converted to float64 by StandardScaler.\n",
      "Data with input dtype bool, float64 were all converted to float64 by StandardScaler.\n"
     ]
    },
    {
     "name": "stdout",
     "output_type": "stream",
     "text": [
      "*** Training of model 'RandomForestClassifier' started.\n",
      "*** Training of classifier ready. Time elapsed: 914.149ms\n",
      "\n"
     ]
    },
    {
     "name": "stderr",
     "output_type": "stream",
     "text": [
      "F-score is ill-defined and being set to 0.0 due to no predicted samples.\n",
      "Precision is ill-defined and being set to 0.0 due to no predicted samples.\n",
      "invalid value encountered in long_scalars\n",
      "Data with input dtype bool, float64 were all converted to float64 by StandardScaler.\n",
      "Data with input dtype bool, float64 were all converted to float64 by StandardScaler.\n",
      "Data with input dtype bool, float64 were all converted to float64 by StandardScaler.\n"
     ]
    },
    {
     "name": "stdout",
     "output_type": "stream",
     "text": [
      "*** Training of model 'RandomForestClassifier' started.\n",
      "*** Training of classifier ready. Time elapsed: 495.926ms\n",
      "\n"
     ]
    },
    {
     "name": "stderr",
     "output_type": "stream",
     "text": [
      "F-score is ill-defined and being set to 0.0 due to no predicted samples.\n",
      "Precision is ill-defined and being set to 0.0 due to no predicted samples.\n",
      "invalid value encountered in long_scalars\n",
      "Data with input dtype bool, float64 were all converted to float64 by StandardScaler.\n",
      "Data with input dtype bool, float64 were all converted to float64 by StandardScaler.\n",
      "Data with input dtype bool, float64 were all converted to float64 by StandardScaler.\n"
     ]
    },
    {
     "name": "stdout",
     "output_type": "stream",
     "text": [
      "*** Training of model 'RandomForestClassifier' started.\n",
      "*** Training of classifier ready. Time elapsed: 378.618ms\n",
      "\n"
     ]
    },
    {
     "name": "stderr",
     "output_type": "stream",
     "text": [
      "F-score is ill-defined and being set to 0.0 due to no predicted samples.\n",
      "Precision is ill-defined and being set to 0.0 due to no predicted samples.\n",
      "invalid value encountered in long_scalars\n",
      "Data with input dtype bool, float64 were all converted to float64 by StandardScaler.\n",
      "Data with input dtype bool, float64 were all converted to float64 by StandardScaler.\n",
      "Data with input dtype bool, float64 were all converted to float64 by StandardScaler.\n"
     ]
    },
    {
     "name": "stdout",
     "output_type": "stream",
     "text": [
      "*** Training of model 'RandomForestClassifier' started.\n",
      "*** Training of classifier ready. Time elapsed: 373.621ms\n",
      "\n"
     ]
    },
    {
     "name": "stderr",
     "output_type": "stream",
     "text": [
      "F-score is ill-defined and being set to 0.0 due to no predicted samples.\n",
      "Precision is ill-defined and being set to 0.0 due to no predicted samples.\n",
      "invalid value encountered in long_scalars\n",
      "Data with input dtype bool, float64 were all converted to float64 by StandardScaler.\n",
      "Data with input dtype bool, float64 were all converted to float64 by StandardScaler.\n",
      "Data with input dtype bool, float64 were all converted to float64 by StandardScaler.\n"
     ]
    },
    {
     "name": "stdout",
     "output_type": "stream",
     "text": [
      "*** Training of model 'RandomForestClassifier' started.\n",
      "*** Training of classifier ready. Time elapsed: 282.889ms\n",
      "\n"
     ]
    },
    {
     "name": "stderr",
     "output_type": "stream",
     "text": [
      "F-score is ill-defined and being set to 0.0 due to no predicted samples.\n",
      "Precision is ill-defined and being set to 0.0 due to no predicted samples.\n",
      "invalid value encountered in long_scalars\n",
      "Data with input dtype bool, float64 were all converted to float64 by StandardScaler.\n",
      "Data with input dtype bool, float64 were all converted to float64 by StandardScaler.\n",
      "Data with input dtype bool, float64 were all converted to float64 by StandardScaler.\n"
     ]
    },
    {
     "name": "stdout",
     "output_type": "stream",
     "text": [
      "*** Training of model 'DecisionTreeClassifier' started.\n",
      "*** Training of classifier ready. Time elapsed: 656.977ms\n",
      "\n"
     ]
    },
    {
     "name": "stderr",
     "output_type": "stream",
     "text": [
      "Data with input dtype bool, float64 were all converted to float64 by StandardScaler.\n",
      "Data with input dtype bool, float64 were all converted to float64 by StandardScaler.\n",
      "Data with input dtype bool, float64 were all converted to float64 by StandardScaler.\n"
     ]
    },
    {
     "name": "stdout",
     "output_type": "stream",
     "text": [
      "*** Training of model 'DecisionTreeClassifier' started.\n",
      "*** Training of classifier ready. Time elapsed: 309.914ms\n",
      "\n"
     ]
    },
    {
     "name": "stderr",
     "output_type": "stream",
     "text": [
      "Data with input dtype bool, float64 were all converted to float64 by StandardScaler.\n",
      "Data with input dtype bool, float64 were all converted to float64 by StandardScaler.\n",
      "Data with input dtype bool, float64 were all converted to float64 by StandardScaler.\n"
     ]
    },
    {
     "name": "stdout",
     "output_type": "stream",
     "text": [
      "*** Training of model 'DecisionTreeClassifier' started.\n",
      "*** Training of classifier ready. Time elapsed: 350.741ms\n",
      "\n"
     ]
    },
    {
     "name": "stderr",
     "output_type": "stream",
     "text": [
      "Data with input dtype bool, float64 were all converted to float64 by StandardScaler.\n",
      "Data with input dtype bool, float64 were all converted to float64 by StandardScaler.\n",
      "Data with input dtype bool, float64 were all converted to float64 by StandardScaler.\n"
     ]
    },
    {
     "name": "stdout",
     "output_type": "stream",
     "text": [
      "*** Training of model 'DecisionTreeClassifier' started.\n",
      "*** Training of classifier ready. Time elapsed: 837.795ms\n",
      "\n"
     ]
    },
    {
     "name": "stderr",
     "output_type": "stream",
     "text": [
      "Data with input dtype bool, float64 were all converted to float64 by StandardScaler.\n",
      "Data with input dtype bool, float64 were all converted to float64 by StandardScaler.\n",
      "Data with input dtype bool, float64 were all converted to float64 by StandardScaler.\n"
     ]
    },
    {
     "name": "stdout",
     "output_type": "stream",
     "text": [
      "*** Training of model 'DecisionTreeClassifier' started.\n",
      "*** Training of classifier ready. Time elapsed: 981.721ms\n",
      "\n"
     ]
    },
    {
     "name": "stderr",
     "output_type": "stream",
     "text": [
      "Data with input dtype bool, float64 were all converted to float64 by StandardScaler.\n",
      "Data with input dtype bool, float64 were all converted to float64 by StandardScaler.\n",
      "Data with input dtype bool, float64 were all converted to float64 by StandardScaler.\n"
     ]
    },
    {
     "name": "stdout",
     "output_type": "stream",
     "text": [
      "*** Training of model 'DecisionTreeClassifier' started.\n",
      "*** Training of classifier ready. Time elapsed: 20.331ms\n",
      "\n"
     ]
    },
    {
     "name": "stderr",
     "output_type": "stream",
     "text": [
      "Data with input dtype bool, float64 were all converted to float64 by StandardScaler.\n",
      "Data with input dtype bool, float64 were all converted to float64 by StandardScaler.\n",
      "Data with input dtype bool, float64 were all converted to float64 by StandardScaler.\n"
     ]
    },
    {
     "name": "stdout",
     "output_type": "stream",
     "text": [
      "*** Training of model 'DecisionTreeClassifier' started.\n",
      "*** Training of classifier ready. Time elapsed: 17.472ms\n",
      "\n"
     ]
    },
    {
     "name": "stderr",
     "output_type": "stream",
     "text": [
      "Data with input dtype bool, float64 were all converted to float64 by StandardScaler.\n",
      "Data with input dtype bool, float64 were all converted to float64 by StandardScaler.\n",
      "Data with input dtype bool, float64 were all converted to float64 by StandardScaler.\n"
     ]
    },
    {
     "name": "stdout",
     "output_type": "stream",
     "text": [
      "*** Training of model 'DecisionTreeClassifier' started.\n",
      "*** Training of classifier ready. Time elapsed: 17.831ms\n",
      "\n"
     ]
    },
    {
     "name": "stderr",
     "output_type": "stream",
     "text": [
      "Data with input dtype bool, float64 were all converted to float64 by StandardScaler.\n",
      "Data with input dtype bool, float64 were all converted to float64 by StandardScaler.\n",
      "Data with input dtype bool, float64 were all converted to float64 by StandardScaler.\n"
     ]
    },
    {
     "name": "stdout",
     "output_type": "stream",
     "text": [
      "*** Training of model 'DecisionTreeClassifier' started.\n",
      "*** Training of classifier ready. Time elapsed: 39.847ms\n",
      "\n"
     ]
    },
    {
     "name": "stderr",
     "output_type": "stream",
     "text": [
      "Data with input dtype bool, float64 were all converted to float64 by StandardScaler.\n",
      "Data with input dtype bool, float64 were all converted to float64 by StandardScaler.\n",
      "Data with input dtype bool, float64 were all converted to float64 by StandardScaler.\n"
     ]
    },
    {
     "name": "stdout",
     "output_type": "stream",
     "text": [
      "*** Training of model 'DecisionTreeClassifier' started.\n",
      "*** Training of classifier ready. Time elapsed: 28.663ms\n",
      "\n"
     ]
    },
    {
     "name": "stderr",
     "output_type": "stream",
     "text": [
      "Data with input dtype bool, float64 were all converted to float64 by StandardScaler.\n",
      "Data with input dtype bool, float64 were all converted to float64 by StandardScaler.\n",
      "Data with input dtype bool, float64 were all converted to float64 by StandardScaler.\n"
     ]
    },
    {
     "name": "stdout",
     "output_type": "stream",
     "text": [
      "*** Training of model 'DecisionTreeClassifier' started.\n",
      "*** Training of classifier ready. Time elapsed: 172.736ms\n",
      "\n"
     ]
    },
    {
     "name": "stderr",
     "output_type": "stream",
     "text": [
      "Data with input dtype bool, float64 were all converted to float64 by StandardScaler.\n",
      "Data with input dtype bool, float64 were all converted to float64 by StandardScaler.\n",
      "Data with input dtype bool, float64 were all converted to float64 by StandardScaler.\n"
     ]
    },
    {
     "name": "stdout",
     "output_type": "stream",
     "text": [
      "*** Training of model 'DecisionTreeClassifier' started.\n",
      "*** Training of classifier ready. Time elapsed: 838.619ms\n",
      "\n"
     ]
    },
    {
     "name": "stderr",
     "output_type": "stream",
     "text": [
      "Data with input dtype bool, float64 were all converted to float64 by StandardScaler.\n",
      "Data with input dtype bool, float64 were all converted to float64 by StandardScaler.\n",
      "Data with input dtype bool, float64 were all converted to float64 by StandardScaler.\n"
     ]
    },
    {
     "name": "stdout",
     "output_type": "stream",
     "text": [
      "*** Training of model 'DecisionTreeClassifier' started.\n",
      "*** Training of classifier ready. Time elapsed: 815.798ms\n",
      "\n"
     ]
    },
    {
     "name": "stderr",
     "output_type": "stream",
     "text": [
      "Data with input dtype bool, float64 were all converted to float64 by StandardScaler.\n",
      "Data with input dtype bool, float64 were all converted to float64 by StandardScaler.\n",
      "Data with input dtype bool, float64 were all converted to float64 by StandardScaler.\n"
     ]
    },
    {
     "name": "stdout",
     "output_type": "stream",
     "text": [
      "*** Training of model 'DecisionTreeClassifier' started.\n",
      "*** Training of classifier ready. Time elapsed: 655.302ms\n",
      "\n"
     ]
    },
    {
     "name": "stderr",
     "output_type": "stream",
     "text": [
      "Data with input dtype bool, float64 were all converted to float64 by StandardScaler.\n",
      "Data with input dtype bool, float64 were all converted to float64 by StandardScaler.\n",
      "Data with input dtype bool, float64 were all converted to float64 by StandardScaler.\n"
     ]
    },
    {
     "name": "stdout",
     "output_type": "stream",
     "text": [
      "*** Training of model 'DecisionTreeClassifier' started.\n",
      "*** Training of classifier ready. Time elapsed: 696.919ms\n",
      "\n"
     ]
    },
    {
     "name": "stderr",
     "output_type": "stream",
     "text": [
      "Data with input dtype bool, float64 were all converted to float64 by StandardScaler.\n",
      "Data with input dtype bool, float64 were all converted to float64 by StandardScaler.\n",
      "Data with input dtype bool, float64 were all converted to float64 by StandardScaler.\n"
     ]
    },
    {
     "name": "stdout",
     "output_type": "stream",
     "text": [
      "*** Training of model 'DecisionTreeClassifier' started.\n",
      "*** Training of classifier ready. Time elapsed: 290.061ms\n",
      "\n"
     ]
    },
    {
     "name": "stderr",
     "output_type": "stream",
     "text": [
      "Data with input dtype bool, float64 were all converted to float64 by StandardScaler.\n",
      "Data with input dtype bool, float64 were all converted to float64 by StandardScaler.\n",
      "Data with input dtype bool, float64 were all converted to float64 by StandardScaler.\n"
     ]
    },
    {
     "name": "stdout",
     "output_type": "stream",
     "text": [
      "*** Training of model 'DecisionTreeClassifier' started.\n",
      "*** Training of classifier ready. Time elapsed: 253.477ms\n",
      "\n"
     ]
    },
    {
     "name": "stderr",
     "output_type": "stream",
     "text": [
      "Data with input dtype bool, float64 were all converted to float64 by StandardScaler.\n",
      "Data with input dtype bool, float64 were all converted to float64 by StandardScaler.\n",
      "Data with input dtype bool, float64 were all converted to float64 by StandardScaler.\n"
     ]
    },
    {
     "name": "stdout",
     "output_type": "stream",
     "text": [
      "*** Training of model 'DecisionTreeClassifier' started.\n",
      "*** Training of classifier ready. Time elapsed: 239.489ms\n",
      "\n"
     ]
    },
    {
     "name": "stderr",
     "output_type": "stream",
     "text": [
      "Data with input dtype bool, float64 were all converted to float64 by StandardScaler.\n",
      "Data with input dtype bool, float64 were all converted to float64 by StandardScaler.\n",
      "Data with input dtype bool, float64 were all converted to float64 by StandardScaler.\n"
     ]
    },
    {
     "name": "stdout",
     "output_type": "stream",
     "text": [
      "*** Training of model 'DecisionTreeClassifier' started.\n",
      "*** Training of classifier ready. Time elapsed: 226.044ms\n",
      "\n"
     ]
    },
    {
     "name": "stderr",
     "output_type": "stream",
     "text": [
      "Data with input dtype bool, float64 were all converted to float64 by StandardScaler.\n",
      "Data with input dtype bool, float64 were all converted to float64 by StandardScaler.\n",
      "Data with input dtype bool, float64 were all converted to float64 by StandardScaler.\n"
     ]
    },
    {
     "name": "stdout",
     "output_type": "stream",
     "text": [
      "*** Training of model 'DecisionTreeClassifier' started.\n",
      "*** Training of classifier ready. Time elapsed: 208.374ms\n",
      "\n"
     ]
    },
    {
     "name": "stderr",
     "output_type": "stream",
     "text": [
      "Data with input dtype bool, float64 were all converted to float64 by StandardScaler.\n",
      "Data with input dtype bool, float64 were all converted to float64 by StandardScaler.\n",
      "Data with input dtype bool, float64 were all converted to float64 by StandardScaler.\n"
     ]
    },
    {
     "name": "stdout",
     "output_type": "stream",
     "text": [
      "*** Training of model 'LogisticRegression' started.\n",
      "*** Training of classifier ready. Time elapsed: 481.618ms\n",
      "\n"
     ]
    },
    {
     "name": "stderr",
     "output_type": "stream",
     "text": [
      "Data with input dtype bool, float64 were all converted to float64 by StandardScaler.\n",
      "Data with input dtype bool, float64 were all converted to float64 by StandardScaler.\n",
      "Data with input dtype bool, float64 were all converted to float64 by StandardScaler.\n"
     ]
    },
    {
     "name": "stdout",
     "output_type": "stream",
     "text": [
      "*** Training of model 'LogisticRegression' started.\n",
      "*** Training of classifier ready. Time elapsed: 145.421ms\n",
      "\n"
     ]
    },
    {
     "name": "stderr",
     "output_type": "stream",
     "text": [
      "Data with input dtype bool, float64 were all converted to float64 by StandardScaler.\n",
      "Data with input dtype bool, float64 were all converted to float64 by StandardScaler.\n",
      "Data with input dtype bool, float64 were all converted to float64 by StandardScaler.\n"
     ]
    },
    {
     "name": "stdout",
     "output_type": "stream",
     "text": [
      "*** Training of model 'LogisticRegression' started.\n",
      "*** Training of classifier ready. Time elapsed: 420.167ms\n",
      "\n"
     ]
    },
    {
     "name": "stderr",
     "output_type": "stream",
     "text": [
      "Data with input dtype bool, float64 were all converted to float64 by StandardScaler.\n",
      "Data with input dtype bool, float64 were all converted to float64 by StandardScaler.\n",
      "Data with input dtype bool, float64 were all converted to float64 by StandardScaler.\n"
     ]
    },
    {
     "name": "stdout",
     "output_type": "stream",
     "text": [
      "*** Training of model 'LogisticRegression' started.\n",
      "*** Training of classifier ready. Time elapsed: 32.492ms\n",
      "\n"
     ]
    },
    {
     "name": "stderr",
     "output_type": "stream",
     "text": [
      "Data with input dtype bool, float64 were all converted to float64 by StandardScaler.\n",
      "Data with input dtype bool, float64 were all converted to float64 by StandardScaler.\n",
      "Data with input dtype bool, float64 were all converted to float64 by StandardScaler.\n"
     ]
    },
    {
     "name": "stdout",
     "output_type": "stream",
     "text": [
      "*** Training of model 'LogisticRegression' started.\n",
      "*** Training of classifier ready. Time elapsed: 954.088ms\n",
      "\n"
     ]
    },
    {
     "name": "stderr",
     "output_type": "stream",
     "text": [
      "Data with input dtype bool, float64 were all converted to float64 by StandardScaler.\n",
      "Data with input dtype bool, float64 were all converted to float64 by StandardScaler.\n",
      "Data with input dtype bool, float64 were all converted to float64 by StandardScaler.\n"
     ]
    },
    {
     "name": "stdout",
     "output_type": "stream",
     "text": [
      "*** Training of model 'LogisticRegression' started.\n",
      "*** Training of classifier ready. Time elapsed: 242.249ms\n",
      "\n"
     ]
    },
    {
     "name": "stderr",
     "output_type": "stream",
     "text": [
      "Data with input dtype bool, float64 were all converted to float64 by StandardScaler.\n",
      "Data with input dtype bool, float64 were all converted to float64 by StandardScaler.\n",
      "Data with input dtype bool, float64 were all converted to float64 by StandardScaler.\n"
     ]
    },
    {
     "name": "stdout",
     "output_type": "stream",
     "text": [
      "*** Training of model 'LogisticRegression' started.\n",
      "*** Training of classifier ready. Time elapsed: 24.271ms\n",
      "\n"
     ]
    },
    {
     "name": "stderr",
     "output_type": "stream",
     "text": [
      "Data with input dtype bool, float64 were all converted to float64 by StandardScaler.\n",
      "Data with input dtype bool, float64 were all converted to float64 by StandardScaler.\n",
      "Data with input dtype bool, float64 were all converted to float64 by StandardScaler.\n"
     ]
    },
    {
     "name": "stdout",
     "output_type": "stream",
     "text": [
      "*** Training of model 'LogisticRegression' started.\n",
      "*** Training of classifier ready. Time elapsed: 49.08ms\n",
      "\n"
     ]
    },
    {
     "name": "stderr",
     "output_type": "stream",
     "text": [
      "Data with input dtype bool, float64 were all converted to float64 by StandardScaler.\n",
      "Data with input dtype bool, float64 were all converted to float64 by StandardScaler.\n",
      "Data with input dtype bool, float64 were all converted to float64 by StandardScaler.\n"
     ]
    },
    {
     "name": "stdout",
     "output_type": "stream",
     "text": [
      "*** Training of model 'LogisticRegression' started.\n",
      "*** Training of classifier ready. Time elapsed: 397.832ms\n",
      "\n"
     ]
    },
    {
     "name": "stderr",
     "output_type": "stream",
     "text": [
      "Data with input dtype bool, float64 were all converted to float64 by StandardScaler.\n",
      "Data with input dtype bool, float64 were all converted to float64 by StandardScaler.\n",
      "Data with input dtype bool, float64 were all converted to float64 by StandardScaler.\n"
     ]
    },
    {
     "name": "stdout",
     "output_type": "stream",
     "text": [
      "*** Training of model 'LogisticRegression' started.\n",
      "*** Training of classifier ready. Time elapsed: 73.398ms\n",
      "\n"
     ]
    },
    {
     "name": "stderr",
     "output_type": "stream",
     "text": [
      "Data with input dtype bool, float64 were all converted to float64 by StandardScaler.\n",
      "Data with input dtype bool, float64 were all converted to float64 by StandardScaler.\n",
      "Data with input dtype bool, float64 were all converted to float64 by StandardScaler.\n"
     ]
    },
    {
     "name": "stdout",
     "output_type": "stream",
     "text": [
      "*** Training of model 'LogisticRegression' started.\n",
      "*** Training of classifier ready. Time elapsed: 26.175ms\n",
      "\n"
     ]
    },
    {
     "name": "stderr",
     "output_type": "stream",
     "text": [
      "Data with input dtype bool, float64 were all converted to float64 by StandardScaler.\n",
      "Data with input dtype bool, float64 were all converted to float64 by StandardScaler.\n",
      "Data with input dtype bool, float64 were all converted to float64 by StandardScaler.\n"
     ]
    },
    {
     "name": "stdout",
     "output_type": "stream",
     "text": [
      "*** Training of model 'LogisticRegression' started.\n",
      "*** Training of classifier ready. Time elapsed: 545.99ms\n",
      "\n"
     ]
    },
    {
     "name": "stderr",
     "output_type": "stream",
     "text": [
      "Data with input dtype bool, float64 were all converted to float64 by StandardScaler.\n",
      "Data with input dtype bool, float64 were all converted to float64 by StandardScaler.\n",
      "Data with input dtype bool, float64 were all converted to float64 by StandardScaler.\n"
     ]
    },
    {
     "name": "stdout",
     "output_type": "stream",
     "text": [
      "*** Training of model 'LogisticRegression' started.\n",
      "*** Training of classifier ready. Time elapsed: 275.799ms\n",
      "\n"
     ]
    },
    {
     "name": "stderr",
     "output_type": "stream",
     "text": [
      "Data with input dtype bool, float64 were all converted to float64 by StandardScaler.\n",
      "Data with input dtype bool, float64 were all converted to float64 by StandardScaler.\n",
      "Data with input dtype bool, float64 were all converted to float64 by StandardScaler.\n"
     ]
    },
    {
     "name": "stdout",
     "output_type": "stream",
     "text": [
      "*** Training of model 'LogisticRegression' started.\n",
      "*** Training of classifier ready. Time elapsed: 875.103ms\n",
      "\n"
     ]
    },
    {
     "name": "stderr",
     "output_type": "stream",
     "text": [
      "Data with input dtype bool, float64 were all converted to float64 by StandardScaler.\n",
      "Data with input dtype bool, float64 were all converted to float64 by StandardScaler.\n",
      "Data with input dtype bool, float64 were all converted to float64 by StandardScaler.\n"
     ]
    },
    {
     "name": "stdout",
     "output_type": "stream",
     "text": [
      "*** Training of model 'LogisticRegression' started.\n",
      "*** Training of classifier ready. Time elapsed: 407.749ms\n",
      "\n"
     ]
    },
    {
     "name": "stderr",
     "output_type": "stream",
     "text": [
      "Data with input dtype bool, float64 were all converted to float64 by StandardScaler.\n",
      "Data with input dtype bool, float64 were all converted to float64 by StandardScaler.\n",
      "Data with input dtype bool, float64 were all converted to float64 by StandardScaler.\n"
     ]
    },
    {
     "name": "stdout",
     "output_type": "stream",
     "text": [
      "*** Training of model 'LogisticRegression' started.\n",
      "*** Training of classifier ready. Time elapsed: 968.274ms\n",
      "\n"
     ]
    },
    {
     "name": "stderr",
     "output_type": "stream",
     "text": [
      "Data with input dtype bool, float64 were all converted to float64 by StandardScaler.\n",
      "Data with input dtype bool, float64 were all converted to float64 by StandardScaler.\n",
      "Data with input dtype bool, float64 were all converted to float64 by StandardScaler.\n"
     ]
    },
    {
     "name": "stdout",
     "output_type": "stream",
     "text": [
      "*** Training of model 'LogisticRegression' started.\n",
      "*** Training of classifier ready. Time elapsed: 609.15ms\n",
      "\n"
     ]
    },
    {
     "name": "stderr",
     "output_type": "stream",
     "text": [
      "Data with input dtype bool, float64 were all converted to float64 by StandardScaler.\n",
      "Data with input dtype bool, float64 were all converted to float64 by StandardScaler.\n",
      "Data with input dtype bool, float64 were all converted to float64 by StandardScaler.\n"
     ]
    },
    {
     "name": "stdout",
     "output_type": "stream",
     "text": [
      "*** Training of model 'LogisticRegression' started.\n",
      "*** Training of classifier ready. Time elapsed: 460.193ms\n",
      "\n"
     ]
    },
    {
     "name": "stderr",
     "output_type": "stream",
     "text": [
      "Data with input dtype bool, float64 were all converted to float64 by StandardScaler.\n",
      "Data with input dtype bool, float64 were all converted to float64 by StandardScaler.\n",
      "Data with input dtype bool, float64 were all converted to float64 by StandardScaler.\n"
     ]
    },
    {
     "name": "stdout",
     "output_type": "stream",
     "text": [
      "*** Training of model 'LogisticRegression' started.\n",
      "*** Training of classifier ready. Time elapsed: 387.55ms\n",
      "\n"
     ]
    },
    {
     "name": "stderr",
     "output_type": "stream",
     "text": [
      "Data with input dtype bool, float64 were all converted to float64 by StandardScaler.\n",
      "Data with input dtype bool, float64 were all converted to float64 by StandardScaler.\n",
      "Data with input dtype bool, float64 were all converted to float64 by StandardScaler.\n"
     ]
    },
    {
     "name": "stdout",
     "output_type": "stream",
     "text": [
      "*** Training of model 'LogisticRegression' started.\n",
      "*** Training of classifier ready. Time elapsed: 386.232ms\n",
      "\n"
     ]
    },
    {
     "name": "stderr",
     "output_type": "stream",
     "text": [
      "Columns (2,3,11,13,15,16,20,23,24,27,31,33,36,37,38,40,44,52,57,60,61,67,70,78,85,86,88,89,90,92,93,94,103,104,105,106,109,110,111,112,114,115,116,117,118,122,123,124,125,126,151,152,158,164,166,168,173,177,185,187,188,189,190,191,192,193,194,195,196,197,198,199,200,201,202,203,204,205,206,207,208,209,210,211,212,213,214,218,219,220,221,222,229,232,238,239,241,242,243,244,246,247,248,249,250,251,252,253,254,255,256,258,259,261,262,265,266,267,268,269,270,271,272,273,274,278,279,280,281,283,284,285,286,287,290,291,292,297,298,306,310,311,315,316,317,336,347,349,350,351,366,368,375,378) have mixed types. Specify dtype option on import or set low_memory=False.\n"
     ]
    },
    {
     "name": "stdout",
     "output_type": "stream",
     "text": [
      "Fetching data for <fiber.condition.mrns.MRNs object at 0x7f1b2c62ae48>\n",
      "Fetching data for Patient (...)\n"
     ]
    },
    {
     "name": "stderr",
     "output_type": "stream",
     "text": [
      "Data with input dtype bool, float64 were all converted to float64 by StandardScaler.\n",
      "Data with input dtype bool, float64 were all converted to float64 by StandardScaler.\n",
      "Data with input dtype bool, float64 were all converted to float64 by StandardScaler.\n"
     ]
    },
    {
     "name": "stdout",
     "output_type": "stream",
     "text": [
      "*** Training of model 'GradientBoostingClassifier' started.\n",
      "*** Training of classifier ready. Time elapsed: 775.659ms\n",
      "\n"
     ]
    },
    {
     "name": "stderr",
     "output_type": "stream",
     "text": [
      "Data with input dtype bool, float64 were all converted to float64 by StandardScaler.\n",
      "Data with input dtype bool, float64 were all converted to float64 by StandardScaler.\n",
      "Data with input dtype bool, float64 were all converted to float64 by StandardScaler.\n"
     ]
    },
    {
     "name": "stdout",
     "output_type": "stream",
     "text": [
      "*** Training of model 'GradientBoostingClassifier' started.\n",
      "*** Training of classifier ready. Time elapsed: 144.802ms\n",
      "\n"
     ]
    },
    {
     "name": "stderr",
     "output_type": "stream",
     "text": [
      "Data with input dtype bool, float64 were all converted to float64 by StandardScaler.\n",
      "Data with input dtype bool, float64 were all converted to float64 by StandardScaler.\n",
      "Data with input dtype bool, float64 were all converted to float64 by StandardScaler.\n"
     ]
    },
    {
     "name": "stdout",
     "output_type": "stream",
     "text": [
      "*** Training of model 'GradientBoostingClassifier' started.\n",
      "*** Training of classifier ready. Time elapsed: 260.018ms\n",
      "\n"
     ]
    },
    {
     "name": "stderr",
     "output_type": "stream",
     "text": [
      "Data with input dtype bool, float64 were all converted to float64 by StandardScaler.\n",
      "Data with input dtype bool, float64 were all converted to float64 by StandardScaler.\n",
      "Data with input dtype bool, float64 were all converted to float64 by StandardScaler.\n"
     ]
    },
    {
     "name": "stdout",
     "output_type": "stream",
     "text": [
      "*** Training of model 'GradientBoostingClassifier' started.\n",
      "*** Training of classifier ready. Time elapsed: 683.167ms\n",
      "\n"
     ]
    },
    {
     "name": "stderr",
     "output_type": "stream",
     "text": [
      "Data with input dtype bool, float64 were all converted to float64 by StandardScaler.\n",
      "Data with input dtype bool, float64 were all converted to float64 by StandardScaler.\n",
      "Data with input dtype bool, float64 were all converted to float64 by StandardScaler.\n"
     ]
    },
    {
     "name": "stdout",
     "output_type": "stream",
     "text": [
      "*** Training of model 'GradientBoostingClassifier' started.\n",
      "*** Training of classifier ready. Time elapsed: 56.637ms\n",
      "\n"
     ]
    },
    {
     "name": "stderr",
     "output_type": "stream",
     "text": [
      "Data with input dtype bool, float64 were all converted to float64 by StandardScaler.\n",
      "Data with input dtype bool, float64 were all converted to float64 by StandardScaler.\n",
      "Data with input dtype bool, float64 were all converted to float64 by StandardScaler.\n"
     ]
    },
    {
     "name": "stdout",
     "output_type": "stream",
     "text": [
      "*** Training of model 'GradientBoostingClassifier' started.\n",
      "*** Training of classifier ready. Time elapsed: 984.91ms\n",
      "\n"
     ]
    },
    {
     "name": "stderr",
     "output_type": "stream",
     "text": [
      "Data with input dtype bool, float64 were all converted to float64 by StandardScaler.\n",
      "Data with input dtype bool, float64 were all converted to float64 by StandardScaler.\n",
      "Data with input dtype bool, float64 were all converted to float64 by StandardScaler.\n"
     ]
    },
    {
     "name": "stdout",
     "output_type": "stream",
     "text": [
      "*** Training of model 'GradientBoostingClassifier' started.\n",
      "*** Training of classifier ready. Time elapsed: 21.249ms\n",
      "\n"
     ]
    },
    {
     "name": "stderr",
     "output_type": "stream",
     "text": [
      "Data with input dtype bool, float64 were all converted to float64 by StandardScaler.\n",
      "Data with input dtype bool, float64 were all converted to float64 by StandardScaler.\n",
      "Data with input dtype bool, float64 were all converted to float64 by StandardScaler.\n"
     ]
    },
    {
     "name": "stdout",
     "output_type": "stream",
     "text": [
      "*** Training of model 'GradientBoostingClassifier' started.\n",
      "*** Training of classifier ready. Time elapsed: 32.634ms\n",
      "\n"
     ]
    },
    {
     "name": "stderr",
     "output_type": "stream",
     "text": [
      "Data with input dtype bool, float64 were all converted to float64 by StandardScaler.\n",
      "Data with input dtype bool, float64 were all converted to float64 by StandardScaler.\n",
      "Data with input dtype bool, float64 were all converted to float64 by StandardScaler.\n"
     ]
    },
    {
     "name": "stdout",
     "output_type": "stream",
     "text": [
      "*** Training of model 'GradientBoostingClassifier' started.\n",
      "*** Training of classifier ready. Time elapsed: 32.829ms\n",
      "\n"
     ]
    },
    {
     "name": "stderr",
     "output_type": "stream",
     "text": [
      "Data with input dtype bool, float64 were all converted to float64 by StandardScaler.\n",
      "Data with input dtype bool, float64 were all converted to float64 by StandardScaler.\n",
      "Data with input dtype bool, float64 were all converted to float64 by StandardScaler.\n"
     ]
    },
    {
     "name": "stdout",
     "output_type": "stream",
     "text": [
      "*** Training of model 'GradientBoostingClassifier' started.\n",
      "*** Training of classifier ready. Time elapsed: 14.318ms\n",
      "\n"
     ]
    },
    {
     "name": "stderr",
     "output_type": "stream",
     "text": [
      "Data with input dtype bool, float64 were all converted to float64 by StandardScaler.\n",
      "Data with input dtype bool, float64 were all converted to float64 by StandardScaler.\n",
      "Data with input dtype bool, float64 were all converted to float64 by StandardScaler.\n"
     ]
    },
    {
     "name": "stdout",
     "output_type": "stream",
     "text": [
      "*** Training of model 'GradientBoostingClassifier' started.\n",
      "*** Training of classifier ready. Time elapsed: 823.59ms\n",
      "\n"
     ]
    },
    {
     "name": "stderr",
     "output_type": "stream",
     "text": [
      "Data with input dtype bool, float64 were all converted to float64 by StandardScaler.\n",
      "Data with input dtype bool, float64 were all converted to float64 by StandardScaler.\n",
      "Data with input dtype bool, float64 were all converted to float64 by StandardScaler.\n"
     ]
    },
    {
     "name": "stdout",
     "output_type": "stream",
     "text": [
      "*** Training of model 'GradientBoostingClassifier' started.\n",
      "*** Training of classifier ready. Time elapsed: 638.763ms\n",
      "\n"
     ]
    },
    {
     "name": "stderr",
     "output_type": "stream",
     "text": [
      "Data with input dtype bool, float64 were all converted to float64 by StandardScaler.\n",
      "Data with input dtype bool, float64 were all converted to float64 by StandardScaler.\n",
      "Data with input dtype bool, float64 were all converted to float64 by StandardScaler.\n"
     ]
    },
    {
     "name": "stdout",
     "output_type": "stream",
     "text": [
      "*** Training of model 'GradientBoostingClassifier' started.\n",
      "*** Training of classifier ready. Time elapsed: 153.761ms\n",
      "\n"
     ]
    },
    {
     "name": "stderr",
     "output_type": "stream",
     "text": [
      "Data with input dtype bool, float64 were all converted to float64 by StandardScaler.\n",
      "Data with input dtype bool, float64 were all converted to float64 by StandardScaler.\n",
      "Data with input dtype bool, float64 were all converted to float64 by StandardScaler.\n"
     ]
    },
    {
     "name": "stdout",
     "output_type": "stream",
     "text": [
      "*** Training of model 'GradientBoostingClassifier' started.\n",
      "*** Training of classifier ready. Time elapsed: 280.929ms\n",
      "\n"
     ]
    },
    {
     "name": "stderr",
     "output_type": "stream",
     "text": [
      "Data with input dtype bool, float64 were all converted to float64 by StandardScaler.\n",
      "Data with input dtype bool, float64 were all converted to float64 by StandardScaler.\n",
      "Data with input dtype bool, float64 were all converted to float64 by StandardScaler.\n"
     ]
    },
    {
     "name": "stdout",
     "output_type": "stream",
     "text": [
      "*** Training of model 'GradientBoostingClassifier' started.\n",
      "*** Training of classifier ready. Time elapsed: 138.501ms\n",
      "\n"
     ]
    },
    {
     "name": "stderr",
     "output_type": "stream",
     "text": [
      "Data with input dtype bool, float64 were all converted to float64 by StandardScaler.\n",
      "Data with input dtype bool, float64 were all converted to float64 by StandardScaler.\n",
      "Data with input dtype bool, float64 were all converted to float64 by StandardScaler.\n"
     ]
    },
    {
     "name": "stdout",
     "output_type": "stream",
     "text": [
      "*** Training of model 'GradientBoostingClassifier' started.\n",
      "*** Training of classifier ready. Time elapsed: 872.705ms\n",
      "\n"
     ]
    },
    {
     "name": "stderr",
     "output_type": "stream",
     "text": [
      "Data with input dtype bool, float64 were all converted to float64 by StandardScaler.\n",
      "Data with input dtype bool, float64 were all converted to float64 by StandardScaler.\n",
      "Data with input dtype bool, float64 were all converted to float64 by StandardScaler.\n"
     ]
    },
    {
     "name": "stdout",
     "output_type": "stream",
     "text": [
      "*** Training of model 'GradientBoostingClassifier' started.\n",
      "*** Training of classifier ready. Time elapsed: 576.148ms\n",
      "\n"
     ]
    },
    {
     "name": "stderr",
     "output_type": "stream",
     "text": [
      "Data with input dtype bool, float64 were all converted to float64 by StandardScaler.\n",
      "Data with input dtype bool, float64 were all converted to float64 by StandardScaler.\n",
      "Data with input dtype bool, float64 were all converted to float64 by StandardScaler.\n"
     ]
    },
    {
     "name": "stdout",
     "output_type": "stream",
     "text": [
      "*** Training of model 'GradientBoostingClassifier' started.\n",
      "*** Training of classifier ready. Time elapsed: 856.765ms\n",
      "\n"
     ]
    },
    {
     "name": "stderr",
     "output_type": "stream",
     "text": [
      "Data with input dtype bool, float64 were all converted to float64 by StandardScaler.\n",
      "Data with input dtype bool, float64 were all converted to float64 by StandardScaler.\n",
      "Data with input dtype bool, float64 were all converted to float64 by StandardScaler.\n"
     ]
    },
    {
     "name": "stdout",
     "output_type": "stream",
     "text": [
      "*** Training of model 'GradientBoostingClassifier' started.\n",
      "*** Training of classifier ready. Time elapsed: 626.368ms\n",
      "\n"
     ]
    },
    {
     "name": "stderr",
     "output_type": "stream",
     "text": [
      "Data with input dtype bool, float64 were all converted to float64 by StandardScaler.\n",
      "Data with input dtype bool, float64 were all converted to float64 by StandardScaler.\n",
      "Data with input dtype bool, float64 were all converted to float64 by StandardScaler.\n"
     ]
    },
    {
     "name": "stdout",
     "output_type": "stream",
     "text": [
      "*** Training of model 'GradientBoostingClassifier' started.\n",
      "*** Training of classifier ready. Time elapsed: 780.667ms\n",
      "\n"
     ]
    },
    {
     "name": "stderr",
     "output_type": "stream",
     "text": [
      "Data with input dtype bool, float64 were all converted to float64 by StandardScaler.\n",
      "Data with input dtype bool, float64 were all converted to float64 by StandardScaler.\n",
      "Data with input dtype bool, float64 were all converted to float64 by StandardScaler.\n"
     ]
    },
    {
     "name": "stdout",
     "output_type": "stream",
     "text": [
      "*** Training of model 'RandomForestClassifier' started.\n",
      "*** Training of classifier ready. Time elapsed: 962.772ms\n",
      "\n"
     ]
    },
    {
     "name": "stderr",
     "output_type": "stream",
     "text": [
      "F-score is ill-defined and being set to 0.0 due to no predicted samples.\n",
      "Precision is ill-defined and being set to 0.0 due to no predicted samples.\n",
      "invalid value encountered in long_scalars\n",
      "Data with input dtype bool, float64 were all converted to float64 by StandardScaler.\n",
      "Data with input dtype bool, float64 were all converted to float64 by StandardScaler.\n",
      "Data with input dtype bool, float64 were all converted to float64 by StandardScaler.\n"
     ]
    },
    {
     "name": "stdout",
     "output_type": "stream",
     "text": [
      "*** Training of model 'RandomForestClassifier' started.\n",
      "*** Training of classifier ready. Time elapsed: 98.311ms\n",
      "\n"
     ]
    },
    {
     "name": "stderr",
     "output_type": "stream",
     "text": [
      "F-score is ill-defined and being set to 0.0 due to no predicted samples.\n",
      "Precision is ill-defined and being set to 0.0 due to no predicted samples.\n",
      "invalid value encountered in long_scalars\n",
      "Data with input dtype bool, float64 were all converted to float64 by StandardScaler.\n",
      "Data with input dtype bool, float64 were all converted to float64 by StandardScaler.\n",
      "Data with input dtype bool, float64 were all converted to float64 by StandardScaler.\n"
     ]
    },
    {
     "name": "stdout",
     "output_type": "stream",
     "text": [
      "*** Training of model 'RandomForestClassifier' started.\n",
      "*** Training of classifier ready. Time elapsed: 678.495ms\n",
      "\n"
     ]
    },
    {
     "name": "stderr",
     "output_type": "stream",
     "text": [
      "F-score is ill-defined and being set to 0.0 due to no predicted samples.\n",
      "Precision is ill-defined and being set to 0.0 due to no predicted samples.\n",
      "invalid value encountered in long_scalars\n",
      "Data with input dtype bool, float64 were all converted to float64 by StandardScaler.\n",
      "Data with input dtype bool, float64 were all converted to float64 by StandardScaler.\n",
      "Data with input dtype bool, float64 were all converted to float64 by StandardScaler.\n"
     ]
    },
    {
     "name": "stdout",
     "output_type": "stream",
     "text": [
      "*** Training of model 'RandomForestClassifier' started.\n",
      "*** Training of classifier ready. Time elapsed: 848.011ms\n",
      "\n"
     ]
    },
    {
     "name": "stderr",
     "output_type": "stream",
     "text": [
      "F-score is ill-defined and being set to 0.0 due to no predicted samples.\n",
      "Precision is ill-defined and being set to 0.0 due to no predicted samples.\n",
      "invalid value encountered in long_scalars\n",
      "Data with input dtype bool, float64 were all converted to float64 by StandardScaler.\n",
      "Data with input dtype bool, float64 were all converted to float64 by StandardScaler.\n",
      "Data with input dtype bool, float64 were all converted to float64 by StandardScaler.\n"
     ]
    },
    {
     "name": "stdout",
     "output_type": "stream",
     "text": [
      "*** Training of model 'RandomForestClassifier' started.\n",
      "*** Training of classifier ready. Time elapsed: 841.172ms\n",
      "\n"
     ]
    },
    {
     "name": "stderr",
     "output_type": "stream",
     "text": [
      "F-score is ill-defined and being set to 0.0 due to no predicted samples.\n",
      "Precision is ill-defined and being set to 0.0 due to no predicted samples.\n",
      "invalid value encountered in long_scalars\n",
      "Data with input dtype bool, float64 were all converted to float64 by StandardScaler.\n",
      "Data with input dtype bool, float64 were all converted to float64 by StandardScaler.\n",
      "Data with input dtype bool, float64 were all converted to float64 by StandardScaler.\n"
     ]
    },
    {
     "name": "stdout",
     "output_type": "stream",
     "text": [
      "*** Training of model 'RandomForestClassifier' started.\n",
      "*** Training of classifier ready. Time elapsed: 612.65ms\n",
      "\n"
     ]
    },
    {
     "name": "stderr",
     "output_type": "stream",
     "text": [
      "Data with input dtype bool, float64 were all converted to float64 by StandardScaler.\n",
      "Data with input dtype bool, float64 were all converted to float64 by StandardScaler.\n",
      "Data with input dtype bool, float64 were all converted to float64 by StandardScaler.\n"
     ]
    },
    {
     "name": "stdout",
     "output_type": "stream",
     "text": [
      "*** Training of model 'RandomForestClassifier' started.\n",
      "*** Training of classifier ready. Time elapsed: 398.349ms\n",
      "\n"
     ]
    },
    {
     "name": "stderr",
     "output_type": "stream",
     "text": [
      "Data with input dtype bool, float64 were all converted to float64 by StandardScaler.\n",
      "Data with input dtype bool, float64 were all converted to float64 by StandardScaler.\n",
      "Data with input dtype bool, float64 were all converted to float64 by StandardScaler.\n"
     ]
    },
    {
     "name": "stdout",
     "output_type": "stream",
     "text": [
      "*** Training of model 'RandomForestClassifier' started.\n",
      "*** Training of classifier ready. Time elapsed: 419.037ms\n",
      "\n"
     ]
    },
    {
     "name": "stderr",
     "output_type": "stream",
     "text": [
      "Data with input dtype bool, float64 were all converted to float64 by StandardScaler.\n",
      "Data with input dtype bool, float64 were all converted to float64 by StandardScaler.\n",
      "Data with input dtype bool, float64 were all converted to float64 by StandardScaler.\n"
     ]
    },
    {
     "name": "stdout",
     "output_type": "stream",
     "text": [
      "*** Training of model 'RandomForestClassifier' started.\n",
      "*** Training of classifier ready. Time elapsed: 477.123ms\n",
      "\n"
     ]
    },
    {
     "name": "stderr",
     "output_type": "stream",
     "text": [
      "Data with input dtype bool, float64 were all converted to float64 by StandardScaler.\n",
      "Data with input dtype bool, float64 were all converted to float64 by StandardScaler.\n",
      "Data with input dtype bool, float64 were all converted to float64 by StandardScaler.\n"
     ]
    },
    {
     "name": "stdout",
     "output_type": "stream",
     "text": [
      "*** Training of model 'RandomForestClassifier' started.\n",
      "*** Training of classifier ready. Time elapsed: 426.439ms\n",
      "\n"
     ]
    },
    {
     "name": "stderr",
     "output_type": "stream",
     "text": [
      "Data with input dtype bool, float64 were all converted to float64 by StandardScaler.\n",
      "Data with input dtype bool, float64 were all converted to float64 by StandardScaler.\n",
      "Data with input dtype bool, float64 were all converted to float64 by StandardScaler.\n"
     ]
    },
    {
     "name": "stdout",
     "output_type": "stream",
     "text": [
      "*** Training of model 'RandomForestClassifier' started.\n",
      "*** Training of classifier ready. Time elapsed: 227.097ms\n",
      "\n"
     ]
    },
    {
     "name": "stderr",
     "output_type": "stream",
     "text": [
      "Data with input dtype bool, float64 were all converted to float64 by StandardScaler.\n",
      "Data with input dtype bool, float64 were all converted to float64 by StandardScaler.\n",
      "Data with input dtype bool, float64 were all converted to float64 by StandardScaler.\n"
     ]
    },
    {
     "name": "stdout",
     "output_type": "stream",
     "text": [
      "*** Training of model 'RandomForestClassifier' started.\n",
      "*** Training of classifier ready. Time elapsed: 207.958ms\n",
      "\n"
     ]
    },
    {
     "name": "stderr",
     "output_type": "stream",
     "text": [
      "Data with input dtype bool, float64 were all converted to float64 by StandardScaler.\n",
      "Data with input dtype bool, float64 were all converted to float64 by StandardScaler.\n",
      "Data with input dtype bool, float64 were all converted to float64 by StandardScaler.\n"
     ]
    },
    {
     "name": "stdout",
     "output_type": "stream",
     "text": [
      "*** Training of model 'RandomForestClassifier' started.\n",
      "*** Training of classifier ready. Time elapsed: 819.091ms\n",
      "\n"
     ]
    },
    {
     "name": "stderr",
     "output_type": "stream",
     "text": [
      "Data with input dtype bool, float64 were all converted to float64 by StandardScaler.\n",
      "Data with input dtype bool, float64 were all converted to float64 by StandardScaler.\n",
      "Data with input dtype bool, float64 were all converted to float64 by StandardScaler.\n"
     ]
    },
    {
     "name": "stdout",
     "output_type": "stream",
     "text": [
      "*** Training of model 'RandomForestClassifier' started.\n",
      "*** Training of classifier ready. Time elapsed: 39.206ms\n",
      "\n"
     ]
    },
    {
     "name": "stderr",
     "output_type": "stream",
     "text": [
      "Data with input dtype bool, float64 were all converted to float64 by StandardScaler.\n",
      "Data with input dtype bool, float64 were all converted to float64 by StandardScaler.\n",
      "Data with input dtype bool, float64 were all converted to float64 by StandardScaler.\n"
     ]
    },
    {
     "name": "stdout",
     "output_type": "stream",
     "text": [
      "*** Training of model 'RandomForestClassifier' started.\n",
      "*** Training of classifier ready. Time elapsed: 71.97ms\n",
      "\n"
     ]
    },
    {
     "name": "stderr",
     "output_type": "stream",
     "text": [
      "Data with input dtype bool, float64 were all converted to float64 by StandardScaler.\n",
      "Data with input dtype bool, float64 were all converted to float64 by StandardScaler.\n",
      "Data with input dtype bool, float64 were all converted to float64 by StandardScaler.\n"
     ]
    },
    {
     "name": "stdout",
     "output_type": "stream",
     "text": [
      "*** Training of model 'RandomForestClassifier' started.\n",
      "*** Training of classifier ready. Time elapsed: 729.685ms\n",
      "\n"
     ]
    },
    {
     "name": "stderr",
     "output_type": "stream",
     "text": [
      "F-score is ill-defined and being set to 0.0 due to no predicted samples.\n",
      "Precision is ill-defined and being set to 0.0 due to no predicted samples.\n",
      "invalid value encountered in long_scalars\n",
      "Data with input dtype bool, float64 were all converted to float64 by StandardScaler.\n",
      "Data with input dtype bool, float64 were all converted to float64 by StandardScaler.\n",
      "Data with input dtype bool, float64 were all converted to float64 by StandardScaler.\n"
     ]
    },
    {
     "name": "stdout",
     "output_type": "stream",
     "text": [
      "*** Training of model 'RandomForestClassifier' started.\n",
      "*** Training of classifier ready. Time elapsed: 698.975ms\n",
      "\n"
     ]
    },
    {
     "name": "stderr",
     "output_type": "stream",
     "text": [
      "F-score is ill-defined and being set to 0.0 due to no predicted samples.\n",
      "Precision is ill-defined and being set to 0.0 due to no predicted samples.\n",
      "invalid value encountered in long_scalars\n",
      "Data with input dtype bool, float64 were all converted to float64 by StandardScaler.\n",
      "Data with input dtype bool, float64 were all converted to float64 by StandardScaler.\n",
      "Data with input dtype bool, float64 were all converted to float64 by StandardScaler.\n"
     ]
    },
    {
     "name": "stdout",
     "output_type": "stream",
     "text": [
      "*** Training of model 'RandomForestClassifier' started.\n",
      "*** Training of classifier ready. Time elapsed: 717.074ms\n",
      "\n"
     ]
    },
    {
     "name": "stderr",
     "output_type": "stream",
     "text": [
      "F-score is ill-defined and being set to 0.0 due to no predicted samples.\n",
      "Precision is ill-defined and being set to 0.0 due to no predicted samples.\n",
      "invalid value encountered in long_scalars\n",
      "Data with input dtype bool, float64 were all converted to float64 by StandardScaler.\n",
      "Data with input dtype bool, float64 were all converted to float64 by StandardScaler.\n",
      "Data with input dtype bool, float64 were all converted to float64 by StandardScaler.\n"
     ]
    },
    {
     "name": "stdout",
     "output_type": "stream",
     "text": [
      "*** Training of model 'RandomForestClassifier' started.\n",
      "*** Training of classifier ready. Time elapsed: 723.26ms\n",
      "\n"
     ]
    },
    {
     "name": "stderr",
     "output_type": "stream",
     "text": [
      "F-score is ill-defined and being set to 0.0 due to no predicted samples.\n",
      "Precision is ill-defined and being set to 0.0 due to no predicted samples.\n",
      "invalid value encountered in long_scalars\n",
      "Data with input dtype bool, float64 were all converted to float64 by StandardScaler.\n",
      "Data with input dtype bool, float64 were all converted to float64 by StandardScaler.\n",
      "Data with input dtype bool, float64 were all converted to float64 by StandardScaler.\n"
     ]
    },
    {
     "name": "stdout",
     "output_type": "stream",
     "text": [
      "*** Training of model 'RandomForestClassifier' started.\n",
      "*** Training of classifier ready. Time elapsed: 725.44ms\n",
      "\n"
     ]
    },
    {
     "name": "stderr",
     "output_type": "stream",
     "text": [
      "F-score is ill-defined and being set to 0.0 due to no predicted samples.\n",
      "Precision is ill-defined and being set to 0.0 due to no predicted samples.\n",
      "invalid value encountered in long_scalars\n",
      "Data with input dtype bool, float64 were all converted to float64 by StandardScaler.\n",
      "Data with input dtype bool, float64 were all converted to float64 by StandardScaler.\n",
      "Data with input dtype bool, float64 were all converted to float64 by StandardScaler.\n"
     ]
    },
    {
     "name": "stdout",
     "output_type": "stream",
     "text": [
      "*** Training of model 'DecisionTreeClassifier' started.\n",
      "*** Training of classifier ready. Time elapsed: 254.908ms\n",
      "\n"
     ]
    },
    {
     "name": "stderr",
     "output_type": "stream",
     "text": [
      "Data with input dtype bool, float64 were all converted to float64 by StandardScaler.\n",
      "Data with input dtype bool, float64 were all converted to float64 by StandardScaler.\n",
      "Data with input dtype bool, float64 were all converted to float64 by StandardScaler.\n"
     ]
    },
    {
     "name": "stdout",
     "output_type": "stream",
     "text": [
      "*** Training of model 'DecisionTreeClassifier' started.\n",
      "*** Training of classifier ready. Time elapsed: 272.793ms\n",
      "\n"
     ]
    },
    {
     "name": "stderr",
     "output_type": "stream",
     "text": [
      "Data with input dtype bool, float64 were all converted to float64 by StandardScaler.\n",
      "Data with input dtype bool, float64 were all converted to float64 by StandardScaler.\n",
      "Data with input dtype bool, float64 were all converted to float64 by StandardScaler.\n"
     ]
    },
    {
     "name": "stdout",
     "output_type": "stream",
     "text": [
      "*** Training of model 'DecisionTreeClassifier' started.\n",
      "*** Training of classifier ready. Time elapsed: 274.62ms\n",
      "\n"
     ]
    },
    {
     "name": "stderr",
     "output_type": "stream",
     "text": [
      "Data with input dtype bool, float64 were all converted to float64 by StandardScaler.\n",
      "Data with input dtype bool, float64 were all converted to float64 by StandardScaler.\n",
      "Data with input dtype bool, float64 were all converted to float64 by StandardScaler.\n"
     ]
    },
    {
     "name": "stdout",
     "output_type": "stream",
     "text": [
      "*** Training of model 'DecisionTreeClassifier' started.\n",
      "*** Training of classifier ready. Time elapsed: 264.872ms\n",
      "\n"
     ]
    },
    {
     "name": "stderr",
     "output_type": "stream",
     "text": [
      "Data with input dtype bool, float64 were all converted to float64 by StandardScaler.\n",
      "Data with input dtype bool, float64 were all converted to float64 by StandardScaler.\n",
      "Data with input dtype bool, float64 were all converted to float64 by StandardScaler.\n"
     ]
    },
    {
     "name": "stdout",
     "output_type": "stream",
     "text": [
      "*** Training of model 'DecisionTreeClassifier' started.\n",
      "*** Training of classifier ready. Time elapsed: 275.338ms\n",
      "\n"
     ]
    },
    {
     "name": "stderr",
     "output_type": "stream",
     "text": [
      "Data with input dtype bool, float64 were all converted to float64 by StandardScaler.\n",
      "Data with input dtype bool, float64 were all converted to float64 by StandardScaler.\n",
      "Data with input dtype bool, float64 were all converted to float64 by StandardScaler.\n"
     ]
    },
    {
     "name": "stdout",
     "output_type": "stream",
     "text": [
      "*** Training of model 'DecisionTreeClassifier' started.\n",
      "*** Training of classifier ready. Time elapsed: 17.148ms\n",
      "\n"
     ]
    },
    {
     "name": "stderr",
     "output_type": "stream",
     "text": [
      "Data with input dtype bool, float64 were all converted to float64 by StandardScaler.\n",
      "Data with input dtype bool, float64 were all converted to float64 by StandardScaler.\n",
      "Data with input dtype bool, float64 were all converted to float64 by StandardScaler.\n"
     ]
    },
    {
     "name": "stdout",
     "output_type": "stream",
     "text": [
      "*** Training of model 'DecisionTreeClassifier' started.\n",
      "*** Training of classifier ready. Time elapsed: 17.095ms\n",
      "\n"
     ]
    },
    {
     "name": "stderr",
     "output_type": "stream",
     "text": [
      "Data with input dtype bool, float64 were all converted to float64 by StandardScaler.\n",
      "Data with input dtype bool, float64 were all converted to float64 by StandardScaler.\n",
      "Data with input dtype bool, float64 were all converted to float64 by StandardScaler.\n"
     ]
    },
    {
     "name": "stdout",
     "output_type": "stream",
     "text": [
      "*** Training of model 'DecisionTreeClassifier' started.\n",
      "*** Training of classifier ready. Time elapsed: 17.234ms\n",
      "\n"
     ]
    },
    {
     "name": "stderr",
     "output_type": "stream",
     "text": [
      "Data with input dtype bool, float64 were all converted to float64 by StandardScaler.\n",
      "Data with input dtype bool, float64 were all converted to float64 by StandardScaler.\n",
      "Data with input dtype bool, float64 were all converted to float64 by StandardScaler.\n"
     ]
    },
    {
     "name": "stdout",
     "output_type": "stream",
     "text": [
      "*** Training of model 'DecisionTreeClassifier' started.\n",
      "*** Training of classifier ready. Time elapsed: 38.666ms\n",
      "\n"
     ]
    },
    {
     "name": "stderr",
     "output_type": "stream",
     "text": [
      "Data with input dtype bool, float64 were all converted to float64 by StandardScaler.\n",
      "Data with input dtype bool, float64 were all converted to float64 by StandardScaler.\n",
      "Data with input dtype bool, float64 were all converted to float64 by StandardScaler.\n"
     ]
    },
    {
     "name": "stdout",
     "output_type": "stream",
     "text": [
      "*** Training of model 'DecisionTreeClassifier' started.\n",
      "*** Training of classifier ready. Time elapsed: 36.677ms\n",
      "\n"
     ]
    },
    {
     "name": "stderr",
     "output_type": "stream",
     "text": [
      "Data with input dtype bool, float64 were all converted to float64 by StandardScaler.\n",
      "Data with input dtype bool, float64 were all converted to float64 by StandardScaler.\n",
      "Data with input dtype bool, float64 were all converted to float64 by StandardScaler.\n"
     ]
    },
    {
     "name": "stdout",
     "output_type": "stream",
     "text": [
      "*** Training of model 'DecisionTreeClassifier' started.\n",
      "*** Training of classifier ready. Time elapsed: 438.693ms\n",
      "\n"
     ]
    },
    {
     "name": "stderr",
     "output_type": "stream",
     "text": [
      "Data with input dtype bool, float64 were all converted to float64 by StandardScaler.\n",
      "Data with input dtype bool, float64 were all converted to float64 by StandardScaler.\n",
      "Data with input dtype bool, float64 were all converted to float64 by StandardScaler.\n"
     ]
    },
    {
     "name": "stdout",
     "output_type": "stream",
     "text": [
      "*** Training of model 'DecisionTreeClassifier' started.\n",
      "*** Training of classifier ready. Time elapsed: 348.632ms\n",
      "\n"
     ]
    },
    {
     "name": "stderr",
     "output_type": "stream",
     "text": [
      "Data with input dtype bool, float64 were all converted to float64 by StandardScaler.\n",
      "Data with input dtype bool, float64 were all converted to float64 by StandardScaler.\n",
      "Data with input dtype bool, float64 were all converted to float64 by StandardScaler.\n"
     ]
    },
    {
     "name": "stdout",
     "output_type": "stream",
     "text": [
      "*** Training of model 'DecisionTreeClassifier' started.\n",
      "*** Training of classifier ready. Time elapsed: 325.248ms\n",
      "\n"
     ]
    },
    {
     "name": "stderr",
     "output_type": "stream",
     "text": [
      "Data with input dtype bool, float64 were all converted to float64 by StandardScaler.\n",
      "Data with input dtype bool, float64 were all converted to float64 by StandardScaler.\n",
      "Data with input dtype bool, float64 were all converted to float64 by StandardScaler.\n"
     ]
    },
    {
     "name": "stdout",
     "output_type": "stream",
     "text": [
      "*** Training of model 'DecisionTreeClassifier' started.\n",
      "*** Training of classifier ready. Time elapsed: 683.6ms\n",
      "\n"
     ]
    },
    {
     "name": "stderr",
     "output_type": "stream",
     "text": [
      "Data with input dtype bool, float64 were all converted to float64 by StandardScaler.\n",
      "Data with input dtype bool, float64 were all converted to float64 by StandardScaler.\n",
      "Data with input dtype bool, float64 were all converted to float64 by StandardScaler.\n"
     ]
    },
    {
     "name": "stdout",
     "output_type": "stream",
     "text": [
      "*** Training of model 'DecisionTreeClassifier' started.\n",
      "*** Training of classifier ready. Time elapsed: 352.261ms\n",
      "\n"
     ]
    },
    {
     "name": "stderr",
     "output_type": "stream",
     "text": [
      "Data with input dtype bool, float64 were all converted to float64 by StandardScaler.\n",
      "Data with input dtype bool, float64 were all converted to float64 by StandardScaler.\n",
      "Data with input dtype bool, float64 were all converted to float64 by StandardScaler.\n"
     ]
    },
    {
     "name": "stdout",
     "output_type": "stream",
     "text": [
      "*** Training of model 'DecisionTreeClassifier' started.\n",
      "*** Training of classifier ready. Time elapsed: 123.752ms\n",
      "\n"
     ]
    },
    {
     "name": "stderr",
     "output_type": "stream",
     "text": [
      "Data with input dtype bool, float64 were all converted to float64 by StandardScaler.\n",
      "Data with input dtype bool, float64 were all converted to float64 by StandardScaler.\n",
      "Data with input dtype bool, float64 were all converted to float64 by StandardScaler.\n"
     ]
    },
    {
     "name": "stdout",
     "output_type": "stream",
     "text": [
      "*** Training of model 'DecisionTreeClassifier' started.\n",
      "*** Training of classifier ready. Time elapsed: 216.238ms\n",
      "\n"
     ]
    },
    {
     "name": "stderr",
     "output_type": "stream",
     "text": [
      "Data with input dtype bool, float64 were all converted to float64 by StandardScaler.\n",
      "Data with input dtype bool, float64 were all converted to float64 by StandardScaler.\n",
      "Data with input dtype bool, float64 were all converted to float64 by StandardScaler.\n"
     ]
    },
    {
     "name": "stdout",
     "output_type": "stream",
     "text": [
      "*** Training of model 'DecisionTreeClassifier' started.\n",
      "*** Training of classifier ready. Time elapsed: 209.484ms\n",
      "\n"
     ]
    },
    {
     "name": "stderr",
     "output_type": "stream",
     "text": [
      "Data with input dtype bool, float64 were all converted to float64 by StandardScaler.\n",
      "Data with input dtype bool, float64 were all converted to float64 by StandardScaler.\n",
      "Data with input dtype bool, float64 were all converted to float64 by StandardScaler.\n"
     ]
    },
    {
     "name": "stdout",
     "output_type": "stream",
     "text": [
      "*** Training of model 'DecisionTreeClassifier' started.\n",
      "*** Training of classifier ready. Time elapsed: 117.759ms\n",
      "\n"
     ]
    },
    {
     "name": "stderr",
     "output_type": "stream",
     "text": [
      "Data with input dtype bool, float64 were all converted to float64 by StandardScaler.\n",
      "Data with input dtype bool, float64 were all converted to float64 by StandardScaler.\n",
      "Data with input dtype bool, float64 were all converted to float64 by StandardScaler.\n"
     ]
    },
    {
     "name": "stdout",
     "output_type": "stream",
     "text": [
      "*** Training of model 'DecisionTreeClassifier' started.\n",
      "*** Training of classifier ready. Time elapsed: 105.698ms\n",
      "\n"
     ]
    },
    {
     "name": "stderr",
     "output_type": "stream",
     "text": [
      "Data with input dtype bool, float64 were all converted to float64 by StandardScaler.\n",
      "Data with input dtype bool, float64 were all converted to float64 by StandardScaler.\n",
      "Data with input dtype bool, float64 were all converted to float64 by StandardScaler.\n"
     ]
    },
    {
     "name": "stdout",
     "output_type": "stream",
     "text": [
      "*** Training of model 'LogisticRegression' started.\n",
      "*** Training of classifier ready. Time elapsed: 352.096ms\n",
      "\n"
     ]
    },
    {
     "name": "stderr",
     "output_type": "stream",
     "text": [
      "Data with input dtype bool, float64 were all converted to float64 by StandardScaler.\n",
      "Data with input dtype bool, float64 were all converted to float64 by StandardScaler.\n",
      "Data with input dtype bool, float64 were all converted to float64 by StandardScaler.\n"
     ]
    },
    {
     "name": "stdout",
     "output_type": "stream",
     "text": [
      "*** Training of model 'LogisticRegression' started.\n",
      "*** Training of classifier ready. Time elapsed: 551.743ms\n",
      "\n"
     ]
    },
    {
     "name": "stderr",
     "output_type": "stream",
     "text": [
      "Data with input dtype bool, float64 were all converted to float64 by StandardScaler.\n",
      "Data with input dtype bool, float64 were all converted to float64 by StandardScaler.\n",
      "Data with input dtype bool, float64 were all converted to float64 by StandardScaler.\n"
     ]
    },
    {
     "name": "stdout",
     "output_type": "stream",
     "text": [
      "*** Training of model 'LogisticRegression' started.\n",
      "*** Training of classifier ready. Time elapsed: 432.603ms\n",
      "\n"
     ]
    },
    {
     "name": "stderr",
     "output_type": "stream",
     "text": [
      "Data with input dtype bool, float64 were all converted to float64 by StandardScaler.\n",
      "Data with input dtype bool, float64 were all converted to float64 by StandardScaler.\n",
      "Data with input dtype bool, float64 were all converted to float64 by StandardScaler.\n"
     ]
    },
    {
     "name": "stdout",
     "output_type": "stream",
     "text": [
      "*** Training of model 'LogisticRegression' started.\n",
      "*** Training of classifier ready. Time elapsed: 263.843ms\n",
      "\n"
     ]
    },
    {
     "name": "stderr",
     "output_type": "stream",
     "text": [
      "Data with input dtype bool, float64 were all converted to float64 by StandardScaler.\n",
      "Data with input dtype bool, float64 were all converted to float64 by StandardScaler.\n",
      "Data with input dtype bool, float64 were all converted to float64 by StandardScaler.\n"
     ]
    },
    {
     "name": "stdout",
     "output_type": "stream",
     "text": [
      "*** Training of model 'LogisticRegression' started.\n",
      "*** Training of classifier ready. Time elapsed: 400.132ms\n",
      "\n"
     ]
    },
    {
     "name": "stderr",
     "output_type": "stream",
     "text": [
      "Data with input dtype bool, float64 were all converted to float64 by StandardScaler.\n",
      "Data with input dtype bool, float64 were all converted to float64 by StandardScaler.\n",
      "Data with input dtype bool, float64 were all converted to float64 by StandardScaler.\n"
     ]
    },
    {
     "name": "stdout",
     "output_type": "stream",
     "text": [
      "*** Training of model 'LogisticRegression' started.\n",
      "*** Training of classifier ready. Time elapsed: 924.454ms\n",
      "\n"
     ]
    },
    {
     "name": "stderr",
     "output_type": "stream",
     "text": [
      "Data with input dtype bool, float64 were all converted to float64 by StandardScaler.\n",
      "Data with input dtype bool, float64 were all converted to float64 by StandardScaler.\n",
      "Data with input dtype bool, float64 were all converted to float64 by StandardScaler.\n"
     ]
    },
    {
     "name": "stdout",
     "output_type": "stream",
     "text": [
      "*** Training of model 'LogisticRegression' started.\n",
      "*** Training of classifier ready. Time elapsed: 663.825ms\n",
      "\n"
     ]
    },
    {
     "name": "stderr",
     "output_type": "stream",
     "text": [
      "Data with input dtype bool, float64 were all converted to float64 by StandardScaler.\n",
      "Data with input dtype bool, float64 were all converted to float64 by StandardScaler.\n",
      "Data with input dtype bool, float64 were all converted to float64 by StandardScaler.\n"
     ]
    },
    {
     "name": "stdout",
     "output_type": "stream",
     "text": [
      "*** Training of model 'LogisticRegression' started.\n",
      "*** Training of classifier ready. Time elapsed: 791.232ms\n",
      "\n"
     ]
    },
    {
     "name": "stderr",
     "output_type": "stream",
     "text": [
      "Data with input dtype bool, float64 were all converted to float64 by StandardScaler.\n",
      "Data with input dtype bool, float64 were all converted to float64 by StandardScaler.\n",
      "Data with input dtype bool, float64 were all converted to float64 by StandardScaler.\n"
     ]
    },
    {
     "name": "stdout",
     "output_type": "stream",
     "text": [
      "*** Training of model 'LogisticRegression' started.\n",
      "*** Training of classifier ready. Time elapsed: 65.344ms\n",
      "\n"
     ]
    },
    {
     "name": "stderr",
     "output_type": "stream",
     "text": [
      "Data with input dtype bool, float64 were all converted to float64 by StandardScaler.\n",
      "Data with input dtype bool, float64 were all converted to float64 by StandardScaler.\n",
      "Data with input dtype bool, float64 were all converted to float64 by StandardScaler.\n"
     ]
    },
    {
     "name": "stdout",
     "output_type": "stream",
     "text": [
      "*** Training of model 'LogisticRegression' started.\n",
      "*** Training of classifier ready. Time elapsed: 539.765ms\n",
      "\n"
     ]
    },
    {
     "name": "stderr",
     "output_type": "stream",
     "text": [
      "Data with input dtype bool, float64 were all converted to float64 by StandardScaler.\n",
      "Data with input dtype bool, float64 were all converted to float64 by StandardScaler.\n",
      "Data with input dtype bool, float64 were all converted to float64 by StandardScaler.\n"
     ]
    },
    {
     "name": "stdout",
     "output_type": "stream",
     "text": [
      "*** Training of model 'LogisticRegression' started.\n",
      "*** Training of classifier ready. Time elapsed: 171.219ms\n",
      "\n"
     ]
    },
    {
     "name": "stderr",
     "output_type": "stream",
     "text": [
      "Data with input dtype bool, float64 were all converted to float64 by StandardScaler.\n",
      "Data with input dtype bool, float64 were all converted to float64 by StandardScaler.\n",
      "Data with input dtype bool, float64 were all converted to float64 by StandardScaler.\n"
     ]
    },
    {
     "name": "stdout",
     "output_type": "stream",
     "text": [
      "*** Training of model 'LogisticRegression' started.\n",
      "*** Training of classifier ready. Time elapsed: 104.79ms\n",
      "\n"
     ]
    },
    {
     "name": "stderr",
     "output_type": "stream",
     "text": [
      "Data with input dtype bool, float64 were all converted to float64 by StandardScaler.\n",
      "Data with input dtype bool, float64 were all converted to float64 by StandardScaler.\n",
      "Data with input dtype bool, float64 were all converted to float64 by StandardScaler.\n"
     ]
    },
    {
     "name": "stdout",
     "output_type": "stream",
     "text": [
      "*** Training of model 'LogisticRegression' started.\n",
      "*** Training of classifier ready. Time elapsed: 475.622ms\n",
      "\n"
     ]
    },
    {
     "name": "stderr",
     "output_type": "stream",
     "text": [
      "Data with input dtype bool, float64 were all converted to float64 by StandardScaler.\n",
      "Data with input dtype bool, float64 were all converted to float64 by StandardScaler.\n",
      "Data with input dtype bool, float64 were all converted to float64 by StandardScaler.\n"
     ]
    },
    {
     "name": "stdout",
     "output_type": "stream",
     "text": [
      "*** Training of model 'LogisticRegression' started.\n",
      "*** Training of classifier ready. Time elapsed: 754.293ms\n",
      "\n"
     ]
    },
    {
     "name": "stderr",
     "output_type": "stream",
     "text": [
      "Data with input dtype bool, float64 were all converted to float64 by StandardScaler.\n",
      "Data with input dtype bool, float64 were all converted to float64 by StandardScaler.\n",
      "Data with input dtype bool, float64 were all converted to float64 by StandardScaler.\n"
     ]
    },
    {
     "name": "stdout",
     "output_type": "stream",
     "text": [
      "*** Training of model 'LogisticRegression' started.\n",
      "*** Training of classifier ready. Time elapsed: 840.901ms\n",
      "\n"
     ]
    },
    {
     "name": "stderr",
     "output_type": "stream",
     "text": [
      "Data with input dtype bool, float64 were all converted to float64 by StandardScaler.\n",
      "Data with input dtype bool, float64 were all converted to float64 by StandardScaler.\n",
      "Data with input dtype bool, float64 were all converted to float64 by StandardScaler.\n"
     ]
    },
    {
     "name": "stdout",
     "output_type": "stream",
     "text": [
      "*** Training of model 'LogisticRegression' started.\n",
      "*** Training of classifier ready. Time elapsed: 758.256ms\n",
      "\n"
     ]
    },
    {
     "name": "stderr",
     "output_type": "stream",
     "text": [
      "Data with input dtype bool, float64 were all converted to float64 by StandardScaler.\n",
      "Data with input dtype bool, float64 were all converted to float64 by StandardScaler.\n",
      "Data with input dtype bool, float64 were all converted to float64 by StandardScaler.\n"
     ]
    },
    {
     "name": "stdout",
     "output_type": "stream",
     "text": [
      "*** Training of model 'LogisticRegression' started.\n",
      "*** Training of classifier ready. Time elapsed: 292.523ms\n",
      "\n"
     ]
    },
    {
     "name": "stderr",
     "output_type": "stream",
     "text": [
      "Data with input dtype bool, float64 were all converted to float64 by StandardScaler.\n",
      "Data with input dtype bool, float64 were all converted to float64 by StandardScaler.\n",
      "Data with input dtype bool, float64 were all converted to float64 by StandardScaler.\n"
     ]
    },
    {
     "name": "stdout",
     "output_type": "stream",
     "text": [
      "*** Training of model 'LogisticRegression' started.\n",
      "*** Training of classifier ready. Time elapsed: 878.662ms\n",
      "\n"
     ]
    },
    {
     "name": "stderr",
     "output_type": "stream",
     "text": [
      "Data with input dtype bool, float64 were all converted to float64 by StandardScaler.\n",
      "Data with input dtype bool, float64 were all converted to float64 by StandardScaler.\n",
      "Data with input dtype bool, float64 were all converted to float64 by StandardScaler.\n"
     ]
    },
    {
     "name": "stdout",
     "output_type": "stream",
     "text": [
      "*** Training of model 'LogisticRegression' started.\n",
      "*** Training of classifier ready. Time elapsed: 832.111ms\n",
      "\n"
     ]
    },
    {
     "name": "stderr",
     "output_type": "stream",
     "text": [
      "Data with input dtype bool, float64 were all converted to float64 by StandardScaler.\n",
      "Data with input dtype bool, float64 were all converted to float64 by StandardScaler.\n",
      "Data with input dtype bool, float64 were all converted to float64 by StandardScaler.\n"
     ]
    },
    {
     "name": "stdout",
     "output_type": "stream",
     "text": [
      "*** Training of model 'LogisticRegression' started.\n",
      "*** Training of classifier ready. Time elapsed: 909.823ms\n",
      "\n"
     ]
    },
    {
     "name": "stderr",
     "output_type": "stream",
     "text": [
      "Columns (2,3,12,13,19,20,23,28,31,32,33,34,35,39,43,47,52,55,56,62,63,64,65,69,70,71,72,79,80,82,83,84,86,87,88,89,91,97,98,99,102,103,104,105,107,108,109,110,111,113,114,115,116,117,118,120,127,143,144,148,150,155,156,158,164,167,168,170,173,175,176,177,178,179,180,181,182,183,184,185,186,187,188,189,190,191,192,193,194,195,196,197,198,199,200,204,205,206,213,214,215,216,218,221,222,224,225,226,227,229,230,231,232,233,234,235,236,237,238,240,241,242,244,245,246,247,248,249,250,251,252,253,257,258,260,261,262,263,264,266,267,268,273,274,282,283,285,286,287,289,291,292,293,296,311,314,318,322,324,325,326,341,342,343,345,347,349,350,351,353) have mixed types. Specify dtype option on import or set low_memory=False.\n"
     ]
    },
    {
     "name": "stdout",
     "output_type": "stream",
     "text": [
      "Fetching data for <fiber.condition.mrns.MRNs object at 0x7f1b94595ac8>\n",
      "Fetching data for Patient (...)\n"
     ]
    },
    {
     "name": "stderr",
     "output_type": "stream",
     "text": [
      "Data with input dtype bool, float64 were all converted to float64 by StandardScaler.\n",
      "Data with input dtype bool, float64 were all converted to float64 by StandardScaler.\n",
      "Data with input dtype bool, float64 were all converted to float64 by StandardScaler.\n"
     ]
    },
    {
     "name": "stdout",
     "output_type": "stream",
     "text": [
      "*** Training of model 'GradientBoostingClassifier' started.\n",
      "*** Training of classifier ready. Time elapsed: 322.346ms\n",
      "\n"
     ]
    },
    {
     "name": "stderr",
     "output_type": "stream",
     "text": [
      "F-score is ill-defined and being set to 0.0 due to no predicted samples.\n",
      "Precision is ill-defined and being set to 0.0 due to no predicted samples.\n",
      "invalid value encountered in long_scalars\n",
      "Data with input dtype bool, float64 were all converted to float64 by StandardScaler.\n",
      "Data with input dtype bool, float64 were all converted to float64 by StandardScaler.\n",
      "Data with input dtype bool, float64 were all converted to float64 by StandardScaler.\n"
     ]
    },
    {
     "name": "stdout",
     "output_type": "stream",
     "text": [
      "*** Training of model 'GradientBoostingClassifier' started.\n",
      "*** Training of classifier ready. Time elapsed: 525.219ms\n",
      "\n"
     ]
    },
    {
     "name": "stderr",
     "output_type": "stream",
     "text": [
      "Data with input dtype bool, float64 were all converted to float64 by StandardScaler.\n",
      "Data with input dtype bool, float64 were all converted to float64 by StandardScaler.\n",
      "Data with input dtype bool, float64 were all converted to float64 by StandardScaler.\n"
     ]
    },
    {
     "name": "stdout",
     "output_type": "stream",
     "text": [
      "*** Training of model 'GradientBoostingClassifier' started.\n",
      "*** Training of classifier ready. Time elapsed: 514.669ms\n",
      "\n"
     ]
    },
    {
     "name": "stderr",
     "output_type": "stream",
     "text": [
      "Data with input dtype bool, float64 were all converted to float64 by StandardScaler.\n",
      "Data with input dtype bool, float64 were all converted to float64 by StandardScaler.\n",
      "Data with input dtype bool, float64 were all converted to float64 by StandardScaler.\n"
     ]
    },
    {
     "name": "stdout",
     "output_type": "stream",
     "text": [
      "*** Training of model 'GradientBoostingClassifier' started.\n",
      "*** Training of classifier ready. Time elapsed: 427.688ms\n",
      "\n"
     ]
    },
    {
     "name": "stderr",
     "output_type": "stream",
     "text": [
      "Data with input dtype bool, float64 were all converted to float64 by StandardScaler.\n",
      "Data with input dtype bool, float64 were all converted to float64 by StandardScaler.\n",
      "Data with input dtype bool, float64 were all converted to float64 by StandardScaler.\n"
     ]
    },
    {
     "name": "stdout",
     "output_type": "stream",
     "text": [
      "*** Training of model 'GradientBoostingClassifier' started.\n",
      "*** Training of classifier ready. Time elapsed: 325.951ms\n",
      "\n"
     ]
    },
    {
     "name": "stderr",
     "output_type": "stream",
     "text": [
      "Data with input dtype bool, float64 were all converted to float64 by StandardScaler.\n",
      "Data with input dtype bool, float64 were all converted to float64 by StandardScaler.\n",
      "Data with input dtype bool, float64 were all converted to float64 by StandardScaler.\n"
     ]
    },
    {
     "name": "stdout",
     "output_type": "stream",
     "text": [
      "*** Training of model 'GradientBoostingClassifier' started.\n",
      "*** Training of classifier ready. Time elapsed: 986.595ms\n",
      "\n"
     ]
    },
    {
     "name": "stderr",
     "output_type": "stream",
     "text": [
      "Data with input dtype bool, float64 were all converted to float64 by StandardScaler.\n",
      "Data with input dtype bool, float64 were all converted to float64 by StandardScaler.\n",
      "Data with input dtype bool, float64 were all converted to float64 by StandardScaler.\n"
     ]
    },
    {
     "name": "stdout",
     "output_type": "stream",
     "text": [
      "*** Training of model 'GradientBoostingClassifier' started.\n",
      "*** Training of classifier ready. Time elapsed: 19.456ms\n",
      "\n"
     ]
    },
    {
     "name": "stderr",
     "output_type": "stream",
     "text": [
      "Data with input dtype bool, float64 were all converted to float64 by StandardScaler.\n",
      "Data with input dtype bool, float64 were all converted to float64 by StandardScaler.\n",
      "Data with input dtype bool, float64 were all converted to float64 by StandardScaler.\n"
     ]
    },
    {
     "name": "stdout",
     "output_type": "stream",
     "text": [
      "*** Training of model 'GradientBoostingClassifier' started.\n",
      "*** Training of classifier ready. Time elapsed: 136.122ms\n",
      "\n"
     ]
    },
    {
     "name": "stderr",
     "output_type": "stream",
     "text": [
      "Data with input dtype bool, float64 were all converted to float64 by StandardScaler.\n",
      "Data with input dtype bool, float64 were all converted to float64 by StandardScaler.\n",
      "Data with input dtype bool, float64 were all converted to float64 by StandardScaler.\n"
     ]
    },
    {
     "name": "stdout",
     "output_type": "stream",
     "text": [
      "*** Training of model 'GradientBoostingClassifier' started.\n",
      "*** Training of classifier ready. Time elapsed: 80.627ms\n",
      "\n"
     ]
    },
    {
     "name": "stderr",
     "output_type": "stream",
     "text": [
      "Data with input dtype bool, float64 were all converted to float64 by StandardScaler.\n",
      "Data with input dtype bool, float64 were all converted to float64 by StandardScaler.\n",
      "Data with input dtype bool, float64 were all converted to float64 by StandardScaler.\n"
     ]
    },
    {
     "name": "stdout",
     "output_type": "stream",
     "text": [
      "*** Training of model 'GradientBoostingClassifier' started.\n",
      "*** Training of classifier ready. Time elapsed: 982.252ms\n",
      "\n"
     ]
    },
    {
     "name": "stderr",
     "output_type": "stream",
     "text": [
      "Data with input dtype bool, float64 were all converted to float64 by StandardScaler.\n",
      "Data with input dtype bool, float64 were all converted to float64 by StandardScaler.\n",
      "Data with input dtype bool, float64 were all converted to float64 by StandardScaler.\n"
     ]
    },
    {
     "name": "stdout",
     "output_type": "stream",
     "text": [
      "*** Training of model 'GradientBoostingClassifier' started.\n",
      "*** Training of classifier ready. Time elapsed: 750.931ms\n",
      "\n"
     ]
    },
    {
     "name": "stderr",
     "output_type": "stream",
     "text": [
      "Data with input dtype bool, float64 were all converted to float64 by StandardScaler.\n",
      "Data with input dtype bool, float64 were all converted to float64 by StandardScaler.\n",
      "Data with input dtype bool, float64 were all converted to float64 by StandardScaler.\n"
     ]
    },
    {
     "name": "stdout",
     "output_type": "stream",
     "text": [
      "*** Training of model 'GradientBoostingClassifier' started.\n",
      "*** Training of classifier ready. Time elapsed: 680.519ms\n",
      "\n"
     ]
    },
    {
     "name": "stderr",
     "output_type": "stream",
     "text": [
      "Data with input dtype bool, float64 were all converted to float64 by StandardScaler.\n",
      "Data with input dtype bool, float64 were all converted to float64 by StandardScaler.\n",
      "Data with input dtype bool, float64 were all converted to float64 by StandardScaler.\n"
     ]
    },
    {
     "name": "stdout",
     "output_type": "stream",
     "text": [
      "*** Training of model 'GradientBoostingClassifier' started.\n",
      "*** Training of classifier ready. Time elapsed: 985.336ms\n",
      "\n"
     ]
    },
    {
     "name": "stderr",
     "output_type": "stream",
     "text": [
      "Data with input dtype bool, float64 were all converted to float64 by StandardScaler.\n",
      "Data with input dtype bool, float64 were all converted to float64 by StandardScaler.\n",
      "Data with input dtype bool, float64 were all converted to float64 by StandardScaler.\n"
     ]
    },
    {
     "name": "stdout",
     "output_type": "stream",
     "text": [
      "*** Training of model 'GradientBoostingClassifier' started.\n",
      "*** Training of classifier ready. Time elapsed: 767.926ms\n",
      "\n"
     ]
    },
    {
     "name": "stderr",
     "output_type": "stream",
     "text": [
      "Data with input dtype bool, float64 were all converted to float64 by StandardScaler.\n",
      "Data with input dtype bool, float64 were all converted to float64 by StandardScaler.\n",
      "Data with input dtype bool, float64 were all converted to float64 by StandardScaler.\n"
     ]
    },
    {
     "name": "stdout",
     "output_type": "stream",
     "text": [
      "*** Training of model 'GradientBoostingClassifier' started.\n",
      "*** Training of classifier ready. Time elapsed: 868.394ms\n",
      "\n"
     ]
    },
    {
     "name": "stderr",
     "output_type": "stream",
     "text": [
      "Data with input dtype bool, float64 were all converted to float64 by StandardScaler.\n",
      "Data with input dtype bool, float64 were all converted to float64 by StandardScaler.\n",
      "Data with input dtype bool, float64 were all converted to float64 by StandardScaler.\n"
     ]
    },
    {
     "name": "stdout",
     "output_type": "stream",
     "text": [
      "*** Training of model 'GradientBoostingClassifier' started.\n",
      "*** Training of classifier ready. Time elapsed: 332.741ms\n",
      "\n"
     ]
    },
    {
     "name": "stderr",
     "output_type": "stream",
     "text": [
      "Data with input dtype bool, float64 were all converted to float64 by StandardScaler.\n",
      "Data with input dtype bool, float64 were all converted to float64 by StandardScaler.\n",
      "Data with input dtype bool, float64 were all converted to float64 by StandardScaler.\n"
     ]
    },
    {
     "name": "stdout",
     "output_type": "stream",
     "text": [
      "*** Training of model 'GradientBoostingClassifier' started.\n",
      "*** Training of classifier ready. Time elapsed: 730.463ms\n",
      "\n"
     ]
    },
    {
     "name": "stderr",
     "output_type": "stream",
     "text": [
      "Data with input dtype bool, float64 were all converted to float64 by StandardScaler.\n",
      "Data with input dtype bool, float64 were all converted to float64 by StandardScaler.\n",
      "Data with input dtype bool, float64 were all converted to float64 by StandardScaler.\n"
     ]
    },
    {
     "name": "stdout",
     "output_type": "stream",
     "text": [
      "*** Training of model 'GradientBoostingClassifier' started.\n",
      "*** Training of classifier ready. Time elapsed: 250.915ms\n",
      "\n"
     ]
    },
    {
     "name": "stderr",
     "output_type": "stream",
     "text": [
      "Data with input dtype bool, float64 were all converted to float64 by StandardScaler.\n",
      "Data with input dtype bool, float64 were all converted to float64 by StandardScaler.\n",
      "Data with input dtype bool, float64 were all converted to float64 by StandardScaler.\n"
     ]
    },
    {
     "name": "stdout",
     "output_type": "stream",
     "text": [
      "*** Training of model 'GradientBoostingClassifier' started.\n",
      "*** Training of classifier ready. Time elapsed: 674.158ms\n",
      "\n"
     ]
    },
    {
     "name": "stderr",
     "output_type": "stream",
     "text": [
      "Data with input dtype bool, float64 were all converted to float64 by StandardScaler.\n",
      "Data with input dtype bool, float64 were all converted to float64 by StandardScaler.\n",
      "Data with input dtype bool, float64 were all converted to float64 by StandardScaler.\n"
     ]
    },
    {
     "name": "stdout",
     "output_type": "stream",
     "text": [
      "*** Training of model 'GradientBoostingClassifier' started.\n",
      "*** Training of classifier ready. Time elapsed: 75.191ms\n",
      "\n"
     ]
    },
    {
     "name": "stderr",
     "output_type": "stream",
     "text": [
      "Data with input dtype bool, float64 were all converted to float64 by StandardScaler.\n",
      "Data with input dtype bool, float64 were all converted to float64 by StandardScaler.\n",
      "Data with input dtype bool, float64 were all converted to float64 by StandardScaler.\n"
     ]
    },
    {
     "name": "stdout",
     "output_type": "stream",
     "text": [
      "*** Training of model 'RandomForestClassifier' started.\n",
      "*** Training of classifier ready. Time elapsed: 722.367ms\n",
      "\n"
     ]
    },
    {
     "name": "stderr",
     "output_type": "stream",
     "text": [
      "F-score is ill-defined and being set to 0.0 due to no predicted samples.\n",
      "Precision is ill-defined and being set to 0.0 due to no predicted samples.\n",
      "invalid value encountered in long_scalars\n",
      "Data with input dtype bool, float64 were all converted to float64 by StandardScaler.\n",
      "Data with input dtype bool, float64 were all converted to float64 by StandardScaler.\n",
      "Data with input dtype bool, float64 were all converted to float64 by StandardScaler.\n"
     ]
    },
    {
     "name": "stdout",
     "output_type": "stream",
     "text": [
      "*** Training of model 'RandomForestClassifier' started.\n",
      "*** Training of classifier ready. Time elapsed: 111.61ms\n",
      "\n"
     ]
    },
    {
     "name": "stderr",
     "output_type": "stream",
     "text": [
      "F-score is ill-defined and being set to 0.0 due to no predicted samples.\n",
      "Precision is ill-defined and being set to 0.0 due to no predicted samples.\n",
      "invalid value encountered in long_scalars\n",
      "Data with input dtype bool, float64 were all converted to float64 by StandardScaler.\n",
      "Data with input dtype bool, float64 were all converted to float64 by StandardScaler.\n",
      "Data with input dtype bool, float64 were all converted to float64 by StandardScaler.\n"
     ]
    },
    {
     "name": "stdout",
     "output_type": "stream",
     "text": [
      "*** Training of model 'RandomForestClassifier' started.\n",
      "*** Training of classifier ready. Time elapsed: 67.022ms\n",
      "\n"
     ]
    },
    {
     "name": "stderr",
     "output_type": "stream",
     "text": [
      "F-score is ill-defined and being set to 0.0 due to no predicted samples.\n",
      "Precision is ill-defined and being set to 0.0 due to no predicted samples.\n",
      "invalid value encountered in long_scalars\n",
      "Data with input dtype bool, float64 were all converted to float64 by StandardScaler.\n",
      "Data with input dtype bool, float64 were all converted to float64 by StandardScaler.\n",
      "Data with input dtype bool, float64 were all converted to float64 by StandardScaler.\n"
     ]
    },
    {
     "name": "stdout",
     "output_type": "stream",
     "text": [
      "*** Training of model 'RandomForestClassifier' started.\n",
      "*** Training of classifier ready. Time elapsed: 334.074ms\n",
      "\n"
     ]
    },
    {
     "name": "stderr",
     "output_type": "stream",
     "text": [
      "F-score is ill-defined and being set to 0.0 due to no predicted samples.\n",
      "Precision is ill-defined and being set to 0.0 due to no predicted samples.\n",
      "invalid value encountered in long_scalars\n",
      "Data with input dtype bool, float64 were all converted to float64 by StandardScaler.\n",
      "Data with input dtype bool, float64 were all converted to float64 by StandardScaler.\n",
      "Data with input dtype bool, float64 were all converted to float64 by StandardScaler.\n"
     ]
    },
    {
     "name": "stdout",
     "output_type": "stream",
     "text": [
      "*** Training of model 'RandomForestClassifier' started.\n",
      "*** Training of classifier ready. Time elapsed: 975.334ms\n",
      "\n"
     ]
    },
    {
     "name": "stderr",
     "output_type": "stream",
     "text": [
      "F-score is ill-defined and being set to 0.0 due to no predicted samples.\n",
      "Precision is ill-defined and being set to 0.0 due to no predicted samples.\n",
      "invalid value encountered in long_scalars\n",
      "Data with input dtype bool, float64 were all converted to float64 by StandardScaler.\n",
      "Data with input dtype bool, float64 were all converted to float64 by StandardScaler.\n",
      "Data with input dtype bool, float64 were all converted to float64 by StandardScaler.\n"
     ]
    },
    {
     "name": "stdout",
     "output_type": "stream",
     "text": [
      "*** Training of model 'RandomForestClassifier' started.\n",
      "*** Training of classifier ready. Time elapsed: 792.694ms\n",
      "\n"
     ]
    },
    {
     "name": "stderr",
     "output_type": "stream",
     "text": [
      "Data with input dtype bool, float64 were all converted to float64 by StandardScaler.\n",
      "Data with input dtype bool, float64 were all converted to float64 by StandardScaler.\n",
      "Data with input dtype bool, float64 were all converted to float64 by StandardScaler.\n"
     ]
    },
    {
     "name": "stdout",
     "output_type": "stream",
     "text": [
      "*** Training of model 'RandomForestClassifier' started.\n",
      "*** Training of classifier ready. Time elapsed: 393.301ms\n",
      "\n"
     ]
    },
    {
     "name": "stderr",
     "output_type": "stream",
     "text": [
      "Data with input dtype bool, float64 were all converted to float64 by StandardScaler.\n",
      "Data with input dtype bool, float64 were all converted to float64 by StandardScaler.\n",
      "Data with input dtype bool, float64 were all converted to float64 by StandardScaler.\n"
     ]
    },
    {
     "name": "stdout",
     "output_type": "stream",
     "text": [
      "*** Training of model 'RandomForestClassifier' started.\n",
      "*** Training of classifier ready. Time elapsed: 432.375ms\n",
      "\n"
     ]
    },
    {
     "name": "stderr",
     "output_type": "stream",
     "text": [
      "Data with input dtype bool, float64 were all converted to float64 by StandardScaler.\n",
      "Data with input dtype bool, float64 were all converted to float64 by StandardScaler.\n",
      "Data with input dtype bool, float64 were all converted to float64 by StandardScaler.\n"
     ]
    },
    {
     "name": "stdout",
     "output_type": "stream",
     "text": [
      "*** Training of model 'RandomForestClassifier' started.\n",
      "*** Training of classifier ready. Time elapsed: 737.744ms\n",
      "\n"
     ]
    },
    {
     "name": "stderr",
     "output_type": "stream",
     "text": [
      "Data with input dtype bool, float64 were all converted to float64 by StandardScaler.\n",
      "Data with input dtype bool, float64 were all converted to float64 by StandardScaler.\n",
      "Data with input dtype bool, float64 were all converted to float64 by StandardScaler.\n"
     ]
    },
    {
     "name": "stdout",
     "output_type": "stream",
     "text": [
      "*** Training of model 'RandomForestClassifier' started.\n",
      "*** Training of classifier ready. Time elapsed: 474.844ms\n",
      "\n"
     ]
    },
    {
     "name": "stderr",
     "output_type": "stream",
     "text": [
      "Data with input dtype bool, float64 were all converted to float64 by StandardScaler.\n",
      "Data with input dtype bool, float64 were all converted to float64 by StandardScaler.\n",
      "Data with input dtype bool, float64 were all converted to float64 by StandardScaler.\n"
     ]
    },
    {
     "name": "stdout",
     "output_type": "stream",
     "text": [
      "*** Training of model 'RandomForestClassifier' started.\n",
      "*** Training of classifier ready. Time elapsed: 443.751ms\n",
      "\n"
     ]
    },
    {
     "name": "stderr",
     "output_type": "stream",
     "text": [
      "Data with input dtype bool, float64 were all converted to float64 by StandardScaler.\n",
      "Data with input dtype bool, float64 were all converted to float64 by StandardScaler.\n",
      "Data with input dtype bool, float64 were all converted to float64 by StandardScaler.\n"
     ]
    },
    {
     "name": "stdout",
     "output_type": "stream",
     "text": [
      "*** Training of model 'RandomForestClassifier' started.\n",
      "*** Training of classifier ready. Time elapsed: 269.525ms\n",
      "\n"
     ]
    },
    {
     "name": "stderr",
     "output_type": "stream",
     "text": [
      "Data with input dtype bool, float64 were all converted to float64 by StandardScaler.\n",
      "Data with input dtype bool, float64 were all converted to float64 by StandardScaler.\n",
      "Data with input dtype bool, float64 were all converted to float64 by StandardScaler.\n"
     ]
    },
    {
     "name": "stdout",
     "output_type": "stream",
     "text": [
      "*** Training of model 'RandomForestClassifier' started.\n",
      "*** Training of classifier ready. Time elapsed: 143.729ms\n",
      "\n"
     ]
    },
    {
     "name": "stderr",
     "output_type": "stream",
     "text": [
      "Data with input dtype bool, float64 were all converted to float64 by StandardScaler.\n",
      "Data with input dtype bool, float64 were all converted to float64 by StandardScaler.\n",
      "Data with input dtype bool, float64 were all converted to float64 by StandardScaler.\n"
     ]
    },
    {
     "name": "stdout",
     "output_type": "stream",
     "text": [
      "*** Training of model 'RandomForestClassifier' started.\n",
      "*** Training of classifier ready. Time elapsed: 290.985ms\n",
      "\n"
     ]
    },
    {
     "name": "stderr",
     "output_type": "stream",
     "text": [
      "Data with input dtype bool, float64 were all converted to float64 by StandardScaler.\n",
      "Data with input dtype bool, float64 were all converted to float64 by StandardScaler.\n",
      "Data with input dtype bool, float64 were all converted to float64 by StandardScaler.\n"
     ]
    },
    {
     "name": "stdout",
     "output_type": "stream",
     "text": [
      "*** Training of model 'RandomForestClassifier' started.\n",
      "*** Training of classifier ready. Time elapsed: 523.444ms\n",
      "\n"
     ]
    },
    {
     "name": "stderr",
     "output_type": "stream",
     "text": [
      "Data with input dtype bool, float64 were all converted to float64 by StandardScaler.\n",
      "Data with input dtype bool, float64 were all converted to float64 by StandardScaler.\n",
      "Data with input dtype bool, float64 were all converted to float64 by StandardScaler.\n"
     ]
    },
    {
     "name": "stdout",
     "output_type": "stream",
     "text": [
      "*** Training of model 'RandomForestClassifier' started.\n",
      "*** Training of classifier ready. Time elapsed: 310.248ms\n",
      "\n"
     ]
    },
    {
     "name": "stderr",
     "output_type": "stream",
     "text": [
      "F-score is ill-defined and being set to 0.0 due to no predicted samples.\n",
      "Precision is ill-defined and being set to 0.0 due to no predicted samples.\n",
      "invalid value encountered in long_scalars\n",
      "Data with input dtype bool, float64 were all converted to float64 by StandardScaler.\n",
      "Data with input dtype bool, float64 were all converted to float64 by StandardScaler.\n",
      "Data with input dtype bool, float64 were all converted to float64 by StandardScaler.\n"
     ]
    },
    {
     "name": "stdout",
     "output_type": "stream",
     "text": [
      "*** Training of model 'RandomForestClassifier' started.\n",
      "*** Training of classifier ready. Time elapsed: 595.275ms\n",
      "\n"
     ]
    },
    {
     "name": "stderr",
     "output_type": "stream",
     "text": [
      "F-score is ill-defined and being set to 0.0 due to no predicted samples.\n",
      "Precision is ill-defined and being set to 0.0 due to no predicted samples.\n",
      "invalid value encountered in long_scalars\n",
      "Data with input dtype bool, float64 were all converted to float64 by StandardScaler.\n",
      "Data with input dtype bool, float64 were all converted to float64 by StandardScaler.\n",
      "Data with input dtype bool, float64 were all converted to float64 by StandardScaler.\n"
     ]
    },
    {
     "name": "stdout",
     "output_type": "stream",
     "text": [
      "*** Training of model 'RandomForestClassifier' started.\n",
      "*** Training of classifier ready. Time elapsed: 612.479ms\n",
      "\n"
     ]
    },
    {
     "name": "stderr",
     "output_type": "stream",
     "text": [
      "F-score is ill-defined and being set to 0.0 due to no predicted samples.\n",
      "Precision is ill-defined and being set to 0.0 due to no predicted samples.\n",
      "invalid value encountered in long_scalars\n",
      "Data with input dtype bool, float64 were all converted to float64 by StandardScaler.\n",
      "Data with input dtype bool, float64 were all converted to float64 by StandardScaler.\n",
      "Data with input dtype bool, float64 were all converted to float64 by StandardScaler.\n"
     ]
    },
    {
     "name": "stdout",
     "output_type": "stream",
     "text": [
      "*** Training of model 'RandomForestClassifier' started.\n",
      "*** Training of classifier ready. Time elapsed: 621.82ms\n",
      "\n"
     ]
    },
    {
     "name": "stderr",
     "output_type": "stream",
     "text": [
      "F-score is ill-defined and being set to 0.0 due to no predicted samples.\n",
      "Precision is ill-defined and being set to 0.0 due to no predicted samples.\n",
      "invalid value encountered in long_scalars\n",
      "Data with input dtype bool, float64 were all converted to float64 by StandardScaler.\n",
      "Data with input dtype bool, float64 were all converted to float64 by StandardScaler.\n",
      "Data with input dtype bool, float64 were all converted to float64 by StandardScaler.\n"
     ]
    },
    {
     "name": "stdout",
     "output_type": "stream",
     "text": [
      "*** Training of model 'RandomForestClassifier' started.\n",
      "*** Training of classifier ready. Time elapsed: 406.47ms\n",
      "\n"
     ]
    },
    {
     "name": "stderr",
     "output_type": "stream",
     "text": [
      "F-score is ill-defined and being set to 0.0 due to no predicted samples.\n",
      "Precision is ill-defined and being set to 0.0 due to no predicted samples.\n",
      "invalid value encountered in long_scalars\n",
      "Data with input dtype bool, float64 were all converted to float64 by StandardScaler.\n",
      "Data with input dtype bool, float64 were all converted to float64 by StandardScaler.\n",
      "Data with input dtype bool, float64 were all converted to float64 by StandardScaler.\n"
     ]
    },
    {
     "name": "stdout",
     "output_type": "stream",
     "text": [
      "*** Training of model 'DecisionTreeClassifier' started.\n",
      "*** Training of classifier ready. Time elapsed: 499.539ms\n",
      "\n"
     ]
    },
    {
     "name": "stderr",
     "output_type": "stream",
     "text": [
      "Data with input dtype bool, float64 were all converted to float64 by StandardScaler.\n",
      "Data with input dtype bool, float64 were all converted to float64 by StandardScaler.\n",
      "Data with input dtype bool, float64 were all converted to float64 by StandardScaler.\n"
     ]
    },
    {
     "name": "stdout",
     "output_type": "stream",
     "text": [
      "*** Training of model 'DecisionTreeClassifier' started.\n",
      "*** Training of classifier ready. Time elapsed: 313.822ms\n",
      "\n"
     ]
    },
    {
     "name": "stderr",
     "output_type": "stream",
     "text": [
      "Data with input dtype bool, float64 were all converted to float64 by StandardScaler.\n",
      "Data with input dtype bool, float64 were all converted to float64 by StandardScaler.\n",
      "Data with input dtype bool, float64 were all converted to float64 by StandardScaler.\n"
     ]
    },
    {
     "name": "stdout",
     "output_type": "stream",
     "text": [
      "*** Training of model 'DecisionTreeClassifier' started.\n",
      "*** Training of classifier ready. Time elapsed: 220.839ms\n",
      "\n"
     ]
    },
    {
     "name": "stderr",
     "output_type": "stream",
     "text": [
      "Data with input dtype bool, float64 were all converted to float64 by StandardScaler.\n",
      "Data with input dtype bool, float64 were all converted to float64 by StandardScaler.\n",
      "Data with input dtype bool, float64 were all converted to float64 by StandardScaler.\n"
     ]
    },
    {
     "name": "stdout",
     "output_type": "stream",
     "text": [
      "*** Training of model 'DecisionTreeClassifier' started.\n",
      "*** Training of classifier ready. Time elapsed: 245.804ms\n",
      "\n"
     ]
    },
    {
     "name": "stderr",
     "output_type": "stream",
     "text": [
      "Data with input dtype bool, float64 were all converted to float64 by StandardScaler.\n",
      "Data with input dtype bool, float64 were all converted to float64 by StandardScaler.\n",
      "Data with input dtype bool, float64 were all converted to float64 by StandardScaler.\n"
     ]
    },
    {
     "name": "stdout",
     "output_type": "stream",
     "text": [
      "*** Training of model 'DecisionTreeClassifier' started.\n",
      "*** Training of classifier ready. Time elapsed: 258.97ms\n",
      "\n"
     ]
    },
    {
     "name": "stderr",
     "output_type": "stream",
     "text": [
      "Data with input dtype bool, float64 were all converted to float64 by StandardScaler.\n",
      "Data with input dtype bool, float64 were all converted to float64 by StandardScaler.\n",
      "Data with input dtype bool, float64 were all converted to float64 by StandardScaler.\n"
     ]
    },
    {
     "name": "stdout",
     "output_type": "stream",
     "text": [
      "*** Training of model 'DecisionTreeClassifier' started.\n",
      "*** Training of classifier ready. Time elapsed: 18.95ms\n",
      "\n"
     ]
    },
    {
     "name": "stderr",
     "output_type": "stream",
     "text": [
      "Data with input dtype bool, float64 were all converted to float64 by StandardScaler.\n",
      "Data with input dtype bool, float64 were all converted to float64 by StandardScaler.\n",
      "Data with input dtype bool, float64 were all converted to float64 by StandardScaler.\n"
     ]
    },
    {
     "name": "stdout",
     "output_type": "stream",
     "text": [
      "*** Training of model 'DecisionTreeClassifier' started.\n",
      "*** Training of classifier ready. Time elapsed: 15.984ms\n",
      "\n"
     ]
    },
    {
     "name": "stderr",
     "output_type": "stream",
     "text": [
      "Data with input dtype bool, float64 were all converted to float64 by StandardScaler.\n",
      "Data with input dtype bool, float64 were all converted to float64 by StandardScaler.\n",
      "Data with input dtype bool, float64 were all converted to float64 by StandardScaler.\n",
      "Data with input dtype bool, float64 were all converted to float64 by StandardScaler.\n"
     ]
    },
    {
     "name": "stdout",
     "output_type": "stream",
     "text": [
      "*** Training of model 'DecisionTreeClassifier' started.\n",
      "*** Training of classifier ready. Time elapsed: 16.869ms\n",
      "\n"
     ]
    },
    {
     "name": "stderr",
     "output_type": "stream",
     "text": [
      "Data with input dtype bool, float64 were all converted to float64 by StandardScaler.\n",
      "Data with input dtype bool, float64 were all converted to float64 by StandardScaler.\n"
     ]
    },
    {
     "name": "stdout",
     "output_type": "stream",
     "text": [
      "*** Training of model 'DecisionTreeClassifier' started.\n",
      "*** Training of classifier ready. Time elapsed: 18.034ms\n",
      "\n"
     ]
    },
    {
     "name": "stderr",
     "output_type": "stream",
     "text": [
      "Data with input dtype bool, float64 were all converted to float64 by StandardScaler.\n",
      "Data with input dtype bool, float64 were all converted to float64 by StandardScaler.\n",
      "Data with input dtype bool, float64 were all converted to float64 by StandardScaler.\n"
     ]
    },
    {
     "name": "stdout",
     "output_type": "stream",
     "text": [
      "*** Training of model 'DecisionTreeClassifier' started.\n",
      "*** Training of classifier ready. Time elapsed: 16.661ms\n",
      "\n"
     ]
    },
    {
     "name": "stderr",
     "output_type": "stream",
     "text": [
      "Data with input dtype bool, float64 were all converted to float64 by StandardScaler.\n",
      "Data with input dtype bool, float64 were all converted to float64 by StandardScaler.\n",
      "Data with input dtype bool, float64 were all converted to float64 by StandardScaler.\n"
     ]
    },
    {
     "name": "stdout",
     "output_type": "stream",
     "text": [
      "*** Training of model 'DecisionTreeClassifier' started.\n",
      "*** Training of classifier ready. Time elapsed: 664.877ms\n",
      "\n"
     ]
    },
    {
     "name": "stderr",
     "output_type": "stream",
     "text": [
      "Data with input dtype bool, float64 were all converted to float64 by StandardScaler.\n",
      "Data with input dtype bool, float64 were all converted to float64 by StandardScaler.\n",
      "Data with input dtype bool, float64 were all converted to float64 by StandardScaler.\n"
     ]
    },
    {
     "name": "stdout",
     "output_type": "stream",
     "text": [
      "*** Training of model 'DecisionTreeClassifier' started.\n",
      "*** Training of classifier ready. Time elapsed: 686.442ms\n",
      "\n"
     ]
    },
    {
     "name": "stderr",
     "output_type": "stream",
     "text": [
      "Data with input dtype bool, float64 were all converted to float64 by StandardScaler.\n",
      "Data with input dtype bool, float64 were all converted to float64 by StandardScaler.\n",
      "Data with input dtype bool, float64 were all converted to float64 by StandardScaler.\n"
     ]
    },
    {
     "name": "stdout",
     "output_type": "stream",
     "text": [
      "*** Training of model 'DecisionTreeClassifier' started.\n",
      "*** Training of classifier ready. Time elapsed: 538.955ms\n",
      "\n"
     ]
    },
    {
     "name": "stderr",
     "output_type": "stream",
     "text": [
      "Data with input dtype bool, float64 were all converted to float64 by StandardScaler.\n",
      "Data with input dtype bool, float64 were all converted to float64 by StandardScaler.\n",
      "Data with input dtype bool, float64 were all converted to float64 by StandardScaler.\n"
     ]
    },
    {
     "name": "stdout",
     "output_type": "stream",
     "text": [
      "*** Training of model 'DecisionTreeClassifier' started.\n",
      "*** Training of classifier ready. Time elapsed: 337.752ms\n",
      "\n"
     ]
    },
    {
     "name": "stderr",
     "output_type": "stream",
     "text": [
      "Data with input dtype bool, float64 were all converted to float64 by StandardScaler.\n",
      "Data with input dtype bool, float64 were all converted to float64 by StandardScaler.\n",
      "Data with input dtype bool, float64 were all converted to float64 by StandardScaler.\n"
     ]
    },
    {
     "name": "stdout",
     "output_type": "stream",
     "text": [
      "*** Training of model 'DecisionTreeClassifier' started.\n",
      "*** Training of classifier ready. Time elapsed: 544.598ms\n",
      "\n"
     ]
    },
    {
     "name": "stderr",
     "output_type": "stream",
     "text": [
      "Data with input dtype bool, float64 were all converted to float64 by StandardScaler.\n",
      "Data with input dtype bool, float64 were all converted to float64 by StandardScaler.\n",
      "Data with input dtype bool, float64 were all converted to float64 by StandardScaler.\n"
     ]
    },
    {
     "name": "stdout",
     "output_type": "stream",
     "text": [
      "*** Training of model 'DecisionTreeClassifier' started.\n",
      "*** Training of classifier ready. Time elapsed: 102.36ms\n",
      "\n"
     ]
    },
    {
     "name": "stderr",
     "output_type": "stream",
     "text": [
      "Data with input dtype bool, float64 were all converted to float64 by StandardScaler.\n",
      "Data with input dtype bool, float64 were all converted to float64 by StandardScaler.\n",
      "Data with input dtype bool, float64 were all converted to float64 by StandardScaler.\n"
     ]
    },
    {
     "name": "stdout",
     "output_type": "stream",
     "text": [
      "*** Training of model 'DecisionTreeClassifier' started.\n",
      "*** Training of classifier ready. Time elapsed: 107.179ms\n",
      "\n"
     ]
    },
    {
     "name": "stderr",
     "output_type": "stream",
     "text": [
      "Data with input dtype bool, float64 were all converted to float64 by StandardScaler.\n",
      "Data with input dtype bool, float64 were all converted to float64 by StandardScaler.\n",
      "Data with input dtype bool, float64 were all converted to float64 by StandardScaler.\n"
     ]
    },
    {
     "name": "stdout",
     "output_type": "stream",
     "text": [
      "*** Training of model 'DecisionTreeClassifier' started.\n",
      "*** Training of classifier ready. Time elapsed: 195.186ms\n",
      "\n"
     ]
    },
    {
     "name": "stderr",
     "output_type": "stream",
     "text": [
      "Data with input dtype bool, float64 were all converted to float64 by StandardScaler.\n",
      "Data with input dtype bool, float64 were all converted to float64 by StandardScaler.\n",
      "Data with input dtype bool, float64 were all converted to float64 by StandardScaler.\n"
     ]
    },
    {
     "name": "stdout",
     "output_type": "stream",
     "text": [
      "*** Training of model 'DecisionTreeClassifier' started.\n",
      "*** Training of classifier ready. Time elapsed: 205.172ms\n",
      "\n"
     ]
    },
    {
     "name": "stderr",
     "output_type": "stream",
     "text": [
      "Data with input dtype bool, float64 were all converted to float64 by StandardScaler.\n",
      "Data with input dtype bool, float64 were all converted to float64 by StandardScaler.\n",
      "Data with input dtype bool, float64 were all converted to float64 by StandardScaler.\n"
     ]
    },
    {
     "name": "stdout",
     "output_type": "stream",
     "text": [
      "*** Training of model 'DecisionTreeClassifier' started.\n",
      "*** Training of classifier ready. Time elapsed: 228.916ms\n",
      "\n"
     ]
    },
    {
     "name": "stderr",
     "output_type": "stream",
     "text": [
      "Data with input dtype bool, float64 were all converted to float64 by StandardScaler.\n",
      "Data with input dtype bool, float64 were all converted to float64 by StandardScaler.\n",
      "Data with input dtype bool, float64 were all converted to float64 by StandardScaler.\n"
     ]
    },
    {
     "name": "stdout",
     "output_type": "stream",
     "text": [
      "*** Training of model 'LogisticRegression' started.\n",
      "*** Training of classifier ready. Time elapsed: 981.992ms\n",
      "\n"
     ]
    },
    {
     "name": "stderr",
     "output_type": "stream",
     "text": [
      "Data with input dtype bool, float64 were all converted to float64 by StandardScaler.\n",
      "Data with input dtype bool, float64 were all converted to float64 by StandardScaler.\n",
      "Data with input dtype bool, float64 were all converted to float64 by StandardScaler.\n"
     ]
    },
    {
     "name": "stdout",
     "output_type": "stream",
     "text": [
      "*** Training of model 'LogisticRegression' started.\n",
      "*** Training of classifier ready. Time elapsed: 961.839ms\n",
      "\n"
     ]
    },
    {
     "name": "stderr",
     "output_type": "stream",
     "text": [
      "Data with input dtype bool, float64 were all converted to float64 by StandardScaler.\n",
      "Data with input dtype bool, float64 were all converted to float64 by StandardScaler.\n",
      "Data with input dtype bool, float64 were all converted to float64 by StandardScaler.\n"
     ]
    },
    {
     "name": "stdout",
     "output_type": "stream",
     "text": [
      "*** Training of model 'LogisticRegression' started.\n",
      "*** Training of classifier ready. Time elapsed: 620.816ms\n",
      "\n"
     ]
    },
    {
     "name": "stderr",
     "output_type": "stream",
     "text": [
      "Data with input dtype bool, float64 were all converted to float64 by StandardScaler.\n",
      "Data with input dtype bool, float64 were all converted to float64 by StandardScaler.\n",
      "Data with input dtype bool, float64 were all converted to float64 by StandardScaler.\n"
     ]
    },
    {
     "name": "stdout",
     "output_type": "stream",
     "text": [
      "*** Training of model 'LogisticRegression' started.\n",
      "*** Training of classifier ready. Time elapsed: 962.629ms\n",
      "\n"
     ]
    },
    {
     "name": "stderr",
     "output_type": "stream",
     "text": [
      "Data with input dtype bool, float64 were all converted to float64 by StandardScaler.\n",
      "Data with input dtype bool, float64 were all converted to float64 by StandardScaler.\n",
      "Data with input dtype bool, float64 were all converted to float64 by StandardScaler.\n"
     ]
    },
    {
     "name": "stdout",
     "output_type": "stream",
     "text": [
      "*** Training of model 'LogisticRegression' started.\n",
      "*** Training of classifier ready. Time elapsed: 558.7ms\n",
      "\n"
     ]
    },
    {
     "name": "stderr",
     "output_type": "stream",
     "text": [
      "Data with input dtype bool, float64 were all converted to float64 by StandardScaler.\n",
      "Data with input dtype bool, float64 were all converted to float64 by StandardScaler.\n",
      "Data with input dtype bool, float64 were all converted to float64 by StandardScaler.\n"
     ]
    },
    {
     "name": "stdout",
     "output_type": "stream",
     "text": [
      "*** Training of model 'LogisticRegression' started.\n",
      "*** Training of classifier ready. Time elapsed: 406.693ms\n",
      "\n"
     ]
    },
    {
     "name": "stderr",
     "output_type": "stream",
     "text": [
      "Data with input dtype bool, float64 were all converted to float64 by StandardScaler.\n",
      "Data with input dtype bool, float64 were all converted to float64 by StandardScaler.\n",
      "Data with input dtype bool, float64 were all converted to float64 by StandardScaler.\n"
     ]
    },
    {
     "name": "stdout",
     "output_type": "stream",
     "text": [
      "*** Training of model 'LogisticRegression' started.\n",
      "*** Training of classifier ready. Time elapsed: 899.925ms\n",
      "\n"
     ]
    },
    {
     "name": "stderr",
     "output_type": "stream",
     "text": [
      "Data with input dtype bool, float64 were all converted to float64 by StandardScaler.\n",
      "Data with input dtype bool, float64 were all converted to float64 by StandardScaler.\n",
      "Data with input dtype bool, float64 were all converted to float64 by StandardScaler.\n"
     ]
    },
    {
     "name": "stdout",
     "output_type": "stream",
     "text": [
      "*** Training of model 'LogisticRegression' started.\n",
      "*** Training of classifier ready. Time elapsed: 136.006ms\n",
      "\n"
     ]
    },
    {
     "name": "stderr",
     "output_type": "stream",
     "text": [
      "Data with input dtype bool, float64 were all converted to float64 by StandardScaler.\n",
      "Data with input dtype bool, float64 were all converted to float64 by StandardScaler.\n",
      "Data with input dtype bool, float64 were all converted to float64 by StandardScaler.\n"
     ]
    },
    {
     "name": "stdout",
     "output_type": "stream",
     "text": [
      "*** Training of model 'LogisticRegression' started.\n",
      "*** Training of classifier ready. Time elapsed: 398.864ms\n",
      "\n"
     ]
    },
    {
     "name": "stderr",
     "output_type": "stream",
     "text": [
      "Data with input dtype bool, float64 were all converted to float64 by StandardScaler.\n",
      "Data with input dtype bool, float64 were all converted to float64 by StandardScaler.\n",
      "Data with input dtype bool, float64 were all converted to float64 by StandardScaler.\n"
     ]
    },
    {
     "name": "stdout",
     "output_type": "stream",
     "text": [
      "*** Training of model 'LogisticRegression' started.\n",
      "*** Training of classifier ready. Time elapsed: 186.837ms\n",
      "\n"
     ]
    },
    {
     "name": "stderr",
     "output_type": "stream",
     "text": [
      "Data with input dtype bool, float64 were all converted to float64 by StandardScaler.\n",
      "Data with input dtype bool, float64 were all converted to float64 by StandardScaler.\n",
      "Data with input dtype bool, float64 were all converted to float64 by StandardScaler.\n"
     ]
    },
    {
     "name": "stdout",
     "output_type": "stream",
     "text": [
      "*** Training of model 'LogisticRegression' started.\n",
      "*** Training of classifier ready. Time elapsed: 19.401ms\n",
      "\n"
     ]
    },
    {
     "name": "stderr",
     "output_type": "stream",
     "text": [
      "Data with input dtype bool, float64 were all converted to float64 by StandardScaler.\n",
      "Data with input dtype bool, float64 were all converted to float64 by StandardScaler.\n",
      "Data with input dtype bool, float64 were all converted to float64 by StandardScaler.\n"
     ]
    },
    {
     "name": "stdout",
     "output_type": "stream",
     "text": [
      "*** Training of model 'LogisticRegression' started.\n",
      "*** Training of classifier ready. Time elapsed: 393.662ms\n",
      "\n"
     ]
    },
    {
     "name": "stderr",
     "output_type": "stream",
     "text": [
      "Data with input dtype bool, float64 were all converted to float64 by StandardScaler.\n",
      "Data with input dtype bool, float64 were all converted to float64 by StandardScaler.\n",
      "Data with input dtype bool, float64 were all converted to float64 by StandardScaler.\n"
     ]
    },
    {
     "name": "stdout",
     "output_type": "stream",
     "text": [
      "*** Training of model 'LogisticRegression' started.\n",
      "*** Training of classifier ready. Time elapsed: 357.809ms\n",
      "\n"
     ]
    },
    {
     "name": "stderr",
     "output_type": "stream",
     "text": [
      "Data with input dtype bool, float64 were all converted to float64 by StandardScaler.\n",
      "Data with input dtype bool, float64 were all converted to float64 by StandardScaler.\n",
      "Data with input dtype bool, float64 were all converted to float64 by StandardScaler.\n"
     ]
    },
    {
     "name": "stdout",
     "output_type": "stream",
     "text": [
      "*** Training of model 'LogisticRegression' started.\n",
      "*** Training of classifier ready. Time elapsed: 871.972ms\n",
      "\n"
     ]
    },
    {
     "name": "stderr",
     "output_type": "stream",
     "text": [
      "Data with input dtype bool, float64 were all converted to float64 by StandardScaler.\n",
      "Data with input dtype bool, float64 were all converted to float64 by StandardScaler.\n",
      "Data with input dtype bool, float64 were all converted to float64 by StandardScaler.\n"
     ]
    },
    {
     "name": "stdout",
     "output_type": "stream",
     "text": [
      "*** Training of model 'LogisticRegression' started.\n",
      "*** Training of classifier ready. Time elapsed: 81.171ms\n",
      "\n"
     ]
    },
    {
     "name": "stderr",
     "output_type": "stream",
     "text": [
      "Data with input dtype bool, float64 were all converted to float64 by StandardScaler.\n",
      "Data with input dtype bool, float64 were all converted to float64 by StandardScaler.\n",
      "Data with input dtype bool, float64 were all converted to float64 by StandardScaler.\n"
     ]
    },
    {
     "name": "stdout",
     "output_type": "stream",
     "text": [
      "*** Training of model 'LogisticRegression' started.\n",
      "*** Training of classifier ready. Time elapsed: 532.113ms\n",
      "\n"
     ]
    },
    {
     "name": "stderr",
     "output_type": "stream",
     "text": [
      "Data with input dtype bool, float64 were all converted to float64 by StandardScaler.\n",
      "Data with input dtype bool, float64 were all converted to float64 by StandardScaler.\n",
      "Data with input dtype bool, float64 were all converted to float64 by StandardScaler.\n"
     ]
    },
    {
     "name": "stdout",
     "output_type": "stream",
     "text": [
      "*** Training of model 'LogisticRegression' started.\n",
      "*** Training of classifier ready. Time elapsed: 622.239ms\n",
      "\n"
     ]
    },
    {
     "name": "stderr",
     "output_type": "stream",
     "text": [
      "Data with input dtype bool, float64 were all converted to float64 by StandardScaler.\n",
      "Data with input dtype bool, float64 were all converted to float64 by StandardScaler.\n",
      "Data with input dtype bool, float64 were all converted to float64 by StandardScaler.\n"
     ]
    },
    {
     "name": "stdout",
     "output_type": "stream",
     "text": [
      "*** Training of model 'LogisticRegression' started.\n",
      "*** Training of classifier ready. Time elapsed: 244.94ms\n",
      "\n"
     ]
    },
    {
     "name": "stderr",
     "output_type": "stream",
     "text": [
      "Data with input dtype bool, float64 were all converted to float64 by StandardScaler.\n",
      "Data with input dtype bool, float64 were all converted to float64 by StandardScaler.\n",
      "Data with input dtype bool, float64 were all converted to float64 by StandardScaler.\n"
     ]
    },
    {
     "name": "stdout",
     "output_type": "stream",
     "text": [
      "*** Training of model 'LogisticRegression' started.\n",
      "*** Training of classifier ready. Time elapsed: 807.691ms\n",
      "\n"
     ]
    },
    {
     "name": "stderr",
     "output_type": "stream",
     "text": [
      "Data with input dtype bool, float64 were all converted to float64 by StandardScaler.\n",
      "Data with input dtype bool, float64 were all converted to float64 by StandardScaler.\n",
      "Data with input dtype bool, float64 were all converted to float64 by StandardScaler.\n"
     ]
    },
    {
     "name": "stdout",
     "output_type": "stream",
     "text": [
      "*** Training of model 'LogisticRegression' started.\n",
      "*** Training of classifier ready. Time elapsed: 103.23ms\n",
      "\n"
     ]
    },
    {
     "name": "stderr",
     "output_type": "stream",
     "text": [
      "Columns (2,3,12,18,19,22,27,30,31,32,33,34,35,36,38,42,46,51,54,55,61,62,63,64,68,69,70,75,76,77,79,80,81,83,84,85,86,88,89,94,95,98,99,100,101,102,103,104,105,106,108,109,110,112,116,119,130,135,136,140,141,142,144,145,147,153,154,156,157,159,162,163,164,165,166,167,168,169,170,171,172,173,174,175,176,177,178,179,180,181,182,183,184,185,186,187,188,192,193,194,201,202,203,204,206,209,210,211,212,213,214,215,216,217,218,219,220,221,222,223,224,225,226,227,228,229,231,232,233,234,235,236,237,238,239,240,244,245,247,248,249,250,251,252,253,254,259,260,268,269,271,272,273,275,277,280,289,294,295,297,301,305,307,308,322,323,324,325,327,328,330,331,332,334,339) have mixed types. Specify dtype option on import or set low_memory=False.\n"
     ]
    },
    {
     "name": "stdout",
     "output_type": "stream",
     "text": [
      "Fetching data for <fiber.condition.mrns.MRNs object at 0x7f1b94595ac8>\n",
      "Fetching data for Patient (...)\n"
     ]
    },
    {
     "name": "stderr",
     "output_type": "stream",
     "text": [
      "Data with input dtype bool, float64 were all converted to float64 by StandardScaler.\n",
      "Data with input dtype bool, float64 were all converted to float64 by StandardScaler.\n",
      "Data with input dtype bool, float64 were all converted to float64 by StandardScaler.\n"
     ]
    },
    {
     "name": "stdout",
     "output_type": "stream",
     "text": [
      "*** Training of model 'GradientBoostingClassifier' started.\n",
      "*** Training of classifier ready. Time elapsed: 923.895ms\n",
      "\n"
     ]
    },
    {
     "name": "stderr",
     "output_type": "stream",
     "text": [
      "F-score is ill-defined and being set to 0.0 due to no predicted samples.\n",
      "Precision is ill-defined and being set to 0.0 due to no predicted samples.\n",
      "invalid value encountered in long_scalars\n",
      "Data with input dtype bool, float64 were all converted to float64 by StandardScaler.\n",
      "Data with input dtype bool, float64 were all converted to float64 by StandardScaler.\n",
      "Data with input dtype bool, float64 were all converted to float64 by StandardScaler.\n"
     ]
    },
    {
     "name": "stdout",
     "output_type": "stream",
     "text": [
      "*** Training of model 'GradientBoostingClassifier' started.\n",
      "*** Training of classifier ready. Time elapsed: 654.42ms\n",
      "\n"
     ]
    },
    {
     "name": "stderr",
     "output_type": "stream",
     "text": [
      "Data with input dtype bool, float64 were all converted to float64 by StandardScaler.\n",
      "Data with input dtype bool, float64 were all converted to float64 by StandardScaler.\n",
      "Data with input dtype bool, float64 were all converted to float64 by StandardScaler.\n"
     ]
    },
    {
     "name": "stdout",
     "output_type": "stream",
     "text": [
      "*** Training of model 'GradientBoostingClassifier' started.\n",
      "*** Training of classifier ready. Time elapsed: 601.644ms\n",
      "\n"
     ]
    },
    {
     "name": "stderr",
     "output_type": "stream",
     "text": [
      "Data with input dtype bool, float64 were all converted to float64 by StandardScaler.\n",
      "Data with input dtype bool, float64 were all converted to float64 by StandardScaler.\n",
      "Data with input dtype bool, float64 were all converted to float64 by StandardScaler.\n"
     ]
    },
    {
     "name": "stdout",
     "output_type": "stream",
     "text": [
      "*** Training of model 'GradientBoostingClassifier' started.\n",
      "*** Training of classifier ready. Time elapsed: 475.662ms\n",
      "\n"
     ]
    },
    {
     "name": "stderr",
     "output_type": "stream",
     "text": [
      "Data with input dtype bool, float64 were all converted to float64 by StandardScaler.\n",
      "Data with input dtype bool, float64 were all converted to float64 by StandardScaler.\n",
      "Data with input dtype bool, float64 were all converted to float64 by StandardScaler.\n"
     ]
    },
    {
     "name": "stdout",
     "output_type": "stream",
     "text": [
      "*** Training of model 'GradientBoostingClassifier' started.\n",
      "*** Training of classifier ready. Time elapsed: 471.256ms\n",
      "\n"
     ]
    },
    {
     "name": "stderr",
     "output_type": "stream",
     "text": [
      "Data with input dtype bool, float64 were all converted to float64 by StandardScaler.\n",
      "Data with input dtype bool, float64 were all converted to float64 by StandardScaler.\n",
      "Data with input dtype bool, float64 were all converted to float64 by StandardScaler.\n"
     ]
    },
    {
     "name": "stdout",
     "output_type": "stream",
     "text": [
      "*** Training of model 'GradientBoostingClassifier' started.\n",
      "*** Training of classifier ready. Time elapsed: 883.533ms\n",
      "\n"
     ]
    },
    {
     "name": "stderr",
     "output_type": "stream",
     "text": [
      "Data with input dtype bool, float64 were all converted to float64 by StandardScaler.\n",
      "Data with input dtype bool, float64 were all converted to float64 by StandardScaler.\n",
      "Data with input dtype bool, float64 were all converted to float64 by StandardScaler.\n"
     ]
    },
    {
     "name": "stdout",
     "output_type": "stream",
     "text": [
      "*** Training of model 'GradientBoostingClassifier' started.\n",
      "*** Training of classifier ready. Time elapsed: 962.479ms\n",
      "\n"
     ]
    },
    {
     "name": "stderr",
     "output_type": "stream",
     "text": [
      "Data with input dtype bool, float64 were all converted to float64 by StandardScaler.\n",
      "Data with input dtype bool, float64 were all converted to float64 by StandardScaler.\n",
      "Data with input dtype bool, float64 were all converted to float64 by StandardScaler.\n"
     ]
    },
    {
     "name": "stdout",
     "output_type": "stream",
     "text": [
      "*** Training of model 'GradientBoostingClassifier' started.\n",
      "*** Training of classifier ready. Time elapsed: 927.483ms\n",
      "\n"
     ]
    },
    {
     "name": "stderr",
     "output_type": "stream",
     "text": [
      "Data with input dtype bool, float64 were all converted to float64 by StandardScaler.\n",
      "Data with input dtype bool, float64 were all converted to float64 by StandardScaler.\n",
      "Data with input dtype bool, float64 were all converted to float64 by StandardScaler.\n"
     ]
    },
    {
     "name": "stdout",
     "output_type": "stream",
     "text": [
      "*** Training of model 'GradientBoostingClassifier' started.\n",
      "*** Training of classifier ready. Time elapsed: 53.332ms\n",
      "\n"
     ]
    },
    {
     "name": "stderr",
     "output_type": "stream",
     "text": [
      "Data with input dtype bool, float64 were all converted to float64 by StandardScaler.\n",
      "Data with input dtype bool, float64 were all converted to float64 by StandardScaler.\n",
      "Data with input dtype bool, float64 were all converted to float64 by StandardScaler.\n"
     ]
    },
    {
     "name": "stdout",
     "output_type": "stream",
     "text": [
      "*** Training of model 'GradientBoostingClassifier' started.\n",
      "*** Training of classifier ready. Time elapsed: 323.541ms\n",
      "\n"
     ]
    },
    {
     "name": "stderr",
     "output_type": "stream",
     "text": [
      "Data with input dtype bool, float64 were all converted to float64 by StandardScaler.\n",
      "Data with input dtype bool, float64 were all converted to float64 by StandardScaler.\n",
      "Data with input dtype bool, float64 were all converted to float64 by StandardScaler.\n"
     ]
    },
    {
     "name": "stdout",
     "output_type": "stream",
     "text": [
      "*** Training of model 'GradientBoostingClassifier' started.\n",
      "*** Training of classifier ready. Time elapsed: 223.549ms\n",
      "\n"
     ]
    },
    {
     "name": "stderr",
     "output_type": "stream",
     "text": [
      "Data with input dtype bool, float64 were all converted to float64 by StandardScaler.\n",
      "Data with input dtype bool, float64 were all converted to float64 by StandardScaler.\n",
      "Data with input dtype bool, float64 were all converted to float64 by StandardScaler.\n"
     ]
    },
    {
     "name": "stdout",
     "output_type": "stream",
     "text": [
      "*** Training of model 'GradientBoostingClassifier' started.\n",
      "*** Training of classifier ready. Time elapsed: 552.39ms\n",
      "\n"
     ]
    },
    {
     "name": "stderr",
     "output_type": "stream",
     "text": [
      "Data with input dtype bool, float64 were all converted to float64 by StandardScaler.\n",
      "Data with input dtype bool, float64 were all converted to float64 by StandardScaler.\n",
      "Data with input dtype bool, float64 were all converted to float64 by StandardScaler.\n"
     ]
    },
    {
     "name": "stdout",
     "output_type": "stream",
     "text": [
      "*** Training of model 'GradientBoostingClassifier' started.\n",
      "*** Training of classifier ready. Time elapsed: 830.928ms\n",
      "\n"
     ]
    },
    {
     "name": "stderr",
     "output_type": "stream",
     "text": [
      "Data with input dtype bool, float64 were all converted to float64 by StandardScaler.\n",
      "Data with input dtype bool, float64 were all converted to float64 by StandardScaler.\n",
      "Data with input dtype bool, float64 were all converted to float64 by StandardScaler.\n"
     ]
    },
    {
     "name": "stdout",
     "output_type": "stream",
     "text": [
      "*** Training of model 'GradientBoostingClassifier' started.\n",
      "*** Training of classifier ready. Time elapsed: 218.262ms\n",
      "\n"
     ]
    },
    {
     "name": "stderr",
     "output_type": "stream",
     "text": [
      "Data with input dtype bool, float64 were all converted to float64 by StandardScaler.\n",
      "Data with input dtype bool, float64 were all converted to float64 by StandardScaler.\n",
      "Data with input dtype bool, float64 were all converted to float64 by StandardScaler.\n"
     ]
    },
    {
     "name": "stdout",
     "output_type": "stream",
     "text": [
      "*** Training of model 'GradientBoostingClassifier' started.\n",
      "*** Training of classifier ready. Time elapsed: 195.507ms\n",
      "\n"
     ]
    },
    {
     "name": "stderr",
     "output_type": "stream",
     "text": [
      "Data with input dtype bool, float64 were all converted to float64 by StandardScaler.\n",
      "Data with input dtype bool, float64 were all converted to float64 by StandardScaler.\n",
      "Data with input dtype bool, float64 were all converted to float64 by StandardScaler.\n"
     ]
    },
    {
     "name": "stdout",
     "output_type": "stream",
     "text": [
      "*** Training of model 'GradientBoostingClassifier' started.\n",
      "*** Training of classifier ready. Time elapsed: 747.14ms\n",
      "\n"
     ]
    },
    {
     "name": "stderr",
     "output_type": "stream",
     "text": [
      "Data with input dtype bool, float64 were all converted to float64 by StandardScaler.\n",
      "Data with input dtype bool, float64 were all converted to float64 by StandardScaler.\n",
      "Data with input dtype bool, float64 were all converted to float64 by StandardScaler.\n"
     ]
    },
    {
     "name": "stdout",
     "output_type": "stream",
     "text": [
      "*** Training of model 'GradientBoostingClassifier' started.\n",
      "*** Training of classifier ready. Time elapsed: 840.851ms\n",
      "\n"
     ]
    },
    {
     "name": "stderr",
     "output_type": "stream",
     "text": [
      "Data with input dtype bool, float64 were all converted to float64 by StandardScaler.\n",
      "Data with input dtype bool, float64 were all converted to float64 by StandardScaler.\n",
      "Data with input dtype bool, float64 were all converted to float64 by StandardScaler.\n"
     ]
    },
    {
     "name": "stdout",
     "output_type": "stream",
     "text": [
      "*** Training of model 'GradientBoostingClassifier' started.\n",
      "*** Training of classifier ready. Time elapsed: 78.519ms\n",
      "\n"
     ]
    },
    {
     "name": "stderr",
     "output_type": "stream",
     "text": [
      "Data with input dtype bool, float64 were all converted to float64 by StandardScaler.\n",
      "Data with input dtype bool, float64 were all converted to float64 by StandardScaler.\n",
      "Data with input dtype bool, float64 were all converted to float64 by StandardScaler.\n"
     ]
    },
    {
     "name": "stdout",
     "output_type": "stream",
     "text": [
      "*** Training of model 'GradientBoostingClassifier' started.\n",
      "*** Training of classifier ready. Time elapsed: 391.17ms\n",
      "\n"
     ]
    },
    {
     "name": "stderr",
     "output_type": "stream",
     "text": [
      "Data with input dtype bool, float64 were all converted to float64 by StandardScaler.\n",
      "Data with input dtype bool, float64 were all converted to float64 by StandardScaler.\n",
      "Data with input dtype bool, float64 were all converted to float64 by StandardScaler.\n"
     ]
    },
    {
     "name": "stdout",
     "output_type": "stream",
     "text": [
      "*** Training of model 'GradientBoostingClassifier' started.\n",
      "*** Training of classifier ready. Time elapsed: 904.516ms\n",
      "\n"
     ]
    },
    {
     "name": "stderr",
     "output_type": "stream",
     "text": [
      "Data with input dtype bool, float64 were all converted to float64 by StandardScaler.\n",
      "Data with input dtype bool, float64 were all converted to float64 by StandardScaler.\n",
      "Data with input dtype bool, float64 were all converted to float64 by StandardScaler.\n"
     ]
    },
    {
     "name": "stdout",
     "output_type": "stream",
     "text": [
      "*** Training of model 'RandomForestClassifier' started.\n",
      "*** Training of classifier ready. Time elapsed: 130.237ms\n",
      "\n"
     ]
    },
    {
     "name": "stderr",
     "output_type": "stream",
     "text": [
      "F-score is ill-defined and being set to 0.0 due to no predicted samples.\n",
      "Precision is ill-defined and being set to 0.0 due to no predicted samples.\n",
      "invalid value encountered in long_scalars\n",
      "Data with input dtype bool, float64 were all converted to float64 by StandardScaler.\n",
      "Data with input dtype bool, float64 were all converted to float64 by StandardScaler.\n",
      "Data with input dtype bool, float64 were all converted to float64 by StandardScaler.\n"
     ]
    },
    {
     "name": "stdout",
     "output_type": "stream",
     "text": [
      "*** Training of model 'RandomForestClassifier' started.\n",
      "*** Training of classifier ready. Time elapsed: 627.107ms\n",
      "\n"
     ]
    },
    {
     "name": "stderr",
     "output_type": "stream",
     "text": [
      "F-score is ill-defined and being set to 0.0 due to no predicted samples.\n",
      "Precision is ill-defined and being set to 0.0 due to no predicted samples.\n",
      "invalid value encountered in long_scalars\n",
      "Data with input dtype bool, float64 were all converted to float64 by StandardScaler.\n",
      "Data with input dtype bool, float64 were all converted to float64 by StandardScaler.\n",
      "Data with input dtype bool, float64 were all converted to float64 by StandardScaler.\n"
     ]
    },
    {
     "name": "stdout",
     "output_type": "stream",
     "text": [
      "*** Training of model 'RandomForestClassifier' started.\n",
      "*** Training of classifier ready. Time elapsed: 439.912ms\n",
      "\n"
     ]
    },
    {
     "name": "stderr",
     "output_type": "stream",
     "text": [
      "F-score is ill-defined and being set to 0.0 due to no predicted samples.\n",
      "Precision is ill-defined and being set to 0.0 due to no predicted samples.\n",
      "invalid value encountered in long_scalars\n",
      "Data with input dtype bool, float64 were all converted to float64 by StandardScaler.\n",
      "Data with input dtype bool, float64 were all converted to float64 by StandardScaler.\n",
      "Data with input dtype bool, float64 were all converted to float64 by StandardScaler.\n"
     ]
    },
    {
     "name": "stdout",
     "output_type": "stream",
     "text": [
      "*** Training of model 'RandomForestClassifier' started.\n",
      "*** Training of classifier ready. Time elapsed: 885.708ms\n",
      "\n"
     ]
    },
    {
     "name": "stderr",
     "output_type": "stream",
     "text": [
      "F-score is ill-defined and being set to 0.0 due to no predicted samples.\n",
      "Precision is ill-defined and being set to 0.0 due to no predicted samples.\n",
      "invalid value encountered in long_scalars\n",
      "Data with input dtype bool, float64 were all converted to float64 by StandardScaler.\n",
      "Data with input dtype bool, float64 were all converted to float64 by StandardScaler.\n",
      "Data with input dtype bool, float64 were all converted to float64 by StandardScaler.\n"
     ]
    },
    {
     "name": "stdout",
     "output_type": "stream",
     "text": [
      "*** Training of model 'RandomForestClassifier' started.\n",
      "*** Training of classifier ready. Time elapsed: 623.193ms\n",
      "\n"
     ]
    },
    {
     "name": "stderr",
     "output_type": "stream",
     "text": [
      "F-score is ill-defined and being set to 0.0 due to no predicted samples.\n",
      "Precision is ill-defined and being set to 0.0 due to no predicted samples.\n",
      "invalid value encountered in long_scalars\n",
      "Data with input dtype bool, float64 were all converted to float64 by StandardScaler.\n",
      "Data with input dtype bool, float64 were all converted to float64 by StandardScaler.\n",
      "Data with input dtype bool, float64 were all converted to float64 by StandardScaler.\n"
     ]
    },
    {
     "name": "stdout",
     "output_type": "stream",
     "text": [
      "*** Training of model 'RandomForestClassifier' started.\n",
      "*** Training of classifier ready. Time elapsed: 449.094ms\n",
      "\n"
     ]
    },
    {
     "name": "stderr",
     "output_type": "stream",
     "text": [
      "Data with input dtype bool, float64 were all converted to float64 by StandardScaler.\n",
      "Data with input dtype bool, float64 were all converted to float64 by StandardScaler.\n",
      "Data with input dtype bool, float64 were all converted to float64 by StandardScaler.\n"
     ]
    },
    {
     "name": "stdout",
     "output_type": "stream",
     "text": [
      "*** Training of model 'RandomForestClassifier' started.\n",
      "*** Training of classifier ready. Time elapsed: 391.183ms\n",
      "\n"
     ]
    },
    {
     "name": "stderr",
     "output_type": "stream",
     "text": [
      "Data with input dtype bool, float64 were all converted to float64 by StandardScaler.\n",
      "Data with input dtype bool, float64 were all converted to float64 by StandardScaler.\n",
      "Data with input dtype bool, float64 were all converted to float64 by StandardScaler.\n"
     ]
    },
    {
     "name": "stdout",
     "output_type": "stream",
     "text": [
      "*** Training of model 'RandomForestClassifier' started.\n",
      "*** Training of classifier ready. Time elapsed: 435.606ms\n",
      "\n"
     ]
    },
    {
     "name": "stderr",
     "output_type": "stream",
     "text": [
      "Data with input dtype bool, float64 were all converted to float64 by StandardScaler.\n",
      "Data with input dtype bool, float64 were all converted to float64 by StandardScaler.\n",
      "Data with input dtype bool, float64 were all converted to float64 by StandardScaler.\n"
     ]
    },
    {
     "name": "stdout",
     "output_type": "stream",
     "text": [
      "*** Training of model 'RandomForestClassifier' started.\n",
      "*** Training of classifier ready. Time elapsed: 587.185ms\n",
      "\n"
     ]
    },
    {
     "name": "stderr",
     "output_type": "stream",
     "text": [
      "Data with input dtype bool, float64 were all converted to float64 by StandardScaler.\n",
      "Data with input dtype bool, float64 were all converted to float64 by StandardScaler.\n",
      "Data with input dtype bool, float64 were all converted to float64 by StandardScaler.\n"
     ]
    },
    {
     "name": "stdout",
     "output_type": "stream",
     "text": [
      "*** Training of model 'RandomForestClassifier' started.\n",
      "*** Training of classifier ready. Time elapsed: 385.537ms\n",
      "\n"
     ]
    },
    {
     "name": "stderr",
     "output_type": "stream",
     "text": [
      "Data with input dtype bool, float64 were all converted to float64 by StandardScaler.\n",
      "Data with input dtype bool, float64 were all converted to float64 by StandardScaler.\n",
      "Data with input dtype bool, float64 were all converted to float64 by StandardScaler.\n"
     ]
    },
    {
     "name": "stdout",
     "output_type": "stream",
     "text": [
      "*** Training of model 'RandomForestClassifier' started.\n",
      "*** Training of classifier ready. Time elapsed: 592.867ms\n",
      "\n"
     ]
    },
    {
     "name": "stderr",
     "output_type": "stream",
     "text": [
      "Data with input dtype bool, float64 were all converted to float64 by StandardScaler.\n",
      "Data with input dtype bool, float64 were all converted to float64 by StandardScaler.\n",
      "Data with input dtype bool, float64 were all converted to float64 by StandardScaler.\n"
     ]
    },
    {
     "name": "stdout",
     "output_type": "stream",
     "text": [
      "*** Training of model 'RandomForestClassifier' started.\n",
      "*** Training of classifier ready. Time elapsed: 673.489ms\n",
      "\n"
     ]
    },
    {
     "name": "stderr",
     "output_type": "stream",
     "text": [
      "Data with input dtype bool, float64 were all converted to float64 by StandardScaler.\n",
      "Data with input dtype bool, float64 were all converted to float64 by StandardScaler.\n",
      "Data with input dtype bool, float64 were all converted to float64 by StandardScaler.\n"
     ]
    },
    {
     "name": "stdout",
     "output_type": "stream",
     "text": [
      "*** Training of model 'RandomForestClassifier' started.\n",
      "*** Training of classifier ready. Time elapsed: 803.777ms\n",
      "\n"
     ]
    },
    {
     "name": "stderr",
     "output_type": "stream",
     "text": [
      "Data with input dtype bool, float64 were all converted to float64 by StandardScaler.\n",
      "Data with input dtype bool, float64 were all converted to float64 by StandardScaler.\n",
      "Data with input dtype bool, float64 were all converted to float64 by StandardScaler.\n"
     ]
    },
    {
     "name": "stdout",
     "output_type": "stream",
     "text": [
      "*** Training of model 'RandomForestClassifier' started.\n"
     ]
    }
   ],
   "source": [
    "pipeline = training.execute(\n",
    "    comment='baseline-3 CMV w/o RFE',\n",
    "    version='100.3.2',\n",
    "    cohort=cohort,\n",
    "    onset_dataframe=onset_dataframe,\n",
    "    feature_pipeline=feature_pipeline,\n",
    "    data_loader=data_loader,\n",
    "    observation_iterator=configs,\n",
    "    targets=targets,\n",
    "    algorithms=algorithms,\n",
    "    samplers=samplers,\n",
    "    feature_type_occurring=\"occurring\",\n",
    "    feature_type_numeric=\"numeric\",\n",
    "    rfe__run=False,\n",
    "    rfe__step_size=50\n",
    ")"
   ]
  },
  {
   "cell_type": "code",
   "execution_count": null,
   "metadata": {
    "scrolled": true
   },
   "outputs": [],
   "source": [
    "pipeline.id"
   ]
  }
 ],
 "metadata": {
  "kernelspec": {
   "display_name": "Python 3",
   "language": "python",
   "name": "python3"
  },
  "language_info": {
   "codemirror_mode": {
    "name": "ipython",
    "version": 3
   },
   "file_extension": ".py",
   "mimetype": "text/x-python",
   "name": "python",
   "nbconvert_exporter": "python",
   "pygments_lexer": "ipython3",
   "version": "3.6.9"
  }
 },
 "nbformat": 4,
 "nbformat_minor": 2
}
