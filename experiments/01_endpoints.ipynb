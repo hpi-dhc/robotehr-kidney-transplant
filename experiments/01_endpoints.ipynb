{
 "cells": [
  {
   "cell_type": "code",
   "execution_count": null,
   "metadata": {},
   "outputs": [],
   "source": [
    "%run 00_default_options.ipynb"
   ]
  },
  {
   "cell_type": "code",
   "execution_count": null,
   "metadata": {},
   "outputs": [],
   "source": [
    "from fiber.condition import Diagnosis\n",
    "\n",
    "from robotehr.models.cohort import Cohort, OnsetDataFrame"
   ]
  },
  {
   "cell_type": "code",
   "execution_count": null,
   "metadata": {},
   "outputs": [],
   "source": [
    "cohort_obj = Cohort.load(id=1)\n",
    "cohort = cohort_obj.get_fiber()"
   ]
  },
  {
   "cell_type": "code",
   "execution_count": null,
   "metadata": {},
   "outputs": [],
   "source": [
    "observation_window_ends = [-1, 0, 1, 3, 7, 11, 14, 18, 21, 25, 29, 37, 45, 50, 55, 59, 70, 80, 90]\n",
    "prediction_windows = []\n",
    "for w in observation_window_ends:\n",
    "    prediction_windows.append([w + 1, 365])"
   ]
  },
  {
   "cell_type": "markdown",
   "metadata": {},
   "source": [
    "# Urinary Tract Infection"
   ]
  },
  {
   "cell_type": "code",
   "execution_count": null,
   "metadata": {},
   "outputs": [],
   "source": [
    "uti_cond = Diagnosis(code='599.0', context='ICD-9') | Diagnosis(code=['N39.0'], context='ICD-10')\n",
    "uti_target = cohort.has_onset(\n",
    "    name='urinary tract infection',\n",
    "    condition=uti_cond,\n",
    "    time_windows=prediction_windows\n",
    ")\n",
    "onset_uti_obj = OnsetDataFrame.persist(uti_target, comment='UTI (incl. post-tx windows)', version='1.1', cohort=cohort_obj)"
   ]
  },
  {
   "cell_type": "code",
   "execution_count": null,
   "metadata": {
    "scrolled": true
   },
   "outputs": [],
   "source": [
    "onset_uti_obj = OnsetDataFrame.load(id=17)\n",
    "onset_uti_obj.get_df()"
   ]
  },
  {
   "cell_type": "markdown",
   "metadata": {},
   "source": [
    "# Cytomegaloviral disease"
   ]
  },
  {
   "cell_type": "code",
   "execution_count": null,
   "metadata": {},
   "outputs": [],
   "source": [
    "cmv_cond = Diagnosis(code='078.5', context='ICD-9') | Diagnosis(code=['B25%'], context='ICD-10')\n",
    "cmv_target = cohort.has_onset(\n",
    "    name='cytomegaloviral disease',\n",
    "    condition=cmv_cond,\n",
    "    time_windows=prediction_windows\n",
    ")\n",
    "onset_cmv_obj = OnsetDataFrame.persist(cmv_target, comment='CMV (incl. post-tx windows)', version='1', cohort=cohort_obj)"
   ]
  },
  {
   "cell_type": "code",
   "execution_count": null,
   "metadata": {},
   "outputs": [],
   "source": [
    "onset_cmv_obj.id"
   ]
  },
  {
   "cell_type": "markdown",
   "metadata": {},
   "source": [
    "## Other viral infections\n",
    "\n",
    "based on https://www.ncbi.nlm.nih.gov/pmc/articles/PMC6312768/\n",
    "\n",
    "(EBV, BKV, HAV, HBV, HCV, HIV, varicella zoster virus + other and unspecified)"
   ]
  },
  {
   "cell_type": "code",
   "execution_count": null,
   "metadata": {},
   "outputs": [],
   "source": [
    "ovi_cond = Diagnosis(\n",
    "    code=[\n",
    "        'B33.%',   # other\n",
    "        'B34.%',   # unspecified\n",
    "        'B27.90',  # Infectious mononucleosis, unspecified without complication (EBV)\n",
    "        'B97.89',  # Other viral agents as the cause of diseases classified elsewhere, BK virus\n",
    "        'B15.%',   # HAV\n",
    "        'B16.%',   # HBV\n",
    "        'B17.%',   # other acute viral hepatitis (including HCV)\n",
    "        'B18.%',   # chronic hepatitis\n",
    "        'B19.%',   # unspecified chronic hepatitis\n",
    "        'B20',     # HIV\n",
    "        'B02.%',   # Varicella Zoster \n",
    "    ], \n",
    "    context='ICD-10'\n",
    ") | Diagnosis(\n",
    "    code=[\n",
    "        '070.%',\n",
    "        '071.%',\n",
    "        '072.%',\n",
    "        '073.%',\n",
    "        '074.%',\n",
    "        '075.%',\n",
    "        '076.%',\n",
    "        '077.%',\n",
    "        '078.%',\n",
    "        '079.%',\n",
    "        '042',     # HIV\n",
    "        '053.%',   # Varicella Zoster\n",
    "    ],\n",
    "    context='ICD-9'\n",
    ")\n",
    "\n",
    "ovi_target = cohort.has_onset(\n",
    "    name='other viral infection',\n",
    "    condition=ovi_cond,\n",
    "    time_windows=prediction_windows\n",
    ")\n",
    "onset_ovi_obj = OnsetDataFrame.persist(ovi_target, comment='OVI (incl. post-tx windows)', version='1', cohort=cohort_obj)"
   ]
  },
  {
   "cell_type": "code",
   "execution_count": null,
   "metadata": {},
   "outputs": [],
   "source": [
    "onset_ovi_obj.id"
   ]
  }
 ],
 "metadata": {
  "kernelspec": {
   "display_name": "Python 3",
   "language": "python",
   "name": "python3"
  },
  "language_info": {
   "codemirror_mode": {
    "name": "ipython",
    "version": 3
   },
   "file_extension": ".py",
   "mimetype": "text/x-python",
   "name": "python",
   "nbconvert_exporter": "python",
   "pygments_lexer": "ipython3",
   "version": "3.6.9"
  }
 },
 "nbformat": 4,
 "nbformat_minor": 2
}
