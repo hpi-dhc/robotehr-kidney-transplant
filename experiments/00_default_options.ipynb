{
 "cells": [
  {
   "cell_type": "code",
   "execution_count": 1,
   "metadata": {},
   "outputs": [],
   "source": [
    "%matplotlib inline\n",
    "\n",
    "%load_ext autoreload\n",
    "%autoreload 2"
   ]
  },
  {
   "cell_type": "code",
   "execution_count": 2,
   "metadata": {},
   "outputs": [],
   "source": [
    "import pandas as pd"
   ]
  },
  {
   "cell_type": "code",
   "execution_count": 3,
   "metadata": {},
   "outputs": [],
   "source": [
    "pd.set_option('max_colwidth', 200)"
   ]
  },
  {
   "cell_type": "code",
   "execution_count": 4,
   "metadata": {},
   "outputs": [],
   "source": [
    "import os\n",
    "# FIBER\n",
    "os.environ['FIBER_DB_TYPE'] = \"hana\"\n",
    "os.environ['FIBER_DB_PASSWORD'] = \"\"\n",
    "os.environ['FIBER_DB_SCHEMA'] = \"msdw_2018\"\n",
    "os.environ['FIBER_MIN_DAYS_FILTER_ACTIVE'] = \"1\"\n",
    "os.environ['FIBER_DB_HOST'] = \"\"\n",
    "os.environ['FIBER_DB_PORT'] = \"\"\n",
    "os.environ['FIBER_DB_USER'] = \"martet02\"\n",
    "\n",
    "# RobotEHR\n",
    "os.environ['ROBOTEHR_DB_URI'] = ''\n",
    "os.environ['ROBOTEHR_BASE_PATH'] = '/home/martet02/robotehr-data'\n",
    "os.environ['ROBOTEHR_WEBHOOK_URL'] = 'https://hooks.slack.com/services/xxx/xxx/xxx'\n",
    "# MORPHER\n",
    "os.environ['DB_USER']='a'\n",
    "os.environ['DB_PASSWORD']='b'\n",
    "os.environ['DB_ADDRESS']='c'\n",
    "os.environ['DB_PORT']='d'"
   ]
  }
 ],
 "metadata": {
  "kernelspec": {
   "display_name": "Python 3",
   "language": "python",
   "name": "python3"
  },
  "language_info": {
   "codemirror_mode": {
    "name": "ipython",
    "version": 3
   },
   "file_extension": ".py",
   "mimetype": "text/x-python",
   "name": "python",
   "nbconvert_exporter": "python",
   "pygments_lexer": "ipython3",
   "version": "3.6.9"
  }
 },
 "nbformat": 4,
 "nbformat_minor": 2
}