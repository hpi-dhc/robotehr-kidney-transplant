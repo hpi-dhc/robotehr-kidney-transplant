{
 "cells": [
  {
   "cell_type": "markdown",
   "metadata": {},
   "source": [
    "# Cohort\n",
    "\n",
    "We consider all adult patients that underwent kidney transplant with or without nephrectomy in our cohort.\n",
    "If a patient has multiple records for a transplant within 7 days, we summarized this as one transplant on the first day (and assume that the other entries are \"dirty data\").\n",
    "\n",
    "~We conclude with a cohort of 2089 patients, of the transplants 92 % are without nephrectomy.~\n",
    "~99 % of the patients only have one transplant, 35 patients have two, and two patients have three transplants.~\n",
    "\n",
    "The mean age of patients is 52 years (standard deviation of 13.5 years; excluding 6 patients with age anonymized due to re-identification risk). 37 % of the patients are female, leaving a majority of 63 % male. The ethnicity distribution is representative for New York City.\n",
    "\n",
    "Down the line, we decided to only consider the first transplant for every patient, ending up with 2089 patients and 2089 transplants."
   ]
  },
  {
   "cell_type": "code",
   "execution_count": null,
   "metadata": {},
   "outputs": [],
   "source": [
    "%run 00_default_options.ipynb"
   ]
  },
  {
   "cell_type": "code",
   "execution_count": null,
   "metadata": {},
   "outputs": [],
   "source": [
    "import math\n",
    "\n",
    "import pandas as pd\n",
    "\n",
    "from fiber.condition import Diagnosis, Procedure\n",
    "from fiber import Cohort\n",
    "from fiberutils.cohort_utils import (\n",
    "    cohort_overlap, \n",
    "    deduplicate_cohort, \n",
    "    days_between_cohort_condition_occurrences,\n",
    ")\n",
    "from fiberutils.condition_utils import (\n",
    "    compare_condition_incidence_in_cohort,\n",
    "    condition_occurrence_distribution,\n",
    "    condition_occurrence_quantiles_for_days\n",
    ")"
   ]
  },
  {
   "cell_type": "code",
   "execution_count": null,
   "metadata": {},
   "outputs": [],
   "source": [
    "transplant_wo_nephrectomy_cond = Procedure(code='50360', context='CPT-4').age(min_age=18)\n",
    "transplant_with_nephrectomy_cond = Procedure(code='50365', context='CPT-4').age(min_age=18)\n",
    "\n",
    "transplant_condition = transplant_wo_nephrectomy_cond | transplant_with_nephrectomy_cond\n",
    "transplant_cohort = Cohort(condition=transplant_condition)\n",
    "\n",
    "len(transplant_cohort)"
   ]
  },
  {
   "cell_type": "code",
   "execution_count": null,
   "metadata": {
    "scrolled": true
   },
   "outputs": [],
   "source": [
    "transplant_cohort_overlap = cohort_overlap({\n",
    "    'Patients without nephrectomy (CPT-4: 50360)': Cohort(transplant_wo_nephrectomy_cond),\n",
    "    'Patients with nephrectomy (CPT-4: 50365)': Cohort(transplant_with_nephrectomy_cond)\n",
    "})\n",
    "\n",
    "transplant_cohort_overlap['figure'].show()"
   ]
  },
  {
   "cell_type": "code",
   "execution_count": null,
   "metadata": {
    "scrolled": true
   },
   "outputs": [],
   "source": [
    "cohort, _ = deduplicate_cohort(transplant_cohort, math.inf).values()"
   ]
  },
  {
   "cell_type": "code",
   "execution_count": null,
   "metadata": {
    "scrolled": true
   },
   "outputs": [],
   "source": [
    "transplant_split = pd.merge(\n",
    "    cohort.has_onset(\n",
    "        time_windows=[[-7, 7]],\n",
    "        condition=transplant_wo_nephrectomy_cond,\n",
    "        name=f'without_nephrectomy',\n",
    "    ),\n",
    "    cohort.has_onset(\n",
    "        time_windows=[[-7, 7]],\n",
    "        condition=transplant_with_nephrectomy_cond,\n",
    "        name=f'with_nephrectomy',\n",
    "    )\n",
    ")\n",
    "\n",
    "{\n",
    "    'occurrences without nephrectomy': transplant_split.without_nephrectomy_onset_from_7_days_before_to_7_days_after.sum() / len(transplant_split),\n",
    "    'occurrences with nephrectomy': transplant_split.with_nephrectomy_onset_from_7_days_before_to_7_days_after.sum() / len(transplant_split)\n",
    "}"
   ]
  },
  {
   "cell_type": "code",
   "execution_count": null,
   "metadata": {},
   "outputs": [],
   "source": [
    "import matplotlib.pyplot as plt"
   ]
  },
  {
   "cell_type": "code",
   "execution_count": null,
   "metadata": {
    "scrolled": true
   },
   "outputs": [],
   "source": [
    "plt.figure(figsize=[6,6])\n",
    "a = cohort.demographics['age']['figure']\n",
    "a'Patient age at time of transplant')\n",
    "a.set_xlabel('age in years', fontsize=\"12\")\n",
    "a.savefig('/home/martet02/age-distribution.pdf')"
   ]
  },
  {
   "cell_type": "code",
   "execution_count": null,
   "metadata": {},
   "outputs": [],
   "source": [
    "fig.show()"
   ]
  },
  {
   "cell_type": "code",
   "execution_count": null,
   "metadata": {
    "scrolled": false
   },
   "outputs": [],
   "source": [
    "a = cohort.demographics"
   ]
  },
  {
   "cell_type": "code",
   "execution_count": null,
   "metadata": {},
   "outputs": [],
   "source": [
    "cohort.condition_statistics['figure'].show()"
   ]
  },
  {
   "cell_type": "markdown",
   "metadata": {},
   "source": [
    "# Endpoints\n",
    "\n",
    "Cytomegaloviral disease and urinary tract infections are reported as some of the most frequent infectious diseases after kidney transplant surgeries.\n",
    "Also in our dataset, we can see not only that their incidence rates are among the highest, but also that their occurrences increases manifold in comparison to priori.\n",
    "\n",
    "Cytomegaloviral disease and urinary tract infection are coded with ICD-9 and ICD-10 in MSDW.\n",
    "To capture all codings correctly, we combine the diagnosis conditions with the OR operator,\n",
    "i.e. patient had at least one of the conditions."
   ]
  },
  {
   "cell_type": "code",
   "execution_count": null,
   "metadata": {
    "scrolled": true
   },
   "outputs": [],
   "source": [
    "infection_cond = (\n",
    "    Diagnosis(code=[\n",
    "        'B33.%',   # other\n",
    "        'B34.%',   # unspecified\n",
    "        'B27.90',  # Infectious mononucleosis, unspecified without complication (EBV)\n",
    "        'B97.89',  # Other viral agents as the cause of diseases classified elsewhere, BK virus\n",
    "        'B15.%',   # HAV\n",
    "        'B16.%',   # HBV\n",
    "        'B17.%',   # other acute viral hepatitis (including HCV)\n",
    "        'B18.%',   # chronic hepatitis\n",
    "        'B19.%',   # unspecified chronic hepatitis\n",
    "        'B20',     # HIV\n",
    "        'B02.%',   # Varicella Zoster \n",
    "        ], \n",
    "        context='ICD-10'\n",
    "    ) \n",
    "    | Diagnosis(code=['0%', '10%', '11%', '12%', '13%'], context='ICD-9')\n",
    ")\n",
    "\n",
    "compare_condition_incidence_in_cohort(\n",
    "    condition=infection_cond, \n",
    "    cohort=cohort,\n",
    "    lower_limit=-365, \n",
    "    upper_limit=365,\n",
    "    should_calculate_increase=True,\n",
    ")[0].head(100)"
   ]
  },
  {
   "cell_type": "markdown",
   "metadata": {},
   "source": [
    "## Cytomegaloviral disease\n",
    "\n",
    "For the patients in the cohort, circa 6.4 % (134) are diagnosed with cytomegaloviral disease within the first year after the transplant, which is a 13-fold increase over the year before the surgery. \n",
    "Out of all cases within the first year after the transplant, 61 % (81) occur in the second half of this period."
   ]
  },
  {
   "cell_type": "code",
   "execution_count": null,
   "metadata": {},
   "outputs": [],
   "source": [
    "cmv_cond = Diagnosis(code='078.5', context='ICD-9') | Diagnosis(code=['B25%'], context='ICD-10')"
   ]
  },
  {
   "cell_type": "code",
   "execution_count": null,
   "metadata": {
    "scrolled": true
   },
   "outputs": [],
   "source": [
    "cmv_longitudinality = condition_occurrence_distribution(\n",
    "    cohort=cohort, \n",
    "    condition=cmv_cond,\n",
    "    time_windows=[[-365, -1], [0, 365]]\n",
    ")"
   ]
  },
  {
   "cell_type": "code",
   "execution_count": null,
   "metadata": {
    "scrolled": true
   },
   "outputs": [],
   "source": [
    "ovi_longitudinality = condition_occurrence_distribution(\n",
    "    cohort=cohort, \n",
    "    condition=viral_cond,\n",
    "    time_windows=[[-365, -1], [0, 365]]\n",
    ")"
   ]
  },
  {
   "cell_type": "code",
   "execution_count": null,
   "metadata": {
    "scrolled": false
   },
   "outputs": [],
   "source": [
    "[ovi_longitudinality['incidence_rates']['results']['-365 to -1 days'] * 2089,\n",
    "ovi_longitudinality['incidence_rates']['results']['0 to 365 days'] * 2089]"
   ]
  },
  {
   "cell_type": "code",
   "execution_count": null,
   "metadata": {
    "scrolled": true
   },
   "outputs": [],
   "source": [
    "incidence_increase = compare_condition_incidence_in_cohort(\n",
    "    condition=cmv_cond, \n",
    "    cohort=cohort,\n",
    "    lower_limit=-365, \n",
    "    upper_limit=365,\n",
    "    should_calculate_increase=True, \n",
    "    is_aggregated_condition=True\n",
    ")[0]"
   ]
  },
  {
   "cell_type": "code",
   "execution_count": null,
   "metadata": {
    "scrolled": true
   },
   "outputs": [],
   "source": [
    "incidence_increase"
   ]
  },
  {
   "cell_type": "code",
   "execution_count": null,
   "metadata": {
    "scrolled": true
   },
   "outputs": [],
   "source": [
    "condition_occurrence_quantiles_for_days(\n",
    "    cohort, \n",
    "    cmv_cond, \n",
    "    0, \n",
    "    365, \n",
    "    [7, 30, 90, 183, 365]\n",
    ")['quantiles']"
   ]
  },
  {
   "cell_type": "markdown",
   "metadata": {},
   "source": [
    "## Urinary Tract Infection\n",
    "\n",
    "For the patients in the cohort, circa 34 % (715) are diagnosed with urinary tract infection within the first year after the transplant, which is a 9-fold increase over the year before the surgery. \n",
    "Out of all cases within the first year after the transplant, 71 % (511) occur in the second half of this period, and 50 % (355) in the first quarter. "
   ]
  },
  {
   "cell_type": "code",
   "execution_count": null,
   "metadata": {},
   "outputs": [],
   "source": [
    "uti_cond = Diagnosis(code='599.0', context='ICD-9') | Diagnosis(code=['N39.0'], context='ICD-10')"
   ]
  },
  {
   "cell_type": "code",
   "execution_count": null,
   "metadata": {},
   "outputs": [],
   "source": [
    "uti_longitudinality = condition_occurrence_distribution(\n",
    "    cohort, \n",
    "    condition=uti_cond,\n",
    "    time_windows=[[0, 7], [0, 30], [0, 180], [0, 365], [0, math.inf]]\n",
    ")"
   ]
  },
  {
   "cell_type": "code",
   "execution_count": null,
   "metadata": {
    "scrolled": false
   },
   "outputs": [],
   "source": [
    "uti_longitudinality['incidence_rates']['results']"
   ]
  },
  {
   "cell_type": "code",
   "execution_count": null,
   "metadata": {},
   "outputs": [],
   "source": [
    "incidence_increase = compare_condition_incidence_in_cohort(\n",
    "    condition=uti_cond, \n",
    "    cohort=cohort,\n",
    "    lower_limit=-365, \n",
    "    upper_limit=365,\n",
    "    should_calculate_increase=True, \n",
    "    is_aggregated_condition=True\n",
    ")[0]"
   ]
  },
  {
   "cell_type": "code",
   "execution_count": null,
   "metadata": {
    "scrolled": true
   },
   "outputs": [],
   "source": [
    "incidence_increase"
   ]
  },
  {
   "cell_type": "code",
   "execution_count": null,
   "metadata": {
    "scrolled": true
   },
   "outputs": [],
   "source": [
    "condition_occurrence_quantiles_for_days(\n",
    "    cohort, \n",
    "    uti_cond, \n",
    "    0, \n",
    "    365, \n",
    "    [7, 30, 90, 180, 365]\n",
    ")['quantiles']"
   ]
  },
  {
   "cell_type": "markdown",
   "metadata": {},
   "source": [
    "## Other viral infections\n",
    "\n",
    "based on https://www.ncbi.nlm.nih.gov/pmc/articles/PMC6312768/\n",
    "\n",
    "(EBV, BKV, HAV, HBV, HCV, HIV, varicella zoster virus + other and unspecified)"
   ]
  },
  {
   "cell_type": "code",
   "execution_count": null,
   "metadata": {},
   "outputs": [],
   "source": [
    "viral_cond = Diagnosis(\n",
    "    code=[\n",
    "        'B33.%',   # other\n",
    "        'B34.%',   # unspecified\n",
    "        'B27.90',  # Infectious mononucleosis, unspecified without complication (EBV)\n",
    "        'B97.89',  # Other viral agents as the cause of diseases classified elsewhere, BK virus\n",
    "        'B15.%',   # HAV\n",
    "        'B16.%',   # HBV\n",
    "        'B17.%',   # other acute viral hepatitis (including HCV)\n",
    "        'B18.%',   # chronic hepatitis\n",
    "        'B19.%',   # unspecified chronic hepatitis\n",
    "        'B20',     # HIV\n",
    "        'B02.%',   # Varicella Zoster \n",
    "    ], \n",
    "    context='ICD-10'\n",
    ") | Diagnosis(\n",
    "    code=[\n",
    "        '070.%',\n",
    "        '071.%',\n",
    "        '072.%',\n",
    "        '073.%',\n",
    "        '074.%',\n",
    "        '075.%',\n",
    "        '076.%',\n",
    "        '077.%',\n",
    "        '078.%',\n",
    "        '079.%',\n",
    "        '042',     # HIV\n",
    "        '053.%',   # Varicella Zoster\n",
    "    ],\n",
    "    context='ICD-9'\n",
    ")"
   ]
  },
  {
   "cell_type": "code",
   "execution_count": null,
   "metadata": {
    "scrolled": true
   },
   "outputs": [],
   "source": [
    "viral_longitudinality = condition_occurrence_distribution(\n",
    "    cohort=cohort, \n",
    "    condition=viral_cond,\n",
    "    time_windows=[[0, 7], [0, 30], [0, 180], [0, 365], [0, math.inf]]\n",
    ")"
   ]
  },
  {
   "cell_type": "code",
   "execution_count": null,
   "metadata": {
    "scrolled": true
   },
   "outputs": [],
   "source": [
    "incidence_increase = compare_condition_incidence_in_cohort(\n",
    "    condition=viral_cond, \n",
    "    cohort=cohort,\n",
    "    lower_limit=-365, \n",
    "    upper_limit=365,\n",
    "    should_calculate_increase=True, \n",
    "    is_aggregated_condition=True\n",
    ")[0]"
   ]
  },
  {
   "cell_type": "code",
   "execution_count": null,
   "metadata": {
    "scrolled": false
   },
   "outputs": [],
   "source": [
    "incidence_increase"
   ]
  },
  {
   "cell_type": "code",
   "execution_count": null,
   "metadata": {
    "scrolled": true
   },
   "outputs": [],
   "source": [
    "condition_occurrence_quantiles_for_days(\n",
    "    cohort, \n",
    "    viral_cond, \n",
    "    0, \n",
    "    365, \n",
    "    [7, 30, 90, 180, 365]\n",
    ")['quantiles']"
   ]
  },
  {
   "cell_type": "markdown",
   "metadata": {},
   "source": [
    "# When were the transplants done?"
   ]
  },
  {
   "cell_type": "code",
   "execution_count": null,
   "metadata": {
    "scrolled": true
   },
   "outputs": [],
   "source": [
    "df = cohort.merge_patient_data()\n",
    "l = (df.age_in_days / 365) + (df.date_of_birth.astype(str).str[:4].astype('float64'))\n",
    "\n",
    "l.min(), l.max()"
   ]
  },
  {
   "cell_type": "code",
   "execution_count": null,
   "metadata": {},
   "outputs": [],
   "source": [
    "l.hist(bins=30)"
   ]
  }
 ],
 "metadata": {
  "kernelspec": {
   "display_name": "Python 3",
   "language": "python",
   "name": "python3"
  },
  "language_info": {
   "codemirror_mode": {
    "name": "ipython",
    "version": 3
   },
   "file_extension": ".py",
   "mimetype": "text/x-python",
   "name": "python",
   "nbconvert_exporter": "python",
   "pygments_lexer": "ipython3",
   "version": "3.6.9"
  }
 },
 "nbformat": 4,
 "nbformat_minor": 2
}
